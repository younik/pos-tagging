{
  "nbformat": 4,
  "nbformat_minor": 0,
  "metadata": {
    "colab": {
      "name": "Assignment_1.ipynb",
      "provenance": [],
      "collapsed_sections": [
        "ys_LD3OQc7Si"
      ]
    },
    "kernelspec": {
      "name": "python3",
      "display_name": "Python 3"
    },
    "accelerator": "GPU"
  },
  "cells": [
    {
      "cell_type": "markdown",
      "metadata": {
        "id": "-WeCeITXoxLf"
      },
      "source": [
        "# Assignment 1\n",
        "\n",
        "**Due to**: 23/12/2021 (dd/mm/yyyy)\n",
        "\n",
        "**Credits**: Andrea Galassi, Federico Ruggeri, Paolo Torroni\n",
        "\n",
        "**Summary**: Part-of Speech (POS) tagging as Sequence Labelling using Recurrent Neural Architectures"
      ]
    },
    {
      "cell_type": "markdown",
      "metadata": {
        "id": "a4_wqPdlBcKS"
      },
      "source": [
        "# Intro\n",
        "\n",
        "In this assignment  we will ask you to perform POS tagging using neural architectures\n",
        "\n",
        "You are asked to follow these steps:\n",
        "*   Download the corpora and split it in training and test sets, structuring a dataframe.\n",
        "*   Embed the words using GloVe embeddings\n",
        "*   Create a baseline model, using a simple neural architecture\n",
        "*   Experiment doing small modifications to the baseline model, choose hyperparameters using the validation set\n",
        "*   Evaluate your two best model\n",
        "*   Analyze the errors of your model\n",
        "\n",
        "\n",
        "**Task**: given a corpus of documents, predict the POS tag for each word\n",
        "\n",
        "**Corpus**:\n",
        "Ignore the numeric value in the third column, use only the words/symbols and its label. \n",
        "The corpus is available at:\n",
        "https://raw.githubusercontent.com/nltk/nltk_data/gh-pages/packages/corpora/dependency_treebank.zip\n",
        "\n",
        "**Splits**: documents 1-100 are the train set, 101-150 validation set, 151-199 test set.\n",
        "\n",
        "\n",
        "**Features**: you MUST use GloVe embeddings as the only input features to the model.\n",
        "\n",
        "**Splitting**: you can decide to split documents into sentences or not, the choice is yours.\n",
        "\n",
        "**I/O structure**: The input data will have three dimensions: 1-documents/sentences, 2-token, 3-features; for the output there are 2 possibilities: if you use one-hot encoding it will be 1-documents/sentences, 2-token labels, 3-classes, if you use a single integer that indicates the number of the class it will be 1-documents/sentences, 2-token labels.\n",
        "\n",
        "**Baseline**: two layers architecture: a Bidirectional LSTM layer and a Dense/Fully-Connected layer on top; the choice of hyper-parameters is yours.\n",
        "\n",
        "**Architectures**: experiment using a GRU instead of the LSTM, adding an additional LSTM layer, and adding an additional dense layer; do not mix these variantions.\n",
        "\n",
        "\n",
        "**Training and Experiments**: all the experiments must involve only the training and validation sets.\n",
        "\n",
        "**Evaluation**: in the end, only the two best models of your choice (according to the validation set) must be evaluated on the test set. The main metric must be F1-Macro computed between the various part of speech. DO NOT CONSIDER THE PUNCTUATION CLASSES.\n",
        "\n",
        "**Metrics**: the metric you must use to evaluate your final model is the F1-macro, WITHOUT considering punctuation/symbols classes; during the training process you can use accuracy because you can't use the F1 metric unless you use a single (gigantic) batch because there is no way to aggregate \"partial\" F1 scores computed on mini-batches.\n",
        "\n",
        "**Discussion and Error Analysis** : verify and discuss if the results on the test sets are coherent with those on the validation set; analyze the errors done by your model, try to understand which may be the causes and think about how to improve it.\n",
        "\n",
        "**Report**: you are asked to deliver the code of your experiments and a small pdf report of about 2 pages; the pdf must begin with the names of the people of your team and a small abstract (4-5 lines) that sums up your findings.\n",
        "\n",
        "# Out Of Vocabulary (OOV) terms\n",
        "\n",
        "How to handle words that are not in GloVe vocabulary?\n",
        "You can handle them as you want (random embedding, placeholder, whatever!), but they must be STATIC embeddings (you cannot train them).\n",
        "\n",
        "But there is a very important caveat! As usual, the element of the test set must not influence the elements of the other splits!\n",
        "\n",
        "So, when you compute new embeddings for train+validation, you must forget about test documents.\n",
        "The motivation is to emulate a real-world scenario, where you select and train a model in the first stage, without knowing nothing about the testing environment.\n",
        "\n",
        "For implementation convenience, you CAN use a single vocabulary file/matrix/whatever. The principle of the previous point is that the embeddings inside that file/matrix must be generated independently for train and test splits.\n",
        "\n",
        "Basically in a real-world scenario, this is what would happen:\n",
        "1. Starting vocabulary V1 (in this assignment, GloVe vocabulary)\n",
        "2. Compute embeddings for terms out of vocabulary V1 (OOV1) of the training split \n",
        "3. Add embeddings to the vocabulary, so to obtain vocabulary V2=V1+OOV1\n",
        "4. Training of the model(s)\n",
        "5. Compute embeddings for terms OOV2 of the validation split \n",
        "6. Add embeddings to the vocabulary, so to obtain vocabulary V3=V1+OOV1+OOV2\n",
        "7. Validation of the model(s)\n",
        "8. Compute embeddings for terms OOV3 of the test split \n",
        "9. Add embeddings to the vocabulary, so to obtain vocabulary V4=V1+OOV1+OOV2+OOV3\n",
        "10. Testing of the final model\n",
        "\n",
        "In this case, where we already have all the documents, we can simplify the process a bit, but the procedure must remain rigorous.\n",
        "\n",
        "1. Starting vocabulary V1 (in this assignment, GloVe vocabulary)\n",
        "2. Compute embeddings for terms out of vocabulary V1 (OOV1) of the training split \n",
        "3. Add embeddings to the vocabulary, so to obtain vocabulary V2=V1+OOV1\n",
        "4. Compute embeddings for terms OOV2 of the validation split \n",
        "5. Add embeddings to the vocabulary, so to obtain vocabulary V3=V1+OOV1+OOV2\n",
        "6. Compute embeddings for terms OOV3 of the test split \n",
        "7. Add embeddings to the vocabulary, so to obtain vocabulary V4=V1+OOV1+OOV2\n",
        "8. Training of the model(s)\n",
        "9. Validation of the model(s)\n",
        "10. Testing of the final model\n",
        "\n",
        "Step 2 and step 6 must be completely independent of each other, for what concerns the method and the documents. But they can rely on the previous vocabulary (V1 for step 2 and V3 for step 6)\n",
        "THEREFORE if a word is present both in the training set and the test split and not in the starting vocabulary, its embedding is computed in step 2) and it is not considered OOV anymore in step 6).\n",
        "\n",
        "# Report\n",
        "The report must not be just a copy and paste of graphs and tables!\n",
        "\n",
        "The report must not be longer than 2 pages and must contain:\n",
        "* The names of the member of your team\n",
        "* A short abstract (4-5 lines) that sum ups everything\n",
        "* A general description of the task you have addressed and how you have addressed it\n",
        "* A short description of the models you have used\n",
        "* Some tables that sum up your findings in validation and test and a discussion of those results\n",
        "* The most relevant findings of your error analysis\n",
        "\n",
        "# Evaluation Criterion\n",
        "\n",
        "The goal of this assignment is not to prove you can find best model ever, but to face a common task, structure it correctly, and follow a correct and rigorous experimental procedure.\n",
        "In other words, we don't care if you final models are awful as long as you have followed the correct procedure and wrote a decent report.\n",
        "\n",
        "The score of the assignment will be computed roughly as follows\n",
        "* 1 point for the general setting of the problem\n",
        "* 1 point for the handling of OOV terms\n",
        "* 1 point for the models\n",
        "* 1 point for train-validation-test procedure\n",
        "* 2 point for the discussion of the results, error analysis, and report\n",
        "\n",
        "This distribution of scores is tentative and we may decide to alter it at any moment.\n",
        "We also reserve the right to assign a small bonus (0.5 points) to any assignment that is particularly worthy. Similarly, in case of grave errors, we may decide to assign an equivalent malus (-0.5 points).\n",
        "\n",
        "# Contacts\n",
        "\n",
        "In case of any doubt, question, issue, or help we highly recommend you to check the [course useful material](https://virtuale.unibo.it/pluginfile.php/1036039/mod_resource/content/2/NLP_Course_Useful_Material.pdf) for additional information, and to use the Virtuale forums to discuss with other students.\n",
        "\n",
        "You can always contact us at the following email addresses. To increase the probability of a prompt response, we reccomend you to write to both the teaching assistants.\n",
        "\n",
        "Teaching Assistants:\n",
        "\n",
        "* Andrea Galassi -> a.galassi@unibo.it\n",
        "* Federico Ruggeri -> federico.ruggeri6@unibo.it\n",
        "\n",
        "Professor:\n",
        "\n",
        "* Paolo Torroni -> p.torroni@unibo.it\n",
        "\n",
        "\n",
        "# FAQ\n",
        "* You can use a non-trainable Embedding layer to load the glove embeddings\n",
        "* You can use any library of your choice to implement the networks. Two options are tensorflow/keras or pythorch. Both these libraries have all the classes you need to implement these simple architectures and there are plenty of tutorials around, where you can learn how to use them."
      ]
    },
    {
      "cell_type": "markdown",
      "metadata": {
        "id": "D8PgAJyy40SY"
      },
      "source": [
        "# Import libraries & download dataset"
      ]
    },
    {
      "cell_type": "code",
      "metadata": {
        "id": "caNU8UeFxupB",
        "colab": {
          "base_uri": "https://localhost:8080/"
        },
        "outputId": "011a8dfa-f3fb-46d4-b9e1-d55ddfe87625"
      },
      "source": [
        "import os\n",
        "import pandas as pd\n",
        "import numpy as np\n",
        "import matplotlib.pyplot as plt\n",
        "import csv\n",
        "import seaborn as sns  \n",
        "from sklearn.metrics import confusion_matrix, classification_report, ConfusionMatrixDisplay\n",
        "from sklearn.preprocessing import OrdinalEncoder\n",
        "\n",
        "import torch\n",
        "import torch.nn as nn\n",
        "from torch.utils.data import Dataset, DataLoader\n",
        "from torch.utils.tensorboard import SummaryWriter\n",
        "from torch.nn.utils.rnn import pad_sequence\n",
        "import torch.optim as optim\n",
        "from torch.optim.lr_scheduler import ReduceLROnPlateau\n",
        "\n",
        "!pip install pytorch-crf\n",
        "import torchcrf\n",
        "\n",
        "from tqdm import tqdm\n",
        "from typing import Optional\n",
        "from prettytable import PrettyTable\n",
        "\n",
        "import gensim\n",
        "import gensim.downloader as gloader  \n",
        "\n",
        "!pip install python-Levenshtein\n",
        "import Levenshtein\n",
        "\n",
        "import itertools\n",
        "from functools import partial\n",
        "import re\n",
        "\n",
        "device = torch.device(\"cuda\" if torch.cuda.is_available() else \"cpu\")"
      ],
      "execution_count": 1,
      "outputs": [
        {
          "output_type": "stream",
          "name": "stdout",
          "text": [
            "Collecting python-Levenshtein\n",
            "  Downloading python-Levenshtein-0.12.2.tar.gz (50 kB)\n",
            "\u001b[?25l\r\u001b[K     |██████▌                         | 10 kB 16.7 MB/s eta 0:00:01\r\u001b[K     |█████████████                   | 20 kB 18.0 MB/s eta 0:00:01\r\u001b[K     |███████████████████▌            | 30 kB 10.7 MB/s eta 0:00:01\r\u001b[K     |██████████████████████████      | 40 kB 8.8 MB/s eta 0:00:01\r\u001b[K     |████████████████████████████████| 50 kB 3.2 MB/s \n",
            "\u001b[?25hRequirement already satisfied: setuptools in /usr/local/lib/python3.7/dist-packages (from python-Levenshtein) (57.4.0)\n",
            "Building wheels for collected packages: python-Levenshtein\n",
            "  Building wheel for python-Levenshtein (setup.py) ... \u001b[?25l\u001b[?25hdone\n",
            "  Created wheel for python-Levenshtein: filename=python_Levenshtein-0.12.2-cp37-cp37m-linux_x86_64.whl size=149869 sha256=8f08f64b0b87d21826feb0f7f5373d229a81fb1d38ffe3538642d1438d587128\n",
            "  Stored in directory: /root/.cache/pip/wheels/05/5f/ca/7c4367734892581bb5ff896f15027a932c551080b2abd3e00d\n",
            "Successfully built python-Levenshtein\n",
            "Installing collected packages: python-Levenshtein\n",
            "Successfully installed python-Levenshtein-0.12.2\n",
            "Collecting pytorch-crf\n",
            "  Downloading pytorch_crf-0.7.2-py3-none-any.whl (9.5 kB)\n",
            "Installing collected packages: pytorch-crf\n",
            "Successfully installed pytorch-crf-0.7.2\n"
          ]
        }
      ]
    },
    {
      "cell_type": "code",
      "metadata": {
        "id": "y2j0JgX8wpjH",
        "colab": {
          "base_uri": "https://localhost:8080/"
        },
        "outputId": "d38f37c4-4739-434a-bc7d-870db61e4437"
      },
      "source": [
        "!wget https://raw.githubusercontent.com/nltk/nltk_data/gh-pages/packages/corpora/dependency_treebank.zip\n",
        "!unzip -q dependency_treebank.zip"
      ],
      "execution_count": 2,
      "outputs": [
        {
          "output_type": "stream",
          "name": "stdout",
          "text": [
            "--2021-12-20 17:17:39--  https://raw.githubusercontent.com/nltk/nltk_data/gh-pages/packages/corpora/dependency_treebank.zip\n",
            "Resolving raw.githubusercontent.com (raw.githubusercontent.com)... 185.199.109.133, 185.199.110.133, 185.199.108.133, ...\n",
            "Connecting to raw.githubusercontent.com (raw.githubusercontent.com)|185.199.109.133|:443... connected.\n",
            "HTTP request sent, awaiting response... 200 OK\n",
            "Length: 457429 (447K) [application/zip]\n",
            "Saving to: ‘dependency_treebank.zip’\n",
            "\n",
            "dependency_treebank 100%[===================>] 446.71K  --.-KB/s    in 0.04s   \n",
            "\n",
            "2021-12-20 17:17:39 (11.6 MB/s) - ‘dependency_treebank.zip’ saved [457429/457429]\n",
            "\n"
          ]
        }
      ]
    },
    {
      "cell_type": "markdown",
      "metadata": {
        "id": "onQNYcuwCTiW"
      },
      "source": [
        "# Dataframe creation and split into train, val and test set\n",
        "\n",
        "The way to split the dataset is already defined:  \n",
        "train set : documents 1-100;  \n",
        "validation set : documents 101-150;  \n",
        "test set : documents 151-199;"
      ]
    },
    {
      "cell_type": "code",
      "metadata": {
        "id": "EADZWC3txls8"
      },
      "source": [
        "corpus_path = 'dependency_treebank/'\n",
        "file_list = sorted(os.listdir(corpus_path))\n",
        "\n",
        "dfs = [pd.read_csv(corpus_path + f, sep='\\t', names=['word', 'label', 'foo']).drop('foo', 1)\n",
        "          for f in file_list]\n",
        "\n",
        "\n",
        "dataset = pd.concat(dfs, ignore_index=True)\n",
        "dataset['word'] = dataset['word'].transform(lambda x : x.lower())  \n",
        "\n",
        "train_set = pd.concat(dfs[:100], ignore_index=True)\n",
        "train_set['word'] = train_set['word'].transform(lambda x : x.lower())\n",
        "\n",
        "val_set = pd.concat(dfs[100:150], ignore_index=True)\n",
        "val_set['word'] = val_set['word'].transform(lambda x : x.lower())\n",
        "\n",
        "test_set = pd.concat(dfs[150:199], ignore_index=True)\n",
        "test_set['word'] = test_set['word'].transform(lambda x : x.lower())\n",
        "\n",
        "labels = dataset['label'].unique()\n",
        "words = dataset['word'].unique()"
      ],
      "execution_count": 3,
      "outputs": []
    },
    {
      "cell_type": "code",
      "source": [
        "encoder = OrdinalEncoder(dtype=np.int64)\n",
        "encoder.fit(labels.reshape(-1, 1)) "
      ],
      "metadata": {
        "id": "4yRzzo9rgC8z",
        "outputId": "32195634-23de-439a-80a2-8d0576019cbb",
        "colab": {
          "base_uri": "https://localhost:8080/"
        }
      },
      "execution_count": 4,
      "outputs": [
        {
          "output_type": "execute_result",
          "data": {
            "text/plain": [
              "OrdinalEncoder(dtype=<class 'numpy.int64'>)"
            ]
          },
          "metadata": {},
          "execution_count": 4
        }
      ]
    },
    {
      "cell_type": "code",
      "source": [
        "EMBEDDING_SIZE = 100\n",
        "embedder = gloader.load(f'glove-wiki-gigaword-{EMBEDDING_SIZE}')"
      ],
      "metadata": {
        "id": "ouMAodz5jQh7",
        "outputId": "f075f777-15ab-46a0-8bdd-9b3f6deee5c1",
        "colab": {
          "base_uri": "https://localhost:8080/"
        }
      },
      "execution_count": 5,
      "outputs": [
        {
          "output_type": "stream",
          "name": "stdout",
          "text": [
            "[==================================================] 100.0% 128.1/128.1MB downloaded\n"
          ]
        }
      ]
    },
    {
      "cell_type": "markdown",
      "source": [
        "We started splitting documents in sentences using \n",
        "punctuation labelled as '.' as end of sentences."
      ],
      "metadata": {
        "id": "6thVZ3VqkX1l"
      }
    },
    {
      "cell_type": "code",
      "metadata": {
        "id": "ZQIUPI3h7DCl"
      },
      "source": [
        "train_stops = train_set[(train_set['label']=='.')].index\n",
        "max_length = max(train_stops[1:] - train_stops[:-1])\n",
        "\n",
        "val_stops = val_set[(val_set['label']=='.')].index\n",
        "max_length_val = max(val_stops[1:] - val_stops[:-1])\n",
        "\n",
        "test_stops = test_set[(test_set['label']=='.')].index\n",
        "max_length_test = max(test_stops[1:] - test_stops[:-1])\n",
        "\n",
        "\n",
        "OOV_train = set(train_set['word'].unique()).difference(set(embedder.vocab.keys()))\n",
        "OOV_val = set(val_set['word'].unique()).difference(set(embedder.vocab.keys()))\n",
        "OOV_test = set(test_set['word'].unique()).difference(set(embedder.vocab.keys()))"
      ],
      "execution_count": 6,
      "outputs": []
    },
    {
      "cell_type": "code",
      "source": [
        "print('Before pre-processing:')\n",
        "print(\"Train set unique words:\", len(train_set['word'].unique()))\n",
        "print('OOV:', len(OOV_train))\n",
        "print('Max sentence length', max_length)\n",
        "print(\"\\nValidation set unique words:\", len(val_set['word'].unique()))\n",
        "print('Max sentence length', max_length_val)\n",
        "print('OOV:', len(OOV_val))\n",
        "print(\"\\nTest set unique words:\", len(test_set['word'].unique()))\n",
        "print('Max sentence length', max_length_test)\n",
        "print('OOV:', len(OOV_test))"
      ],
      "metadata": {
        "id": "IIHU5fcWj8bd",
        "colab": {
          "base_uri": "https://localhost:8080/"
        },
        "outputId": "95f0a177-74a3-490f-a691-e2fd69acbd0a"
      },
      "execution_count": 7,
      "outputs": [
        {
          "output_type": "stream",
          "name": "stdout",
          "text": [
            "Before pre-processing:\n",
            "Train set unique words: 7404\n",
            "OOV: 359\n",
            "Max sentence length 250\n",
            "\n",
            "Validation set unique words: 5420\n",
            "Max sentence length 80\n",
            "OOV: 213\n",
            "\n",
            "Test set unique words: 3407\n",
            "Max sentence length 80\n",
            "OOV: 161\n"
          ]
        }
      ]
    },
    {
      "cell_type": "markdown",
      "source": [
        "Then we tried to improve the sentences splitting using also the semi-column"
      ],
      "metadata": {
        "id": "Oomp6hyQkd-h"
      }
    },
    {
      "cell_type": "code",
      "source": [
        "train_stops = train_set[(train_set['label']=='.') | (train_set['word']==';')].index\n",
        "max_length = max(train_stops[1:] - train_stops[:-1])\n",
        "\n",
        "val_stops = val_set[(val_set['label']=='.') | (val_set['word']==';')].index\n",
        "max_length_val = max(val_stops[1:] - val_stops[:-1])\n",
        "\n",
        "test_stops = test_set[(test_set['label']=='.') | (test_set['word']==';')].index\n",
        "max_length_test = max(test_stops[1:] - test_stops[:-1])"
      ],
      "metadata": {
        "id": "bMrXaArHkAJI"
      },
      "execution_count": 8,
      "outputs": []
    },
    {
      "cell_type": "code",
      "source": [
        "print('After processing')\n",
        "print('Max sentence length in Train Set:', max_length)\n",
        "print('Max sentence length in Validation Set:', max_length_val)\n",
        "print('Max sentence length in Test Set:', max_length_test)"
      ],
      "metadata": {
        "id": "eC-lWvmzkEmh",
        "colab": {
          "base_uri": "https://localhost:8080/"
        },
        "outputId": "d8e071fb-4485-4594-86cf-408f20d59c11"
      },
      "execution_count": 9,
      "outputs": [
        {
          "output_type": "stream",
          "name": "stdout",
          "text": [
            "After processing\n",
            "Max sentence length in Train Set: 67\n",
            "Max sentence length in Validation Set: 80\n",
            "Max sentence length in Test Set: 72\n"
          ]
        }
      ]
    },
    {
      "cell_type": "code",
      "source": [
        "def index_of_phrase(stops, word_idx):\n",
        "  return np.count_nonzero(word_idx > stops)\n",
        "\n",
        "print(\"Grouping train set\")\n",
        "train_index_phrase = np.vectorize(partial(index_of_phrase, train_stops))\n",
        "train_grouped = train_set.groupby(by=train_index_phrase)\n",
        "\n",
        "print(\"Grouping val set\")\n",
        "val_index_phrase = np.vectorize(partial(index_of_phrase, val_stops))\n",
        "val_grouped = val_set.groupby(by=val_index_phrase)\n",
        "\n",
        "print(\"Grouping test set\")\n",
        "test_index_phrase = np.vectorize(partial(index_of_phrase, test_stops))\n",
        "test_grouped = test_set.groupby(by=test_index_phrase)"
      ],
      "metadata": {
        "id": "y3RGGvmSkrJW",
        "outputId": "0b116fc2-a4f4-42e1-e6ae-9ec6a7024455",
        "colab": {
          "base_uri": "https://localhost:8080/"
        }
      },
      "execution_count": 10,
      "outputs": [
        {
          "output_type": "stream",
          "name": "stdout",
          "text": [
            "Grouping train set\n",
            "Grouping val set\n",
            "Grouping test set\n"
          ]
        }
      ]
    },
    {
      "cell_type": "markdown",
      "source": [
        "# OOV processing"
      ],
      "metadata": {
        "id": "KDww18DUTYSJ"
      }
    },
    {
      "cell_type": "code",
      "source": [
        "OOV = set(words).difference(set(embedder.vocab.keys()))\n",
        "print(OOV)\n",
        "print(\"\\nThere are\", len(OOV), \"OOV\")"
      ],
      "metadata": {
        "id": "8YSrcLB6ThSm",
        "colab": {
          "base_uri": "https://localhost:8080/"
        },
        "outputId": "217dd4cd-867c-41fb-fdae-b559353e5e8b"
      },
      "execution_count": 11,
      "outputs": [
        {
          "output_type": "stream",
          "name": "stdout",
          "text": [
            "{'akerfeldt', 'purhasing', 'corn-buying', 'blue-chips', 'morale-damaging', 'guber\\\\/peters', 'custom-chip', '1\\\\/2', '37-a-share', 'multi-crystal', '263.07', 'coche-dury', 'cotran', 'passenger-car', 'land-idling', '7.272', 'certin', 'marketing-communications', 'information-services', 'integra-a', '3\\\\/8', 'equal-opportunity', 'foreign-stock', '9,118', 'anti-takeover', '1.916', 'disaster-assistance', 'high-rate', 'ingersoll-rand', 'student-test', 'interleukin-3', '-lcb-', 'one-newspaper', 'telephone-information', 'lookee-loos', 'shokubai', 'monchecourt', 'test-practice', '8.575', 'school-board', 'non-biodegradable', 'credit-rating', '352.7', 'nesb', 'buy-outs', 'automotive-parts', 'bronces', 'mutual-fund', '372.9', 'test-drive', 'much-larger', 'garden-variety', 'red-blooded', 'wheel-loader', 'food-industry', 'tarwhine', 'price-support', 'crocidolite', '8.467', 'labor-backed', 'crystal-lattice', 'buttoned-down', 'rate-sensitive', 'trockenbeerenauslesen', '319.75', '1738.1', 'bottom-line', 'investor-relations', 'industrial-production', 'school-research', 'search-and-seizure', '271,124', '361,376', 'chong-sik', 'centerbank', 'macmillan\\\\/mcgraw', 'citizen-sparked', 'small-company', '3057', '226,570,380', 'circuit-board', '3.253', 'more-advanced', '11\\\\/16', '26,956', 'crookery', '5\\\\/8', '142.85', '372.14', 'food-shop', '82,389', 'airline-related', 'top-yielding', 'weapons-modernization', 'front-seat', 'breakey', 'state-supervised', 'three-lawyer', '5.2180', 'drag-down', 'three-sevenths', 'forest-products', 'intellectual-property', 'lafite-rothschild', 'johnson-era', 'deposits-a', '5.435', 'when-issued', 'hadson', 'four-foot-high', 'jalaalwalikraam', 'anti-miscarriage', 'anti-morning-sickness', 'index-options', 'hummerstone', '566.54', 'mininum-wage', '2\\\\/32', 'ednie', 'low-ball', 'minimum-wage', 'unfair-trade', 'derchin', 'two-time-losers', '811.9', '630.9', '494.50', '100-megabyte', 'high-balance', 'incentive-bonus', 'waymar', 'waertsilae', 'walbrecher', '143.80', 'asset-sale', 'cash-rich', '1\\\\/8', '456.64', 'program-trading', 'recession-inspired', 'contingency-fee', 'merger-related', 'computer-driven', 'pension-fund', 'home-market', 'automotive-lighting', '0.0085', 'new-home', 'inter-tel', 'insurance-company', 'investment-grade', 'lap-shoulder', 'news-american', 'early-retirement', '16\\\\/32', 'high-rolling', 'wtd', 'kalipharma', 'high-polluting', 'test-preparation', 'yeargin', 'pro-forma', '446.62', 'dydee', 'energy-services', '2,303,328', 'capital-markets', 'car-safety', 'money-fund', 'bellringers', 'more-efficient', 'big-ticket', 'arbitraging', 'weisfield', 'seven-million-ton', 'intecknings', '13.625', 'yet-to-be-formed', 'chafic', 'sticker-shock', 'sacramento-based', 'erbamont', 'non-callable', 'blood-cell', 'dollar-yen', '238,000-circulation', 'secilia', 'takeover-stock', 'stock-price', 'test-prep', 'midwesco', 'parts-engineering', '300-day', 'nih-appointed', 'lobsenz', '434.4', 'cray-3', '45-a-share', 'ft-se', 'auto-safety', 'yen-support', 'drobnick', 'rey\\\\/fawcett', 'odd-year', 'cleaner-burning', 'school-district', '9\\\\/32', 'direct-investment', 'long-tenured', 'odd-sounding', 'foldability', 'lynch-mob', '5,699', 'shirt-sleeved', 'prior-year', '126.15', 'headcount-control', '1.8415', 'nipponese', 'exxon-owned', 'family-planning', 'reupke', 'one-yen', 'norwick', 'aslacton', 'pricings', '237-seat', 'truth-in-lending', 'stock-index', 'subskill', '11-month-old', 'derel', '520-lawyer', 'twindam', '734.9', 'life-of-contract', '236.79', 'dust-up', 'corton-charlemagne', 'change-ringing', 'language-housekeeper', 'sino-u.s.', '38.875', 'uzi-model', '35564.43', 'year-earlier', 'mega-stadium', 'antitrust-law', 'flightiness', 'retin-a', 'revenue-desperate', 'melt-textured', 'tete-a-tete', 'machine-gun-toting', '70-a-share', 'polyproplene', '877,663', '352.9', 'times-stock', 'propagandizes', 'scypher', '382-37', 'nylev', '43.875', 'lezovich', 'subindustry', 'mouth-up', '170,262', 'delwin', 'unenticing', 'boorse', 'disputada', '13,056', 'enzor', 'louisiana-pacific', 'n.v', 'replacement-car', 'freudtoy', '737.5', 'card-member', 'freshbake', '18,444', 'index-related', 'subminimum', '62%-owned', 'c.j.b.', 'nearly-30', 'preparatives', '188.84', '220.45', 'glenham', '84-month', '29year', 'wine-buying', 'pathlogy', 'manmade-fiber', 'pianist-comedian', '278.7', 'veselich', 'hasbrouk', 'sulfur-dioxide', 'autions', 'index-fund', 'express-buick', 'limited-partnership', '47.125', 'built-from-kit', '377.60', 'ratners', '387.8', 'price-depressing', 'car-care', 'co-developers', '30,537', '1937-40', '190-point', 'micronite', '1.457', 'hart-scott-rodino', 'savings-and-loan', '2141.7', 'financial-services', '-lrb-', '30,841', 'prize-fighter', 'six-bottle', 'rubinfien', 'thin-lipped', 'beer-belly', 'page-one', 'product-design', 'substance-abusing', '967,809', 'colorliner', '2691.19', 'anti-abortionists', 'insider-trading', 'pre-1917', 'video-viewing', 'foreign-led', 'test-coaching', 'anti-program', 'gates-warren', 'eight-count', 'protein-1', 'liquid-nitrogen', 'intelogic', 'life-insurance', 'yttrium-containing', 'above-market', '705.6', '5.276', 'radio-station', 'malizia', 'satrum', 'superdot', '19-month-old', 'ghkm', 'ctbs', 'collective-bargaining', 'less-than-brilliant', 'bread-and-butter', 'asset-valuation', 'profit-taking', 'macheski', '55-a-share', '87-store', '1.1650', '38.375', 'side-crash', 'two-sevenths', '3,040,000', 'computer-system-design', 'new-car', 'higher-salaried', 'stock-selection', 'one-upsmanship', 'near-limit', 'industry-supported', 'old-house', 'wfrr', 'housing-assistance', '415.6', 'larger-than-normal', 'amphobiles', 'free-enterprise', '271-147', '374.20', '35500.64', 'mariotta', 'write-downs', '1.637', '14,821', '-rrb-', '13\\\\/16', 'minicrash', 'newspaper-printing', '300-a-share', '3,288,453', 'million-a-year', 'abortion-related', '4.898', '71,309', 'tiphook', 'anti-deficiency', 'sometimes-tawdry', '230-215', '12,252', 'detective-story', '497.34', 'twin-jet', '129.91', 'flim-flammery', 'chinchon', 'money-center', 'capital-gains', 'c.d.s', 'nofzinger', '50\\\\/50', 'anku', '2,050-passenger', 'church-goers', 'cash-and-stock', 'c-90', 'bank-backed', '7\\\\/8', 'noncompetitively', 'several-year', 'vinken', '500,004', 'index-arbitrage', 'post-hearing', 'constitutional-law', 'market-makers', '449.04', '1.5755', '7.458', 'cost-control', 'savers\\\\/investors', 'mutchin', 'yen-denominated', 'trettien', '16,072', 'heebie-jeebies', 'veraldi', 'sometimes-exhausting', 'stock-specialist', 'sport-utility', 'stirlen', 'highest-pitched', 'sub-markets', 'bumkins', 'acid-rain', 'ariail', '12\\\\/32', '143.08', '11,762', '1\\\\/10th', 'yoshihashi', 're-thought', 'senate-house', '236.74', 'tire-kickers', '3\\\\/4', 'stock-picking', 'chilver', 'car-development', '120-a-share', '415.8', 'building-products', 'year-ago', 'colonsville', 'alurralde', 'identity-management', 'continuingly', '3436.58', '3648.82', '14\\\\/32', 'school-improvement', '2645.90', 'jerritts', 'security-type', '2160.1', '62.625', 'lower-priority', '142.84', 'cents-a-unit', 'unicorp', 'diceon', '158,666', 'water-authority', 'pro-iranian', 'cop-killer', 'prevalance', 'iran\\\\/contra', 'electric-utility', 'clean-air', '23,403', 'we-japanese', '95.09', 'futures-related', 'training-wage', '7\\\\/16', 'northy', 'synergistics', 'pre-1933', 'gingl', 'floating-rate', 'sub-segments', 'mortgage-based', 'rope-sight', 'tissue-transplant', 'ntg', '4,393,237', '14.', 'romanee-conti', '361.8', 'vitulli', 'fetal-tissue', 'landonne', '20-stock', 'severable', '292.32', 'bald-faced', 'lentjes', 'arighi', '16.125', 'arbitrage-related', '95,142', 'most-likely-successor', 'summer\\\\/winter', '34.625', 'achievement-test', 'dead-eyed', 'low-ability', 'junk-bond', 'acquisition-minded', 'securities-based', 'wheeland', 'social-studies', 'computer-services', 'samnick', 'pattenden', 'house-senate', 'purepac', '2163.2', 'mehrens', 'pennview', 'seven-yen', 'copper-rich', 'property\\\\/casualty', 'bell-ringer', '234.4', 'diloreto', '11,390,000', '300-113', 'one-house', 'g.m.b', 'safe-deposit', 'roof-crush', 'light-truck', 'potables', \"creator's\", '127.03', '6\\\\/2', 'trading-company', '608,413', 'sept.30', 'univest', '36-store', '1206.26', '3,250,000', 'lightning-fast', 'egnuss', 'phacoflex', 'heavy-truck', 'besuboru', 'greenmailer', 'txo', '436.01', 'solaia', 'nissho-iwai', '100,980', 'anti-china', 'rexinger', 'triple-c', 'super-absorbent', '18-a-share', 'sidak', '2003\\\\/2007', 'disputado', 'cup-tote', 'college-bowl', '6,799', 'bermuda-based', '154,240,000', 'six-packs', 'equity-purchase', 'bridgestone\\\\/firestone', 'government-certified', 'less-serious', 'staff-reduction', 'ballantine\\\\/del', 'crane-safety', 'meinders', 'double-c', 'triple-a-rated', '40-megabyte', 'teacher-cadet', 'shareholder-rights', 'sewing-machine', 'superpremiums', '1\\\\/4', 'biondi-santi', 'sanderoff', '374.19', 'ac-130u', 'motor-home', '22\\\\/32', 'rapanelli', 'middle-ground', 'boogieman', 'durable-goods', 'executive-office', '8300s', 'sell-offs', '83,206', '131.01', 'money-market', 'incentive-backed', 'band-wagon', 'chemplus', 'one-country', 'nekoosa', 'moleculon', 'herald-american', 'per-share', 'macmillan\\\\/mcgraw-hill', 'sharedata', 'electrical-safety', 'fiber-end', 'hallwood', 'stock-manipulation', 'muscolina', 'war-rationed', '69-point', 'circuit-breaker', '143.93', '341.20', 'non-encapsulating', 'red-flag', '1928-33', 'market-share', '-rcb-', 'bankruptcy-law', 'pramual', 'launch-vehicle', '7.422', 'prudential-bache', 'wamre', 'sogo-shosha', 'makato', 'conn.based', 'ensrud', '90-cent-an-hour', 'single-lot', '618.1', 'anti-programmers', 'corporate-wide', 'quantitive', 'forest-product', 'nagymaros', 'then-speaker', 'subskills', 'heiwado', 'ex-dividend'}\n",
            "\n",
            "There are 676 OOV\n"
          ]
        }
      ]
    },
    {
      "cell_type": "code",
      "source": [
        "def isNumber(n):\n",
        "  if n == 'nan':\n",
        "    return False\n",
        "\n",
        "  try:\n",
        "    float(n)\n",
        "    return True\n",
        "  except:\n",
        "    return False\n",
        "\n",
        "vocab_keys = embedder.vocab.keys()\n",
        "vocab_array = np.array(list(vocab_keys))\n",
        "str_number_keys = [n for n in vocab_keys if isNumber(n)]\n",
        "number_keys = np.array(str_number_keys, dtype=np.float32)\n",
        "\n",
        "def correct_typo(word, threshold=1):\n",
        "  if word in vocab_keys:\n",
        "    return word\n",
        "\n",
        "  if re.match('[a-z]', word): #avoid to use Levenshtein on numbers\n",
        "    dist = lambda elem: Levenshtein.distance(word, elem)\n",
        "    distances = np.vectorize(dist)(vocab_array)\n",
        "    idx_min = np.argmin(distances)\n",
        "    if distances[idx_min] <= threshold:\n",
        "      return vocab_array[idx_min]\n",
        "\n",
        "  #maybe it is a number, convert to the nearest one\n",
        "  try:\n",
        "    word = word.replace(',', '')\n",
        "    number = float(word)\n",
        "\n",
        "    idx = np.argmin(np.abs(number_keys - number))\n",
        "    return str_number_keys[idx]\n",
        "\n",
        "  except:\n",
        "    pass\n",
        "\n",
        "\n",
        "\n",
        "def handling_OOV(words, OOV, embedder):\n",
        "  '''\n",
        "  Try to check if OOV are due to:\n",
        "     1)Decimal numbers; \n",
        "     2)words separated by special character (-, \\\\/)compuound words ;\n",
        "     3)Words compuound by two words present in the vocabulary; \n",
        "     4)Typos;\n",
        "  '''\n",
        "\n",
        "  '''\n",
        "  Words separated by special characters are encoded using the embedding of the two words.\n",
        "  For other words we just check the spelling and try to approximate number.\n",
        "  '''\n",
        "  print(\"Correcting numbers, typos and words separated by special characters.\")\n",
        "  for w in tqdm(OOV):\n",
        "   try:\n",
        "    if '-' in w:\n",
        "      subWords = w.split('-')\n",
        "      embedded_words = [embedder[correct_typo(subW)] for subW in subWords if subW]\n",
        "      embedder.add([w], [np.mean(embedded_words, axis=0)])\n",
        "    \n",
        "    elif '\\\\/' in w:\n",
        "      subWords = w.split('\\\\/')\n",
        "      embedded_words = [embedder[correct_typo(subW)] for subW in subWords]\n",
        "      embedder.add([w], [np.mean(embedded_words, axis=0)])\n",
        "\n",
        "    else:\n",
        "      embedder.add([w], [embedder[correct_typo(w)]])\n",
        "\n",
        "   except:\n",
        "    pass\n",
        "\n",
        "  \n",
        "  OOV = set(words).difference(set(embedder.vocab.keys()))\n",
        "  print(\"There are\", len(OOV), \"OOV\")\n",
        "  \n",
        "  # Compound words\n",
        "  print('Analyzing compound words')\n",
        "  for w in tqdm(OOV):\n",
        "    for i in range(2, len(w)-2):\n",
        "      w1 = w[:i]\n",
        "      w2 = w[i:]\n",
        "      if w1 in vocab_keys and w2 in vocab_keys:\n",
        "        embedding = (embedder[w1] + embedder[w2]) / 2\n",
        "        embedder.add([w], [embedding])\n",
        "        break\n",
        "\n",
        "  embedder.add(['62%-owned'], [(embedder['.62']+embedder['owned'])/2])\n",
        "\n",
        "  \n",
        "  OOV = set(words).difference(set(embedder.vocab.keys()))\n",
        "  print(\"There are\", len(OOV), \"OOV\")\n",
        "\n",
        "  # Typos\n",
        "  print('Correcting typos with Levenshtein distance up to 2')\n",
        "  for w in tqdm(OOV):\n",
        "   try:\n",
        "    new_w = correct_typo(w, threshold=2)\n",
        "    embedder.add([w], [embedder[new_w]])\n",
        "   except:\n",
        "    pass\n",
        "\n",
        "  OOV = set(words).difference(set(embedder.vocab.keys()))\n",
        "  print(\"\\nThere are\", len(OOV), \"OOV\")\n",
        "  return"
      ],
      "metadata": {
        "id": "3RIdJtLXk3vU"
      },
      "execution_count": 12,
      "outputs": []
    },
    {
      "cell_type": "code",
      "source": [
        "handling_OOV(words, OOV, embedder)"
      ],
      "metadata": {
        "id": "n0VSyq04k88D",
        "outputId": "d237b5b4-d3d4-4db8-eebb-3a407195444a",
        "colab": {
          "base_uri": "https://localhost:8080/"
        }
      },
      "execution_count": 13,
      "outputs": [
        {
          "output_type": "stream",
          "name": "stdout",
          "text": [
            "Correcting numbers, typos and words separated by special characters.\n"
          ]
        },
        {
          "output_type": "stream",
          "name": "stderr",
          "text": [
            "100%|██████████| 676/676 [01:04<00:00, 10.52it/s]\n"
          ]
        },
        {
          "output_type": "stream",
          "name": "stdout",
          "text": [
            "There are 76 OOV\n",
            "Analyzing compound words\n"
          ]
        },
        {
          "output_type": "stream",
          "name": "stderr",
          "text": [
            "100%|██████████| 76/76 [00:01<00:00, 62.74it/s]\n"
          ]
        },
        {
          "output_type": "stream",
          "name": "stdout",
          "text": [
            "There are 17 OOV\n",
            "Correcting typos with Levenshtein distance up to 2\n"
          ]
        },
        {
          "output_type": "stream",
          "name": "stderr",
          "text": [
            "100%|██████████| 17/17 [00:05<00:00,  3.09it/s]"
          ]
        },
        {
          "output_type": "stream",
          "name": "stdout",
          "text": [
            "\n",
            "There are 7 OOV\n"
          ]
        },
        {
          "output_type": "stream",
          "name": "stderr",
          "text": [
            "\n"
          ]
        }
      ]
    },
    {
      "cell_type": "code",
      "source": [
        "print('After processing')\n",
        "print('There are ', len(set(OOV_train).difference(set(embedder.vocab.keys()))), ' OOV in the train set')\n",
        "print('There are ', len(set(OOV_val).difference(set(embedder.vocab.keys()))), ' OOV in the val set')\n",
        "print('There are ', len(set(OOV_test).difference(set(embedder.vocab.keys()))), ' OOV in the test set')"
      ],
      "metadata": {
        "id": "Gq5jPOaHk-Lo",
        "colab": {
          "base_uri": "https://localhost:8080/"
        },
        "outputId": "a5880cf7-05d3-45a1-bcc9-bf52e5a6f521"
      },
      "execution_count": 14,
      "outputs": [
        {
          "output_type": "stream",
          "name": "stdout",
          "text": [
            "After processing\n",
            "There are  5  OOV in the train set\n",
            "There are  2  OOV in the val set\n",
            "There are  0  OOV in the test set\n"
          ]
        }
      ]
    },
    {
      "cell_type": "markdown",
      "source": [
        "Adding the remaining words randomly."
      ],
      "metadata": {
        "id": "ioBZxTEvfpLh"
      }
    },
    {
      "cell_type": "code",
      "source": [
        "OOV = set(words).difference(set(embedder.vocab.keys()))\n",
        "OOV_value = np.random.uniform(low=-0.05, high=0.05, size=(len(OOV), EMBEDDING_SIZE))\n",
        "embedder.add(list(OOV), OOV_value)"
      ],
      "metadata": {
        "id": "OgCb8v7RhFAi"
      },
      "execution_count": 15,
      "outputs": []
    },
    {
      "cell_type": "markdown",
      "metadata": {
        "id": "QsAgPfRqStWK"
      },
      "source": [
        "# Dataset analysis"
      ]
    },
    {
      "cell_type": "code",
      "metadata": {
        "colab": {
          "base_uri": "https://localhost:8080/"
        },
        "id": "LT0pl2UG0H0O",
        "outputId": "2f731e18-5fb3-4217-ab0c-aa3cc652a835"
      },
      "source": [
        "print(\"The max sentence length in training set is\", max_length)\n",
        "print(f'There are {len(train_stops)} sentences in the training set')\n",
        "print(f'There are {len(labels)} labels')\n",
        "print(f'There are {len(words)} unique words, {len(OOV)} of them are OOV')"
      ],
      "execution_count": 16,
      "outputs": [
        {
          "output_type": "stream",
          "name": "stdout",
          "text": [
            "The max sentence length in training set is 67\n",
            "There are 2046 sentences in the training set\n",
            "There are 45 labels\n",
            "There are 10947 unique words, 7 of them are OOV\n"
          ]
        }
      ]
    },
    {
      "cell_type": "markdown",
      "metadata": {
        "id": "ys_LD3OQc7Si"
      },
      "source": [
        "## Plot dataset distribution\n",
        "\n",
        "Train, validation and test set more or less follows the same distribution and they share similar characteristics.  \n",
        "Validation and test sets can be considered representative."
      ]
    },
    {
      "cell_type": "code",
      "metadata": {
        "id": "FsUG2Cee8vMU",
        "colab": {
          "base_uri": "https://localhost:8080/",
          "height": 0
        },
        "outputId": "349824f8-496f-43f7-85e2-7d56b358482c"
      },
      "source": [
        "train_counts = train_set.groupby(by='label').count()\n",
        "train_counts = train_counts / len(train_set) * 100\n",
        "val_counts = val_set.groupby(by='label').count()\n",
        "val_counts = val_counts / len(val_set) * 100\n",
        "val_counts = val_counts.reindex(labels, fill_value=0)\n",
        "test_counts = test_set.groupby(by='label').count()\n",
        "test_counts = test_counts / len(test_set) * 100\n",
        "test_counts = test_counts.reindex(labels, fill_value=0)\n",
        "ind = np.arange(len(labels))\n",
        "\n",
        "plt.figure(figsize=(18,6))\n",
        "width = 0.2       \n",
        "plt.bar(ind, train_counts.loc[labels, 'word'] , width, label='Train set');\n",
        "plt.bar(ind + width, val_counts.loc[labels, 'word'], width, label='Validation set');\n",
        "plt.bar(ind + 2*width, test_counts.loc[labels, 'word'], width, label='Test set');\n",
        "\n",
        "plt.xlabel('Labels');\n",
        "plt.ylabel('Count %');\n",
        "plt.title('Dataset distribution');\n",
        "\n",
        "plt.xticks(ind + width / 3, labels, rotation=45);\n",
        "plt.legend();"
      ],
      "execution_count": 17,
      "outputs": [
        {
          "output_type": "display_data",
          "data": {
            "image/png": "[encoded data removed]",
            "text/plain": [
              "<Figure size 1296x432 with 1 Axes>"
            ]
          },
          "metadata": {
            "needs_background": "light"
          }
        }
      ]
    },
    {
      "cell_type": "code",
      "metadata": {
        "id": "dpuY1KPGZzKn",
        "colab": {
          "base_uri": "https://localhost:8080/",
          "height": 0
        },
        "outputId": "120b11dd-7c68-49c9-ddb9-f5263a861398"
      },
      "source": [
        "counts_word = train_set.groupby('word').count().to_numpy()[:, 0]\n",
        "\n",
        "plt.plot(np.sort(counts_word)[::-1]);\n",
        "plt.yscale('log')\n",
        "\n",
        "plt.xlabel('Words');\n",
        "plt.ylabel('Count');\n",
        "plt.title('Word distribution (log scale)');"
      ],
      "execution_count": 18,
      "outputs": [
        {
          "output_type": "display_data",
          "data": {
            "image/png": "[encoded data removed]",
            "text/plain": [
              "<Figure size 432x288 with 1 Axes>"
            ]
          },
          "metadata": {
            "needs_background": "light"
          }
        }
      ]
    },
    {
      "cell_type": "code",
      "metadata": {
        "id": "WvBvMKm8Da9J",
        "colab": {
          "base_uri": "https://localhost:8080/",
          "height": 0
        },
        "outputId": "3f981a80-e020-41cd-c9c6-dcd3a3c7058b"
      },
      "source": [
        "def make_plot(sentences, name):\n",
        "  f = plt.figure(figsize=(12, 5))\n",
        "  ax1 = plt.subplot(121)\n",
        "  ax2 = plt.subplot(122)\n",
        "\n",
        "  ax1.hist(sentences.count()['word'], bins=250);\n",
        "  ax1.set_title(f\"Sentence length distribution ({name})\");\n",
        "\n",
        "  ax2.boxplot(sentences.count()['word']);\n",
        "  ax2.set_title(f\"Boxplot for sentence length ({name})\");\n",
        "\n",
        "name_sentences = {\n",
        "    'train': train_grouped,\n",
        "    'validation': val_grouped,\n",
        "    'test': test_grouped\n",
        "}\n",
        "\n",
        "for name in name_sentences:\n",
        "  make_plot(name_sentences[name], name)"
      ],
      "execution_count": 19,
      "outputs": [
        {
          "output_type": "display_data",
          "data": {
            "image/png": "[encoded data removed]",
            "text/plain": [
              "<Figure size 864x360 with 2 Axes>"
            ]
          },
          "metadata": {
            "needs_background": "light"
          }
        },
        {
          "output_type": "display_data",
          "data": {
            "image/png": "[encoded data removed]",
            "text/plain": [
              "<Figure size 864x360 with 2 Axes>"
            ]
          },
          "metadata": {
            "needs_background": "light"
          }
        },
        {
          "output_type": "display_data",
          "data": {
            "image/png": "[encoded data removed]",
            "text/plain": [
              "<Figure size 864x360 with 2 Axes>"
            ]
          },
          "metadata": {
            "needs_background": "light"
          }
        }
      ]
    },
    {
      "cell_type": "markdown",
      "metadata": {
        "id": "Qa9eCkjMwHsO"
      },
      "source": [
        "# Create RNN, Optimizer and DataLoader classes\n"
      ]
    },
    {
      "cell_type": "code",
      "metadata": {
        "id": "4qKGsuBvwKk6"
      },
      "source": [
        "class RNN(nn.Module):\n",
        "  \"\"\"\n",
        "    architecture: str\n",
        "      'LSTM'   : the baseline architecture\n",
        "      '2-LSTM' : 2 LSTM layers\n",
        "      '2-FC'   : 2 Dense Layers\n",
        "      'GRU'    : Gated Recurrent Unit\n",
        "  \"\"\"\n",
        "  def __init__(self, architecture, input_dim, hidden_size, output_size, dropout, device, CRF=False):\n",
        "    super(RNN, self).__init__()\n",
        "    self.architecture = architecture\n",
        "    self.n_layers = 2 if architecture == '2-LSTM' else 1\n",
        "    self.dropout_in_rnn = dropout if self.n_layers > 1 else 0\n",
        "    self.output_size = output_size\n",
        "    self.hidden_size = hidden_size\n",
        "    self.device = device\n",
        "    self.CRF = torchcrf.CRF(output_size, batch_first=True) if CRF else None\n",
        "    \n",
        "    if self.architecture == 'GRU':\n",
        "      self.rnn = nn.GRU(input_dim, hidden_size, num_layers=self.n_layers, bidirectional=True, dropout=self.dropout_in_rnn)\n",
        "    else:\n",
        "      self.rnn = nn.LSTM(input_dim, hidden_size, num_layers=self.n_layers, bidirectional=True, dropout=self.dropout_in_rnn)\n",
        "\n",
        "    self.dropout_layer = nn.Dropout(p=dropout)\n",
        "\n",
        "    if self.architecture == '2-FC':\n",
        "      self.fc = nn.Sequential(\n",
        "          nn.Linear(self.hidden_size*2, self.hidden_size),\n",
        "          nn.Dropout(p=dropout),\n",
        "          nn.Linear(self.hidden_size, output_size)\n",
        "      )\n",
        "    else:\n",
        "      self.fc = nn.Linear(self.hidden_size*2, output_size)\n",
        "\n",
        "    self.to(device)\n",
        "\n",
        "\n",
        "\n",
        "  def forward(self, input):\n",
        "    input = input.permute(1, 0, 2).to(self.device)\n",
        "\n",
        "    hidden_state = torch.randn(self.n_layers*2, input.shape[1], self.hidden_size).to(self.device)\n",
        "    if self.architecture == 'GRU':\n",
        "      hidden = hidden_state\n",
        "    else:\n",
        "      cell_state = torch.randn(self.n_layers*2, input.shape[1], self.hidden_size).to(self.device)\n",
        "      hidden = (hidden_state, cell_state)\n",
        "\n",
        "    out, hidden = self.rnn(input, hidden)\n",
        "\n",
        "    out = self.dropout_layer(out)\n",
        "\n",
        "    #process timesteps independently \n",
        "    logits = self.fc(out.view(-1, out.size(2)))\n",
        "\n",
        "    output = logits.view(input.shape[0], input.shape[1], self.output_size)\n",
        "\n",
        "    return output.permute(1, 0, 2).contiguous()\n",
        "\n",
        "  \n",
        "  def compute_loss(self, input, target):\n",
        "    target = target.to(self.device)\n",
        "    pred = self(input)\n",
        "\n",
        "    if self.CRF:\n",
        "      target = target.squeeze()\n",
        "      return -self.CRF(pred, target, mask= target!=-1,  reduction='mean')\n",
        "    \n",
        "    else:\n",
        "      target = target.flatten()\n",
        "      pred = pred.reshape(-1, pred.shape[-1])\n",
        "      return nn.CrossEntropyLoss(ignore_index=-1)(pred, target)\n",
        "\n",
        "\n",
        "  def prediction(self, input):\n",
        "    self.eval()\n",
        "    with torch.no_grad():\n",
        "      scores = self(input)\n",
        "      \n",
        "      if self.CRF:\n",
        "        classes_predicted = torch.Tensor(self.CRF.decode(scores))\n",
        "      else:\n",
        "        classes_predicted = torch.argmax(scores, 2)\n",
        "  \n",
        "      return classes_predicted.to(self.device)\n",
        "\n",
        "\n",
        "  def accuracy(self, input: DataLoader):\n",
        "    num_correct = 0\n",
        "    num_samples = 0\n",
        "    self.eval()\n",
        "\n",
        "    for data in input:\n",
        "        words = data['words'].to(self.device)\n",
        "        labels = data['labels'].to(self.device)\n",
        "        labels = labels.squeeze(-1)\n",
        "        lengths = data['lengths'].to(self.device)\n",
        "\n",
        "        classes_predicted = self.prediction(words)\n",
        "\n",
        "        for i, length in enumerate(lengths):\n",
        "          num_correct += torch.eq(classes_predicted[i, :length], labels[i, :length]).sum().item()\n",
        "\n",
        "        num_samples += lengths.sum()\n",
        "        \n",
        "    \n",
        "    return num_correct/num_samples\n",
        "\n"
      ],
      "execution_count": 20,
      "outputs": []
    },
    {
      "cell_type": "code",
      "metadata": {
        "id": "2MCssLkB8TUg"
      },
      "source": [
        "class Optimization:\n",
        "    def __init__(self, model, optimizer, train_loader, val_loader):\n",
        "      self.model = model\n",
        "      self.optimizer = optimizer\n",
        "      self.scheduler = ReduceLROnPlateau(optimizer)\n",
        "      self.train_loader = train_loader\n",
        "      self.history = []\n",
        "      self.val_loader = val_loader\n",
        "      self.val_history = []\n",
        "    \n",
        "    def train_epoch(self):\n",
        "      self.model.train()\n",
        "\n",
        "      for data in tqdm(self.train_loader):\n",
        "        loss = self.model.compute_loss(data['words'], data['labels'])\n",
        "        loss.backward()\n",
        "\n",
        "        self.optimizer.step()\n",
        "        self.optimizer.zero_grad()\n",
        "\n",
        "\n",
        "      self.history.append(loss.item())\n",
        "\n",
        "      val_loss = self._val_loss()\n",
        "      self.scheduler.step(val_loss)\n",
        "\n",
        "      return loss.item()\n",
        "\n",
        "    def _val_loss(self):\n",
        "      losses = []\n",
        "      for data in self.val_loader:\n",
        "        loss = self.model.compute_loss(data['words'], data['labels'])\n",
        "        losses.append(loss)\n",
        "      \n",
        "      mean = torch.mean(torch.Tensor(losses))\n",
        "      self.val_history.append(mean.item())\n",
        "\n",
        "      return mean"
      ],
      "execution_count": 21,
      "outputs": []
    },
    {
      "cell_type": "code",
      "metadata": {
        "id": "PpwRlpy68pSP"
      },
      "source": [
        "class MyDataset(Dataset):\n",
        "  def __init__(self, dataframe, embedder, encoder, max_length=None):\n",
        "    self.max_length = max_length if max_length else dataframe.count().max()['word']\n",
        "    self.dataframe = dataframe\n",
        "    self.embedder = embedder\n",
        "    self.encoder = encoder\n",
        "\n",
        "  def __len__(self):\n",
        "    return len(self.dataframe)\n",
        "\n",
        "  def __getitem__(self, idx):\n",
        "    sentence = self.dataframe.get_group(idx)[:self.max_length]\n",
        "\n",
        "    labels = np.array(sentence['label'], dtype = str).reshape(-1, 1)\n",
        "    encoded_labels = self.encoder.transform(labels)\n",
        "    encoded_words = self.embedder[sentence['word']]\n",
        "\n",
        "    return {'words': encoded_words, 'labels': encoded_labels, 'lengths': len(sentence)}"
      ],
      "execution_count": 22,
      "outputs": []
    },
    {
      "cell_type": "code",
      "source": [
        "def collate_fn_pad(batch):\n",
        "    batch_dict = []\n",
        "    lengths = torch.Tensor([sample['lengths'] for sample in batch])\n",
        "    padded_words = pad_sequence([torch.Tensor(sample['words']) for sample in batch], batch_first=True)\n",
        "    padded_labels = pad_sequence([torch.Tensor(sample['labels']) for sample in batch], batch_first=True, padding_value=-1)\n",
        "\n",
        "    return {'words': padded_words, 'labels': padded_labels.long(), 'lengths': lengths.int()}\n"
      ],
      "metadata": {
        "id": "kMAPwSCcqo97"
      },
      "execution_count": 23,
      "outputs": []
    },
    {
      "cell_type": "markdown",
      "metadata": {
        "id": "Moz4o3S4_YyY"
      },
      "source": [
        "# Training"
      ]
    },
    {
      "cell_type": "code",
      "source": [
        "%load_ext tensorboard\n",
        "%tensorboard --logdir=\"logs\""
      ],
      "metadata": {
        "id": "Li_cU3KAIaDg",
        "colab": {
          "base_uri": "https://localhost:8080/",
          "height": 821
        },
        "outputId": "fb63750c-3f4d-4948-ee38-74f962da7e47"
      },
      "execution_count": 24,
      "outputs": [
        {
          "output_type": "display_data",
          "data": {
            "application/javascript": [
              "\n",
              "        (async () => {\n",
              "            const url = new URL(await google.colab.kernel.proxyPort(6006, {'cache': true}));\n",
              "            url.searchParams.set('tensorboardColab', 'true');\n",
              "            const iframe = document.createElement('iframe');\n",
              "            iframe.src = url;\n",
              "            iframe.setAttribute('width', '100%');\n",
              "            iframe.setAttribute('height', '800');\n",
              "            iframe.setAttribute('frameborder', 0);\n",
              "            document.body.appendChild(iframe);\n",
              "        })();\n",
              "    "
            ],
            "text/plain": [
              "<IPython.core.display.Javascript object>"
            ]
          },
          "metadata": {}
        }
      ]
    },
    {
      "cell_type": "markdown",
      "source": [
        "## Training and tuning functions"
      ],
      "metadata": {
        "id": "fMOAz4J6gzN-"
      }
    },
    {
      "cell_type": "code",
      "source": [
        "def training_loop(model: nn.Module, \n",
        "                  train_set: torch.utils.data.DataLoader,\n",
        "                  val_set: torch.utils.data.DataLoader,\n",
        "                  patience: int,\n",
        "                  optimization: Optimization,\n",
        "                  save_path: str,\n",
        "                  writer: Optional[SummaryWriter] = None):\n",
        "\n",
        "  train_acc = []\n",
        "  val_acc = []\n",
        "  best_epoch = 0\n",
        "  epoch = 0\n",
        "\n",
        "  while epoch - best_epoch <= patience:\n",
        "    epoch += 1\n",
        "    print(f'Epoch {epoch}')\n",
        "\n",
        "    optimization.train_epoch()\n",
        "      \n",
        "    print(f'loss:{optimization.history[-1] : .3f}')\n",
        "    train_acc.append(model.accuracy(train_set))\n",
        "    print(f'train acc:{train_acc[-1]}')\n",
        "    val_acc.append(model.accuracy(val_set))\n",
        "    print(f'val acc:{val_acc[-1]}')\n",
        "    \n",
        "    if writer:\n",
        "      writer.add_scalars('Loss', {\"Train\": optimization.history[-1]}, epoch)\n",
        "      writer.add_scalars('Loss', {\"Validation\": optimization.val_history[-1]}, epoch)\n",
        "      writer.add_scalars('Train Acc', {\"Train\": val_acc[-1]}, epoch)\n",
        "      writer.add_scalars('Val Acc', {\"Train\": val_acc[-1]}, epoch)\n",
        "      writer.flush()\n",
        "\n",
        "    if val_acc[-1] >= val_acc[best_epoch-1]:\n",
        "      torch.save(model.state_dict(), save_path)\n",
        "      best_epoch = epoch\n",
        "      print(f'Model saved at {save_path}')\n",
        "      \n",
        "  if writer: writer.close()\n",
        "  print(f'\\n Best model at epoch {best_epoch}')\n",
        "\n",
        "  return val_acc[best_epoch-1]"
      ],
      "metadata": {
        "id": "2vQvpGglNAYf"
      },
      "execution_count": 25,
      "outputs": []
    },
    {
      "cell_type": "code",
      "source": [
        "def tuning_loop(train_loader: torch.utils.data.DataLoader,\n",
        "                val_loader: torch.utils.data.DataLoader,\n",
        "                patience: int,\n",
        "                search: dict, \n",
        "                writer: Optional[SummaryWriter] = None):\n",
        "\n",
        "  best_model_acc = 0\n",
        "  config = {}\n",
        "  for current_values in itertools.product(*tuple(search.values())):\n",
        "    current_dict = dict(zip(search.keys(), current_values))\n",
        "    \n",
        "    architecture = current_dict['architecture']\n",
        "    CRF = current_dict['CRF']\n",
        "    hidden_dim = current_dict['hidden_dim']\n",
        "    dropout = current_dict['dropout']\n",
        "    lr = current_dict['lr']\n",
        "    weight_decay = current_dict['weight_decay'] \n",
        "    eps = current_dict['eps']\n",
        "\n",
        "    print('='*15)\n",
        "    print('New setting with', current_dict)\n",
        "\n",
        "    model = RNN(architecture, EMBEDDING_SIZE, hidden_dim, len(labels), dropout, device, CRF=CRF)\n",
        "    optimizer = optim.Adam(model.parameters(), lr=lr, eps=eps, weight_decay=weight_decay)\n",
        "    optimization = Optimization(model, optimizer, train_loader, val_loader)\n",
        "\n",
        "    path = f'model-{architecture}-{hidden_dim}-{dropout}-{lr}-{weight_decay}-{eps}.pkl'\n",
        "    best_acc = training_loop(model, train_loader, val_loader, patience, optimization, path, writer=writer)\n",
        "\n",
        "    if best_acc > best_model_acc:\n",
        "      config = current_dict\n",
        "      best_model_acc = best_acc\n",
        "      new_path = f'model-{architecture}'\n",
        "      !\\cp $path $new_path\n",
        "\n",
        "  print(f'\\n Best model config : {config} with accuracy {best_model_acc}')"
      ],
      "metadata": {
        "id": "Ydu2_VLkB84u"
      },
      "execution_count": 26,
      "outputs": []
    },
    {
      "cell_type": "markdown",
      "source": [
        "## Start tuning"
      ],
      "metadata": {
        "id": "qylGENCbg8RB"
      }
    },
    {
      "cell_type": "code",
      "source": [
        "train_set = MyDataset(train_grouped, embedder, encoder)\n",
        "train_loader = DataLoader(train_set, batch_size=8, shuffle=True, collate_fn=collate_fn_pad)\n",
        "\n",
        "validation = MyDataset(val_grouped, embedder, encoder)\n",
        "val_loader = DataLoader(validation, batch_size=len(validation), collate_fn=collate_fn_pad)"
      ],
      "metadata": {
        "id": "LZif9p5fhEyr"
      },
      "execution_count": 27,
      "outputs": []
    },
    {
      "cell_type": "code",
      "source": [
        "search = {'architecture': ['LSTM', '2-LSTM', '2-FC', 'GRU'],\n",
        "          'CRF': [True, False],\n",
        "          'hidden_dim': [128, 256, 512],\n",
        "          'dropout': [0.4, 0.6, 0.8],\n",
        "          'lr': [1e-4, 1e-3, 1e-2],\n",
        "          'weight_decay': [0, 1e-3, 1e-2, 1e-1],\n",
        "          }\n"
      ],
      "metadata": {
        "id": "Rt_I9itTPbHQ"
      },
      "execution_count": 28,
      "outputs": []
    },
    {
      "cell_type": "code",
      "source": [
        "PATIENCE = 10\n",
        "writer = torch.utils.tensorboard.writer.SummaryWriter(log_dir=os.path.join(\"logs\", \"BiLSTM\"))\n",
        "\n",
        "# Uncomment the following line to perform the tuning\n",
        "# tuning_loop(train_loader, val_loader, PATIENCE, search, writer)"
      ],
      "metadata": {
        "id": "nfFE-6kesGIi"
      },
      "execution_count": 29,
      "outputs": []
    },
    {
      "cell_type": "markdown",
      "source": [
        "After tuning all the possible combinations of hyperparameters and architectures, the results are pretty similar. Across the architectures, usually, the  best combination of hyperparameters is: \n",
        "* hidden_dim = 128\n",
        "* dropout = 0.6\n",
        "\n",
        "Adding CRF makes the validation accuracy slightly better (around 0.5% more) but doubles the train time.\n",
        "\n",
        "2-LSTM and 2-FC perform slightly better, so we decide to train them."
      ],
      "metadata": {
        "id": "vXj5F2_zheNL"
      }
    },
    {
      "cell_type": "markdown",
      "source": [
        "## Train best models"
      ],
      "metadata": {
        "id": "xRhMCaokFosb"
      }
    },
    {
      "cell_type": "code",
      "source": [
        "PATIENCE = 15\n",
        "writer = torch.utils.tensorboard.writer.SummaryWriter(log_dir=os.path.join(\"logs\", \"BiLSTM\"))\n",
        "\n",
        "model_lstm = RNN('2-LSTM', EMBEDDING_SIZE, 128, len(labels), 0.6, device, CRF=True)\n",
        "optimizer = optim.Adam(model_lstm.parameters(), lr=1e-3, weight_decay=1e-3)\n",
        "optimization = Optimization(model_lstm, optimizer, train_loader, val_loader)\n",
        "\n",
        "path = f'model-2-LSTM-{EMBEDDING_SIZE}.pkl'\n",
        "\n",
        "# Uncomment the following line to perform the training\n",
        "# best_acc = training_loop(model_lstm, train_loader, val_loader, PATIENCE, optimization, path, writer=writer)\n",
        "\n",
        "# Load the already trained network\n",
        "!wget https://github.com/younik/pos-tagging/raw/main/models/$path\n",
        "model_lstm.load_state_dict(torch.load(path))"
      ],
      "metadata": {
        "id": "HipF0Tn5Fq5R",
        "outputId": "b2bc8e5d-caf5-463e-c721-573bc6da40f3",
        "colab": {
          "base_uri": "https://localhost:8080/"
        }
      },
      "execution_count": 30,
      "outputs": [
        {
          "output_type": "stream",
          "name": "stdout",
          "text": [
            "--2021-12-20 17:23:35--  https://github.com/younik/pos-tagging/raw/main/models/model-2-LSTM-100.pkl\n",
            "Resolving github.com (github.com)... 140.82.113.3\n",
            "Connecting to github.com (github.com)|140.82.113.3|:443... connected.\n",
            "HTTP request sent, awaiting response... 302 Found\n",
            "Location: https://raw.githubusercontent.com/younik/pos-tagging/main/models/model-2-LSTM-100.pkl [following]\n",
            "--2021-12-20 17:23:36--  https://raw.githubusercontent.com/younik/pos-tagging/main/models/model-2-LSTM-100.pkl\n",
            "Resolving raw.githubusercontent.com (raw.githubusercontent.com)... 185.199.109.133, 185.199.110.133, 185.199.108.133, ...\n",
            "Connecting to raw.githubusercontent.com (raw.githubusercontent.com)|185.199.109.133|:443... connected.\n",
            "HTTP request sent, awaiting response... 200 OK\n",
            "Length: 2581143 (2.5M) [application/octet-stream]\n",
            "Saving to: ‘model-2-LSTM-100.pkl’\n",
            "\n",
            "model-2-LSTM-100.pk 100%[===================>]   2.46M  --.-KB/s    in 0.06s   \n",
            "\n",
            "2021-12-20 17:23:36 (39.3 MB/s) - ‘model-2-LSTM-100.pkl’ saved [2581143/2581143]\n",
            "\n"
          ]
        },
        {
          "output_type": "execute_result",
          "data": {
            "text/plain": [
              "<All keys matched successfully>"
            ]
          },
          "metadata": {},
          "execution_count": 30
        }
      ]
    },
    {
      "cell_type": "code",
      "source": [
        "model_fc = RNN('2-FC', EMBEDDING_SIZE, 128, len(labels), 0.6, device, CRF=True)\n",
        "optimizer = optim.Adam(model_fc.parameters(), lr=1e-3, weight_decay=1e-3)\n",
        "optimization = Optimization(model_fc, optimizer, train_loader, val_loader)\n",
        "\n",
        "path = f'model-2-FC-{EMBEDDING_SIZE}.pkl'\n",
        "\n",
        "# Uncomment the following line to perform the training\n",
        "# best_acc = training_loop(model_fc, train_loader, val_loader, PATIENCE, optimization, path, writer=writer)\n",
        "\n",
        "# Load the already trained network\n",
        "!wget https://github.com/younik/pos-tagging/raw/main/models/$path\n",
        "model_fc.load_state_dict(torch.load(path))"
      ],
      "metadata": {
        "id": "L0ByoNTrGdws",
        "outputId": "ceb47d33-efc0-4a6a-997c-4cca08f6b451",
        "colab": {
          "base_uri": "https://localhost:8080/"
        }
      },
      "execution_count": 31,
      "outputs": [
        {
          "output_type": "stream",
          "name": "stdout",
          "text": [
            "--2021-12-20 17:23:36--  https://github.com/younik/pos-tagging/raw/main/models/model-2-FC-100.pkl\n",
            "Resolving github.com (github.com)... 140.82.112.3\n",
            "Connecting to github.com (github.com)|140.82.112.3|:443... connected.\n",
            "HTTP request sent, awaiting response... 302 Found\n",
            "Location: https://raw.githubusercontent.com/younik/pos-tagging/main/models/model-2-FC-100.pkl [following]\n",
            "--2021-12-20 17:23:37--  https://raw.githubusercontent.com/younik/pos-tagging/main/models/model-2-FC-100.pkl\n",
            "Resolving raw.githubusercontent.com (raw.githubusercontent.com)... 185.199.108.133, 185.199.109.133, 185.199.110.133, ...\n",
            "Connecting to raw.githubusercontent.com (raw.githubusercontent.com)|185.199.108.133|:443... connected.\n",
            "HTTP request sent, awaiting response... 200 OK\n",
            "Length: 1108367 (1.1M) [application/octet-stream]\n",
            "Saving to: ‘model-2-FC-100.pkl’\n",
            "\n",
            "model-2-FC-100.pkl  100%[===================>]   1.06M  --.-KB/s    in 0.05s   \n",
            "\n",
            "2021-12-20 17:23:37 (20.9 MB/s) - ‘model-2-FC-100.pkl’ saved [1108367/1108367]\n",
            "\n"
          ]
        },
        {
          "output_type": "execute_result",
          "data": {
            "text/plain": [
              "<All keys matched successfully>"
            ]
          },
          "metadata": {},
          "execution_count": 31
        }
      ]
    },
    {
      "cell_type": "markdown",
      "source": [
        "# Confusion Matrix and Report\n"
      ],
      "metadata": {
        "id": "esRWaE1pRiWx"
      }
    },
    {
      "cell_type": "code",
      "source": [
        "test_dataset = MyDataset(test_grouped, embedder, encoder)\n",
        "test_loader = DataLoader(test_dataset, batch_size=len(test_set), shuffle=True, collate_fn=collate_fn_pad)"
      ],
      "metadata": {
        "id": "_SCjXraH-WNC"
      },
      "execution_count": 32,
      "outputs": []
    },
    {
      "cell_type": "code",
      "source": [
        "punctuation = np.array([',', '.', '``', \"''\",  ':', '#', '$' ])\n",
        "mask = np.array([l not in punctuation for l in labels], dtype=int)\n",
        "no_punc_labels = labels[mask == 1]\n",
        "\n",
        "y_true = torch.Tensor()\n",
        "y_pred_lstm = torch.Tensor().to(device)\n",
        "y_pred_fc = torch.Tensor().to(device)\n",
        "\n",
        "for data in test_loader:\n",
        "  y_true = torch.cat((y_true, data['labels']), 0)\n",
        "  y_pred_lstm = torch.cat((y_pred_lstm, model_lstm.prediction(data['words'])), 0)\n",
        "  y_pred_fc = torch.cat((y_pred_fc, model_fc.prediction(data['words'])), 0)"
      ],
      "metadata": {
        "id": "6Kwi9P0NlMsU",
        "outputId": "34193f11-7abf-43d1-debe-0c20d6419f88",
        "colab": {
          "base_uri": "https://localhost:8080/"
        }
      },
      "execution_count": 33,
      "outputs": [
        {
          "output_type": "stream",
          "name": "stderr",
          "text": [
            "/usr/local/lib/python3.7/dist-packages/torchcrf/__init__.py:305: UserWarning: where received a uint8 condition tensor. This behavior is deprecated and will be removed in a future version of PyTorch. Use a boolean condition instead. (Triggered internally at  ../aten/src/ATen/native/TensorCompare.cpp:328.)\n",
            "  score = torch.where(mask[i].unsqueeze(1), next_score, score)\n"
          ]
        }
      ]
    },
    {
      "cell_type": "code",
      "source": [
        "y_true = y_true.squeeze()\n",
        "mask_padding = y_true != -1\n",
        "y_true = y_true[mask_padding].flatten().int()\n",
        "y_pred_lstm = y_pred_lstm[mask_padding].flatten()\n",
        "y_pred_fc = y_pred_fc[mask_padding].flatten()\n",
        "\n",
        "encoded_labels = encoder.transform(np.array(labels).reshape(-1, 1)).squeeze()\n",
        "\n",
        "\n",
        "report_lstm = classification_report(y_true, y_pred_lstm.cpu(), labels=encoded_labels, target_names=labels, output_dict=True, zero_division = 0)\n",
        "report_fc = classification_report(y_true, y_pred_fc.cpu(), labels=encoded_labels, target_names=labels, output_dict=True, zero_division = 0)"
      ],
      "metadata": {
        "id": "WYcCEqcARIiY"
      },
      "execution_count": 34,
      "outputs": []
    },
    {
      "cell_type": "code",
      "source": [
        "print(model_lstm.accuracy(test_loader))\n",
        "print(model_fc.accuracy(test_loader))"
      ],
      "metadata": {
        "colab": {
          "base_uri": "https://localhost:8080/"
        },
        "id": "jgh_KALWkxIi",
        "outputId": "1b319946-daaf-4c67-8796-dfdf2d3df20c"
      },
      "execution_count": 35,
      "outputs": [
        {
          "output_type": "stream",
          "name": "stdout",
          "text": [
            "tensor(0.9427, device='cuda:0')\n",
            "tensor(0.9435, device='cuda:0')\n"
          ]
        }
      ]
    },
    {
      "cell_type": "code",
      "source": [
        "name_report = {f'2-LSTM-{EMBEDDING_SIZE}': report_lstm, f'2-FC-{EMBEDDING_SIZE}': report_fc}\n",
        "\n",
        "for name, report in name_report.items():\n",
        "  class_table = PrettyTable(['Class', 'Precision', 'Recall', 'f1-score', 'support'], title=name)\n",
        "\n",
        "  macro_avg = np.zeros(3)\n",
        "  weighted_avg = np.zeros(3)\n",
        "  samples = 0 \n",
        "  n_classes = 0\n",
        "\n",
        "  for label in no_punc_labels:\n",
        "    class_table.add_row([str(label), report[label]['precision'], report[label]['recall'], report[label]['f1-score'], report[label]['support']])\n",
        "    macro_avg += np.array([report[label]['precision'], report[label]['recall'], report[label]['f1-score']])\n",
        "    weighted_avg += np.array([report[label]['precision'], report[label]['recall'], report[label]['f1-score']])*int(report[label]['support'])\n",
        "    \n",
        "    samples += int(report[label]['support'])\n",
        "    if report[label]['support'] > 0: n_classes += 1\n",
        "\n",
        "  print(class_table)\n",
        "\n",
        "  macro_avg = macro_avg / n_classes\n",
        "  weighted_avg = weighted_avg / samples\n",
        "\n",
        "  average_table = PrettyTable(['Average', 'Precision', 'Recall', 'f1-score'], title=name)\n",
        "  average_table.add_row(['macro avg', macro_avg[0],  macro_avg[1],  macro_avg[2]])\n",
        "  average_table.add_row(['weighted avg', weighted_avg[0],  weighted_avg[1],  weighted_avg[2]])\n",
        "\n",
        "  print(average_table)"
      ],
      "metadata": {
        "id": "uJ5BAno2DT0d",
        "outputId": "b9234d71-ef8a-4af3-a416-68f1dfba7481",
        "colab": {
          "base_uri": "https://localhost:8080/"
        }
      },
      "execution_count": 39,
      "outputs": [
        {
          "output_type": "stream",
          "name": "stdout",
          "text": [
            "+---------------------------------------------------------------------------------+\n",
            "|                                    2-LSTM-100                                   |\n",
            "+-------+--------------------+--------------------+---------------------+---------+\n",
            "| Class |     Precision      |       Recall       |       f1-score      | support |\n",
            "+-------+--------------------+--------------------+---------------------+---------+\n",
            "|  NNP  | 0.9028532608695652 | 0.8836436170212766 |  0.8931451612903225 |   1504  |\n",
            "|   CD  | 0.9859976662777129 | 0.9848484848484849 |  0.9854227405247814 |   858   |\n",
            "|  NNS  | 0.9149590163934426 | 0.9489904357066951 |  0.9316640584246219 |   941   |\n",
            "|   JJ  | 0.822680412371134  | 0.869281045751634  |  0.8453389830508474 |   918   |\n",
            "|   MD  | 0.9709302325581395 |        1.0         |  0.9852507374631269 |   167   |\n",
            "|   VB  | 0.9629629629629629 | 0.967741935483871  |  0.9653465346534654 |   403   |\n",
            "|   DT  | 0.9895366218236173 | 0.9917602996254682 |  0.9906472128694351 |   1335  |\n",
            "|   NN  | 0.9068689422671724 | 0.9030633655056651 |  0.9049621530698067 |   2383  |\n",
            "|   IN  | 0.9868255959849436 | 0.9650306748466257 |  0.9758064516129031 |   1630  |\n",
            "|  VBZ  | 0.9748201438848921 | 0.9678571428571429 |  0.971326164874552  |   280   |\n",
            "|  VBG  | 0.867579908675799  | 0.8597285067873304 |  0.8636363636363636 |   221   |\n",
            "|   CC  | 0.9972677595628415 | 0.9972677595628415 |  0.9972677595628415 |   366   |\n",
            "|  VBD  | 0.9520865533230294 | 0.9716088328075709 |  0.9617486338797815 |   634   |\n",
            "|  VBN  | 0.9390243902439024 | 0.8415300546448088 |  0.8876080691642652 |   366   |\n",
            "|   RB  | 0.8631840796019901 | 0.910761154855643  |  0.8863346104725415 |   381   |\n",
            "|   TO  | 0.9974160206718347 |        1.0         |  0.9987063389391979 |   386   |\n",
            "|  PRP  |        1.0         | 0.9947916666666666 |  0.9973890339425587 |   192   |\n",
            "|  RBR  | 0.4666666666666667 | 0.4666666666666667 |  0.4666666666666667 |    15   |\n",
            "|  WDT  | 0.9545454545454546 |        1.0         |  0.9767441860465117 |    84   |\n",
            "|  VBP  | 0.9253731343283582 | 0.9253731343283582 |  0.9253731343283582 |   134   |\n",
            "|   RP  | 0.6304347826086957 | 0.8787878787878788 |  0.7341772151898734 |    33   |\n",
            "|  PRP$ |        1.0         |        1.0         |         1.0         |    99   |\n",
            "|  JJS  |        1.0         | 0.9354838709677419 |  0.9666666666666666 |    31   |\n",
            "|  POS  | 0.9934640522875817 |        1.0         |  0.9967213114754099 |   152   |\n",
            "|   EX  |        1.0         |        1.0         |         1.0         |    5    |\n",
            "|   WP  | 0.9523809523809523 |        1.0         |  0.975609756097561  |    20   |\n",
            "|  JJR  | 0.8064516129032258 | 0.847457627118644  |  0.8264462809917354 |    59   |\n",
            "|  WRB  |        1.0         | 0.8333333333333334 |  0.9090909090909091 |    24   |\n",
            "|  NNPS |       0.4375       | 0.1590909090909091 | 0.23333333333333334 |    44   |\n",
            "|  WP$  |        1.0         |        1.0         |         1.0         |    4    |\n",
            "| -LRB- | 0.9473684210526315 |        1.0         |  0.972972972972973  |    18   |\n",
            "| -RRB- | 0.782608695652174  |        1.0         |  0.878048780487805  |    18   |\n",
            "|  PDT  |        0.0         |        0.0         |         0.0         |    4    |\n",
            "|  RBS  |        1.0         |        1.0         |         1.0         |    3    |\n",
            "|   FW  |        0.0         |        0.0         |         0.0         |    0    |\n",
            "|   UH  |        0.0         |        0.0         |         0.0         |    0    |\n",
            "|  SYM  |        0.0         |        0.0         |         0.0         |    0    |\n",
            "|   LS  |        0.0         |        0.0         |         0.0         |    0    |\n",
            "+-------+--------------------+--------------------+---------------------+---------+\n",
            "+-----------------------------------------------------------------------------+\n",
            "|                                  2-LSTM-100                                 |\n",
            "+--------------+--------------------+--------------------+--------------------+\n",
            "|   Average    |     Precision      |       Recall       |      f1-score      |\n",
            "+--------------+--------------------+--------------------+--------------------+\n",
            "|  macro avg   | 0.8803466864676093 | 0.8854146587430957 | 0.8795133006111534 |\n",
            "| weighted avg | 0.9342033586081582 |  0.93450991831972  | 0.9338706528014571 |\n",
            "+--------------+--------------------+--------------------+--------------------+\n",
            "+----------------------------------------------------------------------------------+\n",
            "|                                     2-FC-100                                     |\n",
            "+-------+--------------------+---------------------+---------------------+---------+\n",
            "| Class |     Precision      |        Recall       |       f1-score      | support |\n",
            "+-------+--------------------+---------------------+---------------------+---------+\n",
            "|  NNP  | 0.9111414900888585 |  0.8863031914893617 |  0.898550724637681  |   1504  |\n",
            "|   CD  | 0.9860627177700348 |  0.9895104895104895 |  0.987783595113438  |   858   |\n",
            "|  NNS  | 0.9186164801627671 |  0.9596174282678002 |  0.9386694386694386 |   941   |\n",
            "|   JJ  | 0.8163265306122449 |  0.8714596949891068 |  0.8429926238145415 |   918   |\n",
            "|   MD  | 0.9709302325581395 |         1.0         |  0.9852507374631269 |   167   |\n",
            "|   VB  | 0.9698492462311558 |  0.9578163771712159 |  0.9637952559300874 |   403   |\n",
            "|   DT  | 0.9872944693572496 |  0.9895131086142323 |  0.9884025439580996 |   1335  |\n",
            "|   NN  | 0.9115417017691659 |  0.9080990348300462 |  0.9098171116249738 |   2383  |\n",
            "|   IN  |  0.98801261829653  |  0.9607361963190184 |  0.9741835147744945 |   1630  |\n",
            "|  VBZ  | 0.9818840579710145 |  0.9678571428571429 |  0.9748201438848921 |   280   |\n",
            "|  VBG  | 0.8925233644859814 |  0.8642533936651584 |  0.8781609195402299 |   221   |\n",
            "|   CC  | 0.9972677595628415 |  0.9972677595628415 |  0.9972677595628415 |   366   |\n",
            "|  VBD  | 0.9491525423728814 |  0.9716088328075709 |  0.9602494154325799 |   634   |\n",
            "|  VBN  | 0.9307228915662651 |  0.8442622950819673 |  0.8853868194842406 |   366   |\n",
            "|   RB  | 0.854679802955665  |  0.910761154855643  |  0.8818297331639137 |   381   |\n",
            "|   TO  | 0.9974160206718347 |         1.0         |  0.9987063389391979 |   386   |\n",
            "|  PRP  | 0.9948186528497409 |         1.0         |  0.9974025974025974 |   192   |\n",
            "|  RBR  |       0.4375       |  0.4666666666666667 | 0.45161290322580644 |    15   |\n",
            "|  WDT  | 0.9438202247191011 |         1.0         |  0.9710982658959537 |    84   |\n",
            "|  VBP  | 0.9117647058823529 |  0.9253731343283582 |  0.9185185185185185 |   134   |\n",
            "|   RP  | 0.6122448979591837 |  0.9090909090909091 |  0.7317073170731708 |    33   |\n",
            "|  PRP$ |        1.0         |         1.0         |         1.0         |    99   |\n",
            "|  JJS  | 0.9666666666666667 |  0.9354838709677419 |  0.9508196721311476 |    31   |\n",
            "|  POS  | 0.9934640522875817 |         1.0         |  0.9967213114754099 |   152   |\n",
            "|   EX  | 0.8333333333333334 |         1.0         |  0.9090909090909091 |    5    |\n",
            "|   WP  |        1.0         |         1.0         |         1.0         |    20   |\n",
            "|  JJR  | 0.8275862068965517 |  0.8135593220338984 |  0.8205128205128206 |    59   |\n",
            "|  WRB  |        1.0         |        0.875        |  0.9333333333333333 |    24   |\n",
            "|  NNPS |        0.25        | 0.06818181818181818 | 0.10714285714285714 |    44   |\n",
            "|  WP$  |        1.0         |         1.0         |         1.0         |    4    |\n",
            "| -LRB- |        1.0         |         1.0         |         1.0         |    18   |\n",
            "| -RRB- | 0.8571428571428571 |         1.0         |  0.923076923076923  |    18   |\n",
            "|  PDT  |        0.0         |         0.0         |         0.0         |    4    |\n",
            "|  RBS  |        1.0         |         1.0         |         1.0         |    3    |\n",
            "|   FW  |        0.0         |         0.0         |         0.0         |    0    |\n",
            "|   UH  |        0.0         |         0.0         |         0.0         |    0    |\n",
            "|  SYM  |        0.0         |         0.0         |         0.0         |    0    |\n",
            "|   LS  |        0.0         |         0.0         |         0.0         |    0    |\n",
            "+-------+--------------------+---------------------+---------------------+---------+\n",
            "+-----------------------------------------------------------------------------+\n",
            "|                                   2-FC-100                                  |\n",
            "+--------------+--------------------+--------------------+--------------------+\n",
            "|   Average    |     Precision      |       Recall       |      f1-score      |\n",
            "+--------------+--------------------+--------------------+--------------------+\n",
            "|  macro avg   | 0.873287162475588  | 0.8844829947438525 | 0.8757912972021538 |\n",
            "| weighted avg | 0.9350747424812162 | 0.9357497082847142 | 0.9349226613521181 |\n",
            "+--------------+--------------------+--------------------+--------------------+\n"
          ]
        }
      ]
    },
    {
      "cell_type": "code",
      "source": [
        "cm = confusion_matrix(y_true, y_pred_lstm.cpu(), labels=encoded_labels)\n",
        "\n",
        "plt.rcParams[\"figure.figsize\"] = (30, 20)\n",
        "\n",
        "disp = ConfusionMatrixDisplay(confusion_matrix=cm, display_labels=labels)\n",
        "disp.plot();"
      ],
      "metadata": {
        "colab": {
          "base_uri": "https://localhost:8080/",
          "height": 1000
        },
        "id": "iNDrReaAyaHW",
        "outputId": "787463da-2dbe-45ee-9040-2b84f516a6be"
      },
      "execution_count": 40,
      "outputs": [
        {
          "output_type": "display_data",
          "data": {
            "image/png": "[encoded data removed]",
            "text/plain": [
              "<Figure size 2160x1440 with 2 Axes>"
            ]
          },
          "metadata": {
            "needs_background": "light"
          }
        }
      ]
    }
  ]
}