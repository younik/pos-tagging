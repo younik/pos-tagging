{
  "nbformat": 4,
  "nbformat_minor": 0,
  "metadata": {
    "colab": {
      "name": "Assignment_1.ipynb",
      "provenance": [],
      "collapsed_sections": [
        "ys_LD3OQc7Si"
      ]
    },
    "kernelspec": {
      "name": "python3",
      "display_name": "Python 3"
    },
    "accelerator": "GPU"
  },
  "cells": [
    {
      "cell_type": "markdown",
      "metadata": {
        "id": "-WeCeITXoxLf"
      },
      "source": [
        "# Assignment 1\n",
        "\n",
        "**Due to**: 23/12/2021 (dd/mm/yyyy)\n",
        "\n",
        "**Credits**: Andrea Galassi, Federico Ruggeri, Paolo Torroni\n",
        "\n",
        "**Summary**: Part-of Speech (POS) tagging as Sequence Labelling using Recurrent Neural Architectures"
      ]
    },
    {
      "cell_type": "markdown",
      "metadata": {
        "id": "a4_wqPdlBcKS"
      },
      "source": [
        "# Intro\n",
        "\n",
        "In this assignment  we will ask you to perform POS tagging using neural architectures\n",
        "\n",
        "You are asked to follow these steps:\n",
        "*   Download the corpora and split it in training and test sets, structuring a dataframe.\n",
        "*   Embed the words using GloVe embeddings\n",
        "*   Create a baseline model, using a simple neural architecture\n",
        "*   Experiment doing small modifications to the baseline model, choose hyperparameters using the validation set\n",
        "*   Evaluate your two best model\n",
        "*   Analyze the errors of your model\n",
        "\n",
        "\n",
        "**Task**: given a corpus of documents, predict the POS tag for each word\n",
        "\n",
        "**Corpus**:\n",
        "Ignore the numeric value in the third column, use only the words/symbols and its label. \n",
        "The corpus is available at:\n",
        "https://raw.githubusercontent.com/nltk/nltk_data/gh-pages/packages/corpora/dependency_treebank.zip\n",
        "\n",
        "**Splits**: documents 1-100 are the train set, 101-150 validation set, 151-199 test set.\n",
        "\n",
        "\n",
        "**Features**: you MUST use GloVe embeddings as the only input features to the model.\n",
        "\n",
        "**Splitting**: you can decide to split documents into sentences or not, the choice is yours.\n",
        "\n",
        "**I/O structure**: The input data will have three dimensions: 1-documents/sentences, 2-token, 3-features; for the output there are 2 possibilities: if you use one-hot encoding it will be 1-documents/sentences, 2-token labels, 3-classes, if you use a single integer that indicates the number of the class it will be 1-documents/sentences, 2-token labels.\n",
        "\n",
        "**Baseline**: two layers architecture: a Bidirectional LSTM layer and a Dense/Fully-Connected layer on top; the choice of hyper-parameters is yours.\n",
        "\n",
        "**Architectures**: experiment using a GRU instead of the LSTM, adding an additional LSTM layer, and adding an additional dense layer; do not mix these variantions.\n",
        "\n",
        "\n",
        "**Training and Experiments**: all the experiments must involve only the training and validation sets.\n",
        "\n",
        "**Evaluation**: in the end, only the two best models of your choice (according to the validation set) must be evaluated on the test set. The main metric must be F1-Macro computed between the various part of speech. DO NOT CONSIDER THE PUNCTUATION CLASSES.\n",
        "\n",
        "**Metrics**: the metric you must use to evaluate your final model is the F1-macro, WITHOUT considering punctuation/symbols classes; during the training process you can use accuracy because you can't use the F1 metric unless you use a single (gigantic) batch because there is no way to aggregate \"partial\" F1 scores computed on mini-batches.\n",
        "\n",
        "**Discussion and Error Analysis** : verify and discuss if the results on the test sets are coherent with those on the validation set; analyze the errors done by your model, try to understand which may be the causes and think about how to improve it.\n",
        "\n",
        "**Report**: you are asked to deliver the code of your experiments and a small pdf report of about 2 pages; the pdf must begin with the names of the people of your team and a small abstract (4-5 lines) that sums up your findings.\n",
        "\n",
        "# Out Of Vocabulary (OOV) terms\n",
        "\n",
        "How to handle words that are not in GloVe vocabulary?\n",
        "You can handle them as you want (random embedding, placeholder, whatever!), but they must be STATIC embeddings (you cannot train them).\n",
        "\n",
        "But there is a very important caveat! As usual, the element of the test set must not influence the elements of the other splits!\n",
        "\n",
        "So, when you compute new embeddings for train+validation, you must forget about test documents.\n",
        "The motivation is to emulate a real-world scenario, where you select and train a model in the first stage, without knowing nothing about the testing environment.\n",
        "\n",
        "For implementation convenience, you CAN use a single vocabulary file/matrix/whatever. The principle of the previous point is that the embeddings inside that file/matrix must be generated independently for train and test splits.\n",
        "\n",
        "Basically in a real-world scenario, this is what would happen:\n",
        "1. Starting vocabulary V1 (in this assignment, GloVe vocabulary)\n",
        "2. Compute embeddings for terms out of vocabulary V1 (OOV1) of the training split \n",
        "3. Add embeddings to the vocabulary, so to obtain vocabulary V2=V1+OOV1\n",
        "4. Training of the model(s)\n",
        "5. Compute embeddings for terms OOV2 of the validation split \n",
        "6. Add embeddings to the vocabulary, so to obtain vocabulary V3=V1+OOV1+OOV2\n",
        "7. Validation of the model(s)\n",
        "8. Compute embeddings for terms OOV3 of the test split \n",
        "9. Add embeddings to the vocabulary, so to obtain vocabulary V4=V1+OOV1+OOV2+OOV3\n",
        "10. Testing of the final model\n",
        "\n",
        "In this case, where we already have all the documents, we can simplify the process a bit, but the procedure must remain rigorous.\n",
        "\n",
        "1. Starting vocabulary V1 (in this assignment, GloVe vocabulary)\n",
        "2. Compute embeddings for terms out of vocabulary V1 (OOV1) of the training split \n",
        "3. Add embeddings to the vocabulary, so to obtain vocabulary V2=V1+OOV1\n",
        "4. Compute embeddings for terms OOV2 of the validation split \n",
        "5. Add embeddings to the vocabulary, so to obtain vocabulary V3=V1+OOV1+OOV2\n",
        "6. Compute embeddings for terms OOV3 of the test split \n",
        "7. Add embeddings to the vocabulary, so to obtain vocabulary V4=V1+OOV1+OOV2\n",
        "8. Training of the model(s)\n",
        "9. Validation of the model(s)\n",
        "10. Testing of the final model\n",
        "\n",
        "Step 2 and step 6 must be completely independent of each other, for what concerns the method and the documents. But they can rely on the previous vocabulary (V1 for step 2 and V3 for step 6)\n",
        "THEREFORE if a word is present both in the training set and the test split and not in the starting vocabulary, its embedding is computed in step 2) and it is not considered OOV anymore in step 6).\n",
        "\n",
        "# Report\n",
        "The report must not be just a copy and paste of graphs and tables!\n",
        "\n",
        "The report must not be longer than 2 pages and must contain:\n",
        "* The names of the member of your team\n",
        "* A short abstract (4-5 lines) that sum ups everything\n",
        "* A general description of the task you have addressed and how you have addressed it\n",
        "* A short description of the models you have used\n",
        "* Some tables that sum up your findings in validation and test and a discussion of those results\n",
        "* The most relevant findings of your error analysis\n",
        "\n",
        "# Evaluation Criterion\n",
        "\n",
        "The goal of this assignment is not to prove you can find best model ever, but to face a common task, structure it correctly, and follow a correct and rigorous experimental procedure.\n",
        "In other words, we don't care if you final models are awful as long as you have followed the correct procedure and wrote a decent report.\n",
        "\n",
        "The score of the assignment will be computed roughly as follows\n",
        "* 1 point for the general setting of the problem\n",
        "* 1 point for the handling of OOV terms\n",
        "* 1 point for the models\n",
        "* 1 point for train-validation-test procedure\n",
        "* 2 point for the discussion of the results, error analysis, and report\n",
        "\n",
        "This distribution of scores is tentative and we may decide to alter it at any moment.\n",
        "We also reserve the right to assign a small bonus (0.5 points) to any assignment that is particularly worthy. Similarly, in case of grave errors, we may decide to assign an equivalent malus (-0.5 points).\n",
        "\n",
        "# Contacts\n",
        "\n",
        "In case of any doubt, question, issue, or help we highly recommend you to check the [course useful material](https://virtuale.unibo.it/pluginfile.php/1036039/mod_resource/content/2/NLP_Course_Useful_Material.pdf) for additional information, and to use the Virtuale forums to discuss with other students.\n",
        "\n",
        "You can always contact us at the following email addresses. To increase the probability of a prompt response, we reccomend you to write to both the teaching assistants.\n",
        "\n",
        "Teaching Assistants:\n",
        "\n",
        "* Andrea Galassi -> a.galassi@unibo.it\n",
        "* Federico Ruggeri -> federico.ruggeri6@unibo.it\n",
        "\n",
        "Professor:\n",
        "\n",
        "* Paolo Torroni -> p.torroni@unibo.it\n",
        "\n",
        "\n",
        "# FAQ\n",
        "* You can use a non-trainable Embedding layer to load the glove embeddings\n",
        "* You can use any library of your choice to implement the networks. Two options are tensorflow/keras or pythorch. Both these libraries have all the classes you need to implement these simple architectures and there are plenty of tutorials around, where you can learn how to use them."
      ]
    },
    {
      "cell_type": "markdown",
      "metadata": {
        "id": "D8PgAJyy40SY"
      },
      "source": [
        "# Import libraries & download dataset"
      ]
    },
    {
      "cell_type": "code",
      "metadata": {
        "id": "caNU8UeFxupB",
        "colab": {
          "base_uri": "https://localhost:8080/"
        },
        "outputId": "b6e543db-368f-4748-8040-47578345af57"
      },
      "source": [
        "import os\n",
        "import pandas as pd\n",
        "import numpy as np\n",
        "import matplotlib.pyplot as plt\n",
        "import csv\n",
        "import seaborn as sns  \n",
        "from sklearn.metrics import confusion_matrix, classification_report, ConfusionMatrixDisplay\n",
        "\n",
        "import torch\n",
        "import torch.nn as nn\n",
        "from torch.utils.data import Dataset, DataLoader\n",
        "from torch.utils.tensorboard import SummaryWriter\n",
        "from torch.nn.utils.rnn import pad_sequence\n",
        "import torch.optim as optim\n",
        "from torch.optim.lr_scheduler import ReduceLROnPlateau\n",
        "\n",
        "from sklearn.preprocessing import OrdinalEncoder\n",
        "\n",
        "from tqdm import tqdm\n",
        "from typing import Optional\n",
        "\n",
        "import gensim\n",
        "import gensim.downloader as gloader  \n",
        "\n",
        "import re\n",
        "\n",
        "!pip install python-Levenshtein\n",
        "import Levenshtein\n",
        "\n",
        "!pip install pytorch-crf\n",
        "import torchcrf\n",
        "\n",
        "import itertools\n",
        "from functools import partial\n",
        "\n",
        "device = torch.device(\"cuda\" if torch.cuda.is_available() else \"cpu\")"
      ],
      "execution_count": 1,
      "outputs": [
        {
          "output_type": "stream",
          "name": "stdout",
          "text": [
            "Collecting python-Levenshtein\n",
            "  Downloading python-Levenshtein-0.12.2.tar.gz (50 kB)\n",
            "\u001b[?25l\r\u001b[K     |██████▌                         | 10 kB 19.7 MB/s eta 0:00:01\r\u001b[K     |█████████████                   | 20 kB 10.2 MB/s eta 0:00:01\r\u001b[K     |███████████████████▌            | 30 kB 7.9 MB/s eta 0:00:01\r\u001b[K     |██████████████████████████      | 40 kB 7.1 MB/s eta 0:00:01\r\u001b[K     |████████████████████████████████| 50 kB 2.9 MB/s \n",
            "\u001b[?25hRequirement already satisfied: setuptools in /usr/local/lib/python3.7/dist-packages (from python-Levenshtein) (57.4.0)\n",
            "Building wheels for collected packages: python-Levenshtein\n",
            "  Building wheel for python-Levenshtein (setup.py) ... \u001b[?25l\u001b[?25hdone\n",
            "  Created wheel for python-Levenshtein: filename=python_Levenshtein-0.12.2-cp37-cp37m-linux_x86_64.whl size=149864 sha256=f481dfb9a7f34bdecdd9182e7547d211887aa09faac36750cad974ec54fe011f\n",
            "  Stored in directory: /root/.cache/pip/wheels/05/5f/ca/7c4367734892581bb5ff896f15027a932c551080b2abd3e00d\n",
            "Successfully built python-Levenshtein\n",
            "Installing collected packages: python-Levenshtein\n",
            "Successfully installed python-Levenshtein-0.12.2\n",
            "Collecting pytorch-crf\n",
            "  Downloading pytorch_crf-0.7.2-py3-none-any.whl (9.5 kB)\n",
            "Installing collected packages: pytorch-crf\n",
            "Successfully installed pytorch-crf-0.7.2\n"
          ]
        }
      ]
    },
    {
      "cell_type": "code",
      "metadata": {
        "id": "y2j0JgX8wpjH",
        "colab": {
          "base_uri": "https://localhost:8080/"
        },
        "outputId": "9a994c8e-d189-4965-bb1f-9b0b0941161f"
      },
      "source": [
        "!wget https://raw.githubusercontent.com/nltk/nltk_data/gh-pages/packages/corpora/dependency_treebank.zip\n",
        "!unzip -q dependency_treebank.zip"
      ],
      "execution_count": 2,
      "outputs": [
        {
          "output_type": "stream",
          "name": "stdout",
          "text": [
            "--2021-12-19 17:12:27--  https://raw.githubusercontent.com/nltk/nltk_data/gh-pages/packages/corpora/dependency_treebank.zip\n",
            "Resolving raw.githubusercontent.com (raw.githubusercontent.com)... 185.199.108.133, 185.199.109.133, 185.199.110.133, ...\n",
            "Connecting to raw.githubusercontent.com (raw.githubusercontent.com)|185.199.108.133|:443... connected.\n",
            "HTTP request sent, awaiting response... 200 OK\n",
            "Length: 457429 (447K) [application/zip]\n",
            "Saving to: ‘dependency_treebank.zip’\n",
            "\n",
            "\rdependency_treebank   0%[                    ]       0  --.-KB/s               \rdependency_treebank 100%[===================>] 446.71K  --.-KB/s    in 0.04s   \n",
            "\n",
            "2021-12-19 17:12:27 (12.1 MB/s) - ‘dependency_treebank.zip’ saved [457429/457429]\n",
            "\n"
          ]
        }
      ]
    },
    {
      "cell_type": "markdown",
      "metadata": {
        "id": "onQNYcuwCTiW"
      },
      "source": [
        "# Dataframe creation and split into train, val and test set\n",
        "\n",
        "The way to split the dataset is already defined:  \n",
        "train set : documents 1-100;  \n",
        "validation set : documents 101-150;  \n",
        "test set : documents 151-199;"
      ]
    },
    {
      "cell_type": "code",
      "metadata": {
        "id": "EADZWC3txls8"
      },
      "source": [
        "corpus_path = 'dependency_treebank/'\n",
        "file_list = sorted(os.listdir(corpus_path))\n",
        "\n",
        "dfs = [pd.read_csv(corpus_path + f, sep='\\t', names=['word', 'label', 'foo']).drop('foo', 1)\n",
        "          for f in file_list]\n",
        "\n",
        "\n",
        "dataset = pd.concat(dfs, ignore_index=True)\n",
        "dataset['word'] = dataset['word'].transform(lambda x : x.lower())  \n",
        "\n",
        "train_set = pd.concat(dfs[:100], ignore_index=True)\n",
        "train_set['word'] = train_set['word'].transform(lambda x : x.lower())\n",
        "\n",
        "val_set = pd.concat(dfs[100:150], ignore_index=True)\n",
        "val_set['word'] = val_set['word'].transform(lambda x : x.lower())\n",
        "\n",
        "test_set = pd.concat(dfs[150:199], ignore_index=True)\n",
        "test_set['word'] = test_set['word'].transform(lambda x : x.lower())\n",
        "\n",
        "labels = dataset['label'].unique()\n",
        "words = dataset['word'].unique()"
      ],
      "execution_count": 64,
      "outputs": []
    },
    {
      "cell_type": "code",
      "source": [
        "encoder = OrdinalEncoder(dtype=np.int64)\n",
        "encoder.fit(labels.reshape(-1, 1)) "
      ],
      "metadata": {
        "id": "4yRzzo9rgC8z",
        "outputId": "0c5e0286-5e3f-4551-fb18-269178a6f08f",
        "colab": {
          "base_uri": "https://localhost:8080/"
        }
      },
      "execution_count": 4,
      "outputs": [
        {
          "output_type": "execute_result",
          "data": {
            "text/plain": [
              "OrdinalEncoder(dtype=<class 'numpy.int64'>)"
            ]
          },
          "metadata": {},
          "execution_count": 4
        }
      ]
    },
    {
      "cell_type": "code",
      "source": [
        "EMBEDDING_SIZE = 50\n",
        "embedder = gloader.load(f'glove-wiki-gigaword-{EMBEDDING_SIZE}')"
      ],
      "metadata": {
        "id": "ouMAodz5jQh7",
        "outputId": "6ac1deef-18eb-4dbd-8a13-ca0032c65be0",
        "colab": {
          "base_uri": "https://localhost:8080/"
        }
      },
      "execution_count": 5,
      "outputs": [
        {
          "output_type": "stream",
          "name": "stdout",
          "text": [
            "[==================================================] 100.0% 66.0/66.0MB downloaded\n"
          ]
        }
      ]
    },
    {
      "cell_type": "markdown",
      "source": [
        "We started splitting documents in sentences using \n",
        "punctuation labelled as '.' as end of sentences."
      ],
      "metadata": {
        "id": "6thVZ3VqkX1l"
      }
    },
    {
      "cell_type": "code",
      "metadata": {
        "id": "ZQIUPI3h7DCl"
      },
      "source": [
        "train_stops = train_set[(train_set['label']=='.')].index\n",
        "max_length = max(train_stops[1:] - train_stops[:-1])\n",
        "\n",
        "val_stops = val_set[(val_set['label']=='.')].index\n",
        "max_length_val = max(val_stops[1:] - val_stops[:-1])\n",
        "\n",
        "test_stops = test_set[(test_set['label']=='.')].index\n",
        "max_length_test = max(test_stops[1:] - test_stops[:-1])\n",
        "\n",
        "\n",
        "OOV_train = set(train_set['word'].unique()).difference(set(embedder.vocab.keys()))\n",
        "OOV_val = set(val_set['word'].unique()).difference(set(embedder.vocab.keys()))\n",
        "OOV_test = set(test_set['word'].unique()).difference(set(embedder.vocab.keys()))"
      ],
      "execution_count": 6,
      "outputs": []
    },
    {
      "cell_type": "code",
      "source": [
        "print('Before pre-processing:')\n",
        "print(\"Train set unique words:\", len(train_set['word'].unique()))\n",
        "print('OOV:', len(OOV_train))\n",
        "print('Max sentence length', max_length)\n",
        "print(\"\\nValidation set unique words:\", len(val_set['word'].unique()))\n",
        "print('Max sentence length', max_length_val)\n",
        "print('OOV:', len(OOV_val))\n",
        "print(\"\\nTest set unique words:\", len(test_set['word'].unique()))\n",
        "print('Max sentence length', max_length_test)\n",
        "print('OOV:', len(OOV_test))"
      ],
      "metadata": {
        "id": "IIHU5fcWj8bd",
        "colab": {
          "base_uri": "https://localhost:8080/"
        },
        "outputId": "82ceb1f2-5747-45b8-fb20-5c20e702e24c"
      },
      "execution_count": 7,
      "outputs": [
        {
          "output_type": "stream",
          "name": "stdout",
          "text": [
            "Before pre-processing:\n",
            "Train set unique words: 7404\n",
            "OOV: 359\n",
            "Max sentence length 250\n",
            "\n",
            "Validation set unique words: 5420\n",
            "Max sentence length 80\n",
            "OOV: 213\n",
            "\n",
            "Test set unique words: 3407\n",
            "Max sentence length 80\n",
            "OOV: 161\n"
          ]
        }
      ]
    },
    {
      "cell_type": "markdown",
      "source": [
        "Then we tried to improve the sentences splitting using also the semi-column"
      ],
      "metadata": {
        "id": "Oomp6hyQkd-h"
      }
    },
    {
      "cell_type": "code",
      "source": [
        "train_stops = train_set[(train_set['label']=='.') | (train_set['word']==';')].index\n",
        "max_length = max(train_stops[1:] - train_stops[:-1])\n",
        "\n",
        "val_stops = val_set[(val_set['label']=='.') | (val_set['word']==';')].index\n",
        "max_length_val = max(val_stops[1:] - val_stops[:-1])\n",
        "\n",
        "test_stops = test_set[(test_set['label']=='.') | (test_set['word']==';')].index\n",
        "max_length_test = max(test_stops[1:] - test_stops[:-1])"
      ],
      "metadata": {
        "id": "bMrXaArHkAJI"
      },
      "execution_count": 8,
      "outputs": []
    },
    {
      "cell_type": "code",
      "source": [
        "print('After processing')\n",
        "print('Max sentence length in Train Set:', max_length)\n",
        "print('Max sentence length in Validation Set:', max_length_val)\n",
        "print('Max sentence length in Test Set:', max_length_test)"
      ],
      "metadata": {
        "id": "eC-lWvmzkEmh",
        "colab": {
          "base_uri": "https://localhost:8080/"
        },
        "outputId": "e026d190-e23a-4653-a50e-481b9f444057"
      },
      "execution_count": 9,
      "outputs": [
        {
          "output_type": "stream",
          "name": "stdout",
          "text": [
            "After processing\n",
            "Max sentence length in Train Set: 67\n",
            "Max sentence length in Validation Set: 80\n",
            "Max sentence length in Test Set: 72\n"
          ]
        }
      ]
    },
    {
      "cell_type": "code",
      "source": [
        "def index_of_phrase(stops, word_idx):\n",
        "  return np.count_nonzero(word_idx > stops)\n",
        "\n",
        "print(\"Grouping train set\")\n",
        "train_index_phrase = np.vectorize(partial(index_of_phrase, train_stops))\n",
        "train_grouped = train_set.groupby(by=train_index_phrase)\n",
        "\n",
        "print(\"Grouping val set\")\n",
        "val_index_phrase = np.vectorize(partial(index_of_phrase, val_stops))\n",
        "val_grouped = val_set.groupby(by=val_index_phrase)\n",
        "\n",
        "print(\"Grouping test set\")\n",
        "test_index_phrase = np.vectorize(partial(index_of_phrase, test_stops))\n",
        "test_grouped = test_set.groupby(by=test_index_phrase)"
      ],
      "metadata": {
        "id": "y3RGGvmSkrJW",
        "outputId": "9a699121-3fd8-4fb5-e8d4-9f366cf8f4b7",
        "colab": {
          "base_uri": "https://localhost:8080/"
        }
      },
      "execution_count": 10,
      "outputs": [
        {
          "output_type": "stream",
          "name": "stdout",
          "text": [
            "Grouping train set\n",
            "Grouping val set\n",
            "Grouping test set\n"
          ]
        }
      ]
    },
    {
      "cell_type": "markdown",
      "source": [
        "# OOV processing"
      ],
      "metadata": {
        "id": "KDww18DUTYSJ"
      }
    },
    {
      "cell_type": "code",
      "source": [
        "OOV = set(words).difference(set(embedder.vocab.keys()))\n",
        "print(OOV)\n",
        "print(\"\\nThere are\", len(OOV), \"OOV\")"
      ],
      "metadata": {
        "id": "8YSrcLB6ThSm",
        "colab": {
          "base_uri": "https://localhost:8080/"
        },
        "outputId": "cc870330-8995-452b-a4b0-c9b3cd9deb34"
      },
      "execution_count": 11,
      "outputs": [
        {
          "output_type": "stream",
          "name": "stdout",
          "text": [
            "{'sticker-shock', 'middle-ground', '1.637', 'nih-appointed', 'midwesco', 'greenmailer', '341.20', 'walbrecher', 'scypher', '69-point', '3436.58', '62%-owned', '5.2180', '82,389', 'nearly-30', 'replacement-car', 'stock-manipulation', 'waertsilae', 'hummerstone', '300-a-share', 'abortion-related', 'triple-c', '1\\\\/10th', '5.276', 'index-related', 'page-one', '18,444', 'crocidolite', 'constitutional-law', 'index-fund', 'samnick', 'hasbrouk', 'savings-and-loan', '352.9', 'micronite', '84-month', 'prudential-bache', 'cray-3', 'car-safety', 'insider-trading', '143.80', 'dead-eyed', '3,250,000', '811.9', 'stock-specialist', 'truth-in-lending', 'colonsville', '12,252', '45-a-share', '372.9', 'n.v', 'g.m.b', '13.625', 'labor-backed', 'wfrr', 'industrial-production', '372.14', '154,240,000', 'machine-gun-toting', '1206.26', '6\\\\/2', 'unfair-trade', 'northy', 'diceon', '11,390,000', 'war-rationed', 'melt-textured', 'enzor', 'seven-million-ton', '2645.90', 'government-certified', '127.03', '95.09', 'safe-deposit', 'tarwhine', 'free-enterprise', 'band-wagon', '234.4', 'pathlogy', 'diloreto', 'motor-home', 'pianist-comedian', 'new-car', 'noncompetitively', 'bald-faced', 'freudtoy', 'pre-1933', 'polyproplene', 'less-than-brilliant', 'cup-tote', 'long-tenured', '618.1', 'then-speaker', '497.34', 'two-time-losers', 'weapons-modernization', 'staff-reduction', 'side-crash', 'tissue-transplant', '415.6', '300-day', 'propagandizes', 'corton-charlemagne', 'church-goers', 'express-buick', '967,809', 'romanee-conti', '37-a-share', 'buttoned-down', '4.898', 'mouth-up', '446.62', '3\\\\/4', 'six-bottle', 'much-larger', 'integra-a', 'breakey', 'prevalance', 'marketing-communications', '734.9', 'antitrust-law', 'fiber-end', '40-megabyte', 'macmillan\\\\/mcgraw', 'computer-services', 'beer-belly', 'purhasing', 'purepac', 'pattenden', 'kalipharma', '5\\\\/8', 'airline-related', '361.8', 'price-depressing', '12\\\\/32', '188.84', 'lower-priority', '3057', 'cash-rich', 'student-test', 'video-viewing', 'equal-opportunity', 'ingersoll-rand', 'non-callable', '23,403', 'school-research', '38.875', 'forest-product', 'macheski', 'guber\\\\/peters', 'sell-offs', '-lrb-', 'foreign-led', 'cotran', 'language-housekeeper', 'executive-office', '11\\\\/16', 'property\\\\/casualty', '877,663', 'anti-morning-sickness', 'bridgestone\\\\/firestone', 'when-issued', 'gates-warren', 'ctbs', 'bellringers', '500,004', 'mutchin', 'ednie', 'savers\\\\/investors', 'ex-dividend', '100,980', 'fetal-tissue', 'jalaalwalikraam', 'mininum-wage', '7\\\\/8', '2163.2', 'crookery', 'one-yen', 'house-senate', 'derchin', 'information-services', 'sino-u.s.', '11-month-old', '374.20', 'anti-programmers', 'cost-control', 'sub-segments', 'vitulli', '3,040,000', 'rexinger', 'market-makers', '3\\\\/8', 'three-sevenths', 'tire-kickers', '95,142', 'test-practice', 'conn.based', 'training-wage', 'electrical-safety', 'bankruptcy-law', 'sogo-shosha', '2,050-passenger', 'mutual-fund', '11,762', 'high-rate', 'aslacton', '-rcb-', '1.916', 'ft-se', 'lobsenz', '236.79', '14.', 'lezovich', 'we-japanese', 'herald-american', 'newspaper-printing', '7\\\\/16', 'glenham', 'foldability', 'nekoosa', 'summer\\\\/winter', 'shareholder-rights', '415.8', 'wamre', '2,303,328', 'super-absorbent', 'larger-than-normal', 'radio-station', 'yen-support', 'subminimum', 'insurance-company', 'multi-crystal', 'bread-and-butter', 'heiwado', 'flightiness', 'shokubai', 'secilia', '1.5755', 'floating-rate', '352.7', 'rapanelli', 'automotive-parts', 'garden-variety', '2141.7', 'chinchon', 'anti-china', '87-store', '8300s', 'derel', 'manmade-fiber', 'chemplus', 'sport-utility', 'synergistics', 'electric-utility', '142.84', '520-lawyer', 'triple-a-rated', 'stock-selection', 'bronces', '43.875', 'computer-driven', 'food-industry', 'cop-killer', 'financial-services', 'price-support', 'reupke', 'sidak', 'year-ago', '34.625', 'low-ability', 'one-newspaper', '387.8', 'subskills', 'capital-markets', 'search-and-seizure', 'circuit-breaker', '83,206', 'capital-gains', '126.15', '2003\\\\/2007', 'landonne', '143.08', 'three-lawyer', 'non-encapsulating', 'phacoflex', 'profit-taking', 'nofzinger', '70-a-share', 'pre-1917', 'twin-jet', '9,118', 'news-american', 'life-insurance', 'preparatives', 'collective-bargaining', 'arbitrage-related', '50\\\\/50', 'corn-buying', '71,309', 'sub-markets', 'solaia', 'sept.30', 'one-country', 'detective-story', 'mehrens', 'card-member', '9\\\\/32', 'sharedata', '62.625', 'two-sevenths', 'car-development', 'minimum-wage', 'louisiana-pacific', 'one-upsmanship', 'nagymaros', 'stock-index', '230-215', 'change-ringing', 'waymar', 'dollar-yen', 'coche-dury', '4,393,237', 'lynch-mob', 'trockenbeerenauslesen', 'intecknings', 'weisfield', 'besuboru', '55-a-share', '7.272', 'c-90', '100-megabyte', 'nylev', 'chong-sik', 'c.j.b.', 'state-supervised', 'subindustry', 'one-house', 'computer-system-design', 'big-ticket', 'anti-program', 'superpremiums', 'food-shop', 'building-products', 'tete-a-tete', 'yeargin', 'amphobiles', 'auto-safety', 'non-biodegradable', 'c.d.s', 'yet-to-be-formed', 'program-trading', 'sulfur-dioxide', '434.4', '5.435', '3.253', 'credit-rating', 'merger-related', 'heebie-jeebies', 'twindam', '7.458', 'ac-130u', 'durable-goods', 'securities-based', '142.85', '120-a-share', 'ratners', 'contingency-fee', 'red-blooded', 'quantitive', 'mortgage-based', 'small-company', 'built-from-kit', 'anti-takeover', '300-113', 'nipponese', 'achievement-test', 'high-polluting', 'most-likely-successor', '190-point', 'bank-backed', '271,124', 'minicrash', 'seven-yen', 'water-authority', 'trading-company', '456.64', 'college-bowl', 'inter-tel', 'substance-abusing', 'old-house', 'disputado', 'teacher-cadet', 'crane-safety', 'rubinfien', 'odd-sounding', '6,799', 'norwick', 'pennview', '13\\\\/16', 'chafic', 'launch-vehicle', '566.54', 'colorliner', '1.8415', 'nissho-iwai', 'txo', 'meinders', 'pro-iranian', 'bermuda-based', 'more-advanced', '3648.82', 'lentjes', 'freshbake', 'money-fund', 'rope-sight', 'muscolina', 'continuingly', '35500.64', 'disputada', '36-store', 'acquisition-minded', 'car-care', 'moleculon', 'new-home', 'investor-relations', '1937-40', '20-stock', '1\\\\/2', 'thin-lipped', 'passenger-car', 'boorse', '436.01', 'superdot', '30,537', '13,056', '449.04', '3,288,453', 'blood-cell', 'hart-scott-rodino', 'egnuss', 'shirt-sleeved', 'top-yielding', '143.93', '705.6', 'lookee-loos', 'trettien', 'liquid-nitrogen', 'uzi-model', 'family-planning', 'certin', 'year-earlier', '8.575', 'yoshihashi', 'blue-chips', 'light-truck', '38.375', '90-cent-an-hour', '30,841', 'parts-engineering', '1738.1', 'citizen-sparked', 'subskill', 'low-ball', 'disaster-assistance', 'write-downs', 'rey\\\\/fawcett', 'anku', 'custom-chip', 'satrum', 'prize-fighter', '1.1650', 'mega-stadium', 'stock-price', 'times-stock', 'drag-down', 'circuit-board', '630.9', 'copper-rich', 'cents-a-unit', 'morale-damaging', '14,821', 'less-serious', 'junk-bond', 'index-options', 'sacramento-based', 'johnson-era', 'bumkins', 'nesb', 'interleukin-3', 'several-year', 'futures-related', 'foreign-stock', 'retin-a', '-rrb-', '22\\\\/32', 'eight-count', 'test-prep', 'cleaner-burning', 'limited-partnership', 'asset-valuation', 'high-rolling', 'school-board', 'six-packs', '35564.43', 'intelogic', '131.01', 'severable', 'asset-sale', 'roof-crush', 'ntg', 'land-idling', 'malizia', 'unenticing', 'protein-1', 'buy-outs', 'school-district', 'test-coaching', 'revenue-desperate', 'wheel-loader', 'potables', 'crystal-lattice', 'erbamont', 'incentive-backed', '374.19', 'money-center', 'sewing-machine', 'tiphook', 'energy-services', '8.467', '226,570,380', 'forest-products', 'ariail', 'more-efficient', 'dydee', '1\\\\/4', 'telephone-information', 'product-design', 'recession-inspired', 'intellectual-property', '319.75', 're-thought', 'incentive-bonus', '382-37', '-lcb-', '361,376', 'unicorp', 'investment-grade', '7.422', 'housing-assistance', '5,699', 'front-seat', 'anti-miscarriage', '1928-33', '278.7', 'highest-pitched', 'money-market', 'social-studies', 'makato', 'hallwood', '494.50', '263.07', 'univest', 'macmillan\\\\/mcgraw-hill', 'direct-investment', 'flim-flammery', '2691.19', 'bottom-line', '608,413', '18-a-share', 'higher-salaried', 'corporate-wide', 'ensrud', '237-seat', '2\\\\/32', '220.45', '2160.1', 'clean-air', 'security-type', 'pension-fund', 'senate-house', '19-month-old', 'automotive-lighting', 'yttrium-containing', '129.91', 'equity-purchase', '170,262', 'odd-year', '236.74', '1.457', 'boogieman', '1\\\\/8', 'index-arbitrage', '737.5', 'home-market', 'iran\\\\/contra', 'four-foot-high', 'lafite-rothschild', 'autions', 'market-share', 'delwin', 'veselich', '14\\\\/32', 'dust-up', 'centerbank', 'above-market', 'jerritts', 'arighi', 'ghkm', 'school-improvement', '26,956', 'akerfeldt', 'mariotta', 'industry-supported', 'lap-shoulder', 'sometimes-exhausting', 'alurralde', 'high-balance', 'chilver', 'headcount-control', '29year', 'pramual', 'bell-ringer', 'arbitraging', 'single-lot', 'test-preparation', 'veraldi', 'life-of-contract', 'double-c', 'co-developers', 'takeover-stock', '377.60', 'yen-denominated', 'exxon-owned', 'wine-buying', 'biondi-santi', 'prior-year', 'early-retirement', 'pro-forma', 'stirlen', 'million-a-year', 'deposits-a', '292.32', 'drobnick', 'identity-management', 'sometimes-tawdry', 'wheeland', 'near-limit', \"creator's\", 'vinken', '158,666', 'per-share', 'lightning-fast', 'gingl', 'test-drive', 'hadson', 'rate-sensitive', 'monchecourt', 'red-flag', 'pricings', '271-147', 'cash-and-stock', 'heavy-truck', 'stock-picking', 'sanderoff', 'wtd', 'post-hearing', '16.125', '0.0085', 'ballantine\\\\/del', 'anti-deficiency', 'anti-abortionists', '16,072', '238,000-circulation', 'acid-rain', '47.125', '16\\\\/32'}\n",
            "\n",
            "There are 676 OOV\n"
          ]
        }
      ]
    },
    {
      "cell_type": "code",
      "source": [
        "def isNumber(n):\n",
        "  if n == 'nan':\n",
        "    return False\n",
        "\n",
        "  try:\n",
        "    float(n)\n",
        "    return True\n",
        "  except:\n",
        "    return False\n",
        "\n",
        "vocab_keys = embedder.vocab.keys()\n",
        "vocab_array = np.array(list(vocab_keys))\n",
        "str_number_keys = [n for n in vocab_keys if isNumber(n)]\n",
        "number_keys = np.array(str_number_keys, dtype=np.float32)\n",
        "\n",
        "def correct_typo(word, threshold=1):\n",
        "  if word in vocab_keys:\n",
        "    return word\n",
        "\n",
        "  if re.match('[a-z]', word): #avoid to use Levenshtein on numbers\n",
        "    dist = lambda elem: Levenshtein.distance(word, elem)\n",
        "    distances = np.vectorize(dist)(vocab_array)\n",
        "    idx_min = np.argmin(distances)\n",
        "    if distances[idx_min] <= threshold:\n",
        "      return vocab_array[idx_min]\n",
        "\n",
        "  #maybe it is a number, convert to the nearest one\n",
        "  try:\n",
        "    word = word.replace(',', '')\n",
        "    number = float(word)\n",
        "\n",
        "    idx = np.argmin(np.abs(number_keys - number))\n",
        "    return str_number_keys[idx]\n",
        "\n",
        "  except:\n",
        "    pass\n",
        "\n",
        "\n",
        "\n",
        "def handling_OOV(words, OOV, embedder):\n",
        "  '''\n",
        "  Try to check if OOV are due to:\n",
        "     1)Decimal numbers; \n",
        "     2)words separated by special character (-, \\\\/)compuound words ;\n",
        "     3)Words compuound by two words present in the vocabulary; \n",
        "     4)Typos;\n",
        "  '''\n",
        "\n",
        "  '''\n",
        "  Words separated by special characters are encoded using the embedding of the two words.\n",
        "  For other words we just check the spelling and try to approximate number.\n",
        "  '''\n",
        "  print(\"Correcting numbers, typos and words separated by special characters.\")\n",
        "  for w in tqdm(OOV):\n",
        "   try:\n",
        "    if '-' in w:\n",
        "      subWords = w.split('-')\n",
        "      embedded_words = [embedder[correct_typo(subW)] for subW in subWords if subW]\n",
        "      embedder.add([w], [np.mean(embedded_words, axis=0)])\n",
        "    \n",
        "    elif '\\\\/' in w:\n",
        "      subWords = w.split('\\\\/')\n",
        "      embedded_words = [embedder[correct_typo(subW)] for subW in subWords]\n",
        "      embedder.add([w], [np.mean(embedded_words, axis=0)])\n",
        "\n",
        "    else:\n",
        "      embedder.add([w], [embedder[correct_typo(w)]])\n",
        "\n",
        "   except:\n",
        "    pass\n",
        "\n",
        "  \n",
        "  OOV = set(words).difference(set(embedder.vocab.keys()))\n",
        "  print(\"There are\", len(OOV), \"OOV\")\n",
        "  \n",
        "  # Compound words\n",
        "  print('Analyzing compound words')\n",
        "  for w in tqdm(OOV):\n",
        "    for i in range(2, len(w)-2):\n",
        "      w1 = w[:i]\n",
        "      w2 = w[i:]\n",
        "      if w1 in vocab_keys and w2 in vocab_keys:\n",
        "        embedding = (embedder[w1] + embedder[w2]) / 2\n",
        "        embedder.add([w], [embedding])\n",
        "        break\n",
        "\n",
        "  embedder.add(['62%-owned'], [(embedder['.62']+embedder['owned'])/2])\n",
        "\n",
        "  \n",
        "  OOV = set(words).difference(set(embedder.vocab.keys()))\n",
        "  print(\"There are\", len(OOV), \"OOV\")\n",
        "\n",
        "  # Typos\n",
        "  print('Correcting typos with Levenshtein distance up to 2')\n",
        "  for w in tqdm(OOV):\n",
        "   try:\n",
        "    new_w = correct_typo(w, threshold=2)\n",
        "    embedder.add([w], [embedder[new_w]])\n",
        "   except:\n",
        "    pass\n",
        "\n",
        "  OOV = set(words).difference(set(embedder.vocab.keys()))\n",
        "  print(\"\\nThere are\", len(OOV), \"OOV\")\n",
        "  return"
      ],
      "metadata": {
        "id": "3RIdJtLXk3vU"
      },
      "execution_count": 12,
      "outputs": []
    },
    {
      "cell_type": "code",
      "source": [
        "handling_OOV(words, OOV, embedder)"
      ],
      "metadata": {
        "id": "n0VSyq04k88D",
        "outputId": "51491624-6815-404b-97d3-3695ee4a9ae9",
        "colab": {
          "base_uri": "https://localhost:8080/"
        }
      },
      "execution_count": 13,
      "outputs": [
        {
          "output_type": "stream",
          "name": "stdout",
          "text": [
            "Correcting numbers, typos and words separated by special characters.\n"
          ]
        },
        {
          "output_type": "stream",
          "name": "stderr",
          "text": [
            "100%|██████████| 676/676 [00:47<00:00, 14.37it/s]\n"
          ]
        },
        {
          "output_type": "stream",
          "name": "stdout",
          "text": [
            "There are 76 OOV\n",
            "Analyzing compound words\n"
          ]
        },
        {
          "output_type": "stream",
          "name": "stderr",
          "text": [
            "100%|██████████| 76/76 [00:00<00:00, 117.13it/s]\n"
          ]
        },
        {
          "output_type": "stream",
          "name": "stdout",
          "text": [
            "There are 17 OOV\n",
            "Correcting typos with Levenshtein distance up to 2\n"
          ]
        },
        {
          "output_type": "stream",
          "name": "stderr",
          "text": [
            "100%|██████████| 17/17 [00:06<00:00,  2.81it/s]"
          ]
        },
        {
          "output_type": "stream",
          "name": "stdout",
          "text": [
            "\n",
            "There are 7 OOV\n"
          ]
        },
        {
          "output_type": "stream",
          "name": "stderr",
          "text": [
            "\n"
          ]
        }
      ]
    },
    {
      "cell_type": "code",
      "source": [
        "print('After processing')\n",
        "print('There are ', len(set(OOV_train).difference(set(embedder.vocab.keys()))), ' OOV in the train set')\n",
        "print('There are ', len(set(OOV_val).difference(set(embedder.vocab.keys()))), ' OOV in the val set')\n",
        "print('There are ', len(set(OOV_test).difference(set(embedder.vocab.keys()))), ' OOV in the test set')"
      ],
      "metadata": {
        "id": "Gq5jPOaHk-Lo",
        "colab": {
          "base_uri": "https://localhost:8080/"
        },
        "outputId": "c5a07998-cf9c-4891-fb60-21f2d8e1d5df"
      },
      "execution_count": 14,
      "outputs": [
        {
          "output_type": "stream",
          "name": "stdout",
          "text": [
            "After processing\n",
            "There are  5  OOV in the train set\n",
            "There are  2  OOV in the val set\n",
            "There are  0  OOV in the test set\n"
          ]
        }
      ]
    },
    {
      "cell_type": "markdown",
      "source": [
        "Adding the remaining words randomly."
      ],
      "metadata": {
        "id": "ioBZxTEvfpLh"
      }
    },
    {
      "cell_type": "code",
      "source": [
        "OOV = set(words).difference(set(embedder.vocab.keys()))\n",
        "OOV_value = np.random.uniform(low=-0.05, high=0.05, size=(len(OOV), EMBEDDING_SIZE))\n",
        "embedder.add(list(OOV), OOV_value)"
      ],
      "metadata": {
        "id": "OgCb8v7RhFAi"
      },
      "execution_count": 15,
      "outputs": []
    },
    {
      "cell_type": "markdown",
      "metadata": {
        "id": "QsAgPfRqStWK"
      },
      "source": [
        "# Dataset analysis"
      ]
    },
    {
      "cell_type": "code",
      "metadata": {
        "colab": {
          "base_uri": "https://localhost:8080/"
        },
        "id": "LT0pl2UG0H0O",
        "outputId": "8fed9aed-7695-406f-9074-e39eae027a9c"
      },
      "source": [
        "print(\"The max sentence length in training set is\", max_length)\n",
        "print(f'There are {len(train_stops)} sentences in the training set')\n",
        "print(f'There are {len(labels)} labels')\n",
        "print(f'There are {len(words)} unique words, {len(OOV)} of them are OOV')"
      ],
      "execution_count": 16,
      "outputs": [
        {
          "output_type": "stream",
          "name": "stdout",
          "text": [
            "The max sentence length in training set is 67\n",
            "There are 2046 sentences in the training set\n",
            "There are 45 labels\n",
            "There are 10947 unique words, 7 of them are OOV\n"
          ]
        }
      ]
    },
    {
      "cell_type": "markdown",
      "metadata": {
        "id": "ys_LD3OQc7Si"
      },
      "source": [
        "## Plot dataset distribution\n",
        "\n",
        "Train, validation and test set more or less follows the same distribution and they share similar characteristics.  \n",
        "Validation and test sets can be considered representative."
      ]
    },
    {
      "cell_type": "code",
      "metadata": {
        "id": "FsUG2Cee8vMU",
        "colab": {
          "base_uri": "https://localhost:8080/",
          "height": 421
        },
        "outputId": "23391203-07ba-4134-fdbd-bd2c319dbd6e"
      },
      "source": [
        "train_counts = train_set.groupby(by='label').count()\n",
        "train_counts = train_counts / len(train_set) * 100\n",
        "val_counts = val_set.groupby(by='label').count()\n",
        "val_counts = val_counts / len(val_set) * 100\n",
        "val_counts = val_counts.reindex(labels, fill_value=0)\n",
        "test_counts = test_set.groupby(by='label').count()\n",
        "test_counts = test_counts / len(test_set) * 100\n",
        "test_counts = test_counts.reindex(labels, fill_value=0)\n",
        "ind = np.arange(len(labels))\n",
        "\n",
        "plt.figure(figsize=(18,6))\n",
        "width = 0.2       \n",
        "plt.bar(ind, train_counts.loc[labels, 'word'] , width, label='Train set');\n",
        "plt.bar(ind + width, val_counts.loc[labels, 'word'], width, label='Validation set');\n",
        "plt.bar(ind + 2*width, test_counts.loc[labels, 'word'], width, label='Test set');\n",
        "\n",
        "plt.xlabel('Labels');\n",
        "plt.ylabel('Count %');\n",
        "plt.title('Dataset distribution');\n",
        "\n",
        "plt.xticks(ind + width / 3, labels, rotation=45);\n",
        "plt.legend();"
      ],
      "execution_count": 17,
      "outputs": [
        {
          "output_type": "display_data",
          "data": {
            "image/png": "[encoded data removed]",
            "text/plain": [
              "<Figure size 1296x432 with 1 Axes>"
            ]
          },
          "metadata": {
            "needs_background": "light"
          }
        }
      ]
    },
    {
      "cell_type": "code",
      "metadata": {
        "id": "dpuY1KPGZzKn",
        "colab": {
          "base_uri": "https://localhost:8080/",
          "height": 295
        },
        "outputId": "b9a7648d-72e0-4f37-aed2-9f910df13ca3"
      },
      "source": [
        "counts_word = train_set.groupby('word').count().to_numpy()[:, 0]\n",
        "\n",
        "plt.plot(np.sort(counts_word)[::-1]);\n",
        "plt.yscale('log')\n",
        "\n",
        "plt.xlabel('Words');\n",
        "plt.ylabel('Count');\n",
        "plt.title('Word distribution (log scale)');"
      ],
      "execution_count": 18,
      "outputs": [
        {
          "output_type": "display_data",
          "data": {
            "image/png": "[encoded data removed]",
            "text/plain": [
              "<Figure size 432x288 with 1 Axes>"
            ]
          },
          "metadata": {
            "needs_background": "light"
          }
        }
      ]
    },
    {
      "cell_type": "code",
      "metadata": {
        "id": "WvBvMKm8Da9J",
        "colab": {
          "base_uri": "https://localhost:8080/",
          "height": 974
        },
        "outputId": "14992719-27ec-48dc-e041-6c0dcd3c4670"
      },
      "source": [
        "def make_plot(sentences, name):\n",
        "  f = plt.figure(figsize=(12, 5))\n",
        "  ax1 = plt.subplot(121)\n",
        "  ax2 = plt.subplot(122)\n",
        "\n",
        "  ax1.hist(sentences.count()['word'], bins=250);\n",
        "  ax1.set_title(f\"Sentence length distribution ({name})\");\n",
        "\n",
        "  ax2.boxplot(sentences.count()['word']);\n",
        "  ax2.set_title(f\"Boxplot for sentence length ({name})\");\n",
        "\n",
        "name_sentences = {\n",
        "    'train': train_grouped,\n",
        "    'validation': val_grouped,\n",
        "    'test': test_grouped\n",
        "}\n",
        "\n",
        "for name in name_sentences:\n",
        "  make_plot(name_sentences[name], name)"
      ],
      "execution_count": 19,
      "outputs": [
        {
          "output_type": "display_data",
          "data": {
            "image/png": "[encoded data removed]",
            "text/plain": [
              "<Figure size 864x360 with 2 Axes>"
            ]
          },
          "metadata": {
            "needs_background": "light"
          }
        },
        {
          "output_type": "display_data",
          "data": {
            "image/png": "[encoded data removed]",
            "text/plain": [
              "<Figure size 864x360 with 2 Axes>"
            ]
          },
          "metadata": {
            "needs_background": "light"
          }
        },
        {
          "output_type": "display_data",
          "data": {
            "image/png": "[encoded data removed]",
            "text/plain": [
              "<Figure size 864x360 with 2 Axes>"
            ]
          },
          "metadata": {
            "needs_background": "light"
          }
        }
      ]
    },
    {
      "cell_type": "markdown",
      "metadata": {
        "id": "Qa9eCkjMwHsO"
      },
      "source": [
        "# Create RNN, Optimizer and DataLoader classes\n"
      ]
    },
    {
      "cell_type": "code",
      "metadata": {
        "id": "4qKGsuBvwKk6"
      },
      "source": [
        "class RNN(nn.Module):\n",
        "  \"\"\"\n",
        "    architecture: str\n",
        "      'LSTM'   : the baseline architecture\n",
        "      '2-LSTM' : 2 LSTM layers\n",
        "      '2-FC'   : 2 Dense Layers\n",
        "      'GRU'    : Gated Recurrent Unit\n",
        "  \"\"\"\n",
        "  def __init__(self, architecture, input_dim, hidden_size, output_size, dropout, device, CRF=False):\n",
        "    super(RNN, self).__init__()\n",
        "    self.architecture = architecture\n",
        "    self.n_layers = 2 if architecture == '2-LSTM' else 1\n",
        "    self.dropout_in_rnn = dropout if self.n_layers > 1 else 0\n",
        "    self.output_size = output_size\n",
        "    self.hidden_size = hidden_size\n",
        "    self.device = device\n",
        "    self.CRF = torchcrf.CRF(output_size, batch_first=True) if CRF else None\n",
        "    \n",
        "    if self.architecture == 'GRU':\n",
        "      self.rnn = nn.GRU(input_dim, hidden_size, num_layers=self.n_layers, bidirectional=True, dropout=self.dropout_in_rnn)\n",
        "    else:\n",
        "      self.rnn = nn.LSTM(input_dim, hidden_size, num_layers=self.n_layers, bidirectional=True, dropout=self.dropout_in_rnn)\n",
        "\n",
        "    self.dropout_layer = nn.Dropout(p=dropout)\n",
        "\n",
        "    if self.architecture == '2-FC':\n",
        "      self.fc = nn.Sequential(\n",
        "          nn.Linear(self.hidden_size*2, self.hidden_size),\n",
        "          nn.Dropout(p=dropout),\n",
        "          nn.Linear(self.hidden_size, output_size)\n",
        "      )\n",
        "    else:\n",
        "      self.fc = nn.Linear(self.hidden_size*2, output_size)\n",
        "\n",
        "    self.to(device)\n",
        "\n",
        "\n",
        "\n",
        "  def forward(self, input):\n",
        "    input = input.permute(1, 0, 2).to(self.device)\n",
        "\n",
        "    hidden_state = torch.randn(self.n_layers*2, input.shape[1], self.hidden_size).to(self.device)\n",
        "    if self.architecture == 'GRU':\n",
        "      hidden = hidden_state\n",
        "    else:\n",
        "      cell_state = torch.randn(self.n_layers*2, input.shape[1], self.hidden_size).to(self.device)\n",
        "      hidden = (hidden_state, cell_state)\n",
        "\n",
        "    out, hidden = self.rnn(input, hidden)\n",
        "\n",
        "    out = self.dropout_layer(out)\n",
        "\n",
        "    #process timesteps independently \n",
        "    logits = self.fc(out.view(-1, out.size(2)))\n",
        "\n",
        "    output = logits.view(input.shape[0], input.shape[1], self.output_size)\n",
        "\n",
        "    return output.permute(1, 0, 2).contiguous()\n",
        "\n",
        "  \n",
        "  def compute_loss(self, input, target):\n",
        "    target = target.to(self.device)\n",
        "    pred = self(input)\n",
        "\n",
        "    if self.CRF:\n",
        "      target = target.squeeze()\n",
        "      return -self.CRF(pred, target, mask= target!=-1,  reduction='mean')\n",
        "    \n",
        "    else:\n",
        "      target = target.flatten()\n",
        "      pred = pred.reshape(-1, pred.shape[-1])\n",
        "      return nn.CrossEntropyLoss(ignore_index=-1)(pred, target)\n",
        "\n",
        "\n",
        "  def prediction(self, input):\n",
        "    self.eval()\n",
        "    with torch.no_grad():\n",
        "      scores = self(input)\n",
        "      \n",
        "      if self.CRF:\n",
        "        classes_predicted = torch.Tensor(self.CRF.decode(scores))\n",
        "      else:\n",
        "        classes_predicted = torch.argmax(scores, 2)\n",
        "  \n",
        "      return classes_predicted.to(self.device)\n",
        "\n",
        "\n",
        "  def accuracy(self, input: DataLoader):\n",
        "    num_correct = 0\n",
        "    num_samples = 0\n",
        "    self.eval()\n",
        "\n",
        "    for data in input:\n",
        "        words = data['words'].to(self.device)\n",
        "        labels = data['labels'].to(self.device)\n",
        "        labels = labels.squeeze(-1)\n",
        "        lengths = data['lengths'].to(self.device)\n",
        "\n",
        "        classes_predicted = self.prediction(words)\n",
        "\n",
        "        for i, length in enumerate(lengths):\n",
        "          num_correct += torch.eq(classes_predicted[i, :length], labels[i, :length]).sum().item()\n",
        "\n",
        "        num_samples += lengths.sum()\n",
        "        \n",
        "    \n",
        "    return num_correct/num_samples\n",
        "\n"
      ],
      "execution_count": 20,
      "outputs": []
    },
    {
      "cell_type": "code",
      "metadata": {
        "id": "2MCssLkB8TUg"
      },
      "source": [
        "class Optimization:\n",
        "    def __init__(self, model, optimizer, train_loader, val_loader):\n",
        "      self.model = model\n",
        "      self.optimizer = optimizer\n",
        "      self.scheduler = ReduceLROnPlateau(optimizer)\n",
        "      self.train_loader = train_loader\n",
        "      self.history = []\n",
        "      self.val_loader = val_loader\n",
        "      self.val_history = []\n",
        "    \n",
        "    def train_epoch(self):\n",
        "      self.model.train()\n",
        "\n",
        "      for data in tqdm(self.train_loader):\n",
        "        loss = self.model.compute_loss(data['words'], data['labels'])\n",
        "        loss.backward()\n",
        "\n",
        "        self.optimizer.step()\n",
        "        self.optimizer.zero_grad()\n",
        "\n",
        "\n",
        "      self.history.append(loss.item())\n",
        "\n",
        "      val_loss = self._val_loss()\n",
        "      self.scheduler.step(val_loss)\n",
        "\n",
        "      return loss.item()\n",
        "\n",
        "    def _val_loss(self):\n",
        "      losses = []\n",
        "      for data in self.val_loader:\n",
        "        loss = self.model.compute_loss(data['words'], data['labels'])\n",
        "        losses.append(loss)\n",
        "      \n",
        "      mean = torch.mean(torch.Tensor(losses))\n",
        "      self.val_history.append(mean.item())\n",
        "\n",
        "      return mean"
      ],
      "execution_count": 21,
      "outputs": []
    },
    {
      "cell_type": "code",
      "metadata": {
        "id": "PpwRlpy68pSP"
      },
      "source": [
        "class MyDataset(Dataset):\n",
        "  def __init__(self, dataframe, embedder, encoder, max_length=None):\n",
        "    self.max_length = max_length if max_length else dataframe.count().max()['word']\n",
        "    self.dataframe = dataframe\n",
        "    self.embedder = embedder\n",
        "    self.encoder = encoder\n",
        "\n",
        "  def __len__(self):\n",
        "    return len(self.dataframe)\n",
        "\n",
        "  def __getitem__(self, idx):\n",
        "    sentence = self.dataframe.get_group(idx)[:self.max_length]\n",
        "\n",
        "    labels = np.array(sentence['label'], dtype = str).reshape(-1, 1)\n",
        "    encoded_labels = self.encoder.transform(labels)\n",
        "    encoded_words = self.embedder[sentence['word']]\n",
        "\n",
        "    return {'words': encoded_words, 'labels': encoded_labels, 'lengths': len(sentence)}"
      ],
      "execution_count": 22,
      "outputs": []
    },
    {
      "cell_type": "code",
      "source": [
        "def collate_fn_pad(batch):\n",
        "    batch_dict = []\n",
        "    lengths = torch.Tensor([sample['lengths'] for sample in batch])\n",
        "    padded_words = pad_sequence([torch.Tensor(sample['words']) for sample in batch], batch_first=True)\n",
        "    padded_labels = pad_sequence([torch.Tensor(sample['labels']) for sample in batch], batch_first=True, padding_value=-1)\n",
        "\n",
        "    return {'words': padded_words, 'labels': padded_labels.long(), 'lengths': lengths.int()}\n"
      ],
      "metadata": {
        "id": "kMAPwSCcqo97"
      },
      "execution_count": 23,
      "outputs": []
    },
    {
      "cell_type": "markdown",
      "metadata": {
        "id": "Moz4o3S4_YyY"
      },
      "source": [
        "# Training"
      ]
    },
    {
      "cell_type": "code",
      "source": [
        "%load_ext tensorboard\n",
        "%tensorboard --logdir=\"logs\""
      ],
      "metadata": {
        "id": "Li_cU3KAIaDg",
        "colab": {
          "base_uri": "https://localhost:8080/",
          "height": 821
        },
        "outputId": "cd51bb4e-a1a7-41dc-e69b-edca8066991b"
      },
      "execution_count": 24,
      "outputs": [
        {
          "output_type": "display_data",
          "data": {
            "application/javascript": [
              "\n",
              "        (async () => {\n",
              "            const url = new URL(await google.colab.kernel.proxyPort(6006, {'cache': true}));\n",
              "            url.searchParams.set('tensorboardColab', 'true');\n",
              "            const iframe = document.createElement('iframe');\n",
              "            iframe.src = url;\n",
              "            iframe.setAttribute('width', '100%');\n",
              "            iframe.setAttribute('height', '800');\n",
              "            iframe.setAttribute('frameborder', 0);\n",
              "            document.body.appendChild(iframe);\n",
              "        })();\n",
              "    "
            ],
            "text/plain": [
              "<IPython.core.display.Javascript object>"
            ]
          },
          "metadata": {}
        }
      ]
    },
    {
      "cell_type": "markdown",
      "source": [
        "## Training and tuning functions"
      ],
      "metadata": {
        "id": "fMOAz4J6gzN-"
      }
    },
    {
      "cell_type": "code",
      "source": [
        "def training_loop(model: nn.Module, \n",
        "                  train_set: torch.utils.data.DataLoader,\n",
        "                  val_set: torch.utils.data.DataLoader,\n",
        "                  patience: int,\n",
        "                  optimization: Optimization,\n",
        "                  save_path: str,\n",
        "                  writer: Optional[SummaryWriter] = None):\n",
        "\n",
        "  train_acc = []\n",
        "  val_acc = []\n",
        "  best_epoch = 0\n",
        "  epoch = 0\n",
        "\n",
        "  while epoch - best_epoch <= patience:\n",
        "    epoch += 1\n",
        "    print(f'Epoch {epoch}')\n",
        "\n",
        "    optimization.train_epoch()\n",
        "      \n",
        "    print(f'loss:{optimization.history[-1] : .3f}')\n",
        "    train_acc.append(model.accuracy(train_set))\n",
        "    print(f'train acc:{train_acc[-1]}')\n",
        "    val_acc.append(model.accuracy(val_set))\n",
        "    print(f'val acc:{val_acc[-1]}')\n",
        "    \n",
        "    if writer:\n",
        "      writer.add_scalars('Loss', {\"Train\": optimization.history[-1]}, epoch)\n",
        "      writer.add_scalars('Loss', {\"Validation\": optimization.val_history[-1]}, epoch)\n",
        "      writer.add_scalars('Train Acc', {\"Train\": val_acc[-1]}, epoch)\n",
        "      writer.add_scalars('Val Acc', {\"Train\": val_acc[-1]}, epoch)\n",
        "      writer.flush()\n",
        "\n",
        "    if val_acc[-1] >= val_acc[best_epoch-1]:\n",
        "      torch.save(model.state_dict(), save_path)\n",
        "      best_epoch = epoch\n",
        "      print(f'Model saved at {save_path}')\n",
        "      \n",
        "  if writer: writer.close()\n",
        "  print(f'\\n Best model at epoch {best_epoch}')\n",
        "\n",
        "  return val_acc[best_epoch-1]"
      ],
      "metadata": {
        "id": "2vQvpGglNAYf"
      },
      "execution_count": 25,
      "outputs": []
    },
    {
      "cell_type": "code",
      "source": [
        "def tuning_loop(train_loader: torch.utils.data.DataLoader,\n",
        "                val_loader: torch.utils.data.DataLoader,\n",
        "                patience: int,\n",
        "                search: dict, \n",
        "                writer: Optional[SummaryWriter] = None):\n",
        "\n",
        "  best_model_acc = 0\n",
        "  config = {}\n",
        "  for current_values in itertools.product(*tuple(search.values())):\n",
        "    current_dict = dict(zip(search.keys(), current_values))\n",
        "    \n",
        "    architecture = current_dict['architecture']\n",
        "    CRF = current_dict['CRF']\n",
        "    hidden_dim = current_dict['hidden_dim']\n",
        "    dropout = current_dict['dropout']\n",
        "    lr = current_dict['lr']\n",
        "    weight_decay = current_dict['weight_decay'] \n",
        "    eps = current_dict['eps']\n",
        "\n",
        "    print('='*15)\n",
        "    print('New setting with', current_dict)\n",
        "\n",
        "    model = RNN(architecture, EMBEDDING_SIZE, hidden_dim, len(labels), dropout, device, CRF=CRF)\n",
        "    optimizer = optim.Adam(model.parameters(), lr=lr, eps=eps, weight_decay=weight_decay)\n",
        "    optimization = Optimization(model, optimizer, train_loader, val_loader)\n",
        "\n",
        "    path = f'model-{architecture}-{hidden_dim}-{dropout}-{lr}-{weight_decay}-{eps}.pkl'\n",
        "    best_acc = training_loop(model, train_loader, val_loader, patience, optimization, path, writer=writer)\n",
        "\n",
        "    if best_acc > best_model_acc:\n",
        "      config = current_dict\n",
        "      best_model_acc = best_acc\n",
        "      new_path = f'model-{architecture}'\n",
        "      !\\cp $path $new_path\n",
        "\n",
        "  print(f'\\n Best model config : {config} with accuracy {best_model_acc}')"
      ],
      "metadata": {
        "id": "Ydu2_VLkB84u"
      },
      "execution_count": 26,
      "outputs": []
    },
    {
      "cell_type": "markdown",
      "source": [
        "## Start tuning"
      ],
      "metadata": {
        "id": "qylGENCbg8RB"
      }
    },
    {
      "cell_type": "code",
      "source": [
        "train_set = MyDataset(train_grouped, embedder, encoder)\n",
        "train_loader = DataLoader(train_set, batch_size=8, shuffle=True, collate_fn=collate_fn_pad)\n",
        "\n",
        "validation = MyDataset(val_grouped, embedder, encoder)\n",
        "val_loader = DataLoader(validation, batch_size=len(validation), collate_fn=collate_fn_pad)"
      ],
      "metadata": {
        "id": "LZif9p5fhEyr"
      },
      "execution_count": 27,
      "outputs": []
    },
    {
      "cell_type": "code",
      "source": [
        "search = {'architecture': ['LSTM', '2-LSTM', '2-FC', 'GRU'],\n",
        "          'CRF': [True, False],\n",
        "          'hidden_dim': [128, 256, 512],\n",
        "          'dropout': [0.4, 0.6, 0.8],\n",
        "          'lr': [1e-4, 1e-3, 1e-2],\n",
        "          'weight_decay': [0, 1e-3, 1e-2, 1e-1],\n",
        "          'eps': [1e-9, 1e-8, 1e-7]\n",
        "          }\n"
      ],
      "metadata": {
        "id": "Rt_I9itTPbHQ"
      },
      "execution_count": 28,
      "outputs": []
    },
    {
      "cell_type": "code",
      "source": [
        "PATIENCE = 10\n",
        "writer = torch.utils.tensorboard.writer.SummaryWriter(log_dir=os.path.join(\"logs\", \"BiLSTM\"))\n",
        "\n",
        "# Uncomment the following line to perform the tuning\n",
        "# tuning_loop(train_loader, val_loader, PATIENCE, search, writer)"
      ],
      "metadata": {
        "id": "nfFE-6kesGIi"
      },
      "execution_count": 29,
      "outputs": []
    },
    {
      "cell_type": "markdown",
      "source": [
        "After tuning all the possible combinations of hyperparameters and architectures, the results are pretty similar. Across the architectures, usually, the  best combination of hyperparameters is: \n",
        "* hidden_dim = 128\n",
        "* dropout = 0.6\n",
        "\n",
        "Adding CRF makes the validation accuracy slightly better (around 0.5% more) but doubles the train time.\n",
        "\n",
        "2-LSTM and 2-FC perform slightly better, so we decide to train them."
      ],
      "metadata": {
        "id": "vXj5F2_zheNL"
      }
    },
    {
      "cell_type": "markdown",
      "source": [
        "## Train best models"
      ],
      "metadata": {
        "id": "xRhMCaokFosb"
      }
    },
    {
      "cell_type": "code",
      "source": [
        "PATIENCE = 15\n",
        "writer = torch.utils.tensorboard.writer.SummaryWriter(log_dir=os.path.join(\"logs\", \"BiLSTM\"))\n",
        "\n",
        "model_lstm = RNN('2-LSTM', EMBEDDING_SIZE, 128, len(labels), 0.6, device, CRF=True)\n",
        "optimizer = optim.Adam(model_lstm.parameters(), lr=1e-3, eps=1e-8, weight_decay=1e-3)\n",
        "optimization = Optimization(model_lstm, optimizer, train_loader, val_loader)\n",
        "\n",
        "path = f'model-2-LSTM.pkl'\n",
        "\n",
        "# Uncomment the following line to perform the training\n",
        "# best_acc = training_loop(model_lstm, train_loader, val_loader, PATIENCE, optimization, path, writer=writer)\n",
        "\n",
        "# Load the already trained network\n",
        "!wget https://github.com/younik/pos-tagging/raw/main/models/model-2-LSTM.pkl\n",
        "model_lstm.load_state_dict(torch.load('model-2-LSTM.pkl'))"
      ],
      "metadata": {
        "id": "HipF0Tn5Fq5R",
        "outputId": "1bad57cd-18e9-49bc-d77d-098bc7747003",
        "colab": {
          "base_uri": "https://localhost:8080/"
        }
      },
      "execution_count": 30,
      "outputs": [
        {
          "output_type": "stream",
          "name": "stdout",
          "text": [
            "--2021-12-19 17:16:24--  https://github.com/younik/pos-tagging/raw/main/models/model-2-LSTM.pkl\n",
            "Resolving github.com (github.com)... 140.82.114.3\n",
            "Connecting to github.com (github.com)|140.82.114.3|:443... connected.\n",
            "HTTP request sent, awaiting response... 302 Found\n",
            "Location: https://raw.githubusercontent.com/younik/pos-tagging/main/models/model-2-LSTM.pkl [following]\n",
            "--2021-12-19 17:16:25--  https://raw.githubusercontent.com/younik/pos-tagging/main/models/model-2-LSTM.pkl\n",
            "Resolving raw.githubusercontent.com (raw.githubusercontent.com)... 185.199.108.133, 185.199.109.133, 185.199.110.133, ...\n",
            "Connecting to raw.githubusercontent.com (raw.githubusercontent.com)|185.199.108.133|:443... connected.\n",
            "HTTP request sent, awaiting response... 200 OK\n",
            "Length: 2376343 (2.3M) [application/octet-stream]\n",
            "Saving to: ‘model-2-LSTM.pkl’\n",
            "\n",
            "model-2-LSTM.pkl    100%[===================>]   2.27M  --.-KB/s    in 0.06s   \n",
            "\n",
            "2021-12-19 17:16:25 (36.8 MB/s) - ‘model-2-LSTM.pkl’ saved [2376343/2376343]\n",
            "\n"
          ]
        },
        {
          "output_type": "execute_result",
          "data": {
            "text/plain": [
              "<All keys matched successfully>"
            ]
          },
          "metadata": {},
          "execution_count": 30
        }
      ]
    },
    {
      "cell_type": "code",
      "source": [
        "model_fc = RNN('2-FC', EMBEDDING_SIZE, 128, len(labels), 0.6, device, CRF=True)\n",
        "optimizer = optim.Adam(model_fc.parameters(), lr=1e-3, eps=1e-8, weight_decay=1e-3)\n",
        "optimization = Optimization(model_fc, optimizer, train_loader, val_loader)\n",
        "\n",
        "path = f'model-2-FC.pkl'\n",
        "\n",
        "# Uncomment the following line to perform the training\n",
        "# best_acc = training_loop(model_fc, train_loader, val_loader, PATIENCE, optimization, path, writer=writer)\n",
        "\n",
        "# Load the already trained network\n",
        "!wget https://github.com/younik/pos-tagging/raw/main/models/model-2-FC.pkl\n",
        "model_fc.load_state_dict(torch.load('model-2-FC.pkl'))"
      ],
      "metadata": {
        "id": "L0ByoNTrGdws",
        "outputId": "fc5cef90-e378-478d-bec1-d38789e17114",
        "colab": {
          "base_uri": "https://localhost:8080/"
        }
      },
      "execution_count": 31,
      "outputs": [
        {
          "output_type": "stream",
          "name": "stdout",
          "text": [
            "--2021-12-19 17:16:25--  https://github.com/younik/pos-tagging/raw/main/models/model-2-FC.pkl\n",
            "Resolving github.com (github.com)... 140.82.113.4\n",
            "Connecting to github.com (github.com)|140.82.113.4|:443... connected.\n",
            "HTTP request sent, awaiting response... 302 Found\n",
            "Location: https://raw.githubusercontent.com/younik/pos-tagging/main/models/model-2-FC.pkl [following]\n",
            "--2021-12-19 17:16:26--  https://raw.githubusercontent.com/younik/pos-tagging/main/models/model-2-FC.pkl\n",
            "Resolving raw.githubusercontent.com (raw.githubusercontent.com)... 185.199.108.133, 185.199.109.133, 185.199.110.133, ...\n",
            "Connecting to raw.githubusercontent.com (raw.githubusercontent.com)|185.199.108.133|:443... connected.\n",
            "HTTP request sent, awaiting response... 200 OK\n",
            "Length: 903567 (882K) [application/octet-stream]\n",
            "Saving to: ‘model-2-FC.pkl’\n",
            "\n",
            "model-2-FC.pkl      100%[===================>] 882.39K  --.-KB/s    in 0.05s   \n",
            "\n",
            "2021-12-19 17:16:26 (18.0 MB/s) - ‘model-2-FC.pkl’ saved [903567/903567]\n",
            "\n"
          ]
        },
        {
          "output_type": "execute_result",
          "data": {
            "text/plain": [
              "<All keys matched successfully>"
            ]
          },
          "metadata": {},
          "execution_count": 31
        }
      ]
    },
    {
      "cell_type": "markdown",
      "source": [
        "# Confusion Matrix and Report\n"
      ],
      "metadata": {
        "id": "esRWaE1pRiWx"
      }
    },
    {
      "cell_type": "code",
      "source": [
        "test_dataset = MyDataset(test_grouped, embedder, encoder)\n",
        "test_loader = DataLoader(test_dataset, batch_size=len(test_set), shuffle=True, collate_fn=collate_fn_pad)"
      ],
      "metadata": {
        "id": "_SCjXraH-WNC"
      },
      "execution_count": 65,
      "outputs": []
    },
    {
      "cell_type": "code",
      "source": [
        "punctuation = np.array([',', '.', '``', \"''\",  ':', '#', '$' ])\n",
        "mask = np.array([l not in punctuation for l in labels], dtype=int)\n",
        "no_punc_labels = labels[mask == 1]\n",
        "\n",
        "y_true = torch.Tensor()\n",
        "y_pred_lstm = torch.Tensor().to(device)\n",
        "y_pred_fc = torch.Tensor().to(device)\n",
        "\n",
        "for data in test_loader:\n",
        "  y_true = torch.cat((y_true, data['labels']), 0)\n",
        "  y_pred_lstm = torch.cat((y_pred_lstm, model_lstm.prediction(data['words'])), 0)\n",
        "  y_pred_fc = torch.cat((y_pred_fc, model_fc.prediction(data['words'])), 0)"
      ],
      "metadata": {
        "id": "6Kwi9P0NlMsU",
        "outputId": "f0de28d9-18af-4194-96b0-716168bb004d",
        "colab": {
          "base_uri": "https://localhost:8080/"
        }
      },
      "execution_count": 33,
      "outputs": [
        {
          "output_type": "stream",
          "name": "stderr",
          "text": [
            "/usr/local/lib/python3.7/dist-packages/torchcrf/__init__.py:305: UserWarning: where received a uint8 condition tensor. This behavior is deprecated and will be removed in a future version of PyTorch. Use a boolean condition instead. (Triggered internally at  ../aten/src/ATen/native/TensorCompare.cpp:328.)\n",
            "  score = torch.where(mask[i].unsqueeze(1), next_score, score)\n"
          ]
        }
      ]
    },
    {
      "cell_type": "code",
      "source": [
        "y_true = y_true.squeeze()\n",
        "mask_padding = y_true != -1\n",
        "y_true = y_true[mask_padding].flatten().int()\n",
        "y_pred_lstm = y_pred_lstm[mask_padding].flatten()\n",
        "y_pred_fc = y_pred_fc[mask_padding].flatten()\n",
        "\n",
        "encoded_labels = encoder.transform(np.array(labels).reshape(-1, 1)).squeeze()\n",
        "\n",
        "\n",
        "report_lstm = classification_report(y_true, y_pred_lstm.cpu(), labels=encoded_labels, target_names=labels, output_dict=True, zero_division = 0)\n",
        "report_fc = classification_report(y_true, y_pred_fc.cpu(), labels=encoded_labels, target_names=labels, output_dict=True, zero_division = 0)"
      ],
      "metadata": {
        "id": "WYcCEqcARIiY"
      },
      "execution_count": 34,
      "outputs": []
    },
    {
      "cell_type": "code",
      "source": [
        "from prettytable import PrettyTable\n",
        "\n",
        "for report in [report_lstm, report_fc]:\n",
        "  class_table = PrettyTable(['Class', 'Precision', 'Recall', 'f1-score', 'support'])\n",
        "\n",
        "  macro_avg = np.zeros(3)\n",
        "  weighted_avg = np.zeros(3)\n",
        "  samples = int(report['macro avg']['support'])\n",
        "  n_classes = 0\n",
        "\n",
        "  for label in no_punc_labels:\n",
        "    class_table.add_row([str(label), report[label]['precision'], report[label]['recall'], report[label]['f1-score'], report[label]['support']])\n",
        "    macro_avg += np.array([report[label]['precision'], report[label]['recall'], report[label]['f1-score']])\n",
        "    weighted_avg += np.array([report[label]['precision'], report[label]['recall'], report[label]['f1-score']])*int(report[label]['support'])\n",
        "    \n",
        "    if report[label]['support'] > 0: n_classes += 1\n",
        "\n",
        "  print(class_table)\n",
        "\n",
        "  macro_avg = macro_avg / n_classes\n",
        "  weighted_avg = weighted_avg / samples\n",
        "\n",
        "  average_table = PrettyTable(['Average', 'Precision', 'Recall', 'f1-score'])# , 'accuracy'])\n",
        "  average_table.add_row(['macro avg', macro_avg[0],  macro_avg[1],  macro_avg[2]])# , report['accuracy']])\n",
        "  average_table.add_row(['weighted avg', weighted_avg[0],  weighted_avg[1],  weighted_avg[2]])#, report['accuracy']])\n",
        "\n",
        "  print(average_table)"
      ],
      "metadata": {
        "id": "uJ5BAno2DT0d",
        "outputId": "d2b00871-835b-47e8-dd4b-7e915b850812",
        "colab": {
          "base_uri": "https://localhost:8080/"
        }
      },
      "execution_count": 36,
      "outputs": [
        {
          "output_type": "stream",
          "name": "stdout",
          "text": [
            "+-------+--------------------+----------------------+---------------------+---------+\n",
            "| Class |     Precision      |        Recall        |       f1-score      | support |\n",
            "+-------+--------------------+----------------------+---------------------+---------+\n",
            "|  NNP  | 0.8993839835728953 |  0.8736702127659575  |  0.8863406408094434 |   1504  |\n",
            "|   CD  | 0.9813736903376019 |  0.9825174825174825  |  0.9819452533488644 |   858   |\n",
            "|  NNS  | 0.8657786885245902 |   0.89798087141339   |  0.881585811163276  |   941   |\n",
            "|   JJ  | 0.7425641025641025 |  0.7886710239651417  |  0.7649234020073957 |   918   |\n",
            "|   MD  | 0.9707602339181286 |  0.9940119760479041  |  0.9822485207100592 |   167   |\n",
            "|   VB  | 0.9256594724220624 |  0.9578163771712159  |  0.9414634146341465 |   403   |\n",
            "|   DT  | 0.9895209580838323 |  0.9902621722846442  |  0.989891426432048  |   1335  |\n",
            "|   NN  | 0.8594262295081967 |  0.8799832144355854  |  0.8695832469417376 |   2383  |\n",
            "|   IN  | 0.9829760403530895 |  0.9564417177914111  |  0.9695273631840796 |   1630  |\n",
            "|  VBZ  | 0.931899641577061  |  0.9285714285714286  |  0.9302325581395349 |   280   |\n",
            "|  VBG  | 0.6832579185520362 |  0.6832579185520362  |  0.6832579185520362 |   221   |\n",
            "|   CC  | 0.9972527472527473 |  0.9918032786885246  |  0.9945205479452055 |   366   |\n",
            "|  VBD  | 0.9362041467304625 |  0.9258675078864353  |  0.9310071371927041 |   634   |\n",
            "|  VBN  | 0.8416149068322981 |  0.7404371584699454  |  0.7877906976744186 |   366   |\n",
            "|   RB  | 0.821882951653944  |  0.847769028871391   |  0.834625322997416  |   381   |\n",
            "|   TO  | 0.9948453608247423 |         1.0          |  0.9974160206718347 |   386   |\n",
            "|  PRP  | 0.9895833333333334 |  0.9895833333333334  |  0.9895833333333334 |   192   |\n",
            "|  RBR  | 0.4666666666666667 |  0.4666666666666667  |  0.4666666666666667 |    15   |\n",
            "|  WDT  | 0.9310344827586207 |  0.9642857142857143  |  0.9473684210526316 |    84   |\n",
            "|  VBP  |     0.8828125      |  0.8432835820895522  |  0.8625954198473283 |   134   |\n",
            "|   RP  |        0.56        |  0.8484848484848485  |  0.6746987951807228 |    33   |\n",
            "|  PRP$ | 0.9801980198019802 |         1.0          |         0.99        |    99   |\n",
            "|  JJS  | 0.9666666666666667 |  0.9354838709677419  |  0.9508196721311476 |    31   |\n",
            "|  POS  |        1.0         |         1.0          |         1.0         |   152   |\n",
            "|   EX  |        1.0         |         1.0          |         1.0         |    5    |\n",
            "|   WP  | 0.9090909090909091 |         1.0          |  0.9523809523809523 |    20   |\n",
            "|  JJR  |        0.75        |  0.6101694915254238  |  0.6728971962616822 |    59   |\n",
            "|  WRB  | 0.9444444444444444 |  0.7083333333333334  |  0.8095238095238096 |    24   |\n",
            "|  NNPS |        0.5         | 0.045454545454545456 | 0.08333333333333334 |    44   |\n",
            "|  WP$  |        1.0         |         0.75         |  0.8571428571428571 |    4    |\n",
            "| -LRB- | 0.9444444444444444 |  0.9444444444444444  |  0.9444444444444444 |    18   |\n",
            "| -RRB- | 0.8181818181818182 |         1.0          |         0.9         |    18   |\n",
            "|  PDT  |        0.0         |         0.0          |         0.0         |    4    |\n",
            "|  RBS  |        1.0         |  0.6666666666666666  |         0.8         |    3    |\n",
            "|   FW  |        0.0         |         0.0          |         0.0         |    0    |\n",
            "|   UH  |        0.0         |         0.0          |         0.0         |    0    |\n",
            "|  SYM  |        0.0         |         0.0          |         0.0         |    0    |\n",
            "|   LS  |        0.0         |         0.0          |         0.0         |    0    |\n",
            "+-------+--------------------+----------------------+---------------------+---------+\n",
            "+--------------+--------------------+--------------------+--------------------+\n",
            "|   Average    |     Precision      |       Recall       |      f1-score      |\n",
            "+--------------+--------------------+--------------------+--------------------+\n",
            "|  macro avg   | 0.8549271870028431 | 0.8297622901966105 | 0.8331710054030326 |\n",
            "| weighted avg | 0.7986471527514668 | 0.7987134126728852 | 0.7977914462107769 |\n",
            "+--------------+--------------------+--------------------+--------------------+\n",
            "+-------+--------------------+---------------------+--------------------+---------+\n",
            "| Class |     Precision      |        Recall       |      f1-score      | support |\n",
            "+-------+--------------------+---------------------+--------------------+---------+\n",
            "|  NNP  | 0.8958333333333334 |  0.8863031914893617 | 0.8910427807486632 |   1504  |\n",
            "|   CD  | 0.9825174825174825 |  0.9825174825174825 | 0.9825174825174825 |   858   |\n",
            "|  NNS  | 0.8831578947368421 |  0.8916046758767269 | 0.8873611845584347 |   941   |\n",
            "|   JJ  | 0.7682403433476395 |  0.7799564270152506 | 0.774054054054054  |   918   |\n",
            "|   MD  | 0.9653179190751445 |         1.0         | 0.9823529411764705 |   167   |\n",
            "|   VB  | 0.9292682926829269 |  0.9454094292803971 | 0.937269372693727  |   403   |\n",
            "|   DT  | 0.9909977494373593 |  0.9895131086142323 | 0.9902548725637181 |   1335  |\n",
            "|   NN  | 0.852858856457417  |  0.8950902224087285 | 0.8734643734643734 |   2383  |\n",
            "|   IN  |        0.98        |  0.9619631901840491 | 0.9708978328173374 |   1630  |\n",
            "|  VBZ  | 0.9545454545454546 |         0.9         | 0.9264705882352942 |   280   |\n",
            "|  VBG  | 0.7211538461538461 |  0.6787330316742082 | 0.6993006993006994 |   221   |\n",
            "|   CC  | 0.9972527472527473 |  0.9918032786885246 | 0.9945205479452055 |   366   |\n",
            "|  VBD  | 0.926791277258567  |  0.9384858044164038 | 0.932601880877743  |   634   |\n",
            "|  VBN  | 0.8626198083067093 |  0.7377049180327869 | 0.7952871870397644 |   366   |\n",
            "|   RB  | 0.8096446700507615 |  0.8372703412073491 | 0.823225806451613  |   381   |\n",
            "|   TO  | 0.9974160206718347 |         1.0         | 0.9987063389391979 |   386   |\n",
            "|  PRP  | 0.9947916666666666 |  0.9947916666666666 | 0.9947916666666666 |   192   |\n",
            "|  RBR  | 0.4666666666666667 |  0.4666666666666667 | 0.4666666666666667 |    15   |\n",
            "|  WDT  | 0.9425287356321839 |  0.9761904761904762 |  0.95906432748538  |    84   |\n",
            "|  VBP  | 0.8854961832061069 |  0.8656716417910447 | 0.8754716981132075 |   134   |\n",
            "|   RP  | 0.5208333333333334 |  0.7575757575757576 | 0.617283950617284  |    33   |\n",
            "|  PRP$ |        0.99        |         1.0         | 0.9949748743718593 |    99   |\n",
            "|  JJS  |        1.0         |  0.7741935483870968 | 0.8727272727272727 |    31   |\n",
            "|  POS  | 0.9805194805194806 |  0.993421052631579  | 0.9869281045751634 |   152   |\n",
            "|   EX  | 0.8333333333333334 |         1.0         | 0.9090909090909091 |    5    |\n",
            "|   WP  | 0.9523809523809523 |         1.0         | 0.975609756097561  |    20   |\n",
            "|  JJR  | 0.8235294117647058 |  0.711864406779661  | 0.7636363636363636 |    59   |\n",
            "|  WRB  |        1.0         |  0.7083333333333334 | 0.8292682926829268 |    24   |\n",
            "|  NNPS | 0.6666666666666666 | 0.09090909090909091 |        0.16        |    44   |\n",
            "|  WP$  |        1.0         |         1.0         |        1.0         |    4    |\n",
            "| -LRB- |        1.0         |         1.0         |        1.0         |    18   |\n",
            "| -RRB- | 0.9473684210526315 |         1.0         | 0.972972972972973  |    18   |\n",
            "|  PDT  |        0.0         |         0.0         |        0.0         |    4    |\n",
            "|  RBS  |        1.0         |         1.0         |        1.0         |    3    |\n",
            "|   FW  |        0.0         |         0.0         |        0.0         |    0    |\n",
            "|   UH  |        0.0         |         0.0         |        0.0         |    0    |\n",
            "|  SYM  |        0.0         |         0.0         |        0.0         |    0    |\n",
            "|   LS  |        0.0         |         0.0         |        0.0         |    0    |\n",
            "+-------+--------------------+---------------------+--------------------+---------+\n",
            "+--------------+--------------------+--------------------+--------------------+\n",
            "|   Average    |     Precision      |       Recall       |      f1-score      |\n",
            "+--------------+--------------------+--------------------+--------------------+\n",
            "|  macro avg   | 0.8682861925603175 | 0.8457639041863785 | 0.8481710235025886 |\n",
            "| weighted avg | 0.8016568168097753 | 0.8016725635252493 | 0.8006650396950427 |\n",
            "+--------------+--------------------+--------------------+--------------------+\n"
          ]
        }
      ]
    },
    {
      "cell_type": "code",
      "source": [
        "cm = confusion_matrix(y_true, y_pred_lstm.cpu(), labels=encoded_labels)\n",
        "\n",
        "plt.rcParams[\"figure.figsize\"] = (30, 20)\n",
        "\n",
        "disp = ConfusionMatrixDisplay(confusion_matrix=cm, display_labels=labels)\n",
        "disp.plot();"
      ],
      "metadata": {
        "id": "iNDrReaAyaHW",
        "outputId": "100f8829-eeb1-4b9f-dbd9-98cbd3357ee0",
        "colab": {
          "base_uri": "https://localhost:8080/",
          "height": 1000
        }
      },
      "execution_count": 73,
      "outputs": [
        {
          "output_type": "display_data",
          "data": {
            "image/png": "[encoded data removed]",
            "text/plain": [
              "<Figure size 2160x1440 with 2 Axes>"
            ]
          },
          "metadata": {
            "needs_background": "light"
          }
        }
      ]
    }
  ]
}