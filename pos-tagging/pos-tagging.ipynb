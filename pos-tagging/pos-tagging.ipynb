{
  "nbformat": 4,
  "nbformat_minor": 0,
  "metadata": {
    "colab": {
      "name": "Assignment_1.ipynb",
      "provenance": [],
      "collapsed_sections": [
        "ys_LD3OQc7Si"
      ]
    },
    "kernelspec": {
      "name": "python3",
      "display_name": "Python 3"
    },
    "accelerator": "GPU"
  },
  "cells": [
    {
      "cell_type": "markdown",
      "metadata": {
        "id": "-WeCeITXoxLf"
      },
      "source": [
        "# Assignment 1\n",
        "\n",
        "**Due to**: 23/12/2021 (dd/mm/yyyy)\n",
        "\n",
        "**Credits**: Andrea Galassi, Federico Ruggeri, Paolo Torroni\n",
        "\n",
        "**Summary**: Part-of Speech (POS) tagging as Sequence Labelling using Recurrent Neural Architectures"
      ]
    },
    {
      "cell_type": "markdown",
      "metadata": {
        "id": "a4_wqPdlBcKS"
      },
      "source": [
        "# Intro\n",
        "\n",
        "In this assignment  we will ask you to perform POS tagging using neural architectures\n",
        "\n",
        "You are asked to follow these steps:\n",
        "*   Download the corpora and split it in training and test sets, structuring a dataframe.\n",
        "*   Embed the words using GloVe embeddings\n",
        "*   Create a baseline model, using a simple neural architecture\n",
        "*   Experiment doing small modifications to the baseline model, choose hyperparameters using the validation set\n",
        "*   Evaluate your two best model\n",
        "*   Analyze the errors of your model\n",
        "\n",
        "\n",
        "**Task**: given a corpus of documents, predict the POS tag for each word\n",
        "\n",
        "**Corpus**:\n",
        "Ignore the numeric value in the third column, use only the words/symbols and its label. \n",
        "The corpus is available at:\n",
        "https://raw.githubusercontent.com/nltk/nltk_data/gh-pages/packages/corpora/dependency_treebank.zip\n",
        "\n",
        "**Splits**: documents 1-100 are the train set, 101-150 validation set, 151-199 test set.\n",
        "\n",
        "\n",
        "**Features**: you MUST use GloVe embeddings as the only input features to the model.\n",
        "\n",
        "**Splitting**: you can decide to split documents into sentences or not, the choice is yours.\n",
        "\n",
        "**I/O structure**: The input data will have three dimensions: 1-documents/sentences, 2-token, 3-features; for the output there are 2 possibilities: if you use one-hot encoding it will be 1-documents/sentences, 2-token labels, 3-classes, if you use a single integer that indicates the number of the class it will be 1-documents/sentences, 2-token labels.\n",
        "\n",
        "**Baseline**: two layers architecture: a Bidirectional LSTM layer and a Dense/Fully-Connected layer on top; the choice of hyper-parameters is yours.\n",
        "\n",
        "**Architectures**: experiment using a GRU instead of the LSTM, adding an additional LSTM layer, and adding an additional dense layer; do not mix these variantions.\n",
        "\n",
        "\n",
        "**Training and Experiments**: all the experiments must involve only the training and validation sets.\n",
        "\n",
        "**Evaluation**: in the end, only the two best models of your choice (according to the validation set) must be evaluated on the test set. The main metric must be F1-Macro computed between the various part of speech. DO NOT CONSIDER THE PUNCTUATION CLASSES.\n",
        "\n",
        "**Metrics**: the metric you must use to evaluate your final model is the F1-macro, WITHOUT considering punctuation/symbols classes; during the training process you can use accuracy because you can't use the F1 metric unless you use a single (gigantic) batch because there is no way to aggregate \"partial\" F1 scores computed on mini-batches.\n",
        "\n",
        "**Discussion and Error Analysis** : verify and discuss if the results on the test sets are coherent with those on the validation set; analyze the errors done by your model, try to understand which may be the causes and think about how to improve it.\n",
        "\n",
        "**Report**: you are asked to deliver the code of your experiments and a small pdf report of about 2 pages; the pdf must begin with the names of the people of your team and a small abstract (4-5 lines) that sums up your findings.\n",
        "\n",
        "# Out Of Vocabulary (OOV) terms\n",
        "\n",
        "How to handle words that are not in GloVe vocabulary?\n",
        "You can handle them as you want (random embedding, placeholder, whatever!), but they must be STATIC embeddings (you cannot train them).\n",
        "\n",
        "But there is a very important caveat! As usual, the element of the test set must not influence the elements of the other splits!\n",
        "\n",
        "So, when you compute new embeddings for train+validation, you must forget about test documents.\n",
        "The motivation is to emulate a real-world scenario, where you select and train a model in the first stage, without knowing nothing about the testing environment.\n",
        "\n",
        "For implementation convenience, you CAN use a single vocabulary file/matrix/whatever. The principle of the previous point is that the embeddings inside that file/matrix must be generated independently for train and test splits.\n",
        "\n",
        "Basically in a real-world scenario, this is what would happen:\n",
        "1. Starting vocabulary V1 (in this assignment, GloVe vocabulary)\n",
        "2. Compute embeddings for terms out of vocabulary V1 (OOV1) of the training split \n",
        "3. Add embeddings to the vocabulary, so to obtain vocabulary V2=V1+OOV1\n",
        "4. Training of the model(s)\n",
        "5. Compute embeddings for terms OOV2 of the validation split \n",
        "6. Add embeddings to the vocabulary, so to obtain vocabulary V3=V1+OOV1+OOV2\n",
        "7. Validation of the model(s)\n",
        "8. Compute embeddings for terms OOV3 of the test split \n",
        "9. Add embeddings to the vocabulary, so to obtain vocabulary V4=V1+OOV1+OOV2+OOV3\n",
        "10. Testing of the final model\n",
        "\n",
        "In this case, where we already have all the documents, we can simplify the process a bit, but the procedure must remain rigorous.\n",
        "\n",
        "1. Starting vocabulary V1 (in this assignment, GloVe vocabulary)\n",
        "2. Compute embeddings for terms out of vocabulary V1 (OOV1) of the training split \n",
        "3. Add embeddings to the vocabulary, so to obtain vocabulary V2=V1+OOV1\n",
        "4. Compute embeddings for terms OOV2 of the validation split \n",
        "5. Add embeddings to the vocabulary, so to obtain vocabulary V3=V1+OOV1+OOV2\n",
        "6. Compute embeddings for terms OOV3 of the test split \n",
        "7. Add embeddings to the vocabulary, so to obtain vocabulary V4=V1+OOV1+OOV2\n",
        "8. Training of the model(s)\n",
        "9. Validation of the model(s)\n",
        "10. Testing of the final model\n",
        "\n",
        "Step 2 and step 6 must be completely independent of each other, for what concerns the method and the documents. But they can rely on the previous vocabulary (V1 for step 2 and V3 for step 6)\n",
        "THEREFORE if a word is present both in the training set and the test split and not in the starting vocabulary, its embedding is computed in step 2) and it is not considered OOV anymore in step 6).\n",
        "\n",
        "# Report\n",
        "The report must not be just a copy and paste of graphs and tables!\n",
        "\n",
        "The report must not be longer than 2 pages and must contain:\n",
        "* The names of the member of your team\n",
        "* A short abstract (4-5 lines) that sum ups everything\n",
        "* A general description of the task you have addressed and how you have addressed it\n",
        "* A short description of the models you have used\n",
        "* Some tables that sum up your findings in validation and test and a discussion of those results\n",
        "* The most relevant findings of your error analysis\n",
        "\n",
        "# Evaluation Criterion\n",
        "\n",
        "The goal of this assignment is not to prove you can find best model ever, but to face a common task, structure it correctly, and follow a correct and rigorous experimental procedure.\n",
        "In other words, we don't care if you final models are awful as long as you have followed the correct procedure and wrote a decent report.\n",
        "\n",
        "The score of the assignment will be computed roughly as follows\n",
        "* 1 point for the general setting of the problem\n",
        "* 1 point for the handling of OOV terms\n",
        "* 1 point for the models\n",
        "* 1 point for train-validation-test procedure\n",
        "* 2 point for the discussion of the results, error analysis, and report\n",
        "\n",
        "This distribution of scores is tentative and we may decide to alter it at any moment.\n",
        "We also reserve the right to assign a small bonus (0.5 points) to any assignment that is particularly worthy. Similarly, in case of grave errors, we may decide to assign an equivalent malus (-0.5 points).\n",
        "\n",
        "# Contacts\n",
        "\n",
        "In case of any doubt, question, issue, or help we highly recommend you to check the [course useful material](https://virtuale.unibo.it/pluginfile.php/1036039/mod_resource/content/2/NLP_Course_Useful_Material.pdf) for additional information, and to use the Virtuale forums to discuss with other students.\n",
        "\n",
        "You can always contact us at the following email addresses. To increase the probability of a prompt response, we reccomend you to write to both the teaching assistants.\n",
        "\n",
        "Teaching Assistants:\n",
        "\n",
        "* Andrea Galassi -> a.galassi@unibo.it\n",
        "* Federico Ruggeri -> federico.ruggeri6@unibo.it\n",
        "\n",
        "Professor:\n",
        "\n",
        "* Paolo Torroni -> p.torroni@unibo.it\n",
        "\n",
        "\n",
        "# FAQ\n",
        "* You can use a non-trainable Embedding layer to load the glove embeddings\n",
        "* You can use any library of your choice to implement the networks. Two options are tensorflow/keras or pythorch. Both these libraries have all the classes you need to implement these simple architectures and there are plenty of tutorials around, where you can learn how to use them."
      ]
    },
    {
      "cell_type": "markdown",
      "metadata": {
        "id": "D8PgAJyy40SY"
      },
      "source": [
        "# Import libraries & download dataset"
      ]
    },
    {
      "cell_type": "code",
      "metadata": {
        "id": "caNU8UeFxupB",
        "colab": {
          "base_uri": "https://localhost:8080/"
        },
        "outputId": "e223129e-f96c-44bb-ee8b-a394680fb607"
      },
      "source": [
        "import os\n",
        "import pandas as pd\n",
        "import numpy as np\n",
        "import matplotlib.pyplot as plt\n",
        "import csv\n",
        "import seaborn as sns  \n",
        "from sklearn.metrics import confusion_matrix, classification_report, ConfusionMatrixDisplay\n",
        "\n",
        "import torch\n",
        "import torch.nn as nn\n",
        "from torch.utils.data import Dataset, DataLoader\n",
        "from torch.utils.tensorboard import SummaryWriter\n",
        "from torch.nn.utils.rnn import pad_sequence\n",
        "import torch.optim as optim\n",
        "from torch.optim.lr_scheduler import ReduceLROnPlateau\n",
        "\n",
        "from sklearn.preprocessing import OrdinalEncoder\n",
        "\n",
        "from tqdm import tqdm\n",
        "from typing import Optional\n",
        "\n",
        "import gensim\n",
        "import gensim.downloader as gloader  \n",
        "\n",
        "import re\n",
        "\n",
        "!pip install python-Levenshtein\n",
        "import Levenshtein\n",
        "\n",
        "!pip install pytorch-crf\n",
        "import torchcrf\n",
        "\n",
        "import itertools\n",
        "from functools import partial\n",
        "\n",
        "device = torch.device(\"cuda\" if torch.cuda.is_available() else \"cpu\")"
      ],
      "execution_count": 2,
      "outputs": [
        {
          "output_type": "stream",
          "name": "stdout",
          "text": [
            "Collecting python-Levenshtein\n",
            "  Downloading python-Levenshtein-0.12.2.tar.gz (50 kB)\n",
            "\u001b[?25l\r\u001b[K     |██████▌                         | 10 kB 16.9 MB/s eta 0:00:01\r\u001b[K     |█████████████                   | 20 kB 5.8 MB/s eta 0:00:01\r\u001b[K     |███████████████████▌            | 30 kB 7.8 MB/s eta 0:00:01\r\u001b[K     |██████████████████████████      | 40 kB 9.3 MB/s eta 0:00:01\r\u001b[K     |████████████████████████████████| 50 kB 2.2 MB/s \n",
            "\u001b[?25hRequirement already satisfied: setuptools in /usr/local/lib/python3.7/dist-packages (from python-Levenshtein) (57.4.0)\n",
            "Building wheels for collected packages: python-Levenshtein\n",
            "  Building wheel for python-Levenshtein (setup.py) ... \u001b[?25l\u001b[?25hdone\n",
            "  Created wheel for python-Levenshtein: filename=python_Levenshtein-0.12.2-cp37-cp37m-linux_x86_64.whl size=149863 sha256=e97abec0271f16c108a09c4e4c949cd8c34f0f5e23f8494797e3016217cb2edb\n",
            "  Stored in directory: /root/.cache/pip/wheels/05/5f/ca/7c4367734892581bb5ff896f15027a932c551080b2abd3e00d\n",
            "Successfully built python-Levenshtein\n",
            "Installing collected packages: python-Levenshtein\n",
            "Successfully installed python-Levenshtein-0.12.2\n",
            "Collecting pytorch-crf\n",
            "  Downloading pytorch_crf-0.7.2-py3-none-any.whl (9.5 kB)\n",
            "Installing collected packages: pytorch-crf\n",
            "Successfully installed pytorch-crf-0.7.2\n"
          ]
        }
      ]
    },
    {
      "cell_type": "code",
      "metadata": {
        "id": "y2j0JgX8wpjH",
        "colab": {
          "base_uri": "https://localhost:8080/"
        },
        "outputId": "b4099c33-a23e-46e5-8a75-c968f74baf9f"
      },
      "source": [
        "!wget https://raw.githubusercontent.com/nltk/nltk_data/gh-pages/packages/corpora/dependency_treebank.zip\n",
        "!unzip -q dependency_treebank.zip"
      ],
      "execution_count": 1,
      "outputs": [
        {
          "output_type": "stream",
          "name": "stdout",
          "text": [
            "--2021-12-19 20:33:03--  https://raw.githubusercontent.com/nltk/nltk_data/gh-pages/packages/corpora/dependency_treebank.zip\n",
            "Resolving raw.githubusercontent.com (raw.githubusercontent.com)... 185.199.108.133, 185.199.109.133, 185.199.110.133, ...\n",
            "Connecting to raw.githubusercontent.com (raw.githubusercontent.com)|185.199.108.133|:443... connected.\n",
            "HTTP request sent, awaiting response... 200 OK\n",
            "Length: 457429 (447K) [application/zip]\n",
            "Saving to: ‘dependency_treebank.zip’\n",
            "\n",
            "\rdependency_treebank   0%[                    ]       0  --.-KB/s               \rdependency_treebank 100%[===================>] 446.71K  --.-KB/s    in 0.03s   \n",
            "\n",
            "2021-12-19 20:33:03 (12.6 MB/s) - ‘dependency_treebank.zip’ saved [457429/457429]\n",
            "\n"
          ]
        }
      ]
    },
    {
      "cell_type": "markdown",
      "metadata": {
        "id": "onQNYcuwCTiW"
      },
      "source": [
        "# Dataframe creation and split into train, val and test set\n",
        "\n",
        "The way to split the dataset is already defined:  \n",
        "train set : documents 1-100;  \n",
        "validation set : documents 101-150;  \n",
        "test set : documents 151-199;"
      ]
    },
    {
      "cell_type": "code",
      "metadata": {
        "id": "EADZWC3txls8"
      },
      "source": [
        "corpus_path = 'dependency_treebank/'\n",
        "file_list = sorted(os.listdir(corpus_path))\n",
        "\n",
        "dfs = [pd.read_csv(corpus_path + f, sep='\\t', names=['word', 'label', 'foo']).drop('foo', 1)\n",
        "          for f in file_list]\n",
        "\n",
        "\n",
        "dataset = pd.concat(dfs, ignore_index=True)\n",
        "dataset['word'] = dataset['word'].transform(lambda x : x.lower())  \n",
        "\n",
        "train_set = pd.concat(dfs[:100], ignore_index=True)\n",
        "train_set['word'] = train_set['word'].transform(lambda x : x.lower())\n",
        "\n",
        "val_set = pd.concat(dfs[100:150], ignore_index=True)\n",
        "val_set['word'] = val_set['word'].transform(lambda x : x.lower())\n",
        "\n",
        "test_set = pd.concat(dfs[150:199], ignore_index=True)\n",
        "test_set['word'] = test_set['word'].transform(lambda x : x.lower())\n",
        "\n",
        "labels = dataset['label'].unique()\n",
        "words = dataset['word'].unique()"
      ],
      "execution_count": 42,
      "outputs": []
    },
    {
      "cell_type": "code",
      "source": [
        "encoder = OrdinalEncoder(dtype=np.int64)\n",
        "encoder.fit(labels.reshape(-1, 1)) "
      ],
      "metadata": {
        "id": "4yRzzo9rgC8z",
        "outputId": "daa2c9a0-fed1-4f9e-b120-56a9dcde77d4",
        "colab": {
          "base_uri": "https://localhost:8080/"
        }
      },
      "execution_count": 43,
      "outputs": [
        {
          "output_type": "execute_result",
          "data": {
            "text/plain": [
              "OrdinalEncoder(dtype=<class 'numpy.int64'>)"
            ]
          },
          "metadata": {},
          "execution_count": 43
        }
      ]
    },
    {
      "cell_type": "code",
      "source": [
        "EMBEDDING_SIZE = 300\n",
        "embedder = gloader.load(f'glove-wiki-gigaword-{EMBEDDING_SIZE}')"
      ],
      "metadata": {
        "id": "ouMAodz5jQh7",
        "outputId": "62c7475c-22b3-4db5-dc18-ee46bbf1e419",
        "colab": {
          "base_uri": "https://localhost:8080/"
        }
      },
      "execution_count": 39,
      "outputs": [
        {
          "output_type": "stream",
          "name": "stdout",
          "text": [
            "[==================================================] 100.0% 376.1/376.1MB downloaded\n"
          ]
        }
      ]
    },
    {
      "cell_type": "markdown",
      "source": [
        "We started splitting documents in sentences using \n",
        "punctuation labelled as '.' as end of sentences."
      ],
      "metadata": {
        "id": "6thVZ3VqkX1l"
      }
    },
    {
      "cell_type": "code",
      "metadata": {
        "id": "ZQIUPI3h7DCl"
      },
      "source": [
        "train_stops = train_set[(train_set['label']=='.')].index\n",
        "max_length = max(train_stops[1:] - train_stops[:-1])\n",
        "\n",
        "val_stops = val_set[(val_set['label']=='.')].index\n",
        "max_length_val = max(val_stops[1:] - val_stops[:-1])\n",
        "\n",
        "test_stops = test_set[(test_set['label']=='.')].index\n",
        "max_length_test = max(test_stops[1:] - test_stops[:-1])\n",
        "\n",
        "\n",
        "OOV_train = set(train_set['word'].unique()).difference(set(embedder.vocab.keys()))\n",
        "OOV_val = set(val_set['word'].unique()).difference(set(embedder.vocab.keys()))\n",
        "OOV_test = set(test_set['word'].unique()).difference(set(embedder.vocab.keys()))"
      ],
      "execution_count": 44,
      "outputs": []
    },
    {
      "cell_type": "code",
      "source": [
        "print('Before pre-processing:')\n",
        "print(\"Train set unique words:\", len(train_set['word'].unique()))\n",
        "print('OOV:', len(OOV_train))\n",
        "print('Max sentence length', max_length)\n",
        "print(\"\\nValidation set unique words:\", len(val_set['word'].unique()))\n",
        "print('Max sentence length', max_length_val)\n",
        "print('OOV:', len(OOV_val))\n",
        "print(\"\\nTest set unique words:\", len(test_set['word'].unique()))\n",
        "print('Max sentence length', max_length_test)\n",
        "print('OOV:', len(OOV_test))"
      ],
      "metadata": {
        "id": "IIHU5fcWj8bd",
        "colab": {
          "base_uri": "https://localhost:8080/"
        },
        "outputId": "fb46f121-020f-49d0-d3cd-10e97f8e7ebe"
      },
      "execution_count": 45,
      "outputs": [
        {
          "output_type": "stream",
          "name": "stdout",
          "text": [
            "Before pre-processing:\n",
            "Train set unique words: 7404\n",
            "OOV: 359\n",
            "Max sentence length 250\n",
            "\n",
            "Validation set unique words: 5420\n",
            "Max sentence length 80\n",
            "OOV: 213\n",
            "\n",
            "Test set unique words: 3407\n",
            "Max sentence length 80\n",
            "OOV: 161\n"
          ]
        }
      ]
    },
    {
      "cell_type": "markdown",
      "source": [
        "Then we tried to improve the sentences splitting using also the semi-column"
      ],
      "metadata": {
        "id": "Oomp6hyQkd-h"
      }
    },
    {
      "cell_type": "code",
      "source": [
        "train_stops = train_set[(train_set['label']=='.') | (train_set['word']==';')].index\n",
        "max_length = max(train_stops[1:] - train_stops[:-1])\n",
        "\n",
        "val_stops = val_set[(val_set['label']=='.') | (val_set['word']==';')].index\n",
        "max_length_val = max(val_stops[1:] - val_stops[:-1])\n",
        "\n",
        "test_stops = test_set[(test_set['label']=='.') | (test_set['word']==';')].index\n",
        "max_length_test = max(test_stops[1:] - test_stops[:-1])"
      ],
      "metadata": {
        "id": "bMrXaArHkAJI"
      },
      "execution_count": 46,
      "outputs": []
    },
    {
      "cell_type": "code",
      "source": [
        "print('After processing')\n",
        "print('Max sentence length in Train Set:', max_length)\n",
        "print('Max sentence length in Validation Set:', max_length_val)\n",
        "print('Max sentence length in Test Set:', max_length_test)"
      ],
      "metadata": {
        "id": "eC-lWvmzkEmh",
        "colab": {
          "base_uri": "https://localhost:8080/"
        },
        "outputId": "34ac7d67-9944-46fa-e498-60e444f54699"
      },
      "execution_count": 47,
      "outputs": [
        {
          "output_type": "stream",
          "name": "stdout",
          "text": [
            "After processing\n",
            "Max sentence length in Train Set: 67\n",
            "Max sentence length in Validation Set: 80\n",
            "Max sentence length in Test Set: 72\n"
          ]
        }
      ]
    },
    {
      "cell_type": "code",
      "source": [
        "def index_of_phrase(stops, word_idx):\n",
        "  return np.count_nonzero(word_idx > stops)\n",
        "\n",
        "print(\"Grouping train set\")\n",
        "train_index_phrase = np.vectorize(partial(index_of_phrase, train_stops))\n",
        "train_grouped = train_set.groupby(by=train_index_phrase)\n",
        "\n",
        "print(\"Grouping val set\")\n",
        "val_index_phrase = np.vectorize(partial(index_of_phrase, val_stops))\n",
        "val_grouped = val_set.groupby(by=val_index_phrase)\n",
        "\n",
        "print(\"Grouping test set\")\n",
        "test_index_phrase = np.vectorize(partial(index_of_phrase, test_stops))\n",
        "test_grouped = test_set.groupby(by=test_index_phrase)"
      ],
      "metadata": {
        "id": "y3RGGvmSkrJW",
        "outputId": "fd3e83fb-df90-4b06-be50-e8a42f456399",
        "colab": {
          "base_uri": "https://localhost:8080/"
        }
      },
      "execution_count": 48,
      "outputs": [
        {
          "output_type": "stream",
          "name": "stdout",
          "text": [
            "Grouping train set\n",
            "Grouping val set\n",
            "Grouping test set\n"
          ]
        }
      ]
    },
    {
      "cell_type": "markdown",
      "source": [
        "# OOV processing"
      ],
      "metadata": {
        "id": "KDww18DUTYSJ"
      }
    },
    {
      "cell_type": "code",
      "source": [
        "OOV = set(words).difference(set(embedder.vocab.keys()))\n",
        "print(OOV)\n",
        "print(\"\\nThere are\", len(OOV), \"OOV\")"
      ],
      "metadata": {
        "id": "8YSrcLB6ThSm",
        "colab": {
          "base_uri": "https://localhost:8080/"
        },
        "outputId": "d7e157b0-3f49-48a5-f847-4938e7cf208d"
      },
      "execution_count": 49,
      "outputs": [
        {
          "output_type": "stream",
          "name": "stdout",
          "text": [
            "{'18,444', 'old-house', '434.4', 'identity-management', 'insider-trading', '62.625', 'middle-ground', '43.875', 'yoshihashi', 'red-blooded', 'ednie', 'language-housekeeper', 'three-lawyer', 'airline-related', 'yen-denominated', 'odd-sounding', '12\\\\/32', 'truth-in-lending', 'co-developers', '18-a-share', '100,980', 'boorse', 'security-type', 'then-speaker', 'light-truck', '497.34', 'shareholder-rights', 'prevalance', 'pension-fund', '142.85', 'coche-dury', '9\\\\/32', '1928-33', '38.375', '500,004', 'seven-yen', 'lookee-loos', 'samnick', '220.45', 'incentive-bonus', 'securities-based', 'breakey', 'mutual-fund', 'news-american', 're-thought', 'sell-offs', 'biondi-santi', '5.2180', 'northy', 'bald-faced', '1\\\\/4', '5.276', '129.91', 'cleaner-burning', 'stock-specialist', 'mortgage-based', 'hallwood', '300-day', 'inter-tel', 'wfrr', '142.84', 'interleukin-3', 'bread-and-butter', 'uzi-model', '14\\\\/32', 'heavy-truck', 'sacramento-based', 'early-retirement', 'buttoned-down', 'arbitrage-related', '705.6', 'two-time-losers', '6\\\\/2', 'recession-inspired', 'newspaper-printing', 'arbitraging', 'louisiana-pacific', '361,376', 'drobnick', 'ariail', '4,393,237', 'telephone-information', 'yttrium-containing', 'micronite', 'near-limit', 'high-rolling', 'year-earlier', 'dollar-yen', 'car-development', 'mehrens', 'trading-company', '1.916', 'integra-a', 'low-ability', 'post-hearing', 'hasbrouk', 'solaia', 'marketing-communications', 'built-from-kit', 'gates-warren', 'polyproplene', 'wtd', 'radio-station', 'aslacton', 'mega-stadium', 'durable-goods', 'crystal-lattice', 'subindustry', 'we-japanese', '1937-40', 'dead-eyed', 'amphobiles', 'protein-1', '14.', '3\\\\/4', 'wamre', '3436.58', 'computer-system-design', 'twin-jet', '30,537', 'conn.based', 'ctbs', '372.9', 'glenham', '13\\\\/16', 'information-services', 'minimum-wage', '387.8', '7.422', 'macmillan\\\\/mcgraw', 'passenger-car', 'sogo-shosha', 'triple-c', '967,809', 'social-studies', 'equity-purchase', 'investment-grade', 'collective-bargaining', 'money-center', 'wine-buying', 'equal-opportunity', 'ntg', 'savers\\\\/investors', 'flim-flammery', 'norwick', 'church-goers', 'non-callable', 'multi-crystal', 'ex-dividend', '26,956', '13.625', 'industrial-production', 'direct-investment', '352.7', '1\\\\/10th', 'larger-than-normal', '238,000-circulation', 'low-ball', 'synergistics', 'sticker-shock', 'kalipharma', 'thin-lipped', 'chafic', 'rey\\\\/fawcett', '737.5', 'dydee', 'nih-appointed', 'c.j.b.', '8.467', '2,050-passenger', 'cost-control', '83,206', '35500.64', 'school-board', '120-a-share', 'high-polluting', 'guber\\\\/peters', '1.637', 'citizen-sparked', 'unicorp', '8300s', '37-a-share', '36-store', 'new-home', 'propagandizes', 'most-likely-successor', 'hummerstone', 'reupke', 'test-prep', 'arighi', '3,288,453', 'pianist-comedian', '361.8', 'incentive-backed', 'sewing-machine', 'four-foot-high', 'pathlogy', '415.8', 'sulfur-dioxide', 'erbamont', 'eight-count', 'energy-services', 'one-country', '170,262', 'school-research', 'new-car', 'dust-up', 'midwesco', '374.19', '319.75', 'long-tenured', '131.01', '230-215', 'c-90', '2645.90', '494.50', '1206.26', 'quantitive', '19-month-old', 'delwin', 'herald-american', 'cash-and-stock', 'replacement-car', '55-a-share', 'revenue-desperate', 'house-senate', '456.64', '71,309', 'sharedata', \"creator's\", 'one-yen', '2163.2', 'bank-backed', 'chilver', 'safe-deposit', 'g.m.b', 'million-a-year', '1\\\\/2', '2141.7', 'parts-engineering', 'freudtoy', 'diceon', '2,303,328', '143.93', 'foreign-led', 'building-products', 'purhasing', 'jalaalwalikraam', 'fetal-tissue', 'mariotta', 'computer-driven', 'lightning-fast', 'asset-sale', '811.9', 'six-packs', '7.458', 'yet-to-be-formed', '263.07', 'one-house', 'yeargin', '7.272', 'heebie-jeebies', '95,142', 'lynch-mob', '29year', 'subskills', '188.84', 'bottom-line', 'tarwhine', 'water-authority', 'test-drive', 'contingency-fee', 'top-yielding', '84-month', 'bell-ringer', 'blue-chips', 'money-fund', '11\\\\/16', 'food-shop', '1.8415', 'land-idling', 'school-improvement', 'nipponese', 'landonne', 'vitulli', 'per-share', '11,762', 'derchin', 'car-safety', '3057', 'automotive-parts', 'family-planning', 'machine-gun-toting', '143.08', 'launch-vehicle', 'lower-priority', 'double-c', 'senate-house', '143.80', '2160.1', 'nekoosa', 'scypher', 'sport-utility', 'mininum-wage', 'exxon-owned', '4.898', 'bridgestone\\\\/firestone', 'secilia', '50\\\\/50', 'bankruptcy-law', '9,118', 'page-one', '630.9', 'limited-partnership', '618.1', '126.15', 'lezovich', '47.125', 'bronces', '5.435', 'hart-scott-rodino', 'vinken', 'alurralde', 'moleculon', 'intelogic', 'nylev', '566.54', 'money-market', 'bermuda-based', 'blood-cell', 'anti-morning-sickness', 'veselich', '415.6', 'food-industry', 'ratners', 'enzor', '377.60', 'cash-rich', 'garden-variety', 'veraldi', 'more-efficient', '-rcb-', 'foldability', 'non-biodegradable', 'wheeland', 'ft-se', '341.20', 'times-stock', 'preparatives', 'write-downs', 'shirt-sleeved', 'capital-markets', '234.4', 'life-of-contract', 'yen-support', 'weapons-modernization', 'bumkins', 'anti-takeover', 'meinders', 'makato', 'iran\\\\/contra', 'staff-reduction', 'labor-backed', 'one-upsmanship', '374.20', '38.875', '3648.82', '1.1650', 'anti-deficiency', '11,390,000', 'pattenden', 'nesb', 'index-related', 'shokubai', 'circuit-breaker', 'severable', 'roof-crush', '292.32', 'melt-textured', 'anti-china', '1.5755', 'fiber-end', 'greenmailer', 'liquid-nitrogen', '278.7', 'school-district', 'circuit-board', 'flightiness', '0.0085', 'prudential-bache', '22\\\\/32', 'seven-million-ton', 'more-advanced', 'test-preparation', 'diloreto', 'rate-sensitive', 'deposits-a', 'disaster-assistance', 'six-bottle', 'three-sevenths', 'index-arbitrage', 'capital-gains', 'cop-killer', 'government-certified', 'crookery', 'market-makers', '236.79', 'sometimes-exhausting', 'abortion-related', '520-lawyer', 'super-absorbent', 'cray-3', 'several-year', 'macmillan\\\\/mcgraw-hill', '2\\\\/32', '3,040,000', '11-month-old', 'product-design', 'prize-fighter', 'high-balance', 'superdot', '16\\\\/32', 'less-than-brilliant', 'derel', 'txo', 'war-rationed', 'headcount-control', '271,124', 'futures-related', 'acquisition-minded', 'small-company', 'subminimum', '12,252', 'cup-tote', '40-megabyte', '14,821', 'intecknings', '734.9', '226,570,380', 'summer\\\\/winter', 'heiwado', '35564.43', 'red-flag', 'continuingly', '3.253', 'ghkm', 'purepac', 'unenticing', 'investor-relations', 'nearly-30', '-lcb-', 'trettien', 'tissue-transplant', 'twindam', 'automotive-lighting', 'anku', 'computer-services', 'corn-buying', 'anti-miscarriage', '1738.1', 'when-issued', 'sub-markets', 'non-encapsulating', 'lentjes', 'foreign-stock', 'savings-and-loan', 'life-insurance', 'training-wage', 'change-ringing', 'drag-down', 'pre-1917', 'program-trading', 'housing-assistance', 'electric-utility', 'video-viewing', 'pre-1933', 'side-crash', 'merger-related', 'cents-a-unit', '1.457', 'phacoflex', 'sino-u.s.', 'pricings', 'front-seat', 'teacher-cadet', 'ac-130u', 'property\\\\/casualty', 'cotran', '5\\\\/8', 'pennview', 'muscolina', 'above-market', 'college-bowl', 'besuboru', 'superpremiums', 'chinchon', 'stirlen', 'crocidolite', 'potables', 'gingl', 'mutchin', 'johnson-era', '3,250,000', 'student-test', 'pramual', 'band-wagon', 'price-depressing', '236.74', 'stock-price', '237-seat', 'forest-product', 'akerfeldt', 'state-supervised', 'motor-home', 'satrum', 'prior-year', 'waymar', 'centerbank', 'single-lot', 'substance-abusing', 'univest', 'bellringers', 'stock-manipulation', 'tiphook', 'big-ticket', 'chemplus', '3\\\\/8', '608,413', 'autions', '20-stock', '300-a-share', 'sub-segments', 'tire-kickers', '446.62', 'trockenbeerenauslesen', 'crane-safety', 'acid-rain', '372.14', 'malizia', '90-cent-an-hour', 'sometimes-tawdry', 'walbrecher', 'ensrud', '158,666', '190-point', 'lap-shoulder', '16,072', 'nagymaros', 'highest-pitched', 'anti-abortionists', 'pro-iranian', '436.01', '100-megabyte', 'market-share', 'floating-rate', 'noncompetitively', 'auto-safety', 'electrical-safety', '2003\\\\/2007', 'morale-damaging', 'rexinger', 'stock-index', '1\\\\/8', 'antitrust-law', '-rrb-', 'nofzinger', '5,699', 'disputado', 'stock-selection', 'sept.30', '-lrb-', 'express-buick', 'asset-valuation', 'search-and-seizure', 'detective-story', '7\\\\/16', 'waertsilae', 'beer-belly', 'free-enterprise', 'junk-bond', 'executive-office', '95.09', 'pro-forma', 'n.v', 'disputada', 'subskill', 'egnuss', '6,799', 'takeover-stock', '2691.19', '382-37', 'c.d.s', 'constitutional-law', 'rope-sight', 'high-rate', 'one-newspaper', 'test-practice', 'industry-supported', 'boogieman', 'insurance-company', '13,056', 'minicrash', 'nissho-iwai', '8.575', 'two-sevenths', 'much-larger', 'weisfield', 'lafite-rothschild', 'clean-air', 'car-care', 'year-ago', 'index-options', 'ballantine\\\\/del', 'macheski', 'less-serious', 'achievement-test', '127.03', 'monchecourt', '82,389', 'profit-taking', 'tete-a-tete', 'price-support', 'rubinfien', 'forest-products', '23,403', 'lobsenz', 'unfair-trade', 'test-coaching', 'romanee-conti', '449.04', 'odd-year', '87-store', '300-113', 'sidak', 'mouth-up', '62%-owned', 'hadson', '45-a-share', 'retin-a', 'home-market', 'index-fund', 'copper-rich', '154,240,000', 'jerritts', 'chong-sik', 'certin', 'card-member', 'buy-outs', '877,663', '34.625', 'anti-program', '70-a-share', 'custom-chip', 'colonsville', '352.9', 'triple-a-rated', '271-147', '30,841', 'wheel-loader', 'manmade-fiber', '16.125', 'colorliner', 'financial-services', 'stock-picking', 'corporate-wide', 'freshbake', 'corton-charlemagne', 'credit-rating', '7\\\\/8', 'anti-programmers', 'rapanelli', 'intellectual-property', '69-point', 'ingersoll-rand', 'sanderoff', 'higher-salaried'}\n",
            "\n",
            "There are 676 OOV\n"
          ]
        }
      ]
    },
    {
      "cell_type": "code",
      "source": [
        "def isNumber(n):\n",
        "  if n == 'nan':\n",
        "    return False\n",
        "\n",
        "  try:\n",
        "    float(n)\n",
        "    return True\n",
        "  except:\n",
        "    return False\n",
        "\n",
        "vocab_keys = embedder.vocab.keys()\n",
        "vocab_array = np.array(list(vocab_keys))\n",
        "str_number_keys = [n for n in vocab_keys if isNumber(n)]\n",
        "number_keys = np.array(str_number_keys, dtype=np.float32)\n",
        "\n",
        "def correct_typo(word, threshold=1):\n",
        "  if word in vocab_keys:\n",
        "    return word\n",
        "\n",
        "  if re.match('[a-z]', word): #avoid to use Levenshtein on numbers\n",
        "    dist = lambda elem: Levenshtein.distance(word, elem)\n",
        "    distances = np.vectorize(dist)(vocab_array)\n",
        "    idx_min = np.argmin(distances)\n",
        "    if distances[idx_min] <= threshold:\n",
        "      return vocab_array[idx_min]\n",
        "\n",
        "  #maybe it is a number, convert to the nearest one\n",
        "  try:\n",
        "    word = word.replace(',', '')\n",
        "    number = float(word)\n",
        "\n",
        "    idx = np.argmin(np.abs(number_keys - number))\n",
        "    return str_number_keys[idx]\n",
        "\n",
        "  except:\n",
        "    pass\n",
        "\n",
        "\n",
        "\n",
        "def handling_OOV(words, OOV, embedder):\n",
        "  '''\n",
        "  Try to check if OOV are due to:\n",
        "     1)Decimal numbers; \n",
        "     2)words separated by special character (-, \\\\/)compuound words ;\n",
        "     3)Words compuound by two words present in the vocabulary; \n",
        "     4)Typos;\n",
        "  '''\n",
        "\n",
        "  '''\n",
        "  Words separated by special characters are encoded using the embedding of the two words.\n",
        "  For other words we just check the spelling and try to approximate number.\n",
        "  '''\n",
        "  print(\"Correcting numbers, typos and words separated by special characters.\")\n",
        "  for w in tqdm(OOV):\n",
        "   try:\n",
        "    if '-' in w:\n",
        "      subWords = w.split('-')\n",
        "      embedded_words = [embedder[correct_typo(subW)] for subW in subWords if subW]\n",
        "      embedder.add([w], [np.mean(embedded_words, axis=0)])\n",
        "    \n",
        "    elif '\\\\/' in w:\n",
        "      subWords = w.split('\\\\/')\n",
        "      embedded_words = [embedder[correct_typo(subW)] for subW in subWords]\n",
        "      embedder.add([w], [np.mean(embedded_words, axis=0)])\n",
        "\n",
        "    else:\n",
        "      embedder.add([w], [embedder[correct_typo(w)]])\n",
        "\n",
        "   except:\n",
        "    pass\n",
        "\n",
        "  \n",
        "  OOV = set(words).difference(set(embedder.vocab.keys()))\n",
        "  print(\"There are\", len(OOV), \"OOV\")\n",
        "  \n",
        "  # Compound words\n",
        "  print('Analyzing compound words')\n",
        "  for w in tqdm(OOV):\n",
        "    for i in range(2, len(w)-2):\n",
        "      w1 = w[:i]\n",
        "      w2 = w[i:]\n",
        "      if w1 in vocab_keys and w2 in vocab_keys:\n",
        "        embedding = (embedder[w1] + embedder[w2]) / 2\n",
        "        embedder.add([w], [embedding])\n",
        "        break\n",
        "\n",
        "  embedder.add(['62%-owned'], [(embedder['.62']+embedder['owned'])/2])\n",
        "\n",
        "  \n",
        "  OOV = set(words).difference(set(embedder.vocab.keys()))\n",
        "  print(\"There are\", len(OOV), \"OOV\")\n",
        "\n",
        "  # Typos\n",
        "  print('Correcting typos with Levenshtein distance up to 2')\n",
        "  for w in tqdm(OOV):\n",
        "   try:\n",
        "    new_w = correct_typo(w, threshold=2)\n",
        "    embedder.add([w], [embedder[new_w]])\n",
        "   except:\n",
        "    pass\n",
        "\n",
        "  OOV = set(words).difference(set(embedder.vocab.keys()))\n",
        "  print(\"\\nThere are\", len(OOV), \"OOV\")\n",
        "  return"
      ],
      "metadata": {
        "id": "3RIdJtLXk3vU"
      },
      "execution_count": 50,
      "outputs": []
    },
    {
      "cell_type": "code",
      "source": [
        "handling_OOV(words, OOV, embedder)"
      ],
      "metadata": {
        "id": "n0VSyq04k88D",
        "outputId": "dbb3d0e9-57d7-4cae-e577-a3187db0c04f",
        "colab": {
          "base_uri": "https://localhost:8080/"
        }
      },
      "execution_count": 51,
      "outputs": [
        {
          "output_type": "stream",
          "name": "stdout",
          "text": [
            "Correcting numbers, typos and words separated by special characters.\n"
          ]
        },
        {
          "output_type": "stream",
          "name": "stderr",
          "text": [
            "100%|██████████| 676/676 [01:25<00:00,  7.92it/s]\n"
          ]
        },
        {
          "output_type": "stream",
          "name": "stdout",
          "text": [
            "There are 76 OOV\n",
            "Analyzing compound words\n"
          ]
        },
        {
          "output_type": "stream",
          "name": "stderr",
          "text": [
            "100%|██████████| 76/76 [00:04<00:00, 18.05it/s]\n"
          ]
        },
        {
          "output_type": "stream",
          "name": "stdout",
          "text": [
            "There are 17 OOV\n",
            "Correcting typos with Levenshtein distance up to 2\n"
          ]
        },
        {
          "output_type": "stream",
          "name": "stderr",
          "text": [
            "100%|██████████| 17/17 [00:05<00:00,  3.21it/s]"
          ]
        },
        {
          "output_type": "stream",
          "name": "stdout",
          "text": [
            "\n",
            "There are 7 OOV\n"
          ]
        },
        {
          "output_type": "stream",
          "name": "stderr",
          "text": [
            "\n"
          ]
        }
      ]
    },
    {
      "cell_type": "code",
      "source": [
        "print('After processing')\n",
        "print('There are ', len(set(OOV_train).difference(set(embedder.vocab.keys()))), ' OOV in the train set')\n",
        "print('There are ', len(set(OOV_val).difference(set(embedder.vocab.keys()))), ' OOV in the val set')\n",
        "print('There are ', len(set(OOV_test).difference(set(embedder.vocab.keys()))), ' OOV in the test set')"
      ],
      "metadata": {
        "id": "Gq5jPOaHk-Lo",
        "colab": {
          "base_uri": "https://localhost:8080/"
        },
        "outputId": "ab1deb44-0b12-409a-e51d-fc350760ff23"
      },
      "execution_count": 52,
      "outputs": [
        {
          "output_type": "stream",
          "name": "stdout",
          "text": [
            "After processing\n",
            "There are  5  OOV in the train set\n",
            "There are  2  OOV in the val set\n",
            "There are  0  OOV in the test set\n"
          ]
        }
      ]
    },
    {
      "cell_type": "markdown",
      "source": [
        "Adding the remaining words randomly."
      ],
      "metadata": {
        "id": "ioBZxTEvfpLh"
      }
    },
    {
      "cell_type": "code",
      "source": [
        "OOV = set(words).difference(set(embedder.vocab.keys()))\n",
        "OOV_value = np.random.uniform(low=-0.05, high=0.05, size=(len(OOV), EMBEDDING_SIZE))\n",
        "embedder.add(list(OOV), OOV_value)"
      ],
      "metadata": {
        "id": "OgCb8v7RhFAi"
      },
      "execution_count": 53,
      "outputs": []
    },
    {
      "cell_type": "markdown",
      "metadata": {
        "id": "QsAgPfRqStWK"
      },
      "source": [
        "# Dataset analysis"
      ]
    },
    {
      "cell_type": "code",
      "metadata": {
        "colab": {
          "base_uri": "https://localhost:8080/"
        },
        "id": "LT0pl2UG0H0O",
        "outputId": "3ad1b7ae-c8c8-41d0-bab7-fa55b05b2731"
      },
      "source": [
        "print(\"The max sentence length in training set is\", max_length)\n",
        "print(f'There are {len(train_stops)} sentences in the training set')\n",
        "print(f'There are {len(labels)} labels')\n",
        "print(f'There are {len(words)} unique words, {len(OOV)} of them are OOV')"
      ],
      "execution_count": 54,
      "outputs": [
        {
          "output_type": "stream",
          "name": "stdout",
          "text": [
            "The max sentence length in training set is 67\n",
            "There are 2046 sentences in the training set\n",
            "There are 45 labels\n",
            "There are 10947 unique words, 7 of them are OOV\n"
          ]
        }
      ]
    },
    {
      "cell_type": "markdown",
      "metadata": {
        "id": "ys_LD3OQc7Si"
      },
      "source": [
        "## Plot dataset distribution\n",
        "\n",
        "Train, validation and test set more or less follows the same distribution and they share similar characteristics.  \n",
        "Validation and test sets can be considered representative."
      ]
    },
    {
      "cell_type": "code",
      "metadata": {
        "id": "FsUG2Cee8vMU",
        "colab": {
          "base_uri": "https://localhost:8080/",
          "height": 351
        },
        "outputId": "b8f2d63c-264c-4516-a3e8-bea4f5874d43"
      },
      "source": [
        "train_counts = train_set.groupby(by='label').count()\n",
        "train_counts = train_counts / len(train_set) * 100\n",
        "val_counts = val_set.groupby(by='label').count()\n",
        "val_counts = val_counts / len(val_set) * 100\n",
        "val_counts = val_counts.reindex(labels, fill_value=0)\n",
        "test_counts = test_set.groupby(by='label').count()\n",
        "test_counts = test_counts / len(test_set) * 100\n",
        "test_counts = test_counts.reindex(labels, fill_value=0)\n",
        "ind = np.arange(len(labels))\n",
        "\n",
        "plt.figure(figsize=(18,6))\n",
        "width = 0.2       \n",
        "plt.bar(ind, train_counts.loc[labels, 'word'] , width, label='Train set');\n",
        "plt.bar(ind + width, val_counts.loc[labels, 'word'], width, label='Validation set');\n",
        "plt.bar(ind + 2*width, test_counts.loc[labels, 'word'], width, label='Test set');\n",
        "\n",
        "plt.xlabel('Labels');\n",
        "plt.ylabel('Count %');\n",
        "plt.title('Dataset distribution');\n",
        "\n",
        "plt.xticks(ind + width / 3, labels, rotation=45);\n",
        "plt.legend();"
      ],
      "execution_count": 55,
      "outputs": [
        {
          "output_type": "display_data",
          "data": {
            "image/png": "[encoded data removed]",
            "text/plain": [
              "<Figure size 1296x432 with 1 Axes>"
            ]
          },
          "metadata": {
            "needs_background": "light"
          }
        }
      ]
    },
    {
      "cell_type": "code",
      "metadata": {
        "id": "dpuY1KPGZzKn",
        "colab": {
          "base_uri": "https://localhost:8080/",
          "height": 596
        },
        "outputId": "ea317421-6e69-41c7-90d1-19a928a1d8e1"
      },
      "source": [
        "counts_word = train_set.groupby('word').count().to_numpy()[:, 0]\n",
        "\n",
        "plt.plot(np.sort(counts_word)[::-1]);\n",
        "plt.yscale('log')\n",
        "\n",
        "plt.xlabel('Words');\n",
        "plt.ylabel('Count');\n",
        "plt.title('Word distribution (log scale)');"
      ],
      "execution_count": 56,
      "outputs": [
        {
          "output_type": "display_data",
          "data": {
            "image/png": "[encoded data removed]",
            "text/plain": [
              "<Figure size 2160x1440 with 1 Axes>"
            ]
          },
          "metadata": {
            "needs_background": "light"
          }
        }
      ]
    },
    {
      "cell_type": "code",
      "metadata": {
        "id": "WvBvMKm8Da9J",
        "colab": {
          "base_uri": "https://localhost:8080/",
          "height": 974
        },
        "outputId": "39aa0aa0-f4e2-4d0f-d1c4-5fea76853baf"
      },
      "source": [
        "def make_plot(sentences, name):\n",
        "  f = plt.figure(figsize=(12, 5))\n",
        "  ax1 = plt.subplot(121)\n",
        "  ax2 = plt.subplot(122)\n",
        "\n",
        "  ax1.hist(sentences.count()['word'], bins=250);\n",
        "  ax1.set_title(f\"Sentence length distribution ({name})\");\n",
        "\n",
        "  ax2.boxplot(sentences.count()['word']);\n",
        "  ax2.set_title(f\"Boxplot for sentence length ({name})\");\n",
        "\n",
        "name_sentences = {\n",
        "    'train': train_grouped,\n",
        "    'validation': val_grouped,\n",
        "    'test': test_grouped\n",
        "}\n",
        "\n",
        "for name in name_sentences:\n",
        "  make_plot(name_sentences[name], name)"
      ],
      "execution_count": 57,
      "outputs": [
        {
          "output_type": "display_data",
          "data": {
            "image/png": "[encoded data removed]",
            "text/plain": [
              "<Figure size 864x360 with 2 Axes>"
            ]
          },
          "metadata": {
            "needs_background": "light"
          }
        },
        {
          "output_type": "display_data",
          "data": {
            "image/png": "[encoded data removed]",
            "text/plain": [
              "<Figure size 864x360 with 2 Axes>"
            ]
          },
          "metadata": {
            "needs_background": "light"
          }
        },
        {
          "output_type": "display_data",
          "data": {
            "image/png": "[encoded data removed]",
            "text/plain": [
              "<Figure size 864x360 with 2 Axes>"
            ]
          },
          "metadata": {
            "needs_background": "light"
          }
        }
      ]
    },
    {
      "cell_type": "markdown",
      "metadata": {
        "id": "Qa9eCkjMwHsO"
      },
      "source": [
        "# Create RNN, Optimizer and DataLoader classes\n"
      ]
    },
    {
      "cell_type": "code",
      "metadata": {
        "id": "4qKGsuBvwKk6"
      },
      "source": [
        "class RNN(nn.Module):\n",
        "  \"\"\"\n",
        "    architecture: str\n",
        "      'LSTM'   : the baseline architecture\n",
        "      '2-LSTM' : 2 LSTM layers\n",
        "      '2-FC'   : 2 Dense Layers\n",
        "      'GRU'    : Gated Recurrent Unit\n",
        "  \"\"\"\n",
        "  def __init__(self, architecture, input_dim, hidden_size, output_size, dropout, device, CRF=False):\n",
        "    super(RNN, self).__init__()\n",
        "    self.architecture = architecture\n",
        "    self.n_layers = 2 if architecture == '2-LSTM' else 1\n",
        "    self.dropout_in_rnn = dropout if self.n_layers > 1 else 0\n",
        "    self.output_size = output_size\n",
        "    self.hidden_size = hidden_size\n",
        "    self.device = device\n",
        "    self.CRF = torchcrf.CRF(output_size, batch_first=True) if CRF else None\n",
        "    \n",
        "    if self.architecture == 'GRU':\n",
        "      self.rnn = nn.GRU(input_dim, hidden_size, num_layers=self.n_layers, bidirectional=True, dropout=self.dropout_in_rnn)\n",
        "    else:\n",
        "      self.rnn = nn.LSTM(input_dim, hidden_size, num_layers=self.n_layers, bidirectional=True, dropout=self.dropout_in_rnn)\n",
        "\n",
        "    self.dropout_layer = nn.Dropout(p=dropout)\n",
        "\n",
        "    if self.architecture == '2-FC':\n",
        "      self.fc = nn.Sequential(\n",
        "          nn.Linear(self.hidden_size*2, self.hidden_size),\n",
        "          nn.Dropout(p=dropout),\n",
        "          nn.Linear(self.hidden_size, output_size)\n",
        "      )\n",
        "    else:\n",
        "      self.fc = nn.Linear(self.hidden_size*2, output_size)\n",
        "\n",
        "    self.to(device)\n",
        "\n",
        "\n",
        "\n",
        "  def forward(self, input):\n",
        "    input = input.permute(1, 0, 2).to(self.device)\n",
        "\n",
        "    hidden_state = torch.randn(self.n_layers*2, input.shape[1], self.hidden_size).to(self.device)\n",
        "    if self.architecture == 'GRU':\n",
        "      hidden = hidden_state\n",
        "    else:\n",
        "      cell_state = torch.randn(self.n_layers*2, input.shape[1], self.hidden_size).to(self.device)\n",
        "      hidden = (hidden_state, cell_state)\n",
        "\n",
        "    out, hidden = self.rnn(input, hidden)\n",
        "\n",
        "    out = self.dropout_layer(out)\n",
        "\n",
        "    #process timesteps independently \n",
        "    logits = self.fc(out.view(-1, out.size(2)))\n",
        "\n",
        "    output = logits.view(input.shape[0], input.shape[1], self.output_size)\n",
        "\n",
        "    return output.permute(1, 0, 2).contiguous()\n",
        "\n",
        "  \n",
        "  def compute_loss(self, input, target):\n",
        "    target = target.to(self.device)\n",
        "    pred = self(input)\n",
        "\n",
        "    if self.CRF:\n",
        "      target = target.squeeze()\n",
        "      return -self.CRF(pred, target, mask= target!=-1,  reduction='mean')\n",
        "    \n",
        "    else:\n",
        "      target = target.flatten()\n",
        "      pred = pred.reshape(-1, pred.shape[-1])\n",
        "      return nn.CrossEntropyLoss(ignore_index=-1)(pred, target)\n",
        "\n",
        "\n",
        "  def prediction(self, input):\n",
        "    self.eval()\n",
        "    with torch.no_grad():\n",
        "      scores = self(input)\n",
        "      \n",
        "      if self.CRF:\n",
        "        classes_predicted = torch.Tensor(self.CRF.decode(scores))\n",
        "      else:\n",
        "        classes_predicted = torch.argmax(scores, 2)\n",
        "  \n",
        "      return classes_predicted.to(self.device)\n",
        "\n",
        "\n",
        "  def accuracy(self, input: DataLoader):\n",
        "    num_correct = 0\n",
        "    num_samples = 0\n",
        "    self.eval()\n",
        "\n",
        "    for data in input:\n",
        "        words = data['words'].to(self.device)\n",
        "        labels = data['labels'].to(self.device)\n",
        "        labels = labels.squeeze(-1)\n",
        "        lengths = data['lengths'].to(self.device)\n",
        "\n",
        "        classes_predicted = self.prediction(words)\n",
        "\n",
        "        for i, length in enumerate(lengths):\n",
        "          num_correct += torch.eq(classes_predicted[i, :length], labels[i, :length]).sum().item()\n",
        "\n",
        "        num_samples += lengths.sum()\n",
        "        \n",
        "    \n",
        "    return num_correct/num_samples\n",
        "\n"
      ],
      "execution_count": 58,
      "outputs": []
    },
    {
      "cell_type": "code",
      "metadata": {
        "id": "2MCssLkB8TUg"
      },
      "source": [
        "class Optimization:\n",
        "    def __init__(self, model, optimizer, train_loader, val_loader):\n",
        "      self.model = model\n",
        "      self.optimizer = optimizer\n",
        "      self.scheduler = ReduceLROnPlateau(optimizer)\n",
        "      self.train_loader = train_loader\n",
        "      self.history = []\n",
        "      self.val_loader = val_loader\n",
        "      self.val_history = []\n",
        "    \n",
        "    def train_epoch(self):\n",
        "      self.model.train()\n",
        "\n",
        "      for data in tqdm(self.train_loader):\n",
        "        loss = self.model.compute_loss(data['words'], data['labels'])\n",
        "        loss.backward()\n",
        "\n",
        "        self.optimizer.step()\n",
        "        self.optimizer.zero_grad()\n",
        "\n",
        "\n",
        "      self.history.append(loss.item())\n",
        "\n",
        "      val_loss = self._val_loss()\n",
        "      self.scheduler.step(val_loss)\n",
        "\n",
        "      return loss.item()\n",
        "\n",
        "    def _val_loss(self):\n",
        "      losses = []\n",
        "      for data in self.val_loader:\n",
        "        loss = self.model.compute_loss(data['words'], data['labels'])\n",
        "        losses.append(loss)\n",
        "      \n",
        "      mean = torch.mean(torch.Tensor(losses))\n",
        "      self.val_history.append(mean.item())\n",
        "\n",
        "      return mean"
      ],
      "execution_count": 59,
      "outputs": []
    },
    {
      "cell_type": "code",
      "metadata": {
        "id": "PpwRlpy68pSP"
      },
      "source": [
        "class MyDataset(Dataset):\n",
        "  def __init__(self, dataframe, embedder, encoder, max_length=None):\n",
        "    self.max_length = max_length if max_length else dataframe.count().max()['word']\n",
        "    self.dataframe = dataframe\n",
        "    self.embedder = embedder\n",
        "    self.encoder = encoder\n",
        "\n",
        "  def __len__(self):\n",
        "    return len(self.dataframe)\n",
        "\n",
        "  def __getitem__(self, idx):\n",
        "    sentence = self.dataframe.get_group(idx)[:self.max_length]\n",
        "\n",
        "    labels = np.array(sentence['label'], dtype = str).reshape(-1, 1)\n",
        "    encoded_labels = self.encoder.transform(labels)\n",
        "    encoded_words = self.embedder[sentence['word']]\n",
        "\n",
        "    return {'words': encoded_words, 'labels': encoded_labels, 'lengths': len(sentence)}"
      ],
      "execution_count": 60,
      "outputs": []
    },
    {
      "cell_type": "code",
      "source": [
        "def collate_fn_pad(batch):\n",
        "    batch_dict = []\n",
        "    lengths = torch.Tensor([sample['lengths'] for sample in batch])\n",
        "    padded_words = pad_sequence([torch.Tensor(sample['words']) for sample in batch], batch_first=True)\n",
        "    padded_labels = pad_sequence([torch.Tensor(sample['labels']) for sample in batch], batch_first=True, padding_value=-1)\n",
        "\n",
        "    return {'words': padded_words, 'labels': padded_labels.long(), 'lengths': lengths.int()}\n"
      ],
      "metadata": {
        "id": "kMAPwSCcqo97"
      },
      "execution_count": 61,
      "outputs": []
    },
    {
      "cell_type": "markdown",
      "metadata": {
        "id": "Moz4o3S4_YyY"
      },
      "source": [
        "# Training"
      ]
    },
    {
      "cell_type": "code",
      "source": [
        "%load_ext tensorboard\n",
        "%tensorboard --logdir=\"logs\""
      ],
      "metadata": {
        "id": "Li_cU3KAIaDg",
        "colab": {
          "base_uri": "https://localhost:8080/",
          "height": 856
        },
        "outputId": "53a94340-2bb5-4a72-a3de-a75094a93fdb"
      },
      "execution_count": 62,
      "outputs": [
        {
          "output_type": "stream",
          "name": "stdout",
          "text": [
            "The tensorboard extension is already loaded. To reload it, use:\n",
            "  %reload_ext tensorboard\n"
          ]
        },
        {
          "output_type": "display_data",
          "data": {
            "application/javascript": [
              "\n",
              "        (async () => {\n",
              "            const url = new URL(await google.colab.kernel.proxyPort(6006, {'cache': true}));\n",
              "            url.searchParams.set('tensorboardColab', 'true');\n",
              "            const iframe = document.createElement('iframe');\n",
              "            iframe.src = url;\n",
              "            iframe.setAttribute('width', '100%');\n",
              "            iframe.setAttribute('height', '800');\n",
              "            iframe.setAttribute('frameborder', 0);\n",
              "            document.body.appendChild(iframe);\n",
              "        })();\n",
              "    "
            ],
            "text/plain": [
              "<IPython.core.display.Javascript object>"
            ]
          },
          "metadata": {}
        }
      ]
    },
    {
      "cell_type": "markdown",
      "source": [
        "## Training and tuning functions"
      ],
      "metadata": {
        "id": "fMOAz4J6gzN-"
      }
    },
    {
      "cell_type": "code",
      "source": [
        "def training_loop(model: nn.Module, \n",
        "                  train_set: torch.utils.data.DataLoader,\n",
        "                  val_set: torch.utils.data.DataLoader,\n",
        "                  patience: int,\n",
        "                  optimization: Optimization,\n",
        "                  save_path: str,\n",
        "                  writer: Optional[SummaryWriter] = None):\n",
        "\n",
        "  train_acc = []\n",
        "  val_acc = []\n",
        "  best_epoch = 0\n",
        "  epoch = 0\n",
        "\n",
        "  while epoch - best_epoch <= patience:\n",
        "    epoch += 1\n",
        "    print(f'Epoch {epoch}')\n",
        "\n",
        "    optimization.train_epoch()\n",
        "      \n",
        "    print(f'loss:{optimization.history[-1] : .3f}')\n",
        "    train_acc.append(model.accuracy(train_set))\n",
        "    print(f'train acc:{train_acc[-1]}')\n",
        "    val_acc.append(model.accuracy(val_set))\n",
        "    print(f'val acc:{val_acc[-1]}')\n",
        "    \n",
        "    if writer:\n",
        "      writer.add_scalars('Loss', {\"Train\": optimization.history[-1]}, epoch)\n",
        "      writer.add_scalars('Loss', {\"Validation\": optimization.val_history[-1]}, epoch)\n",
        "      writer.add_scalars('Train Acc', {\"Train\": val_acc[-1]}, epoch)\n",
        "      writer.add_scalars('Val Acc', {\"Train\": val_acc[-1]}, epoch)\n",
        "      writer.flush()\n",
        "\n",
        "    if val_acc[-1] >= val_acc[best_epoch-1]:\n",
        "      torch.save(model.state_dict(), save_path)\n",
        "      best_epoch = epoch\n",
        "      print(f'Model saved at {save_path}')\n",
        "      \n",
        "  if writer: writer.close()\n",
        "  print(f'\\n Best model at epoch {best_epoch}')\n",
        "\n",
        "  return val_acc[best_epoch-1]"
      ],
      "metadata": {
        "id": "2vQvpGglNAYf"
      },
      "execution_count": 63,
      "outputs": []
    },
    {
      "cell_type": "code",
      "source": [
        "def tuning_loop(train_loader: torch.utils.data.DataLoader,\n",
        "                val_loader: torch.utils.data.DataLoader,\n",
        "                patience: int,\n",
        "                search: dict, \n",
        "                writer: Optional[SummaryWriter] = None):\n",
        "\n",
        "  best_model_acc = 0\n",
        "  config = {}\n",
        "  for current_values in itertools.product(*tuple(search.values())):\n",
        "    current_dict = dict(zip(search.keys(), current_values))\n",
        "    \n",
        "    architecture = current_dict['architecture']\n",
        "    CRF = current_dict['CRF']\n",
        "    hidden_dim = current_dict['hidden_dim']\n",
        "    dropout = current_dict['dropout']\n",
        "    lr = current_dict['lr']\n",
        "    weight_decay = current_dict['weight_decay'] \n",
        "    eps = current_dict['eps']\n",
        "\n",
        "    print('='*15)\n",
        "    print('New setting with', current_dict)\n",
        "\n",
        "    model = RNN(architecture, EMBEDDING_SIZE, hidden_dim, len(labels), dropout, device, CRF=CRF)\n",
        "    optimizer = optim.Adam(model.parameters(), lr=lr, eps=eps, weight_decay=weight_decay)\n",
        "    optimization = Optimization(model, optimizer, train_loader, val_loader)\n",
        "\n",
        "    path = f'model-{architecture}-{hidden_dim}-{dropout}-{lr}-{weight_decay}-{eps}.pkl'\n",
        "    best_acc = training_loop(model, train_loader, val_loader, patience, optimization, path, writer=writer)\n",
        "\n",
        "    if best_acc > best_model_acc:\n",
        "      config = current_dict\n",
        "      best_model_acc = best_acc\n",
        "      new_path = f'model-{architecture}'\n",
        "      !\\cp $path $new_path\n",
        "\n",
        "  print(f'\\n Best model config : {config} with accuracy {best_model_acc}')"
      ],
      "metadata": {
        "id": "Ydu2_VLkB84u"
      },
      "execution_count": 64,
      "outputs": []
    },
    {
      "cell_type": "markdown",
      "source": [
        "## Start tuning"
      ],
      "metadata": {
        "id": "qylGENCbg8RB"
      }
    },
    {
      "cell_type": "code",
      "source": [
        "train_set = MyDataset(train_grouped, embedder, encoder)\n",
        "train_loader = DataLoader(train_set, batch_size=8, shuffle=True, collate_fn=collate_fn_pad)\n",
        "\n",
        "validation = MyDataset(val_grouped, embedder, encoder)\n",
        "val_loader = DataLoader(validation, batch_size=len(validation), collate_fn=collate_fn_pad)"
      ],
      "metadata": {
        "id": "LZif9p5fhEyr"
      },
      "execution_count": 65,
      "outputs": []
    },
    {
      "cell_type": "code",
      "source": [
        "search = {'architecture': ['LSTM', '2-LSTM', '2-FC', 'GRU'],\n",
        "          'CRF': [True, False],\n",
        "          'hidden_dim': [128, 256, 512],\n",
        "          'dropout': [0.4, 0.6, 0.8],\n",
        "          'lr': [1e-4, 1e-3, 1e-2],\n",
        "          'weight_decay': [0, 1e-3, 1e-2, 1e-1],\n",
        "          'eps': [1e-9, 1e-8, 1e-7]\n",
        "          }\n"
      ],
      "metadata": {
        "id": "Rt_I9itTPbHQ"
      },
      "execution_count": 66,
      "outputs": []
    },
    {
      "cell_type": "code",
      "source": [
        "PATIENCE = 10\n",
        "writer = torch.utils.tensorboard.writer.SummaryWriter(log_dir=os.path.join(\"logs\", \"BiLSTM\"))\n",
        "\n",
        "# Uncomment the following line to perform the tuning\n",
        "# tuning_loop(train_loader, val_loader, PATIENCE, search, writer)"
      ],
      "metadata": {
        "id": "nfFE-6kesGIi"
      },
      "execution_count": 67,
      "outputs": []
    },
    {
      "cell_type": "markdown",
      "source": [
        "After tuning all the possible combinations of hyperparameters and architectures, the results are pretty similar. Across the architectures, usually, the  best combination of hyperparameters is: \n",
        "* hidden_dim = 128\n",
        "* dropout = 0.6\n",
        "\n",
        "Adding CRF makes the validation accuracy slightly better (around 0.5% more) but doubles the train time.\n",
        "\n",
        "2-LSTM and 2-FC perform slightly better, so we decide to train them."
      ],
      "metadata": {
        "id": "vXj5F2_zheNL"
      }
    },
    {
      "cell_type": "markdown",
      "source": [
        "## Train best models"
      ],
      "metadata": {
        "id": "xRhMCaokFosb"
      }
    },
    {
      "cell_type": "code",
      "source": [
        "PATIENCE = 15\n",
        "writer = torch.utils.tensorboard.writer.SummaryWriter(log_dir=os.path.join(\"logs\", \"BiLSTM\"))\n",
        "\n",
        "model_lstm = RNN('2-LSTM', EMBEDDING_SIZE, 128, len(labels), 0.6, device, CRF=True)\n",
        "optimizer = optim.Adam(model_lstm.parameters(), lr=1e-3, eps=1e-8, weight_decay=1e-3)\n",
        "optimization = Optimization(model_lstm, optimizer, train_loader, val_loader)\n",
        "\n",
        "path = f'model-2-LSTM-{EMBEDDING_SIZE}.pkl'\n",
        "\n",
        "# Uncomment the following line to perform the training\n",
        "best_acc = training_loop(model_lstm, train_loader, val_loader, PATIENCE, optimization, path, writer=writer)\n",
        "\n",
        "# Load the already trained network\n",
        "# !wget https://github.com/younik/pos-tagging/raw/main/models/$path\n",
        "# model_lstm.load_state_dict(torch.load('model-2-LSTM.pkl'))"
      ],
      "metadata": {
        "id": "HipF0Tn5Fq5R",
        "outputId": "6cd121d4-3ff3-4734-a92e-ae6061709df8",
        "colab": {
          "base_uri": "https://localhost:8080/"
        }
      },
      "execution_count": 68,
      "outputs": [
        {
          "output_type": "stream",
          "name": "stdout",
          "text": [
            "Epoch 1\n"
          ]
        },
        {
          "output_type": "stream",
          "name": "stderr",
          "text": [
            "100%|██████████| 256/256 [00:22<00:00, 11.59it/s]\n"
          ]
        },
        {
          "output_type": "stream",
          "name": "stdout",
          "text": [
            "loss: 30.342\n",
            "train acc:0.8045442700386047\n",
            "val acc:0.7879613637924194\n",
            "Model saved at model-2-LSTM-300.pkl\n",
            "Epoch 2\n"
          ]
        },
        {
          "output_type": "stream",
          "name": "stderr",
          "text": [
            "100%|██████████| 256/256 [00:21<00:00, 11.95it/s]\n"
          ]
        },
        {
          "output_type": "stream",
          "name": "stdout",
          "text": [
            "loss: 17.582\n",
            "train acc:0.8797406554222107\n",
            "val acc:0.8577108979225159\n",
            "Model saved at model-2-LSTM-300.pkl\n",
            "Epoch 3\n"
          ]
        },
        {
          "output_type": "stream",
          "name": "stderr",
          "text": [
            "100%|██████████| 256/256 [00:22<00:00, 11.50it/s]\n"
          ]
        },
        {
          "output_type": "stream",
          "name": "stdout",
          "text": [
            "loss: 13.329\n",
            "train acc:0.909916341304779\n",
            "val acc:0.8825962543487549\n",
            "Model saved at model-2-LSTM-300.pkl\n",
            "Epoch 4\n"
          ]
        },
        {
          "output_type": "stream",
          "name": "stderr",
          "text": [
            "100%|██████████| 256/256 [00:21<00:00, 12.11it/s]\n"
          ]
        },
        {
          "output_type": "stream",
          "name": "stdout",
          "text": [
            "loss: 7.806\n",
            "train acc:0.9302517175674438\n",
            "val acc:0.8980213403701782\n",
            "Model saved at model-2-LSTM-300.pkl\n",
            "Epoch 5\n"
          ]
        },
        {
          "output_type": "stream",
          "name": "stderr",
          "text": [
            "100%|██████████| 256/256 [00:20<00:00, 12.35it/s]\n"
          ]
        },
        {
          "output_type": "stream",
          "name": "stdout",
          "text": [
            "loss: 8.633\n",
            "train acc:0.9445899128913879\n",
            "val acc:0.9070647358894348\n",
            "Model saved at model-2-LSTM-300.pkl\n",
            "Epoch 6\n"
          ]
        },
        {
          "output_type": "stream",
          "name": "stderr",
          "text": [
            "100%|██████████| 256/256 [00:21<00:00, 11.80it/s]\n"
          ]
        },
        {
          "output_type": "stream",
          "name": "stdout",
          "text": [
            "loss: 4.294\n",
            "train acc:0.952424168586731\n",
            "val acc:0.9119070768356323\n",
            "Model saved at model-2-LSTM-300.pkl\n",
            "Epoch 7\n"
          ]
        },
        {
          "output_type": "stream",
          "name": "stderr",
          "text": [
            "100%|██████████| 256/256 [00:21<00:00, 11.76it/s]\n"
          ]
        },
        {
          "output_type": "stream",
          "name": "stdout",
          "text": [
            "loss: 3.875\n",
            "train acc:0.9600050449371338\n",
            "val acc:0.917679488658905\n",
            "Model saved at model-2-LSTM-300.pkl\n",
            "Epoch 8\n"
          ]
        },
        {
          "output_type": "stream",
          "name": "stderr",
          "text": [
            "100%|██████████| 256/256 [00:20<00:00, 12.41it/s]\n"
          ]
        },
        {
          "output_type": "stream",
          "name": "stdout",
          "text": [
            "loss: 5.988\n",
            "train acc:0.9654320478439331\n",
            "val acc:0.921367347240448\n",
            "Model saved at model-2-LSTM-300.pkl\n",
            "Epoch 9\n"
          ]
        },
        {
          "output_type": "stream",
          "name": "stderr",
          "text": [
            "100%|██████████| 256/256 [00:20<00:00, 12.56it/s]\n"
          ]
        },
        {
          "output_type": "stream",
          "name": "stdout",
          "text": [
            "loss: 4.593\n",
            "train acc:0.9699509739875793\n",
            "val acc:0.9230991005897522\n",
            "Model saved at model-2-LSTM-300.pkl\n",
            "Epoch 10\n"
          ]
        },
        {
          "output_type": "stream",
          "name": "stderr",
          "text": [
            "100%|██████████| 256/256 [00:21<00:00, 11.81it/s]\n"
          ]
        },
        {
          "output_type": "stream",
          "name": "stdout",
          "text": [
            "loss: 4.145\n",
            "train acc:0.9747022390365601\n",
            "val acc:0.9250873327255249\n",
            "Model saved at model-2-LSTM-300.pkl\n",
            "Epoch 11\n"
          ]
        },
        {
          "output_type": "stream",
          "name": "stderr",
          "text": [
            "100%|██████████| 256/256 [00:21<00:00, 11.87it/s]\n"
          ]
        },
        {
          "output_type": "stream",
          "name": "stdout",
          "text": [
            "loss: 2.392\n",
            "train acc:0.9777430295944214\n",
            "val acc:0.9281018376350403\n",
            "Model saved at model-2-LSTM-300.pkl\n",
            "Epoch 12\n"
          ]
        },
        {
          "output_type": "stream",
          "name": "stderr",
          "text": [
            "100%|██████████| 256/256 [00:21<00:00, 11.79it/s]\n"
          ]
        },
        {
          "output_type": "stream",
          "name": "stdout",
          "text": [
            "loss: 1.039\n",
            "train acc:0.9804459810256958\n",
            "val acc:0.9286149144172668\n",
            "Model saved at model-2-LSTM-300.pkl\n",
            "Epoch 13\n"
          ]
        },
        {
          "output_type": "stream",
          "name": "stderr",
          "text": [
            "100%|██████████| 256/256 [00:22<00:00, 11.46it/s]\n"
          ]
        },
        {
          "output_type": "stream",
          "name": "stdout",
          "text": [
            "loss: 4.071\n",
            "train acc:0.9835289716720581\n",
            "val acc:0.9299618005752563\n",
            "Model saved at model-2-LSTM-300.pkl\n",
            "Epoch 14\n"
          ]
        },
        {
          "output_type": "stream",
          "name": "stderr",
          "text": [
            "100%|██████████| 256/256 [00:21<00:00, 11.64it/s]\n"
          ]
        },
        {
          "output_type": "stream",
          "name": "stdout",
          "text": [
            "loss: 2.594\n",
            "train acc:0.9836134910583496\n",
            "val acc:0.9290959239006042\n",
            "Epoch 15\n"
          ]
        },
        {
          "output_type": "stream",
          "name": "stderr",
          "text": [
            "100%|██████████| 256/256 [00:20<00:00, 12.27it/s]\n"
          ]
        },
        {
          "output_type": "stream",
          "name": "stdout",
          "text": [
            "loss: 2.898\n",
            "train acc:0.9869287610054016\n",
            "val acc:0.9292241930961609\n",
            "Epoch 16\n"
          ]
        },
        {
          "output_type": "stream",
          "name": "stderr",
          "text": [
            "100%|██████████| 256/256 [00:20<00:00, 12.39it/s]\n"
          ]
        },
        {
          "output_type": "stream",
          "name": "stdout",
          "text": [
            "loss: 1.307\n",
            "train acc:0.986400842666626\n",
            "val acc:0.9282621741294861\n",
            "Epoch 17\n"
          ]
        },
        {
          "output_type": "stream",
          "name": "stderr",
          "text": [
            "100%|██████████| 256/256 [00:22<00:00, 11.39it/s]\n"
          ]
        },
        {
          "output_type": "stream",
          "name": "stdout",
          "text": [
            "loss: 3.697\n",
            "train acc:0.9884491562843323\n",
            "val acc:0.9311162829399109\n",
            "Model saved at model-2-LSTM-300.pkl\n",
            "Epoch 18\n"
          ]
        },
        {
          "output_type": "stream",
          "name": "stderr",
          "text": [
            "100%|██████████| 256/256 [00:21<00:00, 11.73it/s]\n"
          ]
        },
        {
          "output_type": "stream",
          "name": "stdout",
          "text": [
            "loss: 4.737\n",
            "train acc:0.9896950721740723\n",
            "val acc:0.9303145408630371\n",
            "Epoch 19\n"
          ]
        },
        {
          "output_type": "stream",
          "name": "stderr",
          "text": [
            "100%|██████████| 256/256 [00:20<00:00, 12.41it/s]\n"
          ]
        },
        {
          "output_type": "stream",
          "name": "stdout",
          "text": [
            "loss: 3.147\n",
            "train acc:0.9900329113006592\n",
            "val acc:0.9305710792541504\n",
            "Epoch 20\n"
          ]
        },
        {
          "output_type": "stream",
          "name": "stderr",
          "text": [
            "100%|██████████| 256/256 [00:21<00:00, 11.78it/s]\n"
          ]
        },
        {
          "output_type": "stream",
          "name": "stdout",
          "text": [
            "loss: 1.525\n",
            "train acc:0.9902651906013489\n",
            "val acc:0.9322386980056763\n",
            "Model saved at model-2-LSTM-300.pkl\n",
            "Epoch 21\n"
          ]
        },
        {
          "output_type": "stream",
          "name": "stderr",
          "text": [
            "100%|██████████| 256/256 [00:21<00:00, 11.77it/s]\n"
          ]
        },
        {
          "output_type": "stream",
          "name": "stdout",
          "text": [
            "loss: 1.918\n",
            "train acc:0.9917011260986328\n",
            "val acc:0.9334893822669983\n",
            "Model saved at model-2-LSTM-300.pkl\n",
            "Epoch 22\n"
          ]
        },
        {
          "output_type": "stream",
          "name": "stderr",
          "text": [
            "100%|██████████| 256/256 [00:20<00:00, 12.19it/s]\n"
          ]
        },
        {
          "output_type": "stream",
          "name": "stdout",
          "text": [
            "loss: 2.404\n",
            "train acc:0.9924613237380981\n",
            "val acc:0.9334573149681091\n",
            "Epoch 23\n"
          ]
        },
        {
          "output_type": "stream",
          "name": "stderr",
          "text": [
            "100%|██████████| 256/256 [00:21<00:00, 12.18it/s]\n"
          ]
        },
        {
          "output_type": "stream",
          "name": "stdout",
          "text": [
            "loss: 2.538\n",
            "train acc:0.993348240852356\n",
            "val acc:0.9318858981132507\n",
            "Epoch 24\n"
          ]
        },
        {
          "output_type": "stream",
          "name": "stderr",
          "text": [
            "100%|██████████| 256/256 [00:21<00:00, 11.74it/s]\n"
          ]
        },
        {
          "output_type": "stream",
          "name": "stdout",
          "text": [
            "loss: 2.114\n",
            "train acc:0.9929470419883728\n",
            "val acc:0.9314690232276917\n",
            "Epoch 25\n"
          ]
        },
        {
          "output_type": "stream",
          "name": "stderr",
          "text": [
            "100%|██████████| 256/256 [00:22<00:00, 11.46it/s]\n"
          ]
        },
        {
          "output_type": "stream",
          "name": "stdout",
          "text": [
            "loss: 1.370\n",
            "train acc:0.9943196177482605\n",
            "val acc:0.9332648515701294\n",
            "Epoch 26\n"
          ]
        },
        {
          "output_type": "stream",
          "name": "stderr",
          "text": [
            "100%|██████████| 256/256 [00:21<00:00, 11.99it/s]\n"
          ]
        },
        {
          "output_type": "stream",
          "name": "stdout",
          "text": [
            "loss: 1.474\n",
            "train acc:0.9952698349952698\n",
            "val acc:0.9333611130714417\n",
            "Epoch 27\n"
          ]
        },
        {
          "output_type": "stream",
          "name": "stderr",
          "text": [
            "100%|██████████| 256/256 [00:20<00:00, 12.19it/s]\n"
          ]
        },
        {
          "output_type": "stream",
          "name": "stdout",
          "text": [
            "loss: 0.724\n",
            "train acc:0.9954599142074585\n",
            "val acc:0.9338741898536682\n",
            "Model saved at model-2-LSTM-300.pkl\n",
            "Epoch 28\n"
          ]
        },
        {
          "output_type": "stream",
          "name": "stderr",
          "text": [
            "100%|██████████| 256/256 [00:23<00:00, 10.95it/s]\n"
          ]
        },
        {
          "output_type": "stream",
          "name": "stdout",
          "text": [
            "loss: 1.329\n",
            "train acc:0.9958400130271912\n",
            "val acc:0.9331045150756836\n",
            "Epoch 29\n"
          ]
        },
        {
          "output_type": "stream",
          "name": "stderr",
          "text": [
            "100%|██████████| 256/256 [00:23<00:00, 10.80it/s]\n"
          ]
        },
        {
          "output_type": "stream",
          "name": "stdout",
          "text": [
            "loss: 1.793\n",
            "train acc:0.9959666728973389\n",
            "val acc:0.9332648515701294\n",
            "Epoch 30\n"
          ]
        },
        {
          "output_type": "stream",
          "name": "stderr",
          "text": [
            "100%|██████████| 256/256 [00:22<00:00, 11.17it/s]\n"
          ]
        },
        {
          "output_type": "stream",
          "name": "stdout",
          "text": [
            "loss: 1.915\n",
            "train acc:0.9961567521095276\n",
            "val acc:0.9340024590492249\n",
            "Model saved at model-2-LSTM-300.pkl\n",
            "Epoch 31\n"
          ]
        },
        {
          "output_type": "stream",
          "name": "stderr",
          "text": [
            "100%|██████████| 256/256 [00:22<00:00, 11.20it/s]\n"
          ]
        },
        {
          "output_type": "stream",
          "name": "stdout",
          "text": [
            "loss: 2.598\n",
            "train acc:0.9961144924163818\n",
            "val acc:0.93342524766922\n",
            "Epoch 32\n"
          ]
        },
        {
          "output_type": "stream",
          "name": "stderr",
          "text": [
            "100%|██████████| 256/256 [00:22<00:00, 11.28it/s]\n"
          ]
        },
        {
          "output_type": "stream",
          "name": "stdout",
          "text": [
            "loss: 0.562\n",
            "train acc:0.9965368509292603\n",
            "val acc:0.9339703917503357\n",
            "Epoch 33\n"
          ]
        },
        {
          "output_type": "stream",
          "name": "stderr",
          "text": [
            "100%|██████████| 256/256 [00:23<00:00, 10.80it/s]\n"
          ]
        },
        {
          "output_type": "stream",
          "name": "stdout",
          "text": [
            "loss: 1.128\n",
            "train acc:0.9964101314544678\n",
            "val acc:0.9337779879570007\n",
            "Epoch 34\n"
          ]
        },
        {
          "output_type": "stream",
          "name": "stderr",
          "text": [
            "100%|██████████| 256/256 [00:23<00:00, 10.71it/s]\n"
          ]
        },
        {
          "output_type": "stream",
          "name": "stdout",
          "text": [
            "loss: 1.953\n",
            "train acc:0.9966846704483032\n",
            "val acc:0.9340024590492249\n",
            "Model saved at model-2-LSTM-300.pkl\n",
            "Epoch 35\n"
          ]
        },
        {
          "output_type": "stream",
          "name": "stderr",
          "text": [
            "100%|██████████| 256/256 [00:23<00:00, 10.85it/s]\n"
          ]
        },
        {
          "output_type": "stream",
          "name": "stdout",
          "text": [
            "loss: 0.981\n",
            "train acc:0.9968113899230957\n",
            "val acc:0.9345796704292297\n",
            "Model saved at model-2-LSTM-300.pkl\n",
            "Epoch 36\n"
          ]
        },
        {
          "output_type": "stream",
          "name": "stderr",
          "text": [
            "100%|██████████| 256/256 [00:23<00:00, 10.98it/s]\n"
          ]
        },
        {
          "output_type": "stream",
          "name": "stdout",
          "text": [
            "loss: 0.958\n",
            "train acc:0.9969592094421387\n",
            "val acc:0.9333931803703308\n",
            "Epoch 37\n"
          ]
        },
        {
          "output_type": "stream",
          "name": "stderr",
          "text": [
            "100%|██████████| 256/256 [00:23<00:00, 11.10it/s]\n"
          ]
        },
        {
          "output_type": "stream",
          "name": "stdout",
          "text": [
            "loss: 1.061\n",
            "train acc:0.9968324899673462\n",
            "val acc:0.9341307282447815\n",
            "Epoch 38\n"
          ]
        },
        {
          "output_type": "stream",
          "name": "stderr",
          "text": [
            "100%|██████████| 256/256 [00:23<00:00, 10.98it/s]\n"
          ]
        },
        {
          "output_type": "stream",
          "name": "stdout",
          "text": [
            "loss: 2.256\n",
            "train acc:0.9968535900115967\n",
            "val acc:0.9337459206581116\n",
            "Epoch 39\n"
          ]
        },
        {
          "output_type": "stream",
          "name": "stderr",
          "text": [
            "100%|██████████| 256/256 [00:23<00:00, 10.76it/s]\n"
          ]
        },
        {
          "output_type": "stream",
          "name": "stdout",
          "text": [
            "loss: 1.954\n",
            "train acc:0.9968958497047424\n",
            "val acc:0.9338741898536682\n",
            "Epoch 40\n"
          ]
        },
        {
          "output_type": "stream",
          "name": "stderr",
          "text": [
            "100%|██████████| 256/256 [00:23<00:00, 10.96it/s]\n"
          ]
        },
        {
          "output_type": "stream",
          "name": "stdout",
          "text": [
            "loss: 1.695\n",
            "train acc:0.9967480301856995\n",
            "val acc:0.9338100552558899\n",
            "Epoch 41\n"
          ]
        },
        {
          "output_type": "stream",
          "name": "stderr",
          "text": [
            "100%|██████████| 256/256 [00:22<00:00, 11.18it/s]\n"
          ]
        },
        {
          "output_type": "stream",
          "name": "stdout",
          "text": [
            "loss: 0.799\n",
            "train acc:0.9968958497047424\n",
            "val acc:0.9345476031303406\n",
            "Epoch 42\n"
          ]
        },
        {
          "output_type": "stream",
          "name": "stderr",
          "text": [
            "100%|██████████| 256/256 [00:22<00:00, 11.18it/s]\n"
          ]
        },
        {
          "output_type": "stream",
          "name": "stdout",
          "text": [
            "loss: 1.208\n",
            "train acc:0.996726930141449\n",
            "val acc:0.9340986609458923\n",
            "Epoch 43\n"
          ]
        },
        {
          "output_type": "stream",
          "name": "stderr",
          "text": [
            "100%|██████████| 256/256 [00:23<00:00, 10.94it/s]\n"
          ]
        },
        {
          "output_type": "stream",
          "name": "stdout",
          "text": [
            "loss: 1.911\n",
            "train acc:0.9969803094863892\n",
            "val acc:0.9339703917503357\n",
            "Epoch 44\n"
          ]
        },
        {
          "output_type": "stream",
          "name": "stderr",
          "text": [
            "100%|██████████| 256/256 [00:23<00:00, 10.72it/s]\n"
          ]
        },
        {
          "output_type": "stream",
          "name": "stdout",
          "text": [
            "loss: 1.564\n",
            "train acc:0.9967057704925537\n",
            "val acc:0.934675931930542\n",
            "Model saved at model-2-LSTM-300.pkl\n",
            "Epoch 45\n"
          ]
        },
        {
          "output_type": "stream",
          "name": "stderr",
          "text": [
            "100%|██████████| 256/256 [00:23<00:00, 10.78it/s]\n"
          ]
        },
        {
          "output_type": "stream",
          "name": "stdout",
          "text": [
            "loss: 0.501\n",
            "train acc:0.9970647692680359\n",
            "val acc:0.9340665936470032\n",
            "Epoch 46\n"
          ]
        },
        {
          "output_type": "stream",
          "name": "stderr",
          "text": [
            "100%|██████████| 256/256 [00:23<00:00, 11.06it/s]\n"
          ]
        },
        {
          "output_type": "stream",
          "name": "stdout",
          "text": [
            "loss: 0.600\n",
            "train acc:0.9970225095748901\n",
            "val acc:0.9339062571525574\n",
            "Epoch 47\n"
          ]
        },
        {
          "output_type": "stream",
          "name": "stderr",
          "text": [
            "100%|██████████| 256/256 [00:22<00:00, 11.52it/s]\n"
          ]
        },
        {
          "output_type": "stream",
          "name": "stdout",
          "text": [
            "loss: 2.104\n",
            "train acc:0.9967902302742004\n",
            "val acc:0.9340024590492249\n",
            "Epoch 48\n"
          ]
        },
        {
          "output_type": "stream",
          "name": "stderr",
          "text": [
            "100%|██████████| 256/256 [00:21<00:00, 11.89it/s]\n"
          ]
        },
        {
          "output_type": "stream",
          "name": "stdout",
          "text": [
            "loss: 1.464\n",
            "train acc:0.9971281290054321\n",
            "val acc:0.9339383244514465\n",
            "Epoch 49\n"
          ]
        },
        {
          "output_type": "stream",
          "name": "stderr",
          "text": [
            "100%|██████████| 256/256 [00:21<00:00, 11.79it/s]\n"
          ]
        },
        {
          "output_type": "stream",
          "name": "stdout",
          "text": [
            "loss: 0.870\n",
            "train acc:0.9970014095306396\n",
            "val acc:0.9337459206581116\n",
            "Epoch 50\n"
          ]
        },
        {
          "output_type": "stream",
          "name": "stderr",
          "text": [
            "100%|██████████| 256/256 [00:20<00:00, 12.21it/s]\n"
          ]
        },
        {
          "output_type": "stream",
          "name": "stdout",
          "text": [
            "loss: 2.314\n",
            "train acc:0.996621310710907\n",
            "val acc:0.933842122554779\n",
            "Epoch 51\n"
          ]
        },
        {
          "output_type": "stream",
          "name": "stderr",
          "text": [
            "100%|██████████| 256/256 [00:20<00:00, 12.41it/s]\n"
          ]
        },
        {
          "output_type": "stream",
          "name": "stdout",
          "text": [
            "loss: 1.044\n",
            "train acc:0.9968958497047424\n",
            "val acc:0.9343231320381165\n",
            "Epoch 52\n"
          ]
        },
        {
          "output_type": "stream",
          "name": "stderr",
          "text": [
            "100%|██████████| 256/256 [00:22<00:00, 11.36it/s]\n"
          ]
        },
        {
          "output_type": "stream",
          "name": "stdout",
          "text": [
            "loss: 1.432\n",
            "train acc:0.9969380497932434\n",
            "val acc:0.9340665936470032\n",
            "Epoch 53\n"
          ]
        },
        {
          "output_type": "stream",
          "name": "stderr",
          "text": [
            "100%|██████████| 256/256 [00:21<00:00, 11.85it/s]\n"
          ]
        },
        {
          "output_type": "stream",
          "name": "stdout",
          "text": [
            "loss: 0.887\n",
            "train acc:0.9968958497047424\n",
            "val acc:0.933842122554779\n",
            "Epoch 54\n"
          ]
        },
        {
          "output_type": "stream",
          "name": "stderr",
          "text": [
            "100%|██████████| 256/256 [00:21<00:00, 12.12it/s]\n"
          ]
        },
        {
          "output_type": "stream",
          "name": "stdout",
          "text": [
            "loss: 0.719\n",
            "train acc:0.9967902302742004\n",
            "val acc:0.9337459206581116\n",
            "Epoch 55\n"
          ]
        },
        {
          "output_type": "stream",
          "name": "stderr",
          "text": [
            "100%|██████████| 256/256 [00:21<00:00, 11.91it/s]\n"
          ]
        },
        {
          "output_type": "stream",
          "name": "stdout",
          "text": [
            "loss: 1.557\n",
            "train acc:0.9969380497932434\n",
            "val acc:0.9340665936470032\n",
            "Epoch 56\n"
          ]
        },
        {
          "output_type": "stream",
          "name": "stderr",
          "text": [
            "100%|██████████| 256/256 [00:21<00:00, 11.64it/s]\n"
          ]
        },
        {
          "output_type": "stream",
          "name": "stdout",
          "text": [
            "loss: 0.923\n",
            "train acc:0.99676913022995\n",
            "val acc:0.9339062571525574\n",
            "Epoch 57\n"
          ]
        },
        {
          "output_type": "stream",
          "name": "stderr",
          "text": [
            "100%|██████████| 256/256 [00:21<00:00, 11.99it/s]\n"
          ]
        },
        {
          "output_type": "stream",
          "name": "stdout",
          "text": [
            "loss: 1.300\n",
            "train acc:0.9970858693122864\n",
            "val acc:0.9339703917503357\n",
            "Epoch 58\n"
          ]
        },
        {
          "output_type": "stream",
          "name": "stderr",
          "text": [
            "100%|██████████| 256/256 [00:21<00:00, 12.08it/s]\n"
          ]
        },
        {
          "output_type": "stream",
          "name": "stdout",
          "text": [
            "loss: 2.386\n",
            "train acc:0.99676913022995\n",
            "val acc:0.9337459206581116\n",
            "Epoch 59\n"
          ]
        },
        {
          "output_type": "stream",
          "name": "stderr",
          "text": [
            "100%|██████████| 256/256 [00:21<00:00, 11.86it/s]\n"
          ]
        },
        {
          "output_type": "stream",
          "name": "stdout",
          "text": [
            "loss: 1.101\n",
            "train acc:0.9969592094421387\n",
            "val acc:0.9339703917503357\n",
            "Epoch 60\n"
          ]
        },
        {
          "output_type": "stream",
          "name": "stderr",
          "text": [
            "100%|██████████| 256/256 [00:21<00:00, 11.81it/s]\n"
          ]
        },
        {
          "output_type": "stream",
          "name": "stdout",
          "text": [
            "loss: 1.431\n",
            "train acc:0.9969380497932434\n",
            "val acc:0.9337459206581116\n",
            "\n",
            " Best model at epoch 44\n"
          ]
        }
      ]
    },
    {
      "cell_type": "code",
      "source": [
        "model_fc = RNN('2-FC', EMBEDDING_SIZE, 128, len(labels), 0.6, device, CRF=True)\n",
        "optimizer = optim.Adam(model_fc.parameters(), lr=1e-3, eps=1e-8, weight_decay=1e-3)\n",
        "optimization = Optimization(model_fc, optimizer, train_loader, val_loader)\n",
        "\n",
        "path = f'model-2-FC-{EMBEDDING_SIZE}.pkl'\n",
        "\n",
        "# Uncomment the following line to perform the training\n",
        "best_acc = training_loop(model_fc, train_loader, val_loader, PATIENCE, optimization, path, writer=writer)\n",
        "\n",
        "# Load the already trained network\n",
        "# !wget https://github.com/younik/pos-tagging/raw/main/models/$path\n",
        "# model_fc.load_state_dict(torch.load('model-2-FC.pkl'))"
      ],
      "metadata": {
        "id": "L0ByoNTrGdws",
        "outputId": "dee45545-2250-44e7-ea6b-be49f18e3b76",
        "colab": {
          "base_uri": "https://localhost:8080/"
        }
      },
      "execution_count": null,
      "outputs": [
        {
          "output_type": "stream",
          "name": "stdout",
          "text": [
            "Epoch 1\n"
          ]
        },
        {
          "output_type": "stream",
          "name": "stderr",
          "text": [
            "100%|██████████| 256/256 [00:18<00:00, 14.00it/s]\n"
          ]
        },
        {
          "output_type": "stream",
          "name": "stdout",
          "text": [
            "loss: 31.842\n",
            "train acc:0.7450164556503296\n",
            "val acc:0.7314241528511047\n",
            "Model saved at model-2-FC-300.pkl\n",
            "Epoch 2\n"
          ]
        },
        {
          "output_type": "stream",
          "name": "stderr",
          "text": [
            "100%|██████████| 256/256 [00:20<00:00, 12.53it/s]\n"
          ]
        },
        {
          "output_type": "stream",
          "name": "stdout",
          "text": [
            "loss: 29.083\n",
            "train acc:0.821522057056427\n",
            "val acc:0.8057594895362854\n",
            "Model saved at model-2-FC-300.pkl\n",
            "Epoch 3\n"
          ]
        },
        {
          "output_type": "stream",
          "name": "stderr",
          "text": [
            "100%|██████████| 256/256 [00:18<00:00, 14.05it/s]\n"
          ]
        },
        {
          "output_type": "stream",
          "name": "stdout",
          "text": [
            "loss: 24.930\n",
            "train acc:0.8605034351348877\n",
            "val acc:0.8399127125740051\n",
            "Model saved at model-2-FC-300.pkl\n",
            "Epoch 4\n"
          ]
        },
        {
          "output_type": "stream",
          "name": "stderr",
          "text": [
            "100%|██████████| 256/256 [00:18<00:00, 14.06it/s]\n"
          ]
        },
        {
          "output_type": "stream",
          "name": "stdout",
          "text": [
            "loss: 21.952\n",
            "train acc:0.8796350955963135\n",
            "val acc:0.8589295148849487\n",
            "Model saved at model-2-FC-300.pkl\n",
            "Epoch 5\n"
          ]
        },
        {
          "output_type": "stream",
          "name": "stderr",
          "text": [
            "100%|██████████| 256/256 [00:18<00:00, 13.88it/s]\n"
          ]
        },
        {
          "output_type": "stream",
          "name": "stdout",
          "text": [
            "loss: 9.847\n",
            "train acc:0.8929385542869568\n",
            "val acc:0.870410144329071\n",
            "Model saved at model-2-FC-300.pkl\n",
            "Epoch 6\n"
          ]
        },
        {
          "output_type": "stream",
          "name": "stderr",
          "text": [
            "100%|██████████| 256/256 [00:19<00:00, 13.03it/s]\n"
          ]
        },
        {
          "output_type": "stream",
          "name": "stdout",
          "text": [
            "loss: 16.464\n",
            "train acc:0.9000337719917297\n",
            "val acc:0.8781387209892273\n",
            "Model saved at model-2-FC-300.pkl\n",
            "Epoch 7\n"
          ]
        },
        {
          "output_type": "stream",
          "name": "stderr",
          "text": [
            "100%|██████████| 256/256 [00:20<00:00, 12.69it/s]\n"
          ]
        },
        {
          "output_type": "stream",
          "name": "stdout",
          "text": [
            "loss: 18.122\n",
            "train acc:0.9074879288673401\n",
            "val acc:0.8829810619354248\n",
            "Model saved at model-2-FC-300.pkl\n",
            "Epoch 8\n"
          ]
        },
        {
          "output_type": "stream",
          "name": "stderr",
          "text": [
            "100%|██████████| 256/256 [00:20<00:00, 12.60it/s]\n"
          ]
        },
        {
          "output_type": "stream",
          "name": "stdout",
          "text": [
            "loss: 12.357\n",
            "train acc:0.9155545234680176\n",
            "val acc:0.8892986178398132\n",
            "Model saved at model-2-FC-300.pkl\n",
            "Epoch 9\n"
          ]
        },
        {
          "output_type": "stream",
          "name": "stderr",
          "text": [
            "100%|██████████| 256/256 [00:20<00:00, 12.53it/s]\n"
          ]
        },
        {
          "output_type": "stream",
          "name": "stdout",
          "text": [
            "loss: 10.374\n",
            "train acc:0.9231142401695251\n",
            "val acc:0.8960651159286499\n",
            "Model saved at model-2-FC-300.pkl\n",
            "Epoch 10\n"
          ]
        },
        {
          "output_type": "stream",
          "name": "stderr",
          "text": [
            "100%|██████████| 256/256 [00:20<00:00, 12.75it/s]\n"
          ]
        },
        {
          "output_type": "stream",
          "name": "stdout",
          "text": [
            "loss: 8.039\n",
            "train acc:0.9245713353157043\n",
            "val acc:0.8980213403701782\n",
            "Model saved at model-2-FC-300.pkl\n",
            "Epoch 11\n"
          ]
        },
        {
          "output_type": "stream",
          "name": "stderr",
          "text": [
            "100%|██████████| 256/256 [00:20<00:00, 12.72it/s]\n"
          ]
        },
        {
          "output_type": "stream",
          "name": "stdout",
          "text": [
            "loss: 14.665\n",
            "train acc:0.93080073595047\n",
            "val acc:0.9025430083274841\n",
            "Model saved at model-2-FC-300.pkl\n",
            "Epoch 12\n"
          ]
        },
        {
          "output_type": "stream",
          "name": "stderr",
          "text": [
            "100%|██████████| 256/256 [00:20<00:00, 12.39it/s]\n"
          ]
        },
        {
          "output_type": "stream",
          "name": "stdout",
          "text": [
            "loss: 19.546\n",
            "train acc:0.9335881471633911\n",
            "val acc:0.904403030872345\n",
            "Model saved at model-2-FC-300.pkl\n",
            "Epoch 13\n"
          ]
        },
        {
          "output_type": "stream",
          "name": "stderr",
          "text": [
            "100%|██████████| 256/256 [00:20<00:00, 12.77it/s]\n"
          ]
        },
        {
          "output_type": "stream",
          "name": "stdout",
          "text": [
            "loss: 8.082\n",
            "train acc:0.9371779561042786\n",
            "val acc:0.9068402051925659\n",
            "Model saved at model-2-FC-300.pkl\n",
            "Epoch 14\n"
          ]
        },
        {
          "output_type": "stream",
          "name": "stderr",
          "text": [
            "100%|██████████| 256/256 [00:20<00:00, 12.61it/s]\n"
          ]
        },
        {
          "output_type": "stream",
          "name": "stdout",
          "text": [
            "loss: 9.998\n",
            "train acc:0.9404510259628296\n",
            "val acc:0.9092453718185425\n",
            "Model saved at model-2-FC-300.pkl\n",
            "Epoch 15\n"
          ]
        },
        {
          "output_type": "stream",
          "name": "stderr",
          "text": [
            "100%|██████████| 256/256 [00:20<00:00, 12.57it/s]\n"
          ]
        },
        {
          "output_type": "stream",
          "name": "stdout",
          "text": [
            "loss: 9.117\n",
            "train acc:0.9437663555145264\n",
            "val acc:0.9107846617698669\n",
            "Model saved at model-2-FC-300.pkl\n",
            "Epoch 16\n"
          ]
        },
        {
          "output_type": "stream",
          "name": "stderr",
          "text": [
            "100%|██████████| 256/256 [00:20<00:00, 12.63it/s]\n"
          ]
        },
        {
          "output_type": "stream",
          "name": "stdout",
          "text": [
            "loss: 10.163\n",
            "train acc:0.9446743726730347\n",
            "val acc:0.9115543365478516\n",
            "Model saved at model-2-FC-300.pkl\n",
            "Epoch 17\n"
          ]
        },
        {
          "output_type": "stream",
          "name": "stderr",
          "text": [
            "100%|██████████| 256/256 [00:20<00:00, 12.69it/s]\n"
          ]
        },
        {
          "output_type": "stream",
          "name": "stdout",
          "text": [
            "loss: 8.193\n",
            "train acc:0.946617066860199\n",
            "val acc:0.9129332900047302\n",
            "Model saved at model-2-FC-300.pkl\n",
            "Epoch 18\n"
          ]
        },
        {
          "output_type": "stream",
          "name": "stderr",
          "text": [
            "100%|██████████| 256/256 [00:20<00:00, 12.59it/s]\n"
          ]
        },
        {
          "output_type": "stream",
          "name": "stdout",
          "text": [
            "loss: 11.128\n",
            "train acc:0.9495311975479126\n",
            "val acc:0.9137991666793823\n",
            "Model saved at model-2-FC-300.pkl\n",
            "Epoch 19\n"
          ]
        },
        {
          "output_type": "stream",
          "name": "stderr",
          "text": [
            "100%|██████████| 256/256 [00:20<00:00, 12.46it/s]\n"
          ]
        },
        {
          "output_type": "stream",
          "name": "stdout",
          "text": [
            "loss: 11.424\n",
            "train acc:0.9504181146621704\n",
            "val acc:0.9158194661140442\n",
            "Model saved at model-2-FC-300.pkl\n",
            "Epoch 20\n"
          ]
        },
        {
          "output_type": "stream",
          "name": "stderr",
          "text": [
            "100%|██████████| 256/256 [00:19<00:00, 12.83it/s]\n"
          ]
        },
        {
          "output_type": "stream",
          "name": "stdout",
          "text": [
            "loss: 6.316\n",
            "train acc:0.9518117904663086\n",
            "val acc:0.9164929389953613\n",
            "Model saved at model-2-FC-300.pkl\n",
            "Epoch 21\n"
          ]
        },
        {
          "output_type": "stream",
          "name": "stderr",
          "text": [
            "100%|██████████| 256/256 [00:20<00:00, 12.55it/s]\n"
          ]
        },
        {
          "output_type": "stream",
          "name": "stdout",
          "text": [
            "loss: 9.488\n",
            "train acc:0.9540079236030579\n",
            "val acc:0.9163005352020264\n",
            "Epoch 22\n"
          ]
        },
        {
          "output_type": "stream",
          "name": "stderr",
          "text": [
            "100%|██████████| 256/256 [00:20<00:00, 12.39it/s]\n"
          ]
        },
        {
          "output_type": "stream",
          "name": "stdout",
          "text": [
            "loss: 6.477\n",
            "train acc:0.9546836614608765\n",
            "val acc:0.9165570735931396\n",
            "Model saved at model-2-FC-300.pkl\n",
            "Epoch 23\n"
          ]
        },
        {
          "output_type": "stream",
          "name": "stderr",
          "text": [
            "100%|██████████| 256/256 [00:20<00:00, 12.38it/s]\n"
          ]
        },
        {
          "output_type": "stream",
          "name": "stdout",
          "text": [
            "loss: 8.354\n",
            "train acc:0.954556941986084\n",
            "val acc:0.9176474213600159\n",
            "Model saved at model-2-FC-300.pkl\n",
            "Epoch 24\n"
          ]
        },
        {
          "output_type": "stream",
          "name": "stderr",
          "text": [
            "100%|██████████| 256/256 [00:20<00:00, 12.53it/s]\n"
          ]
        },
        {
          "output_type": "stream",
          "name": "stdout",
          "text": [
            "loss: 9.467\n",
            "train acc:0.9554438591003418\n",
            "val acc:0.9209504723548889\n",
            "Model saved at model-2-FC-300.pkl\n",
            "Epoch 25\n"
          ]
        },
        {
          "output_type": "stream",
          "name": "stderr",
          "text": [
            "100%|██████████| 256/256 [00:20<00:00, 12.48it/s]\n"
          ]
        },
        {
          "output_type": "stream",
          "name": "stdout",
          "text": [
            "loss: 5.802\n",
            "train acc:0.95808345079422\n",
            "val acc:0.9215277433395386\n",
            "Model saved at model-2-FC-300.pkl\n",
            "Epoch 26\n"
          ]
        },
        {
          "output_type": "stream",
          "name": "stderr",
          "text": [
            "100%|██████████| 256/256 [00:20<00:00, 12.49it/s]\n"
          ]
        },
        {
          "output_type": "stream",
          "name": "stdout",
          "text": [
            "loss: 11.671\n",
            "train acc:0.9608286023139954\n",
            "val acc:0.9229387640953064\n",
            "Model saved at model-2-FC-300.pkl\n",
            "Epoch 27\n"
          ]
        },
        {
          "output_type": "stream",
          "name": "stderr",
          "text": [
            "100%|██████████| 256/256 [00:20<00:00, 12.66it/s]\n"
          ]
        },
        {
          "output_type": "stream",
          "name": "stdout",
          "text": [
            "loss: 6.414\n",
            "train acc:0.9611876010894775\n",
            "val acc:0.9226500988006592\n",
            "Epoch 28\n"
          ]
        },
        {
          "output_type": "stream",
          "name": "stderr",
          "text": [
            "100%|██████████| 256/256 [00:22<00:00, 11.48it/s]\n"
          ]
        },
        {
          "output_type": "stream",
          "name": "stdout",
          "text": [
            "loss: 9.591\n",
            "train acc:0.9618844389915466\n",
            "val acc:0.9228425621986389\n",
            "Epoch 29\n"
          ]
        },
        {
          "output_type": "stream",
          "name": "stderr",
          "text": [
            "100%|██████████| 256/256 [00:19<00:00, 13.45it/s]\n"
          ]
        },
        {
          "output_type": "stream",
          "name": "stdout",
          "text": [
            "loss: 14.780\n",
            "train acc:0.9621800780296326\n",
            "val acc:0.9236121773719788\n",
            "Model saved at model-2-FC-300.pkl\n",
            "Epoch 30\n"
          ]
        },
        {
          "output_type": "stream",
          "name": "stderr",
          "text": [
            "100%|██████████| 256/256 [00:18<00:00, 13.96it/s]\n"
          ]
        }
      ]
    },
    {
      "cell_type": "markdown",
      "source": [
        "# Confusion Matrix and Report\n"
      ],
      "metadata": {
        "id": "esRWaE1pRiWx"
      }
    },
    {
      "cell_type": "code",
      "source": [
        "test_dataset = MyDataset(test_grouped, embedder, encoder)\n",
        "test_loader = DataLoader(test_dataset, batch_size=len(test_set), shuffle=True, collate_fn=collate_fn_pad)"
      ],
      "metadata": {
        "id": "_SCjXraH-WNC"
      },
      "execution_count": 70,
      "outputs": []
    },
    {
      "cell_type": "code",
      "source": [
        "punctuation = np.array([',', '.', '``', \"''\",  ':', '#', '$' ])\n",
        "mask = np.array([l not in punctuation for l in labels], dtype=int)\n",
        "no_punc_labels = labels[mask == 1]\n",
        "\n",
        "y_true = torch.Tensor()\n",
        "y_pred_lstm = torch.Tensor().to(device)\n",
        "y_pred_fc = torch.Tensor().to(device)\n",
        "\n",
        "for data in test_loader:\n",
        "  y_true = torch.cat((y_true, data['labels']), 0)\n",
        "  y_pred_lstm = torch.cat((y_pred_lstm, model_lstm.prediction(data['words'])), 0)\n",
        "  y_pred_fc = torch.cat((y_pred_fc, model_fc.prediction(data['words'])), 0)"
      ],
      "metadata": {
        "id": "6Kwi9P0NlMsU"
      },
      "execution_count": 71,
      "outputs": []
    },
    {
      "cell_type": "code",
      "source": [
        "y_true = y_true.squeeze()\n",
        "mask_padding = y_true != -1\n",
        "y_true = y_true[mask_padding].flatten().int()\n",
        "y_pred_lstm = y_pred_lstm[mask_padding].flatten()\n",
        "y_pred_fc = y_pred_fc[mask_padding].flatten()\n",
        "\n",
        "encoded_labels = encoder.transform(np.array(labels).reshape(-1, 1)).squeeze()\n",
        "\n",
        "\n",
        "report_lstm = classification_report(y_true, y_pred_lstm.cpu(), labels=encoded_labels, target_names=labels, output_dict=True, zero_division = 0)\n",
        "report_fc = classification_report(y_true, y_pred_fc.cpu(), labels=encoded_labels, target_names=labels, output_dict=True, zero_division = 0)"
      ],
      "metadata": {
        "id": "WYcCEqcARIiY"
      },
      "execution_count": 72,
      "outputs": []
    },
    {
      "cell_type": "code",
      "source": [
        "print(model_lstm.accuracy(test_loader))\n",
        "print(model_fc.accuracy(test_loader))"
      ],
      "metadata": {
        "id": "jgh_KALWkxIi",
        "outputId": "5f3992dd-a944-4502-9f74-528c0045dfb9",
        "colab": {
          "base_uri": "https://localhost:8080/"
        }
      },
      "execution_count": 73,
      "outputs": [
        {
          "output_type": "stream",
          "name": "stdout",
          "text": [
            "tensor(0.9397, device='cuda:0')\n",
            "tensor(0.9397, device='cuda:0')\n"
          ]
        }
      ]
    },
    {
      "cell_type": "code",
      "source": [
        "from prettytable import PrettyTable\n",
        "\n",
        "for report in [report_lstm, report_fc]:\n",
        "  class_table = PrettyTable(['Class', 'Precision', 'Recall', 'f1-score', 'support'])\n",
        "\n",
        "  macro_avg = np.zeros(3)\n",
        "  weighted_avg = np.zeros(3)\n",
        "  samples = 0 \n",
        "  n_classes = 0\n",
        "\n",
        "  for label in no_punc_labels:\n",
        "    class_table.add_row([str(label), report[label]['precision'], report[label]['recall'], report[label]['f1-score'], report[label]['support']])\n",
        "    macro_avg += np.array([report[label]['precision'], report[label]['recall'], report[label]['f1-score']])\n",
        "    weighted_avg += np.array([report[label]['precision'], report[label]['recall'], report[label]['f1-score']])*int(report[label]['support'])\n",
        "    \n",
        "    samples += int(report[label]['support'])\n",
        "    if report[label]['support'] > 0: n_classes += 1\n",
        "\n",
        "  print(class_table)\n",
        "\n",
        "  macro_avg = macro_avg / n_classes\n",
        "  weighted_avg = weighted_avg / samples\n",
        "\n",
        "  average_table = PrettyTable(['Average', 'Precision', 'Recall', 'f1-score'])# , 'accuracy'])\n",
        "  average_table.add_row(['macro avg', macro_avg[0],  macro_avg[1],  macro_avg[2]])# , report['accuracy']])\n",
        "  average_table.add_row(['weighted avg', weighted_avg[0],  weighted_avg[1],  weighted_avg[2]])#, report['accuracy']])\n",
        "\n",
        "  print(average_table)"
      ],
      "metadata": {
        "id": "uJ5BAno2DT0d",
        "outputId": "175495b8-4850-4537-b230-073cd4d40b85",
        "colab": {
          "base_uri": "https://localhost:8080/"
        }
      },
      "execution_count": 74,
      "outputs": [
        {
          "output_type": "stream",
          "name": "stdout",
          "text": [
            "+-------+--------------------+---------------------+---------------------+---------+\n",
            "| Class |     Precision      |        Recall       |       f1-score      | support |\n",
            "+-------+--------------------+---------------------+---------------------+---------+\n",
            "|  NNP  | 0.9104895104895104 |  0.8656914893617021 |  0.8875255623721882 |   1504  |\n",
            "|   CD  | 0.9883313885647608 |  0.9871794871794872 |  0.9877551020408163 |   858   |\n",
            "|  NNS  | 0.9123343527013251 |  0.9511158342189161 |  0.931321540062435  |   941   |\n",
            "|   JJ  | 0.8060165975103735 |  0.8464052287581699 |  0.8257173219978746 |   918   |\n",
            "|   MD  | 0.9709302325581395 |         1.0         |  0.9852507374631269 |   167   |\n",
            "|   VB  | 0.9583333333333334 |  0.9702233250620348 |  0.9642416769420469 |   403   |\n",
            "|   DT  | 0.9902621722846442 |  0.9902621722846442 |  0.9902621722846442 |   1335  |\n",
            "|   NN  | 0.9013732833957553 |  0.9089383130507763 |   0.90513999164229  |   2383  |\n",
            "|   IN  | 0.9874529485570891 |  0.9656441717791411 |  0.9764267990074442 |   1630  |\n",
            "|  VBZ  | 0.9783393501805054 |  0.9678571428571429 |  0.9730700179533214 |   280   |\n",
            "|  VBG  | 0.8839285714285714 |  0.8959276018099548 |  0.8898876404494381 |   221   |\n",
            "|   CC  | 0.9972677595628415 |  0.9972677595628415 |  0.9972677595628415 |   366   |\n",
            "|  VBD  | 0.9510268562401264 |  0.9495268138801262 |  0.9502762430939227 |   634   |\n",
            "|  VBN  | 0.8837209302325582 |  0.8306010928961749 |  0.856338028169014  |   366   |\n",
            "|   RB  | 0.8329355608591885 |  0.916010498687664  |        0.8725       |   381   |\n",
            "|   TO  | 0.9974160206718347 |         1.0         |  0.9987063389391979 |   386   |\n",
            "|  PRP  |        1.0         |  0.9947916666666666 |  0.9973890339425587 |   192   |\n",
            "|  RBR  |        0.5         |  0.4666666666666667 |  0.4827586206896552 |    15   |\n",
            "|  WDT  | 0.9325842696629213 |  0.9880952380952381 |  0.9595375722543353 |    84   |\n",
            "|  VBP  | 0.9172932330827067 |  0.9104477611940298 |  0.9138576779026217 |   134   |\n",
            "|   RP  | 0.6666666666666666 |  0.8484848484848485 |  0.7466666666666666 |    33   |\n",
            "|  PRP$ |        1.0         |         1.0         |         1.0         |    99   |\n",
            "|  JJS  | 0.9666666666666667 |  0.9354838709677419 |  0.9508196721311476 |    31   |\n",
            "|  POS  |        1.0         |         1.0         |         1.0         |   152   |\n",
            "|   EX  |        1.0         |         1.0         |         1.0         |    5    |\n",
            "|   WP  |        1.0         |         1.0         |         1.0         |    20   |\n",
            "|  JJR  |        0.85        |  0.864406779661017  |  0.8571428571428572 |    59   |\n",
            "|  WRB  |        1.0         |  0.9166666666666666 |  0.9565217391304348 |    24   |\n",
            "|  NNPS | 0.3333333333333333 | 0.11363636363636363 | 0.16949152542372878 |    44   |\n",
            "|  WP$  |        1.0         |         1.0         |         1.0         |    4    |\n",
            "| -LRB- |        1.0         |         1.0         |         1.0         |    18   |\n",
            "| -RRB- |        0.9         |         1.0         |  0.9473684210526316 |    18   |\n",
            "|  PDT  |        0.0         |         0.0         |         0.0         |    4    |\n",
            "|  RBS  | 0.6666666666666666 |  0.6666666666666666 |  0.6666666666666666 |    3    |\n",
            "|   FW  |        0.0         |         0.0         |         0.0         |    0    |\n",
            "|   UH  |        0.0         |         0.0         |         0.0         |    0    |\n",
            "|  SYM  |        0.0         |         0.0         |         0.0         |    0    |\n",
            "|   LS  |        0.0         |         0.0         |         0.0         |    0    |\n",
            "+-------+--------------------+---------------------+---------------------+---------+\n",
            "+--------------+--------------------+--------------------+--------------------+\n",
            "|   Average    |     Precision      |       Recall       |      f1-score      |\n",
            "+--------------+--------------------+--------------------+--------------------+\n",
            "|  macro avg   | 0.8730402854308682 | 0.8749411017674905 | 0.8717619819112914 |\n",
            "| weighted avg | 0.9308951136059171 | 0.9314469078179697 | 0.9307365446316606 |\n",
            "+--------------+--------------------+--------------------+--------------------+\n",
            "+-------+---------------------+---------------------+---------------------+---------+\n",
            "| Class |      Precision      |        Recall       |       f1-score      | support |\n",
            "+-------+---------------------+---------------------+---------------------+---------+\n",
            "|  NNP  |  0.9065292096219931 |  0.8769946808510638 |  0.8915174045285569 |   1504  |\n",
            "|   CD  |  0.991812865497076  |  0.9883449883449883 |  0.9900758902510216 |   858   |\n",
            "|  NNS  |  0.9172699069286453 |  0.9426142401700319 |  0.9297693920335429 |   941   |\n",
            "|   JJ  |  0.8010309278350516 |  0.8464052287581699 |  0.8230932203389831 |   918   |\n",
            "|   MD  |  0.9653179190751445 |         1.0         |  0.9823529411764705 |   167   |\n",
            "|   VB  |  0.9675810473815462 |  0.9627791563275434 |  0.9651741293532339 |   403   |\n",
            "|   DT  |  0.9880686055182699 |  0.9925093632958801 |  0.9902840059790732 |   1335  |\n",
            "|   NN  |  0.8989229494614748 |  0.9106168694922366 |  0.9047321242443194 |   2383  |\n",
            "|   IN  |  0.9905362776025236 |  0.9631901840490797 |  0.9766718506998445 |   1630  |\n",
            "|  VBZ  |  0.9783393501805054 |  0.9678571428571429 |  0.9730700179533214 |   280   |\n",
            "|  VBG  |  0.8636363636363636 |  0.8597285067873304 |  0.8616780045351473 |   221   |\n",
            "|   CC  |  0.9972677595628415 |  0.9972677595628415 |  0.9972677595628415 |   366   |\n",
            "|  VBD  |  0.9614767255216693 |  0.944794952681388  |  0.9530628480509148 |   634   |\n",
            "|  VBN  |  0.8668555240793201 |  0.8360655737704918 |  0.851182197496523  |   366   |\n",
            "|   RB  |  0.8476658476658476 |  0.905511811023622  |  0.8756345177664975 |   381   |\n",
            "|   TO  |  0.9974160206718347 |         1.0         |  0.9987063389391979 |   386   |\n",
            "|  PRP  |         1.0         |  0.9947916666666666 |  0.9973890339425587 |   192   |\n",
            "|  RBR  | 0.47058823529411764 |  0.5333333333333333 |         0.5         |    15   |\n",
            "|  WDT  |  0.9325842696629213 |  0.9880952380952381 |  0.9595375722543353 |    84   |\n",
            "|  VBP  |  0.9037037037037037 |  0.9104477611940298 |  0.9070631970260223 |   134   |\n",
            "|   RP  |  0.5909090909090909 |  0.7878787878787878 |  0.6753246753246752 |    33   |\n",
            "|  PRP$ |         1.0         |         1.0         |         1.0         |    99   |\n",
            "|  JJS  |        0.9375       |  0.967741935483871  |  0.9523809523809523 |    31   |\n",
            "|  POS  |  0.987012987012987  |         1.0         |  0.9934640522875817 |   152   |\n",
            "|   EX  |  0.8333333333333334 |         1.0         |  0.9090909090909091 |    5    |\n",
            "|   WP  |         1.0         |         1.0         |         1.0         |    20   |\n",
            "|  JJR  |  0.8571428571428571 |  0.8135593220338984 |  0.8347826086956522 |    59   |\n",
            "|  WRB  |         1.0         |  0.9166666666666666 |  0.9565217391304348 |    24   |\n",
            "|  NNPS |         0.5         | 0.11363636363636363 | 0.18518518518518517 |    44   |\n",
            "|  WP$  |         1.0         |         1.0         |         1.0         |    4    |\n",
            "| -LRB- |         1.0         |         1.0         |         1.0         |    18   |\n",
            "| -RRB- |  0.9473684210526315 |         1.0         |  0.972972972972973  |    18   |\n",
            "|  PDT  |         0.0         |         0.0         |         0.0         |    4    |\n",
            "|  RBS  |         1.0         |  0.6666666666666666 |         0.8         |    3    |\n",
            "|   FW  |         0.0         |         0.0         |         0.0         |    0    |\n",
            "|   UH  |         0.0         |         0.0         |         0.0         |    0    |\n",
            "|  SYM  |         0.0         |         0.0         |         0.0         |    0    |\n",
            "|   LS  |         0.0         |         0.0         |         0.0         |    0    |\n",
            "+-------+---------------------+---------------------+---------------------+---------+\n",
            "+--------------+--------------------+--------------------+--------------------+\n",
            "|   Average    |     Precision      |       Recall       |      f1-score      |\n",
            "+--------------+--------------------+--------------------+--------------------+\n",
            "|  macro avg   | 0.8794079470103455 | 0.8731617117537452 | 0.8708231041529637 |\n",
            "| weighted avg | 0.9308119748770993 | 0.9310093348891482 | 0.930309178756202  |\n",
            "+--------------+--------------------+--------------------+--------------------+\n"
          ]
        }
      ]
    },
    {
      "cell_type": "code",
      "source": [
        "cm = confusion_matrix(y_true, y_pred_lstm.cpu(), labels=encoded_labels)\n",
        "\n",
        "plt.rcParams[\"figure.figsize\"] = (30, 20)\n",
        "\n",
        "disp = ConfusionMatrixDisplay(confusion_matrix=cm, display_labels=labels)\n",
        "disp.plot();"
      ],
      "metadata": {
        "colab": {
          "base_uri": "https://localhost:8080/",
          "height": 1000
        },
        "id": "iNDrReaAyaHW",
        "outputId": "6a48d43a-344b-4be9-f765-5ea49f89c356"
      },
      "execution_count": 75,
      "outputs": [
        {
          "output_type": "display_data",
          "data": {
            "image/png": "[encoded data removed]",
            "text/plain": [
              "<Figure size 2160x1440 with 2 Axes>"
            ]
          },
          "metadata": {
            "needs_background": "light"
          }
        }
      ]
    },
    {
      "cell_type": "code",
      "source": [
        ""
      ],
      "metadata": {
        "id": "Bq3SjSeI8vJD"
      },
      "execution_count": null,
      "outputs": []
    }
  ]
}