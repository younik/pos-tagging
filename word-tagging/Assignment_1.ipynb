{
  "nbformat": 4,
  "nbformat_minor": 0,
  "metadata": {
    "colab": {
      "name": "Assignment_1.ipynb",
      "provenance": [],
      "collapsed_sections": [
        "ys_LD3OQc7Si"
      ]
    },
    "kernelspec": {
      "name": "python3",
      "display_name": "Python 3"
    },
    "accelerator": "GPU"
  },
  "cells": [
    {
      "cell_type": "markdown",
      "metadata": {
        "id": "-WeCeITXoxLf"
      },
      "source": [
        "# Assignment 1\n",
        "\n",
        "**Due to**: 23/12/2021 (dd/mm/yyyy)\n",
        "\n",
        "**Credits**: Andrea Galassi, Federico Ruggeri, Paolo Torroni\n",
        "\n",
        "**Summary**: Part-of Speech (POS) tagging as Sequence Labelling using Recurrent Neural Architectures"
      ]
    },
    {
      "cell_type": "markdown",
      "metadata": {
        "id": "a4_wqPdlBcKS"
      },
      "source": [
        "# Intro\n",
        "\n",
        "In this assignment  we will ask you to perform POS tagging using neural architectures\n",
        "\n",
        "You are asked to follow these steps:\n",
        "*   Download the corpora and split it in training and test sets, structuring a dataframe.\n",
        "*   Embed the words using GloVe embeddings\n",
        "*   Create a baseline model, using a simple neural architecture\n",
        "*   Experiment doing small modifications to the baseline model, choose hyperparameters using the validation set\n",
        "*   Evaluate your two best model\n",
        "*   Analyze the errors of your model\n",
        "\n",
        "\n",
        "**Task**: given a corpus of documents, predict the POS tag for each word\n",
        "\n",
        "**Corpus**:\n",
        "Ignore the numeric value in the third column, use only the words/symbols and its label. \n",
        "The corpus is available at:\n",
        "https://raw.githubusercontent.com/nltk/nltk_data/gh-pages/packages/corpora/dependency_treebank.zip\n",
        "\n",
        "**Splits**: documents 1-100 are the train set, 101-150 validation set, 151-199 test set.\n",
        "\n",
        "\n",
        "**Features**: you MUST use GloVe embeddings as the only input features to the model.\n",
        "\n",
        "**Splitting**: you can decide to split documents into sentences or not, the choice is yours.\n",
        "\n",
        "**I/O structure**: The input data will have three dimensions: 1-documents/sentences, 2-token, 3-features; for the output there are 2 possibilities: if you use one-hot encoding it will be 1-documents/sentences, 2-token labels, 3-classes, if you use a single integer that indicates the number of the class it will be 1-documents/sentences, 2-token labels.\n",
        "\n",
        "**Baseline**: two layers architecture: a Bidirectional LSTM layer and a Dense/Fully-Connected layer on top; the choice of hyper-parameters is yours.\n",
        "\n",
        "**Architectures**: experiment using a GRU instead of the LSTM, adding an additional LSTM layer, and adding an additional dense layer; do not mix these variantions.\n",
        "\n",
        "\n",
        "**Training and Experiments**: all the experiments must involve only the training and validation sets.\n",
        "\n",
        "**Evaluation**: in the end, only the two best models of your choice (according to the validation set) must be evaluated on the test set. The main metric must be F1-Macro computed between the various part of speech. DO NOT CONSIDER THE PUNCTUATION CLASSES.\n",
        "\n",
        "**Metrics**: the metric you must use to evaluate your final model is the F1-macro, WITHOUT considering punctuation/symbols classes; during the training process you can use accuracy because you can't use the F1 metric unless you use a single (gigantic) batch because there is no way to aggregate \"partial\" F1 scores computed on mini-batches.\n",
        "\n",
        "**Discussion and Error Analysis** : verify and discuss if the results on the test sets are coherent with those on the validation set; analyze the errors done by your model, try to understand which may be the causes and think about how to improve it.\n",
        "\n",
        "**Report**: you are asked to deliver the code of your experiments and a small pdf report of about 2 pages; the pdf must begin with the names of the people of your team and a small abstract (4-5 lines) that sums up your findings.\n",
        "\n",
        "# Out Of Vocabulary (OOV) terms\n",
        "\n",
        "How to handle words that are not in GloVe vocabulary?\n",
        "You can handle them as you want (random embedding, placeholder, whatever!), but they must be STATIC embeddings (you cannot train them).\n",
        "\n",
        "But there is a very important caveat! As usual, the element of the test set must not influence the elements of the other splits!\n",
        "\n",
        "So, when you compute new embeddings for train+validation, you must forget about test documents.\n",
        "The motivation is to emulate a real-world scenario, where you select and train a model in the first stage, without knowing nothing about the testing environment.\n",
        "\n",
        "For implementation convenience, you CAN use a single vocabulary file/matrix/whatever. The principle of the previous point is that the embeddings inside that file/matrix must be generated independently for train and test splits.\n",
        "\n",
        "Basically in a real-world scenario, this is what would happen:\n",
        "1. Starting vocabulary V1 (in this assignment, GloVe vocabulary)\n",
        "2. Compute embeddings for terms out of vocabulary V1 (OOV1) of the training split \n",
        "3. Add embeddings to the vocabulary, so to obtain vocabulary V2=V1+OOV1\n",
        "4. Training of the model(s)\n",
        "5. Compute embeddings for terms OOV2 of the validation split \n",
        "6. Add embeddings to the vocabulary, so to obtain vocabulary V3=V1+OOV1+OOV2\n",
        "7. Validation of the model(s)\n",
        "8. Compute embeddings for terms OOV3 of the test split \n",
        "9. Add embeddings to the vocabulary, so to obtain vocabulary V4=V1+OOV1+OOV2+OOV3\n",
        "10. Testing of the final model\n",
        "\n",
        "In this case, where we already have all the documents, we can simplify the process a bit, but the procedure must remain rigorous.\n",
        "\n",
        "1. Starting vocabulary V1 (in this assignment, GloVe vocabulary)\n",
        "2. Compute embeddings for terms out of vocabulary V1 (OOV1) of the training split \n",
        "3. Add embeddings to the vocabulary, so to obtain vocabulary V2=V1+OOV1\n",
        "4. Compute embeddings for terms OOV2 of the validation split \n",
        "5. Add embeddings to the vocabulary, so to obtain vocabulary V3=V1+OOV1+OOV2\n",
        "6. Compute embeddings for terms OOV3 of the test split \n",
        "7. Add embeddings to the vocabulary, so to obtain vocabulary V4=V1+OOV1+OOV2\n",
        "8. Training of the model(s)\n",
        "9. Validation of the model(s)\n",
        "10. Testing of the final model\n",
        "\n",
        "Step 2 and step 6 must be completely independent of each other, for what concerns the method and the documents. But they can rely on the previous vocabulary (V1 for step 2 and V3 for step 6)\n",
        "THEREFORE if a word is present both in the training set and the test split and not in the starting vocabulary, its embedding is computed in step 2) and it is not considered OOV anymore in step 6).\n",
        "\n",
        "# Report\n",
        "The report must not be just a copy and paste of graphs and tables!\n",
        "\n",
        "The report must not be longer than 2 pages and must contain:\n",
        "* The names of the member of your team\n",
        "* A short abstract (4-5 lines) that sum ups everything\n",
        "* A general description of the task you have addressed and how you have addressed it\n",
        "* A short description of the models you have used\n",
        "* Some tables that sum up your findings in validation and test and a discussion of those results\n",
        "* The most relevant findings of your error analysis\n",
        "\n",
        "# Evaluation Criterion\n",
        "\n",
        "The goal of this assignment is not to prove you can find best model ever, but to face a common task, structure it correctly, and follow a correct and rigorous experimental procedure.\n",
        "In other words, we don't care if you final models are awful as long as you have followed the correct procedure and wrote a decent report.\n",
        "\n",
        "The score of the assignment will be computed roughly as follows\n",
        "* 1 point for the general setting of the problem\n",
        "* 1 point for the handling of OOV terms\n",
        "* 1 point for the models\n",
        "* 1 point for train-validation-test procedure\n",
        "* 2 point for the discussion of the results, error analysis, and report\n",
        "\n",
        "This distribution of scores is tentative and we may decide to alter it at any moment.\n",
        "We also reserve the right to assign a small bonus (0.5 points) to any assignment that is particularly worthy. Similarly, in case of grave errors, we may decide to assign an equivalent malus (-0.5 points).\n",
        "\n",
        "# Contacts\n",
        "\n",
        "In case of any doubt, question, issue, or help we highly recommend you to check the [course useful material](https://virtuale.unibo.it/pluginfile.php/1036039/mod_resource/content/2/NLP_Course_Useful_Material.pdf) for additional information, and to use the Virtuale forums to discuss with other students.\n",
        "\n",
        "You can always contact us at the following email addresses. To increase the probability of a prompt response, we reccomend you to write to both the teaching assistants.\n",
        "\n",
        "Teaching Assistants:\n",
        "\n",
        "* Andrea Galassi -> a.galassi@unibo.it\n",
        "* Federico Ruggeri -> federico.ruggeri6@unibo.it\n",
        "\n",
        "Professor:\n",
        "\n",
        "* Paolo Torroni -> p.torroni@unibo.it\n",
        "\n",
        "\n",
        "# FAQ\n",
        "* You can use a non-trainable Embedding layer to load the glove embeddings\n",
        "* You can use any library of your choice to implement the networks. Two options are tensorflow/keras or pythorch. Both these libraries have all the classes you need to implement these simple architectures and there are plenty of tutorials around, where you can learn how to use them."
      ]
    },
    {
      "cell_type": "markdown",
      "metadata": {
        "id": "D8PgAJyy40SY"
      },
      "source": [
        "### Import libraries & download dataset"
      ]
    },
    {
      "cell_type": "code",
      "metadata": {
        "id": "caNU8UeFxupB",
        "colab": {
          "base_uri": "https://localhost:8080/"
        },
        "outputId": "1237d64d-a146-4119-fb2a-bd66b98b7081"
      },
      "source": [
        "import os\n",
        "import pandas as pd\n",
        "import numpy as np\n",
        "import matplotlib.pyplot as plt\n",
        "import csv\n",
        "import seaborn as sns  \n",
        "from sklearn.metrics import confusion_matrix, classification_report\n",
        "\n",
        "import torch\n",
        "import torch.nn as nn\n",
        "from torch.utils.data import Dataset, DataLoader\n",
        "from torch.utils.tensorboard import SummaryWrite\n",
        "from torch.nn.utils.rnn import pad_sequencer\n",
        "import torch.optim as optim\n",
        "\n",
        "from sklearn.preprocessing import OrdinalEncoder\n",
        "\n",
        "from tqdm import tqdm\n",
        "from typing import Optional\n",
        "\n",
        "import gensim\n",
        "import gensim.downloader as gloader  \n",
        "\n",
        "import re\n",
        "\n",
        "!pip install python-Levenshtein\n",
        "import Levenshtein\n",
        "\n",
        "import itertools\n",
        "\n",
        "device = torch.device(\"cuda\" if torch.cuda.is_available() else \"cpu\")"
      ],
      "execution_count": 1,
      "outputs": [
        {
          "output_type": "stream",
          "name": "stdout",
          "text": [
            "Collecting python-Levenshtein\n",
            "  Downloading python-Levenshtein-0.12.2.tar.gz (50 kB)\n",
            "\u001b[?25l\r\u001b[K     |██████▌                         | 10 kB 18.7 MB/s eta 0:00:01\r\u001b[K     |█████████████                   | 20 kB 23.2 MB/s eta 0:00:01\r\u001b[K     |███████████████████▌            | 30 kB 13.0 MB/s eta 0:00:01\r\u001b[K     |██████████████████████████      | 40 kB 4.8 MB/s eta 0:00:01\r\u001b[K     |████████████████████████████████| 50 kB 3.0 MB/s \n",
            "\u001b[?25hRequirement already satisfied: setuptools in /usr/local/lib/python3.7/dist-packages (from python-Levenshtein) (57.4.0)\n",
            "Building wheels for collected packages: python-Levenshtein\n",
            "  Building wheel for python-Levenshtein (setup.py) ... \u001b[?25l\u001b[?25hdone\n",
            "  Created wheel for python-Levenshtein: filename=python_Levenshtein-0.12.2-cp37-cp37m-linux_x86_64.whl size=149863 sha256=ecbddf6d7ee0c53355abafe042c1a721a20c8cdb1aba69de1dd2357db7efa846\n",
            "  Stored in directory: /root/.cache/pip/wheels/05/5f/ca/7c4367734892581bb5ff896f15027a932c551080b2abd3e00d\n",
            "Successfully built python-Levenshtein\n",
            "Installing collected packages: python-Levenshtein\n",
            "Successfully installed python-Levenshtein-0.12.2\n"
          ]
        }
      ]
    },
    {
      "cell_type": "code",
      "metadata": {
        "id": "y2j0JgX8wpjH",
        "colab": {
          "base_uri": "https://localhost:8080/"
        },
        "outputId": "26bc8028-0b27-48fe-b8ea-df7016995ea7"
      },
      "source": [
        "!wget https://raw.githubusercontent.com/nltk/nltk_data/gh-pages/packages/corpora/dependency_treebank.zip\n",
        "!unzip -q dependency_treebank.zip"
      ],
      "execution_count": 2,
      "outputs": [
        {
          "output_type": "stream",
          "name": "stdout",
          "text": [
            "--2021-12-14 09:32:24--  https://raw.githubusercontent.com/nltk/nltk_data/gh-pages/packages/corpora/dependency_treebank.zip\n",
            "Resolving raw.githubusercontent.com (raw.githubusercontent.com)... 185.199.108.133, 185.199.109.133, 185.199.110.133, ...\n",
            "Connecting to raw.githubusercontent.com (raw.githubusercontent.com)|185.199.108.133|:443... connected.\n",
            "HTTP request sent, awaiting response... 200 OK\n",
            "Length: 457429 (447K) [application/zip]\n",
            "Saving to: ‘dependency_treebank.zip’\n",
            "\n",
            "\rdependency_treebank   0%[                    ]       0  --.-KB/s               \rdependency_treebank 100%[===================>] 446.71K  --.-KB/s    in 0.03s   \n",
            "\n",
            "2021-12-14 09:32:24 (12.5 MB/s) - ‘dependency_treebank.zip’ saved [457429/457429]\n",
            "\n"
          ]
        }
      ]
    },
    {
      "cell_type": "markdown",
      "metadata": {
        "id": "onQNYcuwCTiW"
      },
      "source": [
        "### Dataframe creation and split into train, val and test set\n",
        "\n",
        "The way to split the dataset is already defined:  \n",
        "train set : documents 1-100;  \n",
        "validation set : documents 101-150;  \n",
        "test set : documents 151-199;"
      ]
    },
    {
      "cell_type": "code",
      "metadata": {
        "id": "EADZWC3txls8"
      },
      "source": [
        "corpus_path = 'dependency_treebank/'\n",
        "file_list = sorted(os.listdir(corpus_path))\n",
        "\n",
        "dfs = [pd.read_csv(corpus_path + f, sep='\\t', names=['word', 'label', 'foo']).drop('foo', 1)\n",
        "          for f in file_list]\n",
        "\n",
        "\n",
        "dataset = pd.concat(dfs, ignore_index=True)\n",
        "dataset['word'] = dataset['word'].transform(lambda x : x.lower())  \n",
        "\n",
        "train_set = pd.concat(dfs[:100], ignore_index=True)\n",
        "train_set['word'] = train_set['word'].transform(lambda x : x.lower())\n",
        "\n",
        "val_set = pd.concat(dfs[100:150], ignore_index=True)\n",
        "val_set['word'] = val_set['word'].transform(lambda x : x.lower())\n",
        "\n",
        "test_set = pd.concat(dfs[150:199], ignore_index=True)\n",
        "val_set['word'] = val_set['word'].transform(lambda x : x.lower())\n",
        "\n",
        "labels = dataset['label'].unique()\n",
        "words = dataset['word'].unique()"
      ],
      "execution_count": 3,
      "outputs": []
    },
    {
      "cell_type": "code",
      "source": [
        "EMBEDDING_SIZE = 50\n",
        "embedder = gloader.load(f'glove-wiki-gigaword-{EMBEDDING_SIZE}')"
      ],
      "metadata": {
        "id": "ouMAodz5jQh7",
        "outputId": "9776af96-c3e7-4578-9c54-f553336dc53c",
        "colab": {
          "base_uri": "https://localhost:8080/"
        }
      },
      "execution_count": 4,
      "outputs": [
        {
          "output_type": "stream",
          "name": "stdout",
          "text": [
            "[==================================================] 100.0% 66.0/66.0MB downloaded\n"
          ]
        }
      ]
    },
    {
      "cell_type": "markdown",
      "source": [
        "We started splitting documents in sentences using \n",
        "punctuation labelled as '.' as end of sentences"
      ],
      "metadata": {
        "id": "6thVZ3VqkX1l"
      }
    },
    {
      "cell_type": "code",
      "metadata": {
        "id": "ZQIUPI3h7DCl"
      },
      "source": [
        "full_stops = train_set[(train_set['label']=='.')].index\n",
        "max_length = max(full_stops[1:] - full_stops[:-1])\n",
        "\n",
        "val_stops = val_set[(val_set['label']=='.')].index\n",
        "max_length_val = max(val_stops[1:] - val_stops[:-1])\n",
        "\n",
        "test_stops = test_set[(test_set['label']=='.')].index\n",
        "max_length_test = max(test_stops[1:] - test_stops[:-1])\n",
        "\n",
        "\n",
        "OOV_train = set(train_set['word'].unique()).difference(set(embedder.vocab.keys()))\n",
        "OOV_val = set(val_set['word'].unique()).difference(set(embedder.vocab.keys()))\n",
        "OOV_test = set(test_set['word'].unique()).difference(set(embedder.vocab.keys()))"
      ],
      "execution_count": 5,
      "outputs": []
    },
    {
      "cell_type": "code",
      "source": [
        "print('Before pre-processing:')\n",
        "print(\"Train set unique words:\", len(train_set['word'].unique()))\n",
        "print('OOV:', len(OOV_train))\n",
        "print('Max sentence length', max_length)\n",
        "print(\"\\nValidation set unique words:\", len(val_set['word'].unique()))\n",
        "print('Max sentence length', max_length_val)\n",
        "print('OOV:', len(OOV_val))\n",
        "print(\"\\nTest set unique words:\", len(test_set['word'].unique()))\n",
        "print('Max sentence length', max_length_test)\n",
        "print('OOV:', len(OOV_test))"
      ],
      "metadata": {
        "id": "IIHU5fcWj8bd",
        "colab": {
          "base_uri": "https://localhost:8080/"
        },
        "outputId": "d75b8d7c-e76e-481e-d0ea-7dc13b1ebaf5"
      },
      "execution_count": 6,
      "outputs": [
        {
          "output_type": "stream",
          "name": "stdout",
          "text": [
            "Before pre-processing:\n",
            "Train set unique words: 7404\n",
            "OOV: 359\n",
            "Max sentence length 250\n",
            "\n",
            "Validation set unique words: 5420\n",
            "Max sentence length 80\n",
            "OOV: 213\n",
            "\n",
            "Test set unique words: 3623\n",
            "Max sentence length 80\n",
            "OOV: 957\n"
          ]
        }
      ]
    },
    {
      "cell_type": "markdown",
      "source": [
        "Then we tried to improve the sentences splitting using also the semi-column"
      ],
      "metadata": {
        "id": "Oomp6hyQkd-h"
      }
    },
    {
      "cell_type": "code",
      "source": [
        "full_stops = train_set[(train_set['label']=='.') | (train_set['word']==';')].index\n",
        "max_length = max(full_stops[1:] - full_stops[:-1])\n",
        "\n",
        "val_stops = val_set[(val_set['label']=='.') | (val_set['word']==';')].index\n",
        "max_length_val = max(val_stops[1:] - val_stops[:-1])\n",
        "\n",
        "test_stops = val_set[(val_set['label']=='.') | (val_set['word']==';')].index\n",
        "max_length_test = max(test_stops[1:] - test_stops[:-1])"
      ],
      "metadata": {
        "id": "bMrXaArHkAJI"
      },
      "execution_count": 7,
      "outputs": []
    },
    {
      "cell_type": "code",
      "source": [
        "print('After processing')\n",
        "print('Max sentence length in Train Set:', max_length)\n",
        "print('Max sentence length in Validation Set:', max_length_val)\n",
        "print('Max sentence length in Test Set:', max_length_test)"
      ],
      "metadata": {
        "id": "eC-lWvmzkEmh",
        "colab": {
          "base_uri": "https://localhost:8080/"
        },
        "outputId": "1548aee5-179d-40e8-8eb2-79363d2d4e6a"
      },
      "execution_count": 8,
      "outputs": [
        {
          "output_type": "stream",
          "name": "stdout",
          "text": [
            "After processing\n",
            "Max sentence length in Train Set: 67\n",
            "Max sentence length in Validation Set: 80\n",
            "Max sentence length in Test Set: 80\n"
          ]
        }
      ]
    },
    {
      "cell_type": "code",
      "source": [
        "def indexOfPhrase(word_idx):\n",
        "  return np.count_nonzero(word_idx > full_stops)\n",
        "\n",
        "def val_phrases(word_idx):\n",
        "  return np.count_nonzero(word_idx > val_stops)\n",
        "\n",
        "train_grouped = train_set.groupby(by=np.vectorize(indexOfPhrase))\n",
        "val_grouped = val_set.groupby(by=np.vectorize(val_phrases))"
      ],
      "metadata": {
        "id": "y3RGGvmSkrJW"
      },
      "execution_count": 9,
      "outputs": []
    },
    {
      "cell_type": "markdown",
      "source": [
        "### Embedder end Encoder preparation"
      ],
      "metadata": {
        "id": "KDww18DUTYSJ"
      }
    },
    {
      "cell_type": "code",
      "source": [
        "EMBEDDING_SIZE = 50\n",
        "embedder = gloader.load(f'glove-wiki-gigaword-{EMBEDDING_SIZE}')\n",
        "\n",
        "OOV = set(words).difference(set(embedder.vocab.keys()))\n",
        "print(OOV)\n",
        "print(\"\\nThere are\", len(OOV), \"OOV\")"
      ],
      "metadata": {
        "id": "8YSrcLB6ThSm",
        "colab": {
          "base_uri": "https://localhost:8080/"
        },
        "outputId": "f04d63cd-7c0b-4ba2-8dd6-2f3d95fc5333"
      },
      "execution_count": 10,
      "outputs": [
        {
          "output_type": "stream",
          "name": "stdout",
          "text": [
            "{'sub-markets', '734.9', 'derel', '47.125', 'middle-ground', 'multi-crystal', 'gingl', 'profit-taking', 'college-bowl', 'building-products', 'life-insurance', '100-megabyte', '1\\\\/2', 'anti-deficiency', 'savings-and-loan', '14\\\\/32', 'custom-chip', 'anti-morning-sickness', 'hadson', '1738.1', 'alurralde', '1928-33', 'high-polluting', '95,142', 'express-buick', 'foldability', 'higher-salaried', 'mehrens', 'c-90', 'radio-station', '36-store', 'arighi', 'high-rate', 'pro-forma', '2\\\\/32', 'social-studies', 'corton-charlemagne', 'heavy-truck', '300-day', 'c.j.b.', 'glenham', 'nofzinger', '374.20', '16.125', 'trettien', 'training-wage', '271-147', 'lookee-loos', '1.637', 'two-sevenths', '13\\\\/16', '3648.82', '45-a-share', '319.75', 'malizia', 'index-options', 'delwin', '1\\\\/4', 'midwesco', 'yen-denominated', 'superpremiums', '8300s', 'bell-ringer', 'dust-up', 'ac-130u', 'crystal-lattice', '5,699', 'quantitive', '415.8', 'school-board', '-rrb-', 'pension-fund', 'government-certified', 'deposits-a', 'staff-reduction', 'seven-yen', 'c.d.s', 'akerfeldt', '3,288,453', 'ratners', 'per-share', 'lafite-rothschild', '608,413', 'prior-year', '120-a-share', 'ballantine\\\\/del', '35500.64', 'futures-related', 'built-from-kit', 'macmillan\\\\/mcgraw-hill', '630.9', 'asset-sale', 'investor-relations', 'rate-sensitive', 'unfair-trade', 'water-authority', 'investment-grade', 'roof-crush', 'car-safety', '13.625', 'wfrr', 'lentjes', 'parts-engineering', 'energy-services', 'lower-priority', 'exxon-owned', 'two-time-losers', 'low-ability', '226,570,380', 'minicrash', 'shareholder-rights', 'rapanelli', 'test-drive', '7.458', 'floating-rate', 'most-likely-successor', 'product-design', 'wamre', 'eight-count', 'sanderoff', 'constitutional-law', 'industry-supported', '2645.90', 'bank-backed', '449.04', 'liquid-nitrogen', 'manmade-fiber', 'wtd', '95.09', 'telephone-information', 'tiphook', 'non-biodegradable', 'foreign-stock', 'more-advanced', '127.03', 'vinken', '1937-40', '-rcb-', '7\\\\/16', \"creator's\", 'satrum', 'derchin', '-lrb-', 'free-enterprise', 'automotive-parts', 'write-downs', 'cop-killer', 'mutual-fund', 'nearly-30', 'shirt-sleeved', '2141.7', '3436.58', 'test-coaching', 'industrial-production', 'much-larger', '2,050-passenger', '14,821', 'sept.30', 'war-rationed', '40-megabyte', 'super-absorbent', 'protein-1', 'johnson-era', 'fetal-tissue', '55-a-share', 'kalipharma', '9\\\\/32', 'polyproplene', '1\\\\/8', 'crocidolite', 'ft-se', 'incentive-backed', 'diceon', 'sacramento-based', 'prudential-bache', 'tarwhine', 'veselich', 'intecknings', 'chemplus', '7\\\\/8', '83,206', '11,762', 'landonne', 'wine-buying', 'heebie-jeebies', 'morale-damaging', 'nipponese', 'achievement-test', 'unenticing', 'life-of-contract', '5.435', '292.32', 'freshbake', 'jerritts', 'tete-a-tete', 'boorse', 'waymar', 'times-stock', 'equal-opportunity', '38.875', 'anti-miscarriage', '237-seat', 'launch-vehicle', 'certin', 'noncompetitively', '16\\\\/32', 'band-wagon', 'weapons-modernization', 'garden-variety', 'cash-and-stock', 'crookery', 'ingersoll-rand', 'conn.based', 'truth-in-lending', '446.62', 'stirlen', 'summer\\\\/winter', '3.253', 'test-prep', 'purhasing', '100,980', 'page-one', 'chafic', '158,666', 'erbamont', 'tire-kickers', 'preparatives', 'synergistics', 'airline-related', '34.625', '43.875', 'ednie', 'bermuda-based', 'recession-inspired', '16,072', 'information-services', 'coche-dury', '5.276', 'severable', 'prize-fighter', 'hallwood', '90-cent-an-hour', 'dead-eyed', 'flightiness', 'circuit-board', 'one-newspaper', 'side-crash', 'continuingly', 'video-viewing', 'bread-and-butter', 'stock-specialist', 'single-lot', '62.625', 'univest', '2,303,328', 'passenger-car', 'ntg', '50\\\\/50', 'dollar-yen', 'circuit-breaker', 'fiber-end', 'nekoosa', 'stock-price', '37-a-share', 'merger-related', 'new-home', 'pre-1933', 'copper-rich', '18,444', 'samnick', '129.91', 're-thought', 'makato', 'rexinger', 'labor-backed', '236.74', 'colorliner', '737.5', 'buttoned-down', 'market-makers', 'dydee', 'nesb', 'school-improvement', 'new-car', 'one-house', 'home-market', '11\\\\/16', 'when-issued', 'thin-lipped', '143.93', '234.4', 'meinders', 'greenmailer', 'property\\\\/casualty', 'more-efficient', '705.6', 'headcount-control', 'cray-3', 'weisfield', 'heiwado', 'twin-jet', 'disputada', '14.', 'blood-cell', 'boogieman', 'purepac', 'executive-office', 'near-limit', 'flim-flammery', 'revenue-desperate', 'chilver', '372.14', 'mortgage-based', 'stock-manipulation', 'long-tenured', 'pathlogy', 'non-encapsulating', 'twindam', 'seven-million-ton', '361,376', 'high-balance', 'macmillan\\\\/mcgraw', 'money-market', '7.422', 'co-developers', '26,956', '1.916', 'market-share', 'rubinfien', 'mariotta', 'replacement-car', 'church-goers', '12\\\\/32', 'norwick', '82,389', 'house-senate', 'cup-tote', '9,118', 'high-rolling', 'computer-driven', 'micronite', 'sewing-machine', '618.1', 'herald-american', 'anti-abortionists', 'bald-faced', 'wheeland', '263.07', 'yeargin', 'cash-rich', 'g.m.b', '236.79', '188.84', '-lcb-', 'identity-management', 'mininum-wage', 'pianist-comedian', '22\\\\/32', '1206.26', 'three-lawyer', 'six-bottle', 'money-center', '0.0085', 'aslacton', 'durable-goods', 'breakey', 'safe-deposit', 'we-japanese', 'sticker-shock', 'yoshihashi', 'reupke', 'muscolina', 'moleculon', 'school-research', 'secilia', '143.08', 'post-hearing', 'security-type', 'non-callable', 'minimum-wage', '131.01', 'integra-a', 'pro-iranian', 'pre-1917', 'four-foot-high', 'bumkins', 'car-care', '352.7', 'program-trading', 'odd-sounding', '23,403', 'amphobiles', 'automotive-lighting', 'one-yen', 'arbitrage-related', 'takeover-stock', 'school-district', '1.457', 'pennview', '500,004', 'hummerstone', 'substance-abusing', 'test-practice', 'sometimes-tawdry', '170,262', 'student-test', '520-lawyer', 'acquisition-minded', 'news-american', 'lobsenz', 'wheel-loader', 'lap-shoulder', 'autions', '300-a-share', '35564.43', 'machine-gun-toting', 'double-c', 'year-ago', 'freudtoy', 'money-fund', '456.64', 'housing-assistance', 'gates-warren', '877,663', 'top-yielding', 'odd-year', 'limited-partnership', '154,240,000', '6\\\\/2', 'sulfur-dioxide', 'waertsilae', 'northy', 'colonsville', 'stock-selection', 'lezovich', 'stock-picking', 'intellectual-property', '84-month', 'index-fund', '372.9', 'sport-utility', 'card-member', 'sub-segments', 'lynch-mob', 'early-retirement', 'anti-takeover', 'subskills', 'less-serious', 'big-ticket', '3,040,000', 'nagymaros', 'financial-services', 'change-ringing', '20-stock', 'propagandizes', 'macheski', 'direct-investment', 'capital-markets', '8.575', 'uzi-model', 'motor-home', 'melt-textured', 'junk-bond', 'enzor', 'sell-offs', '434.4', 'one-country', 'marketing-communications', 'blue-chips', 'language-housekeeper', 'car-development', 'retin-a', 'computer-services', '5.2180', '494.50', 'million-a-year', '3\\\\/8', 'mouth-up', 'low-ball', 'small-company', '8.467', 'bellringers', 'red-flag', 'sogo-shosha', 'mutchin', 'lightning-fast', 'besuboru', '377.60', 'search-and-seizure', 'subskill', '30,841', 'corn-buying', '361.8', 'one-upsmanship', 'beer-belly', '38.375', 'six-packs', 'computer-system-design', 'year-earlier', '566.54', 'three-sevenths', 'anti-china', 'nissho-iwai', 'bankruptcy-law', '30,537', 'interleukin-3', 'forest-product', '967,809', 'cents-a-unit', 'veraldi', 'savers\\\\/investors', 'n.v', 'asset-valuation', 'above-market', 'incentive-bonus', '436.01', 'prevalance', 'senate-house', 'romanee-conti', 'electrical-safety', 'shokubai', 'txo', 'anti-program', 'pricings', 'foreign-led', 'yttrium-containing', 'tissue-transplant', 'chinchon', 'front-seat', 'food-industry', 'credit-rating', 'index-arbitrage', 'anti-programmers', 'arbitraging', 'phacoflex', 'centerbank', 'buy-outs', 'mega-stadium', '1\\\\/10th', 'subindustry', 'highest-pitched', '29year', 'sometimes-exhausting', '1.1650', 'jalaalwalikraam', 'solaia', 'food-shop', 'scypher', 'anku', 'pramual', '278.7', '238,000-circulation', '18-a-share', 'rope-sight', '811.9', 'forest-products', '11-month-old', 'ensrud', 'test-preparation', 'monchecourt', '3057', '3,250,000', 'index-related', 'electric-utility', '142.84', 'pattenden', '69-point', 'nylev', '19-month-old', 'sidak', 'detective-story', 'auto-safety', 'ghkm', 'acid-rain', 'cotran', '352.9', '2691.19', 'state-supervised', 'capital-gains', '4,393,237', 'potables', '374.19', 'cost-control', 'inter-tel', '271,124', '7.272', 'securities-based', 'drag-down', 'subminimum', 'ariail', '220.45', 'ex-dividend', '87-store', '1.8415', 'diloreto', 'stock-index', 'newspaper-printing', '11,390,000', '387.8', '1.5755', 'insider-trading', 'then-speaker', 'contingency-fee', '2160.1', '6,799', 'egnuss', 'vitulli', 'antitrust-law', '300-113', 'triple-a-rated', '143.80', 'crane-safety', 'less-than-brilliant', 'larger-than-normal', 'chong-sik', 'trading-company', 'louisiana-pacific', 'citizen-sparked', '3\\\\/4', 'bridgestone\\\\/firestone', 'old-house', 'trockenbeerenauslesen', 'drobnick', 'land-idling', 'disputado', 'cleaner-burning', 'yen-support', 'sino-u.s.', '497.34', 'bottom-line', 'several-year', 'nih-appointed', 'rey\\\\/fawcett', 'price-depressing', 'abortion-related', '142.85', '70-a-share', '126.15', 'superdot', 'insurance-company', '2163.2', 'disaster-assistance', 'walbrecher', 'triple-c', 'sharedata', '4.898', 'teacher-cadet', 'guber\\\\/peters', '12,252', 'family-planning', 'equity-purchase', '71,309', 'bronces', 'ctbs', '382-37', 'unicorp', '415.6', 'collective-bargaining', 'biondi-santi', 'intelogic', 'clean-air', 'hasbrouk', 'red-blooded', 'corporate-wide', '190-point', 'price-support', 'yet-to-be-formed', 'iran\\\\/contra', '230-215', '341.20', '62%-owned', 'hart-scott-rodino', '2003\\\\/2007', '13,056', '5\\\\/8', 'light-truck'}\n",
            "\n",
            "There are 676 OOV\n"
          ]
        }
      ]
    },
    {
      "cell_type": "code",
      "source": [
        "def isNumber(n):\n",
        "  if n == 'nan':\n",
        "    return False\n",
        "\n",
        "  try:\n",
        "    float(n)\n",
        "    return True\n",
        "  except:\n",
        "    return False\n",
        "\n",
        "def correct_typo(word, threshold=1):\n",
        "  if word in vocab_keys:\n",
        "    return word\n",
        "\n",
        "  if re.match('[a-z]', word): #avoid to use Levenshtein on numbers\n",
        "    dist = lambda elem: Levenshtein.distance(word, elem)\n",
        "    distances = np.vectorize(dist)(vocab_array)\n",
        "    idx_min = np.argmin(distances)\n",
        "    if distances[idx_min] <= threshold:\n",
        "      return vocab_array[idx_min]\n",
        "\n",
        "  #maybe it is a number, convert to the nearest one\n",
        "  word = word.replace(',', '')\n",
        "  number = float(word)\n",
        "\n",
        "  idx = np.argmin(np.abs(number_keys - number))\n",
        "  return str_number_keys[idx]\n",
        "\n",
        "\n",
        "\n",
        "def handling_OOV(OOV, embedder):\n",
        "  '''\n",
        "  Try to check if OOV are due to:\n",
        "     1)Decimal numbers; \n",
        "     2)words separated by special character (-, \\\\/)compuound words ;\n",
        "     3)Words compuound by two words present in the vocabulary; \n",
        "     4)Typos;\n",
        "  '''\n",
        "\n",
        "  '''\n",
        "  Decimal numbers are encoded using the nearest integer\n",
        "  '''\n",
        "  print('Analyzing numbers')\n",
        "  vocab_keys = embedder.vocab.keys()\n",
        "  vocab_array = np.array(list(vocab_keys))\n",
        "  str_number_keys = [n for n in tqdm(vocab_keys) if isNumber(n)]\n",
        "  number_keys = np.array(str_number_keys, dtype=np.float32)\n",
        "\n",
        "  '''\n",
        "  Words separated by special characters are encoded using the embedding of the two words,\n",
        "  the same is done with compound words\n",
        "  '''\n",
        "  print('Analyzing words separated by - or \\\\ \\\\/')\n",
        "  for w in tqdm(OOV):\n",
        "   try:\n",
        "    if '-' in w:\n",
        "      subWords = w.split('-')\n",
        "      embedded_words = [embedder[correct_typo(subW)] for subW in subWords if subW]\n",
        "      embedder.add([w], [np.mean(embedded_words, axis=0)])\n",
        "    \n",
        "    elif '\\\\/' in w:\n",
        "      subWords = w.split('\\\\/')\n",
        "      embedded_words = [embedder[correct_typo(subW)] for subW in subWords]\n",
        "      embedder.add([w], [np.mean(embedded_words, axis=0)])\n",
        "\n",
        "    else:\n",
        "      embedder.add([w], [embedder[correct_typo(w)]])\n",
        "\n",
        "   except:\n",
        "    pass\n",
        "  \n",
        "  # Compound words\n",
        "  print('Analyzing compound words')\n",
        "  for w in tqdm(OOV):\n",
        "    for i in range(2, len(w)-2):\n",
        "      w1 = w[:i]\n",
        "      w2 = w[i:]\n",
        "      if w1 in vocab_keys and w2 in vocab_keys:\n",
        "        embedding = (embedder[w1] + embedder[w2]) / 2\n",
        "        embedder.add([w], [embedding])\n",
        "        #print(\"Add\", w, \"composed by\", w1, \"and\", w2)\n",
        "        break\n",
        "\n",
        "  embedder.add(['62%-owned'], [(embedder['.62']+embedder['owned'])/2])\n",
        "\n",
        "  # Typos\n",
        "  print('Analyzing typos')\n",
        "  for w in tqdm(OOV):\n",
        "   try:\n",
        "    new_w = correct_typo(w, threshold=2)\n",
        "    embedder.add([w], [embedder[new_w]])\n",
        "    #print(\"Added\", w, \"as\", new_w)\n",
        "   except:\n",
        "    pass\n",
        "\n",
        "  "
      ],
      "metadata": {
        "id": "3RIdJtLXk3vU"
      },
      "execution_count": 11,
      "outputs": []
    },
    {
      "cell_type": "code",
      "source": [
        "handling_OOV(OOV, embedder)"
      ],
      "metadata": {
        "id": "n0VSyq04k88D",
        "outputId": "ea51b82e-8ba1-483b-e59e-729147e9c060",
        "colab": {
          "base_uri": "https://localhost:8080/"
        }
      },
      "execution_count": 12,
      "outputs": [
        {
          "output_type": "stream",
          "name": "stdout",
          "text": [
            "Analyzing numbers\n"
          ]
        },
        {
          "output_type": "stream",
          "name": "stderr",
          "text": [
            "100%|██████████| 400000/400000 [00:00<00:00, 807044.68it/s]\n"
          ]
        },
        {
          "output_type": "stream",
          "name": "stdout",
          "text": [
            "Analyzing words separated by - or \\ \\/\n"
          ]
        },
        {
          "output_type": "stream",
          "name": "stderr",
          "text": [
            "100%|██████████| 676/676 [00:00<00:00, 294153.91it/s]\n"
          ]
        },
        {
          "output_type": "stream",
          "name": "stdout",
          "text": [
            "Analyzing compound words\n"
          ]
        },
        {
          "output_type": "stream",
          "name": "stderr",
          "text": [
            "100%|██████████| 676/676 [00:03<00:00, 203.30it/s]\n"
          ]
        },
        {
          "output_type": "stream",
          "name": "stdout",
          "text": [
            "Analyzing typos\n"
          ]
        },
        {
          "output_type": "stream",
          "name": "stderr",
          "text": [
            "100%|██████████| 676/676 [00:00<00:00, 402462.67it/s]\n"
          ]
        }
      ]
    },
    {
      "cell_type": "code",
      "source": [
        "print('After processing')\n",
        "print('There are ', len(set(OOV_train).difference(set(embedder.vocab.keys()))), ' OOV in the train set')\n",
        "print('There are ', len(set(OOV_val).difference(set(embedder.vocab.keys()))), ' OOV in the val set')\n",
        "print('There are ', len(set(OOV_test).difference(set(embedder.vocab.keys()))), ' OOV in the test set')"
      ],
      "metadata": {
        "id": "Gq5jPOaHk-Lo",
        "colab": {
          "base_uri": "https://localhost:8080/"
        },
        "outputId": "324f0b08-3986-432e-bfb1-f14cbe356476"
      },
      "execution_count": 13,
      "outputs": [
        {
          "output_type": "stream",
          "name": "stdout",
          "text": [
            "After processing\n",
            "There are  241  OOV in the train set\n",
            "There are  162  OOV in the val set\n",
            "There are  920  OOV in the test set\n"
          ]
        }
      ]
    },
    {
      "cell_type": "code",
      "source": [
        "def isNumber(n):\n",
        "  if n == 'nan':\n",
        "    return False\n",
        "\n",
        "  try:\n",
        "    float(n)\n",
        "    return True\n",
        "  except:\n",
        "    return False\n",
        "\n",
        "vocab_keys = embedder.vocab.keys()\n",
        "vocab_array = np.array(list(vocab_keys))\n",
        "str_number_keys = [n for n in vocab_keys if isNumber(n)]\n",
        "number_keys = np.array(str_number_keys, dtype=np.float32)\n",
        "\n",
        "def correct_typo(word, threshold=1):\n",
        "  if word in vocab_keys:\n",
        "    return word\n",
        "\n",
        "  if re.match('[a-z]', word): #avoid to use Levenshtein on numbers\n",
        "    dist = lambda elem: Levenshtein.distance(word, elem)\n",
        "    distances = np.vectorize(dist)(vocab_array)\n",
        "    idx_min = np.argmin(distances)\n",
        "    if distances[idx_min] <= threshold:\n",
        "      return vocab_array[idx_min]\n",
        "\n",
        "  #maybe it is a number, convert to the nearest one\n",
        "  word = word.replace(',', '')\n",
        "  number = float(word)\n",
        "\n",
        "  idx = np.argmin(np.abs(number_keys - number))\n",
        "  return str_number_keys[idx]"
      ],
      "metadata": {
        "id": "cZJJgYrKhgEa"
      },
      "execution_count": 14,
      "outputs": []
    },
    {
      "cell_type": "code",
      "source": [
        "for w in tqdm(OOV):\n",
        "  try:\n",
        "    if '-' in w:\n",
        "      subWords = w.split('-')\n",
        "      embedded_words = [embedder[correct_typo(subW)] for subW in subWords if subW]\n",
        "      embedder.add([w], [np.mean(embedded_words, axis=0)])\n",
        "    \n",
        "    elif '\\\\/' in w:\n",
        "      subWords = w.split('\\\\/')\n",
        "      embedded_words = [embedder[correct_typo(subW)] for subW in subWords]\n",
        "      embedder.add([w], [np.mean(embedded_words, axis=0)])\n",
        "\n",
        "    else:\n",
        "      embedder.add([w], [embedder[correct_typo(w)]])\n",
        "\n",
        "  except:\n",
        "    pass\n",
        "\n",
        "OOV = set(words).difference(set(embedder.vocab.keys()))\n",
        "print(OOV)\n",
        "print(\"There are\", len(OOV), \"OOV\")\n"
      ],
      "metadata": {
        "colab": {
          "base_uri": "https://localhost:8080/"
        },
        "id": "AbKnU_gnm1AD",
        "outputId": "4a29cb8d-6954-4349-b517-30a8b91d102f"
      },
      "execution_count": 15,
      "outputs": [
        {
          "output_type": "stream",
          "name": "stderr",
          "text": [
            "100%|██████████| 676/676 [00:21<00:00, 30.83it/s]\n"
          ]
        },
        {
          "output_type": "stream",
          "name": "stdout",
          "text": [
            "{'intecknings', 'reupke', 'crocidolite', 'disputado', 'moleculon', 'besuboru', 'alurralde', 'continuingly', 'disputada', 'monchecourt', 'macmillan\\\\/mcgraw-hill', 'ac-130u', 'jalaalwalikraam', 'trockenbeerenauslesen', 'phacoflex', 'waertsilae', 'quantitive', 'amphobiles'}\n",
            "There are 18 OOV\n"
          ]
        }
      ]
    },
    {
      "cell_type": "code",
      "source": [
        "for w in OOV:\n",
        "  for i in range(2, len(w)-2):\n",
        "    w1 = w[:i]\n",
        "    w2 = w[i:]\n",
        "    if w1 in vocab_keys and w2 in vocab_keys:\n",
        "      embedding = (embedder[w1] + embedder[w2]) / 2\n",
        "      embedder.add([w], [embedding])\n",
        "      print(\"Add\", w, \"composed by\", w1, \"and\", w2)\n",
        "      break\n",
        "\n",
        "embedder.add(['62%-owned'], [(embedder['.62']+embedder['owned'])/2])\n",
        "\n",
        "OOV = set(words).difference(set(embedder.vocab.keys()))\n",
        "print(\"\\nThere are\", len(OOV), \"OOV\")"
      ],
      "metadata": {
        "colab": {
          "base_uri": "https://localhost:8080/"
        },
        "id": "98BmkvHhuBiZ",
        "outputId": "9b1f2b8f-d5a4-41ab-8977-3a5d75d2015a"
      },
      "execution_count": 16,
      "outputs": [
        {
          "output_type": "stream",
          "name": "stdout",
          "text": [
            "\n",
            "There are 18 OOV\n"
          ]
        }
      ]
    },
    {
      "cell_type": "code",
      "source": [
        "for w in OOV:\n",
        "  try:\n",
        "    new_w = correct_typo(w, threshold=2)\n",
        "    embedder.add([w], [embedder[new_w]])\n",
        "    print(\"Added\", w, \"as\", new_w)\n",
        "  except:\n",
        "    pass\n",
        "\n",
        "OOV = set(words).difference(set(embedder.vocab.keys()))\n",
        "print(\"\\nThere are\", len(OOV), \"OOV\")\n",
        "print(OOV)\n"
      ],
      "metadata": {
        "id": "s-zvshI9613Y",
        "outputId": "b6d63d49-1ea4-452f-d926-9192f2d86ef8",
        "colab": {
          "base_uri": "https://localhost:8080/"
        }
      },
      "execution_count": 17,
      "outputs": [
        {
          "output_type": "stream",
          "name": "stdout",
          "text": [
            "Added reupke as remake\n",
            "Added disputado as disputed\n",
            "Added moleculon as molecular\n",
            "Added alurralde as iturralde\n",
            "Added continuingly as continuing\n",
            "Added disputada as disputed\n",
            "Added ac-130u as ac-130\n",
            "Added waertsilae as wartsila\n",
            "Added quantitive as quantities\n",
            "Added amphobiles as amphiboles\n",
            "\n",
            "There are 8 OOV\n",
            "{'intecknings', 'crocidolite', 'besuboru', 'monchecourt', 'macmillan\\\\/mcgraw-hill', 'jalaalwalikraam', 'trockenbeerenauslesen', 'phacoflex'}\n"
          ]
        }
      ]
    },
    {
      "cell_type": "markdown",
      "source": [
        ""
      ],
      "metadata": {
        "id": "RxZCvEDZlLjG"
      }
    },
    {
      "cell_type": "code",
      "source": [
        "OOV_value = np.random.uniform(low=-0.05, high=0.05, size=(len(OOV), EMBEDDING_SIZE))\n",
        "embedder.add(list(OOV), OOV_value)"
      ],
      "metadata": {
        "id": "OgCb8v7RhFAi"
      },
      "execution_count": 18,
      "outputs": []
    },
    {
      "cell_type": "code",
      "source": [
        "encoder = OrdinalEncoder(dtype=np.int64)\n",
        "encoder.fit(labels.reshape(-1, 1)) "
      ],
      "metadata": {
        "id": "xgpz4U--UyfX",
        "outputId": "396d2c8c-3f86-4ff0-cdee-957ae7d8cb32",
        "colab": {
          "base_uri": "https://localhost:8080/"
        }
      },
      "execution_count": 19,
      "outputs": [
        {
          "output_type": "execute_result",
          "data": {
            "text/plain": [
              "OrdinalEncoder(dtype=<class 'numpy.int64'>)"
            ]
          },
          "metadata": {},
          "execution_count": 19
        }
      ]
    },
    {
      "cell_type": "markdown",
      "metadata": {
        "id": "QsAgPfRqStWK"
      },
      "source": [
        "### Dataset analysis"
      ]
    },
    {
      "cell_type": "code",
      "metadata": {
        "colab": {
          "base_uri": "https://localhost:8080/"
        },
        "id": "LT0pl2UG0H0O",
        "outputId": "f13bbe38-398d-4560-ba0e-be7ff3e0c0e1"
      },
      "source": [
        "print(\"The max sentence length in training set is\", max_length)\n",
        "print(f'There are {len(full_stops)} sentences in the training set')\n",
        "print(f'There are {len(labels)} labels')\n",
        "print(f'There are {len(words)} unique words, {len(OOV)} of them are OOV')"
      ],
      "execution_count": 20,
      "outputs": [
        {
          "output_type": "stream",
          "name": "stdout",
          "text": [
            "The max sentence length in training set is 67\n",
            "There are 2046 sentences in the training set\n",
            "There are 45 labels\n",
            "There are 10947 unique words, 8 of them are OOV\n",
            "There are 94084 words, 14 of them are OOV\n"
          ]
        }
      ]
    },
    {
      "cell_type": "markdown",
      "metadata": {
        "id": "ys_LD3OQc7Si"
      },
      "source": [
        "#### Plot dataset distribution"
      ]
    },
    {
      "cell_type": "code",
      "metadata": {
        "id": "FsUG2Cee8vMU",
        "colab": {
          "base_uri": "https://localhost:8080/",
          "height": 421
        },
        "outputId": "06d9c73f-fbc2-4ca9-d980-bcc3b43763c1"
      },
      "source": [
        "train_counts = train_set.groupby(by='label').count()\n",
        "train_counts = train_counts / len(train_set) * 100\n",
        "val_counts = val_set.groupby(by='label').count()\n",
        "val_counts = val_counts / len(val_set) * 100\n",
        "val_counts = val_counts.reindex(labels, fill_value=0)\n",
        "test_counts = test_set.groupby(by='label').count()\n",
        "test_counts = test_counts / len(test_set) * 100\n",
        "test_counts = test_counts.reindex(labels, fill_value=0)\n",
        "ind = np.arange(len(labels))\n",
        "\n",
        "plt.figure(figsize=(18,6))\n",
        "width = 0.2       \n",
        "plt.bar(ind, train_counts.loc[labels, 'word'] , width, label='Train set');\n",
        "plt.bar(ind + width, val_counts.loc[labels, 'word'], width, label='Validation set');\n",
        "plt.bar(ind + 2*width, test_counts.loc[labels, 'word'], width, label='Test set');\n",
        "\n",
        "plt.xlabel('Labels');\n",
        "plt.ylabel('Count %');\n",
        "plt.title('Dataset distribution');\n",
        "\n",
        "plt.xticks(ind + width / 3, labels, rotation=45);\n",
        "plt.legend();"
      ],
      "execution_count": 21,
      "outputs": [
        {
          "output_type": "display_data",
          "data": {
            "image/png": "[encoded data removed]",
            "text/plain": [
              "<Figure size 1296x432 with 1 Axes>"
            ]
          },
          "metadata": {
            "needs_background": "light"
          }
        }
      ]
    },
    {
      "cell_type": "code",
      "metadata": {
        "id": "dpuY1KPGZzKn",
        "colab": {
          "base_uri": "https://localhost:8080/",
          "height": 295
        },
        "outputId": "baaafe9e-5318-4688-85a5-2846029a6b29"
      },
      "source": [
        "counts_word = train_set.groupby('word').count().to_numpy()[:, 0]\n",
        "\n",
        "plt.plot(np.sort(counts_word)[::-1]);\n",
        "plt.yscale('log')\n",
        "\n",
        "plt.xlabel('Words');\n",
        "plt.ylabel('Count');\n",
        "plt.title('Word distribution (log scale)');"
      ],
      "execution_count": 22,
      "outputs": [
        {
          "output_type": "display_data",
          "data": {
            "image/png": "[encoded data removed]",
            "text/plain": [
              "<Figure size 432x288 with 1 Axes>"
            ]
          },
          "metadata": {
            "needs_background": "light"
          }
        }
      ]
    },
    {
      "cell_type": "code",
      "metadata": {
        "id": "WvBvMKm8Da9J",
        "colab": {
          "base_uri": "https://localhost:8080/",
          "height": 336
        },
        "outputId": "1557102d-9984-4805-c786-efce374039fd"
      },
      "source": [
        "f = plt.figure(figsize=(12, 5))\n",
        "ax1 = plt.subplot(121)\n",
        "ax2 = plt.subplot(122)\n",
        "\n",
        "ax1.hist(train_grouped.count()['word'], bins=250);\n",
        "ax1.set_title(\"Sentence length distribution\");\n",
        "\n",
        "ax2.boxplot(train_grouped.count()['word']);\n",
        "ax2.set_title(\"Boxplot for sentence length\");"
      ],
      "execution_count": 23,
      "outputs": [
        {
          "output_type": "display_data",
          "data": {
            "image/png": "[encoded data removed]",
            "text/plain": [
              "<Figure size 864x360 with 2 Axes>"
            ]
          },
          "metadata": {
            "needs_background": "light"
          }
        }
      ]
    },
    {
      "cell_type": "markdown",
      "metadata": {
        "id": "Qa9eCkjMwHsO"
      },
      "source": [
        "### Create RNN, Optimizer and DataLoader classes\n"
      ]
    },
    {
      "cell_type": "code",
      "metadata": {
        "id": "4qKGsuBvwKk6"
      },
      "source": [
        "class RNN(nn.Module):\n",
        "  \"\"\"\n",
        "    architecture: str\n",
        "      'LSTM'   : the baseline architecture\n",
        "      '2-LSTM' : 2 LSTM layers\n",
        "      '2-FC'   : 2 Dense Layers\n",
        "      'GRU'    : Gated Recurrent Unit\n",
        "  \"\"\"\n",
        "  def __init__(self, architecture, input_dim, hidden_size, output_size, dropout, device):\n",
        "    super(RNN, self).__init__()\n",
        "    self.architecture = architecture\n",
        "    self.n_layers = 2 if architecture == '2-LSTM' else 1\n",
        "    self.output_size = output_size\n",
        "    self.hidden_size = hidden_size\n",
        "    self.device = device\n",
        "    \n",
        "    if self.architecture == 'GRU':\n",
        "      self.rnn = nn.GRU(input_dim, hidden_size, num_layers=self.n_layers, bidirectional=True)\n",
        "    else:\n",
        "      self.rnn = nn.LSTM(input_dim, hidden_size, num_layers=self.n_layers, bidirectional=True)\n",
        "\n",
        "    self.dropout_layer = nn.Dropout(p=dropout)\n",
        "\n",
        "    if self.architecture == '2-FC':\n",
        "      self.fc = nn.Sequential(\n",
        "          nn.Linear(self.hidden_size*2, self.hidden_size),\n",
        "          nn.Dropout(p=dropout),\n",
        "          nn.Linear(self.hidden_size, output_size)\n",
        "      )\n",
        "    else:\n",
        "      self.fc = nn.Linear(self.hidden_size*2, output_size)\n",
        "\n",
        "\n",
        "\n",
        "  def forward(self, input):\n",
        "    input = input.permute(1, 0, 2)\n",
        "\n",
        "    #initialize hidden state and cell state\n",
        "    hidden = (torch.randn(self.n_layers*2, input.shape[1],\n",
        "                          self.hidden_size).to(self.device),\n",
        "              torch.randn(self.n_layers*2, input.shape[1],\n",
        "                          self.hidden_size).to(self.device))\n",
        "    out, hidden = self.rnn(input, hidden)\n",
        "\n",
        "    out = self.dropout_layer(out)\n",
        "\n",
        "    #process timesteps independently \n",
        "    logits = self.fc(out.view(-1, out.size(2)))\n",
        "    \n",
        "    output = logits.view(input.shape[0], input.shape[1], self.output_size)\n",
        "\n",
        "    return output.permute(1, 0, 2).contiguous()\n",
        "\n",
        "\n",
        "  def prediction(self, input: DataLoader):\n",
        "    \n",
        "    self.eval()\n",
        "    with torch.no_grad():\n",
        "\n",
        "      y_pred = torch.Tensor().to(self.device)\n",
        "      for data in input:  \n",
        "        words = data['words'].to(device)\n",
        "        lengths = data['lengths'].to(device)\n",
        "        scores = self(words)\n",
        "        classes_predicted = torch.argmax(scores, 2)\n",
        "\n",
        "        for i, length in enumerate(lengths):\n",
        "          y_pred = torch.cat((y_pred, classes_predicted[i, :length]), 0)\n",
        "    \n",
        "    self.train()\n",
        "    return y_pred\n",
        "\n",
        "\n",
        "  def accuracy(self, input: DataLoader):\n",
        "    num_correct = 0\n",
        "    num_samples = 0\n",
        "    self.eval()\n",
        "    \n",
        "    with torch.no_grad():\n",
        "        for data in input:\n",
        "            word = data['words'].to(device)\n",
        "            labels = data['labels'].to(device)\n",
        "            labels = labels.squeeze(-1)\n",
        "            \n",
        "            lengths = data['lengths'].to(device)\n",
        "\n",
        "            scores = self(word)\n",
        "            classes_predicted = torch.argmax(scores, 2)\n",
        "\n",
        "            for i, length in enumerate(lengths):\n",
        "              num_correct += torch.eq(classes_predicted[i, :length], labels[i, :length]).sum().item()\n",
        "\n",
        "            num_samples += lengths.sum()\n",
        "        \n",
        "    \n",
        "    return num_correct/num_samples\n",
        "\n"
      ],
      "execution_count": 132,
      "outputs": []
    },
    {
      "cell_type": "code",
      "metadata": {
        "id": "2MCssLkB8TUg"
      },
      "source": [
        "class Optimization:\n",
        "    def __init__(self, model, loss_fn, optimizer):\n",
        "        self.model = model\n",
        "        self.loss_fn = loss_fn\n",
        "        self.optimizer = optimizer\n",
        "        self.history = []\n",
        "    \n",
        "    def train_step(self, x, y):\n",
        "        self.model.train()\n",
        "        yhat = self.model(x)\n",
        "\n",
        "        yhat = yhat.reshape(-1, yhat.shape[-1])\n",
        "        y = y.flatten()\n",
        "\n",
        "        loss = self.loss_fn(yhat, y)\n",
        "        self.history.append(loss.item())\n",
        "        loss.backward()\n",
        "\n",
        "        self.optimizer.step()\n",
        "        self.optimizer.zero_grad()\n",
        "\n",
        "        return loss.item()"
      ],
      "execution_count": 79,
      "outputs": []
    },
    {
      "cell_type": "code",
      "metadata": {
        "id": "PpwRlpy68pSP"
      },
      "source": [
        "class MyDataset(Dataset):\n",
        "  def __init__(self, dataframe, embedder, encoder, max_length=None):\n",
        "    self.max_length = max_length if max_length else dataframe.count().max()['word']\n",
        "    self.dataframe = dataframe\n",
        "    self.embedder = embedder\n",
        "    self.encoder = encoder\n",
        "\n",
        "  def __len__(self):\n",
        "    return len(self.dataframe)\n",
        "\n",
        "  def __getitem__(self, idx):\n",
        "    sentence = self.dataframe.get_group(idx)[:self.max_length]\n",
        "\n",
        "    labels = np.array(sentence['label'], dtype = str).reshape(-1, 1)\n",
        "    encoded_labels = self.encoder.transform(labels)\n",
        "    encoded_words = self.embedder[sentence['word']]\n",
        "\n",
        "    return {'words': encoded_words, 'labels': encoded_labels, 'lengths': len(sentence)}"
      ],
      "execution_count": 80,
      "outputs": []
    },
    {
      "cell_type": "code",
      "source": [
        "def collate_fn_pad(batch):\n",
        "    batch_dict = []\n",
        "    lengths = torch.Tensor([sample['lengths'] for sample in batch])\n",
        "    padded_words = pad_sequence([torch.Tensor(sample['words']) for sample in batch], batch_first=True)\n",
        "    padded_labels = pad_sequence([torch.Tensor(sample['labels']) for sample in batch], batch_first=True, padding_value=-1)\n",
        "\n",
        "    return {'words': padded_words, 'labels': padded_labels.long(), 'lengths': lengths.int()}\n"
      ],
      "metadata": {
        "id": "kMAPwSCcqo97"
      },
      "execution_count": 96,
      "outputs": []
    },
    {
      "cell_type": "markdown",
      "metadata": {
        "id": "Moz4o3S4_YyY"
      },
      "source": [
        "### Training"
      ]
    },
    {
      "cell_type": "code",
      "source": [
        "%load_ext tensorboard\n",
        "%tensorboard --logdir=\"logs\""
      ],
      "metadata": {
        "id": "Li_cU3KAIaDg"
      },
      "execution_count": null,
      "outputs": []
    },
    {
      "cell_type": "markdown",
      "source": [
        "#### Training and tuning functions"
      ],
      "metadata": {
        "id": "fMOAz4J6gzN-"
      }
    },
    {
      "cell_type": "code",
      "source": [
        "def training_loop(model: nn.Module, \n",
        "                  train_set: torch.utils.data.DataLoader,\n",
        "                  val_set: torch.utils.data.DataLoader,\n",
        "                  n_epochs: int,\n",
        "                  optimization: Optimization,\n",
        "                  save_path: str,\n",
        "                  load_model: Optional[str] = None,\n",
        "                  writer: Optional[SummaryWriter] = None):\n",
        "  \n",
        "  if load_model:\n",
        "    model.load_state_dict(torch.load(load_model))\n",
        "\n",
        "  model.to(device)\n",
        "  train_acc = np.zeros(n_epochs)\n",
        "  val_acc = np.zeros(n_epochs)\n",
        "  best_acc = 0\n",
        "\n",
        "  for epoch in range(n_epochs):\n",
        "    print(f'Epoch {epoch+1}')\n",
        "\n",
        "    for data in tqdm(train_set):\n",
        "      w = data['words'].to(device)\n",
        "      l = data['labels'].to(device)\n",
        "      optimization.train_step(w, l)\n",
        "      \n",
        "    print(f'loss:{optimization.history[epoch] : .3f}')\n",
        "    train_acc[epoch] = model.accuracy(train_set)\n",
        "    print(f'train acc:{train_acc[epoch]}')\n",
        "    val_acc[epoch] = model.accuracy(val_set)\n",
        "    print(f'val acc:{val_acc[epoch]}')\n",
        "\n",
        "    writer.add_scalars('Loss', {\"Train\": optimization.history[epoch]}, epoch)\n",
        "    writer.add_scalars('Train Acc', {\"Train\": val_acc[epoch]}, epoch)\n",
        "    writer.add_scalars('Val Acc', {\"Train\": val_acc[epoch]}, epoch)\n",
        "    writer.flush()\n",
        "\n",
        "    if val_acc[epoch] > best_acc:\n",
        "      torch.save(model.state_dict(), save_path)\n",
        "      best_acc = val_acc[epoch]\n",
        "      print(f'Model saved at {save_path}')\n",
        "      \n",
        "  writer.close()\n",
        "  print(f'\\n Best model at epoch {np.argmax(val_acc) + 1}')\n",
        "\n",
        "  return best_acc"
      ],
      "metadata": {
        "id": "2vQvpGglNAYf"
      },
      "execution_count": 149,
      "outputs": []
    },
    {
      "cell_type": "code",
      "source": [
        "def tuning_loop(architecture: str,\n",
        "                train_loader: torch.utils.data.DataLoader,\n",
        "                val_loader: torch.utils.data.DataLoader,\n",
        "                n_epochs: int,\n",
        "                search: dict, \n",
        "                writer: Optional[SummaryWriter] = None):\n",
        "\n",
        "  best_model_acc = 0\n",
        "  config = []\n",
        "  for hidden_dim, dropout in itertools.product(search['hidden_dim'], search['dropout']):\n",
        "    print('='*15)\n",
        "    print('New setting with', architecture)\n",
        "\n",
        "    hidden_dim = np.random.choice(search['hidden_dim'])\n",
        "    print('hidden_dim :', hidden_dim)\n",
        "    dropout = np.random.choice(search['dropout'])\n",
        "    print('dropout :', dropout)\n",
        "\n",
        "    model = RNN(architecture, EMBEDDING_SIZE, hidden_dim, len(labels), dropout, device)\n",
        "    model.to(device)\n",
        "    loss = nn.CrossEntropyLoss(ignore_index=-1)\n",
        "    optimizer = optim.Adam(model.parameters())\n",
        "    optimization = Optimization(model, loss, optimizer)\n",
        "\n",
        "    path = f'model-{architecture}-{hidden_dim}-{dropout}.pkl'\n",
        "    best_acc = training_loop(model, train_loader, val_loader, n_epochs, optimization, path, False, writer=writer)\n",
        "\n",
        "    if best_acc > best_model_acc:\n",
        "      config = [hidden_dim, dropout]\n",
        "      best_model_acc = best_acc\n",
        "      new_path = f'model-{architecture}'\n",
        "      !\\cp $path $new_path\n",
        "\n",
        "  print(f'\\n Best model config : {config} with accuracy {best_model_acc}')"
      ],
      "metadata": {
        "id": "Ydu2_VLkB84u"
      },
      "execution_count": 145,
      "outputs": []
    },
    {
      "cell_type": "markdown",
      "source": [
        "#### Start tuning"
      ],
      "metadata": {
        "id": "qylGENCbg8RB"
      }
    },
    {
      "cell_type": "code",
      "source": [
        "search = {'hidden_dim': [256, 512, 1024],\n",
        "          'dropout': [0.4, 0.6, 0.8]\n",
        "          }\n"
      ],
      "metadata": {
        "id": "Rt_I9itTPbHQ"
      },
      "execution_count": 146,
      "outputs": []
    },
    {
      "cell_type": "code",
      "source": [
        "train_set = MyDataset(train_grouped, embedder, encoder)\n",
        "train_loader = DataLoader(train_set, batch_size=8, shuffle=True, collate_fn=collate_fn_pad)\n",
        "\n",
        "validation = MyDataset(val_grouped, embedder, encoder)\n",
        "val_loader = DataLoader(validation, batch_size=len(validation), collate_fn=collate_fn_pad)"
      ],
      "metadata": {
        "id": "LZif9p5fhEyr"
      },
      "execution_count": 147,
      "outputs": []
    },
    {
      "cell_type": "code",
      "source": [
        "N_EPOCHS = 25\n",
        "writer = torch.utils.tensorboard.writer.SummaryWriter(log_dir=os.path.join(\"logs\", \"BiLSTM\"))\n",
        "\n",
        "for architecture in ['LSTM', '2-LSTM', '2-FC', 'GRU']:\n",
        "  tuning_loop(architecture, train_loader, val_loader, N_EPOCHS, search, writer)"
      ],
      "metadata": {
        "id": "dX2aqrjvDUJo",
        "outputId": "13a7f08b-b2d1-41eb-f2bd-44132101ff08",
        "colab": {
          "base_uri": "https://localhost:8080/"
        }
      },
      "execution_count": null,
      "outputs": [
        {
          "output_type": "stream",
          "name": "stdout",
          "text": [
            "===============\n",
            "New setting with LSTM\n",
            "hidden_dim : 512\n",
            "dropout : 0.8\n",
            "Epoch 1\n"
          ]
        },
        {
          "output_type": "stream",
          "name": "stderr",
          "text": [
            "100%|██████████| 256/256 [00:07<00:00, 32.41it/s]\n"
          ]
        },
        {
          "output_type": "stream",
          "name": "stdout",
          "text": [
            "loss: 3.823\n",
            "train acc:0.7291156053543091\n",
            "val acc:0.7112528681755066\n",
            "Model saved at model-LSTM-512-0.8.pkl\n",
            "Epoch 2\n"
          ]
        },
        {
          "output_type": "stream",
          "name": "stderr",
          "text": [
            "100%|██████████| 256/256 [00:07<00:00, 34.11it/s]\n"
          ]
        },
        {
          "output_type": "stream",
          "name": "stdout",
          "text": [
            "loss: 3.760\n",
            "train acc:0.7935847640037537\n",
            "val acc:0.767982542514801\n",
            "Model saved at model-LSTM-512-0.8.pkl\n",
            "Epoch 3\n"
          ]
        },
        {
          "output_type": "stream",
          "name": "stderr",
          "text": [
            "100%|██████████| 256/256 [00:07<00:00, 33.94it/s]\n"
          ]
        },
        {
          "output_type": "stream",
          "name": "stdout",
          "text": [
            "loss: 3.690\n",
            "train acc:0.8256186842918396\n",
            "val acc:0.7986081838607788\n",
            "Model saved at model-LSTM-512-0.8.pkl\n",
            "Epoch 4\n"
          ]
        },
        {
          "output_type": "stream",
          "name": "stderr",
          "text": [
            "100%|██████████| 256/256 [00:07<00:00, 33.56it/s]\n"
          ]
        },
        {
          "output_type": "stream",
          "name": "stdout",
          "text": [
            "loss: 3.585\n",
            "train acc:0.8445814251899719\n",
            "val acc:0.8158290982246399\n",
            "Model saved at model-LSTM-512-0.8.pkl\n",
            "Epoch 5\n"
          ]
        },
        {
          "output_type": "stream",
          "name": "stderr",
          "text": [
            "100%|██████████| 256/256 [00:07<00:00, 32.92it/s]\n"
          ]
        },
        {
          "output_type": "stream",
          "name": "stdout",
          "text": [
            "loss: 3.513\n",
            "train acc:0.8612424731254578\n",
            "val acc:0.8245518207550049\n",
            "Model saved at model-LSTM-512-0.8.pkl\n",
            "Epoch 6\n"
          ]
        },
        {
          "output_type": "stream",
          "name": "stderr",
          "text": [
            "100%|██████████| 256/256 [00:07<00:00, 33.55it/s]\n"
          ]
        },
        {
          "output_type": "stream",
          "name": "stdout",
          "text": [
            "loss: 3.342\n",
            "train acc:0.8763408660888672\n",
            "val acc:0.8374755382537842\n",
            "Model saved at model-LSTM-512-0.8.pkl\n",
            "Epoch 7\n"
          ]
        },
        {
          "output_type": "stream",
          "name": "stderr",
          "text": [
            "100%|██████████| 256/256 [00:07<00:00, 35.38it/s]\n"
          ]
        },
        {
          "output_type": "stream",
          "name": "stdout",
          "text": [
            "loss: 3.017\n",
            "train acc:0.8888841867446899\n",
            "val acc:0.8439854979515076\n",
            "Model saved at model-LSTM-512-0.8.pkl\n",
            "Epoch 8\n"
          ]
        },
        {
          "output_type": "stream",
          "name": "stderr",
          "text": [
            "100%|██████████| 256/256 [00:07<00:00, 34.82it/s]\n"
          ]
        },
        {
          "output_type": "stream",
          "name": "stdout",
          "text": [
            "loss: 3.315\n",
            "train acc:0.9000760316848755\n",
            "val acc:0.8495333790779114\n",
            "Model saved at model-LSTM-512-0.8.pkl\n",
            "Epoch 9\n"
          ]
        },
        {
          "output_type": "stream",
          "name": "stderr",
          "text": [
            "100%|██████████| 256/256 [00:07<00:00, 34.62it/s]\n"
          ]
        },
        {
          "output_type": "stream",
          "name": "stdout",
          "text": [
            "loss: 3.070\n",
            "train acc:0.9081003069877625\n",
            "val acc:0.8546002507209778\n",
            "Model saved at model-LSTM-512-0.8.pkl\n",
            "Epoch 10\n"
          ]
        },
        {
          "output_type": "stream",
          "name": "stderr",
          "text": [
            "100%|██████████| 256/256 [00:07<00:00, 33.55it/s]\n"
          ]
        },
        {
          "output_type": "stream",
          "name": "stdout",
          "text": [
            "loss: 3.212\n",
            "train acc:0.9205591678619385\n",
            "val acc:0.8592181205749512\n",
            "Model saved at model-LSTM-512-0.8.pkl\n",
            "Epoch 11\n"
          ]
        },
        {
          "output_type": "stream",
          "name": "stderr",
          "text": [
            "100%|██████████| 256/256 [00:07<00:00, 34.57it/s]\n"
          ]
        },
        {
          "output_type": "stream",
          "name": "stdout",
          "text": [
            "loss: 3.214\n",
            "train acc:0.9309907555580139\n",
            "val acc:0.8641887903213501\n",
            "Model saved at model-LSTM-512-0.8.pkl\n",
            "Epoch 12\n"
          ]
        },
        {
          "output_type": "stream",
          "name": "stderr",
          "text": [
            "100%|██████████| 256/256 [00:07<00:00, 33.75it/s]\n"
          ]
        },
        {
          "output_type": "stream",
          "name": "stdout",
          "text": [
            "loss: 3.022\n",
            "train acc:0.9390995502471924\n",
            "val acc:0.8663053512573242\n",
            "Model saved at model-LSTM-512-0.8.pkl\n",
            "Epoch 13\n"
          ]
        },
        {
          "output_type": "stream",
          "name": "stderr",
          "text": [
            "100%|██████████| 256/256 [00:07<00:00, 33.62it/s]\n"
          ]
        },
        {
          "output_type": "stream",
          "name": "stdout",
          "text": [
            "loss: 3.049\n",
            "train acc:0.942900538444519\n",
            "val acc:0.8664977550506592\n",
            "Model saved at model-LSTM-512-0.8.pkl\n",
            "Epoch 14\n"
          ]
        },
        {
          "output_type": "stream",
          "name": "stderr",
          "text": [
            "100%|██████████| 256/256 [00:07<00:00, 33.64it/s]\n"
          ]
        },
        {
          "output_type": "stream",
          "name": "stdout",
          "text": [
            "loss: 2.889\n"
          ]
        }
      ]
    },
    {
      "cell_type": "markdown",
      "source": [
        "### Confusion Matrix and Report\n"
      ],
      "metadata": {
        "id": "esRWaE1pRiWx"
      }
    },
    {
      "cell_type": "code",
      "source": [
        "correct_labels = np.array(val_set['label'],  dtype = str).reshape(-1, 1)\n",
        "y_true_encoded = torch.Tensor(encoder.fit_transform(correct_labels))\n",
        "\n",
        "y_pred = model.prediction(val_loader)"
      ],
      "metadata": {
        "colab": {
          "base_uri": "https://localhost:8080/",
          "height": 217
        },
        "id": "FKjBrJETRlqL",
        "outputId": "870724cb-9eb1-445f-961c-4da6536059c3"
      },
      "execution_count": null,
      "outputs": [
        {
          "output_type": "error",
          "ename": "TypeError",
          "evalue": "ignored",
          "traceback": [
            "\u001b[0;31m---------------------------------------------------------------------------\u001b[0m",
            "\u001b[0;31mTypeError\u001b[0m                                 Traceback (most recent call last)",
            "\u001b[0;32m<ipython-input-71-0db1f6f43f0f>\u001b[0m in \u001b[0;36m<module>\u001b[0;34m()\u001b[0m\n\u001b[1;32m      1\u001b[0m \u001b[0mcorrect_labels\u001b[0m \u001b[0;34m=\u001b[0m \u001b[0mnp\u001b[0m\u001b[0;34m.\u001b[0m\u001b[0marray\u001b[0m\u001b[0;34m(\u001b[0m\u001b[0mval_set\u001b[0m\u001b[0;34m[\u001b[0m\u001b[0;34m'label'\u001b[0m\u001b[0;34m]\u001b[0m\u001b[0;34m,\u001b[0m  \u001b[0mdtype\u001b[0m \u001b[0;34m=\u001b[0m \u001b[0mstr\u001b[0m\u001b[0;34m)\u001b[0m\u001b[0;34m.\u001b[0m\u001b[0mreshape\u001b[0m\u001b[0;34m(\u001b[0m\u001b[0;34m-\u001b[0m\u001b[0;36m1\u001b[0m\u001b[0;34m,\u001b[0m \u001b[0;36m1\u001b[0m\u001b[0;34m)\u001b[0m\u001b[0;34m\u001b[0m\u001b[0;34m\u001b[0m\u001b[0m\n\u001b[0;32m----> 2\u001b[0;31m \u001b[0my_true_encoded\u001b[0m \u001b[0;34m=\u001b[0m \u001b[0mtorch\u001b[0m\u001b[0;34m.\u001b[0m\u001b[0mTensor\u001b[0m\u001b[0;34m(\u001b[0m\u001b[0mencoder\u001b[0m\u001b[0;34m.\u001b[0m\u001b[0mfit\u001b[0m\u001b[0;34m(\u001b[0m\u001b[0mcorrect_labels\u001b[0m\u001b[0;34m)\u001b[0m\u001b[0;34m)\u001b[0m\u001b[0;34m\u001b[0m\u001b[0;34m\u001b[0m\u001b[0m\n\u001b[0m\u001b[1;32m      3\u001b[0m \u001b[0;34m\u001b[0m\u001b[0m\n\u001b[1;32m      4\u001b[0m \u001b[0my_pred\u001b[0m \u001b[0;34m=\u001b[0m \u001b[0mmodel\u001b[0m\u001b[0;34m.\u001b[0m\u001b[0mprediction\u001b[0m\u001b[0;34m(\u001b[0m\u001b[0mval_loader\u001b[0m\u001b[0;34m)\u001b[0m\u001b[0;34m\u001b[0m\u001b[0;34m\u001b[0m\u001b[0m\n",
            "\u001b[0;31mTypeError\u001b[0m: new(): data must be a sequence (got OrdinalEncoder)"
          ]
        }
      ]
    },
    {
      "cell_type": "code",
      "source": [
        "print(labels)\n",
        "print(y_true_encoded)"
      ],
      "metadata": {
        "colab": {
          "base_uri": "https://localhost:8080/"
        },
        "id": "3P6TY2qgSulx",
        "outputId": "2df1d2ab-8507-4ff6-afe7-2184f73c5771"
      },
      "execution_count": null,
      "outputs": [
        {
          "output_type": "stream",
          "name": "stdout",
          "text": [
            "['NNP' ',' 'CD' 'NNS' 'JJ' 'MD' 'VB' 'DT' 'NN' 'IN' '.' 'VBZ' 'VBG' 'CC'\n",
            " 'VBD' 'VBN' 'RB' 'TO' 'PRP' 'RBR' 'WDT' 'VBP' 'RP' 'PRP$' 'JJS' 'POS'\n",
            " '``' 'EX' \"''\" 'WP' ':' 'JJR' 'WRB' '$' 'NNPS' 'WP$' '-LRB-' '-RRB-'\n",
            " 'PDT' 'RBS' 'FW' 'UH' 'SYM' 'LS' '#']\n",
            "tensor([[10.],\n",
            "        [20.],\n",
            "        [19.],\n",
            "        ...,\n",
            "        [27.],\n",
            "        [36.],\n",
            "        [ 6.]])\n"
          ]
        }
      ]
    },
    {
      "cell_type": "code",
      "source": [
        "print(type(y_pred))\n",
        "print(type(y_true_encoded))"
      ],
      "metadata": {
        "colab": {
          "base_uri": "https://localhost:8080/"
        },
        "id": "QuXoIRS9Rocl",
        "outputId": "fd0ed2fe-4ca1-4815-9350-662ec44e9ff3"
      },
      "execution_count": null,
      "outputs": [
        {
          "output_type": "stream",
          "name": "stdout",
          "text": [
            "<class 'torch.Tensor'>\n",
            "<class 'torch.Tensor'>\n"
          ]
        }
      ]
    },
    {
      "cell_type": "code",
      "source": [
        "punctuation = [',', '.', '``', \"''\",  ':' ]\n",
        "no_punc_labels = labels[]\n",
        "print(classification_report(y_true_encoded.cpu(), y_pred.cpu(), target_names=labels[:44]))"
      ],
      "metadata": {
        "colab": {
          "base_uri": "https://localhost:8080/"
        },
        "id": "WYcCEqcARIiY",
        "outputId": "ece76510-dcda-4bcc-f1e8-71f3d8d04505"
      },
      "execution_count": null,
      "outputs": [
        {
          "output_type": "stream",
          "name": "stdout",
          "text": [
            "              precision    recall  f1-score   support\n",
            "\n",
            "         NNP       0.00      0.00      0.00        15\n",
            "           ,       0.00      0.00      0.00       173\n",
            "          CD       0.00      0.00      0.00       225\n",
            "         NNS       0.00      0.00      0.00      1528\n",
            "          JJ       0.00      0.00      0.00        50\n",
            "          MD       0.00      0.00      0.00        53\n",
            "          VB       0.00      0.00      0.00      1277\n",
            "          DT       0.00      0.00      0.00       214\n",
            "          NN       0.00      0.00      0.00       758\n",
            "          IN       0.00      0.00      0.00      1249\n",
            "           .       0.00      0.00      0.00      2754\n",
            "         VBZ       0.00      0.00      0.00        34\n",
            "         VBG       0.00      0.00      0.00         2\n",
            "          CC       0.12      0.01      0.01      3275\n",
            "         VBD       0.00      0.00      0.00      1924\n",
            "         VBN       0.00      0.00      0.00       165\n",
            "          RB       0.00      0.00      0.00        58\n",
            "          TO       0.00      0.00      0.00         3\n",
            "         PRP       0.00      0.00      0.00       347\n",
            "         RBR       0.14      0.99      0.25      4513\n",
            "         WDT       0.00      0.00      0.00      2704\n",
            "         VBP       0.00      0.00      0.00       105\n",
            "          RP       0.00      0.00      0.00      2102\n",
            "        PRP$       0.00      0.00      0.00        14\n",
            "         JJS       0.00      0.00      0.00       269\n",
            "         POS       0.00      0.00      0.00       570\n",
            "          ``       0.00      0.00      0.00       258\n",
            "          EX       0.00      0.00      0.00       951\n",
            "          ''       0.00      0.00      0.00        35\n",
            "          WP       0.00      0.00      0.00        13\n",
            "           :       0.00      0.00      0.00        43\n",
            "         JJR       0.00      0.00      0.00       765\n",
            "         WRB       0.00      0.00      0.00         2\n",
            "           $       0.00      0.00      0.00       956\n",
            "        NNPS       0.00      0.00      0.00       861\n",
            "         WP$       0.00      0.00      0.00       476\n",
            "       -LRB-       0.00      0.00      0.00       737\n",
            "       -RRB-       0.00      0.00      0.00       460\n",
            "         PDT       0.00      0.00      0.00       712\n",
            "         RBS       0.00      0.00      0.00       157\n",
            "          FW       0.00      0.00      0.00        80\n",
            "          UH       0.00      0.00      0.00         4\n",
            "         SYM       0.00      0.00      0.00        62\n",
            "          LS       0.00      0.00      0.00       230\n",
            "\n",
            "    accuracy                           0.14     31183\n",
            "   macro avg       0.01      0.02      0.01     31183\n",
            "weighted avg       0.03      0.14      0.04     31183\n",
            "\n"
          ]
        },
        {
          "output_type": "stream",
          "name": "stderr",
          "text": [
            "/usr/local/lib/python3.7/dist-packages/sklearn/metrics/_classification.py:1308: UndefinedMetricWarning: Precision and F-score are ill-defined and being set to 0.0 in labels with no predicted samples. Use `zero_division` parameter to control this behavior.\n",
            "  _warn_prf(average, modifier, msg_start, len(result))\n",
            "/usr/local/lib/python3.7/dist-packages/sklearn/metrics/_classification.py:1308: UndefinedMetricWarning: Precision and F-score are ill-defined and being set to 0.0 in labels with no predicted samples. Use `zero_division` parameter to control this behavior.\n",
            "  _warn_prf(average, modifier, msg_start, len(result))\n",
            "/usr/local/lib/python3.7/dist-packages/sklearn/metrics/_classification.py:1308: UndefinedMetricWarning: Precision and F-score are ill-defined and being set to 0.0 in labels with no predicted samples. Use `zero_division` parameter to control this behavior.\n",
            "  _warn_prf(average, modifier, msg_start, len(result))\n"
          ]
        }
      ]
    },
    {
      "cell_type": "code",
      "source": [
        "cm = confusion_matrix(y_true_encoded.cpu(), y_pred.cpu())\n",
        "\n",
        "plt.rcParams[\"figure.figsize\"] = (10, 8)\n",
        "ax= plt.subplot()\n",
        "sns.heatmap(cm)\n",
        "\n",
        "# labels, title and ticks\n",
        "ax.set_xlabel('Predicted labels');\n",
        "ax.set_ylabel('True labels'); \n",
        "ax.set_title('Confusion Matrix'); \n",
        "ax.xaxis.set_ticklabels(labels.flatten()); \n",
        "plt.xticks(rotation=90);\n",
        "ax.yaxis.set_ticklabels(labels.flatten());\n",
        "plt.yticks(rotation=0);"
      ],
      "metadata": {
        "colab": {
          "base_uri": "https://localhost:8080/",
          "height": 526
        },
        "id": "MLGNTlFLdZMp",
        "outputId": "5b132fcd-63ce-49ca-cf29-8ae36274c2fd"
      },
      "execution_count": null,
      "outputs": [
        {
          "output_type": "display_data",
          "data": {
            "image/png": "[encoded data removed]",
            "text/plain": [
              "<Figure size 720x576 with 2 Axes>"
            ]
          },
          "metadata": {
            "needs_background": "light"
          }
        }
      ]
    }
  ]
}