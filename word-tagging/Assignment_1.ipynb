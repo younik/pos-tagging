{
  "nbformat": 4,
  "nbformat_minor": 0,
  "metadata": {
    "colab": {
      "name": "Assignment_1.ipynb",
      "provenance": [],
      "collapsed_sections": [
        "ys_LD3OQc7Si"
      ]
    },
    "kernelspec": {
      "name": "python3",
      "display_name": "Python 3"
    },
    "accelerator": "GPU"
  },
  "cells": [
    {
      "cell_type": "markdown",
      "metadata": {
        "id": "-WeCeITXoxLf"
      },
      "source": [
        "# Assignment 1\n",
        "\n",
        "**Due to**: 23/12/2021 (dd/mm/yyyy)\n",
        "\n",
        "**Credits**: Andrea Galassi, Federico Ruggeri, Paolo Torroni\n",
        "\n",
        "**Summary**: Part-of Speech (POS) tagging as Sequence Labelling using Recurrent Neural Architectures"
      ]
    },
    {
      "cell_type": "markdown",
      "metadata": {
        "id": "a4_wqPdlBcKS"
      },
      "source": [
        "# Intro\n",
        "\n",
        "In this assignment  we will ask you to perform POS tagging using neural architectures\n",
        "\n",
        "You are asked to follow these steps:\n",
        "*   Download the corpora and split it in training and test sets, structuring a dataframe.\n",
        "*   Embed the words using GloVe embeddings\n",
        "*   Create a baseline model, using a simple neural architecture\n",
        "*   Experiment doing small modifications to the baseline model, choose hyperparameters using the validation set\n",
        "*   Evaluate your two best model\n",
        "*   Analyze the errors of your model\n",
        "\n",
        "\n",
        "**Task**: given a corpus of documents, predict the POS tag for each word\n",
        "\n",
        "**Corpus**:\n",
        "Ignore the numeric value in the third column, use only the words/symbols and its label. \n",
        "The corpus is available at:\n",
        "https://raw.githubusercontent.com/nltk/nltk_data/gh-pages/packages/corpora/dependency_treebank.zip\n",
        "\n",
        "**Splits**: documents 1-100 are the train set, 101-150 validation set, 151-199 test set.\n",
        "\n",
        "\n",
        "**Features**: you MUST use GloVe embeddings as the only input features to the model.\n",
        "\n",
        "**Splitting**: you can decide to split documents into sentences or not, the choice is yours.\n",
        "\n",
        "**I/O structure**: The input data will have three dimensions: 1-documents/sentences, 2-token, 3-features; for the output there are 2 possibilities: if you use one-hot encoding it will be 1-documents/sentences, 2-token labels, 3-classes, if you use a single integer that indicates the number of the class it will be 1-documents/sentences, 2-token labels.\n",
        "\n",
        "**Baseline**: two layers architecture: a Bidirectional LSTM layer and a Dense/Fully-Connected layer on top; the choice of hyper-parameters is yours.\n",
        "\n",
        "**Architectures**: experiment using a GRU instead of the LSTM, adding an additional LSTM layer, and adding an additional dense layer; do not mix these variantions.\n",
        "\n",
        "\n",
        "**Training and Experiments**: all the experiments must involve only the training and validation sets.\n",
        "\n",
        "**Evaluation**: in the end, only the two best models of your choice (according to the validation set) must be evaluated on the test set. The main metric must be F1-Macro computed between the various part of speech. DO NOT CONSIDER THE PUNCTUATION CLASSES.\n",
        "\n",
        "**Metrics**: the metric you must use to evaluate your final model is the F1-macro, WITHOUT considering punctuation/symbols classes; during the training process you can use accuracy because you can't use the F1 metric unless you use a single (gigantic) batch because there is no way to aggregate \"partial\" F1 scores computed on mini-batches.\n",
        "\n",
        "**Discussion and Error Analysis** : verify and discuss if the results on the test sets are coherent with those on the validation set; analyze the errors done by your model, try to understand which may be the causes and think about how to improve it.\n",
        "\n",
        "**Report**: you are asked to deliver the code of your experiments and a small pdf report of about 2 pages; the pdf must begin with the names of the people of your team and a small abstract (4-5 lines) that sums up your findings.\n",
        "\n",
        "# Out Of Vocabulary (OOV) terms\n",
        "\n",
        "How to handle words that are not in GloVe vocabulary?\n",
        "You can handle them as you want (random embedding, placeholder, whatever!), but they must be STATIC embeddings (you cannot train them).\n",
        "\n",
        "But there is a very important caveat! As usual, the element of the test set must not influence the elements of the other splits!\n",
        "\n",
        "So, when you compute new embeddings for train+validation, you must forget about test documents.\n",
        "The motivation is to emulate a real-world scenario, where you select and train a model in the first stage, without knowing nothing about the testing environment.\n",
        "\n",
        "For implementation convenience, you CAN use a single vocabulary file/matrix/whatever. The principle of the previous point is that the embeddings inside that file/matrix must be generated independently for train and test splits.\n",
        "\n",
        "Basically in a real-world scenario, this is what would happen:\n",
        "1. Starting vocabulary V1 (in this assignment, GloVe vocabulary)\n",
        "2. Compute embeddings for terms out of vocabulary V1 (OOV1) of the training split \n",
        "3. Add embeddings to the vocabulary, so to obtain vocabulary V2=V1+OOV1\n",
        "4. Training of the model(s)\n",
        "5. Compute embeddings for terms OOV2 of the validation split \n",
        "6. Add embeddings to the vocabulary, so to obtain vocabulary V3=V1+OOV1+OOV2\n",
        "7. Validation of the model(s)\n",
        "8. Compute embeddings for terms OOV3 of the test split \n",
        "9. Add embeddings to the vocabulary, so to obtain vocabulary V4=V1+OOV1+OOV2+OOV3\n",
        "10. Testing of the final model\n",
        "\n",
        "In this case, where we already have all the documents, we can simplify the process a bit, but the procedure must remain rigorous.\n",
        "\n",
        "1. Starting vocabulary V1 (in this assignment, GloVe vocabulary)\n",
        "2. Compute embeddings for terms out of vocabulary V1 (OOV1) of the training split \n",
        "3. Add embeddings to the vocabulary, so to obtain vocabulary V2=V1+OOV1\n",
        "4. Compute embeddings for terms OOV2 of the validation split \n",
        "5. Add embeddings to the vocabulary, so to obtain vocabulary V3=V1+OOV1+OOV2\n",
        "6. Compute embeddings for terms OOV3 of the test split \n",
        "7. Add embeddings to the vocabulary, so to obtain vocabulary V4=V1+OOV1+OOV2\n",
        "8. Training of the model(s)\n",
        "9. Validation of the model(s)\n",
        "10. Testing of the final model\n",
        "\n",
        "Step 2 and step 6 must be completely independent of each other, for what concerns the method and the documents. But they can rely on the previous vocabulary (V1 for step 2 and V3 for step 6)\n",
        "THEREFORE if a word is present both in the training set and the test split and not in the starting vocabulary, its embedding is computed in step 2) and it is not considered OOV anymore in step 6).\n",
        "\n",
        "# Report\n",
        "The report must not be just a copy and paste of graphs and tables!\n",
        "\n",
        "The report must not be longer than 2 pages and must contain:\n",
        "* The names of the member of your team\n",
        "* A short abstract (4-5 lines) that sum ups everything\n",
        "* A general description of the task you have addressed and how you have addressed it\n",
        "* A short description of the models you have used\n",
        "* Some tables that sum up your findings in validation and test and a discussion of those results\n",
        "* The most relevant findings of your error analysis\n",
        "\n",
        "# Evaluation Criterion\n",
        "\n",
        "The goal of this assignment is not to prove you can find best model ever, but to face a common task, structure it correctly, and follow a correct and rigorous experimental procedure.\n",
        "In other words, we don't care if you final models are awful as long as you have followed the correct procedure and wrote a decent report.\n",
        "\n",
        "The score of the assignment will be computed roughly as follows\n",
        "* 1 point for the general setting of the problem\n",
        "* 1 point for the handling of OOV terms\n",
        "* 1 point for the models\n",
        "* 1 point for train-validation-test procedure\n",
        "* 2 point for the discussion of the results, error analysis, and report\n",
        "\n",
        "This distribution of scores is tentative and we may decide to alter it at any moment.\n",
        "We also reserve the right to assign a small bonus (0.5 points) to any assignment that is particularly worthy. Similarly, in case of grave errors, we may decide to assign an equivalent malus (-0.5 points).\n",
        "\n",
        "# Contacts\n",
        "\n",
        "In case of any doubt, question, issue, or help we highly recommend you to check the [course useful material](https://virtuale.unibo.it/pluginfile.php/1036039/mod_resource/content/2/NLP_Course_Useful_Material.pdf) for additional information, and to use the Virtuale forums to discuss with other students.\n",
        "\n",
        "You can always contact us at the following email addresses. To increase the probability of a prompt response, we reccomend you to write to both the teaching assistants.\n",
        "\n",
        "Teaching Assistants:\n",
        "\n",
        "* Andrea Galassi -> a.galassi@unibo.it\n",
        "* Federico Ruggeri -> federico.ruggeri6@unibo.it\n",
        "\n",
        "Professor:\n",
        "\n",
        "* Paolo Torroni -> p.torroni@unibo.it\n",
        "\n",
        "\n",
        "# FAQ\n",
        "* You can use a non-trainable Embedding layer to load the glove embeddings\n",
        "* You can use any library of your choice to implement the networks. Two options are tensorflow/keras or pythorch. Both these libraries have all the classes you need to implement these simple architectures and there are plenty of tutorials around, where you can learn how to use them."
      ]
    },
    {
      "cell_type": "markdown",
      "metadata": {
        "id": "D8PgAJyy40SY"
      },
      "source": [
        "# Import libraries & download dataset"
      ]
    },
    {
      "cell_type": "code",
      "metadata": {
        "id": "caNU8UeFxupB",
        "colab": {
          "base_uri": "https://localhost:8080/"
        },
        "outputId": "7a105226-1358-4916-fa9b-cdfb6d172fbf"
      },
      "source": [
        "import os\n",
        "import pandas as pd\n",
        "import numpy as np\n",
        "import matplotlib.pyplot as plt\n",
        "import csv\n",
        "import seaborn as sns  \n",
        "from sklearn.metrics import confusion_matrix, classification_report\n",
        "\n",
        "import torch\n",
        "import torch.nn as nn\n",
        "from torch.utils.data import Dataset, DataLoader\n",
        "from torch.utils.tensorboard import SummaryWriter\n",
        "from torch.nn.utils.rnn import pad_sequence\n",
        "import torch.optim as optim\n",
        "\n",
        "from sklearn.preprocessing import OrdinalEncoder\n",
        "\n",
        "from tqdm import tqdm\n",
        "from typing import Optional\n",
        "\n",
        "import gensim\n",
        "import gensim.downloader as gloader  \n",
        "\n",
        "import re\n",
        "\n",
        "!pip install python-Levenshtein\n",
        "import Levenshtein\n",
        "\n",
        "import itertools\n",
        "from functools import partial\n",
        "\n",
        "device = torch.device(\"cuda\" if torch.cuda.is_available() else \"cpu\")"
      ],
      "execution_count": 1,
      "outputs": [
        {
          "output_type": "stream",
          "name": "stdout",
          "text": [
            "Collecting python-Levenshtein\n",
            "  Downloading python-Levenshtein-0.12.2.tar.gz (50 kB)\n",
            "\u001b[?25l\r\u001b[K     |██████▌                         | 10 kB 15.8 MB/s eta 0:00:01\r\u001b[K     |█████████████                   | 20 kB 11.4 MB/s eta 0:00:01\r\u001b[K     |███████████████████▌            | 30 kB 6.8 MB/s eta 0:00:01\r\u001b[K     |██████████████████████████      | 40 kB 6.1 MB/s eta 0:00:01\r\u001b[K     |████████████████████████████████| 50 kB 3.2 MB/s \n",
            "\u001b[?25hRequirement already satisfied: setuptools in /usr/local/lib/python3.7/dist-packages (from python-Levenshtein) (57.4.0)\n",
            "Building wheels for collected packages: python-Levenshtein\n",
            "  Building wheel for python-Levenshtein (setup.py) ... \u001b[?25l\u001b[?25hdone\n",
            "  Created wheel for python-Levenshtein: filename=python_Levenshtein-0.12.2-cp37-cp37m-linux_x86_64.whl size=149870 sha256=967e263de4fb57e7c766e0c51942ede209b1a4272f8bf31c0cc5e537a2f2f6c4\n",
            "  Stored in directory: /root/.cache/pip/wheels/05/5f/ca/7c4367734892581bb5ff896f15027a932c551080b2abd3e00d\n",
            "Successfully built python-Levenshtein\n",
            "Installing collected packages: python-Levenshtein\n",
            "Successfully installed python-Levenshtein-0.12.2\n"
          ]
        }
      ]
    },
    {
      "cell_type": "code",
      "metadata": {
        "id": "y2j0JgX8wpjH",
        "colab": {
          "base_uri": "https://localhost:8080/"
        },
        "outputId": "14824972-b351-464f-9ed6-1e44eba4fac3"
      },
      "source": [
        "!wget https://raw.githubusercontent.com/nltk/nltk_data/gh-pages/packages/corpora/dependency_treebank.zip\n",
        "!unzip -q dependency_treebank.zip"
      ],
      "execution_count": 2,
      "outputs": [
        {
          "output_type": "stream",
          "name": "stdout",
          "text": [
            "--2021-12-17 15:27:11--  https://raw.githubusercontent.com/nltk/nltk_data/gh-pages/packages/corpora/dependency_treebank.zip\n",
            "Resolving raw.githubusercontent.com (raw.githubusercontent.com)... 185.199.109.133, 185.199.108.133, 185.199.110.133, ...\n",
            "Connecting to raw.githubusercontent.com (raw.githubusercontent.com)|185.199.109.133|:443... connected.\n",
            "HTTP request sent, awaiting response... 200 OK\n",
            "Length: 457429 (447K) [application/zip]\n",
            "Saving to: ‘dependency_treebank.zip’\n",
            "\n",
            "\rdependency_treebank   0%[                    ]       0  --.-KB/s               \rdependency_treebank 100%[===================>] 446.71K  --.-KB/s    in 0.03s   \n",
            "\n",
            "2021-12-17 15:27:11 (12.6 MB/s) - ‘dependency_treebank.zip’ saved [457429/457429]\n",
            "\n"
          ]
        }
      ]
    },
    {
      "cell_type": "markdown",
      "metadata": {
        "id": "onQNYcuwCTiW"
      },
      "source": [
        "# Dataframe creation and split into train, val and test set\n",
        "\n",
        "The way to split the dataset is already defined:  \n",
        "train set : documents 1-100;  \n",
        "validation set : documents 101-150;  \n",
        "test set : documents 151-199;"
      ]
    },
    {
      "cell_type": "code",
      "metadata": {
        "id": "EADZWC3txls8"
      },
      "source": [
        "corpus_path = 'dependency_treebank/'\n",
        "file_list = sorted(os.listdir(corpus_path))\n",
        "\n",
        "dfs = [pd.read_csv(corpus_path + f, sep='\\t', names=['word', 'label', 'foo']).drop('foo', 1)\n",
        "          for f in file_list]\n",
        "\n",
        "\n",
        "dataset = pd.concat(dfs, ignore_index=True)\n",
        "dataset['word'] = dataset['word'].transform(lambda x : x.lower())  \n",
        "\n",
        "train_set = pd.concat(dfs[:100], ignore_index=True)\n",
        "train_set['word'] = train_set['word'].transform(lambda x : x.lower())\n",
        "\n",
        "val_set = pd.concat(dfs[100:150], ignore_index=True)\n",
        "val_set['word'] = val_set['word'].transform(lambda x : x.lower())\n",
        "\n",
        "test_set = pd.concat(dfs[150:199], ignore_index=True)\n",
        "test_set['word'] = test_set['word'].transform(lambda x : x.lower())\n",
        "\n",
        "labels = dataset['label'].unique()\n",
        "words = dataset['word'].unique()"
      ],
      "execution_count": 3,
      "outputs": []
    },
    {
      "cell_type": "code",
      "source": [
        "encoder = OrdinalEncoder(dtype=np.int64)\n",
        "encoder.fit(labels.reshape(-1, 1)) "
      ],
      "metadata": {
        "id": "4yRzzo9rgC8z",
        "outputId": "34b5659d-4122-4e71-a0b2-1b1a649f860c",
        "colab": {
          "base_uri": "https://localhost:8080/"
        }
      },
      "execution_count": 4,
      "outputs": [
        {
          "output_type": "execute_result",
          "data": {
            "text/plain": [
              "OrdinalEncoder(dtype=<class 'numpy.int64'>)"
            ]
          },
          "metadata": {},
          "execution_count": 4
        }
      ]
    },
    {
      "cell_type": "code",
      "source": [
        "EMBEDDING_SIZE = 50\n",
        "embedder = gloader.load(f'glove-wiki-gigaword-{EMBEDDING_SIZE}')"
      ],
      "metadata": {
        "id": "ouMAodz5jQh7",
        "outputId": "2a69f750-e5ad-4289-9eea-c7815177c477",
        "colab": {
          "base_uri": "https://localhost:8080/"
        }
      },
      "execution_count": 5,
      "outputs": [
        {
          "output_type": "stream",
          "name": "stdout",
          "text": [
            "[==================================================] 100.0% 66.0/66.0MB downloaded\n"
          ]
        }
      ]
    },
    {
      "cell_type": "markdown",
      "source": [
        "We started splitting documents in sentences using \n",
        "punctuation labelled as '.' as end of sentences."
      ],
      "metadata": {
        "id": "6thVZ3VqkX1l"
      }
    },
    {
      "cell_type": "code",
      "metadata": {
        "id": "ZQIUPI3h7DCl"
      },
      "source": [
        "train_stops = train_set[(train_set['label']=='.')].index\n",
        "max_length = max(train_stops[1:] - train_stops[:-1])\n",
        "\n",
        "val_stops = val_set[(val_set['label']=='.')].index\n",
        "max_length_val = max(val_stops[1:] - val_stops[:-1])\n",
        "\n",
        "test_stops = test_set[(test_set['label']=='.')].index\n",
        "max_length_test = max(test_stops[1:] - test_stops[:-1])\n",
        "\n",
        "\n",
        "OOV_train = set(train_set['word'].unique()).difference(set(embedder.vocab.keys()))\n",
        "OOV_val = set(val_set['word'].unique()).difference(set(embedder.vocab.keys()))\n",
        "OOV_test = set(test_set['word'].unique()).difference(set(embedder.vocab.keys()))"
      ],
      "execution_count": 6,
      "outputs": []
    },
    {
      "cell_type": "code",
      "source": [
        "print('Before pre-processing:')\n",
        "print(\"Train set unique words:\", len(train_set['word'].unique()))\n",
        "print('OOV:', len(OOV_train))\n",
        "print('Max sentence length', max_length)\n",
        "print(\"\\nValidation set unique words:\", len(val_set['word'].unique()))\n",
        "print('Max sentence length', max_length_val)\n",
        "print('OOV:', len(OOV_val))\n",
        "print(\"\\nTest set unique words:\", len(test_set['word'].unique()))\n",
        "print('Max sentence length', max_length_test)\n",
        "print('OOV:', len(OOV_test))"
      ],
      "metadata": {
        "id": "IIHU5fcWj8bd",
        "colab": {
          "base_uri": "https://localhost:8080/"
        },
        "outputId": "3c2d6376-dd96-4431-ff8e-95d9b40f9e9f"
      },
      "execution_count": 7,
      "outputs": [
        {
          "output_type": "stream",
          "name": "stdout",
          "text": [
            "Before pre-processing:\n",
            "Train set unique words: 7404\n",
            "OOV: 359\n",
            "Max sentence length 250\n",
            "\n",
            "Validation set unique words: 5420\n",
            "Max sentence length 80\n",
            "OOV: 213\n",
            "\n",
            "Test set unique words: 3407\n",
            "Max sentence length 80\n",
            "OOV: 161\n"
          ]
        }
      ]
    },
    {
      "cell_type": "markdown",
      "source": [
        "Then we tried to improve the sentences splitting using also the semi-column"
      ],
      "metadata": {
        "id": "Oomp6hyQkd-h"
      }
    },
    {
      "cell_type": "code",
      "source": [
        "train_stops = train_set[(train_set['label']=='.') | (train_set['word']==';')].index\n",
        "max_length = max(train_stops[1:] - train_stops[:-1])\n",
        "\n",
        "val_stops = val_set[(val_set['label']=='.') | (val_set['word']==';')].index\n",
        "max_length_val = max(val_stops[1:] - val_stops[:-1])\n",
        "\n",
        "test_stops = test_set[(test_set['label']=='.') | (test_set['word']==';')].index\n",
        "max_length_test = max(test_stops[1:] - test_stops[:-1])"
      ],
      "metadata": {
        "id": "bMrXaArHkAJI"
      },
      "execution_count": 8,
      "outputs": []
    },
    {
      "cell_type": "code",
      "source": [
        "print('After processing')\n",
        "print('Max sentence length in Train Set:', max_length)\n",
        "print('Max sentence length in Validation Set:', max_length_val)\n",
        "print('Max sentence length in Test Set:', max_length_test)"
      ],
      "metadata": {
        "id": "eC-lWvmzkEmh",
        "colab": {
          "base_uri": "https://localhost:8080/"
        },
        "outputId": "0a184e49-6025-40c6-fe99-9b31a1093f81"
      },
      "execution_count": 9,
      "outputs": [
        {
          "output_type": "stream",
          "name": "stdout",
          "text": [
            "After processing\n",
            "Max sentence length in Train Set: 67\n",
            "Max sentence length in Validation Set: 80\n",
            "Max sentence length in Test Set: 72\n"
          ]
        }
      ]
    },
    {
      "cell_type": "code",
      "source": [
        "def index_of_phrase(stops, word_idx):\n",
        "  return np.count_nonzero(word_idx > stops)\n",
        "\n",
        "print(\"Grouping train set\")\n",
        "train_index_phrase = np.vectorize(partial(index_of_phrase, train_stops))\n",
        "train_grouped = train_set.groupby(by=train_index_phrase)\n",
        "\n",
        "print(\"Grouping val set\")\n",
        "val_index_phrase = np.vectorize(partial(index_of_phrase, val_stops))\n",
        "val_grouped = val_set.groupby(by=val_index_phrase)\n",
        "\n",
        "print(\"Grouping test set\")\n",
        "test_index_phrase = np.vectorize(partial(index_of_phrase, test_stops))\n",
        "test_grouped = test_set.groupby(by=test_index_phrase)"
      ],
      "metadata": {
        "id": "y3RGGvmSkrJW",
        "outputId": "59d7910b-6daa-4231-b961-f95ca59445c0",
        "colab": {
          "base_uri": "https://localhost:8080/"
        }
      },
      "execution_count": 10,
      "outputs": [
        {
          "output_type": "stream",
          "name": "stdout",
          "text": [
            "Grouping train set\n",
            "Grouping val set\n",
            "Grouping test set\n"
          ]
        }
      ]
    },
    {
      "cell_type": "markdown",
      "source": [
        "# OOV processing"
      ],
      "metadata": {
        "id": "KDww18DUTYSJ"
      }
    },
    {
      "cell_type": "code",
      "source": [
        "OOV = set(words).difference(set(embedder.vocab.keys()))\n",
        "print(OOV)\n",
        "print(\"\\nThere are\", len(OOV), \"OOV\")"
      ],
      "metadata": {
        "id": "8YSrcLB6ThSm",
        "colab": {
          "base_uri": "https://localhost:8080/"
        },
        "outputId": "1b215b45-9475-4e93-f7ce-211e54a99dcd"
      },
      "execution_count": 11,
      "outputs": [
        {
          "output_type": "stream",
          "name": "stdout",
          "text": [
            "{'2,303,328', '95,142', 'retin-a', '271,124', 'weisfield', 'ctbs', '30,537', 'tire-kickers', '143.80', 'airline-related', '434.4', '2160.1', 'computer-driven', 'beer-belly', '19-month-old', 'price-support', '382-37', 'ballantine\\\\/del', 'chinchon', '278.7', 'coche-dury', 'lookee-loos', 'card-member', '372.14', '8.467', 'cotran', 'sulfur-dioxide', '234.4', 'integra-a', 'asset-sale', 'co-developers', 'unfair-trade', 'heiwado', '8.575', 'land-idling', 'safe-deposit', 'side-crash', 'yen-denominated', 'non-biodegradable', 'lower-priority', '238,000-circulation', 'training-wage', 'identity-management', 'clean-air', '18,444', 'lentjes', 'bottom-line', 'sharedata', '3057', 'erbamont', 'arbitrage-related', 'shirt-sleeved', 'fiber-end', '608,413', 'makato', 'intelogic', 'heebie-jeebies', 'chemplus', 'louisiana-pacific', '14.', 'txo', 'c.j.b.', 'dollar-yen', 'auto-safety', 'equal-opportunity', '415.6', 'vitulli', 'herald-american', '3\\\\/8', 'ac-130u', 'minicrash', '40-megabyte', 'life-of-contract', 'video-viewing', 'pramual', 'cleaner-burning', 'direct-investment', '30,841', '352.7', 'dead-eyed', 'newspaper-printing', '47.125', 'sogo-shosha', '8300s', '5.2180', 'teacher-cadet', '1.916', '9,118', 'seven-million-ton', 'one-yen', 'univest', 'staff-reduction', 'macheski', 'floating-rate', 'ratners', 'express-buick', '16,072', 'single-lot', 'super-absorbent', 'tete-a-tete', 'page-one', 'pricings', 'hallwood', 'family-planning', '877,663', 'sept.30', '12\\\\/32', 'dydee', 'superpremiums', 'boogieman', 'more-efficient', 'lightning-fast', 'seven-yen', '7.422', 'melt-textured', 'multi-crystal', '377.60', 'money-center', 'bellringers', 'nylev', 'mutual-fund', 'machine-gun-toting', '38.375', 'fetal-tissue', '100-megabyte', '352.9', 'house-senate', 'cash-rich', 'mortgage-based', 'mehrens', 'pro-iranian', '11,762', 'high-rolling', 'wheel-loader', 'pattenden', 'synergistics', 'automotive-lighting', 'pre-1933', '5.276', 'anti-deficiency', '29year', '226,570,380', 'disaster-assistance', '20-stock', 'ntg', '415.8', 'macmillan\\\\/mcgraw-hill', 'landonne', '62%-owned', 'ft-se', '4,393,237', 'chong-sik', 'odd-year', 'cost-control', 'revenue-desperate', 'hasbrouk', 'tarwhine', 'rey\\\\/fawcett', 'trading-company', 'ensrud', 'ex-dividend', '446.62', '300-a-share', '618.1', '82,389', '967,809', '497.34', '6,799', 'northy', 'launch-vehicle', '1\\\\/2', '3,250,000', 'tiphook', '70-a-share', 'deposits-a', 'sub-markets', 'sometimes-exhausting', 'crystal-lattice', '158,666', 'bumkins', 'one-house', '372.9', 'sell-offs', 'two-time-losers', 'gingl', 'anti-miscarriage', '2\\\\/32', '456.64', '11,390,000', '154,240,000', 'guber\\\\/peters', 'limited-partnership', '734.9', '3,288,453', 'muscolina', 'noncompetitively', \"creator's\", 'yen-support', '361,376', '23,403', 'malizia', 'equity-purchase', '5,699', 'weapons-modernization', 'bald-faced', '12,252', 'language-housekeeper', 'water-authority', 'corn-buying', 'superdot', 'near-limit', 'sewing-machine', 'autions', 'senate-house', 'prudential-bache', 'four-foot-high', 'takeover-stock', 'moleculon', 'marketing-communications', 'high-rate', '1928-33', 'sport-utility', '2645.90', 'rubinfien', 'test-practice', 'forest-product', 'replacement-car', 'n.v', '-rcb-', 'aslacton', 'phacoflex', '13\\\\/16', 'blue-chips', 'three-lawyer', 'electrical-safety', 'war-rationed', 'hadson', 'anti-abortionists', 'ariail', 'crookery', 'breakey', 'housing-assistance', '1937-40', '143.08', 'industrial-production', 'egnuss', 'times-stock', 'bronces', 'top-yielding', 'copper-rich', 'preparatives', 'twin-jet', 'citizen-sparked', 'recession-inspired', 'intellectual-property', 'double-c', 'shareholder-rights', 'six-bottle', 'foldability', '566.54', 'asset-valuation', '69-point', 'nipponese', 'veraldi', 'crane-safety', 'parts-engineering', 'test-prep', '55-a-share', 'circuit-board', 'polyproplene', 'test-coaching', 'amphobiles', 'less-serious', '500,004', 'inter-tel', 'reupke', 'foreign-stock', '3,040,000', 'durable-goods', '34.625', 'radio-station', '127.03', '43.875', 'stock-selection', '45-a-share', 'wine-buying', 'quantitive', 'sino-u.s.', '2003\\\\/2007', 'potables', 'nesb', 'prior-year', '1.1650', 'information-services', 'antitrust-law', 'dust-up', '16.125', 'money-market', '374.20', 'diloreto', 'minimum-wage', 'savings-and-loan', '292.32', '14,821', 'nofzinger', '271-147', 'triple-a-rated', 'building-products', 'low-ability', '319.75', '143.93', 'romanee-conti', 'enzor', 'non-callable', '300-day', '237-seat', 'buttoned-down', 'yeargin', '-rrb-', 're-thought', '0.0085', 'write-downs', 'new-car', 'sometimes-tawdry', '2163.2', 'test-preparation', 'yet-to-be-formed', 'school-district', 'most-likely-successor', 'pathlogy', '84-month', 'drag-down', 'food-industry', '1206.26', 'wheeland', 'higher-salaried', '1.457', 'constitutional-law', 'life-insurance', 'satrum', 'iran\\\\/contra', 'macmillan\\\\/mcgraw', 'rope-sight', '142.84', 'disputado', 'unenticing', '361.8', 'chafic', 'three-sevenths', 'home-market', 'change-ringing', 'long-tenured', 'detective-story', 'incentive-backed', 'price-depressing', '1\\\\/4', 'eight-count', '26,956', 'collective-bargaining', 'junk-bond', 'bread-and-butter', 'red-flag', 'hart-scott-rodino', '630.9', 'labor-backed', 'manmade-fiber', 'buy-outs', 'nekoosa', 'index-fund', 'electric-utility', 'new-home', '100,980', 'lynch-mob', '5\\\\/8', 'drobnick', '520-lawyer', '3648.82', '13,056', 'pennview', 'unicorp', '263.07', 'profit-taking', 'secilia', 'student-test', 'rapanelli', 'year-ago', 'truth-in-lending', 'sidak', 'cop-killer', 'middle-ground', 'besuboru', 'investor-relations', 'financial-services', 'mariotta', 'corton-charlemagne', 'property\\\\/casualty', 'intecknings', '87-store', 'odd-sounding', 'trettien', 'mininum-wage', 'high-polluting', 'freudtoy', '1.5755', 'uzi-model', 'greenmailer', 'bell-ringer', 'kalipharma', '4.898', 'six-packs', 'shokubai', 'school-board', 'we-japanese', 'cents-a-unit', '737.5', 'one-newspaper', 'mouth-up', '188.84', '16\\\\/32', 'stock-index', 'two-sevenths', 'morale-damaging', 'highest-pitched', 'lap-shoulder', '170,262', 'scypher', '494.50', 'centerbank', 'arighi', 'exxon-owned', 'triple-c', 'sanderoff', 'post-hearing', 'product-design', '22\\\\/32', 'colorliner', 'acquisition-minded', 'built-from-kit', 'pension-fund', 'nearly-30', 'prevalance', 'g.m.b', 'veselich', 'purhasing', 'pre-1917', 'securities-based', 'wfrr', 'twindam', 'anti-china', 'freshbake', 'program-trading', 'protein-1', '35500.64', 'interleukin-3', 'less-than-brilliant', 'biondi-santi', 'vinken', 'propagandizes', '5.435', 'money-fund', '129.91', 'custom-chip', 'wamre', 'waertsilae', 'contingency-fee', 'lezovich', '190-point', '6\\\\/2', '230-215', 'anku', 'norwick', 'automotive-parts', 'million-a-year', '142.85', 'tissue-transplant', 'yoshihashi', 'wtd', '-lrb-', 'lobsenz', '11\\\\/16', 'college-bowl', 'index-options', 'anti-program', '83,206', 'computer-system-design', '387.8', 'big-ticket', 'cray-3', 'alurralde', 'summer\\\\/winter', 'lafite-rothschild', 'passenger-car', 'security-type', 'small-company', 'chilver', 'sub-segments', 'car-care', 'ghkm', 'year-earlier', '2691.19', 'derchin', '62.625', 'liquid-nitrogen', 'roof-crush', 'severable', '341.20', 'school-research', 'state-supervised', 'yttrium-containing', 'futures-related', 'thin-lipped', 'stock-picking', '14\\\\/32', 'search-and-seizure', 'mega-stadium', 'anti-takeover', 'glenham', 'heavy-truck', 'diceon', 'subskills', 'sacramento-based', '71,309', 'samnick', '2141.7', 'one-country', 'one-upsmanship', 'certin', 'corporate-wide', '36-store', 'anti-morning-sickness', 'acid-rain', '120-a-share', '449.04', 'capital-gains', '-lcb-', 'savers\\\\/investors', 'walbrecher', 'news-american', 'sticker-shock', '131.01', 'monchecourt', 'delwin', 'c.d.s', 'several-year', 'arbitraging', 'nissho-iwai', 'rexinger', 'meinders', '3436.58', 'bermuda-based', 'insider-trading', 'red-blooded', 'gates-warren', 'stock-specialist', '1.637', 'abortion-related', 'nagymaros', 'merger-related', '18-a-share', 'garden-variety', 'car-development', 'crocidolite', 'church-goers', 'jalaalwalikraam', 'industry-supported', 'car-safety', 'waymar', 'capital-markets', 'market-share', '1738.1', 'cup-tote', 'circuit-breaker', '300-113', 'achievement-test', 'test-drive', 'jerritts', 'more-advanced', '50\\\\/50', 'free-enterprise', 'pro-forma', '126.15', 'prize-fighter', '13.625', 'larger-than-normal', '9\\\\/32', 'school-improvement', '236.79', 'stirlen', 'solaia', 'subindustry', '3.253', 'investment-grade', 'blood-cell', 'substance-abusing', 'derel', 'band-wagon', 'early-retirement', '1.8415', 'index-related', 'market-makers', '2,050-passenger', '35564.43', 'bankruptcy-law', '3\\\\/4', 'above-market', '705.6', 'headcount-control', 'stock-price', 'anti-programmers', 'old-house', '7.458', '7\\\\/8', 'non-encapsulating', 'akerfeldt', 'ingersoll-rand', '1\\\\/10th', 'ednie', 'credit-rating', 'motor-home', '436.01', 'cash-and-stock', 'purepac', 'boorse', 'subminimum', 'johnson-era', 'government-certified', 'high-balance', '220.45', 'subskill', '37-a-share', 'micronite', 'pianist-comedian', 'stock-manipulation', 'rate-sensitive', '38.875', 'foreign-led', 'light-truck', '7.272', 'bridgestone\\\\/firestone', '236.74', 'bank-backed', 'colonsville', 'social-studies', 'low-ball', 'nih-appointed', 'forest-products', 'flightiness', 'front-seat', 'then-speaker', 'per-share', 'continuingly', 'hummerstone', '374.19', '90-cent-an-hour', 'conn.based', 'much-larger', 'energy-services', 'flim-flammery', 'telephone-information', 'disputada', '11-month-old', '1\\\\/8', 'when-issued', '7\\\\/16', 'insurance-company', 'incentive-bonus', 'food-shop', 'midwesco', 'c-90', 'index-arbitrage', 'mutchin', '811.9', '95.09', 'computer-services', 'trockenbeerenauslesen', 'executive-office'}\n",
            "\n",
            "There are 676 OOV\n"
          ]
        }
      ]
    },
    {
      "cell_type": "code",
      "source": [
        "def isNumber(n):\n",
        "  if n == 'nan':\n",
        "    return False\n",
        "\n",
        "  try:\n",
        "    float(n)\n",
        "    return True\n",
        "  except:\n",
        "    return False\n",
        "\n",
        "vocab_keys = embedder.vocab.keys()\n",
        "vocab_array = np.array(list(vocab_keys))\n",
        "str_number_keys = [n for n in vocab_keys if isNumber(n)]\n",
        "number_keys = np.array(str_number_keys, dtype=np.float32)\n",
        "\n",
        "def correct_typo(word, threshold=1):\n",
        "  if word in vocab_keys:\n",
        "    return word\n",
        "\n",
        "  if re.match('[a-z]', word): #avoid to use Levenshtein on numbers\n",
        "    dist = lambda elem: Levenshtein.distance(word, elem)\n",
        "    distances = np.vectorize(dist)(vocab_array)\n",
        "    idx_min = np.argmin(distances)\n",
        "    if distances[idx_min] <= threshold:\n",
        "      return vocab_array[idx_min]\n",
        "\n",
        "  #maybe it is a number, convert to the nearest one\n",
        "  try:\n",
        "    word = word.replace(',', '')\n",
        "    number = float(word)\n",
        "\n",
        "    idx = np.argmin(np.abs(number_keys - number))\n",
        "    return str_number_keys[idx]\n",
        "\n",
        "  except:\n",
        "    pass\n",
        "\n",
        "\n",
        "\n",
        "def handling_OOV(words, OOV, embedder):\n",
        "  '''\n",
        "  Try to check if OOV are due to:\n",
        "     1)Decimal numbers; \n",
        "     2)words separated by special character (-, \\\\/)compuound words ;\n",
        "     3)Words compuound by two words present in the vocabulary; \n",
        "     4)Typos;\n",
        "  '''\n",
        "\n",
        "  '''\n",
        "  Words separated by special characters are encoded using the embedding of the two words.\n",
        "  For other words we just check the spelling and try to approximate number.\n",
        "  '''\n",
        "  print(\"Correcting numbers, typos and words separated by special characters.\")\n",
        "  for w in tqdm(OOV):\n",
        "   try:\n",
        "    if '-' in w:\n",
        "      subWords = w.split('-')\n",
        "      embedded_words = [embedder[correct_typo(subW)] for subW in subWords if subW]\n",
        "      embedder.add([w], [np.mean(embedded_words, axis=0)])\n",
        "    \n",
        "    elif '\\\\/' in w:\n",
        "      subWords = w.split('\\\\/')\n",
        "      embedded_words = [embedder[correct_typo(subW)] for subW in subWords]\n",
        "      embedder.add([w], [np.mean(embedded_words, axis=0)])\n",
        "\n",
        "    else:\n",
        "      embedder.add([w], [embedder[correct_typo(w)]])\n",
        "\n",
        "   except:\n",
        "    pass\n",
        "\n",
        "  \n",
        "  OOV = set(words).difference(set(embedder.vocab.keys()))\n",
        "  print(\"There are\", len(OOV), \"OOV\")\n",
        "  \n",
        "  # Compound words\n",
        "  print('Analyzing compound words')\n",
        "  for w in tqdm(OOV):\n",
        "    for i in range(2, len(w)-2):\n",
        "      w1 = w[:i]\n",
        "      w2 = w[i:]\n",
        "      if w1 in vocab_keys and w2 in vocab_keys:\n",
        "        embedding = (embedder[w1] + embedder[w2]) / 2\n",
        "        embedder.add([w], [embedding])\n",
        "        break\n",
        "\n",
        "  embedder.add(['62%-owned'], [(embedder['.62']+embedder['owned'])/2])\n",
        "\n",
        "  \n",
        "  OOV = set(words).difference(set(embedder.vocab.keys()))\n",
        "  print(\"There are\", len(OOV), \"OOV\")\n",
        "\n",
        "  # Typos\n",
        "  print('Correcting typos with Levenshtein distance up to 2')\n",
        "  for w in tqdm(OOV):\n",
        "   try:\n",
        "    new_w = correct_typo(w, threshold=2)\n",
        "    embedder.add([w], [embedder[new_w]])\n",
        "   except:\n",
        "    pass\n",
        "\n",
        "  OOV = set(words).difference(set(embedder.vocab.keys()))\n",
        "  print(\"\\nThere are\", len(OOV), \"OOV\")\n",
        "  return"
      ],
      "metadata": {
        "id": "3RIdJtLXk3vU"
      },
      "execution_count": 12,
      "outputs": []
    },
    {
      "cell_type": "code",
      "source": [
        "handling_OOV(words, OOV, embedder)"
      ],
      "metadata": {
        "id": "n0VSyq04k88D",
        "outputId": "d5a5752f-f8f5-4257-ed46-b357681bcdfb",
        "colab": {
          "base_uri": "https://localhost:8080/"
        }
      },
      "execution_count": 13,
      "outputs": [
        {
          "output_type": "stream",
          "name": "stdout",
          "text": [
            "Correcting numbers, typos and words separated by special characters.\n"
          ]
        },
        {
          "output_type": "stream",
          "name": "stderr",
          "text": [
            "100%|██████████| 676/676 [00:50<00:00, 13.31it/s]\n"
          ]
        },
        {
          "output_type": "stream",
          "name": "stdout",
          "text": [
            "There are 77 OOV\n",
            "Analyzing compound words\n"
          ]
        },
        {
          "output_type": "stream",
          "name": "stderr",
          "text": [
            "100%|██████████| 77/77 [00:00<00:00, 88.21it/s]\n"
          ]
        },
        {
          "output_type": "stream",
          "name": "stdout",
          "text": [
            "There are 18 OOV\n",
            "Correcting typos with Levenshtein distance up to 2\n"
          ]
        },
        {
          "output_type": "stream",
          "name": "stderr",
          "text": [
            "100%|██████████| 18/18 [00:05<00:00,  3.36it/s]"
          ]
        },
        {
          "output_type": "stream",
          "name": "stdout",
          "text": [
            "\n",
            "There are 8 OOV\n"
          ]
        },
        {
          "output_type": "stream",
          "name": "stderr",
          "text": [
            "\n"
          ]
        }
      ]
    },
    {
      "cell_type": "code",
      "source": [
        "print('After processing')\n",
        "print('There are ', len(set(OOV_train).difference(set(embedder.vocab.keys()))), ' OOV in the train set')\n",
        "print('There are ', len(set(OOV_val).difference(set(embedder.vocab.keys()))), ' OOV in the val set')\n",
        "print('There are ', len(set(OOV_test).difference(set(embedder.vocab.keys()))), ' OOV in the test set')"
      ],
      "metadata": {
        "id": "Gq5jPOaHk-Lo",
        "colab": {
          "base_uri": "https://localhost:8080/"
        },
        "outputId": "bbe44efd-01b6-48a5-c4cd-9db3ba4efbc0"
      },
      "execution_count": 14,
      "outputs": [
        {
          "output_type": "stream",
          "name": "stdout",
          "text": [
            "After processing\n",
            "There are  6  OOV in the train set\n",
            "There are  2  OOV in the val set\n",
            "There are  0  OOV in the test set\n"
          ]
        }
      ]
    },
    {
      "cell_type": "markdown",
      "source": [
        "Adding the remaining words randomly."
      ],
      "metadata": {
        "id": "ioBZxTEvfpLh"
      }
    },
    {
      "cell_type": "code",
      "source": [
        "OOV = set(words).difference(set(embedder.vocab.keys()))\n",
        "OOV_value = np.random.uniform(low=-0.05, high=0.05, size=(len(OOV), EMBEDDING_SIZE))\n",
        "embedder.add(list(OOV), OOV_value)"
      ],
      "metadata": {
        "id": "OgCb8v7RhFAi"
      },
      "execution_count": 15,
      "outputs": []
    },
    {
      "cell_type": "markdown",
      "metadata": {
        "id": "QsAgPfRqStWK"
      },
      "source": [
        "# Dataset analysis"
      ]
    },
    {
      "cell_type": "code",
      "metadata": {
        "colab": {
          "base_uri": "https://localhost:8080/"
        },
        "id": "LT0pl2UG0H0O",
        "outputId": "e04172b0-f4ca-4a05-8496-0505c0205298"
      },
      "source": [
        "print(\"The max sentence length in training set is\", max_length)\n",
        "print(f'There are {len(train_stops)} sentences in the training set')\n",
        "print(f'There are {len(labels)} labels')\n",
        "print(f'There are {len(words)} unique words, {len(OOV)} of them are OOV')"
      ],
      "execution_count": 16,
      "outputs": [
        {
          "output_type": "stream",
          "name": "stdout",
          "text": [
            "The max sentence length in training set is 67\n",
            "There are 2046 sentences in the training set\n",
            "There are 45 labels\n",
            "There are 10947 unique words, 8 of them are OOV\n"
          ]
        }
      ]
    },
    {
      "cell_type": "markdown",
      "metadata": {
        "id": "ys_LD3OQc7Si"
      },
      "source": [
        "## Plot dataset distribution\n",
        "\n",
        "Train, validation and test set more or less follows the same distribution and they share similar characteristics.  \n",
        "Validation and test sets can be considered representative."
      ]
    },
    {
      "cell_type": "code",
      "metadata": {
        "id": "FsUG2Cee8vMU",
        "colab": {
          "base_uri": "https://localhost:8080/",
          "height": 421
        },
        "outputId": "6ed2cbbd-50a2-4341-82b8-7f247a857f97"
      },
      "source": [
        "train_counts = train_set.groupby(by='label').count()\n",
        "train_counts = train_counts / len(train_set) * 100\n",
        "val_counts = val_set.groupby(by='label').count()\n",
        "val_counts = val_counts / len(val_set) * 100\n",
        "val_counts = val_counts.reindex(labels, fill_value=0)\n",
        "test_counts = test_set.groupby(by='label').count()\n",
        "test_counts = test_counts / len(test_set) * 100\n",
        "test_counts = test_counts.reindex(labels, fill_value=0)\n",
        "ind = np.arange(len(labels))\n",
        "\n",
        "plt.figure(figsize=(18,6))\n",
        "width = 0.2       \n",
        "plt.bar(ind, train_counts.loc[labels, 'word'] , width, label='Train set');\n",
        "plt.bar(ind + width, val_counts.loc[labels, 'word'], width, label='Validation set');\n",
        "plt.bar(ind + 2*width, test_counts.loc[labels, 'word'], width, label='Test set');\n",
        "\n",
        "plt.xlabel('Labels');\n",
        "plt.ylabel('Count %');\n",
        "plt.title('Dataset distribution');\n",
        "\n",
        "plt.xticks(ind + width / 3, labels, rotation=45);\n",
        "plt.legend();"
      ],
      "execution_count": null,
      "outputs": [
        {
          "output_type": "display_data",
          "data": {
            "image/png": "[encoded data removed]",
            "text/plain": [
              "<Figure size 1296x432 with 1 Axes>"
            ]
          },
          "metadata": {
            "needs_background": "light"
          }
        }
      ]
    },
    {
      "cell_type": "code",
      "metadata": {
        "id": "dpuY1KPGZzKn",
        "colab": {
          "base_uri": "https://localhost:8080/",
          "height": 295
        },
        "outputId": "c3db59ae-89cf-4207-c649-a35115a7f7ca"
      },
      "source": [
        "counts_word = train_set.groupby('word').count().to_numpy()[:, 0]\n",
        "\n",
        "plt.plot(np.sort(counts_word)[::-1]);\n",
        "plt.yscale('log')\n",
        "\n",
        "plt.xlabel('Words');\n",
        "plt.ylabel('Count');\n",
        "plt.title('Word distribution (log scale)');"
      ],
      "execution_count": null,
      "outputs": [
        {
          "output_type": "display_data",
          "data": {
            "image/png": "[encoded data removed]",
            "text/plain": [
              "<Figure size 432x288 with 1 Axes>"
            ]
          },
          "metadata": {
            "needs_background": "light"
          }
        }
      ]
    },
    {
      "cell_type": "code",
      "metadata": {
        "id": "WvBvMKm8Da9J",
        "colab": {
          "base_uri": "https://localhost:8080/",
          "height": 974
        },
        "outputId": "4db7e3f3-5dc0-42a7-9909-08e06cf2458f"
      },
      "source": [
        "def make_plot(sentences, name):\n",
        "  f = plt.figure(figsize=(12, 5))\n",
        "  ax1 = plt.subplot(121)\n",
        "  ax2 = plt.subplot(122)\n",
        "\n",
        "  ax1.hist(sentences.count()['word'], bins=250);\n",
        "  ax1.set_title(f\"Sentence length distribution ({name})\");\n",
        "\n",
        "  ax2.boxplot(sentences.count()['word']);\n",
        "  ax2.set_title(f\"Boxplot for sentence length ({name})\");\n",
        "\n",
        "name_sentences = {\n",
        "    'train': train_grouped,\n",
        "    'validation': val_grouped,\n",
        "    'test': test_grouped\n",
        "}\n",
        "\n",
        "for name in name_sentences:\n",
        "  make_plot(name_sentences[name], name)"
      ],
      "execution_count": null,
      "outputs": [
        {
          "output_type": "display_data",
          "data": {
            "image/png": "[encoded data removed]",
            "text/plain": [
              "<Figure size 864x360 with 2 Axes>"
            ]
          },
          "metadata": {
            "needs_background": "light"
          }
        },
        {
          "output_type": "display_data",
          "data": {
            "image/png": "[encoded data removed]",
            "text/plain": [
              "<Figure size 864x360 with 2 Axes>"
            ]
          },
          "metadata": {
            "needs_background": "light"
          }
        },
        {
          "output_type": "display_data",
          "data": {
            "image/png": "[encoded data removed]",
            "text/plain": [
              "<Figure size 864x360 with 2 Axes>"
            ]
          },
          "metadata": {
            "needs_background": "light"
          }
        }
      ]
    },
    {
      "cell_type": "markdown",
      "metadata": {
        "id": "Qa9eCkjMwHsO"
      },
      "source": [
        "# Create RNN, Optimizer and DataLoader classes\n"
      ]
    },
    {
      "cell_type": "code",
      "metadata": {
        "id": "4qKGsuBvwKk6"
      },
      "source": [
        "class RNN(nn.Module):\n",
        "  \"\"\"\n",
        "    architecture: str\n",
        "      'LSTM'   : the baseline architecture\n",
        "      '2-LSTM' : 2 LSTM layers\n",
        "      '2-FC'   : 2 Dense Layers\n",
        "      'GRU'    : Gated Recurrent Unit\n",
        "  \"\"\"\n",
        "  def __init__(self, architecture, input_dim, hidden_size, output_size, dropout, device):\n",
        "    super(RNN, self).__init__()\n",
        "    self.architecture = architecture\n",
        "    self.n_layers = 2 if architecture == '2-LSTM' else 1\n",
        "    self.dropout_in_rnn = dropout if self.n_layers > 1 else 0\n",
        "    self.output_size = output_size\n",
        "    self.hidden_size = hidden_size\n",
        "    self.device = device\n",
        "    \n",
        "    if self.architecture == 'GRU':\n",
        "      self.rnn = nn.GRU(input_dim, hidden_size, num_layers=self.n_layers, bidirectional=True, dropout=self.dropout_in_rnn)\n",
        "    else:\n",
        "      self.rnn = nn.LSTM(input_dim, hidden_size, num_layers=self.n_layers, bidirectional=True, dropout=self.dropout_in_rnn)\n",
        "\n",
        "    self.dropout_layer = nn.Dropout(p=dropout)\n",
        "\n",
        "    if self.architecture == '2-FC':\n",
        "      self.fc = nn.Sequential(\n",
        "          nn.Linear(self.hidden_size*2, self.hidden_size),\n",
        "          nn.Dropout(p=dropout),\n",
        "          nn.Linear(self.hidden_size, output_size)\n",
        "      )\n",
        "    else:\n",
        "      self.fc = nn.Linear(self.hidden_size*2, output_size)\n",
        "\n",
        "\n",
        "\n",
        "  def forward(self, input):\n",
        "    input = input.permute(1, 0, 2)\n",
        "\n",
        "    hidden_state = torch.randn(self.n_layers*2, input.shape[1], self.hidden_size).to(self.device)\n",
        "    if self.architecture == 'GRU':\n",
        "      hidden = hidden_state\n",
        "    else:\n",
        "      cell_state = torch.randn(self.n_layers*2, input.shape[1], self.hidden_size).to(self.device)\n",
        "      hidden = (hidden_state, cell_state)\n",
        "\n",
        "    out, hidden = self.rnn(input, hidden)\n",
        "\n",
        "    out = self.dropout_layer(out)\n",
        "\n",
        "    #process timesteps independently \n",
        "    logits = self.fc(out.view(-1, out.size(2)))\n",
        "    \n",
        "    output = logits.view(input.shape[0], input.shape[1], self.output_size)\n",
        "\n",
        "    return output.permute(1, 0, 2).contiguous()\n",
        "\n",
        "\n",
        "  def prediction(self, input: DataLoader):\n",
        "    \n",
        "    self.eval()\n",
        "    with torch.no_grad():\n",
        "\n",
        "      y_pred = torch.Tensor().to(self.device)\n",
        "      for data in input:  \n",
        "        words = data['words'].to(device)\n",
        "        lengths = data['lengths'].to(device)\n",
        "        scores = self(words)\n",
        "        classes_predicted = torch.argmax(scores, 2)\n",
        "\n",
        "        for i, length in enumerate(lengths):\n",
        "          y_pred = torch.cat((y_pred, classes_predicted[i, :length]), 0)\n",
        "    \n",
        "    self.train()\n",
        "    return y_pred\n",
        "\n",
        "\n",
        "  def accuracy(self, input: DataLoader):\n",
        "    num_correct = 0\n",
        "    num_samples = 0\n",
        "    self.eval()\n",
        "    \n",
        "    with torch.no_grad():\n",
        "        for data in input:\n",
        "            word = data['words'].to(device)\n",
        "            labels = data['labels'].to(device)\n",
        "            labels = labels.squeeze(-1)\n",
        "            \n",
        "            lengths = data['lengths'].to(device)\n",
        "\n",
        "            scores = self(word)\n",
        "            classes_predicted = torch.argmax(scores, 2)\n",
        "\n",
        "            for i, length in enumerate(lengths):\n",
        "              num_correct += torch.eq(classes_predicted[i, :length], labels[i, :length]).sum().item()\n",
        "\n",
        "            num_samples += lengths.sum()\n",
        "        \n",
        "    \n",
        "    return num_correct/num_samples\n",
        "\n"
      ],
      "execution_count": 17,
      "outputs": []
    },
    {
      "cell_type": "code",
      "metadata": {
        "id": "2MCssLkB8TUg"
      },
      "source": [
        "class Optimization:\n",
        "    def __init__(self, model, loss_fn, optimizer):\n",
        "        self.model = model\n",
        "        self.loss_fn = loss_fn\n",
        "        self.optimizer = optimizer\n",
        "        self.history = []\n",
        "    \n",
        "    def train_step(self, x, y):\n",
        "        self.model.train()\n",
        "        yhat = self.model(x)\n",
        "\n",
        "        yhat = yhat.reshape(-1, yhat.shape[-1])\n",
        "        y = y.flatten()\n",
        "\n",
        "        loss = self.loss_fn(yhat, y)\n",
        "        self.history.append(loss.item())\n",
        "        loss.backward()\n",
        "\n",
        "        self.optimizer.step()\n",
        "        self.optimizer.zero_grad()\n",
        "\n",
        "        return loss.item()"
      ],
      "execution_count": 18,
      "outputs": []
    },
    {
      "cell_type": "code",
      "metadata": {
        "id": "PpwRlpy68pSP"
      },
      "source": [
        "class MyDataset(Dataset):\n",
        "  def __init__(self, dataframe, embedder, encoder, max_length=None):\n",
        "    self.max_length = max_length if max_length else dataframe.count().max()['word']\n",
        "    self.dataframe = dataframe\n",
        "    self.embedder = embedder\n",
        "    self.encoder = encoder\n",
        "\n",
        "  def __len__(self):\n",
        "    return len(self.dataframe)\n",
        "\n",
        "  def __getitem__(self, idx):\n",
        "    sentence = self.dataframe.get_group(idx)[:self.max_length]\n",
        "\n",
        "    labels = np.array(sentence['label'], dtype = str).reshape(-1, 1)\n",
        "    encoded_labels = self.encoder.transform(labels)\n",
        "    encoded_words = self.embedder[sentence['word']]\n",
        "\n",
        "    return {'words': encoded_words, 'labels': encoded_labels, 'lengths': len(sentence)}"
      ],
      "execution_count": 19,
      "outputs": []
    },
    {
      "cell_type": "code",
      "source": [
        "def collate_fn_pad(batch):\n",
        "    batch_dict = []\n",
        "    lengths = torch.Tensor([sample['lengths'] for sample in batch])\n",
        "    padded_words = pad_sequence([torch.Tensor(sample['words']) for sample in batch], batch_first=True)\n",
        "    padded_labels = pad_sequence([torch.Tensor(sample['labels']) for sample in batch], batch_first=True, padding_value=-1)\n",
        "\n",
        "    return {'words': padded_words, 'labels': padded_labels.long(), 'lengths': lengths.int()}\n"
      ],
      "metadata": {
        "id": "kMAPwSCcqo97"
      },
      "execution_count": 20,
      "outputs": []
    },
    {
      "cell_type": "markdown",
      "metadata": {
        "id": "Moz4o3S4_YyY"
      },
      "source": [
        "# Training"
      ]
    },
    {
      "cell_type": "code",
      "source": [
        "%load_ext tensorboard\n",
        "%tensorboard --logdir=\"logs\""
      ],
      "metadata": {
        "id": "Li_cU3KAIaDg",
        "colab": {
          "base_uri": "https://localhost:8080/",
          "height": 821
        },
        "outputId": "ea127911-6cb5-4088-c7a4-51009e5e83ef"
      },
      "execution_count": null,
      "outputs": [
        {
          "output_type": "display_data",
          "data": {
            "application/javascript": [
              "\n",
              "        (async () => {\n",
              "            const url = new URL(await google.colab.kernel.proxyPort(6006, {'cache': true}));\n",
              "            url.searchParams.set('tensorboardColab', 'true');\n",
              "            const iframe = document.createElement('iframe');\n",
              "            iframe.src = url;\n",
              "            iframe.setAttribute('width', '100%');\n",
              "            iframe.setAttribute('height', '800');\n",
              "            iframe.setAttribute('frameborder', 0);\n",
              "            document.body.appendChild(iframe);\n",
              "        })();\n",
              "    "
            ],
            "text/plain": [
              "<IPython.core.display.Javascript object>"
            ]
          },
          "metadata": {}
        }
      ]
    },
    {
      "cell_type": "markdown",
      "source": [
        "## Training and tuning functions"
      ],
      "metadata": {
        "id": "fMOAz4J6gzN-"
      }
    },
    {
      "cell_type": "code",
      "source": [
        "def training_loop(model: nn.Module, \n",
        "                  train_set: torch.utils.data.DataLoader,\n",
        "                  val_set: torch.utils.data.DataLoader,\n",
        "                  n_epochs: int,\n",
        "                  optimization: Optimization,\n",
        "                  save_path: str,\n",
        "                  load_model: Optional[str] = None,\n",
        "                  writer: Optional[SummaryWriter] = None):\n",
        "  \n",
        "  if load_model:\n",
        "    model.load_state_dict(torch.load(load_model))\n",
        "\n",
        "  model.to(device)\n",
        "  train_acc = np.zeros(n_epochs)\n",
        "  val_acc = np.zeros(n_epochs)\n",
        "  best_acc = 0\n",
        "  scheduler = ReduceLROnPlateau(optimizer, mode='max', factor=0.1, \n",
        "                                patience=10, threshold=0.0001, threshold_mode='rel', cooldown=0, \n",
        "                                min_lr=0, eps=1e-08, verbose=False)\n",
        "\n",
        "  for epoch in range(n_epochs):\n",
        "    print(f'Epoch {epoch+1}')\n",
        "\n",
        "    for data in tqdm(train_set):\n",
        "      w = data['words'].to(device)\n",
        "      l = data['labels'].to(device)\n",
        "      optimization.train_step(w, l)\n",
        "      \n",
        "    print(f'loss:{optimization.history[epoch] : .3f}')\n",
        "    train_acc[epoch] = model.accuracy(train_set)\n",
        "    print(f'train acc:{train_acc[epoch]}')\n",
        "    val_acc[epoch] = model.accuracy(val_set)\n",
        "    print(f'val acc:{val_acc[epoch]}')\n",
        "    \n",
        "    scheduler.step(val_acc[epoch])\n",
        "\n",
        "    writer.add_scalars('Loss', {\"Train\": optimization.history[epoch]}, epoch)\n",
        "    writer.add_scalars('Train Acc', {\"Train\": val_acc[epoch]}, epoch)\n",
        "    writer.add_scalars('Val Acc', {\"Train\": val_acc[epoch]}, epoch)\n",
        "    writer.flush()\n",
        "\n",
        "    if val_acc[epoch] > best_acc:\n",
        "      torch.save(model.state_dict(), save_path)\n",
        "      best_acc = val_acc[epoch]\n",
        "      print(f'Model saved at {save_path}')\n",
        "      \n",
        "  writer.close()\n",
        "  print(f'\\n Best model at epoch {np.argmax(val_acc) + 1}')\n",
        "\n",
        "  return best_acc"
      ],
      "metadata": {
        "id": "2vQvpGglNAYf"
      },
      "execution_count": 30,
      "outputs": []
    },
    {
      "cell_type": "code",
      "source": [
        "def tuning_loop(train_loader: torch.utils.data.DataLoader,\n",
        "                val_loader: torch.utils.data.DataLoader,\n",
        "                sup_epochs: int,\n",
        "                search: dict, \n",
        "                writer: Optional[SummaryWriter] = None):\n",
        "\n",
        "  best_model_acc = 0\n",
        "  config = []\n",
        "  for architecture, hidden_dim, dropout in itertools.product(search['architecture'], \n",
        "                                                             search['hidden_dim'], \n",
        "                                                             search['dropout']):\n",
        "    print('='*15)\n",
        "    print('New setting with', architecture)\n",
        "    print('hidden_dim :', hidden_dim)\n",
        "    print('dropout :', dropout)\n",
        "\n",
        "    model = RNN(architecture, EMBEDDING_SIZE, hidden_dim, len(labels), dropout, device)\n",
        "    model.to(device)\n",
        "    loss = nn.CrossEntropyLoss(ignore_index=-1)\n",
        "    optimizer = optim.Adam(model.parameters())\n",
        "    optimization = Optimization(model, loss, optimizer)\n",
        "\n",
        "    path = f'model-{architecture}-{hidden_dim}-{dropout}.pkl'\n",
        "    n_epochs = int(sup_epochs * dropout)\n",
        "    best_acc = training_loop(model, train_loader, val_loader, n_epochs, optimization, path, False, writer=writer)\n",
        "\n",
        "    if best_acc > best_model_acc:\n",
        "      config = [hidden_dim, dropout]\n",
        "      best_model_acc = best_acc\n",
        "      new_path = f'model-{architecture}'\n",
        "      !\\cp $path $new_path\n",
        "\n",
        "  print(f'\\n Best model config : {config} with accuracy {best_model_acc}')"
      ],
      "metadata": {
        "id": "Ydu2_VLkB84u"
      },
      "execution_count": 22,
      "outputs": []
    },
    {
      "cell_type": "code",
      "source": [
        "def hyper_tuning_loop(train_loader: torch.utils.data.DataLoader,\n",
        "                val_loader: torch.utils.data.DataLoader,\n",
        "                sup_epochs: int,\n",
        "                search: dict, \n",
        "                writer: Optional[SummaryWriter] = None):\n",
        "\n",
        "  best_model_acc = 0\n",
        "  config = []\n",
        "  for lr, beta1, beta2, weight_decay, eps in itertools.product(search['lr'], \n",
        "                                                             search['beta1'], \n",
        "                                                             search['beta2'],\n",
        "                                                             search['weight_decay'],\n",
        "                                                             search['eps']\n",
        "                                                             ):\n",
        "    print('='*15)\n",
        "    print('lr:', lr)\n",
        "    print('beta1 :', beta1)\n",
        "    print('beta2 :', beta2)\n",
        "    print('weight decay :', weight_decay)\n",
        "    print('eps :', eps)\n",
        "\n",
        "\n",
        "    path = f'model-{lr}-{beta1}-{beta2}-{weight_decay}-{eps}.pkl'\n",
        "\n",
        "    model = RNN('2-FC', EMBEDDING_SIZE, 128, len(labels), 0.6, device)\n",
        "    model.to(device)\n",
        "    loss = nn.CrossEntropyLoss(ignore_index=-1)\n",
        "    optimizer = optim.Adam(model.parameters())\n",
        "    optimization = Optimization(model, loss, optimizer)\n",
        "\n",
        "    n_epochs = sup_epochs\n",
        "    best_acc = training_loop(model, train_loader, val_loader, n_epochs, optimization, path, False, writer=writer)\n",
        "\n",
        "    if best_acc > best_model_acc:\n",
        "      config = [lr, beta1, beta2, weight_decay, eps]\n",
        "      best_model_acc = best_acc\n",
        "      new_path = f'model-2FC'\n",
        "      !\\cp $path $new_path\n",
        "\n",
        "  print(f'\\n Best model config : {config} with accuracy {best_model_acc}')"
      ],
      "metadata": {
        "id": "0_keVTcwCX6Z"
      },
      "execution_count": 32,
      "outputs": []
    },
    {
      "cell_type": "markdown",
      "source": [
        "## Start tuning"
      ],
      "metadata": {
        "id": "qylGENCbg8RB"
      }
    },
    {
      "cell_type": "code",
      "source": [
        "search = {'architecture': ['LSTM', '2-LSTM', '2-FC', 'GRU'],\n",
        "          'hidden_dim': [128, 256, 512],\n",
        "          'dropout': [0.4, 0.6, 0.8]\n",
        "          }\n"
      ],
      "metadata": {
        "id": "Rt_I9itTPbHQ"
      },
      "execution_count": null,
      "outputs": []
    },
    {
      "cell_type": "code",
      "source": [
        "search_hyp= {'lr': [1e-1, 1e-2, 1e-3],\n",
        "          'beta1': [0.85, 0.9, 0.95],\n",
        "          'beta2': [0.9, 0.99, 0.999],\n",
        "          'weight_decay': [0, 0.05, 0.1],\n",
        "          'eps': [1e-7, 1e-8, 1e-9]\n",
        "}"
      ],
      "metadata": {
        "id": "0BtY6ZGvCaYJ"
      },
      "execution_count": 34,
      "outputs": []
    },
    {
      "cell_type": "code",
      "source": [
        "train_set = MyDataset(train_grouped, embedder, encoder)\n",
        "train_loader = DataLoader(train_set, batch_size=8, shuffle=True, collate_fn=collate_fn_pad)\n",
        "\n",
        "validation = MyDataset(val_grouped, embedder, encoder)\n",
        "val_loader = DataLoader(validation, batch_size=len(validation), collate_fn=collate_fn_pad)"
      ],
      "metadata": {
        "id": "LZif9p5fhEyr"
      },
      "execution_count": 24,
      "outputs": []
    },
    {
      "cell_type": "code",
      "source": [
        "from torch.optim.lr_scheduler import ReduceLROnPlateau"
      ],
      "metadata": {
        "id": "XfA1NrqJDef3"
      },
      "execution_count": 25,
      "outputs": []
    },
    {
      "cell_type": "code",
      "source": [
        "model = RNN('2-FC', EMBEDDING_SIZE, 128, len(labels), 0.6, device)\n",
        "model.to(device)\n",
        "loss = nn.CrossEntropyLoss(ignore_index=-1)\n",
        "optimizer = optim.Adam(model.parameters())\n",
        "optimization = Optimization(model, loss, optimizer)"
      ],
      "metadata": {
        "id": "KxC9qDOVDyQ5"
      },
      "execution_count": 27,
      "outputs": []
    },
    {
      "cell_type": "code",
      "source": [
        "scheduler = ReduceLROnPlateau(optimizer, mode='min', factor=0.1, patience=10, threshold=0.0001, threshold_mode='rel', cooldown=0, min_lr=0, eps=1e-08, verbose=False)"
      ],
      "metadata": {
        "id": "speaSHNFDaKD"
      },
      "execution_count": 29,
      "outputs": []
    },
    {
      "cell_type": "code",
      "source": [
        "SUP_EPOCHS = 60\n",
        "writer = torch.utils.tensorboard.writer.SummaryWriter(log_dir=os.path.join(\"logs\", \"BiLSTM\"))\n",
        "\n",
        "hyper_tuning_loop(train_loader, val_loader, SUP_EPOCHS, search_hyp, writer)"
      ],
      "metadata": {
        "id": "dX2aqrjvDUJo",
        "outputId": "925145ed-fbbf-44da-8e07-48f8556b1c35",
        "colab": {
          "base_uri": "https://localhost:8080/"
        }
      },
      "execution_count": null,
      "outputs": [
        {
          "output_type": "stream",
          "name": "stdout",
          "text": [
            "===============\n",
            "lr: 0.1\n",
            "beta1 : 0.85\n",
            "beta2 : 0.9\n",
            "weight decay : 0\n",
            "eps : 1e-07\n",
            "Epoch 1\n"
          ]
        },
        {
          "output_type": "stream",
          "name": "stderr",
          "text": [
            "100%|██████████| 256/256 [00:05<00:00, 47.04it/s]\n"
          ]
        },
        {
          "output_type": "stream",
          "name": "stdout",
          "text": [
            "loss: 3.804\n",
            "train acc:0.6986231803894043\n",
            "val acc:0.6815893054008484\n",
            "Model saved at model-0.1-0.85-0.9-0-1e-07.pkl\n",
            "Epoch 2\n"
          ]
        },
        {
          "output_type": "stream",
          "name": "stderr",
          "text": [
            "100%|██████████| 256/256 [00:05<00:00, 47.96it/s]\n"
          ]
        },
        {
          "output_type": "stream",
          "name": "stdout",
          "text": [
            "loss: 3.797\n",
            "train acc:0.7654995918273926\n",
            "val acc:0.7477150559425354\n",
            "Model saved at model-0.1-0.85-0.9-0-1e-07.pkl\n",
            "Epoch 3\n"
          ]
        },
        {
          "output_type": "stream",
          "name": "stderr",
          "text": [
            "100%|██████████| 256/256 [00:05<00:00, 49.71it/s]\n"
          ]
        },
        {
          "output_type": "stream",
          "name": "stdout",
          "text": [
            "loss: 3.770\n",
            "train acc:0.8007221817970276\n",
            "val acc:0.776448667049408\n",
            "Model saved at model-0.1-0.85-0.9-0-1e-07.pkl\n",
            "Epoch 4\n"
          ]
        },
        {
          "output_type": "stream",
          "name": "stderr",
          "text": [
            "100%|██████████| 256/256 [00:05<00:00, 49.81it/s]\n"
          ]
        },
        {
          "output_type": "stream",
          "name": "stdout",
          "text": [
            "loss: 3.736\n",
            "train acc:0.8266534209251404\n",
            "val acc:0.803835391998291\n",
            "Model saved at model-0.1-0.85-0.9-0-1e-07.pkl\n",
            "Epoch 5\n"
          ]
        },
        {
          "output_type": "stream",
          "name": "stderr",
          "text": [
            "100%|██████████| 256/256 [00:05<00:00, 50.25it/s]\n"
          ]
        },
        {
          "output_type": "stream",
          "name": "stdout",
          "text": [
            "loss: 3.697\n",
            "train acc:0.8435044884681702\n",
            "val acc:0.816694974899292\n",
            "Model saved at model-0.1-0.85-0.9-0-1e-07.pkl\n",
            "Epoch 6\n"
          ]
        },
        {
          "output_type": "stream",
          "name": "stderr",
          "text": [
            "100%|██████████| 256/256 [00:05<00:00, 50.10it/s]\n"
          ]
        },
        {
          "output_type": "stream",
          "name": "stdout",
          "text": [
            "loss: 3.684\n",
            "train acc:0.8544429540634155\n",
            "val acc:0.8279831409454346\n",
            "Model saved at model-0.1-0.85-0.9-0-1e-07.pkl\n",
            "Epoch 7\n"
          ]
        },
        {
          "output_type": "stream",
          "name": "stderr",
          "text": [
            "100%|██████████| 256/256 [00:05<00:00, 50.05it/s]\n"
          ]
        },
        {
          "output_type": "stream",
          "name": "stdout",
          "text": [
            "loss: 3.612\n",
            "train acc:0.8654869198799133\n",
            "val acc:0.8381810188293457\n",
            "Model saved at model-0.1-0.85-0.9-0-1e-07.pkl\n",
            "Epoch 8\n"
          ]
        },
        {
          "output_type": "stream",
          "name": "stderr",
          "text": [
            "100%|██████████| 256/256 [00:05<00:00, 49.85it/s]\n"
          ]
        },
        {
          "output_type": "stream",
          "name": "stdout",
          "text": [
            "loss: 3.578\n",
            "train acc:0.8744403719902039\n",
            "val acc:0.8477374911308289\n",
            "Model saved at model-0.1-0.85-0.9-0-1e-07.pkl\n",
            "Epoch 9\n"
          ]
        },
        {
          "output_type": "stream",
          "name": "stderr",
          "text": [
            "100%|██████████| 256/256 [00:05<00:00, 49.14it/s]\n"
          ]
        },
        {
          "output_type": "stream",
          "name": "stdout",
          "text": [
            "loss: 3.535\n",
            "train acc:0.8802897334098816\n"
          ]
        }
      ]
    },
    {
      "cell_type": "markdown",
      "source": [
        "After tuning all the possible combinations of hyperparameters and architectures, the results are pretty similar. Across the architectures, usually, the  best combination of hyperparameters is: \n",
        "* hidden_dim = 128\n",
        "* dropout = 0.6\n",
        "\n",
        "2-LSTM and 2-FC perform slightly better, so we decide to train them."
      ],
      "metadata": {
        "id": "vXj5F2_zheNL"
      }
    },
    {
      "cell_type": "markdown",
      "source": [
        "# Confusion Matrix and Report\n"
      ],
      "metadata": {
        "id": "esRWaE1pRiWx"
      }
    },
    {
      "cell_type": "code",
      "source": [
        "punctuation = np.array([',', '.', '``', \"''\",  ':', '#', '$' ])\n",
        "mask = np.array([l not in punctuation for l in labels], dtype=int)\n",
        "no_punc_labels = labels[mask == 1]\n",
        "\n",
        "y_pred= model.prediction(val_loader)\n",
        "y_true_encoded = encoder.transform(np.array(val_set['label']).reshape(-1,1))"
      ],
      "metadata": {
        "id": "6Kwi9P0NlMsU"
      },
      "execution_count": null,
      "outputs": []
    },
    {
      "cell_type": "code",
      "source": [
        "report = classification_report(y_true_encoded, y_pred.cpu(), target_names=labels, output_dict=True, zero_division = 1)"
      ],
      "metadata": {
        "id": "WYcCEqcARIiY"
      },
      "execution_count": null,
      "outputs": []
    },
    {
      "cell_type": "code",
      "source": [
        "from prettytable import PrettyTable\n",
        "\n",
        "class_table = PrettyTable(['Class', 'Precision', 'Recall', 'f1-score', 'support'])\n",
        "\n",
        "macro_avg = np.zeros(3)\n",
        "weighted_avg = np.zeros(3)\n",
        "samples = int(report['macro avg']['support'])\n",
        "\n",
        "for label in no_punc_labels:\n",
        "  class_table.add_row([str(label), report[label]['precision'], report[label]['recall'], report[label]['f1-score'], report[label]['support']])\n",
        "  macro_avg += np.array([report[label]['precision'], report[label]['recall'], report[label]['f1-score']], dtype=int)\n",
        "  weighted_avg += np.array([report[label]['precision'], report[label]['recall'], report[label]['f1-score']], dtype=int)*int(report[label]['support'])\n",
        "\n",
        "print(class_table)\n",
        "\n",
        "macro_avg = macro_avg/len(no_punc_labels)\n",
        "weighted_avg = weighted_avg/samples\n",
        "\n",
        "average_table = PrettyTable(['Average', 'Precision', 'Recall', 'f1-score', 'accuracy'])\n",
        "average_table.add_row(['macro avg', macro_avg[0],  macro_avg[1],  macro_avg[2], report['accuracy']])\n",
        "average_table.add_row(['weighted avg', weighted_avg[0],  weighted_avg[1],  weighted_avg[2], report['accuracy']])\n",
        "\n",
        "print(average_table)"
      ],
      "metadata": {
        "colab": {
          "base_uri": "https://localhost:8080/"
        },
        "id": "uJ5BAno2DT0d",
        "outputId": "5840c111-2c89-46ff-ca5b-0d831029d8c8"
      },
      "execution_count": null,
      "outputs": [
        {
          "output_type": "stream",
          "name": "stdout",
          "text": [
            "+-------+------------------------+------------------------+-----------------------+---------+\n",
            "| Class |       Precision        |         Recall         |        f1-score       | support |\n",
            "+-------+------------------------+------------------------+-----------------------+---------+\n",
            "|  NNP  |          0.0           |          0.0           |          0.0          |    15   |\n",
            "|   CD  |          0.0           |          0.0           |          0.0          |   225   |\n",
            "|  NNS  |          0.0           |          0.0           |          0.0          |   1528  |\n",
            "|   JJ  |  0.08333333333333333   |          0.02          |  0.03225806451612903  |    50   |\n",
            "|   MD  |          0.0           |          0.0           |          0.0          |    53   |\n",
            "|   VB  |          0.0           |          0.0           |          0.0          |   1277  |\n",
            "|   DT  |          0.0           |          0.0           |          0.0          |   214   |\n",
            "|   NN  |  0.008620689655172414  |  0.006596306068601583  |  0.007473841554559044 |   758   |\n",
            "|   IN  |  0.044444444444444446  | 0.0016012810248198558  | 0.0030911901081916537 |   1249  |\n",
            "|  VBZ  |          0.0           |          0.0           |          0.0          |    34   |\n",
            "|  VBG  |          0.0           |          0.0           |          0.0          |    2    |\n",
            "|   CC  |          0.0           |          0.0           |          0.0          |   3275  |\n",
            "|  VBD  |  0.051929824561403506  |  0.038461538461538464  |  0.04419229620782323  |   1924  |\n",
            "|  VBN  |          0.0           |          0.0           |          0.0          |   165   |\n",
            "|   RB  |          0.0           |          0.0           |          0.0          |    58   |\n",
            "|   TO  |          0.0           |          0.0           |          0.0          |    3    |\n",
            "|  PRP  |          0.0           |          0.0           |          0.0          |   347   |\n",
            "|  RBR  |          0.25          | 0.00044316419233325947 | 0.0008847600088476001 |   4513  |\n",
            "|  WDT  |          1.0           | 0.0003698224852071006  | 0.0007393715341959334 |   2704  |\n",
            "|  VBP  |          0.0           |          0.0           |          0.0          |   105   |\n",
            "|   RP  |          0.06          |  0.004281636536631779  |  0.007992895204262877 |   2102  |\n",
            "|  PRP$ |          0.0           |          0.0           |          0.0          |    14   |\n",
            "|  JJS  |          0.0           |          0.0           |          0.0          |   269   |\n",
            "|  POS  |  0.004374627162457745  |  0.03859649122807018   |  0.007858546168958742 |   570   |\n",
            "|   EX  |          0.0           |          0.0           |          0.0          |   951   |\n",
            "|   WP  |          0.0           |          0.0           |          0.0          |    13   |\n",
            "|  JJR  |          0.0           |          1.0           |          0.0          |    0    |\n",
            "|  WRB  |          0.0           |          0.0           |          0.0          |   765   |\n",
            "|  NNPS |          0.0           |          0.0           |          0.0          |   956   |\n",
            "|  WP$  |          0.0           |          0.0           |          0.0          |   861   |\n",
            "| -LRB- |  0.01574997531351832   |   0.6701680672268907   |  0.030776652194886643 |   476   |\n",
            "| -RRB- |          0.0           |          0.0           |          0.0          |   737   |\n",
            "|  PDT  |          0.0           |          0.0           |          0.0          |   460   |\n",
            "|  RBS  |          0.0           |          0.0           |          0.0          |   712   |\n",
            "|   FW  |          0.0           |          0.0           |          0.0          |   157   |\n",
            "|   UH  |  0.02040816326530612   |         0.0125         |  0.015503875968992246 |    80   |\n",
            "|  SYM  |          0.0           |          0.0           |          0.0          |    4    |\n",
            "|   LS  | 0.00047393364928909954 |  0.016129032258064516  | 0.0009208103130755065 |    62   |\n",
            "+-------+------------------------+------------------------+-----------------------+---------+\n",
            "+--------------+---------------------+---------------------+----------+----------------------+\n",
            "|   Average    |      Precision      |        Recall       | f1-score |       accuracy       |\n",
            "+--------------+---------------------+---------------------+----------+----------------------+\n",
            "|  macro avg   | 0.02631578947368421 | 0.02631578947368421 |   0.0    | 0.014078183625693488 |\n",
            "| weighted avg |  0.0867139146329731 |         0.0         |   0.0    | 0.014078183625693488 |\n",
            "+--------------+---------------------+---------------------+----------+----------------------+\n"
          ]
        }
      ]
    },
    {
      "cell_type": "code",
      "source": [
        "cm = confusion_matrix(y_true_encoded, y_pred.cpu())\n",
        "\n",
        "plt.rcParams[\"figure.figsize\"] = (10, 8)\n",
        "ax= plt.subplot()\n",
        "sns.heatmap(cm)\n",
        "\n",
        "# labels, title and ticks\n",
        "ax.set_xlabel('Predicted labels');\n",
        "ax.set_ylabel('True labels'); \n",
        "ax.set_title('Confusion Matrix'); \n",
        "ax.xaxis.set_ticklabels(labels.flatten()); \n",
        "plt.xticks(rotation=90);\n",
        "ax.yaxis.set_ticklabels(labels.flatten());\n",
        "plt.yticks(rotation=0);"
      ],
      "metadata": {
        "colab": {
          "base_uri": "https://localhost:8080/",
          "height": 526
        },
        "id": "MLGNTlFLdZMp",
        "outputId": "126f6cab-1c14-4e7f-ce52-e671cb4461c5"
      },
      "execution_count": null,
      "outputs": [
        {
          "output_type": "display_data",
          "data": {
            "image/png": "[encoded data removed]",
            "text/plain": [
              "<Figure size 720x576 with 2 Axes>"
            ]
          },
          "metadata": {
            "needs_background": "light"
          }
        }
      ]
    }
  ]
}