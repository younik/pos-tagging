{
  "nbformat": 4,
  "nbformat_minor": 0,
  "metadata": {
    "colab": {
      "name": "Assignment_1.ipynb",
      "provenance": [],
      "collapsed_sections": [
        "ys_LD3OQc7Si"
      ]
    },
    "kernelspec": {
      "name": "python3",
      "display_name": "Python 3"
    },
    "accelerator": "GPU"
  },
  "cells": [
    {
      "cell_type": "markdown",
      "metadata": {
        "id": "-WeCeITXoxLf"
      },
      "source": [
        "# Assignment 1\n",
        "\n",
        "**Due to**: 23/12/2021 (dd/mm/yyyy)\n",
        "\n",
        "**Credits**: Andrea Galassi, Federico Ruggeri, Paolo Torroni\n",
        "\n",
        "**Summary**: Part-of Speech (POS) tagging as Sequence Labelling using Recurrent Neural Architectures"
      ]
    },
    {
      "cell_type": "markdown",
      "metadata": {
        "id": "a4_wqPdlBcKS"
      },
      "source": [
        "# Intro\n",
        "\n",
        "In this assignment  we will ask you to perform POS tagging using neural architectures\n",
        "\n",
        "You are asked to follow these steps:\n",
        "*   Download the corpora and split it in training and test sets, structuring a dataframe.\n",
        "*   Embed the words using GloVe embeddings\n",
        "*   Create a baseline model, using a simple neural architecture\n",
        "*   Experiment doing small modifications to the baseline model, choose hyperparameters using the validation set\n",
        "*   Evaluate your two best model\n",
        "*   Analyze the errors of your model\n",
        "\n",
        "\n",
        "**Task**: given a corpus of documents, predict the POS tag for each word\n",
        "\n",
        "**Corpus**:\n",
        "Ignore the numeric value in the third column, use only the words/symbols and its label. \n",
        "The corpus is available at:\n",
        "https://raw.githubusercontent.com/nltk/nltk_data/gh-pages/packages/corpora/dependency_treebank.zip\n",
        "\n",
        "**Splits**: documents 1-100 are the train set, 101-150 validation set, 151-199 test set.\n",
        "\n",
        "\n",
        "**Features**: you MUST use GloVe embeddings as the only input features to the model.\n",
        "\n",
        "**Splitting**: you can decide to split documents into sentences or not, the choice is yours.\n",
        "\n",
        "**I/O structure**: The input data will have three dimensions: 1-documents/sentences, 2-token, 3-features; for the output there are 2 possibilities: if you use one-hot encoding it will be 1-documents/sentences, 2-token labels, 3-classes, if you use a single integer that indicates the number of the class it will be 1-documents/sentences, 2-token labels.\n",
        "\n",
        "**Baseline**: two layers architecture: a Bidirectional LSTM layer and a Dense/Fully-Connected layer on top; the choice of hyper-parameters is yours.\n",
        "\n",
        "**Architectures**: experiment using a GRU instead of the LSTM, adding an additional LSTM layer, and adding an additional dense layer; do not mix these variantions.\n",
        "\n",
        "\n",
        "**Training and Experiments**: all the experiments must involve only the training and validation sets.\n",
        "\n",
        "**Evaluation**: in the end, only the two best models of your choice (according to the validation set) must be evaluated on the test set. The main metric must be F1-Macro computed between the various part of speech. DO NOT CONSIDER THE PUNCTUATION CLASSES.\n",
        "\n",
        "**Metrics**: the metric you must use to evaluate your final model is the F1-macro, WITHOUT considering punctuation/symbols classes; during the training process you can use accuracy because you can't use the F1 metric unless you use a single (gigantic) batch because there is no way to aggregate \"partial\" F1 scores computed on mini-batches.\n",
        "\n",
        "**Discussion and Error Analysis** : verify and discuss if the results on the test sets are coherent with those on the validation set; analyze the errors done by your model, try to understand which may be the causes and think about how to improve it.\n",
        "\n",
        "**Report**: you are asked to deliver the code of your experiments and a small pdf report of about 2 pages; the pdf must begin with the names of the people of your team and a small abstract (4-5 lines) that sums up your findings.\n",
        "\n",
        "# Out Of Vocabulary (OOV) terms\n",
        "\n",
        "How to handle words that are not in GloVe vocabulary?\n",
        "You can handle them as you want (random embedding, placeholder, whatever!), but they must be STATIC embeddings (you cannot train them).\n",
        "\n",
        "But there is a very important caveat! As usual, the element of the test set must not influence the elements of the other splits!\n",
        "\n",
        "So, when you compute new embeddings for train+validation, you must forget about test documents.\n",
        "The motivation is to emulate a real-world scenario, where you select and train a model in the first stage, without knowing nothing about the testing environment.\n",
        "\n",
        "For implementation convenience, you CAN use a single vocabulary file/matrix/whatever. The principle of the previous point is that the embeddings inside that file/matrix must be generated independently for train and test splits.\n",
        "\n",
        "Basically in a real-world scenario, this is what would happen:\n",
        "1. Starting vocabulary V1 (in this assignment, GloVe vocabulary)\n",
        "2. Compute embeddings for terms out of vocabulary V1 (OOV1) of the training split \n",
        "3. Add embeddings to the vocabulary, so to obtain vocabulary V2=V1+OOV1\n",
        "4. Training of the model(s)\n",
        "5. Compute embeddings for terms OOV2 of the validation split \n",
        "6. Add embeddings to the vocabulary, so to obtain vocabulary V3=V1+OOV1+OOV2\n",
        "7. Validation of the model(s)\n",
        "8. Compute embeddings for terms OOV3 of the test split \n",
        "9. Add embeddings to the vocabulary, so to obtain vocabulary V4=V1+OOV1+OOV2+OOV3\n",
        "10. Testing of the final model\n",
        "\n",
        "In this case, where we already have all the documents, we can simplify the process a bit, but the procedure must remain rigorous.\n",
        "\n",
        "1. Starting vocabulary V1 (in this assignment, GloVe vocabulary)\n",
        "2. Compute embeddings for terms out of vocabulary V1 (OOV1) of the training split \n",
        "3. Add embeddings to the vocabulary, so to obtain vocabulary V2=V1+OOV1\n",
        "4. Compute embeddings for terms OOV2 of the validation split \n",
        "5. Add embeddings to the vocabulary, so to obtain vocabulary V3=V1+OOV1+OOV2\n",
        "6. Compute embeddings for terms OOV3 of the test split \n",
        "7. Add embeddings to the vocabulary, so to obtain vocabulary V4=V1+OOV1+OOV2\n",
        "8. Training of the model(s)\n",
        "9. Validation of the model(s)\n",
        "10. Testing of the final model\n",
        "\n",
        "Step 2 and step 6 must be completely independent of each other, for what concerns the method and the documents. But they can rely on the previous vocabulary (V1 for step 2 and V3 for step 6)\n",
        "THEREFORE if a word is present both in the training set and the test split and not in the starting vocabulary, its embedding is computed in step 2) and it is not considered OOV anymore in step 6).\n",
        "\n",
        "# Report\n",
        "The report must not be just a copy and paste of graphs and tables!\n",
        "\n",
        "The report must not be longer than 2 pages and must contain:\n",
        "* The names of the member of your team\n",
        "* A short abstract (4-5 lines) that sum ups everything\n",
        "* A general description of the task you have addressed and how you have addressed it\n",
        "* A short description of the models you have used\n",
        "* Some tables that sum up your findings in validation and test and a discussion of those results\n",
        "* The most relevant findings of your error analysis\n",
        "\n",
        "# Evaluation Criterion\n",
        "\n",
        "The goal of this assignment is not to prove you can find best model ever, but to face a common task, structure it correctly, and follow a correct and rigorous experimental procedure.\n",
        "In other words, we don't care if you final models are awful as long as you have followed the correct procedure and wrote a decent report.\n",
        "\n",
        "The score of the assignment will be computed roughly as follows\n",
        "* 1 point for the general setting of the problem\n",
        "* 1 point for the handling of OOV terms\n",
        "* 1 point for the models\n",
        "* 1 point for train-validation-test procedure\n",
        "* 2 point for the discussion of the results, error analysis, and report\n",
        "\n",
        "This distribution of scores is tentative and we may decide to alter it at any moment.\n",
        "We also reserve the right to assign a small bonus (0.5 points) to any assignment that is particularly worthy. Similarly, in case of grave errors, we may decide to assign an equivalent malus (-0.5 points).\n",
        "\n",
        "# Contacts\n",
        "\n",
        "In case of any doubt, question, issue, or help we highly recommend you to check the [course useful material](https://virtuale.unibo.it/pluginfile.php/1036039/mod_resource/content/2/NLP_Course_Useful_Material.pdf) for additional information, and to use the Virtuale forums to discuss with other students.\n",
        "\n",
        "You can always contact us at the following email addresses. To increase the probability of a prompt response, we reccomend you to write to both the teaching assistants.\n",
        "\n",
        "Teaching Assistants:\n",
        "\n",
        "* Andrea Galassi -> a.galassi@unibo.it\n",
        "* Federico Ruggeri -> federico.ruggeri6@unibo.it\n",
        "\n",
        "Professor:\n",
        "\n",
        "* Paolo Torroni -> p.torroni@unibo.it\n",
        "\n",
        "\n",
        "# FAQ\n",
        "* You can use a non-trainable Embedding layer to load the glove embeddings\n",
        "* You can use any library of your choice to implement the networks. Two options are tensorflow/keras or pythorch. Both these libraries have all the classes you need to implement these simple architectures and there are plenty of tutorials around, where you can learn how to use them."
      ]
    },
    {
      "cell_type": "markdown",
      "metadata": {
        "id": "D8PgAJyy40SY"
      },
      "source": [
        "# Import libraries & download dataset"
      ]
    },
    {
      "cell_type": "code",
      "metadata": {
        "id": "caNU8UeFxupB",
        "colab": {
          "base_uri": "https://localhost:8080/"
        },
        "outputId": "fc2a3e0f-8fa5-4516-c2f1-16540335c3de"
      },
      "source": [
        "import os\n",
        "import pandas as pd\n",
        "import numpy as np\n",
        "import matplotlib.pyplot as plt\n",
        "import csv\n",
        "import seaborn as sns  \n",
        "from sklearn.metrics import confusion_matrix, classification_report\n",
        "\n",
        "import torch\n",
        "import torch.nn as nn\n",
        "from torch.utils.data import Dataset, DataLoader\n",
        "from torch.utils.tensorboard import SummaryWriter\n",
        "from torch.nn.utils.rnn import pad_sequence\n",
        "import torch.optim as optim\n",
        "from torch.optim.lr_scheduler import ReduceLROnPlateau\n",
        "\n",
        "from sklearn.preprocessing import OrdinalEncoder\n",
        "\n",
        "from tqdm import tqdm\n",
        "from typing import Optional\n",
        "\n",
        "import gensim\n",
        "import gensim.downloader as gloader  \n",
        "\n",
        "import re\n",
        "\n",
        "!pip install python-Levenshtein\n",
        "import Levenshtein\n",
        "\n",
        "!pip install pytorch-crf\n",
        "import torchcrf\n",
        "\n",
        "import itertools\n",
        "from functools import partial\n",
        "\n",
        "device = torch.device(\"cuda\" if torch.cuda.is_available() else \"cpu\")"
      ],
      "execution_count": 1,
      "outputs": [
        {
          "output_type": "stream",
          "name": "stdout",
          "text": [
            "Collecting python-Levenshtein\n",
            "  Downloading python-Levenshtein-0.12.2.tar.gz (50 kB)\n",
            "\u001b[?25l\r\u001b[K     |██████▌                         | 10 kB 17.0 MB/s eta 0:00:01\r\u001b[K     |█████████████                   | 20 kB 6.4 MB/s eta 0:00:01\r\u001b[K     |███████████████████▌            | 30 kB 4.1 MB/s eta 0:00:01\r\u001b[K     |██████████████████████████      | 40 kB 3.8 MB/s eta 0:00:01\r\u001b[K     |████████████████████████████████| 50 kB 2.5 MB/s \n",
            "\u001b[?25hRequirement already satisfied: setuptools in /usr/local/lib/python3.7/dist-packages (from python-Levenshtein) (57.4.0)\n",
            "Building wheels for collected packages: python-Levenshtein\n",
            "  Building wheel for python-Levenshtein (setup.py) ... \u001b[?25l\u001b[?25hdone\n",
            "  Created wheel for python-Levenshtein: filename=python_Levenshtein-0.12.2-cp37-cp37m-linux_x86_64.whl size=149866 sha256=76b3a81215cfe4bcdb84eb32848be9466fd9061f73662adfb32983200754cd16\n",
            "  Stored in directory: /root/.cache/pip/wheels/05/5f/ca/7c4367734892581bb5ff896f15027a932c551080b2abd3e00d\n",
            "Successfully built python-Levenshtein\n",
            "Installing collected packages: python-Levenshtein\n",
            "Successfully installed python-Levenshtein-0.12.2\n",
            "Collecting pytorch-crf\n",
            "  Downloading pytorch_crf-0.7.2-py3-none-any.whl (9.5 kB)\n",
            "Installing collected packages: pytorch-crf\n",
            "Successfully installed pytorch-crf-0.7.2\n"
          ]
        }
      ]
    },
    {
      "cell_type": "code",
      "metadata": {
        "id": "y2j0JgX8wpjH",
        "colab": {
          "base_uri": "https://localhost:8080/"
        },
        "outputId": "11249f50-cfc6-4cf5-b7a0-1eb64a97916a"
      },
      "source": [
        "!wget https://raw.githubusercontent.com/nltk/nltk_data/gh-pages/packages/corpora/dependency_treebank.zip\n",
        "!unzip -q dependency_treebank.zip"
      ],
      "execution_count": 2,
      "outputs": [
        {
          "output_type": "stream",
          "name": "stdout",
          "text": [
            "--2021-12-18 15:09:13--  https://raw.githubusercontent.com/nltk/nltk_data/gh-pages/packages/corpora/dependency_treebank.zip\n",
            "Resolving raw.githubusercontent.com (raw.githubusercontent.com)... 185.199.108.133, 185.199.109.133, 185.199.110.133, ...\n",
            "Connecting to raw.githubusercontent.com (raw.githubusercontent.com)|185.199.108.133|:443... connected.\n",
            "HTTP request sent, awaiting response... 200 OK\n",
            "Length: 457429 (447K) [application/zip]\n",
            "Saving to: ‘dependency_treebank.zip’\n",
            "\n",
            "dependency_treebank 100%[===================>] 446.71K  --.-KB/s    in 0.03s   \n",
            "\n",
            "2021-12-18 15:09:13 (12.7 MB/s) - ‘dependency_treebank.zip’ saved [457429/457429]\n",
            "\n"
          ]
        }
      ]
    },
    {
      "cell_type": "markdown",
      "metadata": {
        "id": "onQNYcuwCTiW"
      },
      "source": [
        "# Dataframe creation and split into train, val and test set\n",
        "\n",
        "The way to split the dataset is already defined:  \n",
        "train set : documents 1-100;  \n",
        "validation set : documents 101-150;  \n",
        "test set : documents 151-199;"
      ]
    },
    {
      "cell_type": "code",
      "metadata": {
        "id": "EADZWC3txls8"
      },
      "source": [
        "corpus_path = 'dependency_treebank/'\n",
        "file_list = sorted(os.listdir(corpus_path))\n",
        "\n",
        "dfs = [pd.read_csv(corpus_path + f, sep='\\t', names=['word', 'label', 'foo']).drop('foo', 1)\n",
        "          for f in file_list]\n",
        "\n",
        "\n",
        "dataset = pd.concat(dfs, ignore_index=True)\n",
        "dataset['word'] = dataset['word'].transform(lambda x : x.lower())  \n",
        "\n",
        "train_set = pd.concat(dfs[:100], ignore_index=True)\n",
        "train_set['word'] = train_set['word'].transform(lambda x : x.lower())\n",
        "\n",
        "val_set = pd.concat(dfs[100:150], ignore_index=True)\n",
        "val_set['word'] = val_set['word'].transform(lambda x : x.lower())\n",
        "\n",
        "test_set = pd.concat(dfs[150:199], ignore_index=True)\n",
        "test_set['word'] = test_set['word'].transform(lambda x : x.lower())\n",
        "\n",
        "labels = dataset['label'].unique()\n",
        "words = dataset['word'].unique()"
      ],
      "execution_count": 93,
      "outputs": []
    },
    {
      "cell_type": "code",
      "source": [
        "encoder = OrdinalEncoder(dtype=np.int64)\n",
        "encoder.fit(labels.reshape(-1, 1)) "
      ],
      "metadata": {
        "id": "4yRzzo9rgC8z",
        "outputId": "b3beec30-30bb-43c7-bd6a-63f69351ec73",
        "colab": {
          "base_uri": "https://localhost:8080/"
        }
      },
      "execution_count": 4,
      "outputs": [
        {
          "output_type": "execute_result",
          "data": {
            "text/plain": [
              "OrdinalEncoder(dtype=<class 'numpy.int64'>)"
            ]
          },
          "metadata": {},
          "execution_count": 4
        }
      ]
    },
    {
      "cell_type": "code",
      "source": [
        "EMBEDDING_SIZE = 50\n",
        "embedder = gloader.load(f'glove-wiki-gigaword-{EMBEDDING_SIZE}')"
      ],
      "metadata": {
        "id": "ouMAodz5jQh7",
        "outputId": "35979620-d93a-441b-e013-587c7fe82beb",
        "colab": {
          "base_uri": "https://localhost:8080/"
        }
      },
      "execution_count": 5,
      "outputs": [
        {
          "output_type": "stream",
          "name": "stdout",
          "text": [
            "[==================================================] 100.0% 66.0/66.0MB downloaded\n"
          ]
        }
      ]
    },
    {
      "cell_type": "markdown",
      "source": [
        "We started splitting documents in sentences using \n",
        "punctuation labelled as '.' as end of sentences."
      ],
      "metadata": {
        "id": "6thVZ3VqkX1l"
      }
    },
    {
      "cell_type": "code",
      "metadata": {
        "id": "ZQIUPI3h7DCl"
      },
      "source": [
        "train_stops = train_set[(train_set['label']=='.')].index\n",
        "max_length = max(train_stops[1:] - train_stops[:-1])\n",
        "\n",
        "val_stops = val_set[(val_set['label']=='.')].index\n",
        "max_length_val = max(val_stops[1:] - val_stops[:-1])\n",
        "\n",
        "test_stops = test_set[(test_set['label']=='.')].index\n",
        "max_length_test = max(test_stops[1:] - test_stops[:-1])\n",
        "\n",
        "\n",
        "OOV_train = set(train_set['word'].unique()).difference(set(embedder.vocab.keys()))\n",
        "OOV_val = set(val_set['word'].unique()).difference(set(embedder.vocab.keys()))\n",
        "OOV_test = set(test_set['word'].unique()).difference(set(embedder.vocab.keys()))"
      ],
      "execution_count": 6,
      "outputs": []
    },
    {
      "cell_type": "code",
      "source": [
        "print('Before pre-processing:')\n",
        "print(\"Train set unique words:\", len(train_set['word'].unique()))\n",
        "print('OOV:', len(OOV_train))\n",
        "print('Max sentence length', max_length)\n",
        "print(\"\\nValidation set unique words:\", len(val_set['word'].unique()))\n",
        "print('Max sentence length', max_length_val)\n",
        "print('OOV:', len(OOV_val))\n",
        "print(\"\\nTest set unique words:\", len(test_set['word'].unique()))\n",
        "print('Max sentence length', max_length_test)\n",
        "print('OOV:', len(OOV_test))"
      ],
      "metadata": {
        "id": "IIHU5fcWj8bd",
        "colab": {
          "base_uri": "https://localhost:8080/"
        },
        "outputId": "a5fb2c5a-b582-44ab-f58e-706372a071fd"
      },
      "execution_count": 7,
      "outputs": [
        {
          "output_type": "stream",
          "name": "stdout",
          "text": [
            "Before pre-processing:\n",
            "Train set unique words: 7404\n",
            "OOV: 359\n",
            "Max sentence length 250\n",
            "\n",
            "Validation set unique words: 5420\n",
            "Max sentence length 80\n",
            "OOV: 213\n",
            "\n",
            "Test set unique words: 3407\n",
            "Max sentence length 80\n",
            "OOV: 161\n"
          ]
        }
      ]
    },
    {
      "cell_type": "markdown",
      "source": [
        "Then we tried to improve the sentences splitting using also the semi-column"
      ],
      "metadata": {
        "id": "Oomp6hyQkd-h"
      }
    },
    {
      "cell_type": "code",
      "source": [
        "train_stops = train_set[(train_set['label']=='.') | (train_set['word']==';')].index\n",
        "max_length = max(train_stops[1:] - train_stops[:-1])\n",
        "\n",
        "val_stops = val_set[(val_set['label']=='.') | (val_set['word']==';')].index\n",
        "max_length_val = max(val_stops[1:] - val_stops[:-1])\n",
        "\n",
        "test_stops = test_set[(test_set['label']=='.') | (test_set['word']==';')].index\n",
        "max_length_test = max(test_stops[1:] - test_stops[:-1])"
      ],
      "metadata": {
        "id": "bMrXaArHkAJI"
      },
      "execution_count": 8,
      "outputs": []
    },
    {
      "cell_type": "code",
      "source": [
        "print('After processing')\n",
        "print('Max sentence length in Train Set:', max_length)\n",
        "print('Max sentence length in Validation Set:', max_length_val)\n",
        "print('Max sentence length in Test Set:', max_length_test)"
      ],
      "metadata": {
        "id": "eC-lWvmzkEmh",
        "colab": {
          "base_uri": "https://localhost:8080/"
        },
        "outputId": "940aca00-2728-498c-a982-a5ac727c7092"
      },
      "execution_count": 9,
      "outputs": [
        {
          "output_type": "stream",
          "name": "stdout",
          "text": [
            "After processing\n",
            "Max sentence length in Train Set: 67\n",
            "Max sentence length in Validation Set: 80\n",
            "Max sentence length in Test Set: 72\n"
          ]
        }
      ]
    },
    {
      "cell_type": "code",
      "source": [
        "def index_of_phrase(stops, word_idx):\n",
        "  return np.count_nonzero(word_idx > stops)\n",
        "\n",
        "print(\"Grouping train set\")\n",
        "train_index_phrase = np.vectorize(partial(index_of_phrase, train_stops))\n",
        "train_grouped = train_set.groupby(by=train_index_phrase)\n",
        "\n",
        "print(\"Grouping val set\")\n",
        "val_index_phrase = np.vectorize(partial(index_of_phrase, val_stops))\n",
        "val_grouped = val_set.groupby(by=val_index_phrase)\n",
        "\n",
        "print(\"Grouping test set\")\n",
        "test_index_phrase = np.vectorize(partial(index_of_phrase, test_stops))\n",
        "test_grouped = test_set.groupby(by=test_index_phrase)"
      ],
      "metadata": {
        "id": "y3RGGvmSkrJW",
        "outputId": "d1ad553b-289f-41e7-930d-1d5920955633",
        "colab": {
          "base_uri": "https://localhost:8080/"
        }
      },
      "execution_count": 10,
      "outputs": [
        {
          "output_type": "stream",
          "name": "stdout",
          "text": [
            "Grouping train set\n",
            "Grouping val set\n",
            "Grouping test set\n"
          ]
        }
      ]
    },
    {
      "cell_type": "markdown",
      "source": [
        "# OOV processing"
      ],
      "metadata": {
        "id": "KDww18DUTYSJ"
      }
    },
    {
      "cell_type": "code",
      "source": [
        "OOV = set(words).difference(set(embedder.vocab.keys()))\n",
        "print(OOV)\n",
        "print(\"\\nThere are\", len(OOV), \"OOV\")"
      ],
      "metadata": {
        "id": "8YSrcLB6ThSm",
        "colab": {
          "base_uri": "https://localhost:8080/"
        },
        "outputId": "6c3d0d0e-9d33-491a-fcc7-479ecbd257ea"
      },
      "execution_count": 11,
      "outputs": [
        {
          "output_type": "stream",
          "name": "stdout",
          "text": [
            "{'sept.30', '47.125', 'when-issued', '55-a-share', 'water-authority', 'veselich', 'stock-selection', 'parts-engineering', 'automotive-lighting', 'church-goers', 'pianist-comedian', '2645.90', '87-store', 'rate-sensitive', 'cleaner-burning', '415.8', 'conn.based', 'wine-buying', 'tissue-transplant', '131.01', '877,663', 'house-senate', '12\\\\/32', '170,262', 'anti-china', 'lower-priority', 'ballantine\\\\/del', 'pramual', 'tire-kickers', '16,072', 'six-bottle', 'pennview', 'light-truck', '361,376', 'newspaper-printing', 'collective-bargaining', '11,762', 'mutual-fund', 'c-90', 'weisfield', 'crane-safety', 'cents-a-unit', 'computer-system-design', 'bronces', 'bank-backed', '811.9', 'page-one', 'derel', '-lrb-', 'hart-scott-rodino', 'disputado', 'bread-and-butter', 'vitulli', 'junk-bond', 'electrical-safety', 'prudential-bache', '3,040,000', 'amphobiles', '158,666', 'summer\\\\/winter', 'chafic', 'enzor', '8.467', 'machine-gun-toting', '5.435', 'price-support', '2,303,328', 'labor-backed', 'red-flag', 'purepac', '45-a-share', 'solaia', '18-a-share', 'ensrud', 'flightiness', 'capital-gains', 'shareholder-rights', 'malizia', 'life-of-contract', 'non-callable', '300-day', 'life-insurance', '7\\\\/8', 'savers\\\\/investors', '387.8', 'lentjes', 'chilver', 'intelogic', 'sub-segments', 'pro-iranian', '2003\\\\/2007', 'muscolina', 'three-lawyer', 'near-limit', 'subminimum', '1\\\\/4', 'index-fund', 'new-home', 'auto-safety', 'home-market', '1.916', '14,821', 'one-newspaper', 'yen-denominated', 'interleukin-3', 'non-encapsulating', '7\\\\/16', 'shokubai', 'per-share', 'custom-chip', 'yet-to-be-formed', '11,390,000', '84-month', 'ac-130u', '374.20', 'veraldi', 'much-larger', '4,393,237', 'waymar', 'anti-deficiency', 'takeover-stock', 'express-buick', 'yen-support', 'contingency-fee', '271-147', 'market-makers', 'electric-utility', '-rrb-', '22\\\\/32', 'tete-a-tete', 'retin-a', 'test-preparation', '3057', 'single-lot', 'forest-product', 'ariail', 'war-rationed', 'high-polluting', '500,004', 'investment-grade', 'ednie', '372.9', 'acquisition-minded', 'wheel-loader', 'equity-purchase', 'midwesco', 'mortgage-based', '271,124', 'ctbs', 'stirlen', 'abortion-related', 'g.m.b', '16.125', 'change-ringing', 'potables', 'pattenden', 'program-trading', 'anti-morning-sickness', '1.637', 'insider-trading', 'glenham', '38.875', 'melt-textured', 'old-house', 'cash-rich', 'exxon-owned', 'crookery', 'univest', 'two-sevenths', 'noncompetitively', 'flim-flammery', '19-month-old', 'one-country', '129.91', '26,956', 'odd-sounding', '6,799', 'disaster-assistance', '230-215', 'colorliner', 'stock-index', 'greenmailer', 'mega-stadium', 'test-prep', 'derchin', 'trockenbeerenauslesen', 'double-c', 'college-bowl', 'rapanelli', 'sell-offs', 'new-car', '142.85', 'money-fund', 'walbrecher', 'building-products', 'unfair-trade', '5\\\\/8', 'prevalance', 'bell-ringer', '95.09', 'c.j.b.', 'staff-reduction', 'hasbrouk', 'jalaalwalikraam', 'we-japanese', 'superdot', 'buy-outs', '292.32', 'stock-price', 'nearly-30', '630.9', '2163.2', 'corn-buying', 'continuingly', '494.50', '361.8', '71,309', 'cop-killer', 'more-advanced', 'savings-and-loan', 'bermuda-based', 'twin-jet', '374.19', 'pathlogy', 'akerfeldt', 'credit-rating', '372.14', 'investor-relations', '236.74', 'super-absorbent', '70-a-share', 'macmillan\\\\/mcgraw-hill', 'cotran', 'high-balance', '62.625', '377.60', 'food-industry', '1\\\\/10th', '9,118', '-lcb-', 'student-test', 'post-hearing', 'one-house', 'yttrium-containing', '190-point', 'bellringers', 'non-biodegradable', 'rubinfien', 'substance-abusing', 'samnick', 'foldability', 'cost-control', 'red-blooded', '14\\\\/32', 'anti-programmers', 'government-certified', 'boogieman', '608,413', '12,252', 'video-viewing', '3648.82', 'wheeland', 'pension-fund', 'less-than-brilliant', 'million-a-year', 'incentive-bonus', 'cup-tote', 'subindustry', 'pricings', 'certin', 'price-depressing', 'most-likely-successor', '1206.26', 'sacramento-based', '300-113', '143.08', 'asset-valuation', '3\\\\/4', 'car-development', 'jerritts', 'blood-cell', 'sometimes-exhausting', 'egnuss', '35564.43', 'diceon', '1.8415', '705.6', 'revenue-desperate', '1.5755', '236.79', 'bald-faced', 'diloreto', 'futures-related', '143.93', 'sogo-shosha', 'blue-chips', 'chinchon', 'tarwhine', '120-a-share', 'heiwado', 'card-member', '5,699', 'ingersoll-rand', '143.80', 'nesb', 'nofzinger', 'propagandizes', 'sticker-shock', '0.0085', 'insurance-company', 'alurralde', '11\\\\/16', 'free-enterprise', 'incentive-backed', 'norwick', '237-seat', 'dydee', 'lynch-mob', '1.457', 'arbitraging', 'nipponese', '36-store', 'corton-charlemagne', '446.62', '2160.1', 'erbamont', '34.625', '43.875', 'clean-air', 'big-ticket', 'deposits-a', 'beer-belly', 'capital-markets', 'teacher-cadet', 'achievement-test', 'lightning-fast', 'index-arbitrage', '3.253', 'sidak', '16\\\\/32', 'scypher', '5.276', 'bridgestone\\\\/firestone', 'c.d.s', 'housing-assistance', 'disputada', 'sub-markets', 'meinders', 'drobnick', 'bottom-line', '319.75', 'roof-crush', '456.64', 'anti-abortionists', 'small-company', 'pre-1917', 'limited-partnership', 'equal-opportunity', '566.54', 'ratners', 'securities-based', 'crystal-lattice', 'recession-inspired', 'training-wage', 'odd-year', 'low-ball', '497.34', '8.575', 'truth-in-lending', '300-a-share', 'family-planning', 'school-board', 'yoshihashi', 'sanderoff', 'mutchin', 'wfrr', '278.7', 'sometimes-tawdry', 'highest-pitched', 'headcount-control', 'dollar-yen', 'radio-station', 'stock-picking', 'minicrash', 'mariotta', 'front-seat', 'test-coaching', 'three-sevenths', 'vinken', '7.458', 'higher-salaried', 'durable-goods', '38.375', 'citizen-sparked', 'security-type', 'guber\\\\/peters', 'phacoflex', 'waertsilae', 'four-foot-high', 'six-packs', 'inter-tel', 'nagymaros', 'trading-company', 'buttoned-down', 'crocidolite', 'foreign-led', 'johnson-era', 'year-ago', '69-point', 'band-wagon', 'search-and-seizure', '263.07', '2\\\\/32', '100,980', 'gates-warren', 'corporate-wide', 'arighi', 'hadson', '18,444', '226,570,380', 'minimum-wage', 'kalipharma', 'nissho-iwai', 'northy', 'top-yielding', '7.272', '50\\\\/50', 'merger-related', 'more-efficient', 'trettien', '8300s', '37-a-share', '9\\\\/32', 'safe-deposit', 'product-design', 'food-shop', '40-megabyte', '2141.7', \"creator's\", 'colonsville', 'fiber-end', 'lookee-loos', 'besuboru', 'makato', 'freudtoy', 'nih-appointed', '127.03', 'garden-variety', 'index-related', 'industry-supported', '13,056', '83,206', '6\\\\/2', 'senate-house', '142.84', 'then-speaker', 'constitutional-law', 'stock-specialist', 'high-rolling', 'land-idling', 'rey\\\\/fawcett', 'market-share', 'detective-story', '382-37', '126.15', 'unenticing', 'preparatives', 'sport-utility', 'wtd', 'stock-manipulation', 'one-upsmanship', 'hummerstone', '220.45', 'morale-damaging', 'seven-million-ton', '13.625', 'mininum-wage', 'circuit-breaker', 'biondi-santi', 'above-market', 're-thought', 'ghkm', 'landonne', 'severable', 'larger-than-normal', 'yeargin', 'subskills', '7.422', 'asset-sale', 'computer-services', '-rcb-', 'quantitive', '13\\\\/16', 'unicorp', '154,240,000', 'uzi-model', 'multi-crystal', '737.5', 'mouth-up', '3\\\\/8', 'lap-shoulder', 'pro-forma', '35500.64', '449.04', '3,288,453', 'macmillan\\\\/mcgraw', 'drag-down', 'lafite-rothschild', 'lezovich', 'triple-a-rated', 'cray-3', 'anti-miscarriage', '11-month-old', 'chong-sik', '1928-33', 'year-earlier', 'direct-investment', '434.4', 'heavy-truck', 'test-drive', 'thin-lipped', '352.7', '3436.58', '20-stock', 'side-crash', '5.2180', 'news-american', 'foreign-stock', 'social-studies', '30,841', '352.9', 'sharedata', 'louisiana-pacific', 'chemplus', 'financial-services', 'romanee-conti', 'times-stock', 'several-year', 'purhasing', 'computer-driven', 'antitrust-law', 'energy-services', '341.20', 'car-safety', 'intecknings', 'dead-eyed', 'sulfur-dioxide', 'motor-home', 'fetal-tissue', 'eight-count', 'lobsenz', 'arbitrage-related', 'boorse', 'delwin', 'ex-dividend', 'protein-1', '2,050-passenger', 'satrum', 'school-research', 'hallwood', '3,250,000', '234.4', 'test-practice', '734.9', 'sino-u.s.', 'school-district', 'high-rate', 'sewing-machine', 'long-tenured', 'anti-program', 'anti-takeover', 'superpremiums', 'monchecourt', 'secilia', '1.1650', '62%-owned', 'less-serious', 'breakey', '436.01', 'school-improvement', 'rexinger', 'copper-rich', 'cash-and-stock', 'one-yen', 'circuit-board', 'mehrens', 'synergistics', 'integra-a', 'macheski', 'executive-office', 'prize-fighter', 'dust-up', '618.1', 'reupke', 'profit-taking', '1\\\\/2', 'early-retirement', '82,389', 'state-supervised', '238,000-circulation', 'intellectual-property', 'money-center', '1\\\\/8', 'property\\\\/casualty', 'shirt-sleeved', 'micronite', 'tiphook', 'n.v', 'twindam', 'autions', '2691.19', 'index-options', '415.6', 'aslacton', 'manmade-fiber', 'weapons-modernization', 'anku', 'rope-sight', 'moleculon', '100-megabyte', 'freshbake', '967,809', '188.84', '1937-40', 'polyproplene', 'ntg', 'money-market', 'automotive-parts', '1738.1', 'low-ability', 'identity-management', 'bumkins', 'ft-se', 'built-from-kit', 'txo', '14.', 'co-developers', 'write-downs', 'liquid-nitrogen', 'telephone-information', 'information-services', 'nylev', 'launch-vehicle', 'airline-related', 'coche-dury', 'heebie-jeebies', 'gingl', 'acid-rain', 'pre-1933', 'prior-year', 'language-housekeeper', '23,403', '30,537', 'car-care', '95,142', 'herald-american', '520-lawyer', 'centerbank', 'iran\\\\/contra', 'seven-yen', 'industrial-production', '4.898', 'forest-products', 'bankruptcy-law', 'triple-c', 'marketing-communications', 'subskill', 'two-time-losers', 'floating-rate', 'wamre', 'nekoosa', '90-cent-an-hour', 'middle-ground', '29year', 'replacement-car', 'passenger-car'}\n",
            "\n",
            "There are 676 OOV\n"
          ]
        }
      ]
    },
    {
      "cell_type": "code",
      "source": [
        "def isNumber(n):\n",
        "  if n == 'nan':\n",
        "    return False\n",
        "\n",
        "  try:\n",
        "    float(n)\n",
        "    return True\n",
        "  except:\n",
        "    return False\n",
        "\n",
        "vocab_keys = embedder.vocab.keys()\n",
        "vocab_array = np.array(list(vocab_keys))\n",
        "str_number_keys = [n for n in vocab_keys if isNumber(n)]\n",
        "number_keys = np.array(str_number_keys, dtype=np.float32)\n",
        "\n",
        "def correct_typo(word, threshold=1):\n",
        "  if word in vocab_keys:\n",
        "    return word\n",
        "\n",
        "  if re.match('[a-z]', word): #avoid to use Levenshtein on numbers\n",
        "    dist = lambda elem: Levenshtein.distance(word, elem)\n",
        "    distances = np.vectorize(dist)(vocab_array)\n",
        "    idx_min = np.argmin(distances)\n",
        "    if distances[idx_min] <= threshold:\n",
        "      return vocab_array[idx_min]\n",
        "\n",
        "  #maybe it is a number, convert to the nearest one\n",
        "  try:\n",
        "    word = word.replace(',', '')\n",
        "    number = float(word)\n",
        "\n",
        "    idx = np.argmin(np.abs(number_keys - number))\n",
        "    return str_number_keys[idx]\n",
        "\n",
        "  except:\n",
        "    pass\n",
        "\n",
        "\n",
        "\n",
        "def handling_OOV(words, OOV, embedder):\n",
        "  '''\n",
        "  Try to check if OOV are due to:\n",
        "     1)Decimal numbers; \n",
        "     2)words separated by special character (-, \\\\/)compuound words ;\n",
        "     3)Words compuound by two words present in the vocabulary; \n",
        "     4)Typos;\n",
        "  '''\n",
        "\n",
        "  '''\n",
        "  Words separated by special characters are encoded using the embedding of the two words.\n",
        "  For other words we just check the spelling and try to approximate number.\n",
        "  '''\n",
        "  print(\"Correcting numbers, typos and words separated by special characters.\")\n",
        "  for w in tqdm(OOV):\n",
        "   try:\n",
        "    if '-' in w:\n",
        "      subWords = w.split('-')\n",
        "      embedded_words = [embedder[correct_typo(subW)] for subW in subWords if subW]\n",
        "      embedder.add([w], [np.mean(embedded_words, axis=0)])\n",
        "    \n",
        "    elif '\\\\/' in w:\n",
        "      subWords = w.split('\\\\/')\n",
        "      embedded_words = [embedder[correct_typo(subW)] for subW in subWords]\n",
        "      embedder.add([w], [np.mean(embedded_words, axis=0)])\n",
        "\n",
        "    else:\n",
        "      embedder.add([w], [embedder[correct_typo(w)]])\n",
        "\n",
        "   except:\n",
        "    pass\n",
        "\n",
        "  \n",
        "  OOV = set(words).difference(set(embedder.vocab.keys()))\n",
        "  print(\"There are\", len(OOV), \"OOV\")\n",
        "  \n",
        "  # Compound words\n",
        "  print('Analyzing compound words')\n",
        "  for w in tqdm(OOV):\n",
        "    for i in range(2, len(w)-2):\n",
        "      w1 = w[:i]\n",
        "      w2 = w[i:]\n",
        "      if w1 in vocab_keys and w2 in vocab_keys:\n",
        "        embedding = (embedder[w1] + embedder[w2]) / 2\n",
        "        embedder.add([w], [embedding])\n",
        "        break\n",
        "\n",
        "  embedder.add(['62%-owned'], [(embedder['.62']+embedder['owned'])/2])\n",
        "\n",
        "  \n",
        "  OOV = set(words).difference(set(embedder.vocab.keys()))\n",
        "  print(\"There are\", len(OOV), \"OOV\")\n",
        "\n",
        "  # Typos\n",
        "  print('Correcting typos with Levenshtein distance up to 2')\n",
        "  for w in tqdm(OOV):\n",
        "   try:\n",
        "    new_w = correct_typo(w, threshold=2)\n",
        "    embedder.add([w], [embedder[new_w]])\n",
        "   except:\n",
        "    pass\n",
        "\n",
        "  OOV = set(words).difference(set(embedder.vocab.keys()))\n",
        "  print(\"\\nThere are\", len(OOV), \"OOV\")\n",
        "  return"
      ],
      "metadata": {
        "id": "3RIdJtLXk3vU"
      },
      "execution_count": 12,
      "outputs": []
    },
    {
      "cell_type": "code",
      "source": [
        "handling_OOV(words, OOV, embedder)"
      ],
      "metadata": {
        "id": "n0VSyq04k88D",
        "outputId": "cd83f1d2-6cf4-4f9b-ab27-1ac08d59f7be",
        "colab": {
          "base_uri": "https://localhost:8080/"
        }
      },
      "execution_count": 13,
      "outputs": [
        {
          "output_type": "stream",
          "name": "stdout",
          "text": [
            "Correcting numbers, typos and words separated by special characters.\n"
          ]
        },
        {
          "output_type": "stream",
          "name": "stderr",
          "text": [
            "100%|██████████| 676/676 [01:03<00:00, 10.61it/s]\n"
          ]
        },
        {
          "output_type": "stream",
          "name": "stdout",
          "text": [
            "There are 77 OOV\n",
            "Analyzing compound words\n"
          ]
        },
        {
          "output_type": "stream",
          "name": "stderr",
          "text": [
            "100%|██████████| 77/77 [00:00<00:00, 118.89it/s]\n"
          ]
        },
        {
          "output_type": "stream",
          "name": "stdout",
          "text": [
            "There are 18 OOV\n",
            "Correcting typos with Levenshtein distance up to 2\n"
          ]
        },
        {
          "output_type": "stream",
          "name": "stderr",
          "text": [
            "100%|██████████| 18/18 [00:07<00:00,  2.42it/s]"
          ]
        },
        {
          "output_type": "stream",
          "name": "stdout",
          "text": [
            "\n",
            "There are 8 OOV\n"
          ]
        },
        {
          "output_type": "stream",
          "name": "stderr",
          "text": [
            "\n"
          ]
        }
      ]
    },
    {
      "cell_type": "code",
      "source": [
        "print('After processing')\n",
        "print('There are ', len(set(OOV_train).difference(set(embedder.vocab.keys()))), ' OOV in the train set')\n",
        "print('There are ', len(set(OOV_val).difference(set(embedder.vocab.keys()))), ' OOV in the val set')\n",
        "print('There are ', len(set(OOV_test).difference(set(embedder.vocab.keys()))), ' OOV in the test set')"
      ],
      "metadata": {
        "id": "Gq5jPOaHk-Lo",
        "colab": {
          "base_uri": "https://localhost:8080/"
        },
        "outputId": "1d7236a6-ed77-4a5b-abb3-36175a3f3c33"
      },
      "execution_count": 14,
      "outputs": [
        {
          "output_type": "stream",
          "name": "stdout",
          "text": [
            "After processing\n",
            "There are  6  OOV in the train set\n",
            "There are  2  OOV in the val set\n",
            "There are  0  OOV in the test set\n"
          ]
        }
      ]
    },
    {
      "cell_type": "markdown",
      "source": [
        "Adding the remaining words randomly."
      ],
      "metadata": {
        "id": "ioBZxTEvfpLh"
      }
    },
    {
      "cell_type": "code",
      "source": [
        "OOV = set(words).difference(set(embedder.vocab.keys()))\n",
        "OOV_value = np.random.uniform(low=-0.05, high=0.05, size=(len(OOV), EMBEDDING_SIZE))\n",
        "embedder.add(list(OOV), OOV_value)"
      ],
      "metadata": {
        "id": "OgCb8v7RhFAi"
      },
      "execution_count": 15,
      "outputs": []
    },
    {
      "cell_type": "markdown",
      "metadata": {
        "id": "QsAgPfRqStWK"
      },
      "source": [
        "# Dataset analysis"
      ]
    },
    {
      "cell_type": "code",
      "metadata": {
        "colab": {
          "base_uri": "https://localhost:8080/"
        },
        "id": "LT0pl2UG0H0O",
        "outputId": "103229cb-b8f2-4d85-d8f5-de32ac7d80e1"
      },
      "source": [
        "print(\"The max sentence length in training set is\", max_length)\n",
        "print(f'There are {len(train_stops)} sentences in the training set')\n",
        "print(f'There are {len(labels)} labels')\n",
        "print(f'There are {len(words)} unique words, {len(OOV)} of them are OOV')"
      ],
      "execution_count": 16,
      "outputs": [
        {
          "output_type": "stream",
          "name": "stdout",
          "text": [
            "The max sentence length in training set is 67\n",
            "There are 2046 sentences in the training set\n",
            "There are 45 labels\n",
            "There are 10947 unique words, 8 of them are OOV\n"
          ]
        }
      ]
    },
    {
      "cell_type": "markdown",
      "metadata": {
        "id": "ys_LD3OQc7Si"
      },
      "source": [
        "## Plot dataset distribution\n",
        "\n",
        "Train, validation and test set more or less follows the same distribution and they share similar characteristics.  \n",
        "Validation and test sets can be considered representative."
      ]
    },
    {
      "cell_type": "code",
      "metadata": {
        "id": "FsUG2Cee8vMU",
        "colab": {
          "base_uri": "https://localhost:8080/",
          "height": 351
        },
        "outputId": "b7a45498-659d-4687-d1fc-72109d93f65a"
      },
      "source": [
        "train_counts = train_set.groupby(by='label').count()\n",
        "train_counts = train_counts / len(train_set) * 100\n",
        "val_counts = val_set.groupby(by='label').count()\n",
        "val_counts = val_counts / len(val_set) * 100\n",
        "val_counts = val_counts.reindex(labels, fill_value=0)\n",
        "test_counts = test_set.groupby(by='label').count()\n",
        "test_counts = test_counts / len(test_set) * 100\n",
        "test_counts = test_counts.reindex(labels, fill_value=0)\n",
        "ind = np.arange(len(labels))\n",
        "\n",
        "plt.figure(figsize=(18,6))\n",
        "width = 0.2       \n",
        "plt.bar(ind, train_counts.loc[labels, 'word'] , width, label='Train set');\n",
        "plt.bar(ind + width, val_counts.loc[labels, 'word'], width, label='Validation set');\n",
        "plt.bar(ind + 2*width, test_counts.loc[labels, 'word'], width, label='Test set');\n",
        "\n",
        "plt.xlabel('Labels');\n",
        "plt.ylabel('Count %');\n",
        "plt.title('Dataset distribution');\n",
        "\n",
        "plt.xticks(ind + width / 3, labels, rotation=45);\n",
        "plt.legend();"
      ],
      "execution_count": 17,
      "outputs": [
        {
          "output_type": "display_data",
          "data": {
            "image/png": "[encoded data removed]",
            "text/plain": [
              "<Figure size 1296x432 with 1 Axes>"
            ]
          },
          "metadata": {
            "needs_background": "light"
          }
        }
      ]
    },
    {
      "cell_type": "code",
      "metadata": {
        "id": "dpuY1KPGZzKn",
        "colab": {
          "base_uri": "https://localhost:8080/",
          "height": 295
        },
        "outputId": "ef6e7d3f-a09f-4a8a-c5bf-e7f497ece3c3"
      },
      "source": [
        "counts_word = train_set.groupby('word').count().to_numpy()[:, 0]\n",
        "\n",
        "plt.plot(np.sort(counts_word)[::-1]);\n",
        "plt.yscale('log')\n",
        "\n",
        "plt.xlabel('Words');\n",
        "plt.ylabel('Count');\n",
        "plt.title('Word distribution (log scale)');"
      ],
      "execution_count": 18,
      "outputs": [
        {
          "output_type": "display_data",
          "data": {
            "image/png": "[encoded data removed]",
            "text/plain": [
              "<Figure size 432x288 with 1 Axes>"
            ]
          },
          "metadata": {
            "needs_background": "light"
          }
        }
      ]
    },
    {
      "cell_type": "code",
      "metadata": {
        "id": "WvBvMKm8Da9J",
        "colab": {
          "base_uri": "https://localhost:8080/",
          "height": 974
        },
        "outputId": "49b5b642-816d-4c5c-8baf-09babbb30a6e"
      },
      "source": [
        "def make_plot(sentences, name):\n",
        "  f = plt.figure(figsize=(12, 5))\n",
        "  ax1 = plt.subplot(121)\n",
        "  ax2 = plt.subplot(122)\n",
        "\n",
        "  ax1.hist(sentences.count()['word'], bins=250);\n",
        "  ax1.set_title(f\"Sentence length distribution ({name})\");\n",
        "\n",
        "  ax2.boxplot(sentences.count()['word']);\n",
        "  ax2.set_title(f\"Boxplot for sentence length ({name})\");\n",
        "\n",
        "name_sentences = {\n",
        "    'train': train_grouped,\n",
        "    'validation': val_grouped,\n",
        "    'test': test_grouped\n",
        "}\n",
        "\n",
        "for name in name_sentences:\n",
        "  make_plot(name_sentences[name], name)"
      ],
      "execution_count": 19,
      "outputs": [
        {
          "output_type": "display_data",
          "data": {
            "image/png": "[encoded data removed]",
            "text/plain": [
              "<Figure size 864x360 with 2 Axes>"
            ]
          },
          "metadata": {
            "needs_background": "light"
          }
        },
        {
          "output_type": "display_data",
          "data": {
            "image/png": "[encoded data removed]",
            "text/plain": [
              "<Figure size 864x360 with 2 Axes>"
            ]
          },
          "metadata": {
            "needs_background": "light"
          }
        },
        {
          "output_type": "display_data",
          "data": {
            "image/png": "[encoded data removed]",
            "text/plain": [
              "<Figure size 864x360 with 2 Axes>"
            ]
          },
          "metadata": {
            "needs_background": "light"
          }
        }
      ]
    },
    {
      "cell_type": "markdown",
      "metadata": {
        "id": "Qa9eCkjMwHsO"
      },
      "source": [
        "# Create RNN, Optimizer and DataLoader classes\n"
      ]
    },
    {
      "cell_type": "code",
      "metadata": {
        "id": "4qKGsuBvwKk6"
      },
      "source": [
        "class RNN(nn.Module):\n",
        "  \"\"\"\n",
        "    architecture: str\n",
        "      'LSTM'   : the baseline architecture\n",
        "      '2-LSTM' : 2 LSTM layers\n",
        "      '2-FC'   : 2 Dense Layers\n",
        "      'GRU'    : Gated Recurrent Unit\n",
        "  \"\"\"\n",
        "  def __init__(self, architecture, input_dim, hidden_size, output_size, dropout, device, CRF=False):\n",
        "    super(RNN, self).__init__()\n",
        "    self.architecture = architecture\n",
        "    self.n_layers = 2 if architecture == '2-LSTM' else 1\n",
        "    self.dropout_in_rnn = dropout if self.n_layers > 1 else 0\n",
        "    self.output_size = output_size\n",
        "    self.hidden_size = hidden_size\n",
        "    self.device = device\n",
        "    self.CRF = torchcrf.CRF(output_size, batch_first=True) if CRF else None\n",
        "    \n",
        "    if self.architecture == 'GRU':\n",
        "      self.rnn = nn.GRU(input_dim, hidden_size, num_layers=self.n_layers, bidirectional=True, dropout=self.dropout_in_rnn)\n",
        "    else:\n",
        "      self.rnn = nn.LSTM(input_dim, hidden_size, num_layers=self.n_layers, bidirectional=True, dropout=self.dropout_in_rnn)\n",
        "\n",
        "    self.dropout_layer = nn.Dropout(p=dropout)\n",
        "\n",
        "    if self.architecture == '2-FC':\n",
        "      self.fc = nn.Sequential(\n",
        "          nn.Linear(self.hidden_size*2, self.hidden_size),\n",
        "          nn.Dropout(p=dropout),\n",
        "          nn.Linear(self.hidden_size, output_size)\n",
        "      )\n",
        "    else:\n",
        "      self.fc = nn.Linear(self.hidden_size*2, output_size)\n",
        "\n",
        "    self.to(device)\n",
        "\n",
        "\n",
        "\n",
        "  def forward(self, input):\n",
        "    input = input.permute(1, 0, 2).to(self.device)\n",
        "\n",
        "    hidden_state = torch.randn(self.n_layers*2, input.shape[1], self.hidden_size).to(self.device)\n",
        "    if self.architecture == 'GRU':\n",
        "      hidden = hidden_state\n",
        "    else:\n",
        "      cell_state = torch.randn(self.n_layers*2, input.shape[1], self.hidden_size).to(self.device)\n",
        "      hidden = (hidden_state, cell_state)\n",
        "\n",
        "    out, hidden = self.rnn(input, hidden)\n",
        "\n",
        "    out = self.dropout_layer(out)\n",
        "\n",
        "    #process timesteps independently \n",
        "    logits = self.fc(out.view(-1, out.size(2)))\n",
        "\n",
        "    output = logits.view(input.shape[0], input.shape[1], self.output_size)\n",
        "\n",
        "    return output.permute(1, 0, 2).contiguous()\n",
        "\n",
        "  \n",
        "  def compute_loss(self, input, target):\n",
        "    target = target.to(self.device)\n",
        "    pred = self(input)\n",
        "\n",
        "    if self.CRF:\n",
        "      target = target.squeeze()\n",
        "      return -self.CRF(pred, target, mask= target!=-1,  reduction='mean')\n",
        "    \n",
        "    else:\n",
        "      target = target.flatten()\n",
        "      pred = pred.reshape(-1, pred.shape[-1])\n",
        "      return nn.CrossEntropyLoss(ignore_index=-1)(pred, target)\n",
        "\n",
        "\n",
        "  def prediction(self, input):\n",
        "    self.eval()\n",
        "    with torch.no_grad():\n",
        "      scores = self(input)\n",
        "      \n",
        "      if self.CRF:\n",
        "        classes_predicted = torch.Tensor(self.CRF.decode(scores))\n",
        "      else:\n",
        "        classes_predicted = torch.argmax(scores, 2)\n",
        "  \n",
        "      return classes_predicted.to(self.device)\n",
        "\n",
        "\n",
        "  def accuracy(self, input: DataLoader):\n",
        "    num_correct = 0\n",
        "    num_samples = 0\n",
        "    self.eval()\n",
        "\n",
        "    for data in input:\n",
        "        words = data['words'].to(self.device)\n",
        "        labels = data['labels'].to(self.device)\n",
        "        labels = labels.squeeze(-1)\n",
        "        lengths = data['lengths'].to(self.device)\n",
        "\n",
        "        classes_predicted = self.prediction(words)\n",
        "\n",
        "        for i, length in enumerate(lengths):\n",
        "          num_correct += torch.eq(classes_predicted[i, :length], labels[i, :length]).sum().item()\n",
        "\n",
        "        num_samples += lengths.sum()\n",
        "        \n",
        "    \n",
        "    return num_correct/num_samples\n",
        "\n"
      ],
      "execution_count": 20,
      "outputs": []
    },
    {
      "cell_type": "code",
      "metadata": {
        "id": "2MCssLkB8TUg"
      },
      "source": [
        "class Optimization:\n",
        "    def __init__(self, model, optimizer, train_loader, val_loader):\n",
        "      self.model = model\n",
        "      self.optimizer = optimizer\n",
        "      self.scheduler = ReduceLROnPlateau(optimizer)\n",
        "      self.train_loader = train_loader\n",
        "      self.history = []\n",
        "      self.val_loader = val_loader\n",
        "      self.val_history = []\n",
        "    \n",
        "    def train_epoch(self):\n",
        "      self.model.train()\n",
        "\n",
        "      for data in tqdm(self.train_loader):\n",
        "        loss = self.model.compute_loss(data['words'], data['labels'])\n",
        "        loss.backward()\n",
        "\n",
        "        self.optimizer.step()\n",
        "        self.optimizer.zero_grad()\n",
        "\n",
        "\n",
        "      self.history.append(loss.item())\n",
        "\n",
        "      val_loss = self._val_loss()\n",
        "      self.scheduler.step(val_loss)\n",
        "\n",
        "      return loss.item()\n",
        "\n",
        "    def _val_loss(self):\n",
        "      losses = []\n",
        "      for data in self.val_loader:\n",
        "        loss = self.model.compute_loss(data['words'], data['labels'])\n",
        "        losses.append(loss)\n",
        "      \n",
        "      mean = torch.mean(torch.Tensor(losses))\n",
        "      self.val_history.append(mean.item())\n",
        "\n",
        "      return mean"
      ],
      "execution_count": 32,
      "outputs": []
    },
    {
      "cell_type": "code",
      "metadata": {
        "id": "PpwRlpy68pSP"
      },
      "source": [
        "class MyDataset(Dataset):\n",
        "  def __init__(self, dataframe, embedder, encoder, max_length=None):\n",
        "    self.max_length = max_length if max_length else dataframe.count().max()['word']\n",
        "    self.dataframe = dataframe\n",
        "    self.embedder = embedder\n",
        "    self.encoder = encoder\n",
        "\n",
        "  def __len__(self):\n",
        "    return len(self.dataframe)\n",
        "\n",
        "  def __getitem__(self, idx):\n",
        "    sentence = self.dataframe.get_group(idx)[:self.max_length]\n",
        "\n",
        "    labels = np.array(sentence['label'], dtype = str).reshape(-1, 1)\n",
        "    encoded_labels = self.encoder.transform(labels)\n",
        "    encoded_words = self.embedder[sentence['word']]\n",
        "\n",
        "    return {'words': encoded_words, 'labels': encoded_labels, 'lengths': len(sentence)}"
      ],
      "execution_count": 22,
      "outputs": []
    },
    {
      "cell_type": "code",
      "source": [
        "def collate_fn_pad(batch):\n",
        "    batch_dict = []\n",
        "    lengths = torch.Tensor([sample['lengths'] for sample in batch])\n",
        "    padded_words = pad_sequence([torch.Tensor(sample['words']) for sample in batch], batch_first=True)\n",
        "    padded_labels = pad_sequence([torch.Tensor(sample['labels']) for sample in batch], batch_first=True, padding_value=-1)\n",
        "\n",
        "    return {'words': padded_words, 'labels': padded_labels.long(), 'lengths': lengths.int()}\n"
      ],
      "metadata": {
        "id": "kMAPwSCcqo97"
      },
      "execution_count": 23,
      "outputs": []
    },
    {
      "cell_type": "markdown",
      "metadata": {
        "id": "Moz4o3S4_YyY"
      },
      "source": [
        "# Training"
      ]
    },
    {
      "cell_type": "code",
      "source": [
        "%load_ext tensorboard\n",
        "%tensorboard --logdir=\"logs\""
      ],
      "metadata": {
        "id": "Li_cU3KAIaDg",
        "colab": {
          "base_uri": "https://localhost:8080/",
          "height": 821
        },
        "outputId": "30b23b84-208b-4155-8eb3-dcfbacf2931b"
      },
      "execution_count": 24,
      "outputs": [
        {
          "output_type": "display_data",
          "data": {
            "application/javascript": [
              "\n",
              "        (async () => {\n",
              "            const url = new URL(await google.colab.kernel.proxyPort(6006, {'cache': true}));\n",
              "            url.searchParams.set('tensorboardColab', 'true');\n",
              "            const iframe = document.createElement('iframe');\n",
              "            iframe.src = url;\n",
              "            iframe.setAttribute('width', '100%');\n",
              "            iframe.setAttribute('height', '800');\n",
              "            iframe.setAttribute('frameborder', 0);\n",
              "            document.body.appendChild(iframe);\n",
              "        })();\n",
              "    "
            ],
            "text/plain": [
              "<IPython.core.display.Javascript object>"
            ]
          },
          "metadata": {}
        }
      ]
    },
    {
      "cell_type": "markdown",
      "source": [
        "## Training and tuning functions"
      ],
      "metadata": {
        "id": "fMOAz4J6gzN-"
      }
    },
    {
      "cell_type": "code",
      "source": [
        "def training_loop(model: nn.Module, \n",
        "                  train_set: torch.utils.data.DataLoader,\n",
        "                  val_set: torch.utils.data.DataLoader,\n",
        "                  patience: int,\n",
        "                  optimization: Optimization,\n",
        "                  save_path: str,\n",
        "                  writer: Optional[SummaryWriter] = None):\n",
        "\n",
        "  train_acc = []\n",
        "  val_acc = []\n",
        "  best_epoch = 0\n",
        "  epoch = 0\n",
        "\n",
        "  while epoch - best_epoch <= patience:\n",
        "    epoch += 1\n",
        "    print(f'Epoch {epoch}')\n",
        "\n",
        "    optimization.train_epoch()\n",
        "      \n",
        "    print(f'loss:{optimization.history[-1] : .3f}')\n",
        "    train_acc.append(model.accuracy(train_set))\n",
        "    print(f'train acc:{train_acc[-1]}')\n",
        "    val_acc.append(model.accuracy(val_set))\n",
        "    print(f'val acc:{val_acc[-1]}')\n",
        "    \n",
        "    if writer:\n",
        "      writer.add_scalars('Loss', {\"Train\": optimization.history[-1]}, epoch)\n",
        "      writer.add_scalars('Loss', {\"Validation\": optimization.val_history[-1]}, epoch)\n",
        "      writer.add_scalars('Train Acc', {\"Train\": val_acc[-1]}, epoch)\n",
        "      writer.add_scalars('Val Acc', {\"Train\": val_acc[-1]}, epoch)\n",
        "      writer.flush()\n",
        "\n",
        "    if val_acc[-1] >= val_acc[best_epoch-1]:\n",
        "      torch.save(model.state_dict(), save_path)\n",
        "      best_epoch = epoch\n",
        "      print(f'Model saved at {save_path}')\n",
        "      \n",
        "  if writer: writer.close()\n",
        "  print(f'\\n Best model at epoch {best_epoch}')\n",
        "\n",
        "  return val_acc[best_epoch-1]"
      ],
      "metadata": {
        "id": "2vQvpGglNAYf"
      },
      "execution_count": 25,
      "outputs": []
    },
    {
      "cell_type": "code",
      "source": [
        "def tuning_loop(train_loader: torch.utils.data.DataLoader,\n",
        "                val_loader: torch.utils.data.DataLoader,\n",
        "                patience: int,\n",
        "                search: dict, \n",
        "                writer: Optional[SummaryWriter] = None):\n",
        "\n",
        "  best_model_acc = 0\n",
        "  config = {}\n",
        "  for current_values in itertools.product(*tuple(search.values())):\n",
        "    current_dict = dict(zip(search.keys(), current_values))\n",
        "    \n",
        "    architecture = current_dict['architecture']\n",
        "    CRF = current_dict['CRF']\n",
        "    hidden_dim = current_dict['hidden_dim']\n",
        "    dropout = current_dict['dropout']\n",
        "    lr = current_dict['lr']\n",
        "    weight_decay = current_dict['weight_decay'] \n",
        "    eps = current_dict['eps']\n",
        "\n",
        "    print('='*15)\n",
        "    print('New setting with', current_dict)\n",
        "\n",
        "    model = RNN(architecture, EMBEDDING_SIZE, hidden_dim, len(labels), dropout, device, CRF=CRF)\n",
        "    optimizer = optim.Adam(model.parameters(), lr=lr, eps=eps, weight_decay=weight_decay)\n",
        "    optimization = Optimization(model, optimizer, train_loader, val_loader)\n",
        "\n",
        "    path = f'model-{architecture}-{hidden_dim}-{dropout}-{lr}-{weight_decay}-{eps}.pkl'\n",
        "    best_acc = training_loop(model, train_loader, val_loader, patience, optimization, path, writer=writer)\n",
        "\n",
        "    if best_acc > best_model_acc:\n",
        "      config = current_dict\n",
        "      best_model_acc = best_acc\n",
        "      new_path = f'model-{architecture}'\n",
        "      !\\cp $path $new_path\n",
        "\n",
        "  print(f'\\n Best model config : {config} with accuracy {best_model_acc}')"
      ],
      "metadata": {
        "id": "Ydu2_VLkB84u"
      },
      "execution_count": 26,
      "outputs": []
    },
    {
      "cell_type": "markdown",
      "source": [
        "## Start tuning"
      ],
      "metadata": {
        "id": "qylGENCbg8RB"
      }
    },
    {
      "cell_type": "code",
      "source": [
        "train_set = MyDataset(train_grouped, embedder, encoder)\n",
        "train_loader = DataLoader(train_set, batch_size=8, shuffle=True, collate_fn=collate_fn_pad)\n",
        "\n",
        "validation = MyDataset(val_grouped, embedder, encoder)\n",
        "val_loader = DataLoader(validation, batch_size=len(validation), collate_fn=collate_fn_pad)"
      ],
      "metadata": {
        "id": "LZif9p5fhEyr"
      },
      "execution_count": 29,
      "outputs": []
    },
    {
      "cell_type": "code",
      "source": [
        "search = {'architecture': ['LSTM', '2-LSTM', '2-FC', 'GRU'],\n",
        "          'CRF': [True, False],\n",
        "          'hidden_dim': [128, 256, 512],\n",
        "          'dropout': [0.4, 0.6, 0.8],\n",
        "          'lr': [1e-3],\n",
        "          'weight_decay': [0, 1e-3, 1e-2, 1e-1],\n",
        "          'eps': [1e-8]\n",
        "          }\n"
      ],
      "metadata": {
        "id": "Rt_I9itTPbHQ"
      },
      "execution_count": null,
      "outputs": []
    },
    {
      "cell_type": "code",
      "source": [
        "PATIENCE = 10\n",
        "writer = torch.utils.tensorboard.writer.SummaryWriter(log_dir=os.path.join(\"logs\", \"BiLSTM\"))\n",
        "\n",
        "tuning_loop(train_loader, val_loader, PATIENCE, search, writer)"
      ],
      "metadata": {
        "id": "nfFE-6kesGIi",
        "outputId": "16be974e-eb40-4c0f-a08e-a7abf4d8fd16",
        "colab": {
          "base_uri": "https://localhost:8080/"
        }
      },
      "execution_count": null,
      "outputs": [
        {
          "output_type": "stream",
          "name": "stdout",
          "text": [
            "===============\n",
            "New setting with {'architecture': '2-LSTM', 'CRF': True, 'hidden_dim': 128, 'dropout': 0.6, 'lr': 0.001, 'weight_decay': 0, 'eps': 1e-08}\n",
            "Epoch 1\n"
          ]
        },
        {
          "output_type": "stream",
          "name": "stderr",
          "text": [
            "100%|██████████| 256/256 [00:21<00:00, 11.82it/s]\n"
          ]
        },
        {
          "output_type": "stream",
          "name": "stdout",
          "text": [
            "loss: 27.671\n",
            "train acc:0.65550297498703\n",
            "val acc:0.6397075057029724\n",
            "Model saved at model-2-LSTM-128-0.6.pkl\n",
            "Epoch 2\n"
          ]
        },
        {
          "output_type": "stream",
          "name": "stderr",
          "text": [
            "100%|██████████| 256/256 [00:20<00:00, 12.20it/s]\n"
          ]
        },
        {
          "output_type": "stream",
          "name": "stdout",
          "text": [
            "loss: 22.829\n",
            "train acc:0.7769659757614136\n",
            "val acc:0.7547381520271301\n",
            "Model saved at model-2-LSTM-128-0.6.pkl\n",
            "Epoch 3\n"
          ]
        },
        {
          "output_type": "stream",
          "name": "stderr",
          "text": [
            "100%|██████████| 256/256 [00:21<00:00, 12.16it/s]\n"
          ]
        },
        {
          "output_type": "stream",
          "name": "stdout",
          "text": [
            "loss: 11.543\n",
            "train acc:0.8258721232414246\n",
            "val acc:0.8028733134269714\n",
            "Model saved at model-2-LSTM-128-0.6.pkl\n",
            "Epoch 4\n"
          ]
        },
        {
          "output_type": "stream",
          "name": "stderr",
          "text": [
            "100%|██████████| 256/256 [00:19<00:00, 12.85it/s]\n"
          ]
        },
        {
          "output_type": "stream",
          "name": "stdout",
          "text": [
            "loss: 17.514\n",
            "train acc:0.8501351475715637\n",
            "val acc:0.8250007629394531\n",
            "Model saved at model-2-LSTM-128-0.6.pkl\n",
            "Epoch 5\n"
          ]
        },
        {
          "output_type": "stream",
          "name": "stderr",
          "text": [
            "100%|██████████| 256/256 [00:20<00:00, 12.23it/s]\n"
          ]
        },
        {
          "output_type": "stream",
          "name": "stdout",
          "text": [
            "loss: 12.834\n",
            "train acc:0.8654658198356628\n",
            "val acc:0.8393355011940002\n",
            "Model saved at model-2-LSTM-128-0.6.pkl\n",
            "Epoch 6\n"
          ]
        },
        {
          "output_type": "stream",
          "name": "stderr",
          "text": [
            "100%|██████████| 256/256 [00:20<00:00, 12.25it/s]\n"
          ]
        },
        {
          "output_type": "stream",
          "name": "stdout",
          "text": [
            "loss: 8.315\n",
            "train acc:0.8809232115745544\n",
            "val acc:0.8519706130027771\n",
            "Model saved at model-2-LSTM-128-0.6.pkl\n",
            "Epoch 7\n"
          ]
        },
        {
          "output_type": "stream",
          "name": "stderr",
          "text": [
            "100%|██████████| 256/256 [00:20<00:00, 12.20it/s]\n"
          ]
        },
        {
          "output_type": "stream",
          "name": "stdout",
          "text": [
            "loss: 14.353\n",
            "train acc:0.8920727968215942\n",
            "val acc:0.8601481318473816\n",
            "Model saved at model-2-LSTM-128-0.6.pkl\n",
            "Epoch 8\n"
          ]
        },
        {
          "output_type": "stream",
          "name": "stderr",
          "text": [
            "100%|██████████| 256/256 [00:20<00:00, 12.23it/s]\n"
          ]
        },
        {
          "output_type": "stream",
          "name": "stdout",
          "text": [
            "loss: 11.276\n",
            "train acc:0.9040670394897461\n",
            "val acc:0.8713721632957458\n",
            "Model saved at model-2-LSTM-128-0.6.pkl\n",
            "Epoch 9\n"
          ]
        },
        {
          "output_type": "stream",
          "name": "stderr",
          "text": [
            "100%|██████████| 256/256 [00:21<00:00, 12.03it/s]\n"
          ]
        },
        {
          "output_type": "stream",
          "name": "stdout",
          "text": [
            "loss: 9.451\n",
            "train acc:0.908037006855011\n",
            "val acc:0.8705704808235168\n",
            "Epoch 10\n"
          ]
        },
        {
          "output_type": "stream",
          "name": "stderr",
          "text": [
            "100%|██████████| 256/256 [00:21<00:00, 11.67it/s]\n"
          ]
        },
        {
          "output_type": "stream",
          "name": "stdout",
          "text": [
            "loss: 10.693\n",
            "train acc:0.9178984761238098\n"
          ]
        }
      ]
    },
    {
      "cell_type": "markdown",
      "source": [
        "After tuning all the possible combinations of hyperparameters and architectures, the results are pretty similar. Across the architectures, usually, the  best combination of hyperparameters is: \n",
        "* hidden_dim = 128\n",
        "* dropout = 0.6\n",
        "\n",
        "Adding CRF makes the validation accuracy slightly better (around 0.5% more) but doubles the train time.\n",
        "\n",
        "2-LSTM and 2-FC perform slightly better, so we decide to train them."
      ],
      "metadata": {
        "id": "vXj5F2_zheNL"
      }
    },
    {
      "cell_type": "markdown",
      "source": [
        "## Train best models"
      ],
      "metadata": {
        "id": "xRhMCaokFosb"
      }
    },
    {
      "cell_type": "code",
      "source": [
        "PATIENCE = 15\n",
        "writer = torch.utils.tensorboard.writer.SummaryWriter(log_dir=os.path.join(\"logs\", \"BiLSTM\"))\n",
        "\n",
        "model_lstm = RNN('2-LSTM', EMBEDDING_SIZE, 128, len(labels), 0.6, device, CRF=True)\n",
        "optimizer = optim.Adam(model_lstm.parameters(), lr=1e-3, eps=1e-8, weight_decay=1e-3)\n",
        "optimization = Optimization(model_lstm, optimizer, train_loader, val_loader)\n",
        "\n",
        "path = f'model-2-LSTM.pkl'\n",
        "best_acc = training_loop(model_lstm, train_loader, val_loader, PATIENCE, optimization, path, writer=writer)"
      ],
      "metadata": {
        "colab": {
          "base_uri": "https://localhost:8080/"
        },
        "id": "HipF0Tn5Fq5R",
        "outputId": "da20dbb1-be83-462c-e633-92738897fd9d"
      },
      "execution_count": 33,
      "outputs": [
        {
          "output_type": "stream",
          "name": "stdout",
          "text": [
            "Epoch 1\n"
          ]
        },
        {
          "output_type": "stream",
          "name": "stderr",
          "text": [
            "100%|██████████| 256/256 [00:22<00:00, 11.34it/s]\n"
          ]
        },
        {
          "output_type": "stream",
          "name": "stdout",
          "text": [
            "loss: 38.219\n",
            "train acc:0.6875158548355103\n",
            "val acc:0.6697880029678345\n",
            "Model saved at model-2-LSTM.pkl\n",
            "Epoch 2\n"
          ]
        },
        {
          "output_type": "stream",
          "name": "stderr",
          "text": [
            "100%|██████████| 256/256 [00:21<00:00, 11.70it/s]\n"
          ]
        },
        {
          "output_type": "stream",
          "name": "stdout",
          "text": [
            "loss: 25.223\n",
            "train acc:0.7873764634132385\n",
            "val acc:0.7650963068008423\n",
            "Model saved at model-2-LSTM.pkl\n",
            "Epoch 3\n"
          ]
        },
        {
          "output_type": "stream",
          "name": "stderr",
          "text": [
            "100%|██████████| 256/256 [00:22<00:00, 11.56it/s]\n"
          ]
        },
        {
          "output_type": "stream",
          "name": "stdout",
          "text": [
            "loss: 11.798\n",
            "train acc:0.8294196724891663\n",
            "val acc:0.8076836466789246\n",
            "Model saved at model-2-LSTM.pkl\n",
            "Epoch 4\n"
          ]
        },
        {
          "output_type": "stream",
          "name": "stderr",
          "text": [
            "100%|██████████| 256/256 [00:21<00:00, 11.68it/s]\n"
          ]
        },
        {
          "output_type": "stream",
          "name": "stdout",
          "text": [
            "loss: 18.995\n",
            "train acc:0.8492693305015564\n",
            "val acc:0.8250648975372314\n",
            "Model saved at model-2-LSTM.pkl\n",
            "Epoch 5\n"
          ]
        },
        {
          "output_type": "stream",
          "name": "stderr",
          "text": [
            "100%|██████████| 256/256 [00:21<00:00, 12.08it/s]\n"
          ]
        },
        {
          "output_type": "stream",
          "name": "stdout",
          "text": [
            "loss: 10.988\n",
            "train acc:0.8661626577377319\n",
            "val acc:0.8389186263084412\n",
            "Model saved at model-2-LSTM.pkl\n",
            "Epoch 6\n"
          ]
        },
        {
          "output_type": "stream",
          "name": "stderr",
          "text": [
            "100%|██████████| 256/256 [00:21<00:00, 11.65it/s]\n"
          ]
        },
        {
          "output_type": "stream",
          "name": "stdout",
          "text": [
            "loss: 16.077\n",
            "train acc:0.8820212483406067\n",
            "val acc:0.8524516224861145\n",
            "Model saved at model-2-LSTM.pkl\n",
            "Epoch 7\n"
          ]
        },
        {
          "output_type": "stream",
          "name": "stderr",
          "text": [
            "100%|██████████| 256/256 [00:22<00:00, 11.52it/s]\n"
          ]
        },
        {
          "output_type": "stream",
          "name": "stdout",
          "text": [
            "loss: 8.862\n",
            "train acc:0.8909325003623962\n",
            "val acc:0.8624570965766907\n",
            "Model saved at model-2-LSTM.pkl\n",
            "Epoch 8\n"
          ]
        },
        {
          "output_type": "stream",
          "name": "stderr",
          "text": [
            "100%|██████████| 256/256 [00:22<00:00, 11.56it/s]\n"
          ]
        },
        {
          "output_type": "stream",
          "name": "stdout",
          "text": [
            "loss: 7.952\n",
            "train acc:0.8994002938270569\n",
            "val acc:0.866016685962677\n",
            "Model saved at model-2-LSTM.pkl\n",
            "Epoch 9\n"
          ]
        },
        {
          "output_type": "stream",
          "name": "stderr",
          "text": [
            "100%|██████████| 256/256 [00:21<00:00, 11.99it/s]\n"
          ]
        },
        {
          "output_type": "stream",
          "name": "stdout",
          "text": [
            "loss: 15.149\n",
            "train acc:0.9072768092155457\n",
            "val acc:0.8744187355041504\n",
            "Model saved at model-2-LSTM.pkl\n",
            "Epoch 10\n"
          ]
        },
        {
          "output_type": "stream",
          "name": "stderr",
          "text": [
            "100%|██████████| 256/256 [00:21<00:00, 11.83it/s]\n"
          ]
        },
        {
          "output_type": "stream",
          "name": "stdout",
          "text": [
            "loss: 7.021\n",
            "train acc:0.9126826524734497\n",
            "val acc:0.8771445751190186\n",
            "Model saved at model-2-LSTM.pkl\n",
            "Epoch 11\n"
          ]
        },
        {
          "output_type": "stream",
          "name": "stderr",
          "text": [
            "100%|██████████| 256/256 [00:22<00:00, 11.62it/s]\n"
          ]
        },
        {
          "output_type": "stream",
          "name": "stdout",
          "text": [
            "loss: 8.316\n",
            "train acc:0.918341875076294\n",
            "val acc:0.8808324933052063\n",
            "Model saved at model-2-LSTM.pkl\n",
            "Epoch 12\n"
          ]
        },
        {
          "output_type": "stream",
          "name": "stderr",
          "text": [
            "100%|██████████| 256/256 [00:21<00:00, 11.92it/s]\n"
          ]
        },
        {
          "output_type": "stream",
          "name": "stdout",
          "text": [
            "loss: 10.683\n",
            "train acc:0.9244235157966614\n",
            "val acc:0.8878555297851562\n",
            "Model saved at model-2-LSTM.pkl\n",
            "Epoch 13\n"
          ]
        },
        {
          "output_type": "stream",
          "name": "stderr",
          "text": [
            "100%|██████████| 256/256 [00:21<00:00, 11.93it/s]\n"
          ]
        },
        {
          "output_type": "stream",
          "name": "stdout",
          "text": [
            "loss: 7.807\n",
            "train acc:0.9284567832946777\n",
            "val acc:0.8879837989807129\n",
            "Model saved at model-2-LSTM.pkl\n",
            "Epoch 14\n"
          ]
        },
        {
          "output_type": "stream",
          "name": "stderr",
          "text": [
            "100%|██████████| 256/256 [00:21<00:00, 11.71it/s]\n"
          ]
        },
        {
          "output_type": "stream",
          "name": "stdout",
          "text": [
            "loss: 5.492\n",
            "train acc:0.9346861839294434\n",
            "val acc:0.8916075825691223\n",
            "Model saved at model-2-LSTM.pkl\n",
            "Epoch 15\n"
          ]
        },
        {
          "output_type": "stream",
          "name": "stderr",
          "text": [
            "100%|██████████| 256/256 [00:22<00:00, 11.16it/s]\n"
          ]
        },
        {
          "output_type": "stream",
          "name": "stdout",
          "text": [
            "loss: 7.093\n",
            "train acc:0.9354463815689087\n",
            "val acc:0.8928903341293335\n",
            "Model saved at model-2-LSTM.pkl\n",
            "Epoch 16\n"
          ]
        },
        {
          "output_type": "stream",
          "name": "stderr",
          "text": [
            "100%|██████████| 256/256 [00:22<00:00, 11.44it/s]\n"
          ]
        },
        {
          "output_type": "stream",
          "name": "stdout",
          "text": [
            "loss: 6.451\n",
            "train acc:0.9401131868362427\n",
            "val acc:0.8960330486297607\n",
            "Model saved at model-2-LSTM.pkl\n",
            "Epoch 17\n"
          ]
        },
        {
          "output_type": "stream",
          "name": "stderr",
          "text": [
            "100%|██████████| 256/256 [00:22<00:00, 11.45it/s]\n"
          ]
        },
        {
          "output_type": "stream",
          "name": "stdout",
          "text": [
            "loss: 8.172\n",
            "train acc:0.9423937797546387\n",
            "val acc:0.8946220278739929\n",
            "Epoch 18\n"
          ]
        },
        {
          "output_type": "stream",
          "name": "stderr",
          "text": [
            "100%|██████████| 256/256 [00:22<00:00, 11.50it/s]\n"
          ]
        },
        {
          "output_type": "stream",
          "name": "stdout",
          "text": [
            "loss: 6.613\n",
            "train acc:0.9465537667274475\n",
            "val acc:0.8976685404777527\n",
            "Model saved at model-2-LSTM.pkl\n",
            "Epoch 19\n"
          ]
        },
        {
          "output_type": "stream",
          "name": "stderr",
          "text": [
            "100%|██████████| 256/256 [00:22<00:00, 11.24it/s]\n"
          ]
        },
        {
          "output_type": "stream",
          "name": "stdout",
          "text": [
            "loss: 7.135\n",
            "train acc:0.9461947679519653\n",
            "val acc:0.8957765102386475\n",
            "Epoch 20\n"
          ]
        },
        {
          "output_type": "stream",
          "name": "stderr",
          "text": [
            "100%|██████████| 256/256 [00:21<00:00, 11.81it/s]\n"
          ]
        },
        {
          "output_type": "stream",
          "name": "stdout",
          "text": [
            "loss: 3.840\n",
            "train acc:0.9522552490234375\n",
            "val acc:0.8996888995170593\n",
            "Model saved at model-2-LSTM.pkl\n",
            "Epoch 21\n"
          ]
        },
        {
          "output_type": "stream",
          "name": "stderr",
          "text": [
            "100%|██████████| 256/256 [00:21<00:00, 11.96it/s]\n"
          ]
        },
        {
          "output_type": "stream",
          "name": "stdout",
          "text": [
            "loss: 4.215\n",
            "train acc:0.9531632661819458\n",
            "val acc:0.8996568322181702\n",
            "Epoch 22\n"
          ]
        },
        {
          "output_type": "stream",
          "name": "stderr",
          "text": [
            "100%|██████████| 256/256 [00:22<00:00, 11.54it/s]\n"
          ]
        },
        {
          "output_type": "stream",
          "name": "stdout",
          "text": [
            "loss: 7.117\n",
            "train acc:0.9560984969139099\n",
            "val acc:0.9011640548706055\n",
            "Model saved at model-2-LSTM.pkl\n",
            "Epoch 23\n"
          ]
        },
        {
          "output_type": "stream",
          "name": "stderr",
          "text": [
            "100%|██████████| 256/256 [00:22<00:00, 11.32it/s]\n"
          ]
        },
        {
          "output_type": "stream",
          "name": "stdout",
          "text": [
            "loss: 3.937\n",
            "train acc:0.9570487141609192\n",
            "val acc:0.9020299315452576\n",
            "Model saved at model-2-LSTM.pkl\n",
            "Epoch 24\n"
          ]
        },
        {
          "output_type": "stream",
          "name": "stderr",
          "text": [
            "100%|██████████| 256/256 [00:22<00:00, 11.45it/s]\n"
          ]
        },
        {
          "output_type": "stream",
          "name": "stdout",
          "text": [
            "loss: 5.027\n",
            "train acc:0.9589492082595825\n",
            "val acc:0.9040502309799194\n",
            "Model saved at model-2-LSTM.pkl\n",
            "Epoch 25\n"
          ]
        },
        {
          "output_type": "stream",
          "name": "stderr",
          "text": [
            "100%|██████████| 256/256 [00:21<00:00, 11.67it/s]\n"
          ]
        },
        {
          "output_type": "stream",
          "name": "stdout",
          "text": [
            "loss: 7.647\n",
            "train acc:0.9551904797554016\n",
            "val acc:0.9002661108970642\n",
            "Epoch 26\n"
          ]
        },
        {
          "output_type": "stream",
          "name": "stderr",
          "text": [
            "100%|██████████| 256/256 [00:22<00:00, 11.51it/s]\n"
          ]
        },
        {
          "output_type": "stream",
          "name": "stdout",
          "text": [
            "loss: 9.603\n",
            "train acc:0.9626657366752625\n",
            "val acc:0.9050764441490173\n",
            "Model saved at model-2-LSTM.pkl\n",
            "Epoch 27\n"
          ]
        },
        {
          "output_type": "stream",
          "name": "stderr",
          "text": [
            "100%|██████████| 256/256 [00:23<00:00, 11.07it/s]\n"
          ]
        },
        {
          "output_type": "stream",
          "name": "stdout",
          "text": [
            "loss: 2.635\n",
            "train acc:0.965622067451477\n",
            "val acc:0.9040822982788086\n",
            "Epoch 28\n"
          ]
        },
        {
          "output_type": "stream",
          "name": "stderr",
          "text": [
            "100%|██████████| 256/256 [00:22<00:00, 11.63it/s]\n"
          ]
        },
        {
          "output_type": "stream",
          "name": "stdout",
          "text": [
            "loss: 4.837\n",
            "train acc:0.9666779041290283\n",
            "val acc:0.9041143655776978\n",
            "Epoch 29\n"
          ]
        },
        {
          "output_type": "stream",
          "name": "stderr",
          "text": [
            "100%|██████████| 256/256 [00:22<00:00, 11.58it/s]\n"
          ]
        },
        {
          "output_type": "stream",
          "name": "stdout",
          "text": [
            "loss: 3.641\n",
            "train acc:0.9651786088943481\n",
            "val acc:0.905012309551239\n",
            "Epoch 30\n"
          ]
        },
        {
          "output_type": "stream",
          "name": "stderr",
          "text": [
            "100%|██████████| 256/256 [00:22<00:00, 11.60it/s]\n"
          ]
        },
        {
          "output_type": "stream",
          "name": "stdout",
          "text": [
            "loss: 3.136\n",
            "train acc:0.9672902822494507\n",
            "val acc:0.9048519730567932\n",
            "Epoch 31\n"
          ]
        },
        {
          "output_type": "stream",
          "name": "stderr",
          "text": [
            "100%|██████████| 256/256 [00:22<00:00, 11.47it/s]\n"
          ]
        },
        {
          "output_type": "stream",
          "name": "stdout",
          "text": [
            "loss: 2.187\n",
            "train acc:0.9697820544242859\n",
            "val acc:0.9067760705947876\n",
            "Model saved at model-2-LSTM.pkl\n",
            "Epoch 32\n"
          ]
        },
        {
          "output_type": "stream",
          "name": "stderr",
          "text": [
            "100%|██████████| 256/256 [00:21<00:00, 11.74it/s]\n"
          ]
        },
        {
          "output_type": "stream",
          "name": "stdout",
          "text": [
            "loss: 5.000\n",
            "train acc:0.971724808216095\n",
            "val acc:0.9071930050849915\n",
            "Model saved at model-2-LSTM.pkl\n",
            "Epoch 33\n"
          ]
        },
        {
          "output_type": "stream",
          "name": "stderr",
          "text": [
            "100%|██████████| 256/256 [00:20<00:00, 12.34it/s]\n"
          ]
        },
        {
          "output_type": "stream",
          "name": "stdout",
          "text": [
            "loss: 2.509\n",
            "train acc:0.9710912704467773\n",
            "val acc:0.9068402051925659\n",
            "Epoch 34\n"
          ]
        },
        {
          "output_type": "stream",
          "name": "stderr",
          "text": [
            "100%|██████████| 256/256 [00:21<00:00, 11.79it/s]\n"
          ]
        },
        {
          "output_type": "stream",
          "name": "stdout",
          "text": [
            "loss: 3.604\n",
            "train acc:0.9733507633209229\n",
            "val acc:0.9076419472694397\n",
            "Model saved at model-2-LSTM.pkl\n",
            "Epoch 35\n"
          ]
        },
        {
          "output_type": "stream",
          "name": "stderr",
          "text": [
            "100%|██████████| 256/256 [00:21<00:00, 11.66it/s]\n"
          ]
        },
        {
          "output_type": "stream",
          "name": "stdout",
          "text": [
            "loss: 3.762\n",
            "train acc:0.9751034379005432\n",
            "val acc:0.9066798686981201\n",
            "Epoch 36\n"
          ]
        },
        {
          "output_type": "stream",
          "name": "stderr",
          "text": [
            "100%|██████████| 256/256 [00:21<00:00, 11.94it/s]\n"
          ]
        },
        {
          "output_type": "stream",
          "name": "stdout",
          "text": [
            "loss: 5.022\n",
            "train acc:0.9758425354957581\n",
            "val acc:0.9077702164649963\n",
            "Model saved at model-2-LSTM.pkl\n",
            "Epoch 37\n"
          ]
        },
        {
          "output_type": "stream",
          "name": "stderr",
          "text": [
            "100%|██████████| 256/256 [00:20<00:00, 12.34it/s]\n"
          ]
        },
        {
          "output_type": "stream",
          "name": "stdout",
          "text": [
            "loss: 2.157\n",
            "train acc:0.9776796698570251\n",
            "val acc:0.909149169921875\n",
            "Model saved at model-2-LSTM.pkl\n",
            "Epoch 38\n"
          ]
        },
        {
          "output_type": "stream",
          "name": "stderr",
          "text": [
            "100%|██████████| 256/256 [00:22<00:00, 11.52it/s]\n"
          ]
        },
        {
          "output_type": "stream",
          "name": "stdout",
          "text": [
            "loss: 4.645\n",
            "train acc:0.9774684906005859\n",
            "val acc:0.9078022837638855\n",
            "Epoch 39\n"
          ]
        },
        {
          "output_type": "stream",
          "name": "stderr",
          "text": [
            "100%|██████████| 256/256 [00:21<00:00, 11.87it/s]\n"
          ]
        },
        {
          "output_type": "stream",
          "name": "stdout",
          "text": [
            "loss: 2.820\n",
            "train acc:0.9780809283256531\n",
            "val acc:0.9075778126716614\n",
            "Epoch 40\n"
          ]
        },
        {
          "output_type": "stream",
          "name": "stderr",
          "text": [
            "100%|██████████| 256/256 [00:21<00:00, 12.15it/s]\n"
          ]
        },
        {
          "output_type": "stream",
          "name": "stdout",
          "text": [
            "loss: 2.548\n",
            "train acc:0.9797279834747314\n",
            "val acc:0.9075778126716614\n",
            "Epoch 41\n"
          ]
        },
        {
          "output_type": "stream",
          "name": "stderr",
          "text": [
            "100%|██████████| 256/256 [00:22<00:00, 11.46it/s]\n"
          ]
        },
        {
          "output_type": "stream",
          "name": "stdout",
          "text": [
            "loss: 4.376\n",
            "train acc:0.9802348017692566\n",
            "val acc:0.9074174761772156\n",
            "Epoch 42\n"
          ]
        },
        {
          "output_type": "stream",
          "name": "stderr",
          "text": [
            "100%|██████████| 256/256 [00:22<00:00, 11.59it/s]\n"
          ]
        },
        {
          "output_type": "stream",
          "name": "stdout",
          "text": [
            "loss: 5.938\n",
            "train acc:0.9821141958236694\n",
            "val acc:0.9073533415794373\n",
            "Epoch 43\n"
          ]
        },
        {
          "output_type": "stream",
          "name": "stderr",
          "text": [
            "100%|██████████| 256/256 [00:21<00:00, 11.87it/s]\n"
          ]
        },
        {
          "output_type": "stream",
          "name": "stdout",
          "text": [
            "loss: 3.071\n",
            "train acc:0.9814173579216003\n",
            "val acc:0.9085078239440918\n",
            "Epoch 44\n"
          ]
        },
        {
          "output_type": "stream",
          "name": "stderr",
          "text": [
            "100%|██████████| 256/256 [00:22<00:00, 11.19it/s]\n"
          ]
        },
        {
          "output_type": "stream",
          "name": "stdout",
          "text": [
            "loss: 7.413\n",
            "train acc:0.9825576543807983\n",
            "val acc:0.9082191586494446\n",
            "Epoch 45\n"
          ]
        },
        {
          "output_type": "stream",
          "name": "stderr",
          "text": [
            "100%|██████████| 256/256 [00:21<00:00, 11.86it/s]\n"
          ]
        },
        {
          "output_type": "stream",
          "name": "stdout",
          "text": [
            "loss: 4.989\n",
            "train acc:0.9817340970039368\n",
            "val acc:0.9083154201507568\n",
            "Epoch 46\n"
          ]
        },
        {
          "output_type": "stream",
          "name": "stderr",
          "text": [
            "100%|██████████| 256/256 [00:22<00:00, 11.52it/s]\n"
          ]
        },
        {
          "output_type": "stream",
          "name": "stdout",
          "text": [
            "loss: 5.649\n",
            "train acc:0.9827265739440918\n",
            "val acc:0.9068402051925659\n",
            "Epoch 47\n"
          ]
        },
        {
          "output_type": "stream",
          "name": "stderr",
          "text": [
            "100%|██████████| 256/256 [00:22<00:00, 11.20it/s]\n"
          ]
        },
        {
          "output_type": "stream",
          "name": "stdout",
          "text": [
            "loss: 2.703\n",
            "train acc:0.9855139851570129\n",
            "val acc:0.9095660448074341\n",
            "Model saved at model-2-LSTM.pkl\n",
            "Epoch 48\n"
          ]
        },
        {
          "output_type": "stream",
          "name": "stderr",
          "text": [
            "100%|██████████| 256/256 [00:22<00:00, 11.14it/s]\n"
          ]
        },
        {
          "output_type": "stream",
          "name": "stdout",
          "text": [
            "loss: 2.369\n",
            "train acc:0.9860630035400391\n",
            "val acc:0.9098226428031921\n",
            "Model saved at model-2-LSTM.pkl\n",
            "Epoch 49\n"
          ]
        },
        {
          "output_type": "stream",
          "name": "stderr",
          "text": [
            "100%|██████████| 256/256 [00:22<00:00, 11.56it/s]\n"
          ]
        },
        {
          "output_type": "stream",
          "name": "stdout",
          "text": [
            "loss: 5.375\n",
            "train acc:0.9865698218345642\n",
            "val acc:0.9100471138954163\n",
            "Model saved at model-2-LSTM.pkl\n",
            "Epoch 50\n"
          ]
        },
        {
          "output_type": "stream",
          "name": "stderr",
          "text": [
            "100%|██████████| 256/256 [00:23<00:00, 10.93it/s]\n"
          ]
        },
        {
          "output_type": "stream",
          "name": "stdout",
          "text": [
            "loss: 4.627\n",
            "train acc:0.9864642024040222\n",
            "val acc:0.9106884598731995\n",
            "Model saved at model-2-LSTM.pkl\n",
            "Epoch 51\n"
          ]
        },
        {
          "output_type": "stream",
          "name": "stderr",
          "text": [
            "100%|██████████| 256/256 [00:22<00:00, 11.15it/s]\n"
          ]
        },
        {
          "output_type": "stream",
          "name": "stdout",
          "text": [
            "loss: 4.736\n",
            "train acc:0.98735111951828\n",
            "val acc:0.910592257976532\n",
            "Epoch 52\n"
          ]
        },
        {
          "output_type": "stream",
          "name": "stderr",
          "text": [
            "100%|██████████| 256/256 [00:22<00:00, 11.30it/s]\n"
          ]
        },
        {
          "output_type": "stream",
          "name": "stdout",
          "text": [
            "loss: 2.459\n",
            "train acc:0.9872032999992371\n",
            "val acc:0.9112977981567383\n",
            "Model saved at model-2-LSTM.pkl\n",
            "Epoch 53\n"
          ]
        },
        {
          "output_type": "stream",
          "name": "stderr",
          "text": [
            "100%|██████████| 256/256 [00:22<00:00, 11.47it/s]\n"
          ]
        },
        {
          "output_type": "stream",
          "name": "stdout",
          "text": [
            "loss: 3.817\n",
            "train acc:0.9871188402175903\n",
            "val acc:0.9105601906776428\n",
            "Epoch 54\n"
          ]
        },
        {
          "output_type": "stream",
          "name": "stderr",
          "text": [
            "100%|██████████| 256/256 [00:22<00:00, 11.13it/s]\n"
          ]
        },
        {
          "output_type": "stream",
          "name": "stdout",
          "text": [
            "loss: 2.192\n",
            "train acc:0.9876044988632202\n",
            "val acc:0.9103677868843079\n",
            "Epoch 55\n"
          ]
        },
        {
          "output_type": "stream",
          "name": "stderr",
          "text": [
            "100%|██████████| 256/256 [00:23<00:00, 11.03it/s]\n"
          ]
        },
        {
          "output_type": "stream",
          "name": "stdout",
          "text": [
            "loss: 2.546\n",
            "train acc:0.9878367781639099\n",
            "val acc:0.9112657308578491\n",
            "Epoch 56\n"
          ]
        },
        {
          "output_type": "stream",
          "name": "stderr",
          "text": [
            "100%|██████████| 256/256 [00:22<00:00, 11.37it/s]\n"
          ]
        },
        {
          "output_type": "stream",
          "name": "stdout",
          "text": [
            "loss: 2.440\n",
            "train acc:0.9883646965026855\n",
            "val acc:0.9114902019500732\n",
            "Model saved at model-2-LSTM.pkl\n",
            "Epoch 57\n"
          ]
        },
        {
          "output_type": "stream",
          "name": "stderr",
          "text": [
            "100%|██████████| 256/256 [00:22<00:00, 11.50it/s]\n"
          ]
        },
        {
          "output_type": "stream",
          "name": "stdout",
          "text": [
            "loss: 3.786\n",
            "train acc:0.988385796546936\n",
            "val acc:0.9109771251678467\n",
            "Epoch 58\n"
          ]
        },
        {
          "output_type": "stream",
          "name": "stderr",
          "text": [
            "100%|██████████| 256/256 [00:23<00:00, 11.08it/s]\n"
          ]
        },
        {
          "output_type": "stream",
          "name": "stdout",
          "text": [
            "loss: 1.608\n",
            "train acc:0.9885969758033752\n",
            "val acc:0.9106884598731995\n",
            "Epoch 59\n"
          ]
        },
        {
          "output_type": "stream",
          "name": "stderr",
          "text": [
            "100%|██████████| 256/256 [00:23<00:00, 10.96it/s]\n"
          ]
        },
        {
          "output_type": "stream",
          "name": "stdout",
          "text": [
            "loss: 3.481\n",
            "train acc:0.9885758757591248\n",
            "val acc:0.9112015962600708\n",
            "Epoch 60\n"
          ]
        },
        {
          "output_type": "stream",
          "name": "stderr",
          "text": [
            "100%|██████████| 256/256 [00:23<00:00, 11.13it/s]\n"
          ]
        },
        {
          "output_type": "stream",
          "name": "stdout",
          "text": [
            "loss: 3.245\n",
            "train acc:0.988639235496521\n",
            "val acc:0.9110091924667358\n",
            "Epoch 61\n"
          ]
        },
        {
          "output_type": "stream",
          "name": "stderr",
          "text": [
            "100%|██████████| 256/256 [00:22<00:00, 11.41it/s]\n"
          ]
        },
        {
          "output_type": "stream",
          "name": "stdout",
          "text": [
            "loss: 3.082\n",
            "train acc:0.9887447953224182\n",
            "val acc:0.9101112484931946\n",
            "Epoch 62\n"
          ]
        },
        {
          "output_type": "stream",
          "name": "stderr",
          "text": [
            "100%|██████████| 256/256 [00:21<00:00, 11.76it/s]\n"
          ]
        },
        {
          "output_type": "stream",
          "name": "stdout",
          "text": [
            "loss: 5.495\n",
            "train acc:0.9887236952781677\n",
            "val acc:0.9109129309654236\n",
            "Epoch 63\n"
          ]
        },
        {
          "output_type": "stream",
          "name": "stderr",
          "text": [
            "100%|██████████| 256/256 [00:21<00:00, 11.70it/s]\n"
          ]
        },
        {
          "output_type": "stream",
          "name": "stdout",
          "text": [
            "loss: 3.887\n",
            "train acc:0.9888715147972107\n",
            "val acc:0.9106884598731995\n",
            "Epoch 64\n"
          ]
        },
        {
          "output_type": "stream",
          "name": "stderr",
          "text": [
            "100%|██████████| 256/256 [00:21<00:00, 11.70it/s]\n"
          ]
        },
        {
          "output_type": "stream",
          "name": "stdout",
          "text": [
            "loss: 3.659\n",
            "train acc:0.9885547757148743\n",
            "val acc:0.9110733270645142\n",
            "Epoch 65\n"
          ]
        },
        {
          "output_type": "stream",
          "name": "stderr",
          "text": [
            "100%|██████████| 256/256 [00:21<00:00, 11.92it/s]\n"
          ]
        },
        {
          "output_type": "stream",
          "name": "stdout",
          "text": [
            "loss: 1.853\n",
            "train acc:0.9885547757148743\n",
            "val acc:0.9109771251678467\n",
            "Epoch 66\n"
          ]
        },
        {
          "output_type": "stream",
          "name": "stderr",
          "text": [
            "100%|██████████| 256/256 [00:21<00:00, 11.75it/s]\n"
          ]
        },
        {
          "output_type": "stream",
          "name": "stdout",
          "text": [
            "loss: 2.342\n",
            "train acc:0.9884280562400818\n",
            "val acc:0.9107525944709778\n",
            "Epoch 67\n"
          ]
        },
        {
          "output_type": "stream",
          "name": "stderr",
          "text": [
            "100%|██████████| 256/256 [00:22<00:00, 11.60it/s]\n"
          ]
        },
        {
          "output_type": "stream",
          "name": "stdout",
          "text": [
            "loss: 2.770\n",
            "train acc:0.9889137148857117\n",
            "val acc:0.9106884598731995\n",
            "Epoch 68\n"
          ]
        },
        {
          "output_type": "stream",
          "name": "stderr",
          "text": [
            "100%|██████████| 256/256 [00:21<00:00, 12.16it/s]\n"
          ]
        },
        {
          "output_type": "stream",
          "name": "stdout",
          "text": [
            "loss: 4.575\n",
            "train acc:0.9887025952339172\n",
            "val acc:0.9112977981567383\n",
            "Epoch 69\n"
          ]
        },
        {
          "output_type": "stream",
          "name": "stderr",
          "text": [
            "100%|██████████| 256/256 [00:21<00:00, 11.98it/s]\n"
          ]
        },
        {
          "output_type": "stream",
          "name": "stdout",
          "text": [
            "loss: 3.436\n",
            "train acc:0.9888081550598145\n",
            "val acc:0.9107846617698669\n",
            "Epoch 70\n"
          ]
        },
        {
          "output_type": "stream",
          "name": "stderr",
          "text": [
            "100%|██████████| 256/256 [00:22<00:00, 11.44it/s]\n"
          ]
        },
        {
          "output_type": "stream",
          "name": "stdout",
          "text": [
            "loss: 2.304\n",
            "train acc:0.9887447953224182\n",
            "val acc:0.9111374616622925\n",
            "Epoch 71\n"
          ]
        },
        {
          "output_type": "stream",
          "name": "stderr",
          "text": [
            "100%|██████████| 256/256 [00:22<00:00, 11.28it/s]\n"
          ]
        },
        {
          "output_type": "stream",
          "name": "stdout",
          "text": [
            "loss: 4.361\n",
            "train acc:0.9885969758033752\n",
            "val acc:0.9115543365478516\n",
            "Model saved at model-2-LSTM.pkl\n",
            "Epoch 72\n"
          ]
        },
        {
          "output_type": "stream",
          "name": "stderr",
          "text": [
            "100%|██████████| 256/256 [00:22<00:00, 11.56it/s]\n"
          ]
        },
        {
          "output_type": "stream",
          "name": "stdout",
          "text": [
            "loss: 5.096\n",
            "train acc:0.9890615344047546\n",
            "val acc:0.9103677868843079\n",
            "Epoch 73\n"
          ]
        },
        {
          "output_type": "stream",
          "name": "stderr",
          "text": [
            "100%|██████████| 256/256 [00:22<00:00, 11.56it/s]\n"
          ]
        },
        {
          "output_type": "stream",
          "name": "stdout",
          "text": [
            "loss: 5.547\n",
            "train acc:0.9887025952339172\n",
            "val acc:0.9105601906776428\n",
            "Epoch 74\n"
          ]
        },
        {
          "output_type": "stream",
          "name": "stderr",
          "text": [
            "100%|██████████| 256/256 [00:22<00:00, 11.31it/s]\n"
          ]
        },
        {
          "output_type": "stream",
          "name": "stdout",
          "text": [
            "loss: 1.528\n",
            "train acc:0.988681435585022\n",
            "val acc:0.9108808636665344\n",
            "Epoch 75\n"
          ]
        },
        {
          "output_type": "stream",
          "name": "stderr",
          "text": [
            "100%|██████████| 256/256 [00:23<00:00, 11.06it/s]\n"
          ]
        },
        {
          "output_type": "stream",
          "name": "stdout",
          "text": [
            "loss: 3.737\n",
            "train acc:0.988681435585022\n",
            "val acc:0.9104639887809753\n",
            "Epoch 76\n"
          ]
        },
        {
          "output_type": "stream",
          "name": "stderr",
          "text": [
            "100%|██████████| 256/256 [00:22<00:00, 11.35it/s]\n"
          ]
        },
        {
          "output_type": "stream",
          "name": "stdout",
          "text": [
            "loss: 3.736\n",
            "train acc:0.988681435585022\n",
            "val acc:0.9107205271720886\n",
            "Epoch 77\n"
          ]
        },
        {
          "output_type": "stream",
          "name": "stderr",
          "text": [
            "100%|██████████| 256/256 [00:22<00:00, 11.36it/s]\n"
          ]
        },
        {
          "output_type": "stream",
          "name": "stdout",
          "text": [
            "loss: 3.836\n",
            "train acc:0.9885547757148743\n",
            "val acc:0.9106243252754211\n",
            "Epoch 78\n"
          ]
        },
        {
          "output_type": "stream",
          "name": "stderr",
          "text": [
            "100%|██████████| 256/256 [00:22<00:00, 11.24it/s]\n"
          ]
        },
        {
          "output_type": "stream",
          "name": "stdout",
          "text": [
            "loss: 2.346\n",
            "train acc:0.9888081550598145\n",
            "val acc:0.9102074503898621\n",
            "Epoch 79\n"
          ]
        },
        {
          "output_type": "stream",
          "name": "stderr",
          "text": [
            "100%|██████████| 256/256 [00:23<00:00, 11.09it/s]\n"
          ]
        },
        {
          "output_type": "stream",
          "name": "stdout",
          "text": [
            "loss: 2.570\n",
            "train acc:0.9889770746231079\n",
            "val acc:0.911650538444519\n",
            "Model saved at model-2-LSTM.pkl\n",
            "Epoch 80\n"
          ]
        },
        {
          "output_type": "stream",
          "name": "stderr",
          "text": [
            "100%|██████████| 256/256 [00:23<00:00, 11.13it/s]\n"
          ]
        },
        {
          "output_type": "stream",
          "name": "stdout",
          "text": [
            "loss: 2.466\n",
            "train acc:0.9888715147972107\n",
            "val acc:0.9110733270645142\n",
            "Epoch 81\n"
          ]
        },
        {
          "output_type": "stream",
          "name": "stderr",
          "text": [
            "100%|██████████| 256/256 [00:21<00:00, 11.92it/s]\n"
          ]
        },
        {
          "output_type": "stream",
          "name": "stdout",
          "text": [
            "loss: 2.874\n",
            "train acc:0.9890404343605042\n",
            "val acc:0.9111374616622925\n",
            "Epoch 82\n"
          ]
        },
        {
          "output_type": "stream",
          "name": "stderr",
          "text": [
            "100%|██████████| 256/256 [00:22<00:00, 11.28it/s]\n"
          ]
        },
        {
          "output_type": "stream",
          "name": "stdout",
          "text": [
            "loss: 5.156\n",
            "train acc:0.9887025952339172\n",
            "val acc:0.9113298654556274\n",
            "Epoch 83\n"
          ]
        },
        {
          "output_type": "stream",
          "name": "stderr",
          "text": [
            "100%|██████████| 256/256 [00:23<00:00, 10.86it/s]\n"
          ]
        },
        {
          "output_type": "stream",
          "name": "stdout",
          "text": [
            "loss: 2.083\n",
            "train acc:0.9884491562843323\n",
            "val acc:0.9109450578689575\n",
            "Epoch 84\n"
          ]
        },
        {
          "output_type": "stream",
          "name": "stderr",
          "text": [
            "100%|██████████| 256/256 [00:22<00:00, 11.22it/s]\n"
          ]
        },
        {
          "output_type": "stream",
          "name": "stdout",
          "text": [
            "loss: 4.079\n",
            "train acc:0.9891460537910461\n",
            "val acc:0.9109129309654236\n",
            "Epoch 85\n"
          ]
        },
        {
          "output_type": "stream",
          "name": "stderr",
          "text": [
            "100%|██████████| 256/256 [00:21<00:00, 11.65it/s]\n"
          ]
        },
        {
          "output_type": "stream",
          "name": "stdout",
          "text": [
            "loss: 3.513\n",
            "train acc:0.9887025952339172\n",
            "val acc:0.9107525944709778\n",
            "Epoch 86\n"
          ]
        },
        {
          "output_type": "stream",
          "name": "stderr",
          "text": [
            "100%|██████████| 256/256 [00:21<00:00, 12.08it/s]\n"
          ]
        },
        {
          "output_type": "stream",
          "name": "stdout",
          "text": [
            "loss: 0.910\n",
            "train acc:0.988533616065979\n",
            "val acc:0.9112657308578491\n",
            "Epoch 87\n"
          ]
        },
        {
          "output_type": "stream",
          "name": "stderr",
          "text": [
            "100%|██████████| 256/256 [00:22<00:00, 11.31it/s]\n"
          ]
        },
        {
          "output_type": "stream",
          "name": "stdout",
          "text": [
            "loss: 1.121\n",
            "train acc:0.9889770746231079\n",
            "val acc:0.9112977981567383\n",
            "Epoch 88\n"
          ]
        },
        {
          "output_type": "stream",
          "name": "stderr",
          "text": [
            "100%|██████████| 256/256 [00:23<00:00, 11.09it/s]\n"
          ]
        },
        {
          "output_type": "stream",
          "name": "stdout",
          "text": [
            "loss: 3.466\n",
            "train acc:0.988681435585022\n",
            "val acc:0.9110733270645142\n",
            "Epoch 89\n"
          ]
        },
        {
          "output_type": "stream",
          "name": "stderr",
          "text": [
            "100%|██████████| 256/256 [00:22<00:00, 11.33it/s]\n"
          ]
        },
        {
          "output_type": "stream",
          "name": "stdout",
          "text": [
            "loss: 1.914\n",
            "train acc:0.988787055015564\n",
            "val acc:0.9108487963676453\n",
            "Epoch 90\n"
          ]
        },
        {
          "output_type": "stream",
          "name": "stderr",
          "text": [
            "100%|██████████| 256/256 [00:22<00:00, 11.60it/s]\n"
          ]
        },
        {
          "output_type": "stream",
          "name": "stdout",
          "text": [
            "loss: 4.136\n",
            "train acc:0.9887236952781677\n",
            "val acc:0.9111374616622925\n",
            "Epoch 91\n"
          ]
        },
        {
          "output_type": "stream",
          "name": "stderr",
          "text": [
            "100%|██████████| 256/256 [00:23<00:00, 11.01it/s]\n"
          ]
        },
        {
          "output_type": "stream",
          "name": "stdout",
          "text": [
            "loss: 2.208\n",
            "train acc:0.9886181354522705\n",
            "val acc:0.9106884598731995\n",
            "Epoch 92\n"
          ]
        },
        {
          "output_type": "stream",
          "name": "stderr",
          "text": [
            "100%|██████████| 256/256 [00:22<00:00, 11.39it/s]\n"
          ]
        },
        {
          "output_type": "stream",
          "name": "stdout",
          "text": [
            "loss: 1.870\n",
            "train acc:0.9889137148857117\n",
            "val acc:0.9099509119987488\n",
            "Epoch 93\n"
          ]
        },
        {
          "output_type": "stream",
          "name": "stderr",
          "text": [
            "100%|██████████| 256/256 [00:22<00:00, 11.21it/s]\n"
          ]
        },
        {
          "output_type": "stream",
          "name": "stdout",
          "text": [
            "loss: 1.914\n",
            "train acc:0.9886603355407715\n",
            "val acc:0.9107525944709778\n",
            "Epoch 94\n"
          ]
        },
        {
          "output_type": "stream",
          "name": "stderr",
          "text": [
            "100%|██████████| 256/256 [00:22<00:00, 11.50it/s]\n"
          ]
        },
        {
          "output_type": "stream",
          "name": "stdout",
          "text": [
            "loss: 3.093\n",
            "train acc:0.9886603355407715\n",
            "val acc:0.9108487963676453\n",
            "Epoch 95\n"
          ]
        },
        {
          "output_type": "stream",
          "name": "stderr",
          "text": [
            "100%|██████████| 256/256 [00:22<00:00, 11.28it/s]\n"
          ]
        },
        {
          "output_type": "stream",
          "name": "stdout",
          "text": [
            "loss: 2.958\n",
            "train acc:0.9884703159332275\n",
            "val acc:0.9102074503898621\n",
            "\n",
            " Best model at epoch 79\n"
          ]
        }
      ]
    },
    {
      "cell_type": "code",
      "source": [
        "model_fc = RNN('2-FC', EMBEDDING_SIZE, 128, len(labels), 0.6, device, CRF=True)\n",
        "optimizer = optim.Adam(model_fc.parameters(), lr=1e-3, eps=1e-8, weight_decay=1e-3)\n",
        "optimization = Optimization(model_fc, optimizer, train_loader, val_loader)\n",
        "\n",
        "path = f'model-2-FC.pkl'\n",
        "best_acc = training_loop(model_fc, train_loader, val_loader, PATIENCE, optimization, path, writer=writer)"
      ],
      "metadata": {
        "colab": {
          "base_uri": "https://localhost:8080/"
        },
        "id": "L0ByoNTrGdws",
        "outputId": "2ba0dab7-4c14-4e7a-b9e4-c4abce676e9f"
      },
      "execution_count": 35,
      "outputs": [
        {
          "output_type": "stream",
          "name": "stdout",
          "text": [
            "Epoch 1\n"
          ]
        },
        {
          "output_type": "stream",
          "name": "stderr",
          "text": [
            "100%|██████████| 256/256 [00:19<00:00, 12.89it/s]\n"
          ]
        },
        {
          "output_type": "stream",
          "name": "stdout",
          "text": [
            "loss: 28.567\n",
            "train acc:0.7101106643676758\n",
            "val acc:0.6938716173171997\n",
            "Model saved at model-2-FC.pkl\n",
            "Epoch 2\n"
          ]
        },
        {
          "output_type": "stream",
          "name": "stderr",
          "text": [
            "100%|██████████| 256/256 [00:20<00:00, 12.63it/s]\n"
          ]
        },
        {
          "output_type": "stream",
          "name": "stdout",
          "text": [
            "loss: 14.602\n",
            "train acc:0.7814004421234131\n",
            "val acc:0.763396680355072\n",
            "Model saved at model-2-FC.pkl\n",
            "Epoch 3\n"
          ]
        },
        {
          "output_type": "stream",
          "name": "stderr",
          "text": [
            "100%|██████████| 256/256 [00:20<00:00, 12.61it/s]\n"
          ]
        },
        {
          "output_type": "stream",
          "name": "stdout",
          "text": [
            "loss: 22.006\n",
            "train acc:0.8129909634590149\n",
            "val acc:0.7930923700332642\n",
            "Model saved at model-2-FC.pkl\n",
            "Epoch 4\n"
          ]
        },
        {
          "output_type": "stream",
          "name": "stderr",
          "text": [
            "100%|██████████| 256/256 [00:19<00:00, 12.81it/s]\n"
          ]
        },
        {
          "output_type": "stream",
          "name": "stdout",
          "text": [
            "loss: 19.972\n",
            "train acc:0.8369583487510681\n",
            "val acc:0.816053569316864\n",
            "Model saved at model-2-FC.pkl\n",
            "Epoch 5\n"
          ]
        },
        {
          "output_type": "stream",
          "name": "stderr",
          "text": [
            "100%|██████████| 256/256 [00:19<00:00, 13.05it/s]\n"
          ]
        },
        {
          "output_type": "stream",
          "name": "stdout",
          "text": [
            "loss: 11.146\n",
            "train acc:0.8495016098022461\n",
            "val acc:0.8264438509941101\n",
            "Model saved at model-2-FC.pkl\n",
            "Epoch 6\n"
          ]
        },
        {
          "output_type": "stream",
          "name": "stderr",
          "text": [
            "100%|██████████| 256/256 [00:20<00:00, 12.79it/s]\n"
          ]
        },
        {
          "output_type": "stream",
          "name": "stdout",
          "text": [
            "loss: 14.231\n",
            "train acc:0.8619182109832764\n",
            "val acc:0.8411954641342163\n",
            "Model saved at model-2-FC.pkl\n",
            "Epoch 7\n"
          ]
        },
        {
          "output_type": "stream",
          "name": "stderr",
          "text": [
            "100%|██████████| 256/256 [00:20<00:00, 12.71it/s]\n"
          ]
        },
        {
          "output_type": "stream",
          "name": "stdout",
          "text": [
            "loss: 16.908\n",
            "train acc:0.8711462020874023\n",
            "val acc:0.8491485118865967\n",
            "Model saved at model-2-FC.pkl\n",
            "Epoch 8\n"
          ]
        },
        {
          "output_type": "stream",
          "name": "stderr",
          "text": [
            "100%|██████████| 256/256 [00:19<00:00, 12.93it/s]\n"
          ]
        },
        {
          "output_type": "stream",
          "name": "stdout",
          "text": [
            "loss: 10.724\n",
            "train acc:0.8753061890602112\n",
            "val acc:0.8554660677909851\n",
            "Model saved at model-2-FC.pkl\n",
            "Epoch 9\n"
          ]
        },
        {
          "output_type": "stream",
          "name": "stderr",
          "text": [
            "100%|██████████| 256/256 [00:20<00:00, 12.68it/s]\n"
          ]
        },
        {
          "output_type": "stream",
          "name": "stdout",
          "text": [
            "loss: 11.740\n",
            "train acc:0.8862445950508118\n",
            "val acc:0.858127772808075\n",
            "Model saved at model-2-FC.pkl\n",
            "Epoch 10\n"
          ]
        },
        {
          "output_type": "stream",
          "name": "stderr",
          "text": [
            "100%|██████████| 256/256 [00:20<00:00, 12.65it/s]\n"
          ]
        },
        {
          "output_type": "stream",
          "name": "stdout",
          "text": [
            "loss: 12.489\n",
            "train acc:0.8925373554229736\n",
            "val acc:0.8648622035980225\n",
            "Model saved at model-2-FC.pkl\n",
            "Epoch 11\n"
          ]
        },
        {
          "output_type": "stream",
          "name": "stderr",
          "text": [
            "100%|██████████| 256/256 [00:19<00:00, 12.84it/s]\n"
          ]
        },
        {
          "output_type": "stream",
          "name": "stdout",
          "text": [
            "loss: 9.756\n",
            "train acc:0.897858738899231\n",
            "val acc:0.8703780770301819\n",
            "Model saved at model-2-FC.pkl\n",
            "Epoch 12\n"
          ]
        },
        {
          "output_type": "stream",
          "name": "stderr",
          "text": [
            "100%|██████████| 256/256 [00:19<00:00, 12.83it/s]\n"
          ]
        },
        {
          "output_type": "stream",
          "name": "stdout",
          "text": [
            "loss: 9.214\n",
            "train acc:0.9013218879699707\n",
            "val acc:0.8726228475570679\n",
            "Model saved at model-2-FC.pkl\n",
            "Epoch 13\n"
          ]
        },
        {
          "output_type": "stream",
          "name": "stderr",
          "text": [
            "100%|██████████| 256/256 [00:20<00:00, 12.51it/s]\n"
          ]
        },
        {
          "output_type": "stream",
          "name": "stdout",
          "text": [
            "loss: 7.396\n",
            "train acc:0.9076991081237793\n",
            "val acc:0.878042459487915\n",
            "Model saved at model-2-FC.pkl\n",
            "Epoch 14\n"
          ]
        },
        {
          "output_type": "stream",
          "name": "stderr",
          "text": [
            "100%|██████████| 256/256 [00:19<00:00, 12.95it/s]\n"
          ]
        },
        {
          "output_type": "stream",
          "name": "stdout",
          "text": [
            "loss: 10.616\n",
            "train acc:0.9099375009536743\n",
            "val acc:0.8799024820327759\n",
            "Model saved at model-2-FC.pkl\n",
            "Epoch 15\n"
          ]
        },
        {
          "output_type": "stream",
          "name": "stderr",
          "text": [
            "100%|██████████| 256/256 [00:20<00:00, 12.73it/s]\n"
          ]
        },
        {
          "output_type": "stream",
          "name": "stdout",
          "text": [
            "loss: 10.743\n",
            "train acc:0.912598192691803\n",
            "val acc:0.8834941983222961\n",
            "Model saved at model-2-FC.pkl\n",
            "Epoch 16\n"
          ]
        },
        {
          "output_type": "stream",
          "name": "stderr",
          "text": [
            "100%|██████████| 256/256 [00:20<00:00, 12.41it/s]\n"
          ]
        },
        {
          "output_type": "stream",
          "name": "stdout",
          "text": [
            "loss: 8.339\n",
            "train acc:0.9152377843856812\n",
            "val acc:0.8831734657287598\n",
            "Epoch 17\n"
          ]
        },
        {
          "output_type": "stream",
          "name": "stderr",
          "text": [
            "100%|██████████| 256/256 [00:19<00:00, 12.91it/s]\n"
          ]
        },
        {
          "output_type": "stream",
          "name": "stdout",
          "text": [
            "loss: 13.066\n",
            "train acc:0.9198623299598694\n",
            "val acc:0.8865407109260559\n",
            "Model saved at model-2-FC.pkl\n",
            "Epoch 18\n"
          ]
        },
        {
          "output_type": "stream",
          "name": "stderr",
          "text": [
            "100%|██████████| 256/256 [00:19<00:00, 13.07it/s]\n"
          ]
        },
        {
          "output_type": "stream",
          "name": "stdout",
          "text": [
            "loss: 11.673\n",
            "train acc:0.9205380082130432\n",
            "val acc:0.8870537877082825\n",
            "Model saved at model-2-FC.pkl\n",
            "Epoch 19\n"
          ]
        },
        {
          "output_type": "stream",
          "name": "stderr",
          "text": [
            "100%|██████████| 256/256 [00:20<00:00, 12.63it/s]\n"
          ]
        },
        {
          "output_type": "stream",
          "name": "stdout",
          "text": [
            "loss: 12.640\n",
            "train acc:0.92583829164505\n",
            "val acc:0.8899400234222412\n",
            "Model saved at model-2-FC.pkl\n",
            "Epoch 20\n"
          ]
        },
        {
          "output_type": "stream",
          "name": "stderr",
          "text": [
            "100%|██████████| 256/256 [00:19<00:00, 12.96it/s]\n"
          ]
        },
        {
          "output_type": "stream",
          "name": "stdout",
          "text": [
            "loss: 10.141\n",
            "train acc:0.9246768951416016\n",
            "val acc:0.8889458775520325\n",
            "Epoch 21\n"
          ]
        },
        {
          "output_type": "stream",
          "name": "stderr",
          "text": [
            "100%|██████████| 256/256 [00:19<00:00, 12.94it/s]\n"
          ]
        },
        {
          "output_type": "stream",
          "name": "stdout",
          "text": [
            "loss: 13.462\n",
            "train acc:0.92955482006073\n",
            "val acc:0.8925054669380188\n",
            "Model saved at model-2-FC.pkl\n",
            "Epoch 22\n"
          ]
        },
        {
          "output_type": "stream",
          "name": "stderr",
          "text": [
            "100%|██████████| 256/256 [00:20<00:00, 12.69it/s]\n"
          ]
        },
        {
          "output_type": "stream",
          "name": "stdout",
          "text": [
            "loss: 6.940\n",
            "train acc:0.9313497543334961\n",
            "val acc:0.8941089510917664\n",
            "Model saved at model-2-FC.pkl\n",
            "Epoch 23\n"
          ]
        },
        {
          "output_type": "stream",
          "name": "stderr",
          "text": [
            "100%|██████████| 256/256 [00:19<00:00, 12.98it/s]\n"
          ]
        },
        {
          "output_type": "stream",
          "name": "stdout",
          "text": [
            "loss: 8.105\n",
            "train acc:0.9315398335456848\n",
            "val acc:0.8934034109115601\n",
            "Epoch 24\n"
          ]
        },
        {
          "output_type": "stream",
          "name": "stderr",
          "text": [
            "100%|██████████| 256/256 [00:19<00:00, 12.85it/s]\n"
          ]
        },
        {
          "output_type": "stream",
          "name": "stdout",
          "text": [
            "loss: 6.842\n",
            "train acc:0.9354252815246582\n",
            "val acc:0.8927299976348877\n",
            "Epoch 25\n"
          ]
        },
        {
          "output_type": "stream",
          "name": "stderr",
          "text": [
            "100%|██████████| 256/256 [00:20<00:00, 12.77it/s]\n"
          ]
        },
        {
          "output_type": "stream",
          "name": "stdout",
          "text": [
            "loss: 9.851\n",
            "train acc:0.9378114342689514\n",
            "val acc:0.8957444429397583\n",
            "Model saved at model-2-FC.pkl\n",
            "Epoch 26\n"
          ]
        },
        {
          "output_type": "stream",
          "name": "stderr",
          "text": [
            "100%|██████████| 256/256 [00:20<00:00, 12.68it/s]\n"
          ]
        },
        {
          "output_type": "stream",
          "name": "stdout",
          "text": [
            "loss: 5.418\n",
            "train acc:0.9390573501586914\n",
            "val acc:0.8967706561088562\n",
            "Model saved at model-2-FC.pkl\n",
            "Epoch 27\n"
          ]
        },
        {
          "output_type": "stream",
          "name": "stderr",
          "text": [
            "100%|██████████| 256/256 [00:19<00:00, 12.89it/s]\n"
          ]
        },
        {
          "output_type": "stream",
          "name": "stdout",
          "text": [
            "loss: 4.657\n",
            "train acc:0.9392051696777344\n",
            "val acc:0.8977968096733093\n",
            "Model saved at model-2-FC.pkl\n",
            "Epoch 28\n"
          ]
        },
        {
          "output_type": "stream",
          "name": "stderr",
          "text": [
            "100%|██████████| 256/256 [00:20<00:00, 12.77it/s]\n"
          ]
        },
        {
          "output_type": "stream",
          "name": "stdout",
          "text": [
            "loss: 5.631\n",
            "train acc:0.9423515200614929\n",
            "val acc:0.8974120020866394\n",
            "Epoch 29\n"
          ]
        },
        {
          "output_type": "stream",
          "name": "stderr",
          "text": [
            "100%|██████████| 256/256 [00:20<00:00, 12.78it/s]\n"
          ]
        },
        {
          "output_type": "stream",
          "name": "stdout",
          "text": [
            "loss: 9.341\n",
            "train acc:0.9426894187927246\n",
            "val acc:0.8982458114624023\n",
            "Model saved at model-2-FC.pkl\n",
            "Epoch 30\n"
          ]
        },
        {
          "output_type": "stream",
          "name": "stderr",
          "text": [
            "100%|██████████| 256/256 [00:20<00:00, 12.75it/s]\n"
          ]
        },
        {
          "output_type": "stream",
          "name": "stdout",
          "text": [
            "loss: 6.935\n",
            "train acc:0.944294273853302\n",
            "val acc:0.9005868434906006\n",
            "Model saved at model-2-FC.pkl\n",
            "Epoch 31\n"
          ]
        },
        {
          "output_type": "stream",
          "name": "stderr",
          "text": [
            "100%|██████████| 256/256 [00:20<00:00, 12.70it/s]\n"
          ]
        },
        {
          "output_type": "stream",
          "name": "stdout",
          "text": [
            "loss: 5.864\n",
            "train acc:0.9459835886955261\n",
            "val acc:0.9002019762992859\n",
            "Epoch 32\n"
          ]
        },
        {
          "output_type": "stream",
          "name": "stderr",
          "text": [
            "100%|██████████| 256/256 [00:19<00:00, 12.85it/s]\n"
          ]
        },
        {
          "output_type": "stream",
          "name": "stdout",
          "text": [
            "loss: 4.542\n",
            "train acc:0.9460892081260681\n",
            "val acc:0.9006830453872681\n",
            "Model saved at model-2-FC.pkl\n",
            "Epoch 33\n"
          ]
        },
        {
          "output_type": "stream",
          "name": "stderr",
          "text": [
            "100%|██████████| 256/256 [00:19<00:00, 12.99it/s]\n"
          ]
        },
        {
          "output_type": "stream",
          "name": "stdout",
          "text": [
            "loss: 7.784\n",
            "train acc:0.9485598206520081\n",
            "val acc:0.9023826718330383\n",
            "Model saved at model-2-FC.pkl\n",
            "Epoch 34\n"
          ]
        },
        {
          "output_type": "stream",
          "name": "stderr",
          "text": [
            "100%|██████████| 256/256 [00:20<00:00, 12.72it/s]\n"
          ]
        },
        {
          "output_type": "stream",
          "name": "stdout",
          "text": [
            "loss: 9.528\n",
            "train acc:0.9492355585098267\n",
            "val acc:0.9015488624572754\n",
            "Epoch 35\n"
          ]
        },
        {
          "output_type": "stream",
          "name": "stderr",
          "text": [
            "100%|██████████| 256/256 [00:20<00:00, 12.64it/s]\n"
          ]
        },
        {
          "output_type": "stream",
          "name": "stdout",
          "text": [
            "loss: 12.617\n",
            "train acc:0.9463847875595093\n",
            "val acc:0.8993361592292786\n",
            "Epoch 36\n"
          ]
        },
        {
          "output_type": "stream",
          "name": "stderr",
          "text": [
            "100%|██████████| 256/256 [00:19<00:00, 12.81it/s]\n"
          ]
        },
        {
          "output_type": "stream",
          "name": "stdout",
          "text": [
            "loss: 4.870\n",
            "train acc:0.9502280354499817\n",
            "val acc:0.9019337296485901\n",
            "Epoch 37\n"
          ]
        },
        {
          "output_type": "stream",
          "name": "stderr",
          "text": [
            "100%|██████████| 256/256 [00:19<00:00, 12.82it/s]\n"
          ]
        },
        {
          "output_type": "stream",
          "name": "stdout",
          "text": [
            "loss: 8.551\n",
            "train acc:0.952234148979187\n",
            "val acc:0.9025430083274841\n",
            "Model saved at model-2-FC.pkl\n",
            "Epoch 38\n"
          ]
        },
        {
          "output_type": "stream",
          "name": "stderr",
          "text": [
            "100%|██████████| 256/256 [00:19<00:00, 13.02it/s]\n"
          ]
        },
        {
          "output_type": "stream",
          "name": "stdout",
          "text": [
            "loss: 4.984\n",
            "train acc:0.9529731869697571\n",
            "val acc:0.9026071429252625\n",
            "Model saved at model-2-FC.pkl\n",
            "Epoch 39\n"
          ]
        },
        {
          "output_type": "stream",
          "name": "stderr",
          "text": [
            "100%|██████████| 256/256 [00:19<00:00, 13.01it/s]\n"
          ]
        },
        {
          "output_type": "stream",
          "name": "stdout",
          "text": [
            "loss: 5.963\n",
            "train acc:0.9540501832962036\n",
            "val acc:0.9027354121208191\n",
            "Model saved at model-2-FC.pkl\n",
            "Epoch 40\n"
          ]
        },
        {
          "output_type": "stream",
          "name": "stderr",
          "text": [
            "100%|██████████| 256/256 [00:20<00:00, 12.71it/s]\n"
          ]
        },
        {
          "output_type": "stream",
          "name": "stdout",
          "text": [
            "loss: 3.814\n",
            "train acc:0.9554649591445923\n",
            "val acc:0.9036654233932495\n",
            "Model saved at model-2-FC.pkl\n",
            "Epoch 41\n"
          ]
        },
        {
          "output_type": "stream",
          "name": "stderr",
          "text": [
            "100%|██████████| 256/256 [00:20<00:00, 12.79it/s]\n"
          ]
        },
        {
          "output_type": "stream",
          "name": "stdout",
          "text": [
            "loss: 3.133\n",
            "train acc:0.9559717774391174\n",
            "val acc:0.9028316140174866\n",
            "Epoch 42\n"
          ]
        },
        {
          "output_type": "stream",
          "name": "stderr",
          "text": [
            "100%|██████████| 256/256 [00:19<00:00, 12.96it/s]\n"
          ]
        },
        {
          "output_type": "stream",
          "name": "stdout",
          "text": [
            "loss: 9.534\n",
            "train acc:0.9572809934616089\n",
            "val acc:0.9046595692634583\n",
            "Model saved at model-2-FC.pkl\n",
            "Epoch 43\n"
          ]
        },
        {
          "output_type": "stream",
          "name": "stderr",
          "text": [
            "100%|██████████| 256/256 [00:20<00:00, 12.79it/s]\n"
          ]
        },
        {
          "output_type": "stream",
          "name": "stdout",
          "text": [
            "loss: 6.218\n",
            "train acc:0.9582523703575134\n",
            "val acc:0.9043067693710327\n",
            "Epoch 44\n"
          ]
        },
        {
          "output_type": "stream",
          "name": "stderr",
          "text": [
            "100%|██████████| 256/256 [00:19<00:00, 13.04it/s]\n"
          ]
        },
        {
          "output_type": "stream",
          "name": "stdout",
          "text": [
            "loss: 5.562\n",
            "train acc:0.9586113691329956\n",
            "val acc:0.9046275019645691\n",
            "Epoch 45\n"
          ]
        },
        {
          "output_type": "stream",
          "name": "stderr",
          "text": [
            "100%|██████████| 256/256 [00:19<00:00, 13.13it/s]\n"
          ]
        },
        {
          "output_type": "stream",
          "name": "stdout",
          "text": [
            "loss: 5.231\n",
            "train acc:0.9590970277786255\n",
            "val acc:0.9043709635734558\n",
            "Epoch 46\n"
          ]
        },
        {
          "output_type": "stream",
          "name": "stderr",
          "text": [
            "100%|██████████| 256/256 [00:19<00:00, 12.85it/s]\n"
          ]
        },
        {
          "output_type": "stream",
          "name": "stdout",
          "text": [
            "loss: 8.760\n",
            "train acc:0.9587802886962891\n",
            "val acc:0.904819905757904\n",
            "Model saved at model-2-FC.pkl\n",
            "Epoch 47\n"
          ]
        },
        {
          "output_type": "stream",
          "name": "stderr",
          "text": [
            "100%|██████████| 256/256 [00:19<00:00, 12.81it/s]\n"
          ]
        },
        {
          "output_type": "stream",
          "name": "stdout",
          "text": [
            "loss: 4.411\n",
            "train acc:0.9620111584663391\n",
            "val acc:0.9073533415794373\n",
            "Model saved at model-2-FC.pkl\n",
            "Epoch 48\n"
          ]
        },
        {
          "output_type": "stream",
          "name": "stderr",
          "text": [
            "100%|██████████| 256/256 [00:19<00:00, 12.98it/s]\n"
          ]
        },
        {
          "output_type": "stream",
          "name": "stdout",
          "text": [
            "loss: 5.273\n",
            "train acc:0.9621378183364868\n",
            "val acc:0.9049802422523499\n",
            "Epoch 49\n"
          ]
        },
        {
          "output_type": "stream",
          "name": "stderr",
          "text": [
            "100%|██████████| 256/256 [00:20<00:00, 12.75it/s]\n"
          ]
        },
        {
          "output_type": "stream",
          "name": "stdout",
          "text": [
            "loss: 7.216\n",
            "train acc:0.9611664414405823\n",
            "val acc:0.9041785001754761\n",
            "Epoch 50\n"
          ]
        },
        {
          "output_type": "stream",
          "name": "stderr",
          "text": [
            "100%|██████████| 256/256 [00:19<00:00, 12.85it/s]\n"
          ]
        },
        {
          "output_type": "stream",
          "name": "stdout",
          "text": [
            "loss: 4.631\n",
            "train acc:0.9644184112548828\n",
            "val acc:0.9074174761772156\n",
            "Model saved at model-2-FC.pkl\n",
            "Epoch 51\n"
          ]
        },
        {
          "output_type": "stream",
          "name": "stderr",
          "text": [
            "100%|██████████| 256/256 [00:19<00:00, 13.03it/s]\n"
          ]
        },
        {
          "output_type": "stream",
          "name": "stdout",
          "text": [
            "loss: 8.040\n",
            "train acc:0.964777410030365\n",
            "val acc:0.907096803188324\n",
            "Epoch 52\n"
          ]
        },
        {
          "output_type": "stream",
          "name": "stderr",
          "text": [
            "100%|██████████| 256/256 [00:19<00:00, 13.11it/s]\n"
          ]
        },
        {
          "output_type": "stream",
          "name": "stdout",
          "text": [
            "loss: 5.008\n",
            "train acc:0.9643339514732361\n",
            "val acc:0.9074174761772156\n",
            "Model saved at model-2-FC.pkl\n",
            "Epoch 53\n"
          ]
        },
        {
          "output_type": "stream",
          "name": "stderr",
          "text": [
            "100%|██████████| 256/256 [00:19<00:00, 13.00it/s]\n"
          ]
        },
        {
          "output_type": "stream",
          "name": "stdout",
          "text": [
            "loss: 4.160\n",
            "train acc:0.9664456248283386\n",
            "val acc:0.9055253863334656\n",
            "Epoch 54\n"
          ]
        },
        {
          "output_type": "stream",
          "name": "stderr",
          "text": [
            "100%|██████████| 256/256 [00:20<00:00, 12.69it/s]\n"
          ]
        },
        {
          "output_type": "stream",
          "name": "stdout",
          "text": [
            "loss: 2.459\n",
            "train acc:0.9651786088943481\n",
            "val acc:0.9068081378936768\n",
            "Epoch 55\n"
          ]
        },
        {
          "output_type": "stream",
          "name": "stderr",
          "text": [
            "100%|██████████| 256/256 [00:19<00:00, 13.02it/s]\n"
          ]
        },
        {
          "output_type": "stream",
          "name": "stdout",
          "text": [
            "loss: 5.422\n",
            "train acc:0.9669312834739685\n",
            "val acc:0.9086360931396484\n",
            "Model saved at model-2-FC.pkl\n",
            "Epoch 56\n"
          ]
        },
        {
          "output_type": "stream",
          "name": "stderr",
          "text": [
            "100%|██████████| 256/256 [00:19<00:00, 12.83it/s]\n"
          ]
        },
        {
          "output_type": "stream",
          "name": "stdout",
          "text": [
            "loss: 4.455\n",
            "train acc:0.9662344455718994\n",
            "val acc:0.9070326685905457\n",
            "Epoch 57\n"
          ]
        },
        {
          "output_type": "stream",
          "name": "stderr",
          "text": [
            "100%|██████████| 256/256 [00:20<00:00, 12.78it/s]\n"
          ]
        },
        {
          "output_type": "stream",
          "name": "stdout",
          "text": [
            "loss: 6.108\n",
            "train acc:0.9687684774398804\n",
            "val acc:0.9072892069816589\n",
            "Epoch 58\n"
          ]
        },
        {
          "output_type": "stream",
          "name": "stderr",
          "text": [
            "100%|██████████| 256/256 [00:19<00:00, 13.10it/s]\n"
          ]
        },
        {
          "output_type": "stream",
          "name": "stdout",
          "text": [
            "loss: 4.448\n",
            "train acc:0.9687051177024841\n",
            "val acc:0.9054612517356873\n",
            "Epoch 59\n"
          ]
        },
        {
          "output_type": "stream",
          "name": "stderr",
          "text": [
            "100%|██████████| 256/256 [00:20<00:00, 12.80it/s]\n"
          ]
        },
        {
          "output_type": "stream",
          "name": "stdout",
          "text": [
            "loss: 6.207\n",
            "train acc:0.969042956829071\n",
            "val acc:0.9085719585418701\n",
            "Epoch 60\n"
          ]
        },
        {
          "output_type": "stream",
          "name": "stderr",
          "text": [
            "100%|██████████| 256/256 [00:19<00:00, 12.81it/s]\n"
          ]
        },
        {
          "output_type": "stream",
          "name": "stdout",
          "text": [
            "loss: 7.111\n",
            "train acc:0.9706689715385437\n",
            "val acc:0.9085078239440918\n",
            "Epoch 61\n"
          ]
        },
        {
          "output_type": "stream",
          "name": "stderr",
          "text": [
            "100%|██████████| 256/256 [00:19<00:00, 12.85it/s]\n"
          ]
        },
        {
          "output_type": "stream",
          "name": "stdout",
          "text": [
            "loss: 6.892\n",
            "train acc:0.9704155325889587\n",
            "val acc:0.9076419472694397\n",
            "Epoch 62\n"
          ]
        },
        {
          "output_type": "stream",
          "name": "stderr",
          "text": [
            "100%|██████████| 256/256 [00:19<00:00, 13.01it/s]\n"
          ]
        },
        {
          "output_type": "stream",
          "name": "stdout",
          "text": [
            "loss: 5.363\n",
            "train acc:0.9708801507949829\n",
            "val acc:0.90895676612854\n",
            "Model saved at model-2-FC.pkl\n",
            "Epoch 63\n"
          ]
        },
        {
          "output_type": "stream",
          "name": "stderr",
          "text": [
            "100%|██████████| 256/256 [00:19<00:00, 12.94it/s]\n"
          ]
        },
        {
          "output_type": "stream",
          "name": "stdout",
          "text": [
            "loss: 6.520\n",
            "train acc:0.9701199531555176\n",
            "val acc:0.9067760705947876\n",
            "Epoch 64\n"
          ]
        },
        {
          "output_type": "stream",
          "name": "stderr",
          "text": [
            "100%|██████████| 256/256 [00:19<00:00, 13.33it/s]\n"
          ]
        },
        {
          "output_type": "stream",
          "name": "stdout",
          "text": [
            "loss: 3.075\n",
            "train acc:0.9725061058998108\n",
            "val acc:0.9085719585418701\n",
            "Epoch 65\n"
          ]
        },
        {
          "output_type": "stream",
          "name": "stderr",
          "text": [
            "100%|██████████| 256/256 [00:19<00:00, 12.86it/s]\n"
          ]
        },
        {
          "output_type": "stream",
          "name": "stdout",
          "text": [
            "loss: 2.281\n",
            "train acc:0.9732452034950256\n",
            "val acc:0.9099188446998596\n",
            "Model saved at model-2-FC.pkl\n",
            "Epoch 66\n"
          ]
        },
        {
          "output_type": "stream",
          "name": "stderr",
          "text": [
            "100%|██████████| 256/256 [00:19<00:00, 12.82it/s]\n"
          ]
        },
        {
          "output_type": "stream",
          "name": "stdout",
          "text": [
            "loss: 8.420\n",
            "train acc:0.973709762096405\n",
            "val acc:0.9088605642318726\n",
            "Epoch 67\n"
          ]
        },
        {
          "output_type": "stream",
          "name": "stderr",
          "text": [
            "100%|██████████| 256/256 [00:19<00:00, 12.94it/s]\n"
          ]
        },
        {
          "output_type": "stream",
          "name": "stdout",
          "text": [
            "loss: 2.376\n",
            "train acc:0.9741532206535339\n",
            "val acc:0.9094698429107666\n",
            "Epoch 68\n"
          ]
        },
        {
          "output_type": "stream",
          "name": "stderr",
          "text": [
            "100%|██████████| 256/256 [00:19<00:00, 12.89it/s]\n"
          ]
        },
        {
          "output_type": "stream",
          "name": "stdout",
          "text": [
            "loss: 1.831\n",
            "train acc:0.9741954207420349\n",
            "val acc:0.9088284969329834\n",
            "Epoch 69\n"
          ]
        },
        {
          "output_type": "stream",
          "name": "stderr",
          "text": [
            "100%|██████████| 256/256 [00:20<00:00, 12.79it/s]\n"
          ]
        },
        {
          "output_type": "stream",
          "name": "stdout",
          "text": [
            "loss: 4.758\n",
            "train acc:0.974892258644104\n",
            "val acc:0.9098867774009705\n",
            "Epoch 70\n"
          ]
        },
        {
          "output_type": "stream",
          "name": "stderr",
          "text": [
            "100%|██████████| 256/256 [00:19<00:00, 13.01it/s]\n"
          ]
        },
        {
          "output_type": "stream",
          "name": "stdout",
          "text": [
            "loss: 2.284\n",
            "train acc:0.9748711585998535\n",
            "val acc:0.9101433157920837\n",
            "Model saved at model-2-FC.pkl\n",
            "Epoch 71\n"
          ]
        },
        {
          "output_type": "stream",
          "name": "stderr",
          "text": [
            "100%|██████████| 256/256 [00:19<00:00, 13.09it/s]\n"
          ]
        },
        {
          "output_type": "stream",
          "name": "stdout",
          "text": [
            "loss: 6.520\n",
            "train acc:0.9747655987739563\n",
            "val acc:0.9095339775085449\n",
            "Epoch 72\n"
          ]
        },
        {
          "output_type": "stream",
          "name": "stderr",
          "text": [
            "100%|██████████| 256/256 [00:19<00:00, 12.93it/s]\n"
          ]
        },
        {
          "output_type": "stream",
          "name": "stdout",
          "text": [
            "loss: 5.889\n",
            "train acc:0.9750823378562927\n",
            "val acc:0.9094698429107666\n",
            "Epoch 73\n"
          ]
        },
        {
          "output_type": "stream",
          "name": "stderr",
          "text": [
            "100%|██████████| 256/256 [00:19<00:00, 12.99it/s]\n"
          ]
        },
        {
          "output_type": "stream",
          "name": "stdout",
          "text": [
            "loss: 6.087\n",
            "train acc:0.9750612378120422\n",
            "val acc:0.9102074503898621\n",
            "Model saved at model-2-FC.pkl\n",
            "Epoch 74\n"
          ]
        },
        {
          "output_type": "stream",
          "name": "stderr",
          "text": [
            "100%|██████████| 256/256 [00:19<00:00, 13.21it/s]\n"
          ]
        },
        {
          "output_type": "stream",
          "name": "stdout",
          "text": [
            "loss: 4.686\n",
            "train acc:0.9749556183815002\n",
            "val acc:0.90934157371521\n",
            "Epoch 75\n"
          ]
        },
        {
          "output_type": "stream",
          "name": "stderr",
          "text": [
            "100%|██████████| 256/256 [00:19<00:00, 13.04it/s]\n"
          ]
        },
        {
          "output_type": "stream",
          "name": "stdout",
          "text": [
            "loss: 6.531\n",
            "train acc:0.9753779768943787\n",
            "val acc:0.9099509119987488\n",
            "Epoch 76\n"
          ]
        },
        {
          "output_type": "stream",
          "name": "stderr",
          "text": [
            "100%|██████████| 256/256 [00:19<00:00, 13.02it/s]\n"
          ]
        },
        {
          "output_type": "stream",
          "name": "stdout",
          "text": [
            "loss: 5.053\n",
            "train acc:0.9753146171569824\n",
            "val acc:0.9088605642318726\n",
            "Epoch 77\n"
          ]
        },
        {
          "output_type": "stream",
          "name": "stderr",
          "text": [
            "100%|██████████| 256/256 [00:19<00:00, 12.94it/s]\n"
          ]
        },
        {
          "output_type": "stream",
          "name": "stdout",
          "text": [
            "loss: 3.634\n",
            "train acc:0.9754624366760254\n",
            "val acc:0.9100471138954163\n",
            "Epoch 78\n"
          ]
        },
        {
          "output_type": "stream",
          "name": "stderr",
          "text": [
            "100%|██████████| 256/256 [00:20<00:00, 12.66it/s]\n"
          ]
        },
        {
          "output_type": "stream",
          "name": "stdout",
          "text": [
            "loss: 4.951\n",
            "train acc:0.9755257964134216\n",
            "val acc:0.9098547101020813\n",
            "Epoch 79\n"
          ]
        },
        {
          "output_type": "stream",
          "name": "stderr",
          "text": [
            "100%|██████████| 256/256 [00:20<00:00, 12.76it/s]\n"
          ]
        },
        {
          "output_type": "stream",
          "name": "stdout",
          "text": [
            "loss: 3.832\n",
            "train acc:0.9755468964576721\n",
            "val acc:0.9092453718185425\n",
            "Epoch 80\n"
          ]
        },
        {
          "output_type": "stream",
          "name": "stderr",
          "text": [
            "100%|██████████| 256/256 [00:19<00:00, 12.85it/s]\n"
          ]
        },
        {
          "output_type": "stream",
          "name": "stdout",
          "text": [
            "loss: 2.548\n",
            "train acc:0.9753779768943787\n",
            "val acc:0.90895676612854\n",
            "Epoch 81\n"
          ]
        },
        {
          "output_type": "stream",
          "name": "stderr",
          "text": [
            "100%|██████████| 256/256 [00:19<00:00, 13.04it/s]\n"
          ]
        },
        {
          "output_type": "stream",
          "name": "stdout",
          "text": [
            "loss: 4.968\n",
            "train acc:0.9757158160209656\n",
            "val acc:0.9091171026229858\n",
            "Epoch 82\n"
          ]
        },
        {
          "output_type": "stream",
          "name": "stderr",
          "text": [
            "100%|██████████| 256/256 [00:19<00:00, 13.16it/s]\n"
          ]
        },
        {
          "output_type": "stream",
          "name": "stdout",
          "text": [
            "loss: 6.772\n",
            "train acc:0.9756102561950684\n",
            "val acc:0.9093095064163208\n",
            "Epoch 83\n"
          ]
        },
        {
          "output_type": "stream",
          "name": "stderr",
          "text": [
            "100%|██████████| 256/256 [00:19<00:00, 13.47it/s]\n"
          ]
        },
        {
          "output_type": "stream",
          "name": "stdout",
          "text": [
            "loss: 3.871\n",
            "train acc:0.9758214354515076\n",
            "val acc:0.909790575504303\n",
            "Epoch 84\n"
          ]
        },
        {
          "output_type": "stream",
          "name": "stderr",
          "text": [
            "100%|██████████| 256/256 [00:19<00:00, 13.06it/s]\n"
          ]
        },
        {
          "output_type": "stream",
          "name": "stdout",
          "text": [
            "loss: 5.824\n",
            "train acc:0.9758847951889038\n",
            "val acc:0.9096623063087463\n",
            "Epoch 85\n"
          ]
        },
        {
          "output_type": "stream",
          "name": "stderr",
          "text": [
            "100%|██████████| 256/256 [00:19<00:00, 13.02it/s]\n"
          ]
        },
        {
          "output_type": "stream",
          "name": "stdout",
          "text": [
            "loss: 7.529\n",
            "train acc:0.9756736159324646\n",
            "val acc:0.9095019102096558\n",
            "Epoch 86\n"
          ]
        },
        {
          "output_type": "stream",
          "name": "stderr",
          "text": [
            "100%|██████████| 256/256 [00:19<00:00, 13.16it/s]\n"
          ]
        },
        {
          "output_type": "stream",
          "name": "stdout",
          "text": [
            "loss: 3.399\n",
            "train acc:0.9756947159767151\n",
            "val acc:0.9092774391174316\n",
            "Epoch 87\n"
          ]
        },
        {
          "output_type": "stream",
          "name": "stderr",
          "text": [
            "100%|██████████| 256/256 [00:19<00:00, 13.22it/s]\n"
          ]
        },
        {
          "output_type": "stream",
          "name": "stdout",
          "text": [
            "loss: 4.435\n",
            "train acc:0.9758002758026123\n",
            "val acc:0.9091812372207642\n",
            "Epoch 88\n"
          ]
        },
        {
          "output_type": "stream",
          "name": "stderr",
          "text": [
            "100%|██████████| 256/256 [00:19<00:00, 13.01it/s]\n"
          ]
        },
        {
          "output_type": "stream",
          "name": "stdout",
          "text": [
            "loss: 4.510\n",
            "train acc:0.9758214354515076\n",
            "val acc:0.9094057083129883\n",
            "Epoch 89\n"
          ]
        },
        {
          "output_type": "stream",
          "name": "stderr",
          "text": [
            "100%|██████████| 256/256 [00:19<00:00, 13.29it/s]\n"
          ]
        },
        {
          "output_type": "stream",
          "name": "stdout",
          "text": [
            "loss: 3.990\n",
            "train acc:0.9758002758026123\n",
            "val acc:0.9090529680252075\n",
            "\n",
            " Best model at epoch 73\n"
          ]
        }
      ]
    },
    {
      "cell_type": "markdown",
      "source": [
        "# Confusion Matrix and Report\n"
      ],
      "metadata": {
        "id": "esRWaE1pRiWx"
      }
    },
    {
      "cell_type": "code",
      "source": [
        "test_set = MyDataset(test_grouped, embedder, encoder)\n",
        "test_loader = DataLoader(test_set, batch_size=len(test_set), shuffle=True, collate_fn=collate_fn_pad)"
      ],
      "metadata": {
        "id": "_SCjXraH-WNC"
      },
      "execution_count": 78,
      "outputs": []
    },
    {
      "cell_type": "code",
      "source": [
        "punctuation = np.array([',', '.', '``', \"''\",  ':', '#', '$' ])\n",
        "mask = np.array([l not in punctuation for l in labels], dtype=int)\n",
        "no_punc_labels = labels[mask == 1]\n",
        "\n",
        "y_true = torch.Tensor()\n",
        "y_pred_lstm = torch.Tensor().to(device)\n",
        "y_pred_fc = torch.Tensor().to(device)\n",
        "\n",
        "for data in test_loader:\n",
        "  y_true = torch.cat((y_true, data['labels']), 0)\n",
        "  y_pred_lstm = torch.cat((y_pred_lstm, model_lstm.prediction(data['words'])), 0)\n",
        "  y_pred_fc = torch.cat((y_pred_fc, model_fc.prediction(data['words'])), 0)\n",
        "  \n",
        "\n",
        "y_true = y_true.squeeze().flatten().int()\n",
        "y_pred_lstm = y_pred_lstm.flatten()\n",
        "y_pred_fc = y_pred_fc.flatten()"
      ],
      "metadata": {
        "id": "6Kwi9P0NlMsU"
      },
      "execution_count": 130,
      "outputs": []
    },
    {
      "cell_type": "code",
      "source": [
        "report_lstm = classification_report(y_true, y_pred_lstm.cpu(), target_names=labels, output_dict=True, zero_division = 1)\n",
        "report_fc = classification_report(y_true, y_pred_fc.cpu(), target_names=labels, output_dict=True, zero_division = 1)"
      ],
      "metadata": {
        "id": "WYcCEqcARIiY"
      },
      "execution_count": 131,
      "outputs": []
    },
    {
      "cell_type": "code",
      "source": [
        "from prettytable import PrettyTable\n",
        "\n",
        "for report in [report_lstm, report_fc]:\n",
        "  class_table = PrettyTable(['Class', 'Precision', 'Recall', 'f1-score', 'support'])\n",
        "\n",
        "  macro_avg = np.zeros(3)\n",
        "  weighted_avg = np.zeros(3)\n",
        "  samples = int(report['macro avg']['support'])\n",
        "\n",
        "  for label in no_punc_labels:\n",
        "    class_table.add_row([str(label), report[label]['precision'], report[label]['recall'], report[label]['f1-score'], report[label]['support']])\n",
        "    macro_avg += np.array([report[label]['precision'], report[label]['recall'], report[label]['f1-score']])\n",
        "    weighted_avg += np.array([report[label]['precision'], report[label]['recall'], report[label]['f1-score']])*int(report[label]['support'])\n",
        "\n",
        "  print(class_table)\n",
        "\n",
        "  macro_avg = macro_avg/len(no_punc_labels)\n",
        "  weighted_avg = weighted_avg/samples\n",
        "\n",
        "  average_table = PrettyTable(['Average', 'Precision', 'Recall', 'f1-score', 'accuracy'])\n",
        "  average_table.add_row(['macro avg', macro_avg[0],  macro_avg[1],  macro_avg[2], report['accuracy']])\n",
        "  average_table.add_row(['weighted avg', weighted_avg[0],  weighted_avg[1],  weighted_avg[2], report['accuracy']])\n",
        "\n",
        "  print(average_table)"
      ],
      "metadata": {
        "colab": {
          "base_uri": "https://localhost:8080/"
        },
        "id": "uJ5BAno2DT0d",
        "outputId": "1609b1dd-0f35-4993-d33f-082e4ca3cf9a"
      },
      "execution_count": 132,
      "outputs": [
        {
          "output_type": "stream",
          "name": "stdout",
          "text": [
            "+-------+----------------------+---------------------+---------------------+---------+\n",
            "| Class |      Precision       |        Recall       |       f1-score      | support |\n",
            "+-------+----------------------+---------------------+---------------------+---------+\n",
            "|  NNP  |         1.0          |         0.0         |         0.0         |  76337  |\n",
            "|   CD  |  0.9942528735632183  |         1.0         |  0.9971181556195965 |   173   |\n",
            "|  NNS  |         1.0          |         1.0         |         1.0         |   225   |\n",
            "|   JJ  |  0.999345977763244   |         1.0         |  0.9996728819103696 |   1528  |\n",
            "|   MD  |  0.9090909090909091  |         1.0         |  0.9523809523809523 |    50   |\n",
            "|   VB  |         0.85         |  0.9622641509433962 |  0.9026548672566371 |    53   |\n",
            "|   DT  |  0.8855755894590847  |         1.0         |  0.9393159249724163 |   1277  |\n",
            "|   NN  |  0.9953271028037384  |  0.9953271028037384 |  0.9953271028037384 |   214   |\n",
            "|   IN  |  0.9946308724832215  |  0.9775725593667546 |  0.9860279441117763 |   758   |\n",
            "|  VBZ  |  0.9884057971014493  |  0.990559186637618  |  0.9894813202756619 |   2754  |\n",
            "|  VBG  |  0.9444444444444444  |         1.0         |  0.9714285714285714 |    34   |\n",
            "|   CC  |         1.0          |         0.0         |         0.0         |    2    |\n",
            "|  VBD  |  0.9752475247524752  |  0.962442748091603  |  0.9688028277239894 |   3275  |\n",
            "|  VBN  |  0.7267050912584054  |  0.7863825363825364 |  0.7553669495756365 |   1924  |\n",
            "|   RB  |  0.8702290076335878  |  0.6909090909090909 |  0.7702702702702704 |   165   |\n",
            "|   TO  |  0.9583333333333334  |  0.7931034482758621 |  0.8679245283018867 |    58   |\n",
            "|  PRP  |  0.3333333333333333  |  0.3333333333333333 |  0.3333333333333333 |    3    |\n",
            "|  RBR  |  0.9741379310344828  |  0.9769452449567724 |  0.9755395683453238 |   347   |\n",
            "|  WDT  |  0.8290349417637272  |  0.8832262353201862 |  0.8552730393734578 |   4513  |\n",
            "|  VBP  | 0.029721955896452542 |  0.8598372781065089 | 0.05745777162698168 |   2704  |\n",
            "|   RP  |  0.1935483870967742  | 0.05714285714285714 | 0.08823529411764705 |   105   |\n",
            "|  PRP$ |  0.8580645161290322  |  0.8858230256898192 |  0.8717228464419474 |   2102  |\n",
            "|  JJS  |         1.0          |         0.0         |         0.0         |    14   |\n",
            "|  POS  |  0.9962962962962963  |         1.0         |  0.9981447124304267 |   269   |\n",
            "|   EX  |  0.9847328244274809  |         1.0         |  0.9923076923076923 |   258   |\n",
            "|   WP  |  0.6666666666666666  |  0.6857142857142857 |  0.676056338028169  |    35   |\n",
            "|  JJR  |  0.4927536231884058  |  0.7906976744186046 |  0.6071428571428571 |    43   |\n",
            "|  WRB  |  0.9973924380704041  |         1.0         |  0.9986945169712794 |   765   |\n",
            "|  NNPS |  0.8287345385347288  |  0.9110878661087866 |  0.8679621325361235 |   956   |\n",
            "|  WP$  |  0.8014553014553014  |  0.8954703832752613 |  0.8458584750411409 |   861   |\n",
            "| -LRB- |  0.6789587852494577  |  0.657563025210084  |  0.6680896478121665 |   476   |\n",
            "| -RRB- |  0.7914364640883977  |  0.7774762550881954 |  0.784394250513347  |   737   |\n",
            "|  PDT  |  0.8364779874213837  |  0.8673913043478261 |  0.8516542155816436 |   460   |\n",
            "|  RBS  |  0.8660351826792964  |  0.898876404494382  |  0.8821502412129567 |   712   |\n",
            "|   FW  |  0.9225806451612903  |  0.910828025477707  |  0.9166666666666666 |   157   |\n",
            "|   UH  |  0.9195402298850575  |         1.0         |  0.9580838323353293 |    80   |\n",
            "|  SYM  |         1.0          |         0.75        |  0.8571428571428571 |    4    |\n",
            "|   LS  |  0.9454545454545454  |  0.8387096774193549 |  0.8888888888888888 |    62   |\n",
            "+-------+----------------------+---------------------+---------------------+---------+\n",
            "+--------------+--------------------+--------------------+---------------------+--------------------+\n",
            "|   Average    |     Precision      |       Recall       |       f1-score      |      accuracy      |\n",
            "+--------------+--------------------+--------------------+---------------------+--------------------+\n",
            "|  macro avg   | 0.8431038188820956 | 0.7931232552503833 |  0.7650150388021512 | 0.2640345982142857 |\n",
            "| weighted avg | 0.9207254801798541 | 0.2377139136904762 | 0.21419070754001412 | 0.2640345982142857 |\n",
            "+--------------+--------------------+--------------------+---------------------+--------------------+\n",
            "+-------+----------------------+---------------------+----------------------+---------+\n",
            "| Class |      Precision       |        Recall       |       f1-score       | support |\n",
            "+-------+----------------------+---------------------+----------------------+---------+\n",
            "|  NNP  |         1.0          |         0.0         |         0.0          |  76337  |\n",
            "|   CD  |  0.9664804469273743  |         1.0         |  0.9829545454545454  |   173   |\n",
            "|  NNS  |  0.9910714285714286  |  0.9866666666666667 |  0.9888641425389756  |   225   |\n",
            "|   JJ  |         1.0          |         1.0         |         1.0          |   1528  |\n",
            "|   MD  |  0.9803921568627451  |         1.0         |   0.99009900990099   |    50   |\n",
            "|   VB  |  0.9811320754716981  |  0.9811320754716981 |  0.9811320754716981  |    53   |\n",
            "|   DT  |  0.9396615158204562  |         1.0         |  0.9688922610015175  |   1277  |\n",
            "|   NN  |         1.0          |         1.0         |         1.0          |   214   |\n",
            "|   IN  |  0.9959839357429718  |  0.9815303430079155 |  0.9887043189368769  |   758   |\n",
            "|  VBZ  |  0.9858951175406871  |  0.9898329702251271 |  0.9878601195868816  |   2754  |\n",
            "|  VBG  |  0.9444444444444444  |         1.0         |  0.9714285714285714  |    34   |\n",
            "|   CC  |         1.0          |         0.0         |         0.0          |    2    |\n",
            "|  VBD  |  0.9720601780779858  |  0.9667175572519084 |  0.9693815064298837  |   3275  |\n",
            "|  VBN  |  0.7105263157894737  |  0.7858627858627859 |  0.7462981243830208  |   1924  |\n",
            "|   RB  |  0.9008264462809917  |  0.6606060606060606 |  0.7622377622377623  |   165   |\n",
            "|   TO  |  0.9772727272727273  |  0.7413793103448276 |  0.8431372549019609  |    58   |\n",
            "|  PRP  |         1.0          |  0.3333333333333333 |         0.5          |    3    |\n",
            "|  RBR  |  0.9855072463768116  |  0.9798270893371758 |  0.9826589595375723  |   347   |\n",
            "|  WDT  |  0.8261682242990654  |  0.881453578550853  |  0.8529159519725557  |   4513  |\n",
            "|  VBP  | 0.030256684764599424 |  0.8779585798816568 | 0.058497400389325584 |   2704  |\n",
            "|   RP  | 0.13043478260869565  | 0.02857142857142857 |       0.046875       |   105   |\n",
            "|  PRP$ |  0.8803255146002872  |  0.8748810656517603 |  0.877594846098783   |   2102  |\n",
            "|  JJS  |         1.0          |         0.0         |         0.0          |    14   |\n",
            "|  POS  |  0.9607142857142857  |         1.0         |  0.9799635701275046  |   269   |\n",
            "|   EX  |  0.9923076923076923  |         1.0         |  0.9961389961389961  |   258   |\n",
            "|   WP  |  0.6111111111111112  |  0.6285714285714286 |  0.619718309859155   |    35   |\n",
            "|  JJR  |  0.5238095238095238  |  0.7674418604651163 |  0.6226415094339623  |    43   |\n",
            "|  WRB  |         1.0          |         1.0         |         1.0          |   765   |\n",
            "|  NNPS |  0.9289617486338798  |  0.8891213389121339 |  0.9086050240513095  |   956   |\n",
            "|  WP$  |  0.7016129032258065  |  0.9094076655052264 |  0.7921092564491655  |   861   |\n",
            "| -LRB- |  0.691566265060241   |  0.6029411764705882 |  0.644219977553311   |   476   |\n",
            "| -RRB- |  0.8032069970845481  |  0.7476255088195387 |  0.7744202389318342  |   737   |\n",
            "|  PDT  |  0.8195020746887967  |  0.8586956521739131 |  0.8386411889596603  |   460   |\n",
            "|  RBS  |  0.8845618915159944  |  0.8932584269662921 |  0.8888888888888888  |   712   |\n",
            "|   FW  |  0.9470198675496688  |  0.910828025477707  |  0.9285714285714285  |   157   |\n",
            "|   UH  |  0.9090909090909091  |         1.0         |  0.9523809523809523  |    80   |\n",
            "|  SYM  |         0.5          |         0.5         |         0.5          |    4    |\n",
            "|   LS  |         1.0          |  0.8548387096774194 |  0.9217391304347826  |    62   |\n",
            "+-------+----------------------+---------------------+----------------------+---------+\n",
            "+--------------+--------------------+--------------------+--------------------+---------------------+\n",
            "|   Average    |     Precision      |       Recall       |      f1-score      |       accuracy      |\n",
            "+--------------+--------------------+--------------------+--------------------+---------------------+\n",
            "|  macro avg   | 0.8545238029274974 | 0.7798021746790148 | 0.7596729032118914 | 0.26353236607142855 |\n",
            "| weighted avg | 0.9216196576130378 | 0.2372767857142857 | 0.2141278131253589 | 0.26353236607142855 |\n",
            "+--------------+--------------------+--------------------+--------------------+---------------------+\n"
          ]
        }
      ]
    },
    {
      "cell_type": "code",
      "source": [
        "cm = confusion_matrix(y_true, y_pred_lstm.cpu())\n",
        "\n",
        "plt.rcParams[\"figure.figsize\"] = (10, 8)\n",
        "ax= plt.subplot()\n",
        "sns.heatmap(cm)\n",
        "\n",
        "# labels, title and ticks\n",
        "ax.set_xlabel('Predicted labels');\n",
        "ax.set_ylabel('True labels'); \n",
        "ax.set_title('Confusion Matrix'); \n",
        "ax.xaxis.set_ticklabels(labels.flatten()); \n",
        "plt.xticks(rotation=90);\n",
        "ax.yaxis.set_ticklabels(labels.flatten());\n",
        "plt.yticks(rotation=0);"
      ],
      "metadata": {
        "colab": {
          "base_uri": "https://localhost:8080/",
          "height": 526
        },
        "id": "MLGNTlFLdZMp",
        "outputId": "a198f00d-9086-4fad-e1ff-93848204f5d2"
      },
      "execution_count": 99,
      "outputs": [
        {
          "output_type": "display_data",
          "data": {
            "image/png": "[encoded data removed]",
            "text/plain": [
              "<Figure size 720x576 with 2 Axes>"
            ]
          },
          "metadata": {
            "needs_background": "light"
          }
        }
      ]
    },
    {
      "cell_type": "code",
      "source": [
        ""
      ],
      "metadata": {
        "id": "Eq1_z-tg7FDo"
      },
      "execution_count": null,
      "outputs": []
    }
  ]
}