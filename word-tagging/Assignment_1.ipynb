{
  "nbformat": 4,
  "nbformat_minor": 0,
  "metadata": {
    "colab": {
      "name": "Assignment_1.ipynb",
      "provenance": [],
      "collapsed_sections": [
        "ys_LD3OQc7Si"
      ],
      "toc_visible": true
    },
    "kernelspec": {
      "name": "python3",
      "display_name": "Python 3"
    },
    "accelerator": "GPU"
  },
  "cells": [
    {
      "cell_type": "markdown",
      "metadata": {
        "id": "-WeCeITXoxLf"
      },
      "source": [
        "# Assignment 1\n",
        "\n",
        "**Due to**: 23/12/2021 (dd/mm/yyyy)\n",
        "\n",
        "**Credits**: Andrea Galassi, Federico Ruggeri, Paolo Torroni\n",
        "\n",
        "**Summary**: Part-of Speech (POS) tagging as Sequence Labelling using Recurrent Neural Architectures"
      ]
    },
    {
      "cell_type": "markdown",
      "metadata": {
        "id": "a4_wqPdlBcKS"
      },
      "source": [
        "# Intro\n",
        "\n",
        "In this assignment  we will ask you to perform POS tagging using neural architectures\n",
        "\n",
        "You are asked to follow these steps:\n",
        "*   Download the corpora and split it in training and test sets, structuring a dataframe.\n",
        "*   Embed the words using GloVe embeddings\n",
        "*   Create a baseline model, using a simple neural architecture\n",
        "*   Experiment doing small modifications to the baseline model, choose hyperparameters using the validation set\n",
        "*   Evaluate your two best model\n",
        "*   Analyze the errors of your model\n",
        "\n",
        "\n",
        "**Task**: given a corpus of documents, predict the POS tag for each word\n",
        "\n",
        "**Corpus**:\n",
        "Ignore the numeric value in the third column, use only the words/symbols and its label. \n",
        "The corpus is available at:\n",
        "https://raw.githubusercontent.com/nltk/nltk_data/gh-pages/packages/corpora/dependency_treebank.zip\n",
        "\n",
        "**Splits**: documents 1-100 are the train set, 101-150 validation set, 151-199 test set.\n",
        "\n",
        "\n",
        "**Features**: you MUST use GloVe embeddings as the only input features to the model.\n",
        "\n",
        "**Splitting**: you can decide to split documents into sentences or not, the choice is yours.\n",
        "\n",
        "**I/O structure**: The input data will have three dimensions: 1-documents/sentences, 2-token, 3-features; for the output there are 2 possibilities: if you use one-hot encoding it will be 1-documents/sentences, 2-token labels, 3-classes, if you use a single integer that indicates the number of the class it will be 1-documents/sentences, 2-token labels.\n",
        "\n",
        "**Baseline**: two layers architecture: a Bidirectional LSTM layer and a Dense/Fully-Connected layer on top; the choice of hyper-parameters is yours.\n",
        "\n",
        "**Architectures**: experiment using a GRU instead of the LSTM, adding an additional LSTM layer, and adding an additional dense layer; do not mix these variantions.\n",
        "\n",
        "\n",
        "**Training and Experiments**: all the experiments must involve only the training and validation sets.\n",
        "\n",
        "**Evaluation**: in the end, only the two best models of your choice (according to the validation set) must be evaluated on the test set. The main metric must be F1-Macro computed between the various part of speech. DO NOT CONSIDER THE PUNCTUATION CLASSES.\n",
        "\n",
        "**Metrics**: the metric you must use to evaluate your final model is the F1-macro, WITHOUT considering punctuation/symbols classes; during the training process you can use accuracy because you can't use the F1 metric unless you use a single (gigantic) batch because there is no way to aggregate \"partial\" F1 scores computed on mini-batches.\n",
        "\n",
        "**Discussion and Error Analysis** : verify and discuss if the results on the test sets are coherent with those on the validation set; analyze the errors done by your model, try to understand which may be the causes and think about how to improve it.\n",
        "\n",
        "**Report**: you are asked to deliver the code of your experiments and a small pdf report of about 2 pages; the pdf must begin with the names of the people of your team and a small abstract (4-5 lines) that sums up your findings.\n",
        "\n",
        "# Out Of Vocabulary (OOV) terms\n",
        "\n",
        "How to handle words that are not in GloVe vocabulary?\n",
        "You can handle them as you want (random embedding, placeholder, whatever!), but they must be STATIC embeddings (you cannot train them).\n",
        "\n",
        "But there is a very important caveat! As usual, the element of the test set must not influence the elements of the other splits!\n",
        "\n",
        "So, when you compute new embeddings for train+validation, you must forget about test documents.\n",
        "The motivation is to emulate a real-world scenario, where you select and train a model in the first stage, without knowing nothing about the testing environment.\n",
        "\n",
        "For implementation convenience, you CAN use a single vocabulary file/matrix/whatever. The principle of the previous point is that the embeddings inside that file/matrix must be generated independently for train and test splits.\n",
        "\n",
        "Basically in a real-world scenario, this is what would happen:\n",
        "1. Starting vocabulary V1 (in this assignment, GloVe vocabulary)\n",
        "2. Compute embeddings for terms out of vocabulary V1 (OOV1) of the training split \n",
        "3. Add embeddings to the vocabulary, so to obtain vocabulary V2=V1+OOV1\n",
        "4. Training of the model(s)\n",
        "5. Compute embeddings for terms OOV2 of the validation split \n",
        "6. Add embeddings to the vocabulary, so to obtain vocabulary V3=V1+OOV1+OOV2\n",
        "7. Validation of the model(s)\n",
        "8. Compute embeddings for terms OOV3 of the test split \n",
        "9. Add embeddings to the vocabulary, so to obtain vocabulary V4=V1+OOV1+OOV2+OOV3\n",
        "10. Testing of the final model\n",
        "\n",
        "In this case, where we already have all the documents, we can simplify the process a bit, but the procedure must remain rigorous.\n",
        "\n",
        "1. Starting vocabulary V1 (in this assignment, GloVe vocabulary)\n",
        "2. Compute embeddings for terms out of vocabulary V1 (OOV1) of the training split \n",
        "3. Add embeddings to the vocabulary, so to obtain vocabulary V2=V1+OOV1\n",
        "4. Compute embeddings for terms OOV2 of the validation split \n",
        "5. Add embeddings to the vocabulary, so to obtain vocabulary V3=V1+OOV1+OOV2\n",
        "6. Compute embeddings for terms OOV3 of the test split \n",
        "7. Add embeddings to the vocabulary, so to obtain vocabulary V4=V1+OOV1+OOV2\n",
        "8. Training of the model(s)\n",
        "9. Validation of the model(s)\n",
        "10. Testing of the final model\n",
        "\n",
        "Step 2 and step 6 must be completely independent of each other, for what concerns the method and the documents. But they can rely on the previous vocabulary (V1 for step 2 and V3 for step 6)\n",
        "THEREFORE if a word is present both in the training set and the test split and not in the starting vocabulary, its embedding is computed in step 2) and it is not considered OOV anymore in step 6).\n",
        "\n",
        "# Report\n",
        "The report must not be just a copy and paste of graphs and tables!\n",
        "\n",
        "The report must not be longer than 2 pages and must contain:\n",
        "* The names of the member of your team\n",
        "* A short abstract (4-5 lines) that sum ups everything\n",
        "* A general description of the task you have addressed and how you have addressed it\n",
        "* A short description of the models you have used\n",
        "* Some tables that sum up your findings in validation and test and a discussion of those results\n",
        "* The most relevant findings of your error analysis\n",
        "\n",
        "# Evaluation Criterion\n",
        "\n",
        "The goal of this assignment is not to prove you can find best model ever, but to face a common task, structure it correctly, and follow a correct and rigorous experimental procedure.\n",
        "In other words, we don't care if you final models are awful as long as you have followed the correct procedure and wrote a decent report.\n",
        "\n",
        "The score of the assignment will be computed roughly as follows\n",
        "* 1 point for the general setting of the problem\n",
        "* 1 point for the handling of OOV terms\n",
        "* 1 point for the models\n",
        "* 1 point for train-validation-test procedure\n",
        "* 2 point for the discussion of the results, error analysis, and report\n",
        "\n",
        "This distribution of scores is tentative and we may decide to alter it at any moment.\n",
        "We also reserve the right to assign a small bonus (0.5 points) to any assignment that is particularly worthy. Similarly, in case of grave errors, we may decide to assign an equivalent malus (-0.5 points).\n",
        "\n",
        "# Contacts\n",
        "\n",
        "In case of any doubt, question, issue, or help we highly recommend you to check the [course useful material](https://virtuale.unibo.it/pluginfile.php/1036039/mod_resource/content/2/NLP_Course_Useful_Material.pdf) for additional information, and to use the Virtuale forums to discuss with other students.\n",
        "\n",
        "You can always contact us at the following email addresses. To increase the probability of a prompt response, we reccomend you to write to both the teaching assistants.\n",
        "\n",
        "Teaching Assistants:\n",
        "\n",
        "* Andrea Galassi -> a.galassi@unibo.it\n",
        "* Federico Ruggeri -> federico.ruggeri6@unibo.it\n",
        "\n",
        "Professor:\n",
        "\n",
        "* Paolo Torroni -> p.torroni@unibo.it\n",
        "\n",
        "\n",
        "# FAQ\n",
        "* You can use a non-trainable Embedding layer to load the glove embeddings\n",
        "* You can use any library of your choice to implement the networks. Two options are tensorflow/keras or pythorch. Both these libraries have all the classes you need to implement these simple architectures and there are plenty of tutorials around, where you can learn how to use them."
      ]
    },
    {
      "cell_type": "markdown",
      "metadata": {
        "id": "D8PgAJyy40SY"
      },
      "source": [
        "# Import libraries & download dataset"
      ]
    },
    {
      "cell_type": "code",
      "metadata": {
        "id": "caNU8UeFxupB",
        "colab": {
          "base_uri": "https://localhost:8080/"
        },
        "outputId": "2b5acf5f-49e1-4019-a656-71c1b1ee4cb9"
      },
      "source": [
        "import os\n",
        "import pandas as pd\n",
        "import numpy as np\n",
        "import matplotlib.pyplot as plt\n",
        "import csv\n",
        "import seaborn as sns  \n",
        "from sklearn.metrics import confusion_matrix, classification_report\n",
        "\n",
        "import torch\n",
        "import torch.nn as nn\n",
        "from torch.utils.data import Dataset, DataLoader\n",
        "from torch.utils.tensorboard import SummaryWriter\n",
        "from torch.nn.utils.rnn import pad_sequence\n",
        "import torch.optim as optim\n",
        "\n",
        "from sklearn.preprocessing import OrdinalEncoder\n",
        "\n",
        "from tqdm import tqdm\n",
        "from typing import Optional\n",
        "\n",
        "import gensim\n",
        "import gensim.downloader as gloader  \n",
        "\n",
        "import re\n",
        "\n",
        "!pip install python-Levenshtein\n",
        "import Levenshtein\n",
        "\n",
        "import itertools\n",
        "from functools import partial\n",
        "\n",
        "device = torch.device(\"cuda\" if torch.cuda.is_available() else \"cpu\")"
      ],
      "execution_count": 1,
      "outputs": [
        {
          "output_type": "stream",
          "name": "stdout",
          "text": [
            "Collecting python-Levenshtein\n",
            "  Downloading python-Levenshtein-0.12.2.tar.gz (50 kB)\n",
            "\u001b[?25l\r\u001b[K     |██████▌                         | 10 kB 1.4 MB/s eta 0:00:01\r\u001b[K     |█████████████                   | 20 kB 2.6 MB/s eta 0:00:01\r\u001b[K     |███████████████████▌            | 30 kB 3.7 MB/s eta 0:00:01\r\u001b[K     |██████████████████████████      | 40 kB 4.7 MB/s eta 0:00:01\r\u001b[K     |████████████████████████████████| 50 kB 2.5 MB/s \n",
            "\u001b[?25hRequirement already satisfied: setuptools in /usr/local/lib/python3.7/dist-packages (from python-Levenshtein) (57.4.0)\n",
            "Building wheels for collected packages: python-Levenshtein\n",
            "  Building wheel for python-Levenshtein (setup.py) ... \u001b[?25l\u001b[?25hdone\n",
            "  Created wheel for python-Levenshtein: filename=python_Levenshtein-0.12.2-cp37-cp37m-linux_x86_64.whl size=149860 sha256=958f743b128910bde06a13e61dbc340cf7809ec68525cff8b4a6cfcd4704bb98\n",
            "  Stored in directory: /root/.cache/pip/wheels/05/5f/ca/7c4367734892581bb5ff896f15027a932c551080b2abd3e00d\n",
            "Successfully built python-Levenshtein\n",
            "Installing collected packages: python-Levenshtein\n",
            "Successfully installed python-Levenshtein-0.12.2\n"
          ]
        }
      ]
    },
    {
      "cell_type": "code",
      "metadata": {
        "id": "y2j0JgX8wpjH",
        "colab": {
          "base_uri": "https://localhost:8080/"
        },
        "outputId": "7186565d-6301-4bdf-d6c8-3c36d0f92565"
      },
      "source": [
        "!wget https://raw.githubusercontent.com/nltk/nltk_data/gh-pages/packages/corpora/dependency_treebank.zip\n",
        "!unzip -q dependency_treebank.zip"
      ],
      "execution_count": 2,
      "outputs": [
        {
          "output_type": "stream",
          "name": "stdout",
          "text": [
            "--2021-12-16 08:33:44--  https://raw.githubusercontent.com/nltk/nltk_data/gh-pages/packages/corpora/dependency_treebank.zip\n",
            "Resolving raw.githubusercontent.com (raw.githubusercontent.com)... 185.199.109.133, 185.199.110.133, 185.199.108.133, ...\n",
            "Connecting to raw.githubusercontent.com (raw.githubusercontent.com)|185.199.109.133|:443... connected.\n",
            "HTTP request sent, awaiting response... 200 OK\n",
            "Length: 457429 (447K) [application/zip]\n",
            "Saving to: ‘dependency_treebank.zip’\n",
            "\n",
            "\rdependency_treebank   0%[                    ]       0  --.-KB/s               \rdependency_treebank 100%[===================>] 446.71K  --.-KB/s    in 0.03s   \n",
            "\n",
            "2021-12-16 08:33:44 (13.4 MB/s) - ‘dependency_treebank.zip’ saved [457429/457429]\n",
            "\n"
          ]
        }
      ]
    },
    {
      "cell_type": "markdown",
      "metadata": {
        "id": "onQNYcuwCTiW"
      },
      "source": [
        "# Dataframe creation and split into train, val and test set\n",
        "\n",
        "The way to split the dataset is already defined:  \n",
        "train set : documents 1-100;  \n",
        "validation set : documents 101-150;  \n",
        "test set : documents 151-199;"
      ]
    },
    {
      "cell_type": "code",
      "metadata": {
        "id": "EADZWC3txls8"
      },
      "source": [
        "corpus_path = 'dependency_treebank/'\n",
        "file_list = sorted(os.listdir(corpus_path))\n",
        "\n",
        "dfs = [pd.read_csv(corpus_path + f, sep='\\t', names=['word', 'label', 'foo']).drop('foo', 1)\n",
        "          for f in file_list]\n",
        "\n",
        "\n",
        "dataset = pd.concat(dfs, ignore_index=True)\n",
        "dataset['word'] = dataset['word'].transform(lambda x : x.lower())  \n",
        "\n",
        "train_set = pd.concat(dfs[:100], ignore_index=True)\n",
        "train_set['word'] = train_set['word'].transform(lambda x : x.lower())\n",
        "\n",
        "val_set = pd.concat(dfs[100:150], ignore_index=True)\n",
        "val_set['word'] = val_set['word'].transform(lambda x : x.lower())\n",
        "\n",
        "test_set = pd.concat(dfs[150:199], ignore_index=True)\n",
        "test_set['word'] = test_set['word'].transform(lambda x : x.lower())\n",
        "\n",
        "labels = dataset['label'].unique()\n",
        "words = dataset['word'].unique()"
      ],
      "execution_count": 3,
      "outputs": []
    },
    {
      "cell_type": "code",
      "source": [
        "encoder = OrdinalEncoder(dtype=np.int64)\n",
        "encoder.fit(labels.reshape(-1, 1)) "
      ],
      "metadata": {
        "id": "4yRzzo9rgC8z",
        "outputId": "594b89ab-0b90-483f-ed8b-63f4ea2b4f46",
        "colab": {
          "base_uri": "https://localhost:8080/"
        }
      },
      "execution_count": 4,
      "outputs": [
        {
          "output_type": "execute_result",
          "data": {
            "text/plain": [
              "OrdinalEncoder(dtype=<class 'numpy.int64'>)"
            ]
          },
          "metadata": {},
          "execution_count": 4
        }
      ]
    },
    {
      "cell_type": "code",
      "source": [
        "EMBEDDING_SIZE = 50\n",
        "embedder = gloader.load(f'glove-wiki-gigaword-{EMBEDDING_SIZE}')"
      ],
      "metadata": {
        "id": "ouMAodz5jQh7",
        "outputId": "f8233c33-36d5-4209-8474-324dd8a4e9ca",
        "colab": {
          "base_uri": "https://localhost:8080/"
        }
      },
      "execution_count": 5,
      "outputs": [
        {
          "output_type": "stream",
          "name": "stdout",
          "text": [
            "[==================================================] 100.0% 66.0/66.0MB downloaded\n"
          ]
        }
      ]
    },
    {
      "cell_type": "markdown",
      "source": [
        "We started splitting documents in sentences using \n",
        "punctuation labelled as '.' as end of sentences."
      ],
      "metadata": {
        "id": "6thVZ3VqkX1l"
      }
    },
    {
      "cell_type": "code",
      "metadata": {
        "id": "ZQIUPI3h7DCl"
      },
      "source": [
        "train_stops = train_set[(train_set['label']=='.')].index\n",
        "max_length = max(train_stops[1:] - train_stops[:-1])\n",
        "\n",
        "val_stops = val_set[(val_set['label']=='.')].index\n",
        "max_length_val = max(val_stops[1:] - val_stops[:-1])\n",
        "\n",
        "test_stops = test_set[(test_set['label']=='.')].index\n",
        "max_length_test = max(test_stops[1:] - test_stops[:-1])\n",
        "\n",
        "\n",
        "OOV_train = set(train_set['word'].unique()).difference(set(embedder.vocab.keys()))\n",
        "OOV_val = set(val_set['word'].unique()).difference(set(embedder.vocab.keys()))\n",
        "OOV_test = set(test_set['word'].unique()).difference(set(embedder.vocab.keys()))"
      ],
      "execution_count": 6,
      "outputs": []
    },
    {
      "cell_type": "code",
      "source": [
        "print('Before pre-processing:')\n",
        "print(\"Train set unique words:\", len(train_set['word'].unique()))\n",
        "print('OOV:', len(OOV_train))\n",
        "print('Max sentence length', max_length)\n",
        "print(\"\\nValidation set unique words:\", len(val_set['word'].unique()))\n",
        "print('Max sentence length', max_length_val)\n",
        "print('OOV:', len(OOV_val))\n",
        "print(\"\\nTest set unique words:\", len(test_set['word'].unique()))\n",
        "print('Max sentence length', max_length_test)\n",
        "print('OOV:', len(OOV_test))"
      ],
      "metadata": {
        "id": "IIHU5fcWj8bd",
        "colab": {
          "base_uri": "https://localhost:8080/"
        },
        "outputId": "e670780f-8465-4bbb-e126-ec449a2a5c54"
      },
      "execution_count": 7,
      "outputs": [
        {
          "output_type": "stream",
          "name": "stdout",
          "text": [
            "Before pre-processing:\n",
            "Train set unique words: 7404\n",
            "OOV: 359\n",
            "Max sentence length 250\n",
            "\n",
            "Validation set unique words: 5420\n",
            "Max sentence length 80\n",
            "OOV: 213\n",
            "\n",
            "Test set unique words: 3407\n",
            "Max sentence length 80\n",
            "OOV: 161\n"
          ]
        }
      ]
    },
    {
      "cell_type": "markdown",
      "source": [
        "Then we tried to improve the sentences splitting using also the semi-column"
      ],
      "metadata": {
        "id": "Oomp6hyQkd-h"
      }
    },
    {
      "cell_type": "code",
      "source": [
        "train_stops = train_set[(train_set['label']=='.') | (train_set['word']==';')].index\n",
        "max_length = max(train_stops[1:] - train_stops[:-1])\n",
        "\n",
        "val_stops = val_set[(val_set['label']=='.') | (val_set['word']==';')].index\n",
        "max_length_val = max(val_stops[1:] - val_stops[:-1])\n",
        "\n",
        "test_stops = test_set[(test_set['label']=='.') | (test_set['word']==';')].index\n",
        "max_length_test = max(test_stops[1:] - test_stops[:-1])"
      ],
      "metadata": {
        "id": "bMrXaArHkAJI"
      },
      "execution_count": 8,
      "outputs": []
    },
    {
      "cell_type": "code",
      "source": [
        "print('After processing')\n",
        "print('Max sentence length in Train Set:', max_length)\n",
        "print('Max sentence length in Validation Set:', max_length_val)\n",
        "print('Max sentence length in Test Set:', max_length_test)"
      ],
      "metadata": {
        "id": "eC-lWvmzkEmh",
        "colab": {
          "base_uri": "https://localhost:8080/"
        },
        "outputId": "91cbb725-9972-4c33-dbf3-93815efed9e1"
      },
      "execution_count": 9,
      "outputs": [
        {
          "output_type": "stream",
          "name": "stdout",
          "text": [
            "After processing\n",
            "Max sentence length in Train Set: 67\n",
            "Max sentence length in Validation Set: 80\n",
            "Max sentence length in Test Set: 72\n"
          ]
        }
      ]
    },
    {
      "cell_type": "code",
      "source": [
        "def index_of_phrase(stops, word_idx):\n",
        "  return np.count_nonzero(word_idx > stops)\n",
        "\n",
        "print(\"Grouping train set\")\n",
        "train_index_phrase = np.vectorize(partial(index_of_phrase, train_stops))\n",
        "train_grouped = train_set.groupby(by=train_index_phrase)\n",
        "\n",
        "print(\"Grouping val set\")\n",
        "val_index_phrase = np.vectorize(partial(index_of_phrase, val_stops))\n",
        "val_grouped = val_set.groupby(by=val_index_phrase)\n",
        "\n",
        "print(\"Grouping test set\")\n",
        "test_index_phrase = np.vectorize(partial(index_of_phrase, test_stops))\n",
        "test_grouped = test_set.groupby(by=test_index_phrase)"
      ],
      "metadata": {
        "id": "y3RGGvmSkrJW",
        "outputId": "e3deca6f-c507-463a-a3ef-4b9962f99261",
        "colab": {
          "base_uri": "https://localhost:8080/"
        }
      },
      "execution_count": 10,
      "outputs": [
        {
          "output_type": "stream",
          "name": "stdout",
          "text": [
            "Grouping train set\n",
            "Grouping val set\n",
            "Grouping test set\n"
          ]
        }
      ]
    },
    {
      "cell_type": "markdown",
      "source": [
        "# OOV processing"
      ],
      "metadata": {
        "id": "KDww18DUTYSJ"
      }
    },
    {
      "cell_type": "code",
      "source": [
        "OOV = set(words).difference(set(embedder.vocab.keys()))\n",
        "print(OOV)\n",
        "print(\"\\nThere are\", len(OOV), \"OOV\")"
      ],
      "metadata": {
        "id": "8YSrcLB6ThSm",
        "colab": {
          "base_uri": "https://localhost:8080/"
        },
        "outputId": "ab536579-75ed-41f7-f701-73a8aabe0fd3"
      },
      "execution_count": 11,
      "outputs": [
        {
          "output_type": "stream",
          "name": "stdout",
          "text": [
            "{'substance-abusing', '497.34', '3436.58', 'wheeland', 'much-larger', 'video-viewing', 'church-goers', 'high-balance', 'junk-bond', '341.20', 'foreign-stock', 'custom-chip', 'certin', 'txo', '11\\\\/16', '84-month', 'chong-sik', 'continuingly', 'ingersoll-rand', 'food-industry', '271-147', '705.6', 'trading-company', 'flightiness', '129.91', 'nih-appointed', 'crane-safety', 'price-support', 'dead-eyed', '3.253', 'antitrust-law', 'walbrecher', 'mortgage-based', '50\\\\/50', 'we-japanese', 'auto-safety', '90-cent-an-hour', '2691.19', 'school-improvement', 'bread-and-butter', 'subskills', 'triple-c', 'property\\\\/casualty', 'new-car', 'acquisition-minded', 'sacramento-based', 'mouth-up', '608,413', 'test-coaching', '2160.1', 'retin-a', 'crocidolite', 'preparatives', 'louisiana-pacific', 'nipponese', 'buy-outs', 'year-ago', 'anku', 'free-enterprise', '-lcb-', 'scypher', 'takeover-stock', 'telephone-information', 'water-authority', 'superpremiums', 'cop-killer', 'staff-reduction', 'savers\\\\/investors', 'mehrens', '3,288,453', '5,699', 'heebie-jeebies', '1738.1', 'prize-fighter', 'one-house', '1928-33', '734.9', 'reupke', '143.80', 'roof-crush', 'index-fund', 'pre-1917', '34.625', 'truth-in-lending', 'identity-management', 'low-ball', 'mutual-fund', '16\\\\/32', '4.898', 'rate-sensitive', 'guber\\\\/peters', '38.875', 'capital-gains', 'housing-assistance', 'card-member', 'rapanelli', '142.85', 'romanee-conti', 'sell-offs', '436.01', 'chafic', 'times-stock', 'new-home', 'hart-scott-rodino', 'futures-related', 'program-trading', 'life-of-contract', 'land-idling', 'fiber-end', 'gingl', 'most-likely-successor', 'intelogic', '361,376', '19-month-old', 'pennview', 'amphobiles', 'sino-u.s.', 'melt-textured', 'more-advanced', 'vinken', 'drag-down', '500,004', '3057', 'garden-variety', 'prevalance', 'unfair-trade', 'landonne', 'two-time-losers', 'when-issued', 'market-share', 'flim-flammery', 'anti-programmers', 'stock-selection', 'drobnick', 'bellringers', '234.4', 'single-lot', '11-month-old', 'collective-bargaining', 'top-yielding', '95.09', 'investment-grade', 'small-company', 'training-wage', 'automotive-parts', 'bridgestone\\\\/firestone', 'gates-warren', 'c.d.s', 'ratners', 'larger-than-normal', '0.0085', 'deposits-a', 'wamre', 'computer-system-design', 'student-test', '55-a-share', 'sometimes-tawdry', '7\\\\/16', 'three-sevenths', '8.467', 'four-foot-high', '26,956', '374.19', 'lafite-rothschild', 'macmillan\\\\/mcgraw', 'band-wagon', 'early-retirement', 'iran\\\\/contra', 'year-earlier', 'pianist-comedian', 'bermuda-based', '83,206', '3,040,000', '13,056', '372.14', 'wine-buying', 'yen-denominated', 'shirt-sleeved', 'detective-story', '69-point', 'morale-damaging', 'school-board', 'freudtoy', 'odd-year', 'corporate-wide', 'crystal-lattice', 'radio-station', '95,142', '14,821', 'interleukin-3', 'alurralde', '1.8415', '190-point', 'fetal-tissue', '415.8', 'cash-and-stock', 'pathlogy', 'circuit-breaker', '9\\\\/32', '170,262', 'delwin', 'product-design', 'more-efficient', 'uzi-model', 'acid-rain', 'test-practice', 'northy', 'industrial-production', 'index-related', 'corn-buying', 'stock-price', 'cash-rich', '230-215', 'home-market', 'nesb', 'intellectual-property', 're-thought', '361.8', '29year', 'copper-rich', '12,252', '226,570,380', 'lynch-mob', 'circuit-board', 'potables', 'sidak', 'dydee', '630.9', 'secilia', 'disaster-assistance', '188.84', '237-seat', 'two-sevenths', 'security-type', 'ex-dividend', 'citizen-sparked', 'coche-dury', 'kalipharma', '62%-owned', 'clean-air', '434.4', '967,809', '16,072', '2645.90', 'state-supervised', 'foldability', 'boorse', 'dollar-yen', 'dust-up', 'money-market', 'investor-relations', 'passenger-car', 'forest-product', 'credit-rating', \"creator's\", 'chilver', '87-store', 'incentive-backed', '-rrb-', 'language-housekeeper', 'ariail', 'labor-backed', 'money-fund', 'pricings', '300-day', '5.276', '13.625', '11,762', 'aslacton', 'food-shop', 'equity-purchase', '737.5', 'integra-a', 'summer\\\\/winter', 'incentive-bonus', '520-lawyer', 'mariotta', 'muscolina', 'six-packs', 'executive-office', 'g.m.b', '2003\\\\/2007', 'jalaalwalikraam', 'superdot', 'glenham', 'trockenbeerenauslesen', '263.07', 'akerfeldt', 'tarwhine', 'limited-partnership', 'motor-home', '3,250,000', 'energy-services', '7.272', 'beer-belly', 'macheski', 'seven-million-ton', '1\\\\/10th', '127.03', '12\\\\/32', 'vitulli', 'cost-control', '43.875', '13\\\\/16', 'besuboru', 'lower-priority', '120-a-share', '1.457', 'hadson', '131.01', '22\\\\/32', 'government-certified', 'electrical-safety', 'high-rolling', '14\\\\/32', 'c-90', 'rexinger', 'page-one', 'sulfur-dioxide', 'yttrium-containing', '5\\\\/8', 'boogieman', 'sogo-shosha', 'stock-specialist', '62.625', 'cup-tote', 'odd-sounding', 'satrum', '8.575', 'near-limit', 'blue-chips', 'arbitraging', 'express-buick', 'egnuss', 'test-preparation', '1937-40', 'teacher-cadet', 'pre-1933', '71,309', 'sewing-machine', 'synergistics', '3\\\\/4', 'ensrud', 'rope-sight', 'equal-opportunity', 'diloreto', 'test-drive', 'car-safety', '142.84', 'market-makers', 'then-speaker', '126.15', '2141.7', 'bronces', 'arbitrage-related', 'front-seat', 'hasbrouk', 'solaia', 'stock-picking', 'nearly-30', 'anti-morning-sickness', 'merger-related', '374.20', 'pension-fund', 'achievement-test', 'yeargin', 'ctbs', 'test-prep', 'tiphook', 'less-than-brilliant', '449.04', 'constitutional-law', 'social-studies', 'one-yen', 'school-district', 'computer-services', 'wtd', 'asset-sale', 'six-bottle', 'machine-gun-toting', 'heavy-truck', 'parts-engineering', 'safe-deposit', 'index-options', '2,050-passenger', 'super-absorbent', '1206.26', 'building-products', 'minimum-wage', '35564.43', '1.5755', 'purepac', 'cleaner-burning', 'profit-taking', 'stock-manipulation', 'ntg', 'search-and-seizure', 'sub-markets', 'colorliner', 'nagymaros', 'yen-support', '377.60', 'veselich', '1.637', 'non-callable', 'bank-backed', 'tissue-transplant', 'bell-ringer', 'side-crash', 'monchecourt', 'money-center', 'lezovich', '292.32', 'derchin', 'manmade-fiber', '30,537', 'asset-valuation', 'non-biodegradable', 'sometimes-exhausting', 'post-hearing', 'crookery', '446.62', 'blood-cell', 'abortion-related', 'price-depressing', 'built-from-kit', '-lrb-', 'autions', 'life-insurance', 'bottom-line', 'ac-130u', 'recession-inspired', 'mutchin', 'midwesco', 'buttoned-down', 'prior-year', '494.50', 'long-tenured', 'makato', 'anti-miscarriage', 'higher-salaried', '143.93', 'write-downs', '319.75', 'pro-iranian', '23,403', 'per-share', '100,980', 'co-developers', '47.125', 'bumkins', 'twin-jet', 'mega-stadium', '8300s', 'macmillan\\\\/mcgraw-hill', 'non-encapsulating', '1\\\\/2', 'eight-count', 'one-newspaper', 'one-country', 'moleculon', 'polyproplene', '82,389', 'ghkm', 'old-house', 'derel', 'purhasing', 'lookee-loos', '618.1', 'anti-deficiency', 'protein-1', '300-a-share', '566.54', 'malizia', 'disputado', 'yoshihashi', '11,390,000', '1.1650', 'erbamont', '220.45', 'senate-house', 'weapons-modernization', 'stirlen', 'arighi', '1.916', 'high-rate', 'contingency-fee', '6,799', 'weisfield', 'centerbank', '382-37', 'quantitive', 'chemplus', '158,666', 'computer-driven', 'cents-a-unit', 'insurance-company', 'change-ringing', 'floating-rate', 'biondi-santi', '352.9', 'bald-faced', 'industry-supported', 'lightning-fast', 'pattenden', 'low-ability', 'inter-tel', 'sharedata', 'securities-based', 'house-senate', '415.6', 'million-a-year', 'war-rationed', 'revenue-desperate', '456.64', '45-a-share', 'corton-charlemagne', 'high-polluting', 'middle-ground', 'bankruptcy-law', 'information-services', 'disputada', '352.7', 'college-bowl', '236.79', 'heiwado', '811.9', 'pramual', 'mininum-wage', 'greenmailer', '40-megabyte', '7.458', 'launch-vehicle', '5.435', 'yet-to-be-formed', 'hummerstone', 'sport-utility', 'univest', 'headcount-control', '37-a-share', 'double-c', 'one-upsmanship', '7\\\\/8', '3648.82', 'ft-se', '372.9', 'diceon', '4,393,237', 'pro-forma', '9,118', 'family-planning', 'sticker-shock', 'lobsenz', 'enzor', '18,444', '18-a-share', 'less-serious', 'cray-3', 'rey\\\\/fawcett', '2163.2', 'sanderoff', 'meinders', 'sub-segments', 'stock-index', 'highest-pitched', '7.422', 'savings-and-loan', 'news-american', '14.', '2\\\\/32', '36-store', '20-stock', '154,240,000', 'sept.30', 'several-year', 'shareholder-rights', 'freshbake', 'subindustry', 'replacement-car', 'unicorp', 'trettien', 'above-market', 'marketing-communications', 'propagandizes', 'thin-lipped', 'norwick', 'capital-markets', 'triple-a-rated', 'nekoosa', '3\\\\/8', 'school-research', 'cotran', 'twindam', 'insider-trading', 'subminimum', '2,303,328', 'lap-shoulder', 'noncompetitively', 'waertsilae', 'prudential-bache', 'samnick', 'lentjes', 'unenticing', 'tire-kickers', 'c.j.b.', 'johnson-era', 'waymar', 'herald-american', '16.125', '877,663', 'ednie', '6\\\\/2', 'three-lawyer', '-rcb-', 'automotive-lighting', 'anti-abortionists', '278.7', 'car-development', 'hallwood', '1\\\\/8', 'minicrash', '1\\\\/4', '387.8', 'nissho-iwai', 'veraldi', 'shokubai', '236.74', 'financial-services', 'newspaper-printing', 'wfrr', 'intecknings', '35500.64', 'tete-a-tete', 'anti-takeover', 'index-arbitrage', 'exxon-owned', 'anti-china', 'subskill', 'liquid-nitrogen', 'ballantine\\\\/del', 'chinchon', 'forest-products', 'colonsville', 'nofzinger', 'n.v', '300-113', '100-megabyte', 'breakey', 'airline-related', 'electric-utility', '271,124', 'car-care', 'anti-program', 'wheel-loader', '70-a-share', '238,000-circulation', 'big-ticket', '5.2180', 'conn.based', 'durable-goods', 'multi-crystal', 'micronite', 'red-blooded', 'nylev', 'seven-yen', '143.08', 'phacoflex', '38.375', '30,841', 'light-truck', 'severable', 'jerritts', 'rubinfien', 'direct-investment', 'red-flag', 'foreign-led'}\n",
            "\n",
            "There are 676 OOV\n"
          ]
        }
      ]
    },
    {
      "cell_type": "code",
      "source": [
        "def isNumber(n):\n",
        "  if n == 'nan':\n",
        "    return False\n",
        "\n",
        "  try:\n",
        "    float(n)\n",
        "    return True\n",
        "  except:\n",
        "    return False\n",
        "\n",
        "vocab_keys = embedder.vocab.keys()\n",
        "vocab_array = np.array(list(vocab_keys))\n",
        "str_number_keys = [n for n in vocab_keys if isNumber(n)]\n",
        "number_keys = np.array(str_number_keys, dtype=np.float32)\n",
        "\n",
        "def correct_typo(word, threshold=1):\n",
        "  if word in vocab_keys:\n",
        "    return word\n",
        "\n",
        "  if re.match('[a-z]', word): #avoid to use Levenshtein on numbers\n",
        "    dist = lambda elem: Levenshtein.distance(word, elem)\n",
        "    distances = np.vectorize(dist)(vocab_array)\n",
        "    idx_min = np.argmin(distances)\n",
        "    if distances[idx_min] <= threshold:\n",
        "      return vocab_array[idx_min]\n",
        "\n",
        "  #maybe it is a number, convert to the nearest one\n",
        "  try:\n",
        "    word = word.replace(',', '')\n",
        "    number = float(word)\n",
        "\n",
        "    idx = np.argmin(np.abs(number_keys - number))\n",
        "    return str_number_keys[idx]\n",
        "\n",
        "  except:\n",
        "    pass\n",
        "\n",
        "\n",
        "\n",
        "def handling_OOV(words, OOV, embedder):\n",
        "  '''\n",
        "  Try to check if OOV are due to:\n",
        "     1)Decimal numbers; \n",
        "     2)words separated by special character (-, \\\\/)compuound words ;\n",
        "     3)Words compuound by two words present in the vocabulary; \n",
        "     4)Typos;\n",
        "  '''\n",
        "\n",
        "  '''\n",
        "  Words separated by special characters are encoded using the embedding of the two words.\n",
        "  For other words we just check the spelling and try to approximate number.\n",
        "  '''\n",
        "  print(\"Correcting numbers, typos and words separated by special characters.\")\n",
        "  for w in tqdm(OOV):\n",
        "   try:\n",
        "    if '-' in w:\n",
        "      subWords = w.split('-')\n",
        "      embedded_words = [embedder[correct_typo(subW)] for subW in subWords if subW]\n",
        "      embedder.add([w], [np.mean(embedded_words, axis=0)])\n",
        "    \n",
        "    elif '\\\\/' in w:\n",
        "      subWords = w.split('\\\\/')\n",
        "      embedded_words = [embedder[correct_typo(subW)] for subW in subWords]\n",
        "      embedder.add([w], [np.mean(embedded_words, axis=0)])\n",
        "\n",
        "    else:\n",
        "      embedder.add([w], [embedder[correct_typo(w)]])\n",
        "\n",
        "   except:\n",
        "    pass\n",
        "\n",
        "  \n",
        "  OOV = set(words).difference(set(embedder.vocab.keys()))\n",
        "  print(\"There are\", len(OOV), \"OOV\")\n",
        "  \n",
        "  # Compound words\n",
        "  print('Analyzing compound words')\n",
        "  for w in tqdm(OOV):\n",
        "    for i in range(2, len(w)-2):\n",
        "      w1 = w[:i]\n",
        "      w2 = w[i:]\n",
        "      if w1 in vocab_keys and w2 in vocab_keys:\n",
        "        embedding = (embedder[w1] + embedder[w2]) / 2\n",
        "        embedder.add([w], [embedding])\n",
        "        break\n",
        "\n",
        "  embedder.add(['62%-owned'], [(embedder['.62']+embedder['owned'])/2])\n",
        "\n",
        "  \n",
        "  OOV = set(words).difference(set(embedder.vocab.keys()))\n",
        "  print(\"There are\", len(OOV), \"OOV\")\n",
        "\n",
        "  # Typos\n",
        "  print('Correcting typos with Levenshtein distance up to 2')\n",
        "  for w in tqdm(OOV):\n",
        "   try:\n",
        "    new_w = correct_typo(w, threshold=2)\n",
        "    embedder.add([w], [embedder[new_w]])\n",
        "   except:\n",
        "    pass\n",
        "\n",
        "  OOV = set(words).difference(set(embedder.vocab.keys()))\n",
        "  print(\"\\nThere are\", len(OOV), \"OOV\")\n",
        "  return"
      ],
      "metadata": {
        "id": "3RIdJtLXk3vU"
      },
      "execution_count": 12,
      "outputs": []
    },
    {
      "cell_type": "code",
      "source": [
        "handling_OOV(words, OOV, embedder)"
      ],
      "metadata": {
        "id": "n0VSyq04k88D",
        "outputId": "1f7b55d7-24f6-483f-f2a4-b7b84b4e73be",
        "colab": {
          "base_uri": "https://localhost:8080/"
        }
      },
      "execution_count": 13,
      "outputs": [
        {
          "output_type": "stream",
          "name": "stdout",
          "text": [
            "Correcting numbers, typos and words separated by special characters.\n"
          ]
        },
        {
          "output_type": "stream",
          "name": "stderr",
          "text": [
            "100%|██████████| 676/676 [01:07<00:00, 10.04it/s]\n"
          ]
        },
        {
          "output_type": "stream",
          "name": "stdout",
          "text": [
            "There are 76 OOV\n",
            "Analyzing compound words\n"
          ]
        },
        {
          "output_type": "stream",
          "name": "stderr",
          "text": [
            "100%|██████████| 76/76 [00:00<00:00, 113.83it/s]\n"
          ]
        },
        {
          "output_type": "stream",
          "name": "stdout",
          "text": [
            "There are 17 OOV\n",
            "Correcting typos with Levenshtein distance up to 2\n"
          ]
        },
        {
          "output_type": "stream",
          "name": "stderr",
          "text": [
            "100%|██████████| 17/17 [00:05<00:00,  3.09it/s]"
          ]
        },
        {
          "output_type": "stream",
          "name": "stdout",
          "text": [
            "There are 7 OOV\n"
          ]
        },
        {
          "output_type": "stream",
          "name": "stderr",
          "text": [
            "\n"
          ]
        }
      ]
    },
    {
      "cell_type": "code",
      "source": [
        "print('After processing')\n",
        "print('There are ', len(set(OOV_train).difference(set(embedder.vocab.keys()))), ' OOV in the train set')\n",
        "print('There are ', len(set(OOV_val).difference(set(embedder.vocab.keys()))), ' OOV in the val set')\n",
        "print('There are ', len(set(OOV_test).difference(set(embedder.vocab.keys()))), ' OOV in the test set')"
      ],
      "metadata": {
        "id": "Gq5jPOaHk-Lo",
        "colab": {
          "base_uri": "https://localhost:8080/"
        },
        "outputId": "6e8b4b07-d1c2-4d6d-e433-77faa299f99e"
      },
      "execution_count": 14,
      "outputs": [
        {
          "output_type": "stream",
          "name": "stdout",
          "text": [
            "After processing\n",
            "There are  5  OOV in the train set\n",
            "There are  2  OOV in the val set\n",
            "There are  0  OOV in the test set\n"
          ]
        }
      ]
    },
    {
      "cell_type": "markdown",
      "source": [
        "Adding the remaining words randomly."
      ],
      "metadata": {
        "id": "ioBZxTEvfpLh"
      }
    },
    {
      "cell_type": "code",
      "source": [
        "OOV = set(words).difference(set(embedder.vocab.keys()))\n",
        "OOV_value = np.random.uniform(low=-0.05, high=0.05, size=(len(OOV), EMBEDDING_SIZE))\n",
        "embedder.add(list(OOV), OOV_value)"
      ],
      "metadata": {
        "id": "OgCb8v7RhFAi"
      },
      "execution_count": 15,
      "outputs": []
    },
    {
      "cell_type": "markdown",
      "metadata": {
        "id": "QsAgPfRqStWK"
      },
      "source": [
        "# Dataset analysis"
      ]
    },
    {
      "cell_type": "code",
      "metadata": {
        "colab": {
          "base_uri": "https://localhost:8080/"
        },
        "id": "LT0pl2UG0H0O",
        "outputId": "8a6c779a-dc08-48ea-8c5c-c00ee78810b4"
      },
      "source": [
        "print(\"The max sentence length in training set is\", max_length)\n",
        "print(f'There are {len(train_stops)} sentences in the training set')\n",
        "print(f'There are {len(labels)} labels')\n",
        "print(f'There are {len(words)} unique words, {len(OOV)} of them are OOV')"
      ],
      "execution_count": 16,
      "outputs": [
        {
          "output_type": "stream",
          "name": "stdout",
          "text": [
            "The max sentence length in training set is 67\n",
            "There are 2046 sentences in the training set\n",
            "There are 45 labels\n",
            "There are 10947 unique words, 7 of them are OOV\n"
          ]
        }
      ]
    },
    {
      "cell_type": "markdown",
      "metadata": {
        "id": "ys_LD3OQc7Si"
      },
      "source": [
        "## Plot dataset distribution\n",
        "\n",
        "Train, validation and test set more or less follows the same distribution and they share similar characteristics.  \n",
        "Validation and test sets can be considered representative."
      ]
    },
    {
      "cell_type": "code",
      "metadata": {
        "id": "FsUG2Cee8vMU",
        "colab": {
          "base_uri": "https://localhost:8080/",
          "height": 351
        },
        "outputId": "8da3cef8-9c37-4ad9-e937-b5ede379f691"
      },
      "source": [
        "train_counts = train_set.groupby(by='label').count()\n",
        "train_counts = train_counts / len(train_set) * 100\n",
        "val_counts = val_set.groupby(by='label').count()\n",
        "val_counts = val_counts / len(val_set) * 100\n",
        "val_counts = val_counts.reindex(labels, fill_value=0)\n",
        "test_counts = test_set.groupby(by='label').count()\n",
        "test_counts = test_counts / len(test_set) * 100\n",
        "test_counts = test_counts.reindex(labels, fill_value=0)\n",
        "ind = np.arange(len(labels))\n",
        "\n",
        "plt.figure(figsize=(18,6))\n",
        "width = 0.2       \n",
        "plt.bar(ind, train_counts.loc[labels, 'word'] , width, label='Train set');\n",
        "plt.bar(ind + width, val_counts.loc[labels, 'word'], width, label='Validation set');\n",
        "plt.bar(ind + 2*width, test_counts.loc[labels, 'word'], width, label='Test set');\n",
        "\n",
        "plt.xlabel('Labels');\n",
        "plt.ylabel('Count %');\n",
        "plt.title('Dataset distribution');\n",
        "\n",
        "plt.xticks(ind + width / 3, labels, rotation=45);\n",
        "plt.legend();"
      ],
      "execution_count": 17,
      "outputs": [
        {
          "output_type": "display_data",
          "data": {
            "image/png": "[encoded data removed]",
            "text/plain": [
              "<Figure size 1296x432 with 1 Axes>"
            ]
          },
          "metadata": {
            "needs_background": "light"
          }
        }
      ]
    },
    {
      "cell_type": "code",
      "metadata": {
        "id": "dpuY1KPGZzKn",
        "colab": {
          "base_uri": "https://localhost:8080/",
          "height": 295
        },
        "outputId": "2cf1dd55-a050-4ec8-b4e8-60078c8f3ce6"
      },
      "source": [
        "counts_word = train_set.groupby('word').count().to_numpy()[:, 0]\n",
        "\n",
        "plt.plot(np.sort(counts_word)[::-1]);\n",
        "plt.yscale('log')\n",
        "\n",
        "plt.xlabel('Words');\n",
        "plt.ylabel('Count');\n",
        "plt.title('Word distribution (log scale)');"
      ],
      "execution_count": 18,
      "outputs": [
        {
          "output_type": "display_data",
          "data": {
            "image/png": "[encoded data removed]",
            "text/plain": [
              "<Figure size 432x288 with 1 Axes>"
            ]
          },
          "metadata": {
            "needs_background": "light"
          }
        }
      ]
    },
    {
      "cell_type": "code",
      "metadata": {
        "id": "WvBvMKm8Da9J",
        "colab": {
          "base_uri": "https://localhost:8080/",
          "height": 974
        },
        "outputId": "61040341-0209-4757-b7bb-3de27ca21fd6"
      },
      "source": [
        "def make_plot(sentences, name):\n",
        "  f = plt.figure(figsize=(12, 5))\n",
        "  ax1 = plt.subplot(121)\n",
        "  ax2 = plt.subplot(122)\n",
        "\n",
        "  ax1.hist(sentences.count()['word'], bins=250);\n",
        "  ax1.set_title(f\"Sentence length distribution ({name})\");\n",
        "\n",
        "  ax2.boxplot(sentences.count()['word']);\n",
        "  ax2.set_title(f\"Boxplot for sentence length ({name})\");\n",
        "\n",
        "name_sentences = {\n",
        "    'train': train_grouped,\n",
        "    'validation': val_grouped,\n",
        "    'test': test_grouped\n",
        "}\n",
        "\n",
        "for name in name_sentences:\n",
        "  make_plot(name_sentences[name], name)"
      ],
      "execution_count": 19,
      "outputs": [
        {
          "output_type": "display_data",
          "data": {
            "image/png": "[encoded data removed]",
            "text/plain": [
              "<Figure size 864x360 with 2 Axes>"
            ]
          },
          "metadata": {
            "needs_background": "light"
          }
        },
        {
          "output_type": "display_data",
          "data": {
            "image/png": "[encoded data removed]",
            "text/plain": [
              "<Figure size 864x360 with 2 Axes>"
            ]
          },
          "metadata": {
            "needs_background": "light"
          }
        },
        {
          "output_type": "display_data",
          "data": {
            "image/png": "[encoded data removed]",
            "text/plain": [
              "<Figure size 864x360 with 2 Axes>"
            ]
          },
          "metadata": {
            "needs_background": "light"
          }
        }
      ]
    },
    {
      "cell_type": "markdown",
      "metadata": {
        "id": "Qa9eCkjMwHsO"
      },
      "source": [
        "# Create RNN, Optimizer and DataLoader classes\n"
      ]
    },
    {
      "cell_type": "code",
      "metadata": {
        "id": "4qKGsuBvwKk6"
      },
      "source": [
        "class RNN(nn.Module):\n",
        "  \"\"\"\n",
        "    architecture: str\n",
        "      'LSTM'   : the baseline architecture\n",
        "      '2-LSTM' : 2 LSTM layers\n",
        "      '2-FC'   : 2 Dense Layers\n",
        "      'GRU'    : Gated Recurrent Unit\n",
        "  \"\"\"\n",
        "  def __init__(self, architecture, input_dim, hidden_size, output_size, dropout, device):\n",
        "    super(RNN, self).__init__()\n",
        "    self.architecture = architecture\n",
        "    self.n_layers = 2 if architecture == '2-LSTM' else 1\n",
        "    self.output_size = output_size\n",
        "    self.hidden_size = hidden_size\n",
        "    self.device = device\n",
        "    \n",
        "    if self.architecture == 'GRU':\n",
        "      self.rnn = nn.GRU(input_dim, hidden_size, num_layers=self.n_layers, bidirectional=True)\n",
        "    else:\n",
        "      self.rnn = nn.LSTM(input_dim, hidden_size, num_layers=self.n_layers, bidirectional=True)\n",
        "\n",
        "    self.dropout_layer = nn.Dropout(p=dropout)\n",
        "\n",
        "    if self.architecture == '2-FC':\n",
        "      self.fc = nn.Sequential(\n",
        "          nn.Linear(self.hidden_size*2, self.hidden_size),\n",
        "          nn.Dropout(p=dropout),\n",
        "          nn.Linear(self.hidden_size, output_size)\n",
        "      )\n",
        "    else:\n",
        "      self.fc = nn.Linear(self.hidden_size*2, output_size)\n",
        "\n",
        "\n",
        "\n",
        "  def forward(self, input):\n",
        "    input = input.permute(1, 0, 2)\n",
        "\n",
        "    #initialize hidden state and cell state\n",
        "    hidden = (torch.randn(self.n_layers*2, input.shape[1],\n",
        "                          self.hidden_size).to(self.device),\n",
        "              torch.randn(self.n_layers*2, input.shape[1],\n",
        "                          self.hidden_size).to(self.device))\n",
        "    out, hidden = self.rnn(input, hidden)\n",
        "\n",
        "    out = self.dropout_layer(out)\n",
        "\n",
        "    #process timesteps independently \n",
        "    logits = self.fc(out.view(-1, out.size(2)))\n",
        "    \n",
        "    output = logits.view(input.shape[0], input.shape[1], self.output_size)\n",
        "\n",
        "    return output.permute(1, 0, 2).contiguous()\n",
        "\n",
        "\n",
        "  def prediction(self, input: DataLoader):\n",
        "    \n",
        "    self.eval()\n",
        "    with torch.no_grad():\n",
        "\n",
        "      y_pred = torch.Tensor().to(self.device)\n",
        "      for data in input:  \n",
        "        words = data['words'].to(device)\n",
        "        lengths = data['lengths'].to(device)\n",
        "        scores = self(words)\n",
        "        classes_predicted = torch.argmax(scores, 2)\n",
        "\n",
        "        for i, length in enumerate(lengths):\n",
        "          y_pred = torch.cat((y_pred, classes_predicted[i, :length]), 0)\n",
        "    \n",
        "    self.train()\n",
        "    return y_pred\n",
        "\n",
        "\n",
        "  def accuracy(self, input: DataLoader):\n",
        "    num_correct = 0\n",
        "    num_samples = 0\n",
        "    self.eval()\n",
        "    \n",
        "    with torch.no_grad():\n",
        "        for data in input:\n",
        "            word = data['words'].to(device)\n",
        "            labels = data['labels'].to(device)\n",
        "            labels = labels.squeeze(-1)\n",
        "            \n",
        "            lengths = data['lengths'].to(device)\n",
        "\n",
        "            scores = self(word)\n",
        "            classes_predicted = torch.argmax(scores, 2)\n",
        "\n",
        "            for i, length in enumerate(lengths):\n",
        "              num_correct += torch.eq(classes_predicted[i, :length], labels[i, :length]).sum().item()\n",
        "\n",
        "            num_samples += lengths.sum()\n",
        "        \n",
        "    \n",
        "    return num_correct/num_samples\n",
        "\n"
      ],
      "execution_count": 20,
      "outputs": []
    },
    {
      "cell_type": "code",
      "metadata": {
        "id": "2MCssLkB8TUg"
      },
      "source": [
        "class Optimization:\n",
        "    def __init__(self, model, loss_fn, optimizer):\n",
        "        self.model = model\n",
        "        self.loss_fn = loss_fn\n",
        "        self.optimizer = optimizer\n",
        "        self.history = []\n",
        "    \n",
        "    def train_step(self, x, y):\n",
        "        self.model.train()\n",
        "        yhat = self.model(x)\n",
        "\n",
        "        yhat = yhat.reshape(-1, yhat.shape[-1])\n",
        "        y = y.flatten()\n",
        "\n",
        "        loss = self.loss_fn(yhat, y)\n",
        "        self.history.append(loss.item())\n",
        "        loss.backward()\n",
        "\n",
        "        self.optimizer.step()\n",
        "        self.optimizer.zero_grad()\n",
        "\n",
        "        return loss.item()"
      ],
      "execution_count": 21,
      "outputs": []
    },
    {
      "cell_type": "code",
      "metadata": {
        "id": "PpwRlpy68pSP"
      },
      "source": [
        "class MyDataset(Dataset):\n",
        "  def __init__(self, dataframe, embedder, encoder, max_length=None):\n",
        "    self.max_length = max_length if max_length else dataframe.count().max()['word']\n",
        "    self.dataframe = dataframe\n",
        "    self.embedder = embedder\n",
        "    self.encoder = encoder\n",
        "\n",
        "  def __len__(self):\n",
        "    return len(self.dataframe)\n",
        "\n",
        "  def __getitem__(self, idx):\n",
        "    sentence = self.dataframe.get_group(idx)[:self.max_length]\n",
        "\n",
        "    labels = np.array(sentence['label'], dtype = str).reshape(-1, 1)\n",
        "    encoded_labels = self.encoder.transform(labels)\n",
        "    encoded_words = self.embedder[sentence['word']]\n",
        "\n",
        "    return {'words': encoded_words, 'labels': encoded_labels, 'lengths': len(sentence)}"
      ],
      "execution_count": 22,
      "outputs": []
    },
    {
      "cell_type": "code",
      "source": [
        "def collate_fn_pad(batch):\n",
        "    batch_dict = []\n",
        "    lengths = torch.Tensor([sample['lengths'] for sample in batch])\n",
        "    padded_words = pad_sequence([torch.Tensor(sample['words']) for sample in batch], batch_first=True)\n",
        "    padded_labels = pad_sequence([torch.Tensor(sample['labels']) for sample in batch], batch_first=True, padding_value=-1)\n",
        "\n",
        "    return {'words': padded_words, 'labels': padded_labels.long(), 'lengths': lengths.int()}\n"
      ],
      "metadata": {
        "id": "kMAPwSCcqo97"
      },
      "execution_count": 23,
      "outputs": []
    },
    {
      "cell_type": "markdown",
      "metadata": {
        "id": "Moz4o3S4_YyY"
      },
      "source": [
        "# Training"
      ]
    },
    {
      "cell_type": "code",
      "source": [
        "%load_ext tensorboard\n",
        "%tensorboard --logdir=\"logs\""
      ],
      "metadata": {
        "id": "Li_cU3KAIaDg",
        "colab": {
          "base_uri": "https://localhost:8080/",
          "height": 821
        },
        "outputId": "6892cfda-1a57-42d8-f81d-0f6182f3326d"
      },
      "execution_count": 24,
      "outputs": [
        {
          "output_type": "display_data",
          "data": {
            "application/javascript": [
              "\n",
              "        (async () => {\n",
              "            const url = new URL(await google.colab.kernel.proxyPort(6006, {'cache': true}));\n",
              "            url.searchParams.set('tensorboardColab', 'true');\n",
              "            const iframe = document.createElement('iframe');\n",
              "            iframe.src = url;\n",
              "            iframe.setAttribute('width', '100%');\n",
              "            iframe.setAttribute('height', '800');\n",
              "            iframe.setAttribute('frameborder', 0);\n",
              "            document.body.appendChild(iframe);\n",
              "        })();\n",
              "    "
            ],
            "text/plain": [
              "<IPython.core.display.Javascript object>"
            ]
          },
          "metadata": {}
        }
      ]
    },
    {
      "cell_type": "markdown",
      "source": [
        "## Training and tuning functions"
      ],
      "metadata": {
        "id": "fMOAz4J6gzN-"
      }
    },
    {
      "cell_type": "code",
      "source": [
        "def training_loop(model: nn.Module, \n",
        "                  train_set: torch.utils.data.DataLoader,\n",
        "                  val_set: torch.utils.data.DataLoader,\n",
        "                  n_epochs: int,\n",
        "                  optimization: Optimization,\n",
        "                  save_path: str,\n",
        "                  load_model: Optional[str] = None,\n",
        "                  writer: Optional[SummaryWriter] = None):\n",
        "  \n",
        "  if load_model:\n",
        "    model.load_state_dict(torch.load(load_model))\n",
        "\n",
        "  model.to(device)\n",
        "  train_acc = np.zeros(n_epochs)\n",
        "  val_acc = np.zeros(n_epochs)\n",
        "  best_acc = 0\n",
        "\n",
        "  for epoch in range(n_epochs):\n",
        "    print(f'Epoch {epoch+1}')\n",
        "\n",
        "    for data in tqdm(train_set):\n",
        "      w = data['words'].to(device)\n",
        "      l = data['labels'].to(device)\n",
        "      optimization.train_step(w, l)\n",
        "      \n",
        "    print(f'loss:{optimization.history[epoch] : .3f}')\n",
        "    train_acc[epoch] = model.accuracy(train_set)\n",
        "    print(f'train acc:{train_acc[epoch]}')\n",
        "    val_acc[epoch] = model.accuracy(val_set)\n",
        "    print(f'val acc:{val_acc[epoch]}')\n",
        "\n",
        "    writer.add_scalars('Loss', {\"Train\": optimization.history[epoch]}, epoch)\n",
        "    writer.add_scalars('Train Acc', {\"Train\": val_acc[epoch]}, epoch)\n",
        "    writer.add_scalars('Val Acc', {\"Train\": val_acc[epoch]}, epoch)\n",
        "    writer.flush()\n",
        "\n",
        "    if val_acc[epoch] > best_acc:\n",
        "      torch.save(model.state_dict(), save_path)\n",
        "      best_acc = val_acc[epoch]\n",
        "      print(f'Model saved at {save_path}')\n",
        "      \n",
        "  writer.close()\n",
        "  print(f'\\n Best model at epoch {np.argmax(val_acc) + 1}')\n",
        "\n",
        "  return best_acc"
      ],
      "metadata": {
        "id": "2vQvpGglNAYf"
      },
      "execution_count": 25,
      "outputs": []
    },
    {
      "cell_type": "code",
      "source": [
        "def tuning_loop(architecture: str,\n",
        "                train_loader: torch.utils.data.DataLoader,\n",
        "                val_loader: torch.utils.data.DataLoader,\n",
        "                sup_epochs: int,\n",
        "                search: dict, \n",
        "                writer: Optional[SummaryWriter] = None):\n",
        "\n",
        "  best_model_acc = 0\n",
        "  config = []\n",
        "  for hidden_dim, dropout in itertools.product(search['hidden_dim'], search['dropout']):\n",
        "    print('='*15)\n",
        "    print('New setting with', architecture)\n",
        "    print('hidden_dim :', hidden_dim)\n",
        "    print('dropout :', dropout)\n",
        "\n",
        "    model = RNN(architecture, EMBEDDING_SIZE, hidden_dim, len(labels), dropout, device)\n",
        "    model.to(device)\n",
        "    loss = nn.CrossEntropyLoss(ignore_index=-1)\n",
        "    optimizer = optim.Adam(model.parameters())\n",
        "    optimization = Optimization(model, loss, optimizer)\n",
        "\n",
        "    path = f'model-{architecture}-{hidden_dim}-{dropout}.pkl'\n",
        "    n_epochs = int(sup_epochs * dropout)\n",
        "    best_acc = training_loop(model, train_loader, val_loader, n_epochs, optimization, path, False, writer=writer)\n",
        "\n",
        "    if best_acc > best_model_acc:\n",
        "      config = [hidden_dim, dropout]\n",
        "      best_model_acc = best_acc\n",
        "      new_path = f'model-{architecture}'\n",
        "      !\\cp $path $new_path\n",
        "\n",
        "  print(f'\\n Best model config : {config} with accuracy {best_model_acc}')"
      ],
      "metadata": {
        "id": "Ydu2_VLkB84u"
      },
      "execution_count": 37,
      "outputs": []
    },
    {
      "cell_type": "markdown",
      "source": [
        "## Start tuning"
      ],
      "metadata": {
        "id": "qylGENCbg8RB"
      }
    },
    {
      "cell_type": "code",
      "source": [
        "search = {'hidden_dim': [256, 512, 1024],\n",
        "          'dropout': [0.4, 0.6, 0.8]\n",
        "          }\n"
      ],
      "metadata": {
        "id": "Rt_I9itTPbHQ"
      },
      "execution_count": 34,
      "outputs": []
    },
    {
      "cell_type": "code",
      "source": [
        "train_set = MyDataset(train_grouped, embedder, encoder)\n",
        "train_loader = DataLoader(train_set, batch_size=8, shuffle=True, collate_fn=collate_fn_pad)\n",
        "\n",
        "validation = MyDataset(val_grouped, embedder, encoder)\n",
        "val_loader = DataLoader(validation, batch_size=len(validation), collate_fn=collate_fn_pad)"
      ],
      "metadata": {
        "id": "LZif9p5fhEyr"
      },
      "execution_count": 35,
      "outputs": []
    },
    {
      "cell_type": "code",
      "source": [
        "SUP_EPOCHS = 40\n",
        "writer = torch.utils.tensorboard.writer.SummaryWriter(log_dir=os.path.join(\"logs\", \"BiLSTM\"))\n",
        "\n",
        "for architecture in ['LSTM']:# ['LSTM', '2-LSTM', '2-FC', 'GRU']:\n",
        "  tuning_loop(architecture, train_loader, val_loader, SUP_EPOCHS, search, writer)"
      ],
      "metadata": {
        "id": "dX2aqrjvDUJo",
        "outputId": "fabd6e48-861e-4e66-953b-bb7d116ffda3",
        "colab": {
          "base_uri": "https://localhost:8080/"
        }
      },
      "execution_count": null,
      "outputs": [
        {
          "output_type": "stream",
          "name": "stdout",
          "text": [
            "===============\n",
            "New setting with LSTM\n",
            "hidden_dim : 256\n",
            "dropout : 0.4\n",
            "Epoch 1\n"
          ]
        },
        {
          "output_type": "stream",
          "name": "stderr",
          "text": [
            "100%|██████████| 256/256 [00:07<00:00, 35.91it/s]\n"
          ]
        },
        {
          "output_type": "stream",
          "name": "stdout",
          "text": [
            "loss: 3.799\n",
            "train acc:0.7505912780761719\n",
            "val acc:0.7312317490577698\n",
            "Model saved at model-LSTM-256-0.4.pkl\n",
            "Epoch 2\n"
          ]
        },
        {
          "output_type": "stream",
          "name": "stderr",
          "text": [
            "100%|██████████| 256/256 [00:06<00:00, 38.35it/s]\n"
          ]
        },
        {
          "output_type": "stream",
          "name": "stdout",
          "text": [
            "loss: 3.753\n",
            "train acc:0.8099923729896545\n",
            "val acc:0.7871275544166565\n",
            "Model saved at model-LSTM-256-0.4.pkl\n",
            "Epoch 3\n"
          ]
        },
        {
          "output_type": "stream",
          "name": "stderr",
          "text": [
            "100%|██████████| 256/256 [00:06<00:00, 41.45it/s]\n"
          ]
        },
        {
          "output_type": "stream",
          "name": "stdout",
          "text": [
            "loss: 3.698\n",
            "train acc:0.8389855623245239\n",
            "val acc:0.8074591755867004\n",
            "Model saved at model-LSTM-256-0.4.pkl\n",
            "Epoch 4\n"
          ]
        },
        {
          "output_type": "stream",
          "name": "stderr",
          "text": [
            "100%|██████████| 256/256 [00:06<00:00, 40.93it/s]\n"
          ]
        },
        {
          "output_type": "stream",
          "name": "stdout",
          "text": [
            "loss: 3.640\n",
            "train acc:0.8596798777580261\n",
            "val acc:0.8210563063621521\n",
            "Model saved at model-LSTM-256-0.4.pkl\n",
            "Epoch 5\n"
          ]
        },
        {
          "output_type": "stream",
          "name": "stderr",
          "text": [
            "100%|██████████| 256/256 [00:07<00:00, 35.98it/s]\n"
          ]
        },
        {
          "output_type": "stream",
          "name": "stdout",
          "text": [
            "loss: 3.563\n",
            "train acc:0.8813033103942871\n",
            "val acc:0.8390148282051086\n",
            "Model saved at model-LSTM-256-0.4.pkl\n",
            "Epoch 6\n"
          ]
        },
        {
          "output_type": "stream",
          "name": "stderr",
          "text": [
            "100%|██████████| 256/256 [00:06<00:00, 36.73it/s]\n"
          ]
        },
        {
          "output_type": "stream",
          "name": "stdout",
          "text": [
            "loss: 3.499\n",
            "train acc:0.8989779353141785\n",
            "val acc:0.8500464558601379\n",
            "Model saved at model-LSTM-256-0.4.pkl\n",
            "Epoch 7\n"
          ]
        },
        {
          "output_type": "stream",
          "name": "stderr",
          "text": [
            "100%|██████████| 256/256 [00:06<00:00, 39.76it/s]\n"
          ]
        },
        {
          "output_type": "stream",
          "name": "stdout",
          "text": [
            "loss: 3.422\n",
            "train acc:0.9108032584190369\n",
            "val acc:0.855241596698761\n",
            "Model saved at model-LSTM-256-0.4.pkl\n",
            "Epoch 8\n"
          ]
        },
        {
          "output_type": "stream",
          "name": "stderr",
          "text": [
            "100%|██████████| 256/256 [00:06<00:00, 39.72it/s]\n"
          ]
        },
        {
          "output_type": "stream",
          "name": "stdout",
          "text": [
            "loss: 3.368\n",
            "train acc:0.9236210584640503\n",
            "val acc:0.8596991300582886\n",
            "Model saved at model-LSTM-256-0.4.pkl\n",
            "Epoch 9\n"
          ]
        },
        {
          "output_type": "stream",
          "name": "stderr",
          "text": [
            "100%|██████████| 256/256 [00:06<00:00, 38.41it/s]\n"
          ]
        },
        {
          "output_type": "stream",
          "name": "stdout",
          "text": [
            "loss: 3.178\n",
            "train acc:0.9343483448028564\n",
            "val acc:0.8655356764793396\n",
            "Model saved at model-LSTM-256-0.4.pkl\n",
            "Epoch 10\n"
          ]
        },
        {
          "output_type": "stream",
          "name": "stderr",
          "text": [
            "100%|██████████| 256/256 [00:06<00:00, 40.54it/s]\n"
          ]
        },
        {
          "output_type": "stream",
          "name": "stdout",
          "text": [
            "loss: 2.967\n",
            "train acc:0.9476729035377502\n",
            "val acc:0.8692556619644165\n",
            "Model saved at model-LSTM-256-0.4.pkl\n",
            "Epoch 11\n"
          ]
        },
        {
          "output_type": "stream",
          "name": "stderr",
          "text": [
            "100%|██████████| 256/256 [00:06<00:00, 41.39it/s]\n"
          ]
        },
        {
          "output_type": "stream",
          "name": "stdout",
          "text": [
            "loss: 2.997\n",
            "train acc:0.9534589052200317\n",
            "val acc:0.8652470707893372\n",
            "Epoch 12\n"
          ]
        },
        {
          "output_type": "stream",
          "name": "stderr",
          "text": [
            "100%|██████████| 256/256 [00:06<00:00, 42.28it/s]\n"
          ]
        },
        {
          "output_type": "stream",
          "name": "stdout",
          "text": [
            "loss: 3.261\n",
            "train acc:0.9648618698120117\n",
            "val acc:0.8687745928764343\n",
            "Epoch 13\n"
          ]
        },
        {
          "output_type": "stream",
          "name": "stderr",
          "text": [
            "100%|██████████| 256/256 [00:07<00:00, 36.40it/s]\n"
          ]
        },
        {
          "output_type": "stream",
          "name": "stdout",
          "text": [
            "loss: 3.407\n",
            "train acc:0.9722315669059753\n",
            "val acc:0.869544267654419\n",
            "Model saved at model-LSTM-256-0.4.pkl\n",
            "Epoch 14\n"
          ]
        },
        {
          "output_type": "stream",
          "name": "stderr",
          "text": [
            "100%|██████████| 256/256 [00:06<00:00, 36.69it/s]\n"
          ]
        },
        {
          "output_type": "stream",
          "name": "stdout",
          "text": [
            "loss: 3.114\n",
            "train acc:0.9757369756698608\n",
            "val acc:0.8646377325057983\n",
            "Epoch 15\n"
          ]
        },
        {
          "output_type": "stream",
          "name": "stderr",
          "text": [
            "100%|██████████| 256/256 [00:06<00:00, 36.58it/s]\n"
          ]
        },
        {
          "output_type": "stream",
          "name": "stdout",
          "text": [
            "loss: 3.085\n",
            "train acc:0.9824942946434021\n",
            "val acc:0.8672032356262207\n",
            "Epoch 16\n"
          ]
        },
        {
          "output_type": "stream",
          "name": "stderr",
          "text": [
            "100%|██████████| 256/256 [00:06<00:00, 39.18it/s]\n"
          ]
        },
        {
          "output_type": "stream",
          "name": "stdout",
          "text": [
            "loss: 2.975\n",
            "train acc:0.9861685633659363\n",
            "val acc:0.8662411570549011\n",
            "\n",
            " Best model at epoch 13\n",
            "===============\n",
            "New setting with LSTM\n",
            "hidden_dim : 256\n",
            "dropout : 0.6\n",
            "Epoch 1\n"
          ]
        },
        {
          "output_type": "stream",
          "name": "stderr",
          "text": [
            "100%|██████████| 256/256 [00:06<00:00, 38.68it/s]\n"
          ]
        },
        {
          "output_type": "stream",
          "name": "stdout",
          "text": [
            "loss: 3.820\n",
            "train acc:0.740772008895874\n",
            "val acc:0.7237276434898376\n",
            "Model saved at model-LSTM-256-0.6.pkl\n",
            "Epoch 2\n"
          ]
        },
        {
          "output_type": "stream",
          "name": "stderr",
          "text": [
            "100%|██████████| 256/256 [00:06<00:00, 39.10it/s]\n"
          ]
        },
        {
          "output_type": "stream",
          "name": "stdout",
          "text": [
            "loss: 3.771\n",
            "train acc:0.8004476428031921\n",
            "val acc:0.7779238224029541\n",
            "Model saved at model-LSTM-256-0.6.pkl\n",
            "Epoch 3\n"
          ]
        },
        {
          "output_type": "stream",
          "name": "stderr",
          "text": [
            "100%|██████████| 256/256 [00:06<00:00, 41.19it/s]\n"
          ]
        },
        {
          "output_type": "stream",
          "name": "stdout",
          "text": [
            "loss: 3.714\n",
            "train acc:0.8286172747612\n",
            "val acc:0.801141619682312\n",
            "Model saved at model-LSTM-256-0.6.pkl\n",
            "Epoch 4\n"
          ]
        },
        {
          "output_type": "stream",
          "name": "stderr",
          "text": [
            "100%|██████████| 256/256 [00:06<00:00, 40.77it/s]\n"
          ]
        },
        {
          "output_type": "stream",
          "name": "stdout",
          "text": [
            "loss: 3.644\n",
            "train acc:0.8488470315933228\n",
            "val acc:0.819998025894165\n",
            "Model saved at model-LSTM-256-0.6.pkl\n",
            "Epoch 5\n"
          ]
        },
        {
          "output_type": "stream",
          "name": "stderr",
          "text": [
            "100%|██████████| 256/256 [00:06<00:00, 38.69it/s]\n"
          ]
        },
        {
          "output_type": "stream",
          "name": "stdout",
          "text": [
            "loss: 3.619\n",
            "train acc:0.8647900819778442\n",
            "val acc:0.8310617804527283\n",
            "Model saved at model-LSTM-256-0.6.pkl\n",
            "Epoch 6\n"
          ]
        },
        {
          "output_type": "stream",
          "name": "stderr",
          "text": [
            "100%|██████████| 256/256 [00:06<00:00, 38.89it/s]\n"
          ]
        },
        {
          "output_type": "stream",
          "name": "stdout",
          "text": [
            "loss: 3.548\n",
            "train acc:0.8783469796180725\n",
            "val acc:0.8391430974006653\n",
            "Model saved at model-LSTM-256-0.6.pkl\n",
            "Epoch 7\n"
          ]
        },
        {
          "output_type": "stream",
          "name": "stderr",
          "text": [
            "100%|██████████| 256/256 [00:06<00:00, 38.41it/s]\n"
          ]
        },
        {
          "output_type": "stream",
          "name": "stdout",
          "text": [
            "loss: 3.491\n",
            "train acc:0.8928963541984558\n",
            "val acc:0.846967875957489\n",
            "Model saved at model-LSTM-256-0.6.pkl\n",
            "Epoch 8\n"
          ]
        },
        {
          "output_type": "stream",
          "name": "stderr",
          "text": [
            "100%|██████████| 256/256 [00:06<00:00, 38.45it/s]\n"
          ]
        },
        {
          "output_type": "stream",
          "name": "stdout",
          "text": [
            "loss: 3.302\n",
            "train acc:0.9044260382652283\n",
            "val acc:0.8544398546218872\n",
            "Model saved at model-LSTM-256-0.6.pkl\n",
            "Epoch 9\n"
          ]
        },
        {
          "output_type": "stream",
          "name": "stderr",
          "text": [
            "100%|██████████| 256/256 [00:06<00:00, 38.36it/s]\n"
          ]
        },
        {
          "output_type": "stream",
          "name": "stdout",
          "text": [
            "loss: 3.245\n",
            "train acc:0.9148365259170532\n",
            "val acc:0.85982745885849\n",
            "Model saved at model-LSTM-256-0.6.pkl\n",
            "Epoch 10\n"
          ]
        },
        {
          "output_type": "stream",
          "name": "stderr",
          "text": [
            "100%|██████████| 256/256 [00:06<00:00, 40.37it/s]\n"
          ]
        },
        {
          "output_type": "stream",
          "name": "stdout",
          "text": [
            "loss: 3.187\n",
            "train acc:0.9222695827484131\n",
            "val acc:0.8621363639831543\n",
            "Model saved at model-LSTM-256-0.6.pkl\n",
            "Epoch 11\n"
          ]
        },
        {
          "output_type": "stream",
          "name": "stderr",
          "text": [
            "100%|██████████| 256/256 [00:06<00:00, 41.93it/s]\n"
          ]
        },
        {
          "output_type": "stream",
          "name": "stdout",
          "text": [
            "loss: 3.189\n",
            "train acc:0.9339470863342285\n",
            "val acc:0.8653112053871155\n",
            "Model saved at model-LSTM-256-0.6.pkl\n",
            "Epoch 12\n"
          ]
        },
        {
          "output_type": "stream",
          "name": "stderr",
          "text": [
            "100%|██████████| 256/256 [00:06<00:00, 42.43it/s]\n"
          ]
        },
        {
          "output_type": "stream",
          "name": "stdout",
          "text": [
            "loss: 2.882\n",
            "train acc:0.9414435029029846\n",
            "val acc:0.8684539198875427\n",
            "Model saved at model-LSTM-256-0.6.pkl\n",
            "Epoch 13\n"
          ]
        },
        {
          "output_type": "stream",
          "name": "stderr",
          "text": [
            "100%|██████████| 256/256 [00:06<00:00, 38.42it/s]\n"
          ]
        },
        {
          "output_type": "stream",
          "name": "stdout",
          "text": [
            "loss: 3.070\n",
            "train acc:0.9475462436676025\n",
            "val acc:0.8714362978935242\n",
            "Model saved at model-LSTM-256-0.6.pkl\n",
            "Epoch 14\n"
          ]
        },
        {
          "output_type": "stream",
          "name": "stderr",
          "text": [
            "100%|██████████| 256/256 [00:06<00:00, 41.45it/s]\n"
          ]
        },
        {
          "output_type": "stream",
          "name": "stdout",
          "text": [
            "loss: 2.814\n",
            "train acc:0.9544302821159363\n",
            "val acc:0.8709552884101868\n",
            "Epoch 15\n"
          ]
        },
        {
          "output_type": "stream",
          "name": "stderr",
          "text": [
            "100%|██████████| 256/256 [00:05<00:00, 42.99it/s]\n"
          ]
        },
        {
          "output_type": "stream",
          "name": "stdout",
          "text": [
            "loss: 2.909\n",
            "train acc:0.9602373242378235\n",
            "val acc:0.871853232383728\n",
            "Model saved at model-LSTM-256-0.6.pkl\n",
            "Epoch 16\n"
          ]
        },
        {
          "output_type": "stream",
          "name": "stderr",
          "text": [
            "100%|██████████| 256/256 [00:05<00:00, 42.73it/s]\n"
          ]
        },
        {
          "output_type": "stream",
          "name": "stdout",
          "text": [
            "loss: 3.109\n",
            "train acc:0.9652842283248901\n",
            "val acc:0.8726869821548462\n",
            "Model saved at model-LSTM-256-0.6.pkl\n",
            "Epoch 17\n"
          ]
        },
        {
          "output_type": "stream",
          "name": "stderr",
          "text": [
            "100%|██████████| 256/256 [00:06<00:00, 39.80it/s]\n"
          ]
        },
        {
          "output_type": "stream",
          "name": "stdout",
          "text": [
            "loss: 2.930\n",
            "train acc:0.971767008304596\n",
            "val acc:0.8711797595024109\n",
            "Epoch 18\n"
          ]
        },
        {
          "output_type": "stream",
          "name": "stderr",
          "text": [
            "100%|██████████| 256/256 [00:06<00:00, 41.13it/s]\n"
          ]
        },
        {
          "output_type": "stream",
          "name": "stdout",
          "text": [
            "loss: 3.103\n",
            "train acc:0.974850058555603\n",
            "val acc:0.8701856136322021\n",
            "Epoch 19\n"
          ]
        },
        {
          "output_type": "stream",
          "name": "stderr",
          "text": [
            "100%|██████████| 256/256 [00:05<00:00, 42.79it/s]\n"
          ]
        },
        {
          "output_type": "stream",
          "name": "stdout",
          "text": [
            "loss: 3.002\n",
            "train acc:0.9775318503379822\n",
            "val acc:0.8721097707748413\n",
            "Epoch 20\n"
          ]
        },
        {
          "output_type": "stream",
          "name": "stderr",
          "text": [
            "100%|██████████| 256/256 [00:06<00:00, 42.30it/s]\n"
          ]
        },
        {
          "output_type": "stream",
          "name": "stdout",
          "text": [
            "loss: 2.982\n",
            "train acc:0.9825787544250488\n",
            "val acc:0.871404230594635\n",
            "Epoch 21\n"
          ]
        },
        {
          "output_type": "stream",
          "name": "stderr",
          "text": [
            "100%|██████████| 256/256 [00:07<00:00, 35.21it/s]\n"
          ]
        },
        {
          "output_type": "stream",
          "name": "stdout",
          "text": [
            "loss: 3.022\n",
            "train acc:0.9854506254196167\n",
            "val acc:0.873296320438385\n",
            "Model saved at model-LSTM-256-0.6.pkl\n",
            "Epoch 22\n"
          ]
        },
        {
          "output_type": "stream",
          "name": "stderr",
          "text": [
            "100%|██████████| 256/256 [00:07<00:00, 35.95it/s]\n"
          ]
        },
        {
          "output_type": "stream",
          "name": "stdout",
          "text": [
            "loss: 2.906\n",
            "train acc:0.9873722195625305\n",
            "val acc:0.870602548122406\n",
            "Epoch 23\n"
          ]
        },
        {
          "output_type": "stream",
          "name": "stderr",
          "text": [
            "100%|██████████| 256/256 [00:07<00:00, 36.37it/s]\n"
          ]
        },
        {
          "output_type": "stream",
          "name": "stdout",
          "text": [
            "loss: 2.859\n",
            "train acc:0.9892305135726929\n",
            "val acc:0.8683577179908752\n",
            "Epoch 24\n"
          ]
        },
        {
          "output_type": "stream",
          "name": "stderr",
          "text": [
            "100%|██████████| 256/256 [00:06<00:00, 38.58it/s]\n"
          ]
        },
        {
          "output_type": "stream",
          "name": "stdout",
          "text": [
            "loss: 2.868\n",
            "train acc:0.9906875491142273\n",
            "val acc:0.8689349889755249\n",
            "\n",
            " Best model at epoch 21\n",
            "===============\n",
            "New setting with LSTM\n",
            "hidden_dim : 256\n",
            "dropout : 0.8\n",
            "Epoch 1\n"
          ]
        },
        {
          "output_type": "stream",
          "name": "stderr",
          "text": [
            "100%|██████████| 256/256 [00:07<00:00, 36.06it/s]\n"
          ]
        },
        {
          "output_type": "stream",
          "name": "stdout",
          "text": [
            "loss: 3.820\n",
            "train acc:0.7069008946418762\n",
            "val acc:0.6891254782676697\n",
            "Model saved at model-LSTM-256-0.8.pkl\n",
            "Epoch 2\n"
          ]
        },
        {
          "output_type": "stream",
          "name": "stderr",
          "text": [
            "100%|██████████| 256/256 [00:07<00:00, 35.76it/s]\n"
          ]
        },
        {
          "output_type": "stream",
          "name": "stdout",
          "text": [
            "loss: 3.770\n",
            "train acc:0.7740307450294495\n",
            "val acc:0.7545136213302612\n",
            "Model saved at model-LSTM-256-0.8.pkl\n",
            "Epoch 3\n"
          ]
        },
        {
          "output_type": "stream",
          "name": "stderr",
          "text": [
            "100%|██████████| 256/256 [00:07<00:00, 35.80it/s]\n"
          ]
        },
        {
          "output_type": "stream",
          "name": "stdout",
          "text": [
            "loss: 3.729\n",
            "train acc:0.8046287298202515\n",
            "val acc:0.782285213470459\n",
            "Model saved at model-LSTM-256-0.8.pkl\n",
            "Epoch 4\n"
          ]
        },
        {
          "output_type": "stream",
          "name": "stderr",
          "text": [
            "100%|██████████| 256/256 [00:07<00:00, 36.23it/s]\n"
          ]
        },
        {
          "output_type": "stream",
          "name": "stdout",
          "text": [
            "loss: 3.686\n",
            "train acc:0.8234225511550903\n",
            "val acc:0.7985761165618896\n",
            "Model saved at model-LSTM-256-0.8.pkl\n",
            "Epoch 5\n"
          ]
        },
        {
          "output_type": "stream",
          "name": "stderr",
          "text": [
            "100%|██████████| 256/256 [00:06<00:00, 38.13it/s]\n"
          ]
        },
        {
          "output_type": "stream",
          "name": "stdout",
          "text": [
            "loss: 3.635\n",
            "train acc:0.8381831049919128\n",
            "val acc:0.8124298453330994\n",
            "Model saved at model-LSTM-256-0.8.pkl\n",
            "Epoch 6\n"
          ]
        },
        {
          "output_type": "stream",
          "name": "stderr",
          "text": [
            "100%|██████████| 256/256 [00:06<00:00, 38.00it/s]\n"
          ]
        },
        {
          "output_type": "stream",
          "name": "stdout",
          "text": [
            "loss: 3.586\n",
            "train acc:0.8510220050811768\n",
            "val acc:0.8245518207550049\n",
            "Model saved at model-LSTM-256-0.8.pkl\n",
            "Epoch 7\n"
          ]
        },
        {
          "output_type": "stream",
          "name": "stderr",
          "text": [
            "100%|██████████| 256/256 [00:06<00:00, 40.90it/s]\n"
          ]
        },
        {
          "output_type": "stream",
          "name": "stdout",
          "text": [
            "loss: 3.520\n",
            "train acc:0.8629318475723267\n",
            "val acc:0.8321200013160706\n",
            "Model saved at model-LSTM-256-0.8.pkl\n",
            "Epoch 8\n"
          ]
        },
        {
          "output_type": "stream",
          "name": "stderr",
          "text": [
            "100%|██████████| 256/256 [00:06<00:00, 41.86it/s]\n"
          ]
        },
        {
          "output_type": "stream",
          "name": "stdout",
          "text": [
            "loss: 3.486\n",
            "train acc:0.8705127239227295\n",
            "val acc:0.8366096615791321\n",
            "Model saved at model-LSTM-256-0.8.pkl\n",
            "Epoch 9\n"
          ]
        },
        {
          "output_type": "stream",
          "name": "stderr",
          "text": [
            "100%|██████████| 256/256 [00:06<00:00, 42.03it/s]\n"
          ]
        },
        {
          "output_type": "stream",
          "name": "stdout",
          "text": [
            "loss: 3.304\n",
            "train acc:0.8810499310493469\n",
            "val acc:0.8430554866790771\n",
            "Model saved at model-LSTM-256-0.8.pkl\n",
            "Epoch 10\n"
          ]
        },
        {
          "output_type": "stream",
          "name": "stderr",
          "text": [
            "100%|██████████| 256/256 [00:06<00:00, 38.55it/s]\n"
          ]
        },
        {
          "output_type": "stream",
          "name": "stdout",
          "text": [
            "loss: 3.244\n",
            "train acc:0.887300431728363\n",
            "val acc:0.8489881753921509\n",
            "Model saved at model-LSTM-256-0.8.pkl\n",
            "Epoch 11\n"
          ]
        },
        {
          "output_type": "stream",
          "name": "stderr",
          "text": [
            "100%|██████████| 256/256 [00:06<00:00, 41.41it/s]\n"
          ]
        },
        {
          "output_type": "stream",
          "name": "stdout",
          "text": [
            "loss: 3.121\n",
            "train acc:0.8951769471168518\n",
            "val acc:0.8536381721496582\n",
            "Model saved at model-LSTM-256-0.8.pkl\n",
            "Epoch 12\n"
          ]
        },
        {
          "output_type": "stream",
          "name": "stderr",
          "text": [
            "100%|██████████| 256/256 [00:06<00:00, 40.92it/s]\n"
          ]
        },
        {
          "output_type": "stream",
          "name": "stdout",
          "text": [
            "loss: 3.120\n",
            "train acc:0.9014063477516174\n",
            "val acc:0.8571978211402893\n",
            "Model saved at model-LSTM-256-0.8.pkl\n",
            "Epoch 13\n"
          ]
        },
        {
          "output_type": "stream",
          "name": "stderr",
          "text": [
            "100%|██████████| 256/256 [00:06<00:00, 42.02it/s]\n"
          ]
        },
        {
          "output_type": "stream",
          "name": "stdout",
          "text": [
            "loss: 3.034\n",
            "train acc:0.9052073359489441\n",
            "val acc:0.8576788306236267\n",
            "Model saved at model-LSTM-256-0.8.pkl\n",
            "Epoch 14\n"
          ]
        },
        {
          "output_type": "stream",
          "name": "stderr",
          "text": [
            "100%|██████████| 256/256 [00:07<00:00, 36.10it/s]\n"
          ]
        },
        {
          "output_type": "stream",
          "name": "stdout",
          "text": [
            "loss: 3.007\n",
            "train acc:0.9148365259170532\n",
            "val acc:0.8640925884246826\n",
            "Model saved at model-LSTM-256-0.8.pkl\n",
            "Epoch 15\n"
          ]
        },
        {
          "output_type": "stream",
          "name": "stderr",
          "text": [
            "100%|██████████| 256/256 [00:06<00:00, 37.94it/s]\n"
          ]
        },
        {
          "output_type": "stream",
          "name": "stdout",
          "text": [
            "loss: 3.413\n",
            "train acc:0.9174550175666809\n",
            "val acc:0.863130509853363\n",
            "Epoch 16\n"
          ]
        },
        {
          "output_type": "stream",
          "name": "stderr",
          "text": [
            "100%|██████████| 256/256 [00:06<00:00, 42.26it/s]\n"
          ]
        },
        {
          "output_type": "stream",
          "name": "stdout",
          "text": [
            "loss: 3.135\n",
            "train acc:0.9246135354042053\n",
            "val acc:0.8680691123008728\n",
            "Model saved at model-LSTM-256-0.8.pkl\n",
            "Epoch 17\n"
          ]
        },
        {
          "output_type": "stream",
          "name": "stderr",
          "text": [
            "100%|██████████| 256/256 [00:06<00:00, 41.75it/s]\n"
          ]
        },
        {
          "output_type": "stream",
          "name": "stdout",
          "text": [
            "loss: 3.148\n",
            "train acc:0.9292380809783936\n",
            "val acc:0.8699290752410889\n",
            "Model saved at model-LSTM-256-0.8.pkl\n",
            "Epoch 18\n"
          ]
        },
        {
          "output_type": "stream",
          "name": "stderr",
          "text": [
            "100%|██████████| 256/256 [00:06<00:00, 36.63it/s]\n"
          ]
        },
        {
          "output_type": "stream",
          "name": "stdout",
          "text": [
            "loss: 2.941\n",
            "train acc:0.9339893460273743\n",
            "val acc:0.872045636177063\n",
            "Model saved at model-LSTM-256-0.8.pkl\n",
            "Epoch 19\n"
          ]
        },
        {
          "output_type": "stream",
          "name": "stderr",
          "text": [
            "100%|██████████| 256/256 [00:06<00:00, 37.20it/s]\n"
          ]
        },
        {
          "output_type": "stream",
          "name": "stdout",
          "text": [
            "loss: 2.918\n",
            "train acc:0.9368823170661926\n",
            "val acc:0.871853232383728\n",
            "Epoch 20\n"
          ]
        },
        {
          "output_type": "stream",
          "name": "stderr",
          "text": [
            "100%|██████████| 256/256 [00:06<00:00, 37.16it/s]\n"
          ]
        },
        {
          "output_type": "stream",
          "name": "stdout",
          "text": [
            "loss: 2.881\n",
            "train acc:0.9407889246940613\n",
            "val acc:0.8736490607261658\n",
            "Model saved at model-LSTM-256-0.8.pkl\n",
            "Epoch 21\n"
          ]
        },
        {
          "output_type": "stream",
          "name": "stderr",
          "text": [
            "100%|██████████| 256/256 [00:06<00:00, 36.87it/s]\n"
          ]
        },
        {
          "output_type": "stream",
          "name": "stdout",
          "text": [
            "loss: 3.052\n",
            "train acc:0.9452233910560608\n",
            "val acc:0.8758297562599182\n",
            "Model saved at model-LSTM-256-0.8.pkl\n",
            "Epoch 22\n"
          ]
        },
        {
          "output_type": "stream",
          "name": "stderr",
          "text": [
            "100%|██████████| 256/256 [00:07<00:00, 35.96it/s]\n"
          ]
        },
        {
          "output_type": "stream",
          "name": "stdout",
          "text": [
            "loss: 3.039\n",
            "train acc:0.9484753608703613\n",
            "val acc:0.8740659356117249\n",
            "Epoch 23\n"
          ]
        },
        {
          "output_type": "stream",
          "name": "stderr",
          "text": [
            "100%|██████████| 256/256 [00:07<00:00, 35.86it/s]\n"
          ]
        },
        {
          "output_type": "stream",
          "name": "stdout",
          "text": [
            "loss: 2.908\n",
            "train acc:0.9536911845207214\n",
            "val acc:0.8772087097167969\n",
            "Model saved at model-LSTM-256-0.8.pkl\n",
            "Epoch 24\n"
          ]
        },
        {
          "output_type": "stream",
          "name": "stderr",
          "text": [
            "100%|██████████| 256/256 [00:07<00:00, 35.85it/s]\n"
          ]
        },
        {
          "output_type": "stream",
          "name": "stdout",
          "text": [
            "loss: 2.991\n",
            "train acc:0.9560984969139099\n",
            "val acc:0.8781066536903381\n",
            "Model saved at model-LSTM-256-0.8.pkl\n",
            "Epoch 25\n"
          ]
        },
        {
          "output_type": "stream",
          "name": "stderr",
          "text": [
            "100%|██████████| 256/256 [00:06<00:00, 37.58it/s]\n"
          ]
        },
        {
          "output_type": "stream",
          "name": "stdout",
          "text": [
            "loss: 2.904\n",
            "train acc:0.9592448472976685\n",
            "val acc:0.8756694197654724\n",
            "Epoch 26\n"
          ]
        },
        {
          "output_type": "stream",
          "name": "stderr",
          "text": [
            "100%|██████████| 256/256 [00:06<00:00, 39.21it/s]\n"
          ]
        },
        {
          "output_type": "stream",
          "name": "stdout",
          "text": [
            "loss: 2.997\n",
            "train acc:0.9619688987731934\n",
            "val acc:0.876823902130127\n",
            "Epoch 27\n"
          ]
        },
        {
          "output_type": "stream",
          "name": "stderr",
          "text": [
            "100%|██████████| 256/256 [00:06<00:00, 40.94it/s]\n"
          ]
        },
        {
          "output_type": "stream",
          "name": "stdout",
          "text": [
            "loss: 3.058\n",
            "train acc:0.9663611650466919\n",
            "val acc:0.8777859210968018\n",
            "Epoch 28\n"
          ]
        },
        {
          "output_type": "stream",
          "name": "stderr",
          "text": [
            "100%|██████████| 256/256 [00:06<00:00, 41.81it/s]\n"
          ]
        },
        {
          "output_type": "stream",
          "name": "stdout",
          "text": [
            "loss: 2.987\n",
            "train acc:0.9678182005882263\n",
            "val acc:0.876823902130127\n",
            "Epoch 29\n"
          ]
        },
        {
          "output_type": "stream",
          "name": "stderr",
          "text": [
            "100%|██████████| 256/256 [00:06<00:00, 41.52it/s]\n"
          ]
        },
        {
          "output_type": "stream",
          "name": "stdout",
          "text": [
            "loss: 2.923\n",
            "train acc:0.9692541360855103\n",
            "val acc:0.8763107657432556\n",
            "Epoch 30\n"
          ]
        },
        {
          "output_type": "stream",
          "name": "stderr",
          "text": [
            "100%|██████████| 256/256 [00:06<00:00, 38.53it/s]\n"
          ]
        },
        {
          "output_type": "stream",
          "name": "stdout",
          "text": [
            "loss: 2.886\n",
            "train acc:0.9718514680862427\n",
            "val acc:0.8755732178688049\n",
            "Epoch 31\n"
          ]
        },
        {
          "output_type": "stream",
          "name": "stderr",
          "text": [
            "100%|██████████| 256/256 [00:06<00:00, 42.04it/s]\n"
          ]
        },
        {
          "output_type": "stream",
          "name": "stdout",
          "text": [
            "loss: 3.010\n",
            "train acc:0.9725905656814575\n",
            "val acc:0.8752524852752686\n",
            "Epoch 32\n"
          ]
        },
        {
          "output_type": "stream",
          "name": "stderr",
          "text": [
            "100%|██████████| 256/256 [00:06<00:00, 42.47it/s]\n"
          ]
        },
        {
          "output_type": "stream",
          "name": "stdout",
          "text": [
            "loss: 2.877\n",
            "train acc:0.977426290512085\n",
            "val acc:0.8774973154067993\n",
            "\n",
            " Best model at epoch 24\n",
            "===============\n",
            "New setting with LSTM\n",
            "hidden_dim : 512\n",
            "dropout : 0.4\n",
            "Epoch 1\n"
          ]
        },
        {
          "output_type": "stream",
          "name": "stderr",
          "text": [
            "100%|██████████| 256/256 [00:07<00:00, 32.67it/s]\n"
          ]
        },
        {
          "output_type": "stream",
          "name": "stdout",
          "text": [
            "loss: 3.807\n",
            "train acc:0.7743263840675354\n",
            "val acc:0.749927818775177\n",
            "Model saved at model-LSTM-512-0.4.pkl\n",
            "Epoch 2\n"
          ]
        },
        {
          "output_type": "stream",
          "name": "stderr",
          "text": [
            "100%|██████████| 256/256 [00:08<00:00, 31.89it/s]\n"
          ]
        },
        {
          "output_type": "stream",
          "name": "stdout",
          "text": [
            "loss: 3.716\n",
            "train acc:0.825048565864563\n",
            "val acc:0.7976140379905701\n",
            "Model saved at model-LSTM-512-0.4.pkl\n",
            "Epoch 3\n"
          ]
        },
        {
          "output_type": "stream",
          "name": "stderr",
          "text": [
            "100%|██████████| 256/256 [00:07<00:00, 32.56it/s]\n"
          ]
        },
        {
          "output_type": "stream",
          "name": "stdout",
          "text": [
            "loss: 3.645\n",
            "train acc:0.8604400753974915\n",
            "val acc:0.8240386843681335\n",
            "Model saved at model-LSTM-512-0.4.pkl\n",
            "Epoch 4\n"
          ]
        },
        {
          "output_type": "stream",
          "name": "stderr",
          "text": [
            "100%|██████████| 256/256 [00:07<00:00, 32.96it/s]\n"
          ]
        },
        {
          "output_type": "stream",
          "name": "stdout",
          "text": [
            "loss: 3.594\n",
            "train acc:0.8866457939147949\n",
            "val acc:0.8360965847969055\n",
            "Model saved at model-LSTM-512-0.4.pkl\n",
            "Epoch 5\n"
          ]
        },
        {
          "output_type": "stream",
          "name": "stderr",
          "text": [
            "100%|██████████| 256/256 [00:07<00:00, 32.61it/s]\n"
          ]
        },
        {
          "output_type": "stream",
          "name": "stdout",
          "text": [
            "loss: 3.444\n",
            "train acc:0.9075512886047363\n",
            "val acc:0.8479620218276978\n",
            "Model saved at model-LSTM-512-0.4.pkl\n",
            "Epoch 6\n"
          ]
        },
        {
          "output_type": "stream",
          "name": "stderr",
          "text": [
            "100%|██████████| 256/256 [00:07<00:00, 32.57it/s]\n"
          ]
        },
        {
          "output_type": "stream",
          "name": "stdout",
          "text": [
            "loss: 3.201\n",
            "train acc:0.9277599453926086\n",
            "val acc:0.855434000492096\n",
            "Model saved at model-LSTM-512-0.4.pkl\n",
            "Epoch 7\n"
          ]
        },
        {
          "output_type": "stream",
          "name": "stderr",
          "text": [
            "100%|██████████| 256/256 [00:07<00:00, 34.02it/s]\n"
          ]
        },
        {
          "output_type": "stream",
          "name": "stdout",
          "text": [
            "loss: 3.150\n",
            "train acc:0.9435551762580872\n",
            "val acc:0.8565243482589722\n",
            "Model saved at model-LSTM-512-0.4.pkl\n",
            "Epoch 8\n"
          ]
        },
        {
          "output_type": "stream",
          "name": "stderr",
          "text": [
            "100%|██████████| 256/256 [00:07<00:00, 32.24it/s]\n"
          ]
        },
        {
          "output_type": "stream",
          "name": "stdout",
          "text": [
            "loss: 3.196\n",
            "train acc:0.9638060331344604\n",
            "val acc:0.8564602136611938\n",
            "Epoch 9\n"
          ]
        },
        {
          "output_type": "stream",
          "name": "stderr",
          "text": [
            "100%|██████████| 256/256 [00:07<00:00, 32.08it/s]\n"
          ]
        },
        {
          "output_type": "stream",
          "name": "stdout",
          "text": [
            "loss: 3.018\n",
            "train acc:0.9738786816596985\n",
            "val acc:0.8577108979225159\n",
            "Model saved at model-LSTM-512-0.4.pkl\n",
            "Epoch 10\n"
          ]
        },
        {
          "output_type": "stream",
          "name": "stderr",
          "text": [
            "100%|██████████| 256/256 [00:07<00:00, 32.35it/s]\n"
          ]
        },
        {
          "output_type": "stream",
          "name": "stdout",
          "text": [
            "loss: 2.860\n",
            "train acc:0.9825153946876526\n",
            "val acc:0.8562036752700806\n",
            "Epoch 11\n"
          ]
        },
        {
          "output_type": "stream",
          "name": "stderr",
          "text": [
            "100%|██████████| 256/256 [00:07<00:00, 32.39it/s]\n"
          ]
        },
        {
          "output_type": "stream",
          "name": "stdout",
          "text": [
            "loss: 2.978\n",
            "train acc:0.9900962710380554\n",
            "val acc:0.8571016192436218\n",
            "Epoch 12\n"
          ]
        },
        {
          "output_type": "stream",
          "name": "stderr",
          "text": [
            "100%|██████████| 256/256 [00:07<00:00, 33.27it/s]\n"
          ]
        },
        {
          "output_type": "stream",
          "name": "stdout",
          "text": [
            "loss: 3.090\n",
            "train acc:0.9944462776184082\n",
            "val acc:0.8568770885467529\n",
            "Epoch 13\n"
          ]
        },
        {
          "output_type": "stream",
          "name": "stderr",
          "text": [
            "100%|██████████| 256/256 [00:07<00:00, 32.04it/s]\n"
          ]
        },
        {
          "output_type": "stream",
          "name": "stdout",
          "text": [
            "loss: 2.954\n",
            "train acc:0.9963679313659668\n",
            "val acc:0.8526440262794495\n",
            "Epoch 14\n"
          ]
        },
        {
          "output_type": "stream",
          "name": "stderr",
          "text": [
            "100%|██████████| 256/256 [00:07<00:00, 33.43it/s]\n"
          ]
        },
        {
          "output_type": "stream",
          "name": "stdout",
          "text": [
            "loss: 3.015\n",
            "train acc:0.9977405071258545\n",
            "val acc:0.8529326319694519\n",
            "Epoch 15\n"
          ]
        },
        {
          "output_type": "stream",
          "name": "stderr",
          "text": [
            "100%|██████████| 256/256 [00:07<00:00, 32.00it/s]\n"
          ]
        },
        {
          "output_type": "stream",
          "name": "stdout",
          "text": [
            "loss: 2.803\n",
            "train acc:0.9977405071258545\n",
            "val acc:0.8521950840950012\n",
            "Epoch 16\n"
          ]
        },
        {
          "output_type": "stream",
          "name": "stderr",
          "text": [
            "100%|██████████| 256/256 [00:07<00:00, 32.16it/s]\n"
          ]
        },
        {
          "output_type": "stream",
          "name": "stdout",
          "text": [
            "loss: 2.819\n",
            "train acc:0.9983317852020264\n",
            "val acc:0.8523874878883362\n",
            "\n",
            " Best model at epoch 9\n",
            "===============\n",
            "New setting with LSTM\n",
            "hidden_dim : 512\n",
            "dropout : 0.6\n",
            "Epoch 1\n"
          ]
        },
        {
          "output_type": "stream",
          "name": "stderr",
          "text": [
            "100%|██████████| 256/256 [00:07<00:00, 32.15it/s]\n"
          ]
        },
        {
          "output_type": "stream",
          "name": "stdout",
          "text": [
            "loss: 3.828\n",
            "train acc:0.763683557510376\n",
            "val acc:0.7413012981414795\n",
            "Model saved at model-LSTM-512-0.6.pkl\n",
            "Epoch 2\n"
          ]
        },
        {
          "output_type": "stream",
          "name": "stderr",
          "text": [
            "100%|██████████| 256/256 [00:07<00:00, 32.59it/s]\n"
          ]
        },
        {
          "output_type": "stream",
          "name": "stdout",
          "text": [
            "loss: 3.747\n",
            "train acc:0.8168341517448425\n",
            "val acc:0.7883782386779785\n",
            "Model saved at model-LSTM-512-0.6.pkl\n",
            "Epoch 3\n"
          ]
        },
        {
          "output_type": "stream",
          "name": "stderr",
          "text": [
            "100%|██████████| 256/256 [00:07<00:00, 32.44it/s]\n"
          ]
        },
        {
          "output_type": "stream",
          "name": "stdout",
          "text": [
            "loss: 3.678\n",
            "train acc:0.8463341593742371\n",
            "val acc:0.8127825856208801\n",
            "Model saved at model-LSTM-512-0.6.pkl\n",
            "Epoch 4\n"
          ]
        },
        {
          "output_type": "stream",
          "name": "stderr",
          "text": [
            "100%|██████████| 256/256 [00:07<00:00, 33.46it/s]\n"
          ]
        },
        {
          "output_type": "stream",
          "name": "stdout",
          "text": [
            "loss: 3.557\n",
            "train acc:0.8717374801635742\n",
            "val acc:0.8286886811256409\n",
            "Model saved at model-LSTM-512-0.6.pkl\n",
            "Epoch 5\n"
          ]
        },
        {
          "output_type": "stream",
          "name": "stderr",
          "text": [
            "100%|██████████| 256/256 [00:07<00:00, 33.42it/s]\n"
          ]
        },
        {
          "output_type": "stream",
          "name": "stdout",
          "text": [
            "loss: 3.457\n",
            "train acc:0.8923261761665344\n",
            "val acc:0.8435044288635254\n",
            "Model saved at model-LSTM-512-0.6.pkl\n",
            "Epoch 6\n"
          ]
        },
        {
          "output_type": "stream",
          "name": "stderr",
          "text": [
            "100%|██████████| 256/256 [00:07<00:00, 33.41it/s]\n"
          ]
        },
        {
          "output_type": "stream",
          "name": "stdout",
          "text": [
            "loss: 3.199\n",
            "train acc:0.9042782187461853\n",
            "val acc:0.8477374911308289\n",
            "Model saved at model-LSTM-512-0.6.pkl\n",
            "Epoch 7\n"
          ]
        },
        {
          "output_type": "stream",
          "name": "stderr",
          "text": [
            "100%|██████████| 256/256 [00:08<00:00, 31.32it/s]\n"
          ]
        },
        {
          "output_type": "stream",
          "name": "stdout",
          "text": [
            "loss: 3.136\n",
            "train acc:0.9233254194259644\n",
            "val acc:0.8554660677909851\n",
            "Model saved at model-LSTM-512-0.6.pkl\n",
            "Epoch 8\n"
          ]
        },
        {
          "output_type": "stream",
          "name": "stderr",
          "text": [
            "100%|██████████| 256/256 [00:08<00:00, 31.66it/s]\n"
          ]
        },
        {
          "output_type": "stream",
          "name": "stdout",
          "text": [
            "loss: 3.292\n",
            "train acc:0.9386772513389587\n",
            "val acc:0.8611422777175903\n",
            "Model saved at model-LSTM-512-0.6.pkl\n",
            "Epoch 9\n"
          ]
        },
        {
          "output_type": "stream",
          "name": "stderr",
          "text": [
            "100%|██████████| 256/256 [00:08<00:00, 31.02it/s]\n"
          ]
        },
        {
          "output_type": "stream",
          "name": "stdout",
          "text": [
            "loss: 2.924\n",
            "train acc:0.9502702951431274\n",
            "val acc:0.8617515563964844\n",
            "Model saved at model-LSTM-512-0.6.pkl\n",
            "Epoch 10\n"
          ]
        },
        {
          "output_type": "stream",
          "name": "stderr",
          "text": [
            "100%|██████████| 256/256 [00:07<00:00, 33.81it/s]\n"
          ]
        },
        {
          "output_type": "stream",
          "name": "stdout",
          "text": [
            "loss: 2.938\n",
            "train acc:0.9629191756248474\n",
            "val acc:0.8620080947875977\n",
            "Model saved at model-LSTM-512-0.6.pkl\n",
            "Epoch 11\n"
          ]
        },
        {
          "output_type": "stream",
          "name": "stderr",
          "text": [
            "100%|██████████| 256/256 [00:07<00:00, 33.11it/s]\n"
          ]
        },
        {
          "output_type": "stream",
          "name": "stdout",
          "text": [
            "loss: 2.818\n",
            "train acc:0.9721260070800781\n",
            "val acc:0.8651188015937805\n",
            "Model saved at model-LSTM-512-0.6.pkl\n",
            "Epoch 12\n"
          ]
        },
        {
          "output_type": "stream",
          "name": "stderr",
          "text": [
            "100%|██████████| 256/256 [00:07<00:00, 32.30it/s]\n"
          ]
        },
        {
          "output_type": "stream",
          "name": "stdout",
          "text": [
            "loss: 2.953\n",
            "train acc:0.98040372133255\n",
            "val acc:0.8627777695655823\n",
            "Epoch 13\n"
          ]
        },
        {
          "output_type": "stream",
          "name": "stderr",
          "text": [
            "100%|██████████| 256/256 [00:08<00:00, 31.99it/s]\n"
          ]
        },
        {
          "output_type": "stream",
          "name": "stdout",
          "text": [
            "loss: 2.997\n",
            "train acc:0.9866120219230652\n",
            "val acc:0.8604688048362732\n",
            "Epoch 14\n"
          ]
        },
        {
          "output_type": "stream",
          "name": "stderr",
          "text": [
            "100%|██████████| 256/256 [00:08<00:00, 31.82it/s]\n"
          ]
        },
        {
          "output_type": "stream",
          "name": "stdout",
          "text": [
            "loss: 2.864\n",
            "train acc:0.9900329113006592\n",
            "val acc:0.8618477582931519\n",
            "Epoch 15\n"
          ]
        },
        {
          "output_type": "stream",
          "name": "stderr",
          "text": [
            "100%|██████████| 256/256 [00:07<00:00, 33.22it/s]\n"
          ]
        },
        {
          "output_type": "stream",
          "name": "stdout",
          "text": [
            "loss: 2.926\n",
            "train acc:0.9939395189285278\n",
            "val acc:0.8607574105262756\n",
            "Epoch 16\n"
          ]
        },
        {
          "output_type": "stream",
          "name": "stderr",
          "text": [
            "100%|██████████| 256/256 [00:07<00:00, 32.60it/s]\n"
          ]
        },
        {
          "output_type": "stream",
          "name": "stdout",
          "text": [
            "loss: 2.958\n",
            "train acc:0.9950375556945801\n",
            "val acc:0.860821545124054\n",
            "Epoch 17\n"
          ]
        },
        {
          "output_type": "stream",
          "name": "stderr",
          "text": [
            "100%|██████████| 256/256 [00:07<00:00, 32.34it/s]\n"
          ]
        },
        {
          "output_type": "stream",
          "name": "stdout",
          "text": [
            "loss: 2.894\n",
            "train acc:0.996621310710907\n",
            "val acc:0.8599236607551575\n",
            "Epoch 18\n"
          ]
        },
        {
          "output_type": "stream",
          "name": "stderr",
          "text": [
            "100%|██████████| 256/256 [00:07<00:00, 32.12it/s]\n"
          ]
        },
        {
          "output_type": "stream",
          "name": "stdout",
          "text": [
            "loss: 2.777\n",
            "train acc:0.9964101314544678\n",
            "val acc:0.8597312569618225\n",
            "Epoch 19\n"
          ]
        },
        {
          "output_type": "stream",
          "name": "stderr",
          "text": [
            "100%|██████████| 256/256 [00:07<00:00, 32.64it/s]\n"
          ]
        },
        {
          "output_type": "stream",
          "name": "stdout",
          "text": [
            "loss: 2.860\n",
            "train acc:0.9969592094421387\n",
            "val acc:0.8586729764938354\n",
            "Epoch 20\n"
          ]
        },
        {
          "output_type": "stream",
          "name": "stderr",
          "text": [
            "100%|██████████| 256/256 [00:07<00:00, 33.08it/s]\n"
          ]
        },
        {
          "output_type": "stream",
          "name": "stdout",
          "text": [
            "loss: 2.975\n",
            "train acc:0.9980361461639404\n",
            "val acc:0.8587691783905029\n",
            "Epoch 21\n"
          ]
        },
        {
          "output_type": "stream",
          "name": "stderr",
          "text": [
            "100%|██████████| 256/256 [00:07<00:00, 32.53it/s]\n"
          ]
        },
        {
          "output_type": "stream",
          "name": "stdout",
          "text": [
            "loss: 2.972\n",
            "train acc:0.9982261657714844\n",
            "val acc:0.8611743450164795\n",
            "Epoch 22\n"
          ]
        },
        {
          "output_type": "stream",
          "name": "stderr",
          "text": [
            "100%|██████████| 256/256 [00:07<00:00, 32.28it/s]\n"
          ]
        },
        {
          "output_type": "stream",
          "name": "stdout",
          "text": [
            "loss: 3.039\n",
            "train acc:0.998606264591217\n",
            "val acc:0.8603084683418274\n",
            "Epoch 23\n"
          ]
        },
        {
          "output_type": "stream",
          "name": "stderr",
          "text": [
            "100%|██████████| 256/256 [00:07<00:00, 33.00it/s]\n"
          ]
        },
        {
          "output_type": "stream",
          "name": "stdout",
          "text": [
            "loss: 3.016\n",
            "train acc:0.9989230036735535\n",
            "val acc:0.8607894778251648\n",
            "Epoch 24\n"
          ]
        },
        {
          "output_type": "stream",
          "name": "stderr",
          "text": [
            "100%|██████████| 256/256 [00:07<00:00, 32.16it/s]\n"
          ]
        },
        {
          "output_type": "stream",
          "name": "stdout",
          "text": [
            "loss: 2.901\n",
            "train acc:0.9991764426231384\n",
            "val acc:0.8607574105262756\n",
            "\n",
            " Best model at epoch 11\n",
            "===============\n",
            "New setting with LSTM\n",
            "hidden_dim : 512\n",
            "dropout : 0.8\n",
            "Epoch 1\n"
          ]
        },
        {
          "output_type": "stream",
          "name": "stderr",
          "text": [
            "100%|██████████| 256/256 [00:07<00:00, 32.76it/s]\n"
          ]
        },
        {
          "output_type": "stream",
          "name": "stdout",
          "text": [
            "loss: 3.806\n",
            "train acc:0.7369499206542969\n",
            "val acc:0.7189173102378845\n",
            "Model saved at model-LSTM-512-0.8.pkl\n",
            "Epoch 2\n"
          ]
        },
        {
          "output_type": "stream",
          "name": "stderr",
          "text": [
            "100%|██████████| 256/256 [00:07<00:00, 33.96it/s]\n"
          ]
        },
        {
          "output_type": "stream",
          "name": "stdout",
          "text": [
            "loss: 3.752\n",
            "train acc:0.7909451723098755\n",
            "val acc:0.7663790583610535\n",
            "Model saved at model-LSTM-512-0.8.pkl\n",
            "Epoch 3\n"
          ]
        },
        {
          "output_type": "stream",
          "name": "stderr",
          "text": [
            "100%|██████████| 256/256 [00:07<00:00, 32.62it/s]\n"
          ]
        },
        {
          "output_type": "stream",
          "name": "stdout",
          "text": [
            "loss: 3.677\n",
            "train acc:0.8269490599632263\n",
            "val acc:0.797806441783905\n",
            "Model saved at model-LSTM-512-0.8.pkl\n",
            "Epoch 4\n"
          ]
        },
        {
          "output_type": "stream",
          "name": "stderr",
          "text": [
            "100%|██████████| 256/256 [00:07<00:00, 32.36it/s]\n"
          ]
        },
        {
          "output_type": "stream",
          "name": "stdout",
          "text": [
            "loss: 3.602\n",
            "train acc:0.844391405582428\n",
            "val acc:0.8154122233390808\n",
            "Model saved at model-LSTM-512-0.8.pkl\n",
            "Epoch 5\n"
          ]
        },
        {
          "output_type": "stream",
          "name": "stderr",
          "text": [
            "100%|██████████| 256/256 [00:07<00:00, 32.75it/s]\n"
          ]
        },
        {
          "output_type": "stream",
          "name": "stdout",
          "text": [
            "loss: 3.516\n",
            "train acc:0.8630163073539734\n",
            "val acc:0.8266683220863342\n",
            "Model saved at model-LSTM-512-0.8.pkl\n",
            "Epoch 6\n"
          ]
        },
        {
          "output_type": "stream",
          "name": "stderr",
          "text": [
            "100%|██████████| 256/256 [00:07<00:00, 32.78it/s]\n"
          ]
        },
        {
          "output_type": "stream",
          "name": "stdout",
          "text": [
            "loss: 3.335\n",
            "train acc:0.8755384683609009\n",
            "val acc:0.8369624018669128\n",
            "Model saved at model-LSTM-512-0.8.pkl\n",
            "Epoch 7\n"
          ]
        },
        {
          "output_type": "stream",
          "name": "stderr",
          "text": [
            "100%|██████████| 256/256 [00:07<00:00, 32.38it/s]\n"
          ]
        },
        {
          "output_type": "stream",
          "name": "stdout",
          "text": [
            "loss: 3.221\n",
            "train acc:0.8898344039916992\n",
            "val acc:0.8458133935928345\n",
            "Model saved at model-LSTM-512-0.8.pkl\n",
            "Epoch 8\n"
          ]
        },
        {
          "output_type": "stream",
          "name": "stderr",
          "text": [
            "100%|██████████| 256/256 [00:07<00:00, 32.78it/s]\n"
          ]
        },
        {
          "output_type": "stream",
          "name": "stdout",
          "text": [
            "loss: 3.041\n",
            "train acc:0.897964358329773\n",
            "val acc:0.8487637042999268\n",
            "Model saved at model-LSTM-512-0.8.pkl\n",
            "Epoch 9\n"
          ]
        },
        {
          "output_type": "stream",
          "name": "stderr",
          "text": [
            "100%|██████████| 256/256 [00:07<00:00, 32.53it/s]\n"
          ]
        },
        {
          "output_type": "stream",
          "name": "stdout",
          "text": [
            "loss: 3.151\n",
            "train acc:0.9114367365837097\n",
            "val acc:0.8568129539489746\n",
            "Model saved at model-LSTM-512-0.8.pkl\n",
            "Epoch 10\n"
          ]
        },
        {
          "output_type": "stream",
          "name": "stderr",
          "text": [
            "100%|██████████| 256/256 [00:07<00:00, 33.09it/s]\n"
          ]
        },
        {
          "output_type": "stream",
          "name": "stdout",
          "text": [
            "loss: 3.288\n",
            "train acc:0.919439971446991\n",
            "val acc:0.8584485054016113\n",
            "Model saved at model-LSTM-512-0.8.pkl\n",
            "Epoch 11\n"
          ]
        },
        {
          "output_type": "stream",
          "name": "stderr",
          "text": [
            "100%|██████████| 256/256 [00:08<00:00, 31.50it/s]\n"
          ]
        },
        {
          "output_type": "stream",
          "name": "stdout",
          "text": [
            "loss: 3.137\n",
            "train acc:0.9287101626396179\n",
            "val acc:0.8622325658798218\n",
            "Model saved at model-LSTM-512-0.8.pkl\n",
            "Epoch 12\n"
          ]
        },
        {
          "output_type": "stream",
          "name": "stderr",
          "text": [
            "100%|██████████| 256/256 [00:07<00:00, 32.15it/s]\n"
          ]
        },
        {
          "output_type": "stream",
          "name": "stdout",
          "text": [
            "loss: 2.942\n",
            "train acc:0.9356997609138489\n",
            "val acc:0.8647018671035767\n",
            "Model saved at model-LSTM-512-0.8.pkl\n",
            "Epoch 13\n"
          ]
        },
        {
          "output_type": "stream",
          "name": "stderr",
          "text": [
            "100%|██████████| 256/256 [00:08<00:00, 31.67it/s]\n"
          ]
        },
        {
          "output_type": "stream",
          "name": "stdout",
          "text": [
            "loss: 3.081\n",
            "train acc:0.9439775347709656\n",
            "val acc:0.864766001701355\n",
            "Model saved at model-LSTM-512-0.8.pkl\n",
            "Epoch 14\n"
          ]
        },
        {
          "output_type": "stream",
          "name": "stderr",
          "text": [
            "100%|██████████| 256/256 [00:07<00:00, 32.03it/s]\n"
          ]
        },
        {
          "output_type": "stream",
          "name": "stdout",
          "text": [
            "loss: 2.813\n",
            "train acc:0.9520229697227478\n",
            "val acc:0.868518054485321\n",
            "Model saved at model-LSTM-512-0.8.pkl\n",
            "Epoch 15\n"
          ]
        },
        {
          "output_type": "stream",
          "name": "stderr",
          "text": [
            "100%|██████████| 256/256 [00:07<00:00, 32.32it/s]\n"
          ]
        },
        {
          "output_type": "stream",
          "name": "stdout",
          "text": [
            "loss: 3.032\n",
            "train acc:0.9578933715820312\n",
            "val acc:0.8688066601753235\n",
            "Model saved at model-LSTM-512-0.8.pkl\n",
            "Epoch 16\n"
          ]
        },
        {
          "output_type": "stream",
          "name": "stderr",
          "text": [
            "100%|██████████| 256/256 [00:08<00:00, 31.56it/s]\n"
          ]
        },
        {
          "output_type": "stream",
          "name": "stdout",
          "text": [
            "loss: 3.083\n",
            "train acc:0.9653897881507874\n",
            "val acc:0.8696404695510864\n",
            "Model saved at model-LSTM-512-0.8.pkl\n",
            "Epoch 17\n"
          ]
        },
        {
          "output_type": "stream",
          "name": "stderr",
          "text": [
            "100%|██████████| 256/256 [00:08<00:00, 31.53it/s]\n"
          ]
        },
        {
          "output_type": "stream",
          "name": "stdout",
          "text": [
            "loss: 3.086\n",
            "train acc:0.9694230556488037\n",
            "val acc:0.8686142563819885\n",
            "Epoch 18\n"
          ]
        },
        {
          "output_type": "stream",
          "name": "stderr",
          "text": [
            "100%|██████████| 256/256 [00:08<00:00, 31.93it/s]\n"
          ]
        },
        {
          "output_type": "stream",
          "name": "stdout",
          "text": [
            "loss: 2.995\n",
            "train acc:0.9734563827514648\n",
            "val acc:0.8689991235733032\n",
            "Epoch 19\n"
          ]
        },
        {
          "output_type": "stream",
          "name": "stderr",
          "text": [
            "100%|██████████| 256/256 [00:07<00:00, 32.02it/s]\n"
          ]
        },
        {
          "output_type": "stream",
          "name": "stdout",
          "text": [
            "loss: 2.949\n",
            "train acc:0.9780809283256531\n",
            "val acc:0.8660487532615662\n",
            "Epoch 20\n"
          ]
        },
        {
          "output_type": "stream",
          "name": "stderr",
          "text": [
            "100%|██████████| 256/256 [00:08<00:00, 31.44it/s]\n"
          ]
        },
        {
          "output_type": "stream",
          "name": "stdout",
          "text": [
            "loss: 2.930\n",
            "train acc:0.9821141958236694\n",
            "val acc:0.8676843047142029\n",
            "Epoch 21\n"
          ]
        },
        {
          "output_type": "stream",
          "name": "stderr",
          "text": [
            "100%|██████████| 256/256 [00:08<00:00, 31.29it/s]\n"
          ]
        },
        {
          "output_type": "stream",
          "name": "stdout",
          "text": [
            "loss: 2.869\n",
            "train acc:0.9847326278686523\n",
            "val acc:0.8678767085075378\n",
            "Epoch 22\n"
          ]
        },
        {
          "output_type": "stream",
          "name": "stderr",
          "text": [
            "100%|██████████| 256/256 [00:07<00:00, 32.29it/s]\n"
          ]
        },
        {
          "output_type": "stream",
          "name": "stdout",
          "text": [
            "loss: 2.904\n",
            "train acc:0.9874355792999268\n",
            "val acc:0.8669787645339966\n",
            "Epoch 23\n"
          ]
        },
        {
          "output_type": "stream",
          "name": "stderr",
          "text": [
            "100%|██████████| 256/256 [00:07<00:00, 32.80it/s]\n"
          ]
        },
        {
          "output_type": "stream",
          "name": "stdout",
          "text": [
            "loss: 2.910\n",
            "train acc:0.9898639917373657\n",
            "val acc:0.8661449551582336\n",
            "Epoch 24\n"
          ]
        },
        {
          "output_type": "stream",
          "name": "stderr",
          "text": [
            "100%|██████████| 256/256 [00:07<00:00, 33.51it/s]\n"
          ]
        },
        {
          "output_type": "stream",
          "name": "stdout",
          "text": [
            "loss: 2.874\n",
            "train acc:0.990919828414917\n",
            "val acc:0.8665618896484375\n",
            "Epoch 25\n"
          ]
        },
        {
          "output_type": "stream",
          "name": "stderr",
          "text": [
            "100%|██████████| 256/256 [00:07<00:00, 32.47it/s]\n"
          ]
        },
        {
          "output_type": "stream",
          "name": "stdout",
          "text": [
            "loss: 3.071\n",
            "train acc:0.9921234846115112\n",
            "val acc:0.8656960129737854\n",
            "Epoch 26\n"
          ]
        },
        {
          "output_type": "stream",
          "name": "stderr",
          "text": [
            "100%|██████████| 256/256 [00:07<00:00, 32.18it/s]\n"
          ]
        },
        {
          "output_type": "stream",
          "name": "stdout",
          "text": [
            "loss: 2.752\n",
            "train acc:0.9938550591468811\n",
            "val acc:0.8653112053871155\n",
            "Epoch 27\n"
          ]
        },
        {
          "output_type": "stream",
          "name": "stderr",
          "text": [
            "100%|██████████| 256/256 [00:07<00:00, 32.70it/s]\n"
          ]
        },
        {
          "output_type": "stream",
          "name": "stdout",
          "text": [
            "loss: 2.805\n",
            "train acc:0.9939183592796326\n",
            "val acc:0.8675880432128906\n",
            "Epoch 28\n"
          ]
        },
        {
          "output_type": "stream",
          "name": "stderr",
          "text": [
            "100%|██████████| 256/256 [00:07<00:00, 32.69it/s]\n"
          ]
        },
        {
          "output_type": "stream",
          "name": "stdout",
          "text": [
            "loss: 2.910\n",
            "train acc:0.9949741959571838\n",
            "val acc:0.8667222261428833\n",
            "Epoch 29\n"
          ]
        },
        {
          "output_type": "stream",
          "name": "stderr",
          "text": [
            "100%|██████████| 256/256 [00:08<00:00, 31.82it/s]\n"
          ]
        },
        {
          "output_type": "stream",
          "name": "stdout",
          "text": [
            "loss: 2.737\n",
            "train acc:0.9962623119354248\n",
            "val acc:0.8671070337295532\n",
            "Epoch 30\n"
          ]
        },
        {
          "output_type": "stream",
          "name": "stderr",
          "text": [
            "100%|██████████| 256/256 [00:08<00:00, 31.56it/s]\n"
          ]
        },
        {
          "output_type": "stream",
          "name": "stdout",
          "text": [
            "loss: 2.785\n",
            "train acc:0.9964523911476135\n",
            "val acc:0.8629381060600281\n",
            "Epoch 31\n"
          ]
        },
        {
          "output_type": "stream",
          "name": "stderr",
          "text": [
            "100%|██████████| 256/256 [00:07<00:00, 32.61it/s]\n"
          ]
        },
        {
          "output_type": "stream",
          "name": "stdout",
          "text": [
            "loss: 2.656\n",
            "train acc:0.9962201118469238\n",
            "val acc:0.8662732243537903\n",
            "Epoch 32\n"
          ]
        },
        {
          "output_type": "stream",
          "name": "stderr",
          "text": [
            "100%|██████████| 256/256 [00:08<00:00, 31.62it/s]\n"
          ]
        },
        {
          "output_type": "stream",
          "name": "stdout",
          "text": [
            "loss: 2.850\n",
            "train acc:0.9974026083946228\n",
            "val acc:0.8649584054946899\n",
            "\n",
            " Best model at epoch 16\n",
            "===============\n",
            "New setting with LSTM\n",
            "hidden_dim : 1024\n",
            "dropout : 0.4\n",
            "Epoch 1\n"
          ]
        },
        {
          "output_type": "stream",
          "name": "stderr",
          "text": [
            "100%|██████████| 256/256 [00:15<00:00, 16.46it/s]\n"
          ]
        },
        {
          "output_type": "stream",
          "name": "stdout",
          "text": [
            "loss: 3.808\n",
            "train acc:0.7836599349975586\n",
            "val acc:0.7574319243431091\n",
            "Model saved at model-LSTM-1024-0.4.pkl\n",
            "Epoch 2\n"
          ]
        },
        {
          "output_type": "stream",
          "name": "stderr",
          "text": [
            "100%|██████████| 256/256 [00:15<00:00, 16.26it/s]\n"
          ]
        },
        {
          "output_type": "stream",
          "name": "stdout",
          "text": [
            "loss: 3.699\n",
            "train acc:0.8400835990905762\n",
            "val acc:0.8057274222373962\n",
            "Model saved at model-LSTM-1024-0.4.pkl\n",
            "Epoch 3\n"
          ]
        },
        {
          "output_type": "stream",
          "name": "stderr",
          "text": [
            "100%|██████████| 256/256 [00:15<00:00, 16.35it/s]\n"
          ]
        },
        {
          "output_type": "stream",
          "name": "stdout",
          "text": [
            "loss: 3.552\n",
            "train acc:0.8717796802520752\n",
            "val acc:0.8256101012229919\n",
            "Model saved at model-LSTM-1024-0.4.pkl\n",
            "Epoch 4\n"
          ]
        },
        {
          "output_type": "stream",
          "name": "stderr",
          "text": [
            "100%|██████████| 256/256 [00:15<00:00, 16.33it/s]\n"
          ]
        },
        {
          "output_type": "stream",
          "name": "stdout",
          "text": [
            "loss: 3.354\n",
            "train acc:0.8981332778930664\n",
            "val acc:0.8363531231880188\n",
            "Model saved at model-LSTM-1024-0.4.pkl\n",
            "Epoch 5\n"
          ]
        },
        {
          "output_type": "stream",
          "name": "stderr",
          "text": [
            "100%|██████████| 256/256 [00:15<00:00, 16.41it/s]\n"
          ]
        },
        {
          "output_type": "stream",
          "name": "stdout",
          "text": [
            "loss: 3.205\n",
            "train acc:0.9347284436225891\n",
            "val acc:0.855883002281189\n",
            "Model saved at model-LSTM-1024-0.4.pkl\n",
            "Epoch 6\n"
          ]
        },
        {
          "output_type": "stream",
          "name": "stderr",
          "text": [
            "100%|██████████| 256/256 [00:15<00:00, 16.50it/s]\n"
          ]
        },
        {
          "output_type": "stream",
          "name": "stdout",
          "text": [
            "loss: 3.099\n",
            "train acc:0.9558239579200745\n",
            "val acc:0.8547926545143127\n",
            "Epoch 7\n"
          ]
        },
        {
          "output_type": "stream",
          "name": "stderr",
          "text": [
            "100%|██████████| 256/256 [00:15<00:00, 16.42it/s]\n"
          ]
        },
        {
          "output_type": "stream",
          "name": "stdout",
          "text": [
            "loss: 2.947\n",
            "train acc:0.9743221402168274\n",
            "val acc:0.8536702394485474\n",
            "Epoch 8\n"
          ]
        },
        {
          "output_type": "stream",
          "name": "stderr",
          "text": [
            "100%|██████████| 256/256 [00:15<00:00, 16.35it/s]\n"
          ]
        },
        {
          "output_type": "stream",
          "name": "stdout",
          "text": [
            "loss: 3.123\n",
            "train acc:0.9855561852455139\n",
            "val acc:0.8505275249481201\n",
            "Epoch 9\n"
          ]
        },
        {
          "output_type": "stream",
          "name": "stderr",
          "text": [
            "100%|██████████| 256/256 [00:15<00:00, 16.40it/s]\n"
          ]
        },
        {
          "output_type": "stream",
          "name": "stdout",
          "text": [
            "loss: 3.021\n",
            "train acc:0.9926514029502869\n",
            "val acc:0.8495654463768005\n",
            "Epoch 10\n"
          ]
        },
        {
          "output_type": "stream",
          "name": "stderr",
          "text": [
            "100%|██████████| 256/256 [00:15<00:00, 16.44it/s]\n"
          ]
        },
        {
          "output_type": "stream",
          "name": "stdout",
          "text": [
            "loss: 2.806\n",
            "train acc:0.9957766532897949\n",
            "val acc:0.8492768406867981\n",
            "Epoch 11\n"
          ]
        },
        {
          "output_type": "stream",
          "name": "stderr",
          "text": [
            "100%|██████████| 256/256 [00:15<00:00, 16.35it/s]\n"
          ]
        },
        {
          "output_type": "stream",
          "name": "stdout",
          "text": [
            "loss: 2.861\n",
            "train acc:0.9978038668632507\n",
            "val acc:0.845909595489502\n",
            "Epoch 12\n"
          ]
        },
        {
          "output_type": "stream",
          "name": "stderr",
          "text": [
            "100%|██████████| 256/256 [00:15<00:00, 16.36it/s]\n"
          ]
        },
        {
          "output_type": "stream",
          "name": "stdout",
          "text": [
            "loss: 3.009\n",
            "train acc:0.9989863634109497\n",
            "val acc:0.8499502539634705\n",
            "Epoch 13\n"
          ]
        },
        {
          "output_type": "stream",
          "name": "stderr",
          "text": [
            "100%|██████████| 256/256 [00:15<00:00, 16.38it/s]\n"
          ]
        },
        {
          "output_type": "stream",
          "name": "stdout",
          "text": [
            "loss: 3.064\n",
            "train acc:0.9988174438476562\n",
            "val acc:0.8458775281906128\n",
            "Epoch 14\n"
          ]
        },
        {
          "output_type": "stream",
          "name": "stderr",
          "text": [
            "100%|██████████| 256/256 [00:15<00:00, 16.32it/s]\n"
          ]
        },
        {
          "output_type": "stream",
          "name": "stdout",
          "text": [
            "loss: 2.784\n",
            "train acc:0.9983106255531311\n",
            "val acc:0.8456851243972778\n",
            "Epoch 15\n"
          ]
        },
        {
          "output_type": "stream",
          "name": "stderr",
          "text": [
            "100%|██████████| 256/256 [00:15<00:00, 16.42it/s]\n"
          ]
        },
        {
          "output_type": "stream",
          "name": "stdout",
          "text": [
            "loss: 2.776\n",
            "train acc:0.9986696243286133\n",
            "val acc:0.8463906049728394\n",
            "Epoch 16\n"
          ]
        },
        {
          "output_type": "stream",
          "name": "stderr",
          "text": [
            "100%|██████████| 256/256 [00:15<00:00, 16.44it/s]\n"
          ]
        },
        {
          "output_type": "stream",
          "name": "stdout",
          "text": [
            "loss: 2.814\n",
            "train acc:0.9988385438919067\n",
            "val acc:0.8472564816474915\n",
            "\n",
            " Best model at epoch 5\n",
            "===============\n",
            "New setting with LSTM\n",
            "hidden_dim : 1024\n",
            "dropout : 0.6\n",
            "Epoch 1\n"
          ]
        },
        {
          "output_type": "stream",
          "name": "stderr",
          "text": [
            "100%|██████████| 256/256 [00:15<00:00, 16.33it/s]\n"
          ]
        },
        {
          "output_type": "stream",
          "name": "stdout",
          "text": [
            "loss: 3.811\n",
            "train acc:0.7658585906028748\n",
            "val acc:0.7411088943481445\n",
            "Model saved at model-LSTM-1024-0.6.pkl\n",
            "Epoch 2\n"
          ]
        },
        {
          "output_type": "stream",
          "name": "stderr",
          "text": [
            "100%|██████████| 256/256 [00:15<00:00, 16.24it/s]\n"
          ]
        },
        {
          "output_type": "stream",
          "name": "stdout",
          "text": [
            "loss: 3.689\n",
            "train acc:0.829609751701355\n",
            "val acc:0.7979667782783508\n",
            "Model saved at model-LSTM-1024-0.6.pkl\n",
            "Epoch 3\n"
          ]
        },
        {
          "output_type": "stream",
          "name": "stderr",
          "text": [
            "100%|██████████| 256/256 [00:15<00:00, 16.39it/s]\n"
          ]
        },
        {
          "output_type": "stream",
          "name": "stdout",
          "text": [
            "loss: 3.542\n",
            "train acc:0.863734245300293\n",
            "val acc:0.8213449120521545\n",
            "Model saved at model-LSTM-1024-0.6.pkl\n",
            "Epoch 4\n"
          ]
        },
        {
          "output_type": "stream",
          "name": "stderr",
          "text": [
            "100%|██████████| 256/256 [00:15<00:00, 16.34it/s]\n"
          ]
        },
        {
          "output_type": "stream",
          "name": "stdout",
          "text": [
            "loss: 3.335\n",
            "train acc:0.8904468417167664\n",
            "val acc:0.8384054899215698\n",
            "Model saved at model-LSTM-1024-0.6.pkl\n",
            "Epoch 5\n"
          ]
        },
        {
          "output_type": "stream",
          "name": "stderr",
          "text": [
            "100%|██████████| 256/256 [00:15<00:00, 16.40it/s]\n"
          ]
        },
        {
          "output_type": "stream",
          "name": "stdout",
          "text": [
            "loss: 3.343\n",
            "train acc:0.912302553653717\n",
            "val acc:0.8465509414672852\n",
            "Model saved at model-LSTM-1024-0.6.pkl\n",
            "Epoch 6\n"
          ]
        },
        {
          "output_type": "stream",
          "name": "stderr",
          "text": [
            "100%|██████████| 256/256 [00:15<00:00, 16.23it/s]\n"
          ]
        },
        {
          "output_type": "stream",
          "name": "stdout",
          "text": [
            "loss: 3.076\n",
            "train acc:0.9347917437553406\n",
            "val acc:0.85318922996521\n",
            "Model saved at model-LSTM-1024-0.6.pkl\n",
            "Epoch 7\n"
          ]
        },
        {
          "output_type": "stream",
          "name": "stderr",
          "text": [
            "100%|██████████| 256/256 [00:15<00:00, 16.29it/s]\n"
          ]
        },
        {
          "output_type": "stream",
          "name": "stdout",
          "text": [
            "loss: 2.910\n",
            "train acc:0.9533955454826355\n",
            "val acc:0.8536381721496582\n",
            "Model saved at model-LSTM-1024-0.6.pkl\n",
            "Epoch 8\n"
          ]
        },
        {
          "output_type": "stream",
          "name": "stderr",
          "text": [
            "100%|██████████| 256/256 [00:15<00:00, 16.36it/s]\n"
          ]
        },
        {
          "output_type": "stream",
          "name": "stdout",
          "text": [
            "loss: 2.901\n",
            "train acc:0.969190776348114\n",
            "val acc:0.8520988821983337\n",
            "Epoch 9\n"
          ]
        },
        {
          "output_type": "stream",
          "name": "stderr",
          "text": [
            "100%|██████████| 256/256 [00:15<00:00, 16.26it/s]\n"
          ]
        },
        {
          "output_type": "stream",
          "name": "stdout",
          "text": [
            "loss: 2.974\n",
            "train acc:0.9810794591903687\n",
            "val acc:0.8541191816329956\n",
            "Model saved at model-LSTM-1024-0.6.pkl\n",
            "Epoch 10\n"
          ]
        },
        {
          "output_type": "stream",
          "name": "stderr",
          "text": [
            "100%|██████████| 256/256 [00:15<00:00, 16.39it/s]\n"
          ]
        },
        {
          "output_type": "stream",
          "name": "stdout",
          "text": [
            "loss: 3.115\n",
            "train acc:0.9896950721740723\n",
            "val acc:0.8532854318618774\n",
            "Epoch 11\n"
          ]
        },
        {
          "output_type": "stream",
          "name": "stderr",
          "text": [
            "100%|██████████| 256/256 [00:15<00:00, 16.33it/s]\n"
          ]
        },
        {
          "output_type": "stream",
          "name": "stdout",
          "text": [
            "loss: 2.899\n",
            "train acc:0.9933693408966064\n",
            "val acc:0.8493409752845764\n",
            "Epoch 12\n"
          ]
        },
        {
          "output_type": "stream",
          "name": "stderr",
          "text": [
            "100%|██████████| 256/256 [00:15<00:00, 16.26it/s]\n"
          ]
        },
        {
          "output_type": "stream",
          "name": "stdout",
          "text": [
            "loss: 2.996\n",
            "train acc:0.995481014251709\n",
            "val acc:0.8522912859916687\n",
            "Epoch 13\n"
          ]
        },
        {
          "output_type": "stream",
          "name": "stderr",
          "text": [
            "100%|██████████| 256/256 [00:15<00:00, 16.26it/s]\n"
          ]
        },
        {
          "output_type": "stream",
          "name": "stdout",
          "text": [
            "loss: 2.953\n",
            "train acc:0.9962201118469238\n",
            "val acc:0.8473847508430481\n",
            "Epoch 14\n"
          ]
        },
        {
          "output_type": "stream",
          "name": "stderr",
          "text": [
            "100%|██████████| 256/256 [00:15<00:00, 16.42it/s]\n"
          ]
        },
        {
          "output_type": "stream",
          "name": "stdout",
          "text": [
            "loss: 2.882\n",
            "train acc:0.9978038668632507\n",
            "val acc:0.8498861193656921\n",
            "Epoch 15\n"
          ]
        },
        {
          "output_type": "stream",
          "name": "stderr",
          "text": [
            "100%|██████████| 256/256 [00:15<00:00, 16.40it/s]\n"
          ]
        },
        {
          "output_type": "stream",
          "name": "stdout",
          "text": [
            "loss: 2.972\n",
            "train acc:0.9980572462081909\n",
            "val acc:0.85129714012146\n",
            "Epoch 16\n"
          ]
        },
        {
          "output_type": "stream",
          "name": "stderr",
          "text": [
            "100%|██████████| 256/256 [00:15<00:00, 16.43it/s]\n"
          ]
        },
        {
          "output_type": "stream",
          "name": "stdout",
          "text": [
            "loss: 2.804\n",
            "train acc:0.9983528852462769\n",
            "val acc:0.8496295809745789\n",
            "Epoch 17\n"
          ]
        },
        {
          "output_type": "stream",
          "name": "stderr",
          "text": [
            "100%|██████████| 256/256 [00:15<00:00, 16.44it/s]\n"
          ]
        },
        {
          "output_type": "stream",
          "name": "stdout",
          "text": [
            "loss: 2.754\n",
            "train acc:0.9987329840660095\n",
            "val acc:0.8533816337585449\n",
            "Epoch 18\n"
          ]
        },
        {
          "output_type": "stream",
          "name": "stderr",
          "text": [
            "100%|██████████| 256/256 [00:15<00:00, 16.36it/s]\n"
          ]
        },
        {
          "output_type": "stream",
          "name": "stdout",
          "text": [
            "loss: 2.870\n",
            "train acc:0.998711884021759\n",
            "val acc:0.8498861193656921\n",
            "Epoch 19\n"
          ]
        },
        {
          "output_type": "stream",
          "name": "stderr",
          "text": [
            "100%|██████████| 256/256 [00:15<00:00, 16.32it/s]\n"
          ]
        },
        {
          "output_type": "stream",
          "name": "stdout",
          "text": [
            "loss: 2.636\n",
            "train acc:0.9991341829299927\n",
            "val acc:0.8518423438072205\n",
            "Epoch 20\n"
          ]
        },
        {
          "output_type": "stream",
          "name": "stderr",
          "text": [
            "100%|██████████| 256/256 [00:15<00:00, 16.09it/s]\n"
          ]
        },
        {
          "output_type": "stream",
          "name": "stdout",
          "text": [
            "loss: 2.756\n",
            "train acc:0.998901903629303\n",
            "val acc:0.8504953980445862\n",
            "Epoch 21\n"
          ]
        },
        {
          "output_type": "stream",
          "name": "stderr",
          "text": [
            "100%|██████████| 256/256 [00:15<00:00, 16.38it/s]\n"
          ]
        },
        {
          "output_type": "stream",
          "name": "stdout",
          "text": [
            "loss: 2.801\n",
            "train acc:0.9991130828857422\n",
            "val acc:0.8519385457038879\n",
            "Epoch 22\n"
          ]
        },
        {
          "output_type": "stream",
          "name": "stderr",
          "text": [
            "100%|██████████| 256/256 [00:15<00:00, 16.30it/s]\n"
          ]
        },
        {
          "output_type": "stream",
          "name": "stdout",
          "text": [
            "loss: 2.634\n",
            "train acc:0.9991341829299927\n",
            "val acc:0.8488599061965942\n",
            "Epoch 23\n"
          ]
        },
        {
          "output_type": "stream",
          "name": "stderr",
          "text": [
            "100%|██████████| 256/256 [00:15<00:00, 16.49it/s]\n"
          ]
        },
        {
          "output_type": "stream",
          "name": "stdout",
          "text": [
            "loss: 2.795\n",
            "train acc:0.9992186427116394\n",
            "val acc:0.8518423438072205\n",
            "Epoch 24\n"
          ]
        },
        {
          "output_type": "stream",
          "name": "stderr",
          "text": [
            "100%|██████████| 256/256 [00:15<00:00, 16.28it/s]\n"
          ]
        },
        {
          "output_type": "stream",
          "name": "stdout",
          "text": [
            "loss: 2.836\n",
            "train acc:0.9991553425788879\n",
            "val acc:0.8515857458114624\n",
            "\n",
            " Best model at epoch 9\n",
            "===============\n",
            "New setting with LSTM\n",
            "hidden_dim : 1024\n",
            "dropout : 0.8\n",
            "Epoch 1\n"
          ]
        },
        {
          "output_type": "stream",
          "name": "stderr",
          "text": [
            "100%|██████████| 256/256 [00:15<00:00, 16.30it/s]\n"
          ]
        },
        {
          "output_type": "stream",
          "name": "stdout",
          "text": [
            "loss: 3.804\n",
            "train acc:0.7485851645469666\n",
            "val acc:0.7289548516273499\n",
            "Model saved at model-LSTM-1024-0.8.pkl\n",
            "Epoch 2\n"
          ]
        },
        {
          "output_type": "stream",
          "name": "stderr",
          "text": [
            "100%|██████████| 256/256 [00:15<00:00, 16.39it/s]\n"
          ]
        },
        {
          "output_type": "stream",
          "name": "stdout",
          "text": [
            "loss: 3.694\n",
            "train acc:0.8098234534263611\n",
            "val acc:0.7808741331100464\n",
            "Model saved at model-LSTM-1024-0.8.pkl\n",
            "Epoch 3\n"
          ]
        },
        {
          "output_type": "stream",
          "name": "stderr",
          "text": [
            "100%|██████████| 256/256 [00:15<00:00, 16.32it/s]\n"
          ]
        },
        {
          "output_type": "stream",
          "name": "stdout",
          "text": [
            "loss: 3.589\n",
            "train acc:0.8373595476150513\n",
            "val acc:0.8028091788291931\n",
            "Model saved at model-LSTM-1024-0.8.pkl\n",
            "Epoch 4\n"
          ]
        },
        {
          "output_type": "stream",
          "name": "stderr",
          "text": [
            "100%|██████████| 256/256 [00:15<00:00, 16.27it/s]\n"
          ]
        },
        {
          "output_type": "stream",
          "name": "stdout",
          "text": [
            "loss: 3.419\n",
            "train acc:0.8631429672241211\n",
            "val acc:0.8196132183074951\n",
            "Model saved at model-LSTM-1024-0.8.pkl\n",
            "Epoch 5\n"
          ]
        },
        {
          "output_type": "stream",
          "name": "stderr",
          "text": [
            "100%|██████████| 256/256 [00:15<00:00, 16.29it/s]\n"
          ]
        },
        {
          "output_type": "stream",
          "name": "stdout",
          "text": [
            "loss: 3.172\n",
            "train acc:0.8813033103942871\n",
            "val acc:0.8334348201751709\n",
            "Model saved at model-LSTM-1024-0.8.pkl\n",
            "Epoch 6\n"
          ]
        },
        {
          "output_type": "stream",
          "name": "stderr",
          "text": [
            "100%|██████████| 256/256 [00:15<00:00, 16.28it/s]\n"
          ]
        },
        {
          "output_type": "stream",
          "name": "stdout",
          "text": [
            "loss: 3.147\n",
            "train acc:0.9000760316848755\n",
            "val acc:0.8457813262939453\n",
            "Model saved at model-LSTM-1024-0.8.pkl\n",
            "Epoch 7\n"
          ]
        },
        {
          "output_type": "stream",
          "name": "stderr",
          "text": [
            "100%|██████████| 256/256 [00:15<00:00, 16.24it/s]\n"
          ]
        },
        {
          "output_type": "stream",
          "name": "stdout",
          "text": [
            "loss: 3.052\n",
            "train acc:0.9159557223320007\n",
            "val acc:0.8510085344314575\n",
            "Model saved at model-LSTM-1024-0.8.pkl\n",
            "Epoch 8\n"
          ]
        },
        {
          "output_type": "stream",
          "name": "stderr",
          "text": [
            "100%|██████████| 256/256 [00:15<00:00, 16.40it/s]\n"
          ]
        },
        {
          "output_type": "stream",
          "name": "stdout",
          "text": [
            "loss: 3.007\n",
            "train acc:0.9259650111198425\n",
            "val acc:0.8506878614425659\n",
            "Epoch 9\n"
          ]
        },
        {
          "output_type": "stream",
          "name": "stderr",
          "text": [
            "100%|██████████| 256/256 [00:15<00:00, 16.37it/s]\n"
          ]
        },
        {
          "output_type": "stream",
          "name": "stdout",
          "text": [
            "loss: 2.908\n",
            "train acc:0.9406833052635193\n",
            "val acc:0.8570374250411987\n",
            "Model saved at model-LSTM-1024-0.8.pkl\n",
            "Epoch 10\n"
          ]
        },
        {
          "output_type": "stream",
          "name": "stderr",
          "text": [
            "100%|██████████| 256/256 [00:15<00:00, 16.31it/s]\n"
          ]
        },
        {
          "output_type": "stream",
          "name": "stdout",
          "text": [
            "loss: 3.113\n",
            "train acc:0.9508193135261536\n",
            "val acc:0.8586729764938354\n",
            "Model saved at model-LSTM-1024-0.8.pkl\n",
            "Epoch 11\n"
          ]
        },
        {
          "output_type": "stream",
          "name": "stderr",
          "text": [
            "100%|██████████| 256/256 [00:15<00:00, 16.39it/s]\n"
          ]
        },
        {
          "output_type": "stream",
          "name": "stdout",
          "text": [
            "loss: 2.978\n",
            "train acc:0.9611242413520813\n",
            "val acc:0.8578712344169617\n",
            "Epoch 12\n"
          ]
        },
        {
          "output_type": "stream",
          "name": "stderr",
          "text": [
            "100%|██████████| 256/256 [00:15<00:00, 16.28it/s]\n"
          ]
        },
        {
          "output_type": "stream",
          "name": "stdout",
          "text": [
            "loss: 3.041\n",
            "train acc:0.9689795970916748\n",
            "val acc:0.8604046702384949\n",
            "Model saved at model-LSTM-1024-0.8.pkl\n",
            "Epoch 13\n"
          ]
        },
        {
          "output_type": "stream",
          "name": "stderr",
          "text": [
            "100%|██████████| 256/256 [00:15<00:00, 16.35it/s]\n"
          ]
        },
        {
          "output_type": "stream",
          "name": "stdout",
          "text": [
            "loss: 2.918\n",
            "train acc:0.9781653881072998\n",
            "val acc:0.8605970740318298\n",
            "Model saved at model-LSTM-1024-0.8.pkl\n",
            "Epoch 14\n"
          ]
        },
        {
          "output_type": "stream",
          "name": "stderr",
          "text": [
            "100%|██████████| 256/256 [00:15<00:00, 16.47it/s]\n"
          ]
        },
        {
          "output_type": "stream",
          "name": "stdout",
          "text": [
            "loss: 2.949\n",
            "train acc:0.9834867715835571\n",
            "val acc:0.8603084683418274\n",
            "Epoch 15\n"
          ]
        },
        {
          "output_type": "stream",
          "name": "stderr",
          "text": [
            "100%|██████████| 256/256 [00:15<00:00, 16.41it/s]\n"
          ]
        },
        {
          "output_type": "stream",
          "name": "stdout",
          "text": [
            "loss: 2.937\n",
            "train acc:0.985112726688385\n",
            "val acc:0.8569412231445312\n",
            "Epoch 16\n"
          ]
        },
        {
          "output_type": "stream",
          "name": "stderr",
          "text": [
            "100%|██████████| 256/256 [00:15<00:00, 16.33it/s]\n"
          ]
        },
        {
          "output_type": "stream",
          "name": "stdout",
          "text": [
            "loss: 2.855\n",
            "train acc:0.989631712436676\n",
            "val acc:0.8560754060745239\n",
            "Epoch 17\n"
          ]
        },
        {
          "output_type": "stream",
          "name": "stderr",
          "text": [
            "100%|██████████| 256/256 [00:15<00:00, 16.38it/s]\n"
          ]
        },
        {
          "output_type": "stream",
          "name": "stdout",
          "text": [
            "loss: 2.910\n",
            "train acc:0.9930737018585205\n",
            "val acc:0.8559792041778564\n",
            "Epoch 18\n"
          ]
        },
        {
          "output_type": "stream",
          "name": "stderr",
          "text": [
            "100%|██████████| 256/256 [00:15<00:00, 16.40it/s]\n"
          ]
        },
        {
          "output_type": "stream",
          "name": "stdout",
          "text": [
            "loss: 2.727\n",
            "train acc:0.9948475360870361\n",
            "val acc:0.8547605872154236\n",
            "Epoch 19\n"
          ]
        },
        {
          "output_type": "stream",
          "name": "stderr",
          "text": [
            "100%|██████████| 256/256 [00:15<00:00, 16.36it/s]\n"
          ]
        },
        {
          "output_type": "stream",
          "name": "stdout",
          "text": [
            "loss: 2.930\n",
            "train acc:0.9946786165237427\n",
            "val acc:0.8542153835296631\n",
            "Epoch 20\n"
          ]
        },
        {
          "output_type": "stream",
          "name": "stderr",
          "text": [
            "100%|██████████| 256/256 [00:15<00:00, 16.24it/s]\n"
          ]
        },
        {
          "output_type": "stream",
          "name": "stdout",
          "text": [
            "loss: 2.755\n",
            "train acc:0.9961356520652771\n",
            "val acc:0.853606104850769\n",
            "Epoch 21\n"
          ]
        },
        {
          "output_type": "stream",
          "name": "stderr",
          "text": [
            "100%|██████████| 256/256 [00:15<00:00, 16.41it/s]\n"
          ]
        },
        {
          "output_type": "stream",
          "name": "stdout",
          "text": [
            "loss: 2.928\n",
            "train acc:0.9972759485244751\n",
            "val acc:0.855241596698761\n",
            "Epoch 22\n"
          ]
        },
        {
          "output_type": "stream",
          "name": "stderr",
          "text": [
            "100%|██████████| 256/256 [00:15<00:00, 16.25it/s]\n"
          ]
        },
        {
          "output_type": "stream",
          "name": "stdout",
          "text": [
            "loss: 2.726\n",
            "train acc:0.997465968132019\n",
            "val acc:0.8547285199165344\n",
            "Epoch 23\n"
          ]
        },
        {
          "output_type": "stream",
          "name": "stderr",
          "text": [
            "100%|██████████| 256/256 [00:15<00:00, 16.45it/s]\n"
          ]
        },
        {
          "output_type": "stream",
          "name": "stdout",
          "text": [
            "loss: 2.865\n",
            "train acc:0.9972759485244751\n",
            "val acc:0.8551453948020935\n",
            "Epoch 24\n"
          ]
        },
        {
          "output_type": "stream",
          "name": "stderr",
          "text": [
            "100%|██████████| 256/256 [00:15<00:00, 16.31it/s]\n"
          ]
        },
        {
          "output_type": "stream",
          "name": "stdout",
          "text": [
            "loss: 2.869\n",
            "train acc:0.9983106255531311\n",
            "val acc:0.8543757200241089\n",
            "Epoch 25\n"
          ]
        },
        {
          "output_type": "stream",
          "name": "stderr",
          "text": [
            "100%|██████████| 256/256 [00:15<00:00, 16.36it/s]\n"
          ]
        },
        {
          "output_type": "stream",
          "name": "stdout",
          "text": [
            "loss: 2.953\n",
            "train acc:0.9979727864265442\n",
            "val acc:0.8538305759429932\n",
            "Epoch 26\n"
          ]
        },
        {
          "output_type": "stream",
          "name": "stderr",
          "text": [
            "100%|██████████| 256/256 [00:15<00:00, 16.32it/s]\n"
          ]
        },
        {
          "output_type": "stream",
          "name": "stdout",
          "text": [
            "loss: 2.747\n",
            "train acc:0.9984373450279236\n",
            "val acc:0.8551453948020935\n",
            "Epoch 27\n"
          ]
        },
        {
          "output_type": "stream",
          "name": "stderr",
          "text": [
            "100%|██████████| 256/256 [00:15<00:00, 16.20it/s]\n"
          ]
        },
        {
          "output_type": "stream",
          "name": "stdout",
          "text": [
            "loss: 2.759\n",
            "train acc:0.9983951449394226\n",
            "val acc:0.8527081608772278\n",
            "Epoch 28\n"
          ]
        },
        {
          "output_type": "stream",
          "name": "stderr",
          "text": [
            "100%|██████████| 256/256 [00:15<00:00, 16.14it/s]\n"
          ]
        },
        {
          "output_type": "stream",
          "name": "stdout",
          "text": [
            "loss: 2.699\n",
            "train acc:0.9986696243286133\n",
            "val acc:0.8553377985954285\n",
            "Epoch 29\n"
          ]
        },
        {
          "output_type": "stream",
          "name": "stderr",
          "text": [
            "100%|██████████| 256/256 [00:15<00:00, 16.21it/s]\n"
          ]
        },
        {
          "output_type": "stream",
          "name": "stdout",
          "text": [
            "loss: 2.755\n",
            "train acc:0.999007523059845\n",
            "val acc:0.8543436527252197\n",
            "Epoch 30\n"
          ]
        },
        {
          "output_type": "stream",
          "name": "stderr",
          "text": [
            "100%|██████████| 256/256 [00:15<00:00, 16.11it/s]\n"
          ]
        },
        {
          "output_type": "stream",
          "name": "stdout",
          "text": [
            "loss: 2.637\n",
            "train acc:0.9989652633666992\n",
            "val acc:0.8555622696876526\n",
            "Epoch 31\n"
          ]
        },
        {
          "output_type": "stream",
          "name": "stderr",
          "text": [
            "100%|██████████| 256/256 [00:15<00:00, 16.29it/s]\n"
          ]
        },
        {
          "output_type": "stream",
          "name": "stdout",
          "text": [
            "loss: 2.784\n"
          ]
        }
      ]
    },
    {
      "cell_type": "markdown",
      "source": [
        "# Confusion Matrix and Report\n"
      ],
      "metadata": {
        "id": "esRWaE1pRiWx"
      }
    },
    {
      "cell_type": "code",
      "source": [
        "punctuation = np.array([',', '.', '``', \"''\",  ':', '#', '$' ])\n",
        "mask = np.array([l not in punctuation for l in labels], dtype=int)\n",
        "no_punc_labels = labels[mask == 1]\n",
        "\n",
        "y_pred= model.prediction(val_loader)\n",
        "y_true_encoded = encoder.transform(np.array(val_set['label']).reshape(-1,1))"
      ],
      "metadata": {
        "id": "6Kwi9P0NlMsU"
      },
      "execution_count": null,
      "outputs": []
    },
    {
      "cell_type": "code",
      "source": [
        "report = classification_report(y_true_encoded, y_pred.cpu(), target_names=labels, output_dict=True, zero_division = 1)"
      ],
      "metadata": {
        "id": "WYcCEqcARIiY"
      },
      "execution_count": null,
      "outputs": []
    },
    {
      "cell_type": "code",
      "source": [
        "from prettytable import PrettyTable\n",
        "\n",
        "class_table = PrettyTable(['Class', 'Precision', 'Recall', 'f1-score', 'support'])\n",
        "\n",
        "macro_avg = np.zeros(3)\n",
        "weighted_avg = np.zeros(3)\n",
        "samples = int(report['macro avg']['support'])\n",
        "\n",
        "for label in no_punc_labels:\n",
        "  class_table.add_row([str(label), report[label]['precision'], report[label]['recall'], report[label]['f1-score'], report[label]['support']])\n",
        "  macro_avg += np.array([report[label]['precision'], report[label]['recall'], report[label]['f1-score']], dtype=int)\n",
        "  weighted_avg += np.array([report[label]['precision'], report[label]['recall'], report[label]['f1-score']], dtype=int)*int(report[label]['support'])\n",
        "\n",
        "print(class_table)\n",
        "\n",
        "macro_avg = macro_avg/len(no_punc_labels)\n",
        "weighted_avg = weighted_avg/samples\n",
        "\n",
        "average_table = PrettyTable(['Average', 'Precision', 'Recall', 'f1-score', 'accuracy'])\n",
        "average_table.add_row(['macro avg', macro_avg[0],  macro_avg[1],  macro_avg[2], report['accuracy']])\n",
        "average_table.add_row(['weighted avg', weighted_avg[0],  weighted_avg[1],  weighted_avg[2], report['accuracy']])\n",
        "\n",
        "print(average_table)"
      ],
      "metadata": {
        "colab": {
          "base_uri": "https://localhost:8080/"
        },
        "id": "uJ5BAno2DT0d",
        "outputId": "5840c111-2c89-46ff-ca5b-0d831029d8c8"
      },
      "execution_count": null,
      "outputs": [
        {
          "output_type": "stream",
          "name": "stdout",
          "text": [
            "+-------+------------------------+------------------------+-----------------------+---------+\n",
            "| Class |       Precision        |         Recall         |        f1-score       | support |\n",
            "+-------+------------------------+------------------------+-----------------------+---------+\n",
            "|  NNP  |          0.0           |          0.0           |          0.0          |    15   |\n",
            "|   CD  |          0.0           |          0.0           |          0.0          |   225   |\n",
            "|  NNS  |          0.0           |          0.0           |          0.0          |   1528  |\n",
            "|   JJ  |  0.08333333333333333   |          0.02          |  0.03225806451612903  |    50   |\n",
            "|   MD  |          0.0           |          0.0           |          0.0          |    53   |\n",
            "|   VB  |          0.0           |          0.0           |          0.0          |   1277  |\n",
            "|   DT  |          0.0           |          0.0           |          0.0          |   214   |\n",
            "|   NN  |  0.008620689655172414  |  0.006596306068601583  |  0.007473841554559044 |   758   |\n",
            "|   IN  |  0.044444444444444446  | 0.0016012810248198558  | 0.0030911901081916537 |   1249  |\n",
            "|  VBZ  |          0.0           |          0.0           |          0.0          |    34   |\n",
            "|  VBG  |          0.0           |          0.0           |          0.0          |    2    |\n",
            "|   CC  |          0.0           |          0.0           |          0.0          |   3275  |\n",
            "|  VBD  |  0.051929824561403506  |  0.038461538461538464  |  0.04419229620782323  |   1924  |\n",
            "|  VBN  |          0.0           |          0.0           |          0.0          |   165   |\n",
            "|   RB  |          0.0           |          0.0           |          0.0          |    58   |\n",
            "|   TO  |          0.0           |          0.0           |          0.0          |    3    |\n",
            "|  PRP  |          0.0           |          0.0           |          0.0          |   347   |\n",
            "|  RBR  |          0.25          | 0.00044316419233325947 | 0.0008847600088476001 |   4513  |\n",
            "|  WDT  |          1.0           | 0.0003698224852071006  | 0.0007393715341959334 |   2704  |\n",
            "|  VBP  |          0.0           |          0.0           |          0.0          |   105   |\n",
            "|   RP  |          0.06          |  0.004281636536631779  |  0.007992895204262877 |   2102  |\n",
            "|  PRP$ |          0.0           |          0.0           |          0.0          |    14   |\n",
            "|  JJS  |          0.0           |          0.0           |          0.0          |   269   |\n",
            "|  POS  |  0.004374627162457745  |  0.03859649122807018   |  0.007858546168958742 |   570   |\n",
            "|   EX  |          0.0           |          0.0           |          0.0          |   951   |\n",
            "|   WP  |          0.0           |          0.0           |          0.0          |    13   |\n",
            "|  JJR  |          0.0           |          1.0           |          0.0          |    0    |\n",
            "|  WRB  |          0.0           |          0.0           |          0.0          |   765   |\n",
            "|  NNPS |          0.0           |          0.0           |          0.0          |   956   |\n",
            "|  WP$  |          0.0           |          0.0           |          0.0          |   861   |\n",
            "| -LRB- |  0.01574997531351832   |   0.6701680672268907   |  0.030776652194886643 |   476   |\n",
            "| -RRB- |          0.0           |          0.0           |          0.0          |   737   |\n",
            "|  PDT  |          0.0           |          0.0           |          0.0          |   460   |\n",
            "|  RBS  |          0.0           |          0.0           |          0.0          |   712   |\n",
            "|   FW  |          0.0           |          0.0           |          0.0          |   157   |\n",
            "|   UH  |  0.02040816326530612   |         0.0125         |  0.015503875968992246 |    80   |\n",
            "|  SYM  |          0.0           |          0.0           |          0.0          |    4    |\n",
            "|   LS  | 0.00047393364928909954 |  0.016129032258064516  | 0.0009208103130755065 |    62   |\n",
            "+-------+------------------------+------------------------+-----------------------+---------+\n",
            "+--------------+---------------------+---------------------+----------+----------------------+\n",
            "|   Average    |      Precision      |        Recall       | f1-score |       accuracy       |\n",
            "+--------------+---------------------+---------------------+----------+----------------------+\n",
            "|  macro avg   | 0.02631578947368421 | 0.02631578947368421 |   0.0    | 0.014078183625693488 |\n",
            "| weighted avg |  0.0867139146329731 |         0.0         |   0.0    | 0.014078183625693488 |\n",
            "+--------------+---------------------+---------------------+----------+----------------------+\n"
          ]
        }
      ]
    },
    {
      "cell_type": "code",
      "source": [
        "cm = confusion_matrix(y_true_encoded, y_pred.cpu())\n",
        "\n",
        "plt.rcParams[\"figure.figsize\"] = (10, 8)\n",
        "ax= plt.subplot()\n",
        "sns.heatmap(cm)\n",
        "\n",
        "# labels, title and ticks\n",
        "ax.set_xlabel('Predicted labels');\n",
        "ax.set_ylabel('True labels'); \n",
        "ax.set_title('Confusion Matrix'); \n",
        "ax.xaxis.set_ticklabels(labels.flatten()); \n",
        "plt.xticks(rotation=90);\n",
        "ax.yaxis.set_ticklabels(labels.flatten());\n",
        "plt.yticks(rotation=0);"
      ],
      "metadata": {
        "colab": {
          "base_uri": "https://localhost:8080/",
          "height": 526
        },
        "id": "MLGNTlFLdZMp",
        "outputId": "126f6cab-1c14-4e7f-ce52-e671cb4461c5"
      },
      "execution_count": null,
      "outputs": [
        {
          "output_type": "display_data",
          "data": {
            "image/png": "[encoded data removed]",
            "text/plain": [
              "<Figure size 720x576 with 2 Axes>"
            ]
          },
          "metadata": {
            "needs_background": "light"
          }
        }
      ]
    }
  ]
}