{
  "nbformat": 4,
  "nbformat_minor": 0,
  "metadata": {
    "colab": {
      "name": "Assignment_1.ipynb",
      "provenance": [],
      "collapsed_sections": [
        "ys_LD3OQc7Si"
      ]
    },
    "kernelspec": {
      "name": "python3",
      "display_name": "Python 3"
    }
  },
  "cells": [
    {
      "cell_type": "markdown",
      "metadata": {
        "id": "-WeCeITXoxLf"
      },
      "source": [
        "# Assignment 1\n",
        "\n",
        "**Due to**: 23/12/2021 (dd/mm/yyyy)\n",
        "\n",
        "**Credits**: Andrea Galassi, Federico Ruggeri, Paolo Torroni\n",
        "\n",
        "**Summary**: Part-of Speech (POS) tagging as Sequence Labelling using Recurrent Neural Architectures"
      ]
    },
    {
      "cell_type": "markdown",
      "metadata": {
        "id": "a4_wqPdlBcKS"
      },
      "source": [
        "# Intro\n",
        "\n",
        "In this assignment  we will ask you to perform POS tagging using neural architectures\n",
        "\n",
        "You are asked to follow these steps:\n",
        "*   Download the corpora and split it in training and test sets, structuring a dataframe.\n",
        "*   Embed the words using GloVe embeddings\n",
        "*   Create a baseline model, using a simple neural architecture\n",
        "*   Experiment doing small modifications to the baseline model, choose hyperparameters using the validation set\n",
        "*   Evaluate your two best model\n",
        "*   Analyze the errors of your model\n",
        "\n",
        "\n",
        "**Task**: given a corpus of documents, predict the POS tag for each word\n",
        "\n",
        "**Corpus**:\n",
        "Ignore the numeric value in the third column, use only the words/symbols and its label. \n",
        "The corpus is available at:\n",
        "https://raw.githubusercontent.com/nltk/nltk_data/gh-pages/packages/corpora/dependency_treebank.zip\n",
        "\n",
        "**Splits**: documents 1-100 are the train set, 101-150 validation set, 151-199 test set.\n",
        "\n",
        "\n",
        "**Features**: you MUST use GloVe embeddings as the only input features to the model.\n",
        "\n",
        "**Splitting**: you can decide to split documents into sentences or not, the choice is yours.\n",
        "\n",
        "**I/O structure**: The input data will have three dimensions: 1-documents/sentences, 2-token, 3-features; for the output there are 2 possibilities: if you use one-hot encoding it will be 1-documents/sentences, 2-token labels, 3-classes, if you use a single integer that indicates the number of the class it will be 1-documents/sentences, 2-token labels.\n",
        "\n",
        "**Baseline**: two layers architecture: a Bidirectional LSTM layer and a Dense/Fully-Connected layer on top; the choice of hyper-parameters is yours.\n",
        "\n",
        "**Architectures**: experiment using a GRU instead of the LSTM, adding an additional LSTM layer, and adding an additional dense layer; do not mix these variantions.\n",
        "\n",
        "\n",
        "**Training and Experiments**: all the experiments must involve only the training and validation sets.\n",
        "\n",
        "**Evaluation**: in the end, only the two best models of your choice (according to the validation set) must be evaluated on the test set. The main metric must be F1-Macro computed between the various part of speech. DO NOT CONSIDER THE PUNCTUATION CLASSES.\n",
        "\n",
        "**Metrics**: the metric you must use to evaluate your final model is the F1-macro, WITHOUT considering punctuation/symbols classes; during the training process you can use accuracy because you can't use the F1 metric unless you use a single (gigantic) batch because there is no way to aggregate \"partial\" F1 scores computed on mini-batches.\n",
        "\n",
        "**Discussion and Error Analysis** : verify and discuss if the results on the test sets are coherent with those on the validation set; analyze the errors done by your model, try to understand which may be the causes and think about how to improve it.\n",
        "\n",
        "**Report**: you are asked to deliver the code of your experiments and a small pdf report of about 2 pages; the pdf must begin with the names of the people of your team and a small abstract (4-5 lines) that sums up your findings.\n",
        "\n",
        "# Out Of Vocabulary (OOV) terms\n",
        "\n",
        "How to handle words that are not in GloVe vocabulary?\n",
        "You can handle them as you want (random embedding, placeholder, whatever!), but they must be STATIC embeddings (you cannot train them).\n",
        "\n",
        "But there is a very important caveat! As usual, the element of the test set must not influence the elements of the other splits!\n",
        "\n",
        "So, when you compute new embeddings for train+validation, you must forget about test documents.\n",
        "The motivation is to emulate a real-world scenario, where you select and train a model in the first stage, without knowing nothing about the testing environment.\n",
        "\n",
        "For implementation convenience, you CAN use a single vocabulary file/matrix/whatever. The principle of the previous point is that the embeddings inside that file/matrix must be generated independently for train and test splits.\n",
        "\n",
        "Basically in a real-world scenario, this is what would happen:\n",
        "1. Starting vocabulary V1 (in this assignment, GloVe vocabulary)\n",
        "2. Compute embeddings for terms out of vocabulary V1 (OOV1) of the training split \n",
        "3. Add embeddings to the vocabulary, so to obtain vocabulary V2=V1+OOV1\n",
        "4. Training of the model(s)\n",
        "5. Compute embeddings for terms OOV2 of the validation split \n",
        "6. Add embeddings to the vocabulary, so to obtain vocabulary V3=V1+OOV1+OOV2\n",
        "7. Validation of the model(s)\n",
        "8. Compute embeddings for terms OOV3 of the test split \n",
        "9. Add embeddings to the vocabulary, so to obtain vocabulary V4=V1+OOV1+OOV2+OOV3\n",
        "10. Testing of the final model\n",
        "\n",
        "In this case, where we already have all the documents, we can simplify the process a bit, but the procedure must remain rigorous.\n",
        "\n",
        "1. Starting vocabulary V1 (in this assignment, GloVe vocabulary)\n",
        "2. Compute embeddings for terms out of vocabulary V1 (OOV1) of the training split \n",
        "3. Add embeddings to the vocabulary, so to obtain vocabulary V2=V1+OOV1\n",
        "4. Compute embeddings for terms OOV2 of the validation split \n",
        "5. Add embeddings to the vocabulary, so to obtain vocabulary V3=V1+OOV1+OOV2\n",
        "6. Compute embeddings for terms OOV3 of the test split \n",
        "7. Add embeddings to the vocabulary, so to obtain vocabulary V4=V1+OOV1+OOV2\n",
        "8. Training of the model(s)\n",
        "9. Validation of the model(s)\n",
        "10. Testing of the final model\n",
        "\n",
        "Step 2 and step 6 must be completely independent of each other, for what concerns the method and the documents. But they can rely on the previous vocabulary (V1 for step 2 and V3 for step 6)\n",
        "THEREFORE if a word is present both in the training set and the test split and not in the starting vocabulary, its embedding is computed in step 2) and it is not considered OOV anymore in step 6).\n",
        "\n",
        "# Report\n",
        "The report must not be just a copy and paste of graphs and tables!\n",
        "\n",
        "The report must not be longer than 2 pages and must contain:\n",
        "* The names of the member of your team\n",
        "* A short abstract (4-5 lines) that sum ups everything\n",
        "* A general description of the task you have addressed and how you have addressed it\n",
        "* A short description of the models you have used\n",
        "* Some tables that sum up your findings in validation and test and a discussion of those results\n",
        "* The most relevant findings of your error analysis\n",
        "\n",
        "# Evaluation Criterion\n",
        "\n",
        "The goal of this assignment is not to prove you can find best model ever, but to face a common task, structure it correctly, and follow a correct and rigorous experimental procedure.\n",
        "In other words, we don't care if you final models are awful as long as you have followed the correct procedure and wrote a decent report.\n",
        "\n",
        "The score of the assignment will be computed roughly as follows\n",
        "* 1 point for the general setting of the problem\n",
        "* 1 point for the handling of OOV terms\n",
        "* 1 point for the models\n",
        "* 1 point for train-validation-test procedure\n",
        "* 2 point for the discussion of the results, error analysis, and report\n",
        "\n",
        "This distribution of scores is tentative and we may decide to alter it at any moment.\n",
        "We also reserve the right to assign a small bonus (0.5 points) to any assignment that is particularly worthy. Similarly, in case of grave errors, we may decide to assign an equivalent malus (-0.5 points).\n",
        "\n",
        "# Contacts\n",
        "\n",
        "In case of any doubt, question, issue, or help we highly recommend you to check the [course useful material](https://virtuale.unibo.it/pluginfile.php/1036039/mod_resource/content/2/NLP_Course_Useful_Material.pdf) for additional information, and to use the Virtuale forums to discuss with other students.\n",
        "\n",
        "You can always contact us at the following email addresses. To increase the probability of a prompt response, we reccomend you to write to both the teaching assistants.\n",
        "\n",
        "Teaching Assistants:\n",
        "\n",
        "* Andrea Galassi -> a.galassi@unibo.it\n",
        "* Federico Ruggeri -> federico.ruggeri6@unibo.it\n",
        "\n",
        "Professor:\n",
        "\n",
        "* Paolo Torroni -> p.torroni@unibo.it\n",
        "\n",
        "\n",
        "# FAQ\n",
        "* You can use a non-trainable Embedding layer to load the glove embeddings\n",
        "* You can use any library of your choice to implement the networks. Two options are tensorflow/keras or pythorch. Both these libraries have all the classes you need to implement these simple architectures and there are plenty of tutorials around, where you can learn how to use them."
      ]
    },
    {
      "cell_type": "markdown",
      "metadata": {
        "id": "D8PgAJyy40SY"
      },
      "source": [
        "### Import libraries & download dataset"
      ]
    },
    {
      "cell_type": "code",
      "metadata": {
        "id": "caNU8UeFxupB"
      },
      "source": [
        "import os\n",
        "import pandas as pd\n",
        "import numpy as np\n",
        "import matplotlib.pyplot as plt\n",
        "import csv\n",
        "\n",
        "import torch\n",
        "import torch.nn as nn\n",
        "from sklearn.preprocessing import OneHotEncoder, OrdinalEncoder\n",
        "device = torch.device(\"cuda\" if torch.cuda.is_available() else \"cpu\")"
      ],
      "execution_count": 1,
      "outputs": []
    },
    {
      "cell_type": "code",
      "metadata": {
        "id": "y2j0JgX8wpjH",
        "colab": {
          "base_uri": "https://localhost:8080/"
        },
        "outputId": "de493d1c-2db4-4dcb-8cd7-ae768377f71a"
      },
      "source": [
        "!wget https://raw.githubusercontent.com/nltk/nltk_data/gh-pages/packages/corpora/dependency_treebank.zip\n",
        "!unzip -q dependency_treebank.zip"
      ],
      "execution_count": 4,
      "outputs": [
        {
          "output_type": "stream",
          "name": "stdout",
          "text": [
            "--2021-12-02 17:44:32--  https://raw.githubusercontent.com/nltk/nltk_data/gh-pages/packages/corpora/dependency_treebank.zip\n",
            "Resolving raw.githubusercontent.com (raw.githubusercontent.com)... 185.199.111.133, 185.199.110.133, 185.199.109.133, ...\n",
            "Connecting to raw.githubusercontent.com (raw.githubusercontent.com)|185.199.111.133|:443... connected.\n",
            "HTTP request sent, awaiting response... 200 OK\n",
            "Length: 457429 (447K) [application/zip]\n",
            "Saving to: ‘dependency_treebank.zip.1’\n",
            "\n",
            "\r          dependenc   0%[                    ]       0  --.-KB/s               \rdependency_treebank 100%[===================>] 446.71K  --.-KB/s    in 0.007s  \n",
            "\n",
            "2021-12-02 17:44:32 (64.2 MB/s) - ‘dependency_treebank.zip.1’ saved [457429/457429]\n",
            "\n",
            "replace dependency_treebank/wsj_0093.dp? [y]es, [n]o, [A]ll, [N]one, [r]ename: A\n"
          ]
        }
      ]
    },
    {
      "cell_type": "markdown",
      "metadata": {
        "id": "onQNYcuwCTiW"
      },
      "source": [
        "### Dataframe creation and split into train, val and test set\n",
        "\n"
      ]
    },
    {
      "cell_type": "code",
      "metadata": {
        "id": "EADZWC3txls8"
      },
      "source": [
        "corpus_path = 'dependency_treebank/'\n",
        "file_list = sorted(os.listdir(corpus_path))\n",
        "\n",
        "dfs = [pd.read_csv(corpus_path + f, sep='\\t', names=['word', 'label', 'foo']).drop('foo', 1)\n",
        "          for f in file_list]\n",
        "\n",
        "dataset = pd.concat(dfs, ignore_index=True)  \n",
        "train_set = pd.concat(dfs[:100], ignore_index=True)\n",
        "val_set = pd.concat(dfs[100:150], ignore_index=True)\n",
        "test_set = pd.concat(dfs[150:199], ignore_index=True)\n",
        "\n",
        "labels = dataset['label'].unique()\n"
      ],
      "execution_count": 13,
      "outputs": []
    },
    {
      "cell_type": "code",
      "metadata": {
        "colab": {
          "base_uri": "https://localhost:8080/"
        },
        "id": "ZNdKH1KQ7kKs",
        "outputId": "b30c165c-dd5f-4a2c-9104-30c20c38d6d0"
      },
      "source": [
        "n_labels = len(labels)\n",
        "print(f'There are {n_labels} labels')"
      ],
      "execution_count": 12,
      "outputs": [
        {
          "output_type": "stream",
          "name": "stdout",
          "text": [
            "There are 45 labels\n"
          ]
        }
      ]
    },
    {
      "cell_type": "code",
      "metadata": {
        "id": "mIntonFfnCa-"
      },
      "source": [
        "full_stops = train_set[train_set['label']=='.']\n",
        "max_length = max(full_stops.index[1:] - full_stops.index[:-1])\n",
        "max_length = max(max_length, full_stops.index[0]) #consider also the first sentence"
      ],
      "execution_count": 6,
      "outputs": []
    },
    {
      "cell_type": "code",
      "metadata": {
        "id": "5CX8b-FtBkG1"
      },
      "source": [
        "#OneHotEncoding\n",
        "encoder = OneHotEncoder(handle_unknown='ignore',\n",
        "                        sparse = False,\n",
        "                        dtype = np.int32)\n",
        "\n",
        "y = np.array(train_set['label'], dtype = str).reshape(-1, 1)\n",
        "encoded_labels = encoder.fit_transform(y)\n",
        "\n",
        "encoded_labels = pd.DataFrame(encoded_labels)\n",
        "train_set = pd.concat([train_set, encoded_labels], axis=1)\n",
        "train_set.head()"
      ],
      "execution_count": 9,
      "outputs": []
    },
    {
      "cell_type": "code",
      "metadata": {
        "colab": {
          "base_uri": "https://localhost:8080/",
          "height": 206
        },
        "id": "R_9zxzgGSd6m",
        "outputId": "e7cb9ba4-23eb-4f5c-8990-8a0ab0969636"
      },
      "source": [
        "#Ordinal Encoder\n",
        "encoder = OrdinalEncoder(dtype = np.int32)\n",
        "\n",
        "y = np.array(train_set['label'], dtype = str).reshape(-1, 1)\n",
        "encoded_labels = encoder.fit_transform(y)\n",
        "\n",
        "encoded_labels = pd.DataFrame(encoded_labels, columns=['Ord'])\n",
        "train_set = pd.concat([train_set, encoded_labels], axis=1)\n",
        "train_set.head()"
      ],
      "execution_count": 14,
      "outputs": [
        {
          "output_type": "execute_result",
          "data": {
            "text/html": [
              "<div>\n",
              "<style scoped>\n",
              "    .dataframe tbody tr th:only-of-type {\n",
              "        vertical-align: middle;\n",
              "    }\n",
              "\n",
              "    .dataframe tbody tr th {\n",
              "        vertical-align: top;\n",
              "    }\n",
              "\n",
              "    .dataframe thead th {\n",
              "        text-align: right;\n",
              "    }\n",
              "</style>\n",
              "<table border=\"1\" class=\"dataframe\">\n",
              "  <thead>\n",
              "    <tr style=\"text-align: right;\">\n",
              "      <th></th>\n",
              "      <th>word</th>\n",
              "      <th>label</th>\n",
              "      <th>Ord</th>\n",
              "    </tr>\n",
              "  </thead>\n",
              "  <tbody>\n",
              "    <tr>\n",
              "      <th>0</th>\n",
              "      <td>Pierre</td>\n",
              "      <td>NNP</td>\n",
              "      <td>20</td>\n",
              "    </tr>\n",
              "    <tr>\n",
              "      <th>1</th>\n",
              "      <td>Vinken</td>\n",
              "      <td>NNP</td>\n",
              "      <td>20</td>\n",
              "    </tr>\n",
              "    <tr>\n",
              "      <th>2</th>\n",
              "      <td>,</td>\n",
              "      <td>,</td>\n",
              "      <td>3</td>\n",
              "    </tr>\n",
              "    <tr>\n",
              "      <th>3</th>\n",
              "      <td>61</td>\n",
              "      <td>CD</td>\n",
              "      <td>9</td>\n",
              "    </tr>\n",
              "    <tr>\n",
              "      <th>4</th>\n",
              "      <td>years</td>\n",
              "      <td>NNS</td>\n",
              "      <td>22</td>\n",
              "    </tr>\n",
              "  </tbody>\n",
              "</table>\n",
              "</div>"
            ],
            "text/plain": [
              "     word label  Ord\n",
              "0  Pierre   NNP   20\n",
              "1  Vinken   NNP   20\n",
              "2       ,     ,    3\n",
              "3      61    CD    9\n",
              "4   years   NNS   22"
            ]
          },
          "metadata": {},
          "execution_count": 14
        }
      ]
    },
    {
      "cell_type": "markdown",
      "metadata": {
        "id": "T5LMFMcs5ff8"
      },
      "source": [
        "There is a small problem with direct dialogue."
      ]
    },
    {
      "cell_type": "code",
      "metadata": {
        "id": "7DnWfZ4nvy6h"
      },
      "source": [
        "first_sentence = [train_set['word'].iloc[i] for i in range(full_stops.index[0]+1)]\n",
        "sentences = [[train_set['word'].iloc[i] for i in range(full_stops.index[j]+1, full_stops.index[j+1]+1)] for j in range(len(full_stops)-1)]\n",
        "sentences.append(first_sentence)\n",
        "\n",
        "first_seq = [train_set['label'].iloc[i] for i in range(full_stops.index[0]+1)]\n",
        "seq_labels = [[train_set['label'].iloc[i] for i in range(full_stops.index[j]+1, full_stops.index[j+1]+1)] for j in range(len(full_stops)-1)]\n",
        "seq_labels.append(first_seq)\n",
        "\n",
        "#first_enc_seq = [train_set[train_set.columns[2:-1]].iloc[i] for i in range(full_stops.index[0]+1)]\n",
        "#enc_seq_labels = [[train_set[train_set.columns[2:-1]].iloc[i] for i in range(full_stops.index[j]+1, full_stops.index[j+1]+1)] for j in range(len(full_stops)-1)]\n",
        "#enc_seq_labels.append(first_seq)\n",
        "\n",
        "first_enc_seq = [train_set['Ord'].iloc[i] for i in range(full_stops.index[0]+1)]\n",
        "enc_seq_labels = [[train_set['Ord'].iloc[i] for i in range(full_stops.index[j]+1, full_stops.index[j+1]+1)] for j in range(len(full_stops)-1)]\n",
        "enc_seq_labels.append(first_seq)"
      ],
      "execution_count": 15,
      "outputs": []
    },
    {
      "cell_type": "code",
      "metadata": {
        "colab": {
          "base_uri": "https://localhost:8080/"
        },
        "id": "B-keB6YGTWrx",
        "outputId": "055c0799-3bcc-41b4-ba47-cf1df051167f"
      },
      "source": [
        ""
      ],
      "execution_count": 16,
      "outputs": [
        {
          "output_type": "stream",
          "name": "stdout",
          "text": [
            "[[20, 20, 39, 19, 13, 20, 20, 3, 10, 20, 36, 19, 6], [20, 20, 3, 9, 22, 14, 8, 14, 19, 13, 20, 20, 20, 20, 3, 35, 37, 10, 14, 19, 13, 10, 14, 14, 19, 6], [10, 19, 13, 19, 27, 37, 32, 34, 20, 19, 22, 39, 37, 10, 14, 19, 13, 19, 22, 13, 10, 19, 13, 22, 37, 32, 25, 28, 13, 9, 22, 13, 3, 22, 35, 6], [10, 19, 19, 3, 19, 3, 39, 27, 14, 13, 25, 39, 10, 22, 3, 13, 27, 14, 22, 32, 25, 36, 22, 40, 38, 30, 22, 14, 3, 22, 35, 6], [20, 20, 3, 10, 19, 13, 14, 14, 20, 20, 40, 39, 20, 22, 3, 35, 36, 19, 13, 26, 19, 19, 22, 13, 9, 6], [13, 14, 22, 35, 37, 28, 13, 10, 19, 13, 3, 10, 16, 22, 38, 13, 19, 24, 20, 20, 20, 13, 20, 3, 10, 19, 14, 32, 34, 14, 19, 32, 10, 19, 6], [10, 20, 19, 35, 3, 44, 10, 39, 10, 14, 19, 6], [25, 38, 36, 13, 22, 13, 13, 19, 35, 13, 19, 36, 10, 14, 22, 6], [11, 39, 10, 19, 13, 26, 22, 27, 6], [2, 10, 20, 8, 10, 22, 41, 35, 10, 22, 35, 14, 13, 10, 19, 13, 22, 13, 10, 20, 22, 6], [44, 25, 38, 10, 14, 19, 13, 13, 22, 38, 13, 19, 3, 2, 35, 20, 20, 20, 13, 20, 24, 20, 20, 20, 6], [20, 20, 35, 10, 19, 13, 22, 13, 10, 20, 20, 20, 8, 10, 14, 22, 13, 20, 20, 8, 20, 20, 6], [10, 20, 19, 35, 19, 35, 37, 13, 44, 27, 14, 22, 2, 13, 36, 19, 13, 10, 22, 13, 10, 14, 9, 8, 37, 13, 10, 14, 19, 13, 19, 13, 9, 6], [13, 9, 32, 9, 3, 9, 9, 20, 22, 13, 10, 22, 35, 37, 3, 10, 19, 35, 6], [13, 9, 22, 41, 35, 27, 13, 10, 19, 3, 9, 38, 37, 7, 14, 13, 9, 22, 10, 37, 19, 6], [9, 13, 10, 9, 36, 22, 38, 14, 22, 3, 36, 9, 13, 27, 37, 19, 6], [10, 19, 13, 9, 22, 13, 14, 19, 3, 19, 19, 8, 19, 35, 27, 15, 13, 37, 3, 10, 22, 35, 6], [44, 10, 19, 19, 39, 10, 14, 19, 13, 10, 13, 25, 41, 38, 14, 22, 3, 2, 35, 20, 20, 6], [10, 19, 13, 19, 19, 22, 13, 10, 22, 13, 10, 20, 20, 3, 20, 3, 19, 19, 39, 32, 34, 10, 16, 13, 10, 19, 22, 37, 13, 14, 37, 22, 3, 25, 35, 6], [10, 19, 3, 40, 39, 37, 13, 20, 8, 20, 20, 3, 35, 13, 19, 13, 19, 32, 34, 10, 19, 22, 6], [10, 19, 27, 18, 34, 10, 41, 38, 13, 10, 20, 18, 34, 10, 19, 13, 19, 36, 19, 28, 27, 13, 10, 14, 19, 13, 19, 3, 19, 3, 37, 13, 16, 22, 8, 14, 22, 3, 20, 20, 35, 6], [10, 20, 39, 9, 13, 10, 14, 37, 22, 40, 39, 27, 34, 10, 15, 19, 13, 19, 13, 10, 14, 3, 14, 22, 14, 13, 19, 40, 38, 37, 13, 22, 3, 36, 32, 20, 20, 20, 3, 10, 19, 13, 19, 13, 10, 20, 13, 20, 20, 13, 20, 6], [28, 14, 19, 22, 38, 14, 8, 38, 28, 27, 37, 13, 10, 19, 3, 20, 20, 35, 6], [13, 20, 3, 10, 20, 20, 20, 35, 10, 14, 19, 13, 27, 10, 22, 13, 19, 6], [13, 9, 3, 27, 10, 36, 22, 13, 14, 19, 18, 34, 37, 6], [13, 9, 22, 13, 10, 19, 40, 35, 19, 13, 10, 20, 22, 35, 37, 32, 19, 13, 10, 9, 6], [22, 13, 10, 19, 35, 27, 14, 43, 10, 19, 35, 37, 6], [22, 35, 14, 19, 22, 13, 10, 37, 19, 13, 10, 14, 19, 3, 35, 30, 19, 8, 19, 22, 8, 27, 35, 10, 14, 22, 13, 10, 19, 37, 32, 34, 22, 6], [22, 35, 44, 22, 13, 14, 19, 2, 40, 35, 13, 22, 13, 10, 19, 3, 27, 13, 19, 22, 35, 10, 19, 6], [44, 11, 39, 10, 19, 13, 10, 13, 10, 22, 8, 22, 35, 14, 22, 3, 2, 35, 20, 20, 3, 19, 19, 13, 14, 22, 13, 20, 8, 20, 6], [44, 8, 25, 38, 32, 34, 13, 10, 22, 35, 19, 9, 22, 13, 6], [25, 39, 10, 19, 13, 26, 19, 19, 19, 6], [22, 13, 14, 14, 22, 35, 32, 34, 3, 13, 22, 13, 19, 22, 38, 14, 22, 13, 19, 22, 6], [10, 14, 14, 19, 19, 13, 10, 9, 14, 22, 37, 13, 20, 24, 20, 20, 20, 35, 10, 19, 13, 10, 19, 19, 32, 9, 19, 13, 9, 19, 13, 10, 19, 35, 20, 6], [19, 22, 38, 19, 13, 22, 8, 13, 10, 14, 19, 39, 13, 10, 19, 6], [14, 19, 13, 10, 22, 24, 22, 35, 13, 10, 19, 32, 9, 22, 3, 10, 16, 13, 14, 20, 3, 36, 32, 20, 24, 6], [15, 22, 38, 37, 32, 34, 36, 19, 22, 13, 25, 38, 19, 22, 32, 34, 27, 15, 22, 13, 10, 15, 19, 6], [15, 22, 38, 37, 10, 19, 13, 36, 22, 13, 19, 22, 18, 34, 15, 22, 27, 6], [10, 14, 19, 13, 22, 14, 27, 32, 22, 3, 37, 13, 10, 32, 34, 10, 15, 19, 13, 10, 22, 38, 10, 19, 27, 3, 35, 10, 14, 19, 13, 10, 19, 7, 9, 22, 6], [27, 3, 35, 20, 20, 20, 3, 19, 13, 20, 20, 20, 3, 22, 44, 18, 34, 30, 27, 13, 25, 38, 30, 2, 13, 13, 14, 22, 13, 14, 19, 22, 6], [10, 19, 13, 14, 20, 22, 37, 13, 20, 24, 19, 3, 13, 19, 3, 35, 32, 9, 19, 13, 9, 19, 6], [13, 14, 22, 13, 22, 3, 22, 38, 32, 34, 19, 13, 19, 22, 6], [22, 13, 10, 9, 14, 22, 35, 13, 1, 9, 9, 13, 10, 16, 19, 3, 32, 1, 9, 9, 6], [27, 3, 19, 22, 38, 14, 14, 22, 13, 19, 22, 18, 34, 22, 8, 34, 13, 10, 16, 22, 6], [10, 14, 19, 22, 38, 27, 36, 27, 13, 9, 19, 6], [20, 20, 20, 3, 10, 14, 19, 3, 35, 10, 14, 19, 19, 13, 9, 19, 13, 10, 16, 19, 3, 27, 13, 9, 19, 10, 19, 15, 6], [25, 39, 27, 13, 14, 22, 27, 8, 39, 27, 36, 19, 22, 3, 40, 39, 26, 19, 6], [10, 14, 14, 14, 19, 13, 10, 9, 22, 35, 9, 19, 3, 27, 13, 9, 19, 6], [10, 14, 14, 19, 35, 32, 10, 14, 9, 19, 13, 9, 19, 7, 10, 14, 19, 19, 35, 32, 10, 14, 9, 19, 13, 9, 19, 6], [20, 20, 3, 19, 19, 13, 20, 20, 8, 20, 3, 40, 39, 10, 9, 19, 19, 13, 10, 14, 19, 3, 35, 37, 10, 19, 6], [25, 39, 20, 20, 20, 3, 27, 10, 20, 20, 19, 19, 3, 41, 35, 6], [20, 20, 39, 9, 13, 20, 20, 24, 9, 19, 22, 6], [20, 20, 20, 20, 35, 22, 35, 26, 19, 13, 20, 20, 20, 13, 20, 13, 1, 9, 10, 19, 3, 8, 1, 9, 9, 6], [10, 19, 36, 19, 35, 25, 39, 32, 34, 14, 19, 8, 34, 10, 19, 13, 19, 6], [20, 20, 20, 35, 26, 20, 8, 20, 19, 35, 10, 19, 13, 26, 20, 20, 20, 32, 20, 20, 6], [20, 13, 1, 9, 9, 6], [20, 39, 10, 14, 14, 36, 19, 13, 22, 13, 10, 14, 19, 19, 6], [20, 20, 3, 37, 13, 20, 3, 20, 3, 39, 14, 14, 22, 22, 6], [25, 39, 9, 22, 8, 39, 14, 19, 13, 13, 1, 9, 9, 6], [10, 14, 19, 35, 22, 13, 20, 22, 22, 13, 20, 39, 27, 37, 10, 19, 13, 19, 19, 6], [13, 20, 39, 3, 10, 19, 39, 27, 10, 19, 32, 34, 14, 19, 22, 13, 10, 19, 3, 10, 20, 35, 6], [10, 19, 24, 19, 19, 35, 13, 19, 20, 32, 1, 9, 9, 13, 1, 9, 9, 6], [19, 32, 34, 10, 19, 19, 39, 37, 13, 10, 19, 13, 36, 14, 22, 6], [10, 20, 39, 37, 32, 34, 10, 19, 32, 1, 9, 9, 3, 8, 10, 20, 39, 27, 37, 32, 34, 13, 14, 19, 13, 10, 16, 6], [10, 20, 35, 10, 20, 18, 34, 13, 20, 9, 13, 20, 39, 27, 34, 13, 27, 6], [20, 20, 20, 35, 37, 14, 19, 19, 8, 14, 19, 13, 10, 20, 22, 8, 19, 19, 13, 14, 19, 19, 20, 20, 20, 6], [13, 10, 14, 19, 25, 18, 34, 20, 24, 20, 22, 3, 19, 3, 22, 8, 19, 22, 6], [27, 3, 20, 20, 3, 9, 22, 14, 3, 35, 14, 19, 19, 13, 20, 20, 24, 20, 19, 6], [25, 35, 37, 10, 22, 8, 19, 19, 13, 20, 13, 9, 22, 6], [43, 25, 39, 19, 13, 26, 14, 19, 3, 10, 19, 24, 36, 22, 27, 38, 30, 32, 10, 14, 22, 13, 19, 22, 13, 20, 20, 8, 20, 20, 6], [27, 10, 19, 6], [10, 20, 20, 13, 20, 35, 13, 10, 20, 19, 13, 20, 13, 26, 19, 19, 19, 6], [8, 10, 19, 35, 32, 34, 26, 22, 15, 13, 19, 8, 19, 22, 13, 19, 22, 6], [10, 19, 3, 13, 19, 7, 32, 34, 32, 9, 14, 19, 22, 13, 10, 19, 13, 10, 20, 20, 39, 27, 27, 14, 13, 10, 3, 13, 25, 39, 10, 14, 19, 13, 10, 19, 32, 34, 6], [13, 10, 36, 19, 13, 10, 19, 35, 22, 13, 22, 13, 20, 20, 8, 20, 3, 13, 13, 15, 22, 13, 20, 20, 8, 10, 20, 20, 20, 20, 6], [13, 22, 3, 10, 22, 35, 20, 20, 20, 20, 20, 13, 10, 19, 13, 10, 20, 20, 20, 8, 10, 19, 19, 20, 20, 6], [19, 8, 19, 35, 6], [10, 14, 19, 3, 13, 10, 19, 19, 3, 22, 13, 22, 8, 26, 22, 35, 32, 10, 20, 20, 20, 3, 14, 13, 19, 8, 14, 22, 6], [10, 19, 18, 27, 34, 25, 3, 13, 10, 19, 19, 35, 10, 14, 22, 6], [10, 19, 19, 35, 37, 13, 10, 19, 3, 43, 19, 8, 22, 38, 37, 32, 14, 22, 6], [27, 3, 13, 10, 22, 24, 19, 3, 10, 19, 35, 30, 9, 22, 3, 22, 8, 27, 10, 14, 20, 9, 19, 13, 10, 14, 19, 19, 6], [13, 10, 19, 3, 20, 9, 22, 35, 13, 22, 13, 10, 22, 8, 22, 6], [10, 22, 3, 10, 22, 35, 30, 25, 27, 35, 19, 13, 26, 22, 13, 10, 19, 24, 19, 8, 9, 6], [27, 19, 3, 10, 22, 35, 30, 10, 14, 22, 13, 10, 19, 13, 36, 10, 22, 27, 6], [10, 19, 3, 25, 35, 13, 19, 8, 19, 7, 10, 19, 27, 6], [13, 10, 22, 8, 22, 13, 10, 37, 20, 20, 19, 3, 9, 13, 10, 16, 22, 13, 19, 35, 25, 20, 19, 19, 3, 19, 19, 3, 19, 19, 8, 14, 19, 13, 10, 19, 19, 6], [36, 10, 14, 7, 8, 14, 7, 19, 43, 25, 38, 9, 3, 10, 22, 35, 10, 22, 10, 14, 19, 6], [15, 13, 10, 14, 22, 38, 10, 14, 19, 39, 25, 32, 34, 32, 10, 19, 19, 13, 14, 22, 6], [8, 13, 27, 3, 25, 38, 36, 27, 32, 26, 19, 19, 7, 20, 13, 20, 6], [20, 20, 35, 10, 19, 19, 13, 1, 9, 9, 13, 20, 3, 36, 10, 19, 24, 14, 19, 3, 36, 32, 19, 22, 35, 20, 6], [14, 22, 13, 10, 20, 8, 20, 20, 35, 10, 19, 19, 13, 20, 3, 10, 14, 14, 19, 10, 19, 3, 36, 10, 19, 13, 20, 20, 24, 14, 19, 6], [22, 13, 20, 35, 13, 1, 9, 9, 3, 10, 14, 9, 19, 19, 13, 10, 19, 15, 3, 13, 22, 35, 27, 32, 1, 9, 9, 3, 27, 9, 19, 13, 14, 20, 6], [20, 20, 24, 14, 19, 3, 40, 35, 13, 9, 3, 35, 10, 19, 13, 13, 37, 19, 22, 3, 19, 22, 8, 14, 22, 6], [19, 22, 35, 22, 13, 10, 19, 13, 10, 19, 18, 34, 13, 10, 19, 19, 13, 1, 9, 9, 6], [13, 10, 14, 19, 3, 20, 20, 39, 37, 10, 19, 19, 13, 1, 9, 9, 13, 13, 10, 19, 6], [13, 20, 32, 20, 3, 10, 19, 24, 37, 22, 35, 9, 19, 13, 10, 14, 19, 14, 19, 32, 1, 9, 9, 6], [22, 35, 13, 1, 9, 9, 3, 27, 9, 19, 6], [20, 3, 36, 32, 34, 19, 13, 14, 20, 19, 3, 35, 14, 19, 22, 13, 9, 8, 35, 25, 18, 34, 10, 14, 19, 19, 13, 22, 6], [10, 14, 19, 19, 13, 20, 3, 10, 19, 13, 10, 20, 20, 20, 3, 39, 10, 14, 19, 19, 10, 19, 39, 37, 22, 13, 9, 22, 6], [22, 40, 38, 22, 22, 13, 36, 8, 36, 19, 19, 38, 37, 14, 22, 13, 10, 19, 22, 8, 38, 10, 14, 19, 13, 20, 3, 20, 20, 20, 24, 20, 19, 3, 8, 20, 20, 20, 24, 20, 20, 8, 20, 20, 6], [20, 20, 3, 27, 37, 20, 19, 3, 35, 20, 24, 19, 22, 18, 34, 9, 19, 13, 20, 6], [10, 14, 3, 14, 19, 13, 20, 18, 34, 1, 9, 6], [13, 20, 3, 20, 19, 35, 26, 37, 19, 19, 19, 13, 9, 13, 27, 36, 19, 19, 22, 7, 13, 10, 15, 19, 19, 3, 20, 24, 19, 19, 18, 34, 27, 9, 19, 15, 13, 19, 7, 10, 14, 19, 13, 20, 39, 13, 1, 9, 6], [20, 20, 39, 27, 32, 34, 26, 9, 19, 22, 6], [20, 35, 25, 18, 34, 10, 20, 20, 20, 3, 40, 39, 19, 22, 32, 22, 13, 44, 19, 19, 6], [2, 10, 19, 18, 34, 13, 44, 19, 22, 2, 22, 41, 13, 9, 38, 8, 38, 26, 9, 19, 3, 27, 27, 13, 25, 35, 1, 9, 13, 9, 8, 1, 9, 13, 9, 6], [20, 20, 35, 10, 19, 39, 27, 10, 19, 32, 34, 30, 10, 19, 13, 19, 22, 13, 10, 14, 9, 22, 13, 9, 7, 20, 24, 19, 22, 35, 9, 3, 10, 19, 13, 9, 19, 13, 14, 19, 3, 36, 32, 20, 20, 20, 6], [44, 41, 39, 39, 41, 22, 38, 36, 13, 19, 3, 8, 13, 10, 19, 25, 38, 36, 27, 10, 19, 3, 2, 35, 20, 20, 6], [10, 20, 8, 20, 20, 38, 37, 36, 19, 13, 14, 22, 13, 14, 19, 13, 14, 22, 32, 22, 3, 14, 13, 22, 8, 22, 6], [27, 3, 19, 13, 10, 14, 9, 22, 35, 19, 22, 27, 6], [36, 32, 20, 20, 13, 20, 3, 20, 3, 10, 16, 27, 3, 35, 14, 19, 13, 9, 3, 10, 19, 13, 9, 19, 6], [20, 24, 19, 13, 10, 14, 9, 22, 13, 9, 35, 9, 3, 14, 13, 10, 14, 19, 14, 19, 6], [20, 20, 24, 19, 13, 10, 14, 19, 35, 9, 3, 27, 9, 19, 6], [20, 20, 20, 20, 35, 13, 13, 10, 19, 13, 20, 20, 20, 13, 20, 20, 3, 36, 13, 10, 22, 35, 27, 14, 8, 10, 14, 19, 27, 27, 13, 10, 19, 32, 34, 10, 15, 19, 6], [10, 19, 39, 20, 20, 20, 8, 20, 20, 13, 10, 36, 14, 22, 13, 20, 13, 20, 20, 3, 40, 27, 39, 37, 10, 14, 19, 19, 13, 19, 9, 19, 22, 13, 40, 25, 18, 34, 10, 14, 19, 6], [20, 20, 20, 3, 37, 13, 20, 3, 20, 3, 35, 37, 1, 9, 9, 32, 34, 20, 13, 20, 20, 3, 27, 13, 10, 1, 9, 9, 19, 20, 20, 22, 13, 26, 19, 8, 10, 1, 9, 9, 20, 39, 26, 19, 39, 13, 6], [20, 20, 39, 37, 13, 20, 20, 3, 20, 3, 8, 20, 39, 37, 13, 20, 3, 20, 6], [20, 13, 20, 20, 3, 20, 3, 20, 3, 39, 26, 14, 19, 19, 13, 13, 1, 9, 9, 6], [20, 20, 3, 19, 8, 14, 14, 19, 13, 20, 20, 20, 3, 35, 10, 19, 24, 19, 13, 19, 18, 34, 13, 25, 35, 10, 15, 19, 8, 26, 22, 37, 32, 20, 13, 20, 20, 7, 14, 13, 19, 13, 19, 19, 8, 37, 19, 22, 7, 35, 27, 34, 14, 6], [44, 43, 25, 35, 36, 26, 19, 3, 10, 22, 35, 14, 8, 14, 13, 10, 14, 9, 22, 3, 8, 10, 22, 35, 10, 14, 19, 13, 6], [40, 35, 27, 32, 34, 3, 2, 25, 35, 6], [20, 20, 27, 35, 13, 14, 22, 27, 37, 20, 20, 20, 6], [10, 19, 41, 39, 20, 13, 20, 20, 3, 13, 25, 39, 13, 19, 22, 26, 22, 18, 34, 13, 10, 16, 13, 10, 19, 3, 25, 35, 6], [44, 10, 39, 19, 7, 25, 35, 27, 10, 9, 13, 10, 19, 22, 2, 40, 35, 32, 10, 19, 24, 19, 32, 34, 13, 10, 19, 3, 25, 35, 6], [20, 20, 20, 13, 20, 20, 3, 10, 14, 19, 32, 10, 14, 19, 24, 19, 22, 3, 35, 10, 19, 13, 20, 20, 20, 18, 34, 30, 10, 19, 19, 6], [10, 19, 13, 20, 20, 35, 15, 19, 22, 7, 9, 19, 13, 9, 22, 13, 13, 9, 19, 22, 37, 13, 10, 14, 9, 14, 22, 7, 13, 22, 13, 19, 22, 3, 20, 20, 35, 6], [44, 27, 10, 19, 39, 28, 37, 3, 2, 25, 35, 6], [27, 3, 10, 20, 20, 20, 20, 35, 30, 13, 27, 10, 19, 13, 20, 36, 19, 13, 26, 14, 19, 13, 20, 13, 20, 20, 6], [20, 35, 25, 18, 34, 26, 19, 8, 27, 39, 13, 10, 37, 19, 13, 10, 20, 13, 13, 25, 18, 34, 10, 19, 13, 14, 19, 13, 26, 19, 39, 10, 19, 35, 13, 10, 19, 19, 6], [20, 13, 20, 20, 22, 35, 19, 13, 1, 9, 3, 13, 9, 22, 3, 13, 20, 20, 20, 20, 14, 19, 6], [20, 20, 3, 9, 22, 14, 8, 14, 19, 8, 19, 36, 19, 13, 21, 44, 20, 2, 20, 20, 3, 8, 20, 20, 20, 3, 9, 3, 19, 13, 20, 20, 20, 3, 35, 37, 22, 13, 10, 19, 22, 8, 22, 19, 19, 6], [25, 38, 20, 20, 20, 3, 37, 20, 20, 14, 19, 19, 3, 8, 20, 20, 20, 3, 20, 20, 19, 3, 13, 10, 14, 19, 6], [20, 20, 20, 35, 37, 32, 34, 13, 1, 9, 9, 32, 26, 14, 8, 14, 22, 13, 14, 22, 37, 13, 19, 22, 13, 10, 14, 19, 19, 6], [10, 19, 35, 13, 1, 9, 9, 15, 13, 27, 37, 13, 10, 20, 20, 20, 8, 19, 22, 35, 25, 18, 34, 10, 16, 27, 37, 13, 10, 19, 8, 14, 19, 6], [19, 19, 20, 20, 20, 35, 20, 32, 34, 14, 22, 13, 13, 1, 9, 32, 1, 9, 10, 32, 20, 22, 41, 38, 37, 14, 19, 13, 20, 9, 3, 36, 13, 9, 9, 22, 41, 38, 37, 13, 10, 19, 6], [20, 20, 35, 10, 22, 32, 34, 20, 9, 8, 35, 13, 25, 18, 27, 34, 10, 22, 8, 14, 22, 32, 34, 26, 19, 13, 20, 20, 6], [44, 10, 19, 19, 7, 18, 27, 34, 37, 19, 13, 10, 19, 13, 22, 3, 2, 20, 20, 35, 6], [20, 20, 35, 25, 39, 27, 36, 10, 36, 19, 19, 8, 39, 36, 36, 20, 20, 24, 19, 6], [10, 14, 19, 13, 10, 19, 18, 34, 37, 14, 19, 37, 13, 14, 22, 37, 13, 20, 9, 13, 10, 19, 6], [20, 20, 35, 10, 19, 18, 34, 25, 32, 34, 26, 9, 22, 13, 1, 9, 10, 19, 6], [13, 9, 3, 20, 20, 35, 22, 13, 1, 9, 9, 3, 8, 1, 9, 10, 19, 6], [10, 20, 20, 19, 35, 13, 36, 30, 10, 9, 9, 22, 42, 22, 38, 37, 13, 10, 14, 9, 9, 22, 18, 34, 44, 10, 14, 19, 6], [2, 13, 20, 20, 20, 20, 14, 19, 19, 3, 20, 20, 35, 13, 1, 9, 3, 27, 9, 22, 6], [10, 1, 9, 9, 20, 9, 19, 13, 20, 3, 20, 3, 35, 37, 13, 9, 6], [13, 10, 37, 9, 19, 3, 10, 20, 20, 35, 20, 20, 18, 34, 26, 19, 22, 13, 1, 9, 9, 32, 34, 13, 10, 19, 6], [8, 19, 22, 35, 10, 19, 13, 19, 22, 32, 10, 19, 24, 19, 19, 8, 35, 10, 22, 14, 6], [10, 20, 20, 20, 35, 10, 19, 32, 34, 20, 20, 24, 19, 22, 8, 34, 10, 14, 22, 6], [10, 19, 39, 37, 36, 13, 10, 19, 24, 19, 19, 13, 26, 9, 9, 22, 14, 32, 10, 19, 13, 9, 6], [13, 20, 3, 10, 19, 35, 13, 13, 1, 9, 9, 8, 1, 9, 9, 13, 10, 19, 24, 19, 19, 35, 14, 8, 18, 34, 37, 3, 8, 19, 6], [13, 26, 19, 3, 20, 20, 35, 10, 14, 1, 9, 9, 32, 10, 19, 24, 22, 6], [14, 19, 3, 20, 20, 35, 10, 19, 19, 13, 10, 19, 13, 9, 19, 6], [20, 20, 27, 39, 10, 14, 14, 19, 13, 26, 14, 19, 14, 22, 13, 10, 20, 20, 20, 39, 37, 13, 1, 9, 9, 6], [8, 19, 22, 38, 13, 20, 20, 24, 20, 9, 19, 18, 34, 10, 19, 13, 10, 14, 14, 19, 19, 36, 20, 20, 24, 20, 9, 19, 6], [20, 20, 39, 36, 13, 1, 9, 9, 13, 19, 22, 32, 34, 13, 20, 9, 6], [10, 19, 39, 37, 32, 34, 13, 10, 20, 9, 19, 13, 19, 19, 6], [14, 19, 20, 20, 35, 32, 34, 1, 9, 9, 13, 14, 19, 13, 26, 20, 20, 14, 19, 6], [20, 24, 14, 22, 13, 22, 3, 22, 8, 22, 13, 20, 35, 9, 19, 13, 10, 19, 15, 32, 9, 22, 3, 10, 19, 13, 10, 19, 3, 10, 20, 20, 21, 24, 20, 35, 6], [10, 14, 19, 35, 14, 22, 13, 9, 19, 13, 20, 8, 9, 19, 13, 20, 6], [10, 14, 22, 38, 37, 36, 22, 10, 19, 13, 20, 6], [20, 22, 3, 37, 13, 10, 14, 19, 3, 35, 27, 9, 19, 6], [22, 13, 19, 22, 35, 9, 19, 13, 10, 19, 15, 32, 9, 22, 6], [22, 13, 14, 22, 3, 40, 35, 13, 19, 22, 36, 13, 19, 13, 10, 19, 19, 3, 28, 13, 35, 32, 9, 22, 13, 9, 13, 20, 9, 6], [20, 21, 20, 20, 3, 10, 19, 13, 20, 21, 20, 3, 35, 25, 35, 10, 19, 13, 20, 20, 32, 34, 19, 22, 6], [10, 14, 19, 3, 37, 13, 20, 13, 9, 22, 13, 20, 3, 18, 34, 34, 36, 8, 36, 19, 13, 19, 22, 13, 20, 20, 3, 10, 19, 35, 6], [10, 19, 18, 34, 19, 22, 37, 13, 19, 22, 8, 19, 22, 6], [10, 19, 13, 19, 20, 20, 20, 13, 10, 19, 13, 10, 19, 19, 39, 32, 34, 27, 13, 10, 19, 7, 8, 19, 7, 13, 26, 19, 8, 19, 19, 3, 20, 20, 6], [27, 27, 39, 19, 13, 10, 14, 19, 24, 14, 19, 35, 27, 32, 20, 20, 3, 27, 39, 26, 19, 19, 6], [22, 37, 13, 10, 21, 8, 20, 20, 13, 10, 36, 19, 35, 13, 20, 20, 20, 18, 34, 10, 27, 1, 9, 9, 13, 19, 25, 39, 36, 10, 14, 19, 13, 20, 20, 39, 8, 13, 10, 14, 19, 25, 39, 39, 37, 6], [10, 22, 27, 35, 13, 13, 10, 14, 20, 20, 39, 37, 36, 13, 10, 19, 13, 28, 13, 9, 22, 3, 10, 20, 19, 39, 13, 16, 10, 19, 27, 13, 10, 27, 14, 19, 6], [15, 3, 11, 38, 37, 10, 22, 13, 10, 20, 27, 27, 3, 13, 10, 19, 39, 25, 39, 36, 13, 14, 22, 6], [13, 14, 13, 10, 22, 35, 37, 43, 14, 20, 20, 27, 35, 10, 19, 13, 20, 3, 10, 22, 25, 35, 32, 10, 19, 35, 27, 37, 37, 14, 13, 19, 6], [44, 25, 35, 27, 34, 27, 13, 10, 19, 3, 2, 20, 20, 24, 19, 14, 19, 3, 20, 20, 3, 35, 13, 10, 19, 6], [44, 10, 19, 39, 13, 20, 39, 10, 14, 19, 13, 10, 20, 3, 8, 13, 25, 25, 18, 27, 34, 37, 6], [20, 20, 35, 27, 34, 32, 34, 10, 19, 40, 35, 27, 34, 20, 6], [2, 10, 22, 27, 35, 13, 20, 20, 39, 36, 27, 10, 1, 9, 9, 13, 19, 36, 14, 20, 6], [8, 20, 20, 35, 13, 44, 10, 14, 2, 19, 6], [10, 19, 13, 10, 22, 13, 10, 19, 35, 20, 20, 19, 32, 34, 1, 9, 19, 32, 34, 13, 1, 9, 13, 20, 20, 20, 20, 14, 19, 6], [22, 35, 19, 13, 20, 20, 24, 19, 32, 34, 26, 1, 9, 9, 14, 19, 32, 20, 20, 24, 19, 18, 34, 10, 19, 13, 10, 14, 19, 6], [44, 25, 39, 32, 34, 37, 13, 10, 14, 19, 13, 10, 19, 3, 2, 35, 20, 20, 20, 13, 20, 20, 20, 3, 20, 6], [44, 20, 20, 18, 34, 10, 19, 19, 3, 2, 25, 35, 6], [44, 25, 27, 38, 20, 18, 34, 25, 27, 8, 25, 38, 27, 6], [2, 13, 10, 19, 24, 19, 3, 14, 19, 22, 13, 20, 20, 24, 14, 19, 38, 10, 20, 24, 14, 3, 14, 19, 19, 6], [10, 20, 22, 38, 10, 22, 3, 40, 38, 37, 13, 19, 19, 3, 13, 36, 27, 14, 8, 14, 25, 18, 34, 14, 14, 19, 19, 6], [13, 19, 3, 10, 20, 18, 34, 9, 22, 7, 27, 27, 14, 13, 10, 16, 14, 19, 6], [20, 20, 27, 18, 34, 14, 19, 3, 27, 27, 13, 20, 20, 3, 40, 39, 27, 9, 19, 13, 10, 14, 19, 19, 8, 40, 39, 37, 32, 34, 30, 10, 19, 19, 3, 10, 14, 19, 13, 10, 20, 3, 13, 9, 6], [10, 19, 27, 18, 34, 13, 20, 20, 21, 20, 8, 20, 24, 14, 9, 7, 20, 20, 3, 20, 20, 8, 20, 20, 6], [10, 14, 19, 35, 25, 39, 11, 38, 15, 13, 9, 14, 22, 13, 22, 37, 13, 1, 9, 9, 8, 1, 9, 9, 7, 27, 10, 20, 19, 19, 6], [13, 22, 13, 10, 19, 3, 20, 20, 22, 38, 32, 34, 9, 20, 20, 19, 13, 10, 9, 20, 20, 22, 25, 38, 13, 10, 19, 37, 32, 34, 13, 13, 9, 22, 6], [10, 19, 13, 10, 14, 22, 39, 37, 37, 6], [27, 3, 10, 22, 18, 34, 25, 13, 32, 10, 19, 32, 34, 6], [20, 20, 39, 37, 32, 34, 13, 20, 6], [22, 38, 20, 20, 24, 14, 19, 19, 13, 13, 1, 9, 10, 19, 6], [13, 13, 10, 19, 3, 20, 20, 39, 36, 13, 1, 9, 9, 13, 22, 3, 27, 10, 37, 32, 10, 9, 19, 3, 40, 39, 37, 10, 19, 13, 20, 20, 24, 22, 6], [14, 19, 22, 27, 38, 43, 20, 20, 35, 10, 19, 6], [13, 10, 20, 19, 8, 19, 22, 3, 10, 19, 18, 34, 37, 14, 32, 34, 10, 19, 13, 1, 9, 9, 13, 10, 14, 10, 13, 9, 27, 13, 10, 1, 9, 9, 25, 35, 6], [13, 10, 14, 19, 3, 35, 25, 37, 27, 3, 20, 20, 18, 34, 37, 10, 1, 9, 9, 19, 6], [20, 20, 3, 41, 18, 27, 34, 37, 13, 19, 3, 18, 34, 13, 10, 14, 20, 21, 3, 20, 3, 19, 13, 10, 14, 19, 7, 10, 19, 25, 35, 13, 20, 20, 6], [37, 13, 10, 19, 13, 10, 19, 3, 20, 20, 35, 37, 1, 9, 13, 20, 20, 14, 19, 6], [13, 20, 20, 3, 25, 18, 34, 37, 1, 9, 6], [13, 20, 20, 8, 20, 3, 14, 14, 19, 13, 10, 19, 39, 20, 20, 3, 9, 3, 19, 8, 19, 19, 19, 7, 20, 20, 20, 3, 9, 3, 19, 19, 3, 19, 7, 20, 19, 20, 3, 9, 3, 19, 19, 3, 19, 7, 8, 20, 20, 20, 3, 9, 3, 19, 19, 3, 19, 6], [10, 35, 13, 20, 20, 6], [20, 20, 3, 40, 27, 39, 9, 22, 3, 35, 25, 39, 10, 19, 19, 13, 9, 13, 10, 19, 13, 9, 6], [20, 20, 20, 3, 9, 22, 14, 3, 35, 37, 14, 19, 19, 19, 8, 19, 36, 19, 3, 10, 14, 22, 6], [25, 18, 34, 32, 34, 32, 20, 20, 3, 19, 8, 19, 19, 19, 6], [20, 20, 35, 19, 19, 19, 13, 10, 19, 19, 19, 6], [20, 20, 20, 3, 9, 3, 35, 37, 19, 19, 19, 13, 10, 19, 6], [25, 35, 27, 19, 13, 10, 19, 24, 20, 20, 20, 19, 6], [20, 20, 20, 3, 9, 3, 35, 37, 32, 34, 20, 20, 13, 19, 13, 20, 20, 6], [27, 25, 35, 27, 19, 13, 20, 20, 6], [20, 20, 20, 3, 9, 3, 35, 37, 14, 19, 19, 13, 20, 21, 6], [25, 35, 27, 19, 19, 6], [10, 20, 3, 36, 10, 19, 13, 26, 19, 19, 3, 35, 20, 20, 3, 20, 8, 20, 20, 13, 10, 19, 13, 22, 25, 39, 27, 36, 13, 27, 36, 32, 34, 20, 22, 3, 22, 8, 14, 14, 22, 6], [27, 3, 9, 14, 22, 7, 20, 3, 20, 3, 20, 3, 20, 8, 20, 7, 18, 34, 13, 10, 14, 19, 19, 19, 13, 10, 19, 13, 10, 14, 19, 3, 20, 20, 20, 20, 20, 35, 6], [13, 10, 14, 20, 19, 19, 3, 10, 22, 18, 34, 14, 14, 22, 8, 14, 19, 22, 13, 25, 38, 27, 34, 26, 19, 13, 14, 19, 13, 14, 19, 6], [20, 20, 35, 14, 13, 10, 9, 22, 13, 25, 35, 13, 36, 22, 13, 19, 38, 37, 44, 14, 19, 2, 13, 10, 14, 19, 6], [25, 35, 11, 39, 44, 36, 19, 2, 13, 10, 19, 10, 19, 13, 14, 22, 39, 10, 36, 22, 3, 8, 27, 10, 44, 19, 8, 19, 13, 10, 4, 36, 5, 19, 24, 14, 22, 6], [2, 20, 19, 22, 38, 13, 22, 13, 14, 22, 13, 14, 22, 18, 34, 36, 25, 13, 36, 26, 14, 22, 8, 22, 8, 13, 36, 20, 19, 22, 13, 36, 8, 36, 26, 16, 22, 27, 6], [20, 20, 35, 20, 20, 13, 36, 10, 14, 19, 19, 8, 14, 19, 22, 13, 19, 22, 8, 22, 37, 32, 34, 19, 8, 19, 22, 6], [20, 27, 39, 37, 14, 14, 22, 32, 34, 10, 22, 3, 25, 35, 6], [20, 39, 37, 26, 19, 13, 10, 20, 13, 36, 10, 14, 19, 19, 3, 36, 26, 19, 19, 8, 36, 19, 32, 34, 14, 19, 22, 13, 14, 22, 13, 26, 22, 6], [10, 19, 18, 34, 20, 24, 36, 19, 13, 14, 14, 22, 32, 34, 19, 22, 13, 36, 26, 22, 6], [20, 20, 3, 13, 26, 19, 3, 39, 37, 32, 34, 10, 19, 19, 14, 13, 14, 22, 8, 32, 34, 10, 19, 32, 19, 19, 27, 27, 13, 32, 14, 22, 3, 20, 20, 35, 6], [10, 9, 22, 38, 27, 27, 13, 10, 19, 3, 27, 6], [25, 18, 34, 13, 10, 14, 19, 40, 39, 9, 14, 22, 6], [10, 22, 7, 13, 20, 3, 20, 3, 20, 3, 20, 8, 20, 7, 38, 27, 13, 10, 19, 32, 10, 20, 8, 38, 37, 32, 34, 14, 22, 13, 14, 19, 8, 19, 22, 13, 10, 13, 10, 44, 19, 2, 19, 6], [20, 20, 3, 10, 20, 19, 36, 13, 14, 22, 3, 35, 10, 19, 13, 20, 19, 3, 37, 13, 10, 36, 19, 13, 36, 14, 19, 39, 13, 10, 19, 24, 14, 19, 3, 35, 10, 22, 37, 13, 20, 20, 3, 20, 8, 20, 20, 6], [44, 41, 10, 39, 25, 39, 10, 20, 19, 19, 39, 36, 3, 2, 25, 35, 6], [25, 35, 20, 18, 34, 9, 13, 10, 14, 22, 32, 34, 37, 13, 10, 19, 19, 13, 13, 26, 22, 32, 34, 10, 14, 19, 19, 6], [20, 20, 35, 13, 10, 20, 39, 27, 37, 13, 44, 14, 22, 13, 20, 8, 36, 14, 19, 13, 20, 6], [2, 25, 35, 27, 14, 3, 13, 15, 20, 19, 22, 38, 37, 13, 19, 19, 13, 20, 8, 19, 13, 20, 14, 22, 13, 20, 6], [10, 9, 19, 19, 39, 20, 20, 32, 34, 10, 19, 13, 10, 19, 13, 10, 22, 13, 20, 9, 6], [13, 27, 3, 20, 20, 39, 27, 35, 10, 22, 14, 27, 32, 34, 10, 37, 19, 13, 10, 14, 14, 9, 19, 13, 10, 19, 6], [20, 35, 25, 18, 34, 19, 22, 32, 34, 26, 14, 19, 13, 1, 9, 9, 7, 10, 16, 13, 10, 36, 19, 6], [10, 19, 13, 20, 20, 20, 20, 39, 37, 32, 34, 10, 14, 19, 14, 10, 19, 39, 37, 37, 13, 13, 10, 14, 19, 13, 14, 19, 6], [10, 20, 20, 19, 39, 37, 27, 27, 13, 26, 19, 13, 14, 14, 19, 6], [44, 20, 39, 32, 34, 10, 19, 13, 9, 19, 13, 10, 19, 13, 26, 14, 19, 3, 2, 20, 20, 35, 13, 26, 19, 3, 20, 20, 6], [20, 20, 35, 13, 20, 13, 20, 20, 20, 20, 20, 20, 6], [14, 19, 20, 20, 35, 13, 20, 8, 20, 20, 10, 19, 32, 34, 13, 22, 6], [20, 20, 27, 39, 35, 10, 19, 13, 20, 20, 20, 3, 41, 35, 19, 20, 9, 3, 39, 10, 14, 19, 13, 19, 8, 19, 39, 10, 14, 19, 10, 19, 19, 18, 34, 37, 6], [8, 25, 39, 27, 35, 13, 13, 10, 19, 39, 23, 10, 19, 37, 6], [4, 13, 26, 19, 19, 3, 20, 20, 20, 20, 18, 34, 22, 13, 10, 14, 19, 40, 38, 13, 22, 13, 14, 19, 19, 6], [5, 9, 22, 40, 35, 10, 19, 13, 14, 19, 35, 37, 13, 9, 6], [10, 19, 10, 20, 20, 3, 20, 20, 8, 20, 20, 35, 32, 19, 6], [10, 22, 35, 14, 13, 19, 24, 22, 6], [20, 20, 22, 3, 13, 19, 3, 35, 32, 34, 26, 19, 22, 13, 22, 8, 35, 22, 13, 22, 6], [8, 20, 20, 35, 10, 14, 19, 13, 20, 20, 3, 40, 35, 37, 13, 10, 19, 13, 20, 20, 8, 20, 20, 13, 22, 14, 13, 10, 20, 20, 20, 6], [13, 19, 3, 10, 20, 20, 35, 10, 14, 1, 9, 6], [14, 13, 25, 35, 3, 10, 14, 22, 35, 14, 19, 19, 13, 19, 22, 13, 10, 19, 8, 19, 6], [14, 19, 22, 13, 19, 35, 37, 13, 13, 22, 6], [8, 10, 14, 9, 22, 7, 14, 15, 14, 22, 14, 13, 10, 20, 3, 20, 8, 20, 7, 35, 22, 8, 18, 34, 13, 9, 22, 13, 22, 13, 26, 22, 6], [14, 22, 38, 28, 13, 9, 22, 15, 8, 38, 19, 19, 9, 22, 15, 13, 26, 9, 22, 6], [11, 35, 14, 19, 19, 22, 6], [20, 20, 8, 20, 20, 13, 9, 35, 10, 14, 14, 19, 13, 22, 3, 8, 20, 35, 10, 19, 19, 9, 22, 13, 20, 35, 9, 13, 10, 22, 13, 9, 6], [20, 20, 20, 3, 27, 19, 13, 20, 20, 3, 35, 10, 19, 40, 35, 10, 19, 22, 13, 22, 6], [20, 20, 8, 20, 20, 3, 9, 20, 22, 3, 35, 22, 13, 10, 14, 22, 40, 38, 22, 32, 34, 22, 13, 10, 19, 6], [20, 3, 10, 19, 19, 13, 22, 3, 35, 27, 34, 26, 14, 19, 13, 20, 9, 13, 14, 14, 22, 35, 10, 19, 6], [19, 3, 19, 22, 27, 38, 10, 1, 9, 9, 14, 6], [20, 20, 8, 20, 3, 10, 14, 22, 19, 3, 35, 26, 20, 20, 19, 35, 20, 20, 13, 1, 9, 9, 6], [20, 39, 10, 14, 14, 22, 19, 40, 39, 22, 13, 10, 20, 19, 6], [20, 35, 25, 39, 9, 19, 13, 20, 24, 19, 19, 8, 39, 10, 19, 32, 34, 10, 14, 9, 19, 6], [10, 19, 3, 27, 13, 26, 14, 37, 19, 22, 3, 39, 20, 10, 19, 32, 34, 26, 19, 32, 9, 19, 13, 20, 24, 19, 19, 6], [19, 19, 13, 20, 24, 20, 20, 22, 18, 34, 37, 13, 9, 22, 10, 19, 32, 13, 9, 22, 13, 10, 19, 13, 10, 20, 19, 3, 10, 14, 13, 9, 14, 22, 37, 32, 34, 37, 13, 19, 13, 10, 19, 13, 9, 6], [20, 20, 20, 3, 10, 19, 13, 14, 14, 20, 20, 3, 8, 20, 20, 20, 38, 10, 22, 13, 10, 14, 19, 6], [20, 35, 10, 20, 19, 35, 19, 20, 6], [19, 18, 34, 27, 37, 13, 25, 39, 13, 9, 22, 10, 19, 6], [10, 19, 39, 22, 13, 9, 9, 22, 6], [22, 13, 10, 9, 14, 22, 38, 9, 9, 22, 6], [10, 20, 8, 20, 22, 38, 37, 32, 34, 36, 14, 14, 19, 3, 8, 10, 20, 8, 20, 22, 14, 14, 19, 6], [19, 35, 10, 22, 35, 37, 13, 10, 14, 19, 35, 13, 9, 32, 34, 10, 14, 9, 9, 22, 13, 14, 22, 14, 13, 14, 19, 6], [20, 20, 20, 35, 25, 35, 10, 1, 9, 9, 19, 13, 26, 20, 20, 19, 32, 10, 19, 35, 13, 10, 19, 24, 19, 3, 20, 20, 20, 3, 8, 14, 22, 6], [36, 10, 19, 13, 20, 20, 13, 10, 14, 19, 37, 13, 20, 20, 20, 15, 10, 19, 3, 10, 19, 13, 19, 22, 35, 32, 34, 25, 13, 14, 13, 26, 14, 22, 6], [10, 19, 13, 20, 20, 39, 10, 19, 13, 10, 19, 6], [10, 20, 20, 35, 20, 20, 39, 37, 14, 19, 13, 22, 13, 14, 22, 13, 22, 40, 38, 27, 37, 13, 44, 14, 22, 2, 13, 10, 20, 3, 10, 20, 21, 8, 14, 20, 22, 6], [10, 19, 35, 13, 19, 32, 10, 19, 37, 13, 20, 20, 13, 22, 13, 10, 20, 20, 20, 13, 21, 13, 22, 13, 36, 22, 6], [27, 3, 19, 22, 35, 37, 14, 14, 19, 6], [20, 35, 37, 14, 19, 13, 14, 22, 13, 22, 3, 37, 13, 9, 14, 20, 19, 22, 6], [10, 20, 20, 35, 20, 20, 35, 32, 34, 14, 19, 13, 9, 22, 3, 8, 35, 30, 14, 19, 13, 14, 22, 13, 22, 44, 27, 13, 10, 19, 13, 19, 19, 32, 34, 22, 37, 13, 10, 20, 8, 10, 20, 21, 6], [2, 20, 39, 10, 14, 20, 19, 8, 19, 13, 22, 3, 36, 14, 14, 22, 37, 13, 10, 20, 8, 14, 36, 22, 37, 13, 10, 20, 19, 22, 6], [20, 19, 22, 35, 10, 20, 8, 20, 18, 34, 10, 14, 22, 13, 10, 19, 24, 19, 6], [22, 13, 10, 22, 13, 22, 40, 27, 18, 34, 14, 13, 14, 19, 35, 13, 1, 9, 9, 13, 9, 3, 10, 27, 14, 19, 13, 10, 1, 9, 9, 13, 20, 19, 22, 10, 19, 3, 36, 32, 10, 19, 32, 20, 20, 20, 20, 20, 6], [20, 20, 20, 24, 14, 14, 19, 3, 20, 20, 3, 14, 8, 26, 19, 3, 20, 20, 3, 39, 36, 27, 32, 34, 34, 10, 14, 19, 27, 3, 10, 19, 35, 6], [20, 20, 18, 34, 10, 19, 32, 34, 19, 8, 34, 19, 19, 44, 13, 10, 28, 14, 19, 13, 19, 39, 37, 8, 37, 3, 2, 20, 35, 6], [20, 20, 3, 27, 19, 19, 19, 3, 18, 34, 20, 20, 6], [10, 14, 19, 39, 37, 20, 13, 14, 19, 8, 10, 14, 19, 19, 13, 10, 14, 19, 39, 10, 19, 6], [10, 19, 39, 37, 22, 13, 19, 19, 13, 10, 13, 10, 14, 9, 22, 3, 13, 14, 22, 19, 6], [20, 27, 35, 26, 14, 19, 13, 10, 8, 10, 19, 24, 20, 20, 22, 38, 36, 27, 13, 26, 14, 19, 13, 9, 14, 22, 4, 1, 9, 5, 6], [13, 10, 20, 20, 20, 19, 3, 20, 22, 35, 27, 9, 14, 22, 32, 1, 9, 6], [20, 20, 3, 19, 8, 36, 19, 13, 20, 3, 35, 13, 19, 19, 19, 14, 19, 32, 34, 3, 27, 3, 10, 19, 13, 20, 24, 20, 6], [22, 35, 20, 20, 39, 32, 34, 10, 28, 14, 19, 13, 36, 10, 19, 6], [25, 38, 25, 32, 34, 22, 13, 10, 19, 6], [10, 19, 35, 20, 20, 18, 27, 34, 10, 19, 3, 37, 13, 20, 20, 3, 19, 8, 19, 19, 6], [10, 25, 8, 20, 20, 18, 34, 37, 13, 19, 6], [20, 35, 20, 20, 35, 32, 34, 10, 19, 19, 3, 13, 20, 13, 9, 13, 26, 22, 6], [20, 20, 3, 14, 19, 13, 20, 20, 20, 20, 3, 35, 37, 10, 14, 19, 13, 10, 14, 19, 19, 6], [14, 22, 27, 27, 35, 30, 9, 14, 19, 14, 14, 22, 36, 1, 9, 9, 3, 10, 20, 20, 20, 20, 20, 35, 6], [10, 22, 38, 10, 14, 19, 13, 14, 22, 13, 20, 14, 22, 3, 20, 20, 24, 19, 3, 20, 20, 20, 3, 35, 13, 10, 19, 19, 6], [25, 35, 28, 13, 9, 19, 13, 10, 22, 35, 37, 13, 14, 14, 22, 6], [10, 19, 35, 32, 22, 13, 20, 8, 20, 20, 6], [15, 10, 19, 3, 14, 22, 35, 30, 10, 14, 3, 1, 9, 9, 14, 22, 14, 19, 6], [10, 19, 35, 37, 30, 13, 20, 20, 3, 10, 20, 20, 19, 19, 6], [10, 16, 9, 22, 35, 37, 27, 13, 20, 3, 20, 8, 20, 13, 10, 20, 8, 20, 24, 20, 21, 20, 6], [10, 14, 3, 14, 22, 7, 9, 36, 10, 14, 19, 8, 10, 14, 13, 10, 14, 19, 37, 32, 10, 20, 19, 35, 19, 7, 38, 9, 14, 22, 32, 14, 22, 6], [14, 3, 25, 38, 37, 32, 34, 10, 19, 13, 19, 7, 14, 22, 18, 34, 37, 27, 13, 19, 22, 38, 3, 8, 14, 19, 39, 22, 32, 34, 26, 19, 13, 15, 22, 6], [14, 3, 25, 38, 14, 19, 22, 13, 14, 22, 3, 36, 10, 14, 19, 13, 22, 6], [13, 36, 10, 22, 3, 20, 20, 35, 3, 10, 14, 22, 38, 37, 44, 27, 14, 32, 14, 8, 14, 22, 13, 10, 20, 6], [2, 14, 22, 38, 37, 14, 19, 13, 14, 22, 32, 28, 13, 9, 19, 13, 10, 1, 9, 9, 13, 14, 22, 14, 3, 8, 26, 22, 38, 36, 13, 10, 14, 19, 6], [25, 27, 38, 37, 14, 22, 13, 20, 20, 24, 14, 19, 3, 36, 1, 9, 9, 13, 20, 20, 22, 13, 10, 14, 9, 22, 13, 10, 19, 3, 8, 27, 10, 19, 13, 10, 14, 19, 37, 6], [20, 20, 20, 3, 14, 19, 19, 19, 3, 35, 37, 10, 19, 13, 10, 19, 19, 3, 36, 10, 19, 32, 9, 22, 6], [20, 20, 35, 10, 14, 19, 19, 19, 35, 32, 34, 13, 20, 9, 3, 9, 3, 10, 19, 13, 40, 10, 19, 3, 19, 8, 19, 22, 19, 39, 10, 14, 19, 32, 34, 10, 19, 19, 6], [10, 19, 39, 36, 13, 19, 9, 13, 10, 14, 20, 20, 3, 36, 25, 19, 19, 13, 22, 24, 22, 13, 25, 39, 32, 34, 30, 10, 19, 32, 34, 26, 22, 6], [14, 19, 19, 20, 20, 3, 13, 26, 20, 20, 20, 14, 19, 3, 35, 26, 1, 14, 19, 19, 13, 10, 10, 14, 22, 14, 13, 20, 20, 3, 10, 19, 13, 22, 37, 13, 10, 21, 6], [10, 19, 3, 37, 13, 19, 24, 22, 13, 10, 20, 20, 20, 3, 39, 37, 32, 34, 13, 10, 19, 13, 20, 6], [19, 27, 39, 13, 9, 19, 13, 19, 24, 14, 22, 14, 6], [10, 19, 39, 36, 37, 14, 32, 10, 27, 37, 19, 13, 10, 22, 6], [20, 24, 22, 13, 19, 3, 14, 14, 22, 3, 8, 14, 19, 22, 35, 13, 10, 14, 1, 9, 9, 13, 20, 32, 1, 9, 9, 3, 10, 20, 20, 35, 6], [10, 19, 39, 10, 14, 14, 14, 19, 6], [10, 14, 19, 39, 10, 19, 13, 20, 13, 20, 14, 19, 13, 20, 3, 43, 10, 20, 19, 27, 35, 13, 10, 9, 22, 19, 6], [10, 19, 39, 10, 15, 1, 9, 9, 19, 13, 10, 19, 24, 14, 22, 13, 20, 32, 1, 9, 9, 6], [34, 10, 19, 3, 10, 19, 6], [25, 39, 10, 16, 19, 19, 36, 20, 20, 7, 10, 19, 13, 14, 14, 19, 22, 3, 10, 27, 37, 22, 40, 38, 13, 22, 13, 10, 14, 14, 19, 6], [27, 15, 13, 9, 19, 22, 38, 37, 37, 8, 37, 13, 22, 10, 19, 3, 27, 10, 19, 13, 10, 13, 9, 3, 36, 32, 20, 20, 20, 8, 20, 3, 10, 14, 19, 19, 6], [10, 19, 27, 39, 37, 13, 20, 32, 20, 32, 20, 6], [14, 19, 3, 10, 20, 20, 24, 19, 18, 34, 37, 13, 10, 19, 13, 14, 20, 20, 20, 7, 20, 14, 19, 10, 19, 13, 19, 39, 37, 30, 10, 19, 13, 10, 20, 20, 27, 6], [10, 14, 19, 6], [44, 19, 39, 14, 7, 43, 30, 10, 20, 20, 20, 6], [2, 39, 20, 20, 3, 10, 36, 19, 13, 20, 20, 20, 13, 20, 3, 20, 6], [10, 14, 19, 13, 19, 22, 39, 10, 44, 14, 19, 19, 2, 13, 10, 22, 3, 20, 20, 39, 3, 43, 27, 37, 22, 35, 27, 14, 6], [25, 35, 13, 19, 13, 10, 9, 19, 6], [13, 14, 14, 14, 22, 3, 29, 13, 10, 14, 22, 38, 10, 44, 14, 2, 19, 3, 36, 10, 37, 19, 13, 22, 40, 38, 27, 6], [10, 19, 39, 32, 27, 9, 10, 19, 13, 19, 22, 40, 38, 8, 27, 18, 34, 37, 13, 20, 20, 8, 20, 6], [10, 22, 27, 38, 13, 14, 22, 13, 22, 13, 22, 6], [44, 22, 38, 36, 32, 34, 26, 22, 2, 27, 27, 10, 19, 13, 14, 22, 39, 30, 3, 39, 20, 20, 3, 10, 19, 13, 20, 20, 3, 20, 20, 8, 20, 3, 20, 20, 6], [13, 10, 10, 19, 39, 10, 14, 19, 6], [13, 14, 22, 38, 37, 27, 13, 10, 19, 19, 13, 10, 22, 3, 22, 22, 38, 37, 32, 34, 14, 22, 40, 22, 38, 14, 32, 34, 6], [8, 10, 22, 38, 36, 26, 22, 27, 8, 27, 32, 34, 25, 6], [14, 22, 27, 38, 22, 32, 34, 8, 32, 34, 10, 19, 13, 14, 22, 6], [8, 14, 36, 22, 38, 37, 28, 14, 22, 3, 14, 13, 10, 20, 8, 20, 6], [19, 22, 38, 10, 14, 19, 32, 34, 10, 19, 13, 14, 22, 13, 10, 14, 19, 13, 36, 30, 14, 22, 6], [8, 25, 39, 27, 34, 14, 32, 34, 37, 6], [14, 8, 19, 22, 18, 34, 10, 22, 6], [10, 19, 7, 10, 22, 24, 19, 22, 38, 32, 34, 28, 13, 10, 15, 19, 6], [43, 10, 19, 19, 35, 27, 9, 19, 20, 9, 3, 13, 19, 3, 10, 20, 20, 35, 27, 9, 19, 8, 10, 20, 20, 35, 9, 19, 6], [8, 16, 19, 22, 35, 37, 28, 13, 16, 22, 13, 10, 9, 19, 6], [41, 39, 27, 14, 13, 10, 22, 24, 19, 27, 27, 39, 13, 14, 38, 36, 13, 27, 14, 22, 32, 10, 19, 13, 26, 14, 22, 6], [13, 36, 13, 10, 14, 19, 13, 15, 13, 9, 19, 13, 14, 9, 8, 19, 13, 14, 19, 3, 19, 22, 27, 38, 13, 10, 14, 19, 13, 9, 19, 6], [10, 19, 7, 19, 22, 13, 14, 13, 10, 22, 10, 19, 38, 37, 27, 28, 27, 13, 10, 14, 22, 25, 38, 6], [25, 39, 27, 13, 36, 10, 19, 13, 22, 40, 38, 13, 22, 40, 38, 27, 37, 32, 14, 22, 3, 14, 13, 20, 20, 3, 10, 22, 38, 6], [8, 10, 14, 22, 27, 38, 37, 7, 20, 20, 39, 37, 32, 10, 14, 9, 19, 19, 6], [25, 39, 37, 37, 13, 14, 22, 13, 10, 14, 14, 19, 37, 32, 9, 24, 14, 14, 19, 6], [8, 14, 14, 22, 40, 38, 27, 27, 27, 37, 27, 38, 37, 32, 34, 13, 14, 22, 6], [44, 25, 38, 27, 37, 32, 34, 10, 14, 22, 3, 2, 39, 20, 20, 24, 20, 20, 6], [10, 27, 37, 22, 38, 10, 27, 14, 19, 13, 10, 19, 22, 3, 20, 20, 39, 6], [13, 14, 20, 22, 3, 10, 13, 20, 8, 20, 36, 14, 19, 18, 34, 28, 14, 32, 36, 15, 22, 13, 19, 22, 6], [44, 11, 18, 34, 10, 14, 19, 37, 13, 10, 22, 37, 27, 3, 2, 20, 20, 39, 6], [27, 3, 14, 13, 20, 22, 8, 19, 22, 38, 14, 13, 10, 14, 19, 22, 13, 10, 19, 22, 6], [25, 38, 13, 20, 22, 27, 18, 34, 14, 14, 22, 13, 10, 14, 22, 13, 14, 22, 7, 10, 14, 21, 38, 22, 13, 14, 22, 37, 13, 10, 20, 6], [10, 19, 22, 18, 27, 34, 10, 22, 13, 36, 10, 19, 6], [13, 22, 41, 38, 30, 36, 27, 27, 32, 34, 10, 22, 3, 20, 24, 20, 20, 39, 7, 44, 10, 14, 19, 25, 38, 13, 10, 22, 39, 13, 10, 41, 38, 32, 10, 19, 27, 35, 28, 34, 14, 32, 34, 27, 6], [10, 20, 8, 20, 20, 38, 36, 14, 22, 13, 14, 19, 13, 20, 13, 1, 9, 9, 13, 14, 14, 22, 35, 32, 10, 20, 19, 3, 10, 20, 20, 35, 6], [13, 10, 22, 38, 37, 3, 25, 18, 34, 10, 19, 13, 14, 22, 32, 34, 37, 13, 10, 20, 6], [27, 3, 13, 9, 22, 13, 10, 22, 3, 10, 20, 20, 19, 35, 13, 25, 39, 44, 27, 27, 32, 34, 2, 13, 10, 18, 34, 6], [14, 13, 10, 22, 3, 10, 20, 20, 35, 25, 39, 37, 10, 14, 19, 32, 34, 10, 20, 20, 19, 6], [10, 19, 13, 10, 20, 13, 20, 20, 20, 35, 37, 14, 19, 8, 35, 13, 20, 6], [8, 10, 14, 19, 27, 18, 34, 37, 13, 20, 35, 10, 19, 32, 34, 10, 1, 9, 9, 19, 3, 40, 35, 37, 32, 10, 19, 24, 14, 14, 20, 19, 13, 10, 22, 35, 19, 13, 9, 6], [13, 10, 9, 19, 3, 10, 20, 20, 20, 20, 3, 27, 37, 3, 25, 39, 14, 13, 22, 32, 34, 19, 32, 22, 13, 19, 32, 10, 20, 19, 3, 13, 25, 38, 22, 13, 10, 20, 20, 8, 20, 20, 20, 6], [10, 20, 39, 32, 10, 19, 6], [20, 39, 37, 14, 22, 13, 14, 22, 13, 14, 22, 13, 15, 13, 19, 19, 6], [10, 20, 20, 35, 10, 14, 22, 13, 10, 19, 32, 36, 10, 20, 20, 6], [8, 10, 22, 18, 27, 34, 14, 22, 32, 36, 19, 13, 10, 20, 13, 25, 38, 22, 13, 22, 13, 22, 13, 14, 19, 27, 14, 13, 10, 20, 20, 20, 14, 19, 6], [13, 10, 19, 13, 10, 19, 13, 10, 19, 39, 36, 30, 3, 10, 19, 35, 13, 22, 13, 37, 22, 8, 19, 13, 19, 35, 32, 34, 13, 20, 6], [27, 3, 10, 20, 20, 13, 20, 20, 35, 26, 16, 19, 35, 13, 10, 19, 19, 35, 13, 20, 13, 10, 14, 14, 19, 6], [26, 19, 35, 27, 32, 9, 19, 13, 20, 13, 9, 19, 13, 20, 6], [10, 19, 13, 9, 19, 39, 10, 19, 19, 39, 27, 36, 6], [10, 36, 22, 3, 27, 3, 27, 35, 13, 22, 35, 27, 13, 20, 13, 9, 22, 13, 19, 6], [22, 35, 1, 9, 9, 13, 22, 13, 20, 3, 27, 10, 14, 13, 10, 1, 9, 9, 13, 20, 3, 10, 20, 20, 35, 6], [13, 27, 13, 10, 9, 19, 19, 13, 22, 13, 19, 22, 13, 19, 22, 3, 19, 22, 18, 34, 37, 9, 19, 6], [13, 10, 14, 19, 3, 10, 19, 35, 19, 19, 35, 13, 10, 14, 19, 13, 1, 9, 9, 3, 27, 27, 14, 13, 10, 1, 9, 9, 37, 13, 20, 6], [14, 19, 19, 35, 27, 3, 8, 19, 19, 19, 35, 27, 6], [10, 22, 13, 10, 22, 35, 37, 32, 34, 10, 22, 13, 14, 14, 22, 3, 8, 35, 27, 37, 13, 19, 6], [20, 20, 3, 19, 13, 20, 20, 3, 10, 20, 19, 3, 35, 19, 13, 22, 13, 19, 22, 39, 36, 32, 34, 30, 6], [13, 10, 14, 19, 3, 10, 19, 13, 19, 22, 13, 10, 19, 39, 37, 32, 34, 10, 14, 19, 19, 6], [44, 41, 19, 39, 36, 27, 32, 34, 30, 10, 19, 6], [2, 25, 35, 6], [44, 25, 38, 10, 19, 6], [2, 13, 16, 22, 3, 10, 19, 24, 14, 19, 39, 27, 36, 27, 27, 7, 13, 13, 10, 6], [19, 22, 35, 13, 20, 6], [27, 35, 10, 20, 20, 20, 24, 14, 19, 6], [8, 14, 22, 38, 27, 36, 13, 10, 19, 39, 13, 32, 34, 13, 19, 6], [25, 38, 10, 19, 13, 44, 22, 2, 40, 38, 14, 19, 22, 13, 10, 19, 6], [22, 38, 27, 37, 13, 14, 22, 3, 13, 19, 6], [22, 38, 10, 19, 13, 22, 18, 34, 22, 13, 19, 40, 18, 34, 32, 10, 19, 6], [8, 19, 24, 19, 22, 19, 35, 14, 19, 13, 10, 19, 7, 25, 35, 19, 22, 35, 9, 19, 13, 20, 3, 10, 14, 19, 13, 20, 9, 6], [44, 10, 39, 32, 10, 44, 14, 19, 2, 19, 3, 2, 35, 20, 20, 3, 10, 19, 13, 20, 3, 20, 8, 20, 20, 20, 6], [44, 25, 38, 27, 34, 10, 22, 13, 22, 38, 14, 6], [2, 10, 14, 19, 39, 10, 14, 19, 40, 39, 19, 13, 36, 32, 10, 19, 6], [10, 19, 35, 22, 13, 14, 22, 7, 10, 37, 32, 34, 15, 13, 9, 22, 7, 35, 9, 19, 13, 20, 32, 1, 9, 9, 27, 36, 9, 19, 10, 19, 27, 6], [22, 13, 14, 22, 35, 27, 9, 19, 32, 1, 9, 9, 13, 36, 9, 19, 10, 19, 27, 6], [10, 19, 27, 35, 13, 22, 22, 35, 9, 19, 13, 20, 6], [19, 22, 35, 9, 19, 32, 1, 9, 9, 13, 36, 9, 19, 13, 20, 6], [22, 38, 37, 27, 14, 13, 20, 3, 10, 20, 20, 35, 6], [22, 24, 22, 13, 14, 22, 35, 9, 19, 13, 20, 32, 1, 9, 9, 3, 37, 13, 19, 13, 10, 19, 19, 22, 19, 6], [36, 10, 22, 3, 22, 35, 9, 19, 6], [13, 26, 19, 19, 19, 3, 10, 20, 20, 35, 14, 19, 3, 40, 39, 13, 27, 19, 13, 10, 19, 19, 3, 35, 14, 9, 19, 13, 20, 32, 10, 14, 19, 13, 1, 9, 9, 6], [20, 20, 3, 19, 13, 10, 20, 20, 20, 3, 35, 10, 19, 13, 19, 22, 27, 18, 34, 19, 13, 14, 22, 3, 8, 27, 27, 13, 14, 14, 19, 6], [19, 13, 14, 3, 14, 19, 35, 14, 9, 19, 32, 10, 14, 19, 13, 1, 9, 9, 13, 10, 19, 36, 19, 6], [20, 19, 19, 35, 9, 19, 32, 1, 9, 9, 6], [27, 36, 13, 19, 3, 10, 20, 20, 35, 19, 19, 35, 27, 34, 13, 20, 6], [13, 10, 14, 9, 22, 13, 10, 19, 3, 14, 19, 19, 35, 27, 9, 19, 13, 14, 19, 24, 19, 6], [10, 19, 24, 19, 19, 22, 38, 13, 10, 19, 35, 28, 13, 10, 19, 13, 20, 20, 24, 20, 20, 20, 6], [20, 35, 10, 9, 19, 19, 13, 19, 22, 37, 13, 20, 6], [10, 19, 39, 19, 13, 25, 39, 37, 7, 20, 39, 22, 43, 25, 38, 37, 6], [10, 19, 39, 19, 37, 13, 14, 19, 7, 20, 39, 27, 6], [13, 10, 19, 22, 24, 19, 39, 32, 34, 10, 36, 19, 3, 25, 39, 27, 36, 10, 14, 19, 3, 35, 20, 20, 3, 19, 13, 10, 19, 24, 19, 19, 8, 19, 13, 22, 19, 13, 20, 20, 20, 3, 20, 3, 20, 6], [25, 35, 10, 19, 18, 34, 32, 34, 13, 10, 14, 9, 19, 19, 13, 14, 22, 32, 34, 37, 10, 19, 13, 19, 6], [10, 19, 35, 14, 19, 13, 10, 19, 24, 19, 19, 3, 13, 27, 36, 3, 18, 34, 36, 6], [27, 9, 19, 13, 10, 36, 22, 35, 15, 19, 22, 13, 20, 3, 27, 13, 9, 19, 13, 20, 6], [8, 9, 19, 35, 19, 22, 35, 27, 14, 19, 3, 37, 13, 9, 19, 10, 19, 27, 6], [10, 19, 22, 24, 19, 27, 35, 19, 13, 19, 39, 13, 19, 6], [13, 10, 14, 14, 19, 3, 36, 22, 35, 22, 13, 10, 22, 25, 35, 35, 6], [10, 19, 35, 27, 15, 13, 13, 20, 6], [25, 27, 35, 13, 22, 35, 36, 22, 28, 27, 13, 20, 13, 25, 35, 13, 10, 13, 10, 9, 14, 22, 6], [22, 38, 10, 10, 19, 13, 14, 22, 38, 36, 6], [43, 19, 39, 15, 13, 22, 18, 34, 8, 19, 22, 38, 3, 22, 38, 32, 34, 6], [10, 19, 22, 24, 19, 39, 37, 13, 22, 37, 13, 28, 13, 9, 19, 22, 6], [10, 13, 10, 19, 24, 22, 39, 10, 19, 13, 10, 19, 13, 22, 36, 19, 13, 10, 14, 19, 8, 10, 19, 36, 10, 19, 6], [13, 10, 14, 19, 3, 10, 20, 19, 35, 22, 13, 22, 6], [25, 35, 13, 13, 10, 9, 19, 41, 38, 3, 9, 19, 35, 25, 35, 28, 13, 20, 8, 9, 19, 35, 25, 35, 15, 13, 10, 14, 19, 6], [13, 36, 9, 19, 24, 22, 38, 27, 34, 10, 19, 3, 20, 20, 35, 3, 44, 25, 39, 34, 25, 32, 34, 22, 38, 36, 27, 3, 8, 13, 16, 27, 36, 27, 27, 6], [2, 22, 37, 13, 36, 13, 14, 19, 35, 27, 27, 10, 19, 3, 8, 25, 35, 9, 19, 7, 19, 8, 19, 19, 6], [44, 25, 39, 10, 14, 19, 32, 34, 13, 10, 19, 3, 2, 20, 20, 35, 6], [25, 35, 13, 13, 10, 14, 19, 13, 10, 19, 3, 19, 22, 35, 10, 19, 13, 14, 14, 19, 6], [25, 35, 37, 19, 13, 19, 22, 13, 10, 19, 13, 27, 14, 20, 22, 13, 14, 19, 3, 37, 13, 27, 14, 19, 22, 6], [20, 20, 13, 20, 20, 35, 32, 10, 19, 6], [27, 38, 10, 20, 20, 24, 22, 13, 19, 19, 13, 22, 13, 22, 13, 27, 37, 14, 22, 6], [27, 38, 10, 20, 20, 24, 16, 22, 13, 22, 13, 22, 13, 22, 3, 27, 37, 6], [36, 13, 10, 22, 13, 20, 20, 24, 44, 10, 20, 20, 20, 2, 4, 20, 3, 9, 22, 3, 1, 9, 5, 3, 19, 22, 13, 10, 22, 13, 10, 20, 38, 10, 19, 13, 19, 6], [13, 37, 13, 20, 3, 10, 19, 24, 19, 39, 27, 27, 14, 3, 27, 14, 6], [22, 38, 20, 20, 3, 38, 44, 20, 20, 20, 2, 8, 38, 20, 20, 22, 6], [25, 38, 20, 20, 8, 38, 13, 20, 8, 20, 6], [25, 38, 13, 26, 22, 3, 38, 27, 27, 8, 38, 13, 37, 22, 8, 14, 22, 6], [10, 39, 20, 6], [13, 10, 14, 19, 3, 19, 13, 10, 19, 13, 10, 14, 19, 18, 34, 13, 36, 13, 20, 39, 27, 10, 14, 19, 13, 14, 14, 19, 6], [25, 39, 27, 36, 32, 34, 10, 14, 19, 41, 27, 39, 27, 34, 32, 10, 14, 44, 14, 2, 19, 13, 22, 41, 38, 10, 19, 13, 10, 14, 19, 3, 14, 13, 22, 6], [13, 44, 10, 20, 20, 20, 2, 39, 10, 14, 19, 13, 14, 22, 3, 25, 39, 13, 10, 22, 38, 28, 13, 25, 13, 16, 13, 25, 38, 6], [10, 39, 27, 32, 34, 13, 10, 14, 19, 13, 44, 10, 20, 20, 20, 2, 39, 37, 13, 19, 6], [25, 39, 14, 8, 27, 14, 6], [10, 14, 3, 14, 3, 14, 19, 39, 30, 13, 19, 19, 13, 19, 13, 10, 14, 19, 13, 10, 19, 13, 26, 19, 13, 10, 19, 13, 10, 14, 3, 14, 19, 13, 10, 20, 19, 6], [25, 39, 13, 19, 26, 14, 19, 3, 42, 14, 22, 38, 25, 13, 19, 8, 10, 14, 19, 6], [13, 10, 19, 3, 25, 39, 10, 14, 14, 19, 41, 39, 10, 19, 20, 24, 19, 19, 7, 8, 10, 20, 20, 3, 10, 14, 3, 14, 19, 41, 39, 7, 41, 27, 7, 14, 19, 6], [10, 14, 20, 20, 39, 10, 19, 19, 13, 20, 6], [10, 28, 14, 19, 3, 44, 20, 20, 2, 4, 10, 19, 13, 9, 39, 32, 34, 14, 13, 20, 22, 5, 3, 39, 37, 15, 13, 9, 9, 22, 13, 20, 35, 25, 13, 9, 6], [8, 25, 39, 27, 9, 13, 14, 14, 22, 7, 20, 24, 19, 19, 7, 41, 38, 36, 10, 19, 22, 13, 20, 6], [26, 22, 38, 37, 13, 14, 3, 14, 19, 8, 27, 38, 14, 22, 13, 22, 6], [13, 20, 20, 24, 44, 25, 20, 20, 3, 2, 4, 20, 3, 9, 22, 3, 1, 9, 5, 3, 10, 20, 38, 19, 32, 19, 3, 13, 10, 14, 19, 25, 18, 34, 27, 37, 32, 34, 10, 44, 19, 6], [2, 13, 20, 20, 39, 25, 3, 14, 19, 39, 10, 44, 19, 13, 20, 24, 14, 22, 13, 14, 19, 8, 19, 6], [2, 44, 20, 2, 39, 20, 13, 44, 19, 19, 2, 8, 14, 22, 38, 22, 8, 22, 13, 25, 6], [10, 19, 24, 19, 32, 19, 8, 19, 19, 39, 27, 14, 13, 26, 19, 19, 6], [22, 27, 35, 20, 20, 19, 20, 20, 3, 10, 44, 14, 3, 14, 3, 14, 19, 3, 2, 13, 10, 14, 19, 13, 20, 6], [8, 14, 13, 10, 19, 10, 12, 39, 37, 13, 10, 19, 8, 10, 19, 3, 25, 39, 14, 7, 22, 27, 38, 14, 22, 32, 19, 22, 7, 10, 19, 19, 39, 36, 13, 10, 19, 13, 10, 19, 7, 22, 38, 37, 7, 14, 37, 7, 13, 25, 27, 38, 10, 19, 13, 19, 7, 22, 18, 34, 13, 14, 22, 13, 19, 27, 13, 26, 14, 22, 7, 22, 13, 10, 20, 20, 3, 13, 19, 3, 18, 27, 34, 22, 43, 13, 10, 19, 6], [44, 25, 20, 20, 20, 2, 39, 10, 27, 14, 19, 13, 43, 14, 22, 3, 37, 32, 9, 13, 19, 3, 38, 13, 20, 6], [13, 10, 14, 22, 13, 19, 25, 38, 37, 32, 34, 30, 13, 10, 14, 19, 3, 10, 14, 19, 38, 25, 39, 27, 14, 25, 8, 38, 13, 19, 6], [44, 20, 20, 2, 4, 20, 3, 9, 22, 3, 1, 9, 5, 13, 20, 20, 39, 19, 27, 6], [25, 39, 10, 14, 19, 13, 10, 14, 19, 41, 20, 35, 13, 10, 19, 13, 25, 35, 13, 10, 20, 20, 13, 20, 7, 13, 10, 19, 13, 10, 22, 6], [13, 27, 14, 3, 28, 27, 14, 3, 27, 14, 22, 3, 20, 20, 39, 43, 20, 39, 27, 10, 29, 14, 22, 13, 26, 22, 24, 22, 7, 13, 10, 14, 19, 3, 43, 22, 38, 37, 19, 22, 7, 14, 13, 44, 19, 2, 13, 10, 14, 19, 19, 37, 13, 10, 14, 19, 6], [10, 13, 26, 22, 13, 14, 19, 19, 38, 13, 10, 19, 6], [25, 39, 27, 14, 13, 14, 22, 37, 30, 14, 19, 27, 13, 10, 19, 13, 19, 3, 13, 10, 19, 39, 27, 14, 13, 27, 10, 14, 19, 18, 34, 32, 10, 19, 8, 10, 19, 32, 10, 14, 19, 3, 8, 13, 20, 35, 14, 13, 36, 10, 14, 3, 14, 14, 19, 34, 30, 10, 19, 6], [10, 13, 10, 18, 34, 37, 27, 36, 32, 20, 20, 3, 41, 35, 32, 20, 13, 22, 13, 19, 8, 19, 19, 8, 35, 14, 32, 34, 10, 20, 6], [8, 20, 27, 35, 10, 19, 13, 10, 14, 19, 22, 8, 35, 20, 20, 3, 13, 25, 35, 10, 14, 19, 13, 36, 10, 19, 32, 34, 10, 14, 20, 20, 3, 19, 13, 20, 6], [25, 39, 10, 19, 26, 19, 27, 35, 19, 6], [20, 20, 27, 18, 34, 35, 19, 3, 8, 25, 39, 27, 14, 20, 20, 18, 34, 27, 6], [20, 20, 3, 10, 20, 24, 19, 19, 22, 19, 3, 35, 13, 20, 13, 9, 22, 6], [15, 8, 15, 22, 13, 10, 19, 38, 36, 14, 13, 19, 19, 6], [13, 20, 3, 10, 14, 19, 39, 22, 32, 34, 30, 26, 22, 13, 36, 22, 3, 19, 22, 8, 22, 22, 8, 34, 10, 1, 9, 19, 6], [22, 8, 14, 22, 38, 14, 13, 10, 19, 3, 8, 19, 18, 34, 37, 13, 22, 13, 13, 19, 22, 3, 10, 19, 35, 6], [20, 27, 39, 19, 13, 10, 22, 3, 22, 3, 14, 22, 3, 22, 8, 19, 22, 6], [13, 20, 3, 20, 20, 20, 3, 10, 19, 19, 13, 10, 14, 19, 24, 19, 3, 35, 10, 44, 20, 20, 2, 13, 10, 20, 20, 13, 20, 13, 20, 20, 8, 35, 14, 22, 32, 34, 14, 19, 6], [20, 20, 39, 14, 22, 6], [13, 20, 3, 22, 35, 36, 27, 9, 19, 22, 32, 34, 14, 22, 8, 22, 36, 37, 22, 6], [20, 20, 39, 37, 26, 19, 32, 14, 22, 8, 39, 19, 32, 37, 22, 6], [10, 19, 19, 39, 13, 20, 20, 22, 38, 10, 29, 14, 13, 10, 9, 14, 22, 43, 10, 19, 35, 37, 30, 6], [10, 19, 13, 10, 20, 20, 20, 19, 19, 27, 35, 13, 10, 19, 24, 22, 38, 28, 14, 13, 10, 13, 10, 13, 10, 14, 37, 22, 3, 40, 38, 10, 20, 8, 20, 6], [10, 19, 35, 13, 27, 19, 13, 20, 20, 22, 38, 41, 25, 35, 13, 14, 22, 3, 37, 13, 27, 14, 13, 20, 8, 10, 20, 6], [15, 13, 9, 13, 9, 35, 25, 38, 13, 10, 14, 19, 13, 19, 16, 13, 10, 19, 3, 37, 13, 15, 13, 9, 13, 9, 20, 22, 8, 9, 13, 9, 13, 20, 6], [10, 20, 19, 35, 20, 20, 20, 20, 24, 19, 32, 34, 10, 1, 9, 9, 19, 19, 13, 10, 14, 19, 13, 10, 20, 20, 8, 20, 20, 20, 9, 22, 13, 27, 6], [10, 19, 3, 40, 39, 37, 32, 34, 9, 32, 20, 3, 35, 36, 32, 34, 37, 13, 10, 20, 20, 20, 3, 8, 10, 19, 35, 13, 10, 19, 24, 22, 13, 36, 14, 19, 6], [10, 14, 19, 13, 10, 14, 19, 39, 13, 10, 14, 19, 18, 34, 37, 13, 14, 10, 14, 19, 6], [20, 20, 39, 37, 32, 10, 19, 13, 10, 20, 20, 20, 36, 25, 32, 34, 10, 14, 19, 32, 34, 10, 19, 3, 10, 20, 20, 20, 19, 19, 20, 35, 6], [10, 19, 13, 10, 20, 20, 20, 35, 10, 19, 27, 35, 13, 19, 13, 9, 8, 35, 26, 19, 13, 20, 13, 10, 19, 6], [10, 20, 13, 14, 22, 39, 37, 36, 32, 34, 14, 22, 8, 35, 28, 10, 19, 32, 34, 19, 13, 10, 20, 20, 20, 8, 10, 20, 20, 20, 6], [10, 20, 14, 19, 39, 37, 10, 14, 19, 19, 32, 34, 20, 13, 19, 3, 10, 20, 24, 20, 35, 6], [25, 35, 10, 19, 3, 41, 25, 35, 27, 34, 3, 35, 37, 37, 32, 34, 10, 19, 13, 19, 22, 6], [27, 10, 19, 35, 37, 3, 10, 10, 19, 24, 22, 8, 19, 35, 37, 3, 8, 19, 38, 27, 27, 37, 37, 32, 34, 20, 3, 10, 19, 35, 6], [10, 19, 35, 13, 10, 14, 19, 37, 44, 10, 14, 19, 19, 3, 2, 36, 22, 13, 14, 22, 3, 10, 19, 35, 6], [10, 14, 19, 35, 19, 19, 22, 13, 9, 19, 8, 35, 19, 22, 6], [10, 14, 19, 19, 20, 35, 10, 22, 35, 37, 32, 34, 27, 14, 19, 22, 13, 19, 13, 19, 22, 8, 34, 13, 10, 19, 13, 19, 22, 6], [13, 15, 19, 3, 20, 20, 3, 13, 36, 14, 22, 13, 20, 19, 3, 35, 1, 9, 9, 13, 22, 32, 10, 27, 37, 20, 19, 6], [13, 10, 19, 13, 22, 3, 20, 24, 19, 35, 10, 14, 20, 20, 19, 36, 37, 13, 14, 22, 6], [10, 20, 19, 35, 37, 32, 34, 37, 13, 10, 19, 3, 27, 27, 14, 3, 9, 22, 27, 13, 20, 6], [13, 36, 20, 24, 19, 13, 10, 19, 3, 20, 35, 20, 20, 20, 20, 32, 34, 10, 9, 19, 13, 20, 3, 40, 27, 39, 10, 19, 32, 34, 37, 6], [20, 20, 35, 13, 19, 13, 20, 8, 20, 18, 34, 14, 19, 13, 10, 19, 22, 35, 37, 13, 37, 6], [20, 35, 13, 20, 25, 18, 34, 1, 9, 9, 13, 20, 13, 10, 19, 19, 35, 37, 6], [10, 14, 19, 18, 27, 34, 37, 27, 13, 19, 22, 13, 10, 20, 19, 6], [10, 19, 13, 20, 20, 35, 10, 14, 19, 19, 43, 25, 35, 13, 19, 13, 20, 13, 1, 9, 9, 6], [44, 20, 20, 2, 35, 37, 13, 22, 13, 10, 19, 13, 9, 7, 13, 22, 13, 19, 3, 22, 13, 20, 35, 10, 9, 19, 19, 14, 19, 3, 13, 9, 15, 22, 36, 22, 13, 9, 13, 13, 10, 14, 19, 3, 10, 14, 22, 19, 35, 6], [8, 10, 19, 13, 22, 14, 19, 7, 9, 7, 35, 27, 27, 13, 10, 9, 37, 13, 9, 3, 10, 14, 19, 13, 36, 22, 6], [20, 20, 35, 25, 35, 32, 34, 9, 9, 14, 22, 4, 1, 9, 9, 5, 13, 9, 19, 14, 22, 14, 20, 9, 3, 9, 3, 27, 13, 9, 19, 19, 22, 6], [10, 14, 14, 19, 19, 35, 10, 19, 19, 39, 10, 19, 32, 34, 1, 9, 19, 19, 13, 22, 13, 19, 8, 37, 19, 32, 10, 19, 13, 19, 6], [10, 22, 38, 20, 9, 3, 9, 6], [10, 19, 18, 34, 37, 13, 14, 20, 22, 13, 10, 19, 10, 19, 35, 39, 15, 13, 9, 19, 7, 10, 19, 35, 32, 34, 6], [14, 22, 13, 10, 19, 38, 20, 20, 20, 8, 20, 20, 20, 20, 3, 10, 14, 19, 22, 6], [20, 35, 25, 39, 32, 34, 10, 19, 13, 10, 19, 13, 10, 19, 6], [13, 10, 19, 3, 20, 20, 39, 27, 10, 19, 13, 20, 20, 24, 19, 6], [20, 20, 39, 27, 37, 26, 19, 32, 10, 6], [8, 25, 39, 20, 20, 3, 13, 19, 19, 3, 19, 8, 19, 3, 41, 39, 37, 37, 13, 36, 20, 24, 20, 20, 13, 10, 14, 19, 6], [13, 9, 3, 13, 10, 19, 19, 13, 10, 20, 19, 13, 10, 20, 20, 13, 20, 20, 3, 20, 20, 35, 44, 10, 20, 13, 20, 3, 2, 10, 14, 14, 19, 13, 10, 19, 19, 3, 10, 19, 13, 10, 22, 6], [27, 3, 9, 22, 28, 3, 20, 20, 39, 37, 26, 20, 13, 10, 14, 19, 37, 44, 20, 20, 3, 2, 10, 14, 19, 13, 19, 13, 10, 14, 19, 6], [13, 19, 3, 13, 10, 19, 35, 19, 3, 20, 20, 24, 20, 18, 34, 37, 10, 14, 19, 6], [27, 18, 10, 20, 20, 3, 13, 10, 19, 6], [25, 38, 44, 35, 19, 2, 13, 44, 20, 20, 2, 39, 27, 27, 14, 13, 10, 6], [19, 20, 20, 3, 10, 19, 19, 13, 20, 20, 24, 41, 39, 26, 19, 36, 10, 14, 19, 13, 14, 19, 22, 3, 39, 37, 10, 14, 3, 14, 19, 40, 39, 25, 41, 10, 22, 38, 36, 8, 36, 27, 28, 27, 13, 22, 3, 8, 27, 22, 3, 18, 6], [27, 13, 20, 20, 24, 19, 39, 10, 27, 37, 19, 13, 19, 13, 10, 22, 4, 13, 27, 10, 28, 37, 13, 20, 20, 24, 19, 13, 10, 20, 13, 10, 14, 14, 19, 5, 6], [37, 13, 14, 19, 8, 19, 13, 20, 20, 3, 10, 20, 20, 22, 13, 44, 20, 20, 2, 38, 14, 6], [13, 20, 20, 22, 8, 22, 38, 13, 14, 19, 3, 36, 9, 10, 27, 43, 25, 38, 13, 22, 6], [10, 20, 39, 30, 13, 20, 20, 3, 13, 10, 19, 13, 20, 20, 37, 13, 22, 3, 22, 8, 14, 14, 22, 6], [4, 10, 27, 39, 27, 14, 19, 7, 10, 19, 22, 3, 10, 14, 22, 36, 14, 22, 13, 20, 3, 10, 25, 35, 30, 13, 10, 19, 19, 6], [5, 10, 20, 39, 26, 19, 6], [25, 39, 26, 22, 36, 22, 3, 8, 36, 32, 6], [13, 19, 25, 39, 32, 10, 37, 19, 25, 39, 19, 6], [26, 19, 3, 36, 26, 22, 13, 10, 36, 19, 19, 3, 39, 14, 6], [25, 39, 26, 14, 19, 6], [27, 3, 27, 13, 10, 20, 39, 37, 10, 14, 19, 32, 34, 13, 44, 20, 20, 3, 2, 10, 20, 39, 37, 13, 19, 13, 36, 10, 14, 19, 4, 20, 20, 5, 3, 42, 19, 39, 37, 37, 13, 22, 3, 32, 26, 19, 6], [10, 14, 19, 39, 30, 32, 34, 10, 19, 8, 10, 19, 6], [25, 39, 10, 20, 10, 19, 13, 19, 3, 8, 27, 39, 25, 32, 10, 14, 19, 13, 26, 14, 19, 6], [10, 22, 13, 10, 20, 20, 38, 14, 28, 43, 25, 39, 32, 34, 10, 14, 19, 13, 9, 13, 25, 13, 19, 6], [32, 28, 34, 10, 22, 3, 20, 20, 35, 30, 10, 27, 14, 19, 13, 10, 20, 3, 13, 10, 14, 19, 41, 39, 26, 14, 22, 24, 19, 8, 41, 39, 13, 10, 14, 14, 19, 19, 6], [10, 19, 19, 18, 34, 28, 27, 13, 20, 20, 35, 27, 14, 10, 19, 13, 19, 13, 10, 19, 13, 25, 39, 13, 25, 6], [20, 20, 24, 14, 19, 39, 27, 32, 34, 10, 20, 24, 19, 19, 6], [25, 39, 10, 19, 25, 39, 32, 34, 3, 8, 25, 39, 25, 3, 13, 10, 14, 19, 13, 19, 6], [10, 19, 39, 13, 19, 3, 10, 19, 13, 19, 22, 36, 3, 8, 11, 39, 27, 19, 14, 8, 14, 13, 10, 14, 3, 14, 22, 6], [10, 14, 19, 19, 20, 20, 39, 37, 10, 19, 13, 14, 19, 13, 26, 44, 20, 13, 20, 6], [2, 25, 39, 37, 10, 14, 3, 14, 19, 7, 9, 40, 39, 14, 7, 13, 10, 19, 41, 3, 37, 13, 10, 29, 14, 19, 3, 18, 34, 14, 6], [27, 10, 19, 3, 20, 20, 3, 39, 14, 19, 3, 10, 13, 9, 13, 10, 14, 22, 32, 34, 37, 13, 20, 8, 13, 10, 19, 13, 10, 20, 19, 24, 19, 6], [13, 20, 35, 13, 10, 22, 13, 20, 20, 20, 13, 10, 22, 13, 22, 13, 20, 22, 8, 22, 3, 26, 22, 35, 10, 14, 14, 19, 6], [20, 3, 10, 14, 19, 3, 35, 26, 19, 6], [25, 35, 10, 19, 27, 3, 8, 35, 13, 25, 35, 25, 32, 34, 19, 3, 19, 8, 14, 14, 22, 6], [25, 35, 14, 8, 3, 13, 9, 14, 19, 35, 10, 19, 6], [26, 19, 35, 14, 8, 14, 6], [13, 25, 35, 14, 8, 14, 32, 26, 22, 3, 25, 35, 14, 32, 26, 14, 19, 7, 25, 27, 35, 26, 19, 13, 26, 19, 6], [13, 37, 13, 20, 20, 3, 8, 37, 13, 14, 19, 13, 20, 20, 3, 20, 4, 37, 20, 20, 13, 10, 19, 5, 35, 27, 10, 14, 19, 6], [8, 25, 35, 27, 34, 32, 34, 26, 19, 37, 30, 6], [11, 39, 27, 14, 32, 34, 44, 20, 20, 3, 2, 10, 14, 19, 13, 10, 20, 20, 19, 13, 10, 20, 20, 6], [16, 13, 10, 19, 39, 37, 30, 13, 14, 22, 13, 14, 22, 8, 36, 8, 36, 8, 36, 32, 34, 19, 6], [25, 38, 10, 19, 27, 13, 14, 14, 22, 38, 10, 14, 19, 3, 8, 10, 9, 39, 20, 20, 3, 13, 10, 27, 14, 8, 14, 19, 13, 10, 14, 19, 41, 39, 32, 34, 10, 19, 25, 39, 32, 34, 6], [20, 20, 7, 13, 36, 44, 20, 20, 3, 2, 34, 10, 19, 13, 44, 20, 20, 3, 2, 20, 24, 20, 13, 26, 16, 6], [20, 20, 35, 25, 39, 36, 22, 13, 9, 13, 26, 14, 14, 22, 32, 27, 34, 34, 10, 15, 19, 13, 26, 14, 9, 19, 6], [10, 22, 38, 27, 13, 14, 22, 3, 8, 10, 14, 22, 38, 27, 37, 37, 30, 13, 10, 20, 19, 19, 8, 20, 20, 20, 20, 3, 20, 20, 20, 20, 8, 20, 20, 20, 20, 6], [10, 9, 14, 22, 38, 10, 19, 22, 13, 10, 9, 3, 36, 13, 10, 14, 9, 19, 13, 10, 19, 6], [14, 19, 22, 38, 37, 13, 10, 14, 19, 18, 34, 32, 13, 9, 19, 8, 9, 19, 13, 10, 14, 19, 6], [13, 20, 39, 27, 13, 10, 15, 9, 3, 10, 19, 18, 34, 10, 19, 13, 10, 22, 6], [10, 39, 10, 19, 10, 14, 19, 3, 13, 22, 10, 14, 19, 13, 16, 14, 22, 3, 35, 10, 14, 19, 6], [10, 19, 39, 13, 10, 19, 19, 3, 13, 36, 10, 19, 13, 14, 19, 24, 14, 19, 3, 39, 37, 13, 19, 13, 10, 14, 19, 19, 13, 27, 10, 14, 22, 37, 13, 10, 19, 6], [13, 13, 10, 9, 36, 14, 22, 13, 9, 3, 10, 14, 22, 38, 37, 14, 22, 13, 19, 3, 36, 22, 13, 10, 19, 13, 19, 3, 14, 13, 14, 22, 3, 39, 36, 13, 10, 14, 19, 13, 22, 13, 19, 6], [44, 27, 3, 2, 39, 20, 20, 3, 10, 19, 13, 14, 19, 3, 44, 10, 19, 39, 32, 34, 27, 3, 27, 8, 27, 6], [2, 10, 19, 40, 35, 13, 10, 14, 22, 13, 22, 3, 35, 13, 10, 19, 13, 10, 19, 19, 8, 35, 10, 14, 19, 19, 13, 9, 3, 39, 37, 10, 27, 14, 19, 6], [44, 32, 34, 22, 24, 19, 10, 22, 3, 2, 39, 20, 20, 3, 10, 14, 19, 3, 44, 26, 19, 19, 39, 32, 34, 14, 8, 14, 3, 8, 3, 28, 27, 13, 27, 3, 40, 39, 14, 6], [8, 3, 13, 10, 14, 22, 27, 3, 25, 38, 27, 27, 34, 32, 34, 13, 10, 19, 39, 14, 6], [2, 13, 9, 3, 27, 27, 13, 27, 3, 10, 14, 22, 13, 10, 14, 22, 38, 37, 13, 10, 22, 25, 6], [34, 10, 19, 3, 27, 3, 13, 10, 14, 19, 22, 40, 35, 10, 19, 13, 20, 24, 22, 13, 20, 20, 20, 3, 20, 20, 8, 20, 7, 20, 20, 20, 7, 10, 19, 39, 13, 10, 14, 3, 14, 14, 19, 13, 20, 20, 3, 14, 19, 13, 19, 13, 20, 20, 20, 6], [44, 20, 20, 35, 32, 34, 26, 19, 22, 13, 9, 14, 22, 3, 2, 39, 10, 14, 19, 19, 6], [8, 27, 10, 19, 19, 3, 37, 27, 13, 20, 20, 20, 24, 19, 8, 37, 13, 20, 20, 3, 10, 19, 13, 14, 19, 22, 3, 27, 39, 27, 32, 19, 6], [20, 20, 3, 10, 19, 39, 3, 27, 35, 32, 34, 26, 19, 22, 27, 3, 35, 26, 22, 32, 10, 36, 19, 19, 8, 35, 10, 37, 19, 44, 13, 10, 14, 19, 13, 10, 22, 3, 10, 22, 8, 10, 19, 6], [2, 44, 20, 20, 3, 2, 39, 10, 19, 3, 44, 43, 39, 25, 27, 34, 13, 25, 39, 37, 6], [2, 44, 14, 22, 3, 2, 39, 20, 20, 3, 20, 20, 24, 22, 19, 3, 44, 37, 32, 34, 10, 19, 13, 14, 19, 40, 27, 39, 27, 34, 6], [2, 37, 13, 10, 20, 22, 3, 20, 20, 24, 19, 22, 3, 20, 20, 8, 20, 20, 3, 27, 35, 10, 14, 19, 13, 26, 14, 6], [10, 19, 39, 9, 14, 3, 14, 22, 3, 27, 13, 9, 22, 6], [44, 34, 9, 22, 13, 19, 3, 2, 39, 10, 19, 6], [44, 19, 39, 25, 39, 13, 36, 14, 22, 6], [10, 14, 39, 37, 10, 19, 13, 14, 22, 6], [19, 39, 25, 39, 14, 6], [10, 14, 39, 37, 10, 19, 24, 19, 32, 34, 6], [2, 44, 14, 19, 3, 2, 39, 10, 19, 3, 44, 10, 10, 22, 38, 37, 20, 20, 6], [2, 41, 39, 36, 10, 19, 6], [19, 7, 13, 19, 6], [25, 39, 10, 14, 19, 13, 22, 40, 38, 14, 8, 27, 27, 27, 14, 6], [20, 20, 35, 34, 32, 34, 26, 19, 22, 13, 9, 22, 3, 8, 25, 39, 25, 27, 35, 10, 44, 19, 2, 43, 25, 35, 36, 37, 13, 10, 19, 19, 6], [25, 35, 13, 10, 19, 13, 10, 19, 19, 13, 14, 22, 3, 8, 25, 39, 25, 35, 10, 19, 13, 25, 6], [10, 19, 24, 20, 20, 20, 39, 37, 32, 34, 20, 20, 1, 9, 13, 14, 22, 13, 26, 19, 22, 38, 14, 6], [10, 19, 39, 37, 10, 19, 22, 13, 19, 22, 6], [8, 3, 39, 20, 20, 3, 25, 35, 27, 34, 10, 19, 26, 19, 35, 13, 10, 14, 19, 35, 37, 37, 13, 19, 6], [8, 3, 38, 20, 20, 24, 22, 3, 25, 35, 34, 10, 19, 8, 26, 19, 35, 34, 22, 6], [20, 20, 24, 19, 19, 3, 20, 20, 3, 39, 10, 20, 19, 39, 44, 14, 6], [2, 10, 14, 19, 3, 25, 39, 3, 44, 39, 20, 39, 27, 37, 14, 3, 27, 13, 25, 39, 14, 22, 6], [25, 38, 25, 39, 27, 37, 32, 14, 22, 3, 8, 13, 25, 35, 10, 22, 13, 10, 19, 13, 10, 19, 6], [2, 20, 7, 14, 20, 20, 20, 20, 35, 26, 14, 19, 13, 14, 20, 20, 13, 10, 19, 19, 37, 13, 20, 20, 13, 22, 13, 10, 14, 19, 38, 35, 10, 19, 12, 19, 6], [13, 10, 19, 13, 20, 37, 13, 10, 14, 19, 3, 10, 19, 39, 13, 10, 44, 14, 19, 13, 19, 8, 14, 19, 2, 13, 21, 38, 37, 13, 22, 6], [27, 3, 27, 13, 10, 19, 13, 10, 19, 13, 20, 20, 39, 13, 10, 19, 3, 10, 19, 39, 7, 44, 13, 10, 19, 13, 19, 3, 20, 20, 39, 32, 34, 30, 26, 19, 32, 34, 8, 34, 25, 32, 10, 22, 6], [2, 10, 14, 7, 40, 35, 20, 20, 35, 32, 34, 30, 10, 19, 13, 19, 44, 27, 13, 22, 13, 19, 8, 19, 3, 2, 10, 19, 20, 20, 39, 7, 35, 10, 22, 13, 10, 19, 3, 36, 25, 3, 13, 16, 13, 19, 3, 13, 10, 19, 13, 19, 6], [10, 19, 35, 20, 20, 3, 10, 14, 20, 19, 19, 3, 32, 34, 10, 19, 13, 22, 37, 13, 20, 20, 8, 37, 32, 34, 20, 20, 24, 19, 13, 10, 14, 22, 41, 35, 37, 13, 10, 19, 19, 6], [10, 20, 19, 35, 10, 19, 13, 10, 14, 19, 13, 22, 8, 10, 19, 35, 13, 25, 35, 36, 10, 14, 19, 19, 6], [10, 19, 39, 3, 44, 34, 3, 27, 3, 38, 27, 25, 34, 22, 6], [2, 27, 10, 19, 39, 7, 44, 25, 35, 20, 20, 41, 35, 10, 19, 32, 34, 19, 22, 19, 9, 8, 15, 32, 34, 37, 13, 26, 14, 22, 13, 22, 13, 37, 22, 6], [27, 10, 14, 19, 20, 20, 39, 13, 10, 22, 13, 22, 3, 34, 25, 13, 10, 19, 25, 35, 32, 34, 6], [2, 20, 20, 35, 34, 14, 19, 9, 22, 27, 3, 8, 25, 35, 27, 13, 10, 19, 13, 10, 19, 3, 10, 14, 14, 19, 37, 13, 22, 6], [10, 19, 25, 35, 13, 25, 35, 37, 44, 13, 19, 3, 2, 8, 13, 9, 20, 20, 35, 10, 19, 32, 34, 19, 22, 13, 14, 19, 6], [44, 22, 38, 37, 14, 13, 10, 22, 8, 20, 39, 37, 10, 19, 13, 36, 10, 14, 19, 3, 2, 39, 20, 20, 3, 10, 14, 19, 13, 20, 20, 20, 6], [44, 20, 39, 37, 32, 34, 30, 10, 19, 13, 20, 18, 34, 19, 32, 34, 37, 19, 8, 7, 28, 14, 7, 39, 37, 14, 32, 34, 10, 19, 13, 23, 10, 14, 19, 13, 20, 6], [2, 20, 20, 35, 10, 19, 13, 25, 18, 34, 10, 19, 13, 10, 14, 19, 32, 14, 19, 3, 8, 10, 19, 35, 27, 22, 6], [13, 20, 19, 3, 19, 22, 35, 36, 14, 22, 36, 20, 20, 25, 36, 22, 13, 20, 20, 24, 19, 32, 19, 22, 6], [20, 20, 7, 10, 22, 35, 43, 14, 20, 20, 20, 35, 10, 19, 36, 10, 19, 13, 20, 8, 10, 19, 13, 20, 20, 24, 19, 3, 14, 20, 20, 20, 6], [44, 34, 20, 6], [2, 39, 10, 14, 19, 6], [44, 34, 20, 20, 6], [2, 8, 27, 10, 19, 3, 37, 13, 20, 20, 3, 39, 27, 32, 26, 14, 14, 8, 14, 19, 6], [22, 13, 37, 19, 22, 38, 13, 19, 3, 8, 10, 14, 19, 39, 3, 44, 10, 14, 19, 13, 26, 4, 20, 20, 24, 5, 19, 7, 10, 22, 38, 36, 13, 19, 19, 6], [2, 8, 10, 19, 13, 20, 20, 24, 19, 39, 6], [10, 14, 19, 37, 3, 38, 20, 20, 24, 22, 3, 39, 10, 20, 19, 25, 3, 8, 27, 10, 20, 19, 39, 37, 13, 26, 14, 20, 19, 3, 37, 13, 20, 20, 6], [13, 10, 19, 3, 10, 19, 39, 13, 22, 13, 10, 22, 6], [44, 41, 39, 27, 36, 6], [2, 39, 10, 14, 19, 6], [44, 20, 39, 36, 3, 2, 10, 19, 39, 30, 3, 13, 44, 10, 19, 13, 20, 24, 19, 7, 35, 19, 19, 3, 35, 37, 30, 8, 35, 10, 19, 6], [2, 20, 20, 24, 14, 19, 39, 13, 20, 20, 24, 39, 6], [41, 39, 36, 10, 19, 6], [20, 20, 3, 10, 14, 19, 13, 20, 20, 24, 20, 20, 3, 39, 25, 39, 10, 19, 13, 10, 19, 40, 39, 14, 8, 27, 27, 14, 6], [22, 35, 37, 13, 10, 20, 19, 3, 10, 19, 35, 37, 3, 8, 11, 39, 10, 19, 10, 22, 35, 10, 14, 19, 32, 10, 19, 6], [27, 27, 3, 36, 32, 20, 20, 3, 10, 19, 35, 44, 36, 2, 13, 25, 35, 22, 13, 20, 20, 24, 19, 6], [8, 25, 39, 36, 13, 10, 14, 19, 6], [13, 9, 3, 13, 19, 32, 10, 19, 19, 13, 20, 20, 20, 3, 20, 20, 20, 20, 13, 20, 20, 35, 13, 19, 36, 3, 44, 13, 25, 38, 32, 34, 10, 19, 22, 14, 3, 20, 39, 26, 19, 6], [2, 10, 19, 13, 10, 20, 20, 13, 20, 35, 37, 13, 1, 9, 3, 27, 1, 9, 13, 10, 14, 19, 14, 20, 6], [22, 27, 38, 37, 13, 1, 9, 3, 19, 3, 8, 1, 9, 3, 37, 6], [10, 14, 19, 13, 10, 14, 19, 13, 10, 19, 39, 1, 9, 3, 37, 20, 9, 3, 9, 6], [14, 19, 13, 20, 20, 39, 36, 10, 19, 13, 14, 19, 6], [22, 13, 22, 8, 19, 22, 13, 10, 20, 38, 13, 14, 19, 18, 34, 10, 14, 19, 13, 14, 14, 22, 38, 37, 13, 22, 8, 22, 13, 22, 6], [8, 20, 24, 19, 13, 10, 19, 27, 39, 36, 22, 13, 19, 8, 36, 14, 19, 22, 6], [10, 19, 13, 14, 22, 39, 37, 13, 19, 44, 10, 19, 43, 10, 22, 18, 34, 37, 30, 13, 10, 14, 14, 19, 19, 3, 2, 39, 20, 20, 3, 19, 19, 13, 20, 20, 20, 20, 6], [13, 10, 14, 9, 22, 3, 14, 22, 38, 37, 26, 22, 13, 20, 32, 1, 9, 9, 6], [13, 20, 3, 13, 19, 3, 10, 19, 24, 20, 13, 20, 35, 1, 9, 9, 13, 14, 19, 13, 9, 3, 9, 22, 10, 20, 19, 19, 13, 10, 19, 6], [20, 24, 19, 13, 20, 20, 27, 39, 14, 22, 13, 14, 19, 8, 19, 6], [20, 24, 14, 14, 22, 38, 36, 20, 24, 19, 8, 36, 19, 13, 10, 19, 6], [13, 20, 8, 20, 20, 3, 36, 22, 38, 36, 22, 32, 34, 14, 14, 22, 13, 14, 19, 6], [10, 22, 3, 37, 13, 20, 24, 44, 14, 22, 3, 2, 27, 38, 36, 32, 20, 20, 24, 19, 3, 8, 26, 19, 18, 34, 14, 32, 20, 24, 6], [13, 14, 22, 14, 13, 20, 8, 20, 3, 10, 19, 18, 34, 14, 22, 8, 34, 19, 6], [8, 14, 22, 24, 14, 22, 13, 26, 14, 19, 13, 20, 13, 10, 14, 19, 13, 10, 19, 38, 25, 14, 13, 36, 13, 14, 14, 19, 27, 6], [13, 13, 19, 22, 13, 20, 3, 10, 20, 39, 20, 32, 34, 14, 22, 13, 10, 19, 6], [8, 25, 39, 36, 14, 19, 6], [13, 10, 36, 19, 3, 22, 38, 3, 14, 22, 18, 34, 37, 13, 20, 39, 32, 22, 13, 26, 14, 19, 13, 10, 19, 24, 14, 19, 6], [20, 24, 36, 19, 13, 20, 20, 39, 19, 13, 26, 14, 19, 6], [13, 10, 19, 19, 3, 14, 22, 35, 13, 14, 19, 13, 19, 6], [13, 10, 22, 3, 37, 13, 36, 19, 22, 8, 10, 14, 22, 3, 10, 22, 18, 27, 34, 25, 13, 22, 13, 22, 13, 10, 19, 6], [32, 34, 10, 19, 3, 14, 14, 22, 18, 34, 32, 34, 14, 19, 6], [10, 22, 24, 14, 22, 44, 18, 34, 37, 13, 10, 19, 27, 32, 34, 26, 16, 19, 19, 3, 16, 14, 19, 8, 16, 19, 3, 2, 39, 20, 20, 3, 19, 13, 10, 14, 19, 8, 19, 19, 13, 10, 20, 13, 20, 20, 24, 20, 20, 13, 20, 6], [14, 19, 18, 34, 34, 20, 20, 13, 10, 28, 14, 14, 19, 6], [8, 3, 22, 38, 3, 14, 19, 39, 27, 14, 32, 34, 10, 20, 20, 20, 19, 6], [27, 3, 14, 19, 18, 34, 19, 13, 14, 22, 3, 39, 20, 20, 3, 10, 19, 13, 14, 14, 22, 13, 10, 20, 20, 20, 13, 20, 8, 20, 20, 13, 20, 20, 6], [13, 22, 3, 13, 19, 3, 10, 14, 19, 18, 34, 19, 19, 22, 13, 20, 3, 34, 10, 22, 13, 20, 8, 34, 25, 32, 20, 6], [44, 10, 19, 18, 34, 32, 34, 19, 30, 27, 13, 10, 14, 19, 8, 13, 10, 14, 19, 19, 3, 2, 39, 20, 20, 24, 20, 20, 6], [22, 13, 10, 19, 27, 38, 36, 32, 34, 10, 19, 13, 15, 14, 8, 14, 22, 6], [10, 14, 8, 14, 22, 13, 9, 14, 8, 20, 22, 18, 34, 13, 20, 14, 19, 32, 34, 14, 19, 22, 27, 27, 13, 14, 22, 14, 13, 19, 8, 19, 6], [22, 18, 34, 10, 20, 3, 20, 3, 20, 3, 20, 3, 20, 20, 8, 20, 20, 27, 27, 13, 10, 9, 22, 13, 10, 20, 13, 20, 20, 21, 7, 20, 3, 20, 3, 20, 3, 20, 3, 10, 21, 8, 20, 6], [13, 19, 3, 10, 20, 10, 19, 35, 26, 14, 19, 13, 19, 13, 10, 20, 19, 13, 10, 14, 19, 13, 20, 13, 20, 20, 20, 3, 36, 30, 10, 19, 37, 13, 20, 13, 20, 20, 20, 20, 20, 6], [10, 20, 19, 39, 20, 24, 19, 32, 34, 36, 10, 36, 14, 19, 13, 10, 19, 6], [44, 13, 20, 3, 13, 13, 20, 3, 10, 14, 19, 39, 36, 19, 3, 2, 20, 20, 35, 6], [44, 10, 20, 3, 13, 26, 14, 22, 3, 18, 34, 10, 14, 19, 13, 36, 26, 19, 6], [2, 8, 36, 20, 19, 18, 34, 14, 13, 10, 19, 13, 14, 19, 13, 10, 19, 6], [20, 27, 27, 39, 10, 20, 13, 19, 22, 8, 27, 39, 25, 13, 19, 13, 16, 14, 14, 22, 4, 13, 10, 20, 39, 10, 36, 19, 19, 13, 10, 13, 20, 5, 6], [27, 3, 10, 14, 19, 3, 27, 10, 19, 24, 16, 19, 19, 3, 39, 36, 27, 15, 19, 13, 10, 19, 13, 10, 20, 39, 6], [13, 20, 22, 38, 19, 13, 20, 24, 14, 19, 13, 20, 3, 25, 27, 38, 10, 19, 13, 19, 6], [44, 11, 39, 10, 19, 13, 10, 19, 13, 10, 20, 13, 20, 39, 32, 34, 26, 22, 2, 13, 20, 3, 39, 20, 20, 20, 3, 19, 13, 19, 13, 19, 6], [44, 13, 25, 38, 25, 13, 10, 14, 3, 14, 19, 3, 11, 18, 34, 10, 14, 19, 13, 19, 6], [2, 10, 14, 22, 38, 14, 13, 20, 24, 19, 13, 20, 34, 30, 26, 14, 19, 32, 34, 10, 20, 19, 19, 13, 10, 19, 6], [10, 19, 39, 28, 14, 13, 19, 13, 10, 19, 13, 10, 20, 24, 22, 13, 14, 22, 13, 10, 21, 8, 13, 10, 14, 20, 19, 19, 13, 20, 20, 6], [14, 21, 38, 10, 20, 19, 13, 10, 14, 19, 32, 14, 19, 6], [44, 10, 19, 39, 10, 20, 32, 34, 30, 26, 22, 8, 34, 27, 3, 2, 20, 20, 39, 6], [13, 26, 19, 3, 20, 8, 20, 20, 38, 37, 32, 34, 30, 26, 14, 22, 13, 10, 14, 19, 32, 34, 32, 34, 10, 14, 19, 6], [44, 25, 38, 27, 34, 20, 32, 34, 10, 19, 8, 34, 25, 30, 3, 2, 39, 20, 20, 3, 19, 13, 14, 14, 22, 13, 10, 20, 13, 20, 6], [20, 20, 18, 27, 34, 26, 22, 6], [13, 36, 10, 14, 19, 13, 14, 22, 32, 14, 22, 13, 20, 20, 20, 14, 20, 9, 3, 25, 35, 10, 19, 36, 13, 14, 22, 6], [25, 35, 37, 19, 27, 3, 8, 10, 22, 35, 14, 6], [44, 10, 19, 39, 10, 19, 13, 10, 19, 13, 19, 8, 19, 7, 6], [13, 10, 19, 13, 20, 20, 20, 3, 20, 35, 13, 20, 7, 6], [10, 14, 19, 19, 39, 37, 43, 10, 19, 39, 37, 13, 10, 20, 8, 20, 13, 14, 22, 6], [2, 27, 19, 13, 19, 3, 10, 22, 35, 22, 8, 22, 13, 10, 19, 19, 13, 10, 19, 10, 19, 35, 36, 6], [13, 19, 3, 10, 19, 35, 10, 22, 32, 27, 10, 13, 10, 9, 22, 13, 10, 19, 6], [10, 19, 35, 10, 22, 3, 8, 27, 13, 10, 19, 6], [44, 26, 19, 35, 25, 35, 33, 13, 25, 32, 34, 10, 22, 13, 10, 19, 3, 2, 25, 35, 6], [10, 19, 13, 19, 35, 20, 20, 7, 37, 13, 14, 22, 8, 22, 32, 34, 9, 13, 10, 16, 13, 10, 19, 6], [37, 3, 20, 20, 35, 25, 35, 37, 10, 22, 8, 39, 9, 22, 13, 10, 19, 32, 9, 14, 19, 22, 6], [25, 35, 37, 27, 27, 13, 32, 34, 10, 22, 13, 10, 14, 19, 8, 34, 10, 22, 6], [20, 20, 35, 37, 8, 37, 13, 10, 14, 20, 20, 19, 40, 39, 25, 10, 19, 32, 34, 19, 19, 6], [13, 20, 3, 25, 35, 14, 8, 35, 10, 1, 9, 19, 6], [26, 19, 35, 9, 22, 13, 19, 6], [26, 19, 39, 27, 19, 13, 14, 19, 6], [25, 35, 10, 14, 19, 41, 35, 22, 8, 35, 22, 3, 8, 25, 18, 27, 27, 34, 27, 6], [13, 26, 19, 25, 35, 10, 19, 8, 19, 13, 10, 19, 41, 35, 26, 19, 8, 27, 39, 25, 10, 19, 7, 13, 22, 41, 38, 25, 35, 25, 19, 7, 13, 22, 8, 22, 41, 35, 25, 8, 38, 25, 35, 37, 27, 7, 8, 13, 19, 22, 14, 13, 13, 10, 14, 19, 13, 26, 22, 3, 25, 35, 19, 13, 10, 14, 19, 6], [20, 20, 24, 19, 27, 39, 10, 19, 13, 10, 14, 19, 13, 19, 19, 3, 43, 22, 13, 22, 38, 36, 8, 43, 14, 19, 39, 37, 10, 19, 32, 34, 6], [10, 9, 19, 20, 20, 35, 35, 37, 32, 34, 22, 13, 20, 20, 24, 14, 22, 6], [22, 35, 13, 25, 35, 36, 32, 34, 22, 24, 22, 32, 34, 10, 19, 13, 10, 19, 24, 9, 20, 20, 20, 6], [10, 19, 35, 13, 26, 19, 32, 34, 15, 14, 22, 6], [44, 11, 39, 14, 19, 13, 19, 22, 8, 22, 32, 34, 19, 22, 3, 2, 39, 20, 20, 3, 10, 19, 19, 8, 19, 19, 13, 20, 20, 6], [44, 27, 22, 32, 34, 10, 22, 38, 27, 13, 10, 19, 6], [2, 8, 29, 14, 3, 25, 39, 22, 3, 27, 22, 3, 41, 38, 37, 13, 27, 13, 10, 19, 6], [10, 14, 19, 37, 13, 20, 13, 21, 13, 20, 3, 10, 20, 3, 20, 3, 14, 19, 3, 35, 13, 44, 14, 19, 13, 14, 22, 2, 39, 44, 14, 6], [2, 10, 19, 39, 14, 19, 19, 22, 38, 27, 37, 13, 22, 27, 44, 38, 10, 19, 2, 13, 20, 20, 35, 3, 13, 16, 38, 27, 37, 6], [19, 13, 14, 19, 39, 37, 13, 14, 22, 13, 10, 14, 19, 8, 27, 6], [20, 24, 19, 19, 39, 19, 19, 13, 22, 13, 9, 22, 40, 35, 14, 22, 32, 14, 22, 13, 10, 14, 19, 6], [13, 14, 22, 13, 14, 19, 19, 32, 22, 3, 20, 39, 36, 26, 19, 22, 6], [8, 22, 13, 14, 22, 13, 19, 19, 38, 36, 6], [10, 22, 3, 36, 20, 20, 20, 20, 24, 20, 20, 8, 20, 21, 7, 38, 19, 14, 13, 14, 19, 22, 3, 36, 32, 10, 14, 14, 19, 6], [13, 36, 25, 3, 22, 7, 13, 14, 19, 7, 38, 32, 22, 27, 10, 14, 22, 13, 40, 10, 19, 18, 34, 3, 8, 27, 34, 30, 10, 14, 14, 22, 8, 22, 6], [19, 13, 20, 20, 39, 14, 13, 20, 20, 8, 14, 13, 20, 20, 3, 20, 20, 24, 19, 19, 6], [22, 38, 11, 39, 27, 10, 19, 13, 10, 19, 43, 22, 38, 27, 14, 13, 25, 38, 13, 20, 20, 6], [13, 10, 19, 24, 20, 20, 20, 3, 14, 19, 22, 18, 34, 22, 24, 22, 8, 34, 14, 22, 13, 14, 3, 14, 44, 22, 2, 40, 18, 34, 22, 6], [14, 19, 22, 3, 13, 10, 14, 19, 3, 34, 19, 8, 14, 19, 7, 13, 14, 19, 19, 13, 10, 19, 3, 22, 13, 14, 22, 3, 10, 19, 13, 10, 19, 6], [8, 20, 20, 39, 25, 39, 36, 22, 6], [13, 10, 22, 35, 13, 19, 3, 13, 19, 3, 10, 19, 39, 37, 10, 15, 19, 13, 19, 13, 10, 20, 20, 20, 13, 20, 20, 3, 13, 10, 19, 27, 39, 10, 16, 14, 19, 13, 10, 13, 9, 22, 41, 38, 10, 20, 13, 10, 14, 19, 19, 19, 6], [22, 38, 20, 20, 39, 36, 10, 19, 13, 36, 37, 19, 22, 27, 27, 6], [21, 13, 20, 39, 20, 20, 9, 13, 10, 16, 9, 22, 13, 26, 19, 13, 14, 19, 6], [39, 10, 19, 24, 19, 3, 20, 20, 3, 36, 20, 20, 39, 44, 10, 19, 13, 22, 32, 34, 25, 8, 34, 13, 25, 38, 19, 27, 3, 43, 13, 19, 25, 38, 27, 34, 25, 27, 13, 10, 6], [2, 20, 20, 3, 19, 13, 19, 13, 10, 20, 20, 19, 13, 19, 3, 39, 20, 20, 24, 22, 13, 19, 44, 38, 27, 13, 19, 3, 2, 8, 37, 13, 14, 22, 6], [27, 13, 13, 22, 13, 14, 19, 3, 27, 3, 25, 39, 10, 19, 18, 34, 36, 15, 19, 13, 19, 19, 22, 14, 19, 6], [20, 20, 24, 22, 35, 37, 13, 22, 13, 20, 20, 20, 6], [36, 13, 10, 14, 19, 13, 10, 14, 19, 13, 10, 14, 19, 19, 3, 10, 19, 39, 37, 14, 13, 20, 20, 24, 16, 8, 16, 3, 36, 10, 19, 24, 14, 9, 22, 3, 20, 20, 14, 19, 20, 20, 8, 19, 20, 20, 6], [8, 13, 10, 14, 19, 3, 26, 19, 35, 37, 13, 10, 14, 22, 13, 26, 14, 19, 6], [44, 25, 35, 14, 13, 19, 8, 22, 8, 22, 36, 19, 3, 2, 39, 20, 20, 3, 10, 19, 24, 19, 6], [44, 19, 35, 14, 3, 19, 22, 35, 14, 3, 8, 11, 35, 10, 19, 13, 22, 22, 6], [2, 20, 20, 35, 30, 13, 9, 3, 36, 10, 19, 24, 14, 19, 13, 9, 22, 6], [26, 14, 19, 35, 10, 14, 19, 6], [27, 32, 26, 19, 3, 10, 19, 35, 32, 19, 13, 10, 22, 3, 37, 13, 10, 19, 6], [27, 3, 20, 20, 39, 3, 10, 19, 35, 36, 19, 36, 13, 19, 26, 9, 14, 3, 8, 27, 14, 3, 19, 22, 7, 10, 14, 14, 19, 13, 14, 14, 22, 8, 22, 3, 14, 13, 25, 14, 3, 13, 14, 3, 14, 19, 22, 6], [20, 20, 35, 32, 34, 30, 44, 19, 2, 13, 10, 19, 24, 19, 8, 34, 19, 3, 8, 25, 27, 35, 10, 14, 22, 36, 13, 26, 19, 6], [9, 35, 14, 19, 19, 3, 40, 35, 14, 14, 19, 8, 35, 30, 10, 14, 14, 19, 13, 19, 19, 6], [10, 35, 20, 20, 3, 41, 35, 32, 20, 13, 9, 3, 14, 13, 10, 19, 8, 22, 13, 22, 35, 32, 34, 6], [44, 36, 10, 19, 27, 35, 26, 19, 3, 2, 39, 10, 14, 20, 20, 3, 10, 19, 13, 9, 22, 13, 26, 19, 6], [44, 25, 35, 10, 19, 3, 26, 19, 6], [25, 27, 35, 13, 19, 8, 14, 22, 32, 34, 13, 26, 22, 6], [2, 13, 20, 20, 35, 8, 35, 19, 8, 35, 32, 34, 19, 3, 20, 20, 35, 14, 22, 8, 27, 35, 10, 19, 14, 6], [13, 9, 8, 9, 3, 25, 35, 13, 8, 35, 19, 19, 13, 10, 19, 19, 6], [14, 13, 20, 20, 3, 20, 20, 35, 19, 22, 13, 10, 19, 44, 19, 19, 2, 19, 3, 10, 19, 19, 37, 32, 34, 14, 22, 32, 34, 19, 13, 10, 19, 6], [25, 35, 19, 19, 13, 10, 19, 3, 35, 22, 3, 35, 10, 19, 19, 3, 35, 8, 35, 10, 14, 44, 14, 19, 2, 19, 13, 14, 19, 8, 35, 37, 13, 10, 19, 20, 13, 44, 19, 13, 10, 19, 6], [2, 44, 25, 35, 10, 14, 19, 7, 25, 35, 25, 27, 27, 3, 2, 39, 20, 20, 3, 10, 19, 13, 10, 20, 13, 20, 20, 41, 35, 20, 20, 13, 10, 14, 19, 14, 19, 6], [25, 39, 13, 13, 13, 20, 20, 25, 35, 30, 22, 13, 19, 8, 39, 36, 32, 34, 10, 19, 6], [20, 20, 20, 3, 10, 20, 14, 19, 3, 27, 39, 20, 20, 35, 25, 32, 34, 13, 19, 6], [44, 25, 35, 25, 15, 13, 14, 19, 13, 25, 38, 27, 37, 13, 14, 22, 3, 2, 39, 20, 20, 3, 10, 20, 19, 6], [13, 10, 19, 3, 22, 38, 3, 20, 20, 35, 25, 13, 36, 19, 22, 7, 14, 22, 32, 34, 30, 32, 34, 19, 19, 8, 36, 19, 19, 22, 6], [13, 22, 3, 25, 35, 32, 34, 32, 34, 19, 22, 8, 27, 3, 27, 32, 34, 10, 19, 13, 26, 19, 6], [44, 25, 27, 27, 35, 25, 30, 3, 2, 39, 20, 20, 3, 20, 20, 24, 19, 6], [44, 25, 18, 34, 25, 36, 19, 13, 10, 22, 13, 10, 19, 19, 6], [2, 10, 14, 22, 3, 27, 3, 35, 20, 20, 13, 14, 8, 27, 14, 32, 22, 6], [20, 20, 39, 25, 27, 35, 25, 32, 22, 41, 35, 25, 10, 19, 6], [22, 35, 32, 34, 6], [22, 35, 25, 25, 35, 36, 27, 27, 6], [13, 13, 36, 19, 3, 25, 35, 22, 25, 35, 25, 18, 27, 34, 14, 32, 34, 27, 28, 6], [20, 20, 24, 14, 19, 35, 27, 36, 25, 34, 22, 13, 10, 19, 24, 19, 19, 6], [8, 10, 29, 14, 19, 13, 22, 35, 19, 19, 13, 22, 6], [14, 22, 13, 26, 22, 13, 9, 8, 9, 35, 10, 19, 13, 1, 9, 13, 22, 13, 9, 22, 7, 14, 14, 19, 32, 26, 14, 19, 13, 1, 9, 6], [36, 10, 19, 13, 10, 14, 19, 35, 27, 27, 14, 32, 25, 3, 20, 20, 39, 6], [8, 22, 13, 20, 20, 34, 25, 35, 14, 32, 34, 7, 14, 27, 13, 19, 3, 27, 13, 19, 8, 19, 6], [20, 20, 20, 3, 10, 19, 19, 3, 39, 25, 35, 20, 20, 35, 32, 34, 25, 19, 27, 13, 25, 18, 34, 10, 14, 19, 40, 18, 27, 34, 14, 19, 6], [27, 3, 20, 20, 35, 14, 13, 10, 14, 19, 13, 10, 19, 19, 19, 19, 6], [14, 20, 3, 13, 36, 10, 19, 19, 13, 20, 3, 20, 20, 39, 25, 35, 32, 20, 9, 22, 13, 14, 19, 36, 13, 25, 35, 27, 37, 26, 14, 19, 22, 27, 6], [43, 19, 22, 35, 37, 27, 9, 22, 27, 13, 19, 3, 25, 39, 25, 35, 22, 13, 10, 14, 22, 19, 8, 35, 10, 22, 32, 22, 6], [20, 20, 39, 25, 35, 10, 14, 19, 8, 39, 26, 22, 35, 14, 6], [44, 25, 35, 36, 32, 34, 22, 13, 10, 14, 19, 19, 3, 2, 25, 39, 6], [44, 27, 9, 13, 10, 9, 22, 35, 19, 22, 6], [10, 19, 35, 19, 3, 19, 3, 19, 7, 22, 25, 27, 35, 6], [2, 20, 20, 39, 13, 25, 27, 35, 32, 34, 34, 20, 20, 20, 24, 14, 19, 22, 3, 27, 13, 10, 19, 13, 9, 19, 14, 22, 13, 22, 37, 27, 13, 14, 22, 6], [27, 3, 25, 39, 3, 25, 35, 32, 34, 10, 19, 32, 19, 13, 26, 14, 22, 18, 34, 13, 36, 27, 13, 10, 19, 6], [44, 10, 22, 35, 26, 19, 3, 2, 25, 39, 6], [44, 10, 14, 19, 39, 27, 8, 10, 19, 27, 39, 25, 38, 14, 6], [25, 27, 35, 19, 41, 35, 25, 35, 13, 25, 3, 41, 35, 25, 6], [10, 14, 19, 25, 35, 35, 10, 14, 19, 6], [2, 20, 22, 8, 22, 34, 20, 20, 39, 36, 6], [25, 35, 22, 13, 10, 14, 19, 10, 19, 27, 41, 35, 25, 35, 25, 14, 19, 3, 13, 13, 10, 19, 35, 27, 37, 13, 19, 3, 10, 19, 35, 27, 37, 27, 6], [44, 10, 27, 27, 39, 10, 19, 13, 25, 35, 30, 32, 34, 10, 14, 14, 19, 3, 2, 39, 20, 20, 3, 10, 19, 13, 10, 19, 3, 41, 39, 27, 19, 13, 20, 20, 20, 24, 22, 19, 6], [20, 20, 39, 13, 25, 35, 27, 10, 22, 13, 10, 15, 19, 3, 36, 7, 44, 25, 35, 32, 34, 10, 2, 22, 6], [20, 20, 39, 20, 20, 27, 35, 32, 19, 22, 13, 10, 14, 19, 35, 14, 6], [44, 38, 25, 34, 14, 19, 13, 25, 6], [2, 20, 20, 39, 6], [44, 27, 27, 6], [25, 38, 13, 10, 19, 6], [25, 38, 25, 38, 32, 34, 10, 19, 32, 34, 25, 6], [41, 25, 35, 35, 13, 36, 10, 19, 13, 26, 14, 22, 6], [2, 20, 20, 39, 13, 43, 10, 19, 35, 37, 3, 25, 35, 32, 34, 10, 14, 14, 19, 13, 10, 19, 18, 34, 6], [25, 39, 25, 35, 20, 20, 10, 14, 19, 8, 35, 25, 18, 34, 34, 25, 19, 19, 6], [20, 20, 35, 6], [44, 25, 35, 19, 13, 44, 25, 27, 38, 32, 34, 25, 14, 13, 10, 19, 6], [2, 25, 35, 14, 3, 2, 20, 20, 39, 6], [44, 25, 35, 13, 19, 35, 37, 10, 19, 13, 25, 6], [2, 32, 10, 19, 8, 19, 13, 26, 22, 8, 14, 22, 7, 14, 27, 13, 10, 19, 13, 10, 19, 13, 14, 22, 7, 20, 6], [20, 35, 14, 14, 19, 6], [10, 19, 19, 13, 40, 25, 35, 37, 35, 37, 13, 22, 3, 22, 8, 22, 41, 35, 32, 34, 13, 26, 19, 6], [14, 22, 35, 14, 19, 3, 27, 20, 20, 3, 13, 10, 14, 19, 19, 19, 13, 40, 25, 35, 6], [10, 19, 35, 27, 34, 10, 22, 13, 20, 20, 24, 19, 3, 36, 27, 13, 25, 35, 22, 34, 28, 13, 10, 19, 6], [44, 10, 19, 32, 10, 19, 13, 19, 13, 13, 23, 10, 39, 25, 38, 37, 32, 34, 10, 14, 19, 13, 43, 25, 38, 36, 26, 19, 8, 26, 19, 22, 13, 10, 19, 3, 2, 35, 10, 19, 19, 6], [22, 13, 10, 20, 19, 35, 13, 20, 20, 35, 14, 3, 8, 27, 35, 10, 19, 35, 43, 19, 35, 36, 37, 6], [10, 19, 19, 44, 35, 25, 3, 2, 39, 20, 20, 6], [27, 13, 13, 10, 19, 3, 20, 20, 39, 3, 10, 19, 35, 27, 32, 34, 20, 20, 13, 10, 14, 22, 19, 40, 18, 34, 37, 10, 22, 8, 10, 19, 13, 26, 19, 6], [8, 14, 22, 35, 30, 10, 19, 14, 13, 10, 19, 19, 6], [13, 9, 22, 3, 27, 22, 3, 35, 37, 6], [13, 20, 20, 20, 3, 27, 3, 10, 22, 7, 27, 13, 10, 19, 19, 7, 35, 14, 6], [44, 25, 39, 14, 32, 34, 32, 10, 14, 43, 19, 25, 38, 35, 32, 34, 3, 2, 39, 20, 20, 6], [27, 3, 22, 35, 13, 10, 22, 40, 35, 10, 19, 24, 14, 14, 20, 19, 13, 10, 19, 6], [13, 10, 19, 3, 10, 22, 35, 3, 44, 25, 38, 23, 10, 22, 6], [2, 14, 22, 38, 14, 13, 20, 20, 6], [44, 25, 35, 10, 19, 13, 19, 3, 2, 39, 20, 20, 3, 41, 35, 37, 10, 19, 22, 6], [44, 25, 38, 27, 27, 13, 41, 25, 38, 13, 27, 14, 19, 3, 8, 41, 25, 35, 37, 14, 22, 13, 10, 13, 25, 6], [2, 8, 14, 22, 27, 38, 10, 19, 39, 19, 13, 10, 19, 13, 36, 22, 8, 22, 13, 36, 14, 19, 22, 6], [39, 20, 20, 3, 10, 19, 19, 3, 44, 10, 19, 19, 19, 39, 37, 30, 10, 19, 13, 22, 6], [11, 18, 34, 22, 36, 41, 25, 35, 6], [2, 20, 20, 39, 25, 35, 14, 13, 25, 35, 25, 18, 27, 28, 34, 14, 32, 34, 19, 3, 8, 13, 25, 35, 14, 13, 14, 22, 6], [20, 20, 3, 13, 9, 3, 35, 14, 6], [13, 10, 14, 19, 13, 20, 20, 3, 14, 19, 35, 27, 14, 13, 26, 19, 3, 20, 20, 39, 3, 13, 44, 25, 38, 14, 10, 19, 18, 27, 34, 37, 25, 6], [13, 19, 27, 35, 19, 3, 19, 38, 37, 32, 34, 7, 41, 39, 13, 10, 19, 6], [10, 22, 3, 22, 18, 27, 34, 10, 19, 13, 14, 22, 8, 22, 26, 22, 38, 25, 13, 10, 22, 27, 32, 36, 14, 19, 22, 6], [10, 19, 19, 13, 10, 27, 14, 20, 20, 20, 39, 14, 22, 7, 44, 41, 39, 10, 19, 13, 10, 14, 19, 9, 6], [2, 25, 27, 39, 25, 32, 34, 22, 8, 22, 6], [22, 13, 10, 14, 19, 37, 20, 21, 3, 37, 32, 22, 13, 10, 19, 13, 20, 20, 20, 20, 3, 38, 10, 14, 22, 6], [13, 14, 14, 22, 3, 11, 39, 27, 10, 19, 13, 10, 14, 19, 8, 20, 21, 6], [41, 39, 15, 3, 10, 19, 8, 20, 21, 38, 10, 37, 13, 10, 14, 19, 3, 20, 3, 10, 14, 19, 13, 20, 20, 8, 20, 24, 19, 3, 20, 24, 20, 20, 20, 6], [14, 22, 13, 22, 8, 19, 22, 38, 14, 3, 10, 22, 8, 22, 38, 6], [14, 22, 3, 19, 8, 22, 38, 10, 36, 36, 19, 6], [8, 10, 19, 22, 38, 27, 14, 32, 10, 22, 25, 13, 22, 38, 25, 38, 10, 19, 13, 14, 19, 6], [44, 13, 25, 35, 4, 10, 19, 22, 5, 13, 26, 19, 3, 25, 18, 34, 10, 14, 19, 36, 32, 26, 22, 8, 22, 13, 25, 35, 27, 19, 3, 2, 39, 20, 20, 3, 10, 20, 20, 3, 20, 3, 19, 41, 39, 37, 19, 19, 6], [25, 8, 14, 22, 38, 14, 19, 22, 18, 34, 10, 19, 13, 14, 22, 3, 40, 39, 32, 34, 19, 19, 6], [44, 25, 39, 13, 13, 20, 35, 32, 34, 14, 14, 19, 22, 32, 22, 13, 10, 14, 19, 19, 3, 8, 43, 19, 39, 10, 19, 3, 25, 38, 26, 22, 38, 14, 13, 14, 19, 3, 2, 39, 20, 20, 3, 10, 20, 3, 20, 3, 19, 8, 19, 13, 10, 14, 19, 19, 3, 21, 13, 20, 3, 40, 39, 37, 14, 19, 6], [14, 19, 22, 38, 37, 13, 9, 9, 22, 10, 19, 13, 10, 19, 32, 22, 27, 13, 19, 13, 14, 19, 6], [10, 29, 27, 14, 13, 10, 22, 38, 20, 24, 20, 8, 20, 19, 13, 14, 22, 7, 10, 20, 19, 13, 14, 22, 3, 13, 20, 20, 20, 7, 8, 20, 20, 20, 20, 24, 20, 20, 20, 8, 20, 20, 20, 6], [22, 22, 13, 10, 14, 22, 38, 27, 14, 3, 8, 26, 19, 13, 22, 39, 14, 6], [13, 20, 3, 20, 3, 20, 3, 20, 3, 20, 3, 20, 20, 3, 20, 20, 8, 20, 3, 22, 38, 25, 38, 14, 19, 22, 6], [19, 39, 44, 27, 13, 9, 9, 2, 13, 26, 20, 20, 14, 22, 38, 37, 37, 13, 26, 19, 9, 22, 27, 3, 13, 16, 22, 13, 10, 14, 9, 22, 6], [13, 9, 22, 13, 20, 21, 22, 24, 22, 38, 27, 37, 37, 13, 10, 14, 9, 22, 6], [10, 22, 13, 10, 19, 38, 13, 9, 22, 6], [20, 20, 8, 20, 21, 38, 10, 16, 19, 22, 6], [20, 20, 3, 19, 13, 19, 13, 20, 20, 3, 10, 20, 19, 40, 39, 20, 21, 3, 39, 25, 39, 27, 37, 13, 36, 19, 22, 6], [25, 27, 35, 13, 14, 22, 35, 27, 37, 6], [43, 37, 32, 10, 22, 40, 37, 3, 25, 35, 25, 35, 14, 6], [20, 20, 3, 10, 19, 3, 8, 20, 20, 3, 10, 20, 20, 20, 19, 19, 3, 35, 13, 10, 19, 14, 20, 13, 20, 19, 22, 13, 20, 20, 8, 20, 21, 18, 27, 34, 37, 13, 10, 19, 13, 13, 26, 19, 32, 10, 14, 19, 6], [25, 35, 10, 14, 19, 7, 36, 9, 19, 13, 10, 19, 37, 13, 10, 20, 19, 7, 32, 34, 10, 19, 13, 19, 22, 32, 10, 19, 20, 6], [13, 14, 13, 10, 22, 7, 14, 19, 13, 14, 22, 3, 14, 19, 13, 19, 3, 8, 19, 8, 19, 22, 3, 13, 19, 7, 19, 27, 10, 14, 19, 13, 10, 14, 19, 19, 3, 20, 20, 39, 3, 10, 19, 22, 18, 27, 34, 27, 14, 3, 13, 26, 14, 19, 35, 14, 19, 8, 27, 14, 19, 13, 19, 22, 6], [8, 20, 21, 35, 13, 9, 13, 9, 22, 6], [20, 20, 35, 13, 9, 6], [13, 20, 22, 43, 22, 24, 19, 13, 14, 14, 22, 39, 37, 3, 10, 22, 35, 13, 20, 20, 35, 13, 10, 14, 22, 13, 10, 19, 39, 7, 13, 10, 19, 13, 14, 22, 13, 14, 22, 18, 34, 6], [20, 21, 13, 10, 19, 39, 13, 16, 10, 19, 22, 13, 14, 22, 8, 14, 22, 32, 19, 22, 6], [20, 20, 3, 14, 19, 13, 20, 20, 3, 39, 13, 21, 20, 8, 20, 38, 36, 44, 10, 19, 22, 38, 13, 36, 14, 13, 22, 8, 19, 19, 6], [2, 25, 35, 22, 13, 20, 20, 44, 27, 38, 2, 36, 14, 22, 3, 8, 25, 39, 27, 34, 13, 10, 22, 38, 14, 6], [43, 20, 20, 27, 35, 27, 13, 9, 3, 25, 35, 10, 19, 13, 20, 20, 6], [20, 35, 14, 6], [13, 10, 9, 19, 32, 22, 3, 20, 35, 20, 20, 18, 27, 34, 37, 13, 25, 35, 10, 44, 14, 19, 2, 13, 10, 20, 8, 20, 22, 6], [8, 13, 9, 3, 20, 35, 10, 20, 20, 19, 40, 39, 20, 20, 3, 40, 28, 35, 19, 13, 20, 6], [21, 20, 8, 20, 38, 25, 38, 14, 13, 10, 22, 13, 20, 32, 34, 8, 34, 20, 20, 6], [20, 20, 35, 25, 35, 10, 19, 13, 20, 21, 8, 20, 20, 13, 10, 20, 8, 20, 20, 20, 20, 13, 1, 9, 9, 6], [10, 14, 19, 3, 40, 39, 9, 19, 22, 13, 14, 14, 20, 3, 35, 22, 13, 1, 9, 9, 13, 10, 19, 13, 20, 6], [20, 14, 20, 39, 10, 19, 8, 14, 22, 19, 6], [10, 19, 19, 39, 9, 14, 22, 6], [10, 20, 13, 20, 8, 20, 21, 39, 32, 34, 26, 19, 13, 14, 19, 13, 19, 36, 14, 22, 6], [14, 22, 38, 10, 19, 13, 14, 22, 13, 14, 19, 13, 22, 18, 34, 34, 14, 19, 8, 14, 14, 22, 13, 20, 24, 3, 20, 24, 8, 20, 24, 6], [8, 22, 38, 14, 19, 13, 25, 38, 13, 10, 19, 13, 22, 36, 14, 22, 18, 34, 32, 10, 19, 13, 22, 6], [20, 20, 3, 19, 19, 13, 19, 3, 35, 10, 19, 13, 14, 19, 13, 14, 19, 19, 44, 18, 34, 37, 27, 6], [2, 25, 35, 10, 19, 18, 27, 34, 27, 37, 14, 19, 8, 27, 37, 14, 19, 40, 39, 27, 34, 22, 6], [19, 22, 38, 13, 20, 20, 20, 20, 18, 34, 20, 20, 24, 19, 3, 40, 18, 34, 37, 27, 13, 10, 19, 13, 10, 19, 32, 10, 14, 19, 13, 10, 20, 21, 13, 20, 6], [10, 20, 20, 8, 20, 20, 38, 14, 19, 13, 19, 3, 13, 39, 20, 20, 3, 13, 13, 22, 43, 10, 19, 24, 19, 39, 37, 6], [10, 19, 35, 13, 9, 43, 10, 20, 21, 13, 20, 3, 14, 13, 10, 19, 22, 13, 26, 19, 3, 35, 13, 10, 20, 19, 13, 26, 19, 32, 34, 14, 19, 13, 10, 19, 13, 10, 19, 19, 13, 21, 24, 19, 6], [10, 19, 35, 10, 19, 13, 10, 19, 3, 36, 10, 19, 13, 14, 3, 14, 8, 14, 22, 6], [10, 19, 13, 10, 14, 19, 35, 27, 14, 19, 13, 10, 19, 34, 13, 27, 14, 22, 3, 8, 10, 19, 35, 37, 13, 22, 13, 14, 22, 35, 32, 34, 14, 19, 6], [10, 19, 39, 37, 10, 19, 24, 22, 32, 34, 14, 22, 32, 34, 14, 22, 13, 10, 19, 13, 10, 20, 8, 10, 21, 13, 20, 20, 6], [14, 22, 38, 37, 26, 22, 13, 19, 13, 19, 22, 35, 25, 13, 26, 22, 13, 19, 8, 14, 22, 6], [20, 20, 3, 41, 20, 20, 35, 32, 34, 13, 19, 19, 3, 27, 39, 37, 10, 19, 13, 25, 39, 19, 6], [20, 20, 39, 19, 19, 13, 10, 20, 20, 13, 20, 20, 8, 20, 20, 6], [10, 22, 38, 37, 13, 10, 19, 39, 36, 14, 14, 22, 13, 14, 14, 22, 6], [15, 10, 19, 3, 20, 20, 35, 32, 34, 10, 22, 13, 36, 13, 22, 32, 34, 10, 20, 8, 10, 20, 18, 34, 37, 13, 44, 22, 13, 14, 8, 14, 19, 3, 2, 27, 22, 6], [8, 10, 19, 24, 19, 13, 10, 14, 19, 19, 39, 14, 22, 6], [44, 43, 14, 19, 39, 13, 14, 19, 3, 11, 39, 32, 34, 10, 19, 13, 19, 32, 34, 22, 13, 26, 22, 3, 2, 39, 20, 20, 3, 19, 19, 13, 10, 20, 20, 20, 6], [44, 10, 14, 19, 13, 10, 19, 19, 39, 13, 10, 19, 39, 37, 37, 3, 13, 13, 10, 19, 39, 2, 13, 36, 10, 14, 19, 6], [20, 39, 9, 13, 10, 14, 14, 22, 36, 27, 14, 19, 13, 14, 22, 6], [8, 20, 20, 39, 13, 20, 20, 24, 19, 18, 34, 14, 19, 6], [44, 10, 19, 13, 14, 22, 3, 8, 10, 19, 13, 40, 10, 19, 35, 37, 3, 27, 38, 27, 34, 10, 19, 13, 9, 13, 10, 28, 14, 22, 32, 34, 19, 3, 2, 25, 35, 6], [13, 10, 19, 13, 22, 3, 14, 19, 13, 19, 36, 14, 22, 18, 34, 13, 10, 19, 13, 22, 6], [44, 14, 19, 18, 27, 34, 13, 10, 19, 32, 34, 14, 22, 8, 32, 34, 30, 22, 40, 38, 19, 2, 8, 32, 34, 22, 40, 38, 20, 24, 19, 3, 10, 36, 19, 13, 14, 19, 3, 36, 32, 10, 20, 19, 6], [10, 20, 27, 39, 13, 1, 9, 9, 27, 13, 14, 19, 13, 13, 10, 14, 19, 19, 13, 1, 9, 9, 6], [37, 19, 13, 9, 20, 20, 22, 18, 34, 15, 14, 19, 35, 20, 24, 19, 22, 3, 8, 10, 14, 19, 35, 27, 27, 27, 13, 14, 19, 6], [10, 20, 14, 19, 35, 9, 32, 9, 13, 14, 19, 13, 9, 9, 22, 6], [13, 22, 13, 19, 3, 25, 35, 10, 14, 19, 13, 20, 6], [19, 24, 19, 19, 35, 27, 13, 10, 19, 24, 14, 19, 13, 9, 9, 6], [13, 20, 3, 10, 16, 19, 13, 10, 19, 27, 14, 3, 14, 19, 35, 27, 9, 9, 22, 6], [10, 20, 9, 19, 13, 10, 16, 14, 22, 35, 9, 32, 9, 6], [10, 19, 13, 10, 9, 16, 20, 14, 22, 35, 27, 13, 27, 3, 36, 9, 32, 9, 6], [8, 10, 15, 20, 19, 19, 3, 40, 39, 19, 22, 3, 35, 9, 32, 9, 6], [10, 19, 22, 35, 10, 19, 43, 20, 20, 8, 20, 8, 20, 13, 20, 20, 35, 25, 27, 27, 38, 36, 19, 40, 18, 34, 22, 13, 14, 22, 32, 34, 13, 20, 8, 20, 22, 6], [10, 9, 22, 35, 13, 9, 6], [20, 13, 20, 20, 24, 22, 38, 37, 13, 10, 20, 20, 20, 20, 6], [10, 22, 13, 36, 22, 37, 13, 20, 35, 27, 37, 27, 13, 10, 19, 3, 22, 35, 3, 13, 14, 13, 10, 22, 38, 14, 22, 37, 32, 26, 19, 19, 22, 3, 36, 25, 14, 19, 22, 6], [8, 22, 3, 36, 13, 20, 18, 34, 10, 19, 36, 14, 14, 19, 27, 3, 27, 35, 30, 22, 13, 20, 22, 13, 10, 19, 6], [44, 10, 19, 13, 10, 22, 40, 38, 37, 13, 19, 27, 35, 10, 19, 32, 34, 3, 2, 35, 20, 20, 3, 14, 19, 13, 19, 22, 13, 20, 20, 20, 24, 20, 19, 6], [10, 16, 19, 35, 20, 20, 3, 40, 35, 9, 9, 32, 9, 6], [10, 20, 3, 20, 3, 19, 39, 37, 32, 10, 19, 13, 20, 13, 20, 20, 13, 10, 19, 13, 10, 37, 19, 13, 13, 1, 9, 10, 19, 40, 39, 14, 20, 6], [20, 20, 3, 10, 20, 3, 20, 3, 19, 19, 41, 39, 19, 22, 3, 35, 10, 19, 27, 39, 10, 19, 44, 10, 14, 19, 6], [2, 20, 20, 35, 20, 20, 27, 35, 27, 13, 19, 22, 38, 37, 32, 34, 13, 22, 6], [10, 20, 19, 19, 37, 13, 10, 19, 19, 3, 20, 20, 20, 3, 35, 15, 6], [25, 35, 9, 32, 9, 9, 6], [20, 20, 39, 37, 10, 19, 19, 13, 20, 20, 8, 20, 20, 3, 13, 40, 10, 13, 26, 14, 22, 18, 34, 37, 13, 1, 9, 10, 3, 8, 1, 9, 9, 6], [13, 14, 20, 22, 42, 22, 38, 13, 10, 20, 19, 3, 20, 13, 21, 20, 3, 37, 13, 20, 3, 35, 26, 19, 34, 9, 9, 32, 9, 9, 6], [20, 35, 9, 32, 9, 9, 7, 22, 13, 20, 3, 10, 20, 14, 19, 36, 19, 3, 35, 9, 32, 9, 9, 6], [13, 14, 19, 22, 3, 20, 21, 20, 35, 15, 13, 9, 19, 13, 10, 19, 13, 9, 9, 32, 9, 9, 6], [10, 20, 19, 35, 32, 34, 37, 13, 10, 19, 13, 20, 20, 13, 20, 13, 1, 9, 10, 19, 6], [20, 20, 21, 8, 20, 3, 10, 20, 19, 19, 3, 35, 9, 32, 9, 9, 13, 36, 10, 14, 19, 13, 1, 9, 9, 13, 10, 1, 9, 9, 14, 19, 27, 14, 32, 26, 14, 19, 36, 19, 6], [20, 20, 20, 3, 20, 20, 24, 19, 8, 14, 19, 19, 3, 35, 10, 14, 19, 27, 39, 14, 22, 37, 13, 10, 19, 6], [25, 35, 10, 19, 24, 19, 19, 39, 14, 6], [25, 27, 35, 13, 13, 10, 22, 3, 8, 44, 36, 10, 14, 19, 13, 19, 22, 3, 10, 19, 39, 32, 34, 14, 22, 13, 9, 6], [2, 20, 24, 35, 9, 9, 32, 9, 9, 8, 20, 20, 24, 14, 19, 22, 3, 8, 22, 3, 35, 9, 32, 9, 9, 6], [10, 9, 22, 35, 25, 35, 13, 10, 14, 19, 19, 13, 40, 20, 18, 34, 10, 19, 19, 13, 10, 13, 20, 24, 14, 22, 13, 1, 9, 10, 6], [27, 13, 10, 19, 19, 3, 20, 24, 21, 35, 9, 32, 9, 9, 13, 19, 13, 9, 9, 6], [13, 10, 14, 19, 19, 35, 10, 19, 19, 14, 19, 3, 26, 22, 38, 37, 13, 9, 19, 6], [13, 14, 20, 20, 35, 36, 20, 20, 13, 10, 19, 19, 3, 20, 20, 24, 22, 35, 9, 32, 9, 9, 6], [20, 20, 3, 40, 27, 39, 13, 9, 19, 13, 20, 20, 3, 35, 36, 20, 20, 22, 13, 22, 13, 10, 14, 19, 13, 20, 20, 14, 19, 40, 18, 34, 14, 13, 9, 22, 13, 20, 20, 24, 19, 6], [20, 24, 37, 9, 9, 32, 9, 9, 6], [10, 19, 19, 35, 25, 39, 37, 26, 22, 37, 20, 13, 26, 19, 22, 19, 6], [10, 19, 19, 35, 26, 19, 35, 37, 13, 22, 13, 10, 19, 19, 3, 20, 20, 20, 3, 44, 13, 10, 19, 32, 34, 14, 22, 13, 10, 19, 6], [2, 20, 20, 39, 37, 13, 9, 20, 24, 22, 3, 20, 20, 3, 20, 20, 20, 20, 8, 20, 20, 20, 20, 3, 41, 27, 10, 19, 35, 25, 35, 10, 9, 19, 19, 13, 20, 24, 8, 35, 32, 34, 10, 19, 13, 22, 13, 20, 24, 14, 19, 6], [20, 20, 35, 9, 32, 9, 13, 19, 13, 9, 22, 6], [10, 20, 3, 20, 3, 14, 22, 19, 35, 25, 39, 32, 34, 10, 44, 14, 2, 19, 13, 26, 14, 14, 19, 37, 20, 9, 6], [13, 10, 14, 19, 3, 20, 35, 14, 19, 13, 1, 9, 9, 3, 8, 9, 22, 10, 19, 3, 13, 19, 13, 1, 9, 9, 6], [10, 20, 20, 20, 39, 37, 14, 22, 13, 22, 41, 38, 32, 34, 14, 19, 13, 22, 41, 38, 25, 15, 13, 1, 9, 13, 19, 6], [10, 22, 3, 37, 32, 13, 16, 9, 19, 19, 22, 13, 14, 14, 22, 13, 10, 14, 19, 3, 38, 37, 32, 10, 19, 13, 22, 13, 10, 14, 19, 3, 41, 38, 10, 19, 39, 37, 13, 14, 19, 6], [10, 20, 22, 38, 13, 10, 9, 19, 40, 39, 19, 41, 39, 15, 13, 1, 9, 13, 19, 13, 10, 19, 8, 19, 13, 9, 8, 15, 14, 22, 44, 13, 10, 19, 13, 19, 8, 19, 2, 32, 34, 10, 19, 13, 10, 19, 37, 13, 19, 9, 6], [10, 19, 39, 13, 14, 22, 13, 10, 19, 24, 19, 3, 20, 20, 19, 3, 19, 19, 8, 22, 13, 10, 22, 37, 13, 10, 19, 6], [19, 32, 34, 10, 19, 35, 37, 14, 13, 10, 19, 13, 14, 20, 3, 43, 20, 35, 13, 10, 19, 35, 10, 19, 14, 13, 13, 32, 9, 22, 13, 19, 6], [22, 38, 37, 13, 9, 3, 43, 10, 19, 35, 19, 3, 13, 25, 18, 27, 34, 19, 13, 22, 41, 38, 27, 34, 26, 22, 32, 34, 37, 6], [14, 22, 38, 37, 14, 22, 32, 10, 20, 13, 14, 22, 3, 36, 14, 19, 6], [13, 14, 19, 3, 10, 20, 27, 35, 13, 10, 14, 22, 6], [44, 10, 19, 39, 10, 19, 32, 34, 3, 13, 19, 3, 10, 19, 13, 26, 19, 3, 2, 35, 20, 20, 20, 3, 19, 13, 10, 20, 20, 13, 20, 20, 21, 6], [44, 10, 20, 39, 36, 22, 32, 34, 10, 14, 19, 32, 10, 19, 3, 2, 35, 20, 20, 3, 10, 20, 19, 41, 39, 37, 13, 22, 13, 22, 41, 35, 22, 13, 14, 22, 8, 39, 25, 35, 10, 14, 20, 22, 37, 13, 14, 19, 6], [20, 20, 35, 13, 22, 41, 38, 19, 18, 34, 37, 19, 22, 41, 38, 27, 34, 14, 19, 22, 6], [10, 22, 18, 27, 27, 34, 13, 19, 43, 25, 38, 22, 6], [20, 20, 35, 11, 27, 18, 34, 14, 22, 13, 40, 22, 18, 27, 34, 10, 19, 32, 34, 25, 35, 37, 14, 19, 22, 6], [36, 30, 14, 22, 13, 10, 22, 18, 34, 10, 20, 30, 8, 34, 19, 13, 10, 22, 3, 25, 35, 6], [10, 19, 22, 24, 19, 35, 10, 19, 19, 10, 19, 3, 37, 13, 20, 20, 19, 20, 20, 3, 32, 34, 13, 10, 19, 6], [10, 20, 20, 20, 24, 20, 13, 21, 35, 10, 19, 13, 9, 36, 10, 20, 19, 19, 6], [20, 20, 3, 10, 20, 20, 19, 41, 39, 10, 20, 24, 14, 19, 19, 3, 35, 13, 22, 38, 37, 13, 10, 20, 24, 19, 13, 22, 13, 36, 19, 13, 10, 19, 13, 43, 10, 19, 39, 25, 8, 32, 34, 10, 19, 13, 36, 10, 14, 19, 40, 18, 34, 13, 19, 6], [20, 20, 35, 25, 35, 13, 22, 13, 10, 20, 8, 10, 20, 20, 3, 40, 18, 34, 10, 19, 22, 13, 22, 3, 32, 34, 10, 19, 14, 20, 6], [13, 10, 19, 3, 25, 35, 3, 10, 20, 20, 35, 25, 13, 19, 22, 18, 27, 34, 37, 13, 22, 13, 14, 19, 8, 19, 19, 6], [20, 20, 35, 20, 22, 35, 10, 20, 20, 24, 14, 19, 13, 10, 19, 6], [8, 13, 10, 22, 37, 13, 14, 22, 3, 20, 20, 20, 13, 10, 20, 19, 19, 13, 20, 3, 35, 22, 13, 44, 36, 32, 27, 34, 10, 37, 19, 18, 34, 13, 19, 19, 19, 36, 37, 6], [2, 13, 10, 22, 3, 10, 20, 35, 13, 19, 36, 27, 32, 22, 25, 35, 13, 9, 6], [10, 19, 13, 10, 20, 35, 13, 44, 11, 39, 37, 19, 37, 13, 14, 22, 3, 2, 8, 25, 35, 32, 34, 43, 10, 22, 35, 37, 32, 22, 27, 6], [22, 14, 13, 10, 20, 20, 24, 19, 35, 13, 14, 22, 35, 27, 10, 19, 13, 10, 20, 24, 22, 13, 10, 14, 19, 6], [22, 38, 13, 13, 25, 38, 19, 13, 22, 3, 10, 19, 18, 27, 34, 30, 13, 10, 22, 13, 22, 6], [22, 38, 19, 19, 32, 34, 10, 19, 22, 13, 10, 19, 8, 10, 19, 6], [8, 25, 38, 37, 14, 22, 13, 19, 19, 8, 35, 10, 19, 32, 34, 34, 14, 22, 6], [10, 14, 22, 35, 13, 10, 20, 35, 36, 10, 22, 32, 34, 10, 19, 6], [13, 10, 19, 13, 14, 22, 3, 14, 22, 38, 37, 32, 34, 22, 24, 22, 13, 19, 36, 32, 22, 13, 22, 18, 34, 14, 6], [10, 19, 13, 14, 14, 22, 39, 10, 19, 6], [27, 3, 22, 38, 13, 28, 14, 14, 19, 13, 14, 19, 3, 8, 27, 14, 20, 20, 19, 20, 13, 20, 3, 20, 6], [13, 20, 3, 10, 19, 35, 10, 19, 19, 32, 34, 25, 35, 36, 14, 19, 9, 32, 34, 10, 20, 20, 19, 19, 6], [10, 19, 7, 10, 19, 13, 20, 32, 34, 14, 22, 10, 19, 6], [44, 10, 19, 13, 26, 19, 22, 35, 36, 32, 34, 25, 13, 9, 8, 9, 22, 3, 8, 25, 35, 14, 25, 35, 36, 32, 34, 32, 34, 25, 13, 10, 19, 3, 2, 10, 19, 35, 13, 10, 19, 6], [14, 22, 38, 1, 9, 27, 7, 13, 20, 3, 20, 35, 10, 19, 40, 18, 34, 37, 26, 19, 13, 9, 19, 6], [20, 20, 3, 9, 3, 35, 25, 39, 14, 13, 22, 32, 34, 41, 25, 38, 6], [44, 22, 38, 27, 36, 41, 25, 38, 6], [25, 38, 30, 13, 14, 22, 8, 22, 7, 8, 19, 39, 10, 19, 6], [43, 25, 38, 10, 14, 19, 3, 10, 13, 10, 14, 25, 38, 37, 32, 10, 14, 19, 6], [2, 13, 26, 14, 19, 3, 13, 19, 13, 19, 13, 14, 19, 13, 10, 20, 19, 13, 20, 3, 20, 8, 20, 3, 25, 18, 34, 30, 27, 28, 6], [10, 19, 35, 32, 34, 26, 19, 13, 19, 3, 8, 35, 7, 44, 25, 38, 36, 32, 34, 10, 14, 19, 6], [2, 20, 19, 19, 22, 38, 10, 14, 19, 6], [19, 20, 20, 39, 36, 10, 21, 20, 13, 20, 20, 13, 1, 9, 9, 3, 36, 25, 35, 10, 44, 19, 32, 34, 8, 34, 2, 25, 13, 36, 10, 22, 24, 19, 19, 6], [10, 19, 39, 20, 21, 20, 3, 10, 19, 19, 19, 13, 40, 20, 20, 39, 10, 19, 6], [20, 20, 3, 10, 21, 20, 19, 3, 27, 35, 37, 13, 10, 19, 13, 20, 3, 40, 35, 37, 13, 10, 19, 14, 19, 6], [10, 19, 35, 10, 19, 13, 10, 19, 8, 19, 19, 13, 20, 9, 6], [13, 26, 19, 3, 20, 20, 39, 10, 19, 27, 35, 20, 3, 8, 10, 19, 35, 32, 34, 10, 19, 13, 10, 19, 6], [10, 19, 13, 10, 19, 35, 10, 19, 24, 22, 38, 36, 10, 19, 6], [25, 35, 14, 22, 38, 14, 8, 35, 32, 34, 13, 13, 10, 38, 36, 37, 13, 20, 20, 6], [20, 20, 24, 19, 3, 20, 20, 20, 3, 35, 10, 19, 39, 27, 13, 10, 19, 24, 14, 22, 13, 14, 19, 6], [20, 20, 35, 10, 19, 14, 19, 39, 37, 13, 20, 13, 20, 20, 6], [20, 20, 3, 41, 18, 34, 13, 10, 14, 19, 3, 35, 10, 22, 38, 14, 8, 13, 10, 19, 13, 10, 19, 18, 34, 14, 6], [13, 19, 32, 10, 22, 3, 10, 19, 39, 10, 19, 19, 36, 10, 19, 13, 36, 8, 36, 13, 20, 20, 6], [19, 19, 37, 7, 10, 14, 22, 19, 35, 10, 15, 19, 19, 13, 10, 20, 18, 34, 10, 19, 13, 14, 22, 13, 14, 22, 40, 38, 14, 22, 6], [10, 20, 13, 20, 8, 20, 21, 19, 37, 13, 9, 39, 10, 19, 13, 14, 19, 20, 22, 13, 22, 40, 38, 10, 19, 13, 36, 10, 19, 3, 14, 13, 19, 19, 8, 22, 6], [10, 19, 27, 39, 19, 13, 22, 40, 44, 38, 3, 38, 8, 38, 19, 6], [2, 19, 20, 22, 38, 10, 14, 16, 19, 13, 14, 19, 13, 14, 22, 3, 36, 32, 10, 19, 13, 10, 20, 20, 20, 20, 13, 21, 13, 20, 20, 6], [10, 19, 35, 13, 10, 22, 38, 27, 34, 10, 19, 13, 19, 13, 19, 19, 22, 8, 13, 10, 22, 13, 19, 22, 38, 27, 34, 10, 22, 13, 14, 22, 6], [19, 39, 20, 19, 13, 19, 13, 22, 13, 14, 19, 22, 6], [20, 20, 20, 20, 20, 35, 37, 22, 13, 10, 14, 19, 13, 26, 22, 32, 10, 19, 14, 20, 3, 9, 22, 13, 36, 10, 14, 19, 32, 9, 22, 13, 19, 19, 13, 36, 9, 14, 22, 13, 10, 19, 19, 6], [10, 19, 35, 37, 13, 36, 32, 10, 22, 13, 44, 22, 2, 8, 36, 25, 18, 27, 34, 37, 37, 44, 13, 25, 35, 27, 37, 36, 10, 22, 36, 30, 14, 22, 6], [2, 8, 20, 20, 20, 3, 10, 14, 19, 37, 13, 10, 20, 20, 20, 3, 35, 20, 20, 35, 27, 34, 10, 14, 22, 13, 19, 3, 13, 25, 35, 34, 10, 19, 24, 14, 19, 13, 36, 27, 13, 10, 36, 19, 6], [36, 13, 10, 19, 44, 39, 27, 37, 10, 19, 8, 19, 3, 2, 20, 20, 35, 13, 25, 44, 18, 34, 14, 13, 10, 19, 36, 10, 19, 8, 19, 2, 13, 10, 19, 6], [20, 20, 27, 35, 20, 20, 24, 22, 35, 27, 34, 10, 19, 8, 10, 19, 13, 19, 6], [10, 19, 39, 14, 32, 34, 13, 10, 20, 20, 13, 20, 20, 3, 40, 39, 37, 32, 34, 22, 6], [20, 19, 39, 32, 19, 9, 6], [22, 13, 10, 14, 14, 19, 13, 20, 20, 35, 36, 22, 19, 13, 10, 20, 19, 13, 20, 20, 20, 20, 20, 20, 6], [13, 10, 14, 19, 3, 10, 19, 39, 37, 20, 3, 10, 20, 3, 20, 3, 19, 19, 19, 3, 8, 26, 20, 20, 20, 20, 20, 13, 36, 32, 34, 10, 14, 19, 13, 20, 20, 20, 13, 19, 13, 20, 24, 14, 19, 13, 10, 14, 19, 13, 10, 19, 13, 20, 9, 6], [10, 14, 9, 20, 22, 35, 13, 22, 28, 10, 19, 6], [10, 19, 39, 37, 32, 34, 9, 22, 6], [36, 32, 10, 19, 7, 10, 14, 19, 13, 10, 19, 19, 13, 10, 20, 19, 35, 10, 20, 19, 13, 20, 3, 20, 8, 20, 6], [20, 20, 20, 3, 10, 19, 13, 20, 9, 13, 10, 14, 19, 19, 13, 10, 19, 13, 20, 20, 3, 35, 10, 19, 13, 10, 20, 3, 20, 3, 19, 13, 10, 14, 19, 6], [25, 18, 34, 13, 14, 19, 19, 19, 6], [20, 20, 3, 9, 3, 27, 39, 37, 13, 19, 19, 8, 19, 13, 10, 22, 19, 13, 10, 20, 19, 24, 19, 13, 10, 20, 20, 13, 20, 20, 3, 37, 13, 20, 6], [20, 20, 31, 20, 20, 35, 25, 39, 37, 10, 19, 13, 19, 32, 34, 22, 8, 14, 19, 13, 20, 3, 20, 3, 13, 20, 20, 6], [22, 35, 27, 37, 6], [10, 19, 19, 35, 10, 22, 38, 13, 9, 9, 14, 22, 13, 19, 3, 19, 8, 19, 19, 13, 9, 22, 13, 19, 6], [20, 20, 24, 14, 19, 35, 10, 14, 19, 13, 27, 36, 13, 26, 19, 24, 36, 22, 13, 27, 9, 19, 13, 14, 14, 19, 22, 3, 13, 19, 19, 20, 20, 35, 10, 37, 19, 13, 36, 13, 10, 14, 19, 6], [27, 3, 19, 8, 19, 22, 35, 10, 19, 22, 3, 8, 35, 13, 10, 15, 19, 10, 22, 24, 22, 38, 13, 14, 14, 19, 6], [20, 35, 25, 35, 10, 19, 13, 15, 13, 10, 20, 19, 13, 9, 14, 14, 22, 13, 10, 14, 9, 22, 6], [10, 19, 27, 35, 13, 13, 10, 19, 25, 35, 9, 22, 3, 8, 27, 1, 9, 3, 13, 10, 19, 6], [8, 20, 3, 20, 24, 19, 9, 19, 19, 3, 39, 27, 27, 6], [20, 3, 9, 13, 26, 16, 14, 22, 3, 35, 25, 35, 9, 19, 13, 9, 14, 14, 22, 13, 9, 6], [13, 10, 22, 3, 20, 35, 10, 19, 32, 20, 3, 40, 35, 10, 14, 19, 8, 35, 10, 14, 19, 6], [10, 10, 22, 35, 13, 14, 22, 8, 35, 10, 19, 8, 19, 6], [10, 20, 13, 20, 20, 8, 20, 35, 22, 13, 10, 22, 32, 44, 34, 14, 25, 35, 2, 10, 19, 13, 14, 22, 3, 36, 32, 10, 19, 19, 6], [44, 10, 22, 38, 32, 10, 19, 13, 10, 22, 24, 14, 8, 14, 19, 3, 2, 10, 19, 19, 35, 6], [20, 24, 20, 20, 20, 39, 35, 25, 39, 36, 36, 10, 22, 13, 14, 14, 22, 6], [44, 25, 18, 34, 32, 34, 13, 36, 37, 14, 19, 3, 2, 20, 20, 20, 20, 3, 35, 13, 10, 37, 19, 13, 25, 35, 13, 10, 14, 19, 19, 13, 26, 19, 24, 19, 19, 6], [10, 22, 3, 25, 35, 3, 35, 44, 14, 32, 14, 19, 6], [2, 20, 35, 10, 19, 36, 3, 44, 25, 38, 14, 13, 36, 37, 19, 32, 19, 3, 2, 10, 19, 13, 19, 14, 13, 20, 13, 22, 37, 13, 14, 22, 6], [14, 22, 38, 27, 35, 10, 19, 13, 36, 14, 22, 32, 34, 10, 19, 40, 18, 34, 14, 22, 6], [8, 10, 36, 19, 39, 13, 14, 22, 27, 37, 13, 14, 27, 7, 14, 13, 22, 36, 14, 22, 13, 22, 8, 36, 14, 22, 7, 13, 36, 13, 14, 14, 19, 6], [10, 19, 39, 27, 37, 13, 14, 14, 19, 13, 14, 19, 6], [27, 27, 11, 38, 37, 10, 14, 14, 22, 13, 10, 19, 6], [8, 13, 9, 13, 10, 22, 13, 19, 3, 20, 20, 20, 20, 35, 10, 19, 27, 15, 13, 10, 20, 19, 3, 36, 32, 10, 19, 6], [10, 14, 22, 38, 13, 22, 14, 32, 10, 27, 14, 19, 19, 6], [22, 38, 13, 25, 38, 14, 19, 32, 19, 19, 13, 20, 3, 13, 19, 13, 14, 22, 27, 38, 25, 6], [10, 20, 19, 13, 14, 22, 39, 37, 14, 22, 13, 27, 36, 22, 13, 22, 8, 22, 7, 22, 20, 8, 20, 38, 6], [35, 13, 10, 19, 19, 18, 34, 14, 22, 3, 20, 20, 35, 3, 44, 10, 18, 34, 10, 19, 19, 6], [2, 10, 44, 14, 2, 19, 27, 35, 32, 10, 19, 14, 19, 43, 10, 19, 13, 20, 35, 13, 20, 35, 10, 19, 32, 34, 10, 19, 19, 32, 34, 26, 19, 6], [10, 19, 35, 37, 32, 34, 27, 9, 9, 22, 4, 1, 9, 5, 3, 8, 20, 27, 35, 32, 34, 25, 13, 27, 6], [27, 20, 3, 20, 35, 25, 35, 10, 14, 19, 32, 34, 10, 19, 19, 13, 20, 19, 9, 22, 28, 6], [25, 27, 35, 13, 13, 20, 3, 25, 35, 9, 22, 32, 34, 10, 19, 13, 10, 20, 14, 19, 3, 8, 9, 22, 27, 3, 25, 35, 9, 19, 32, 34, 10, 22, 19, 13, 20, 19, 6], [10, 19, 35, 25, 39, 37, 32, 34, 26, 22, 13, 20, 8, 20, 6], [10, 22, 35, 25, 38, 27, 37, 13, 32, 34, 32, 34, 10, 19, 32, 34, 30, 13, 10, 22, 6], [20, 8, 20, 35, 25, 35, 27, 36, 3, 8, 13, 19, 13, 15, 14, 22, 18, 34, 6], [20, 20, 35, 13, 22, 35, 27, 37, 10, 22, 3, 8, 13, 25, 35, 27, 34, 13, 16, 13, 10, 22, 13, 20, 6], [14, 14, 14, 19, 22, 37, 19, 35, 25, 38, 28, 37, 14, 22, 6], [44, 9, 19, 39, 27, 14, 3, 2, 20, 20, 3, 10, 19, 13, 20, 3, 10, 20, 20, 13, 20, 20, 3, 35, 6], [44, 19, 18, 34, 14, 3, 8, 13, 16, 22, 18, 34, 37, 6], [22, 7, 20, 20, 20, 35, 32, 34, 20, 20, 20, 3, 40, 39, 9, 19, 22, 8, 14, 22, 13, 1, 9, 9, 6], [22, 35, 27, 37, 6], [20, 39, 10, 27, 37, 22, 19, 37, 13, 14, 20, 20, 20, 20, 20, 6], [19, 7, 20, 20, 20, 35, 10, 19, 13, 9, 13, 26, 19, 22, 32, 20, 20, 13, 1, 9, 9, 13, 19, 8, 22, 3, 36, 10, 9, 19, 19, 19, 13, 10, 14, 19, 6], [20, 35, 37, 13, 20, 20, 20, 8, 20, 20, 6], [20, 20, 20, 3, 40, 39, 8, 39, 10, 19, 13, 19, 19, 22, 3, 35, 20, 22, 35, 9, 19, 32, 1, 9, 9, 13, 1, 9, 9, 10, 19, 28, 6], [22, 13, 22, 14, 15, 13, 9, 19, 35, 9, 19, 32, 1, 9, 9, 13, 1, 9, 9, 6], [20, 20, 13, 20, 35, 25, 18, 34, 9, 19, 19, 22, 8, 10, 22, 19, 13, 20, 27, 36, 32, 20, 20, 20, 13, 10, 20, 6], [10, 19, 35, 25, 35, 10, 19, 13, 19, 32, 27, 34, 27, 37, 22, 6], [14, 20, 3, 10, 19, 27, 35, 10, 14, 19, 19, 13, 20, 3, 20, 20, 3, 13, 20, 6], [20, 35, 10, 19, 13, 10, 14, 8, 14, 22, 27, 18, 34, 27, 9, 9, 22, 4, 1, 9, 9, 5, 6], [20, 20, 20, 20, 3, 40, 39, 14, 19, 19, 3, 35, 25, 35, 14, 19, 13, 14, 19, 19, 40, 18, 34, 14, 19, 19, 6], [13, 20, 20, 20, 9, 19, 17, 7, 14, 19, 37, 19, 13, 9, 14, 22, 8, 22, 13, 10, 9, 16, 14, 22, 13, 37, 13, 20, 20, 20, 6], [17, 7, 14, 14, 19, 6], [37, 19, 9, 19, 6], [20, 20, 20, 35, 10, 19, 1, 9, 9, 14, 14, 19, 3, 36, 10, 14, 19, 19, 40, 39, 10, 36, 14, 19, 13, 19, 19, 6], [13, 20, 3, 10, 14, 19, 35, 14, 19, 8, 36, 22, 18, 34, 13, 10, 37, 1, 9, 9, 32, 1, 9, 9, 14, 19, 13, 10, 14, 19, 6], [8, 19, 22, 35, 19, 13, 25, 35, 32, 34, 10, 1, 9, 9, 14, 19, 13, 10, 19, 32, 34, 10, 19, 13, 14, 19, 22, 3, 36, 14, 19, 13, 10, 19, 27, 27, 13, 10, 19, 32, 34, 32, 15, 14, 19, 22, 6], [44, 13, 10, 19, 22, 3, 11, 39, 37, 10, 19, 13, 10, 19, 13, 14, 22, 13, 10, 19, 19, 3, 26, 14, 19, 3, 2, 35, 20, 20, 20, 3, 19, 8, 14, 14, 19, 6], [44, 13, 19, 3, 14, 19, 22, 13, 9, 38, 10, 14, 19, 3, 13, 16, 13, 19, 6], [2, 13, 10, 19, 3, 10, 19, 35, 25, 35, 32, 34, 30, 26, 16, 19, 8, 44, 34, 14, 22, 2, 13, 19, 22, 6], [10, 1, 9, 9, 14, 19, 39, 9, 22, 10, 19, 6], [27, 36, 10, 14, 19, 3, 10, 19, 35, 25, 18, 34, 35, 10, 14, 19, 13, 1, 9, 9, 3, 8, 9, 22, 10, 19, 6], [10, 19, 28, 3, 25, 35, 19, 13, 1, 9, 9, 3, 8, 9, 22, 10, 19, 6], [19, 35, 9, 19, 32, 1, 9, 9, 13, 1, 9, 9, 6], [10, 19, 27, 39, 10, 19, 13, 15, 14, 32, 14, 14, 19, 22, 13, 40, 32, 34, 22, 6], [37, 32, 10, 19, 3, 10, 19, 35, 25, 35, 36, 26, 20, 20, 3, 20, 3, 19, 32, 10, 19, 8, 19, 19, 6], [10, 19, 35, 32, 34, 13, 14, 22, 13, 19, 6], [44, 10, 39, 10, 19, 40, 39, 37, 13, 19, 22, 28, 27, 13, 10, 14, 19, 13, 10, 19, 8, 27, 10, 19, 39, 36, 28, 27, 8, 25, 38, 27, 27, 37, 3, 2, 35, 20, 20, 3, 19, 19, 13, 20, 3, 20, 8, 20, 6], [44, 25, 38, 10, 19, 39, 14, 19, 13, 10, 19, 6], [2, 19, 24, 19, 35, 37, 13, 22, 35, 6], [20, 19, 22, 38, 36, 37, 14, 19, 36, 10, 27, 14, 19, 6], [19, 13, 10, 19, 39, 13, 19, 22, 38, 36, 22, 14, 13, 13, 22, 13, 10, 19, 13, 10, 20, 19, 6], [20, 20, 6], [4, 20, 20, 3, 20, 6], [5, 7, 20, 20, 20, 3, 14, 19, 8, 14, 14, 19, 13, 20, 20, 20, 20, 3, 35, 37, 10, 19, 13, 10, 19, 13, 14, 8, 19, 19, 3, 36, 19, 19, 32, 9, 6], [10, 19, 35, 22, 13, 10, 14, 22, 19, 3, 37, 13, 14, 14, 19, 13, 20, 19, 22, 6], [13, 19, 19, 39, 27, 14, 13, 10, 19, 37, 13, 14, 20, 14, 22, 3, 22, 38, 13, 14, 19, 39, 37, 34, 10, 19, 13, 10, 19, 8, 39, 37, 10, 20, 19, 13, 36, 13, 14, 22, 13, 10, 19, 6], [13, 10, 14, 19, 3, 22, 35, 10, 20, 19, 39, 37, 37, 13, 10, 27, 14, 19, 13, 14, 22, 3, 13, 19, 13, 10, 14, 14, 19, 13, 22, 39, 37, 37, 13, 10, 19, 24, 19, 3, 36, 13, 10, 19, 6], [20, 20, 3, 13, 20, 20, 20, 3, 39, 13, 13, 10, 19, 39, 37, 14, 22, 13, 10, 19, 27, 27, 7, 14, 19, 35, 32, 9, 22, 13, 9, 22, 14, 20, 13, 20, 20, 7, 14, 19, 13, 10, 20, 19, 19, 37, 32, 26, 14, 22, 39, 37, 19, 22, 32, 14, 22, 3, 27, 13, 19, 22, 6], [44, 14, 4, 19, 5, 39, 10, 36, 19, 13, 10, 19, 3, 2, 35, 20, 20, 3, 10, 19, 19, 13, 20, 20, 13, 20, 20, 3, 44, 8, 25, 38, 27, 37, 25, 18, 34, 6], [41, 39, 41, 18, 34, 13, 10, 19, 3, 13, 9, 32, 9, 22, 3, 13, 14, 19, 39, 32, 34, 6], [2, 13, 14, 20, 20, 19, 19, 3, 10, 19, 35, 37, 13, 9, 22, 3, 27, 13, 9, 22, 14, 20, 3, 8, 13, 9, 22, 3, 27, 13, 9, 22, 14, 20, 6], [19, 35, 37, 13, 1, 9, 3, 27, 13, 1, 9, 14, 20, 6], [13, 20, 20, 3, 10, 14, 19, 35, 13, 19, 13, 9, 22, 3, 27, 13, 20, 24, 20, 19, 13, 9, 22, 6], [20, 20, 3, 10, 14, 19, 13, 20, 13, 20, 13, 20, 20, 3, 35, 10, 19, 24, 14, 14, 19, 13, 10, 19, 32, 22, 13, 22, 13, 14, 19, 22, 8, 19, 22, 8, 10, 19, 13, 10, 19, 13, 19, 39, 36, 13, 10, 22, 6], [25, 39, 13, 10, 19, 13, 20, 13, 10, 14, 20, 19, 32, 20, 20, 24, 19, 13, 26, 19, 13, 20, 20, 20, 20, 39, 37, 27, 37, 6], [25, 39, 10, 14, 19, 13, 10, 20, 20, 20, 8, 10, 20, 20, 3, 27, 27, 13, 10, 14, 14, 19, 19, 13, 10, 14, 14, 19, 13, 10, 20, 20, 19, 19, 13, 14, 20, 20, 20, 13, 19, 6], [10, 14, 19, 13, 20, 13, 10, 9, 14, 19, 14, 19, 19, 37, 13, 27, 1, 9, 9, 39, 37, 19, 13, 10, 19, 13, 22, 36, 10, 22, 18, 34, 13, 14, 22, 3, 36, 32, 20, 20, 6], [25, 39, 14, 13, 10, 19, 19, 18, 34, 37, 30, 6], [27, 3, 22, 13, 20, 38, 13, 10, 19, 13, 15, 20, 19, 22, 39, 37, 19, 36, 13, 14, 22, 6], [25, 38, 30, 13, 10, 22, 38, 32, 34, 30, 22, 13, 14, 20, 20, 19, 8, 38, 19, 13, 10, 20, 19, 18, 34, 14, 13, 22, 13, 10, 20, 38, 6], [10, 19, 27, 35, 14, 19, 13, 14, 19, 13, 10, 36, 20, 19, 3, 8, 22, 38, 13, 10, 19, 13, 14, 22, 39, 37, 26, 22, 28, 13, 20, 20, 13, 20, 14, 22, 6], [22, 35, 10, 19, 27, 35, 28, 36, 10, 19, 20, 13, 10, 20, 19, 22, 24, 19, 6], [10, 22, 24, 19, 3, 40, 39, 10, 19, 13, 10, 36, 19, 3, 35, 13, 9, 19, 13, 20, 3, 13, 20, 24, 9, 19, 3, 8, 27, 13, 14, 22, 13, 10, 19, 13, 9, 19, 6], [10, 22, 35, 10, 19, 35, 14, 27, 13, 10, 19, 13, 19, 22, 35, 37, 26, 22, 13, 10, 14, 19, 8, 35, 36, 13, 10, 19, 13, 9, 3, 40, 39, 10, 36, 19, 19, 6], [8, 16, 35, 10, 19, 35, 27, 15, 13, 10, 14, 19, 13, 19, 6], [13, 10, 20, 20, 13, 20, 20, 3, 19, 13, 14, 19, 37, 13, 1, 9, 10, 19, 3, 13, 9, 22, 6], [37, 19, 35, 10, 14, 9, 9, 22, 6], [13, 27, 19, 13, 20, 20, 20, 3, 19, 35, 37, 13, 1, 9, 10, 19, 6], [44, 10, 20, 20, 2, 18, 34, 27, 37, 30, 22, 13, 20, 13, 26, 19, 13, 9, 3, 8, 10, 20, 19, 27, 39, 22, 13, 22, 36, 20, 19, 13, 10, 19, 6], [8, 10, 13, 10, 19, 22, 40, 35, 44, 20, 2, 22, 13, 19, 22, 9, 22, 27, 38, 27, 36, 27, 10, 22, 6], [10, 22, 38, 37, 22, 13, 14, 13, 10, 9, 19, 22, 8, 14, 19, 22, 40, 38, 10, 22, 6], [8, 10, 22, 38, 27, 13, 22, 3, 8, 10, 22, 38, 25, 18, 27, 34, 14, 22, 43, 26, 14, 22, 38, 6], [27, 3, 22, 38, 36, 27, 3, 14, 13, 25, 38, 3, 10, 19, 24, 19, 3, 20, 20, 3, 39, 36, 10, 19, 7, 8, 34, 14, 14, 22, 32, 34, 14, 22, 8, 34, 36, 44, 20, 2, 32, 10, 19, 6], [13, 10, 14, 19, 3, 20, 39, 36, 32, 34, 22, 32, 34, 22, 32, 44, 10, 20, 20, 3, 2, 10, 19, 13, 44, 20, 2, 42, 22, 18, 34, 14, 13, 9, 6], [20, 39, 25, 39, 36, 19, 22, 6], [44, 25, 38, 14, 32, 34, 3, 2, 39, 20, 20, 3, 14, 19, 19, 13, 36, 6], [44, 25, 38, 36, 10, 19, 27, 13, 25, 38, 25, 39, 10, 14, 19, 6], [2, 8, 3, 39, 10, 14, 19, 13, 10, 19, 19, 13, 10, 19, 3, 44, 25, 38, 13, 25, 38, 25, 25, 38, 15, 19, 3, 25, 18, 34, 44, 20, 2, 13, 10, 19, 3, 2, 20, 24, 19, 39, 13, 10, 19, 19, 39, 36, 37, 13, 19, 22, 40, 38, 27, 36, 13, 10, 22, 6], [9, 19, 19, 39, 25, 39, 20, 24, 19, 39, 10, 44, 14, 19, 2, 13, 10, 19, 39, 37, 13, 44, 20, 2, 22, 18, 34, 32, 34, 13, 19, 13, 10, 14, 14, 22, 6], [44, 20, 2, 39, 27, 10, 14, 22, 19, 13, 10, 19, 13, 20, 9, 13, 10, 14, 19, 10, 19, 27, 3, 36, 32, 20, 20, 20, 6], [20, 20, 13, 20, 39, 10, 22, 38, 36, 6], [8, 22, 13, 22, 13, 14, 14, 22, 13, 20, 7, 20, 3, 20, 7, 20, 7, 20, 3, 20, 7, 20, 3, 8, 20, 3, 20, 3, 38, 25, 18, 27, 27, 27, 34, 44, 20, 6], [2, 20, 20, 3, 10, 14, 19, 13, 20, 3, 10, 14, 19, 13, 20, 3, 13, 19, 3, 39, 10, 19, 39, 44, 37, 10, 14, 19, 32, 25, 6], [2, 44, 13, 10, 22, 25, 35, 37, 3, 11, 18, 34, 37, 10, 19, 13, 10, 19, 6], [11, 35, 27, 6], [2, 20, 20, 3, 10, 14, 19, 13, 20, 3, 10, 20, 19, 13, 20, 3, 39, 44, 20, 2, 39, 10, 19, 24, 16, 22, 8, 25, 39, 44, 37, 6], [2, 8, 25, 39, 3, 44, 25, 38, 14, 3, 14, 3, 14, 8, 3, 27, 3, 27, 14, 13, 20, 6], [10, 20, 20, 20, 13, 20, 39, 27, 37, 10, 19, 13, 20, 6], [20, 20, 3, 10, 19, 24, 19, 13, 20, 3, 35, 14, 20, 13, 20, 18, 34, 14, 19, 22, 6], [20, 13, 20, 39, 19, 13, 10, 20, 20, 20, 3, 37, 13, 10, 20, 6], [13, 10, 19, 13, 14, 19, 13, 19, 22, 3, 10, 19, 13, 14, 22, 38, 36, 27, 14, 13, 22, 7, 36, 13, 25, 13, 22, 8, 36, 22, 13, 14, 19, 6], [27, 18, 10, 19, 34, 13, 27, 36, 26, 19, 13, 14, 22, 6], [20, 19, 3, 35, 13, 44, 20, 20, 20, 13, 10, 20, 3, 2, 39, 13, 32, 34, 30, 6], [37, 13, 20, 3, 20, 3, 36, 19, 20, 20, 3, 20, 35, 26, 19, 10, 19, 13, 10, 19, 32, 34, 22, 10, 14, 19, 13, 10, 20, 19, 19, 6], [10, 19, 39, 14, 22, 13, 22, 13, 19, 19, 3, 14, 22, 13, 14, 22, 13, 41, 39, 13, 25, 38, 26, 19, 3, 8, 14, 22, 13, 14, 14, 22, 6], [20, 22, 38, 37, 14, 19, 13, 10, 14, 19, 13, 19, 22, 13, 10, 19, 32, 34, 14, 20, 24, 14, 22, 8, 14, 22, 6], [13, 9, 19, 3, 37, 44, 20, 10, 20, 3, 2, 22, 38, 30, 10, 19, 25, 38, 32, 34, 10, 27, 14, 19, 6], [13, 10, 19, 19, 3, 10, 19, 39, 10, 22, 38, 14, 32, 34, 10, 13, 10, 14, 22, 40, 38, 14, 19, 22, 10, 22, 6], [13, 27, 9, 22, 13, 26, 19, 3, 20, 39, 37, 10, 14, 22, 8, 37, 10, 19, 13, 22, 6], [20, 20, 3, 13, 9, 3, 39, 14, 26, 20, 20, 19, 19, 35, 37, 13, 10, 19, 44, 20, 10, 20, 2, 19, 6], [10, 19, 24, 22, 35, 10, 14, 19, 13, 10, 19, 13, 22, 36, 32, 10, 19, 24, 19, 19, 3, 19, 8, 19, 19, 7, 10, 19, 22, 25, 38, 38, 14, 6], [44, 25, 39, 27, 10, 19, 13, 19, 40, 39, 37, 10, 14, 19, 19, 3, 2, 10, 22, 35, 6], [44, 25, 38, 13, 10, 19, 39, 27, 27, 37, 20, 3, 8, 25, 39, 36, 14, 19, 3, 2, 39, 10, 19, 13, 20, 20, 6], [25, 39, 20, 35, 27, 27, 37, 13, 10, 19, 13, 10, 19, 32, 34, 6], [22, 35, 37, 37, 32, 10, 20, 20, 19, 13, 10, 19, 10, 19, 35, 37, 3, 25, 39, 3, 36, 25, 15, 10, 19, 13, 35, 37, 6], [25, 39, 3, 27, 3, 25, 39, 27, 9, 13, 20, 20, 24, 15, 22, 13, 22, 13, 19, 6], [20, 20, 3, 27, 27, 3, 39, 27, 34, 10, 22, 32, 34, 13, 10, 19, 3, 36, 32, 26, 19, 6], [10, 22, 22, 38, 13, 10, 14, 19, 18, 34, 36, 30, 20, 20, 24, 14, 22, 6], [44, 25, 27, 38, 10, 20, 20, 13, 10, 19, 32, 34, 14, 13, 26, 19, 13, 25, 38, 36, 32, 34, 10, 19, 13, 25, 3, 2, 39, 20, 20, 3, 14, 19, 19, 8, 22, 19, 13, 20, 20, 3, 20, 6], [44, 10, 22, 13, 19, 19, 27, 27, 38, 13, 25, 38, 10, 27, 14, 19, 2, 13, 14, 19, 22, 3, 25, 39, 6], [10, 14, 9, 22, 35, 22, 13, 27, 10, 19, 13, 14, 22, 3, 36, 20, 20, 8, 20, 20, 3, 8, 10, 19, 35, 13, 22, 13, 20, 20, 20, 8, 20, 20, 3, 22, 40, 38, 27, 34, 14, 19, 36, 8, 18, 27, 34, 37, 13, 32, 34, 10, 19, 13, 10, 14, 19, 6], [10, 20, 20, 19, 39, 26, 19, 13, 10, 19, 19, 35, 10, 14, 19, 3, 8, 25, 39, 27, 34, 10, 22, 32, 34, 13, 14, 22, 6], [44, 25, 38, 27, 34, 14, 13, 19, 19, 3, 2, 25, 39, 6], [8, 20, 20, 3, 10, 19, 24, 19, 8, 19, 3, 39, 20, 18, 34, 3, 13, 16, 27, 3, 13, 19, 22, 6], [14, 22, 13, 10, 19, 38, 13, 1, 9, 8, 14, 22, 19, 1, 9, 6], [4, 25, 39, 3, 13, 19, 3, 37, 13, 37, 19, 6], [5, 36, 32, 20, 20, 3, 20, 20, 20, 3, 26, 19, 19, 3, 35, 8, 35, 10, 9, 22, 13, 10, 19, 19, 6], [10, 14, 8, 14, 22, 35, 30, 13, 22, 3, 25, 39, 3, 8, 10, 19, 39, 22, 13, 9, 22, 6], [37, 13, 14, 22, 18, 34, 37, 27, 13, 10, 19, 24, 14, 19, 3, 20, 20, 39, 7, 44, 25, 38, 27, 34, 8, 25, 38, 27, 34, 6], [25, 38, 27, 36, 19, 19, 39, 27, 14, 3, 2, 25, 39, 3, 44, 8, 25, 18, 27, 34, 13, 19, 2, 13, 10, 19, 35, 32, 10, 19, 13, 25, 27, 35, 30, 10, 19, 6], [20, 21, 7, 6], [20, 20, 20, 7, 20, 20, 35, 26, 19, 19, 22, 7, 13, 25, 35, 15, 10, 19, 7, 19, 32, 34, 15, 13, 9, 22, 13, 14, 19, 13, 20, 13, 9, 6], [25, 35, 10, 22, 3, 27, 19, 22, 3, 18, 34, 37, 13, 26, 20, 20, 19, 13, 13, 20, 20, 3, 10, 19, 8, 19, 13, 19, 22, 13, 40, 25, 27, 35, 9, 19, 6], [25, 35, 10, 19, 39, 25, 10, 16, 19, 13, 14, 19, 19, 13, 20, 6], [20, 39, 36, 10, 19, 13, 19, 13, 19, 19, 3, 40, 25, 35, 18, 34, 37, 13, 28, 13, 1, 9, 9, 13, 9, 8, 1, 9, 9, 13, 9, 6], [25, 39, 32, 34, 10, 19, 19, 32, 26, 22, 13, 10, 19, 6], [20, 20, 7, 20, 20, 20, 3, 20, 3, 35, 20, 20, 20, 8, 20, 3, 20, 3, 13, 19, 13, 19, 13, 26, 1, 9, 9, 19, 6], [10, 19, 35, 37, 37, 13, 20, 20, 3, 20, 6], [20, 20, 7, 20, 20, 8, 20, 24, 20, 20, 21, 19, 3, 20, 20, 3, 35, 10, 19, 19, 13, 26, 20, 19, 19, 32, 20, 8, 20, 3, 20, 20, 3, 10, 20, 20, 19, 6], [22, 35, 27, 37, 13, 10, 14, 19, 3, 40, 35, 37, 37, 13, 20, 8, 20, 3, 20, 20, 6], [9, 20, 7, 20, 20, 20, 39, 26, 14, 14, 19, 19, 10, 19, 6], [10, 20, 20, 19, 39, 13, 19, 22, 3, 10, 37, 13, 19, 22, 13, 22, 37, 13, 22, 6], [37, 13, 20, 3, 20, 8, 20, 3, 20, 20, 3, 10, 1, 9, 9, 19, 39, 20, 24, 14, 19, 8, 26, 14, 14, 8, 14, 19, 6], [20, 21, 7, 20, 8, 20, 35, 25, 35, 26, 19, 13, 20, 21, 3, 10, 20, 20, 19, 19, 6], [20, 7, 20, 21, 3, 20, 3, 35, 20, 8, 20, 3, 10, 20, 20, 22, 8, 22, 19, 6], [22, 35, 27, 37, 6], [20, 21, 20, 35, 25, 18, 34, 10, 19, 13, 26, 1, 14, 14, 19, 13, 37, 13, 20, 20, 20, 3, 40, 35, 10, 15, 14, 19, 13, 20, 21, 6], [20, 21, 3, 10, 20, 3, 14, 19, 19, 3, 35, 20, 13, 25, 18, 34, 1, 9, 9, 13, 22, 8, 34, 10, 13, 10, 22, 32, 34, 13, 9, 19, 13, 26, 14, 22, 13, 1, 9, 27, 6], [10, 19, 39, 37, 32, 34, 30, 10, 14, 19, 19, 13, 9, 14, 19, 22, 3, 20, 20, 20, 8, 20, 20, 6], [13, 20, 3, 10, 9, 22, 3, 13, 26, 27, 37, 36, 19, 3, 20, 3, 35, 1, 9, 10, 19, 3, 8, 1, 9, 9, 3, 13, 20, 21, 6], [13, 20, 3, 20, 35, 10, 19, 32, 1, 9, 10, 19, 3, 8, 1, 9, 9, 6], [19, 3, 20, 21, 24, 14, 19, 19, 3, 20, 20, 3, 35, 13, 10, 19, 13, 3, 13, 10, 14, 19, 3, 20, 21, 18, 34, 30, 13, 10, 19, 19, 13, 27, 1, 9, 9, 6], [13, 1, 9, 9, 13, 40, 18, 34, 37, 32, 10, 19, 3, 36, 13, 1, 9, 9, 3, 25, 35, 6], [10, 1, 9, 9, 3, 20, 20, 35, 3, 44, 39, 25, 10, 19, 13, 19, 20, 39, 26, 19, 6], [25, 38, 14, 32, 34, 26, 19, 13, 10, 1, 9, 19, 13, 14, 6], [2, 25, 35, 32, 34, 3, 27, 3, 43, 14, 20, 21, 18, 34, 26, 19, 6], [20, 20, 35, 13, 10, 19, 13, 20, 21, 39, 39, 10, 20, 18, 34, 32, 44, 27, 34, 26, 19, 13, 25, 38, 36, 32, 34, 25, 6], [2, 20, 3, 27, 3, 27, 35, 20, 21, 24, 19, 19, 3, 36, 25, 13, 10, 44, 27, 14, 19, 37, 32, 34, 19, 3, 34, 22, 8, 34, 25, 13, 36, 26, 14, 19, 19, 6], [2, 10, 19, 13, 20, 35, 13, 20, 21, 24, 19, 7, 13, 23, 10, 19, 22, 38, 7, 18, 34, 13, 22, 36, 27, 1, 9, 32, 1, 9, 10, 19, 13, 19, 6], [10, 15, 22, 3, 10, 19, 35, 3, 18, 34, 13, 37, 22, 36, 37, 32, 14, 19, 8, 10, 19, 13, 20, 21, 24, 22, 18, 34, 37, 32, 34, 26, 22, 13, 10, 14, 19, 6], [20, 35, 13, 20, 21, 39, 27, 37, 13, 14, 22, 13, 20, 3, 43, 10, 20, 20, 39, 27, 37, 20, 21, 13, 36, 30, 26, 14, 19, 13, 10, 19, 37, 13, 20, 8, 20, 6], [4, 10, 19, 39, 37, 25, 18, 34, 13, 10, 19, 13, 10, 19, 13, 10, 19, 6], [5, 20, 27, 35, 20, 21, 24, 19, 39, 44, 14, 14, 3, 14, 3, 14, 8, 19, 22, 3, 2, 8, 35, 27, 34, 6], [20, 20, 35, 19, 32, 20, 21, 24, 19, 39, 37, 44, 27, 14, 6], [2, 13, 20, 20, 20, 20, 14, 19, 19, 3, 20, 21, 35, 13, 1, 9, 3, 27, 9, 22, 6], [10, 20, 20, 3, 36, 32, 19, 13, 19, 22, 3, 35, 14, 22, 32, 34, 13, 14, 22, 8, 22, 10, 19, 22, 37, 13, 22, 6], [10, 19, 35, 36, 15, 22, 13, 14, 22, 8, 22, 3, 36, 13, 9, 22, 6], [25, 27, 35, 10, 14, 19, 36, 19, 22, 32, 34, 14, 22, 8, 22, 13, 14, 22, 13, 14, 22, 36, 13, 10, 9, 19, 19, 6], [14, 22, 27, 38, 37, 13, 10, 22, 24, 14, 22, 6], [44, 19, 24, 19, 3, 2, 20, 20, 20, 20, 35, 3, 44, 39, 10, 19, 13, 10, 14, 19, 32, 34, 19, 19, 19, 13, 14, 22, 8, 22, 13, 26, 19, 13, 19, 19, 22, 6], [2, 13, 20, 3, 10, 19, 35, 37, 25, 18, 34, 22, 8, 22, 32, 34, 37, 13, 10, 14, 19, 22, 40, 38, 27, 37, 37, 13, 19, 22, 6], [10, 20, 20, 19, 22, 35, 10, 19, 22, 35, 27, 14, 13, 20, 19, 22, 38, 27, 37, 25, 35, 32, 34, 19, 19, 22, 13, 14, 22, 8, 22, 6], [19, 22, 3, 36, 10, 22, 13, 20, 3, 38, 37, 36, 10, 19, 13, 22, 32, 34, 14, 22, 32, 14, 22, 8, 22, 3, 40, 27, 38, 13, 27, 19, 13, 10, 19, 22, 13, 10, 20, 6], [25, 38, 13, 14, 22, 37, 13, 14, 14, 22, 27, 38, 15, 22, 13, 19, 8, 27, 18, 34, 10, 14, 19, 22, 13, 22, 6], [25, 35, 27, 34, 14, 19, 13, 10, 20, 19, 6], [44, 8, 27, 3, 11, 39, 32, 34, 10, 27, 14, 19, 32, 34, 10, 19, 3, 2, 35, 20, 20, 3, 19, 19, 13, 22, 13, 10, 20, 20, 13, 20, 20, 6], [44, 25, 38, 13, 10, 27, 14, 14, 19, 6], [2, 20, 20, 20, 4, 20, 3, 20, 6], [5, 35, 10, 19, 24, 22, 3, 36, 13, 19, 22, 38, 13, 27, 10, 13, 10, 14, 22, 6], [44, 25, 18, 34, 14, 13, 10, 22, 13, 14, 14, 22, 3, 2, 25, 35, 6], [20, 20, 8, 22, 27, 38, 10, 19, 32, 34, 14, 19, 19, 13, 14, 22, 8, 22, 3, 36, 19, 22, 8, 14, 19, 22, 13, 14, 22, 8, 37, 14, 19, 6], [10, 19, 24, 14, 19, 18, 34, 32, 22, 36, 9, 22, 8, 15, 6], [10, 22, 18, 34, 37, 32, 34, 10, 19, 13, 9, 22, 10, 14, 19, 13, 10, 19, 6], [13, 10, 19, 3, 10, 19, 18, 27, 34, 37, 28, 13, 9, 22, 6], [13, 20, 3, 10, 20, 20, 19, 35, 10, 19, 27, 39, 10, 19, 19, 8, 19, 22, 13, 26, 14, 22, 3, 8, 39, 32, 34, 36, 25, 30, 13, 10, 19, 13, 10, 9, 19, 19, 6], [25, 35, 20, 27, 39, 32, 34, 25, 37, 13, 26, 14, 19, 13, 10, 20, 9, 3, 9, 3, 19, 6], [20, 35, 26, 22, 8, 22, 27, 38, 10, 14, 19, 19, 13, 22, 6], [20, 20, 3, 14, 19, 13, 20, 20, 20, 24, 14, 19, 3, 35, 20, 22, 38, 37, 19, 22, 13, 14, 19, 13, 9, 6], [20, 35, 36, 10, 19, 22, 13, 22, 13, 26, 21, 20, 20, 22, 13, 10, 9, 19, 19, 6], [10, 14, 20, 14, 19, 3, 37, 13, 19, 13, 19, 3, 18, 27, 34, 10, 19, 22, 6], [20, 20, 35, 25, 39, 20, 32, 34, 10, 19, 27, 6], [20, 20, 20, 35, 25, 18, 34, 28, 13, 1, 9, 9, 13, 9, 37, 22, 13, 36, 22, 6], [10, 14, 22, 3, 37, 13, 19, 13, 9, 3, 18, 34, 37, 13, 20, 20, 20, 3, 10, 20, 20, 3, 20, 3, 19, 13, 27, 37, 20, 21, 20, 3, 20, 3, 20, 6], [10, 19, 3, 10, 19, 36, 19, 37, 9, 14, 22, 6], [20, 20, 20, 3, 14, 19, 13, 20, 20, 20, 13, 14, 20, 3, 39, 10, 19, 13, 10, 19, 22, 19, 13, 20, 9, 6], [20, 20, 18, 34, 20, 20, 20, 3, 9, 3, 41, 39, 13, 20, 20, 14, 19, 13, 20, 9, 6], [20, 13, 20, 20, 20, 35, 25, 39, 37, 22, 13, 14, 19, 22, 13, 20, 20, 3, 13, 25, 35, 13, 19, 39, 14, 8, 25, 39, 27, 37, 10, 14, 22, 6], [10, 22, 35, 37, 13, 10, 19, 36, 19, 35, 13, 25, 39, 37, 26, 14, 19, 32, 14, 14, 19, 22, 13, 20, 8, 13, 20, 6], [14, 19, 3, 10, 20, 19, 19, 35, 10, 19, 32, 34, 14, 14, 19, 13, 22, 13, 10, 19, 19, 13, 9, 6], [27, 3, 10, 20, 8, 20, 3, 43, 29, 13, 20, 13, 20, 20, 24, 22, 38, 3, 38, 14, 19, 27, 13, 20, 20, 6], [20, 20, 3, 19, 19, 13, 20, 13, 20, 20, 3, 35, 10, 20, 20, 20, 20, 20, 3, 44, 27, 3, 11, 38, 10, 13, 10, 19, 41, 38, 13, 25, 27, 13, 10, 14, 19, 6], [25, 38, 3, 8, 25, 38, 14, 22, 38, 3, 37, 41, 26, 22, 38, 3, 8, 25, 38, 37, 22, 13, 22, 41, 13, 10, 19, 18, 34, 32, 34, 14, 22, 6], [2, 25, 35, 3, 44, 11, 39, 19, 27, 14, 6], [2, 20, 20, 35, 27, 14, 13, 41, 10, 14, 22, 35, 8, 43, 10, 22, 35, 37, 6], [10, 19, 19, 27, 35, 32, 34, 13, 10, 14, 22, 3, 8, 35, 10, 19, 35, 32, 34, 26, 19, 32, 10, 14, 19, 19, 13, 44, 36, 19, 39, 13, 19, 13, 19, 6], [2, 20, 13, 20, 20, 39, 37, 37, 27, 13, 10, 19, 24, 14, 19, 3, 13, 26, 14, 19, 36, 9, 19, 32, 1, 9, 9, 3, 8, 9, 22, 10, 19, 3, 13, 10, 14, 9, 22, 13, 9, 13, 10, 14, 19, 6], [10, 19, 27, 35, 25, 18, 34, 10, 22, 8, 35, 30, 9, 19, 13, 26, 19, 19, 3, 27, 36, 19, 32, 28, 13, 9, 13, 13, 9, 6], [25, 27, 35, 10, 14, 19, 32, 34, 27, 13, 10, 20, 13, 20, 20, 13, 10, 19, 13, 19, 13, 26, 19, 19, 32, 10, 14, 19, 6], [20, 20, 20, 35, 26, 14, 19, 32, 9, 22, 10, 19, 13, 9, 22, 10, 19, 6], [10, 37, 19, 39, 14, 20, 9, 32, 19, 13, 19, 20, 9, 6], [10, 20, 3, 14, 19, 13, 19, 22, 8, 14, 19, 22, 35, 25, 35, 10, 19, 14, 32, 26, 19, 19, 13, 1, 9, 3, 8, 9, 22, 10, 19, 6], [13, 10, 14, 19, 3, 10, 19, 35, 14, 19, 13, 1, 9, 9, 3, 8, 9, 22, 10, 19, 6], [10, 19, 27, 35, 10, 14, 19, 6], [20, 20, 3, 14, 19, 19, 19, 13, 10, 20, 22, 8, 14, 22, 19, 3, 18, 34, 19, 13, 20, 3, 36, 20, 20, 3, 9, 3, 41, 39, 36, 6], [20, 20, 18, 34, 13, 10, 19, 13, 10, 14, 19, 6], [20, 24, 20, 35, 25, 39, 37, 26, 22, 14, 37, 20, 13, 26, 19, 22, 19, 6], [10, 19, 35, 22, 13, 19, 13, 19, 20, 9, 18, 34, 19, 13, 9, 19, 10, 19, 13, 10, 19, 19, 6], [10, 19, 19, 35, 26, 19, 35, 37, 13, 22, 13, 10, 19, 19, 3, 20, 20, 20, 3, 44, 13, 10, 19, 32, 34, 14, 22, 13, 10, 19, 6], [2, 20, 20, 39, 37, 13, 9, 20, 24, 22, 3, 20, 20, 3, 20, 20, 20, 20, 8, 20, 20, 20, 20, 3, 41, 14, 19, 35, 25, 38, 10, 9, 19, 19, 13, 20, 24, 8, 38, 32, 34, 10, 19, 13, 22, 13, 20, 24, 14, 19, 6], [43, 20, 20, 3, 19, 13, 20, 24, 20, 20, 20, 13, 20, 20, 3, 35, 10, 1, 9, 19, 19, 13, 26, 9, 20, 9, 20, 10, 19, 3, 14, 19, 22, 8, 22, 13, 10, 19, 35, 6], [44, 10, 39, 10, 19, 13, 26, 19, 19, 3, 2, 20, 20, 35, 43, 25, 35, 10, 19, 13, 10, 19, 13, 20, 20, 3, 44, 8, 25, 35, 32, 34, 25, 30, 27, 14, 6], [2, 25, 39, 13, 26, 19, 10, 16, 19, 20, 24, 20, 39, 37, 3, 8, 13, 15, 13, 9, 22, 14, 3, 25, 39, 14, 32, 34, 27, 6], [10, 19, 39, 10, 14, 19, 13, 20, 20, 20, 3, 8, 25, 39, 27, 10, 16, 6], [20, 20, 9, 20, 20, 20, 35, 30, 10, 19, 13, 10, 19, 19, 13, 1, 9, 10, 19, 6], [9, 13, 10, 16, 36, 22, 13, 10, 19, 19, 39, 10, 19, 13, 22, 7, 19, 37, 13, 19, 3, 13, 14, 19, 4, 8, 27, 37, 3, 13, 10, 19, 5, 3, 8, 13, 27, 14, 22, 6], [13, 22, 3, 10, 19, 35, 10, 19, 13, 22, 7, 20, 14, 22, 4, 20, 3, 20, 3, 20, 3, 20, 5, 3, 20, 20, 21, 4, 20, 8, 20, 20, 5, 14, 22, 4, 20, 20, 8, 20, 20, 5, 3, 37, 14, 22, 4, 20, 20, 8, 20, 21, 13, 20, 3, 8, 20, 20, 20, 13, 20, 5, 6], [10, 14, 19, 22, 35, 13, 19, 13, 1, 9, 32, 1, 9, 10, 19, 6], [13, 10, 14, 19, 8, 27, 3, 27, 3, 10, 14, 19, 39, 37, 13, 10, 19, 13, 14, 14, 22, 6], [10, 22, 38, 37, 13, 19, 32, 34, 10, 19, 3, 8, 25, 27, 39, 13, 11, 39, 10, 19, 27, 32, 34, 30, 13, 10, 16, 14, 19, 3, 13, 14, 22, 13, 10, 14, 19, 19, 13, 10, 19, 6], [20, 18, 34, 10, 19, 24, 19, 13, 14, 22, 6], [20, 24, 14, 22, 13, 9, 8, 9, 38, 1, 9, 32, 1, 9, 10, 4, 13, 13, 10, 16, 13, 22, 13, 19, 3, 20, 20, 3, 40, 39, 27, 1, 9, 6], [5, 6], [10, 22, 38, 27, 14, 3, 27, 3, 13, 19, 13, 14, 14, 22, 13, 14, 22, 6], [20, 20, 3, 10, 36, 20, 3, 27, 39, 13, 27, 27, 1, 9, 10, 19, 13, 10, 15, 19, 13, 9, 7, 10, 27, 14, 9, 39, 1, 9, 6], [13, 20, 3, 10, 13, 10, 19, 22, 38, 36, 13, 1, 9, 10, 19, 6], [10, 14, 20, 32, 34, 10, 19, 19, 35, 10, 9, 20, 13, 20, 20, 13, 20, 6], [10, 9, 20, 39, 1, 9, 6], [20, 20, 13, 1, 9, 10, 19, 39, 30, 13, 10, 19, 8, 20, 24, 20, 13, 20, 20, 13, 20, 39, 36, 13, 10, 19, 6], [10, 14, 22, 13, 10, 20, 20, 34, 37, 13, 19, 27, 27, 6], [20, 20, 24, 9, 20, 20, 20, 20, 3, 13, 19, 3, 39, 1, 9, 6], [20, 13, 20, 24, 19, 22, 18, 34, 10, 19, 13, 20, 3, 27, 6], [10, 9, 22, 13, 10, 20, 13, 10, 20, 3, 9, 13, 10, 29, 14, 22, 13, 19, 27, 13, 10, 19, 3, 34, 37, 14, 19, 22, 13, 14, 22, 27, 6], [13, 10, 9, 19, 3, 25, 35, 28, 7, 20, 20, 3, 1, 9, 7, 20, 3, 1, 9, 7, 20, 3, 1, 9, 6], [10, 14, 20, 19, 3, 20, 3, 39, 27, 37, 26, 9, 20, 13, 1, 9, 6], [13, 20, 27, 39, 20, 20, 20, 13, 1, 9, 10, 19, 3, 20, 20, 24, 20, 20, 3, 10, 1, 9, 20, 13, 20, 3, 8, 20, 20, 13, 1, 9, 6], [20, 24, 20, 20, 20, 9, 4, 37, 27, 13, 26, 14, 19, 5, 39, 1, 9, 3, 13, 39, 20, 24, 20, 20, 9, 6], [44, 11, 38, 14, 19, 22, 40, 18, 34, 10, 15, 22, 3, 2, 39, 20, 20, 13, 20, 24, 3, 9, 13, 10, 16, 19, 22, 13, 20, 6], [44, 41, 39, 14, 39, 13, 25, 39, 36, 13, 14, 22, 27, 36, 30, 6], [25, 38, 36, 25, 27, 13, 15, 22, 38, 36, 28, 14, 6], [2, 19, 22, 38, 27, 37, 10, 37, 19, 13, 10, 22, 3, 20, 20, 35, 7, 44, 25, 38, 37, 10, 14, 19, 13, 19, 13, 22, 13, 10, 9, 8, 9, 3, 40, 38, 13, 1, 9, 32, 1, 9, 10, 19, 6], [10, 13, 10, 15, 22, 3, 27, 13, 1, 9, 32, 1, 9, 10, 19, 8, 27, 3, 27, 38, 10, 19, 6], [2, 34, 20, 20, 20, 13, 20, 20, 6], [25, 39, 37, 27, 13, 22, 43, 10, 22, 38, 27, 4, 10, 19, 35, 9, 5, 8, 39, 13, 10, 14, 19, 13, 22, 40, 35, 10, 14, 9, 22, 13, 9, 6], [20, 20, 20, 27, 35, 32, 34, 25, 13, 1, 9, 10, 19, 3, 8, 43, 10, 19, 13, 20, 20, 35, 3, 44, 39, 10, 14, 8, 14, 6], [2, 25, 14, 10, 19, 6], [36, 10, 19, 13, 27, 1, 9, 10, 19, 19, 4, 1, 9, 19, 5, 3, 25, 35, 22, 13, 10, 19, 10, 19, 36, 25, 32, 34, 9, 13, 9, 22, 7, 17, 5, 27, 3, 10, 19, 39, 27, 14, 4, 9, 22, 5, 7, 17, 5, 27, 3, 25, 39, 14, 8, 25, 18, 34, 25, 4, 9, 22, 5, 7, 17, 5, 25, 18, 34, 10, 25, 18, 34, 4, 9, 22, 5, 6], [10, 19, 35, 37, 13, 14, 22, 27, 13, 10, 14, 9, 3, 8, 27, 13, 13, 25, 35, 37, 14, 3, 36, 32, 9, 22, 13, 9, 22, 6], [44, 25, 35, 25, 35, 27, 14, 3, 2, 35, 20, 20, 3, 19, 19, 13, 20, 24, 13, 20, 3, 20, 3, 9, 13, 10, 14, 22, 13, 14, 20, 3, 44, 8, 11, 38, 22, 13, 27, 13, 27, 14, 22, 13, 19, 6], [25, 35, 26, 9, 22, 7, 8, 25, 38, 37, 6], [2, 20, 20, 35, 13, 25, 39, 15, 22, 38, 37, 30, 13, 22, 38, 27, 34, 32, 34, 10, 19, 19, 27, 34, 13, 19, 14, 30, 6], [27, 13, 11, 39, 19, 19, 13, 14, 3, 10, 19, 40, 39, 14, 22, 13, 10, 22, 18, 27, 34, 6], [44, 11, 18, 34, 19, 19, 27, 3, 2, 35, 20, 20, 3, 44, 8, 13, 10, 19, 39, 37, 13, 8, 39, 32, 34, 3, 25, 27, 34, 37, 8, 34, 25, 39, 14, 10, 14, 19, 32, 34, 25, 32, 26, 19, 6], [2, 44, 25, 39, 27, 19, 13, 10, 19, 19, 13, 10, 22, 3, 2, 35, 20, 20, 6], [44, 25, 38, 32, 34, 13, 36, 10, 14, 20, 20, 20, 4, 9, 13, 20, 20, 24, 21, 5, 8, 10, 20, 9, 20, 3, 8, 10, 20, 6], [22, 38, 37, 10, 19, 36, 30, 8, 25, 38, 27, 36, 22, 40, 38, 32, 10, 22, 6], [2, 10, 39, 43, 10, 19, 13, 10, 22, 39, 36, 27, 27, 6], [8, 22, 41, 38, 13, 10, 19, 38, 27, 28, 14, 13, 25, 35, 10, 14, 22, 27, 6], [44, 25, 18, 27, 34, 13, 10, 19, 39, 27, 27, 3, 2, 35, 20, 20, 13, 20, 20, 20, 13, 20, 20, 6], [44, 8, 13, 25, 38, 10, 19, 39, 37, 8, 25, 18, 34, 19, 27, 14, 13, 15, 6], [2, 20, 20, 39, 37, 22, 13, 10, 22, 4, 13, 20, 20, 20, 3, 27, 1, 9, 5, 27, 32, 34, 30, 19, 3, 8, 25, 39, 36, 32, 34, 10, 19, 32, 14, 14, 21, 8, 21, 8, 21, 13, 10, 1, 9, 32, 1, 9, 19, 6], [19, 39, 3, 13, 19, 3, 10, 14, 19, 32, 34, 13, 41, 39, 8, 41, 39, 27, 3, 8, 25, 18, 27, 34, 37, 6], [19, 22, 18, 27, 34, 20, 20, 13, 19, 3, 8, 25, 38, 32, 34, 20, 10, 20, 3, 27, 36, 10, 19, 13, 1, 9, 32, 1, 9, 6], [25, 39, 27, 10, 19, 13, 19, 7, 9, 9, 20, 39, 10, 14, 19, 3, 8, 3, 13, 20, 20, 35, 3, 22, 38, 26, 14, 22, 13, 19, 6], [25, 39, 14, 32, 34, 13, 10, 19, 13, 10, 14, 22, 38, 27, 27, 36, 13, 10, 19, 6], [13, 10, 14, 19, 13, 10, 20, 3, 13, 19, 3, 25, 18, 34, 9, 20, 20, 8, 20, 3, 27, 10, 13, 10, 14, 19, 20, 4, 13, 20, 5, 3, 27, 27, 13, 20, 9, 8, 20, 13, 20, 8, 3, 13, 10, 19, 3, 10, 20, 24, 20, 9, 20, 9, 6], [13, 10, 16, 14, 19, 13, 10, 19, 36, 13, 10, 22, 38, 3, 25, 18, 34, 14, 32, 34, 43, 10, 22, 38, 6], [13, 20, 25, 18, 34, 27, 14, 41, 24, 14, 7, 19, 41, 39, 27, 6], [20, 20, 39, 10, 14, 19, 19, 13, 20, 20, 6], [22, 13, 10, 36, 19, 38, 36, 19, 13, 10, 20, 20, 32, 34, 14, 19, 22, 3, 8, 25, 39, 27, 14, 13, 10, 14, 19, 18, 34, 27, 6], [10, 19, 13, 10, 20, 24, 9, 19, 22, 39, 14, 19, 39, 37, 14, 13, 14, 22, 3, 13, 14, 22, 13, 22, 38, 37, 6], [44, 10, 19, 39, 27, 36, 3, 2, 39, 20, 20, 3, 19, 13, 10, 20, 20, 20, 20, 6], [44, 13, 25, 38, 13, 10, 14, 19, 13, 36, 27, 9, 19, 19, 3, 25, 38, 34, 10, 19, 13, 10, 14, 19, 3, 2, 39, 20, 20, 20, 20, 20, 20, 6], [27, 3, 10, 20, 20, 8, 20, 20, 38, 10, 19, 27, 27, 39, 10, 19, 13, 19, 6], [44, 25, 38, 36, 28, 32, 36, 10, 37, 19, 13, 36, 10, 19, 32, 10, 19, 43, 27, 10, 14, 19, 13, 22, 18, 34, 3, 2, 35, 20, 20, 6], [20, 19, 22, 38, 36, 32, 10, 20, 32, 34, 30, 22, 3, 8, 14, 22, 38, 32, 34, 36, 15, 19, 27, 27, 6], [44, 25, 38, 10, 19, 35, 37, 36, 10, 20, 32, 34, 28, 8, 10, 27, 28, 13, 25, 39, 32, 19, 3, 2, 35, 20, 20, 3, 19, 19, 13, 14, 22, 13, 20, 20, 20, 6], [10, 20, 35, 10, 14, 14, 22, 19, 19, 13, 27, 9, 19, 19, 32, 9, 19, 13, 10, 20, 9, 19, 19, 19, 3, 8, 39, 37, 10, 19, 13, 19, 13, 6], [10, 19, 13, 10, 20, 35, 13, 19, 3, 13, 14, 3, 39, 37, 14, 13, 14, 22, 6], [10, 20, 20, 3, 13, 19, 3, 35, 13, 19, 19, 44, 39, 32, 34, 2, 13, 10, 14, 19, 13, 10, 19, 6], [8, 13, 10, 20, 19, 3, 10, 19, 35, 3, 44, 10, 19, 13, 19, 22, 35, 15, 22, 13, 10, 22, 3, 36, 19, 19, 3, 19, 19, 3, 19, 19, 19, 8, 19, 19, 19, 6], [2, 14, 22, 27, 35, 37, 27, 13, 16, 22, 3, 27, 44, 13, 14, 3, 14, 22, 14, 13, 19, 3, 19, 22, 8, 19, 22, 6], [2, 8, 19, 27, 35, 37, 13, 14, 13, 16, 22, 6], [13, 10, 14, 19, 3, 11, 38, 14, 14, 22, 13, 19, 39, 36, 32, 10, 19, 6], [13, 10, 19, 3, 20, 22, 18, 34, 37, 13, 13, 32, 34, 19, 6], [14, 20, 22, 13, 20, 38, 37, 36, 13, 15, 19, 7, 8, 14, 13, 10, 14, 20, 22, 38, 37, 36, 14, 10, 19, 6], [20, 20, 35, 25, 39, 44, 37, 2, 13, 10, 19, 24, 14, 19, 3, 8, 39, 27, 34, 44, 10, 19, 13, 22, 13, 27, 40, 18, 34, 25, 13, 19, 6], [2, 44, 11, 39, 27, 10, 19, 13, 19, 3, 2, 35, 20, 20, 3, 44, 8, 13, 25, 38, 25, 32, 34, 10, 19, 13, 25, 3, 25, 18, 34, 25, 39, 27, 13, 10, 9, 19, 19, 6], [20, 20, 8, 20, 20, 35, 26, 37, 22, 19, 32, 34, 27, 1, 9, 9, 35, 37, 14, 8, 10, 19, 18, 34, 36, 22, 32, 22, 13, 10, 19, 13, 10, 19, 6], [13, 10, 19, 3, 22, 18, 34, 9, 14, 13, 10, 9, 14, 22, 37, 6], [10, 19, 39, 10, 19, 32, 34, 1, 9, 19, 19, 13, 9, 19, 22, 14, 9, 8, 39, 32, 34, 9, 14, 22, 13, 9, 22, 10, 19, 6], [10, 22, 3, 40, 38, 19, 9, 3, 18, 34, 37, 13, 1, 9, 10, 6], [20, 3, 40, 39, 8, 39, 22, 3, 35, 13, 20, 20, 20, 39, 37, 32, 34, 10, 22, 40, 38, 27, 37, 13, 14, 22, 6], [20, 3, 10, 20, 19, 19, 3, 39, 30, 9, 19, 13, 20, 6], [20, 20, 3, 10, 19, 19, 3, 35, 9, 22, 13, 10, 19, 13, 20, 3, 20, 3, 35, 10, 19, 13, 10, 20, 20, 20, 9, 35, 10, 14, 19, 13, 20, 6], [10, 14, 19, 13, 20, 24, 20, 20, 20, 19, 8, 10, 19, 35, 13, 19, 20, 6], [10, 19, 19, 32, 34, 10, 37, 19, 35, 9, 6], [19, 35, 25, 39, 27, 34, 10, 14, 19, 6], [25, 35, 25, 39, 37, 22, 32, 34, 22, 13, 10, 19, 19, 6], [10, 20, 35, 25, 39, 32, 34, 1, 9, 9, 13, 22, 8, 22, 13, 19, 3, 8, 35, 10, 22, 18, 34, 37, 13, 20, 39, 27, 32, 34, 10, 14, 19, 19, 6], [20, 20, 3, 19, 19, 19, 13, 14, 19, 3, 35, 10, 20, 18, 34, 13, 14, 20, 8, 27, 14, 20, 32, 34, 13, 10, 22, 38, 32, 34, 37, 6], [13, 25, 18, 34, 19, 13, 14, 22, 3, 20, 20, 35, 3, 10, 14, 19, 18, 27, 34, 10, 19, 32, 34, 30, 1, 9, 9, 13, 20, 22, 40, 38, 13, 20, 6], [13, 14, 19, 3, 10, 20, 18, 27, 34, 10, 14, 22, 7, 14, 22, 22, 6], [8, 13, 14, 19, 13, 10, 19, 19, 3, 40, 39, 37, 14, 13, 10, 19, 13, 36, 22, 22, 3, 20, 39, 27, 14, 32, 34, 13, 19, 32, 34, 19, 6], [44, 10, 19, 13, 20, 39, 32, 34, 7, 18, 34, 14, 19, 13, 26, 19, 19, 3, 27, 36, 13, 15, 19, 22, 32, 10, 19, 3, 2, 20, 20, 20, 20, 35, 13, 10, 19, 37, 13, 19, 14, 19, 32, 10, 19, 13, 22, 6], [44, 32, 34, 10, 22, 3, 8, 10, 14, 19, 3, 14, 19, 39, 14, 6], [2, 10, 22, 32, 34, 37, 14, 19, 18, 34, 27, 1, 9, 9, 13, 19, 8, 34, 1, 9, 9, 13, 36, 22, 6], [10, 14, 22, 3, 19, 13, 10, 14, 19, 24, 14, 14, 36, 3, 18, 34, 13, 7, 7, 1, 9, 9, 13, 14, 22, 3, 32, 34, 37, 20, 8, 32, 34, 20, 9, 3, 9, 6], [7, 1, 9, 9, 13, 14, 22, 3, 32, 34, 37, 20, 8, 32, 34, 20, 9, 3, 9, 6], [7, 1, 9, 9, 13, 14, 22, 3, 32, 34, 37, 20, 8, 32, 34, 20, 9, 3, 9, 6], [10, 20, 27, 35, 25, 39, 32, 34, 1, 9, 9, 13, 14, 19, 19, 22, 13, 20, 6], [25, 18, 34, 20, 9, 6], [19, 13, 10, 22, 18, 34, 14, 13, 14, 36, 13, 20, 39, 10, 19, 13, 10, 19, 19, 3, 36, 10, 19, 13, 10, 14, 19, 3, 20, 20, 35, 6], [10, 20, 35, 25, 39, 32, 34, 1, 9, 9, 13, 10, 14, 19, 13, 19, 32, 34, 20, 13, 10, 1, 9, 9, 19, 19, 6], [22, 35, 13, 20, 8, 10, 37, 13, 14, 19, 18, 34, 10, 19, 13, 1, 9, 9, 6], [10, 36, 1, 9, 9, 18, 34, 37, 13, 10, 19, 13, 14, 20, 22, 3, 14, 22, 13, 20, 8, 14, 22, 13, 14, 20, 3, 10, 20, 35, 6], [13, 10, 14, 9, 22, 13, 9, 3, 10, 20, 39, 13, 25, 18, 34, 32, 34, 13, 1, 9, 9, 8, 1, 9, 9, 3, 36, 13, 25, 39, 32, 34, 13, 10, 1, 9, 9, 19, 19, 13, 10, 19, 13, 20, 6], [20, 20, 20, 35, 25, 35, 20, 20, 20, 13, 10, 19, 19, 6], [22, 35, 27, 37, 6], [20, 3, 10, 19, 8, 19, 13, 37, 22, 8, 14, 19, 37, 13, 20, 3, 20, 3, 39, 14, 22, 13, 27, 1, 9, 9, 3, 20, 35, 6], [22, 35, 19, 13, 20, 24, 19, 19, 32, 34, 10, 22, 19, 3, 36, 27, 13, 27, 6], [19, 22, 8, 10, 19, 10, 35, 27, 6], [10, 20, 20, 20, 20, 35, 15, 13, 10, 19, 28, 32, 34, 13, 9, 13, 14, 36, 6], [8, 36, 22, 13, 10, 20, 20, 20, 20, 35, 27, 27, 13, 36, 22, 3, 9, 32, 9, 6], [14, 19, 22, 35, 13, 22, 13, 10, 14, 14, 19, 13, 20, 19, 10, 19, 6], [36, 19, 13, 22, 13, 14, 22, 35, 10, 20, 19, 6], [22, 35, 37, 13, 10, 19, 22, 35, 13, 22, 13, 10, 19, 13, 20, 24, 1, 9, 9, 19, 13, 14, 20, 20, 35, 27, 27, 6], [10, 14, 19, 35, 28, 13, 9, 22, 20, 13, 22, 35, 32, 34, 22, 13, 14, 19, 22, 6], [8, 13, 10, 19, 13, 10, 19, 13, 19, 3, 19, 22, 38, 14, 32, 34, 22, 8, 34, 26, 22, 13, 36, 41, 13, 14, 38, 37, 27, 14, 22, 13, 14, 19, 35, 14, 19, 13, 14, 22, 6], [13, 37, 3, 10, 14, 19, 22, 24, 19, 35, 10, 19, 24, 19, 19, 39, 32, 34, 27, 6], [10, 20, 20, 24, 20, 20, 3, 10, 19, 13, 14, 22, 13, 10, 19, 3, 35, 13, 10, 14, 19, 39, 13, 10, 19, 13, 14, 19, 6], [13, 14, 19, 19, 7, 19, 22, 35, 27, 13, 14, 36, 6], [20, 20, 19, 35, 9, 9, 22, 6], [19, 22, 35, 27, 6], [10, 20, 24, 19, 14, 19, 35, 27, 10, 19, 13, 10, 19, 3, 8, 1, 9, 13, 10, 1, 9, 13, 19, 19, 6], [10, 19, 35, 32, 9, 19, 6], [10, 19, 35, 6], [13, 14, 19, 20, 20, 36, 10, 19, 35, 13, 9, 22, 8, 9, 19, 37, 13, 9, 22, 8, 9, 19, 6], [20, 20, 8, 20, 20, 35, 10, 9, 19, 19, 13, 14, 19, 32, 9, 9, 19, 4, 1, 9, 9, 5, 13, 26, 14, 14, 19, 35, 14, 9, 37, 13, 9, 9, 19, 10, 19, 28, 6], [14, 19, 28, 13, 35, 32, 9, 9, 22, 13, 9, 9, 22, 10, 19, 15, 6], [20, 20, 35, 25, 35, 26, 20, 20, 20, 20, 19, 32, 10, 19, 37, 13, 22, 13, 10, 19, 6], [22, 35, 27, 37, 6], [20, 20, 3, 37, 13, 20, 20, 3, 39, 27, 9, 22, 8, 39, 14, 22, 8, 14, 22, 32, 19, 6], [20, 39, 10, 14, 22, 3, 22, 8, 19, 22, 19, 6], [20, 20, 20, 8, 20, 20, 20, 35, 32, 34, 20, 20, 20, 13, 1, 9, 10, 19, 3, 8, 27, 1, 9, 9, 3, 36, 30, 10, 19, 13, 10, 19, 22, 19, 6], [10, 19, 39, 10, 15, 19, 13, 20, 8, 20, 20, 32, 34, 20, 20, 19, 8, 34, 14, 13, 10, 19, 40, 18, 34, 22, 1, 9, 10, 19, 6], [20, 20, 35, 10, 19, 13, 20, 8, 35, 25, 18, 34, 14, 22, 6], [27, 3, 25, 39, 27, 27, 35, 10, 22, 32, 22, 6], [27, 19, 3, 20, 20, 35, 25, 35, 10, 20, 19, 27, 27, 13, 22, 13, 44, 14, 22, 2, 36, 19, 22, 6], [20, 20, 35, 25, 39, 27, 37, 10, 22, 8, 13, 44, 22, 38, 36, 37, 13, 14, 22, 3, 8, 19, 39, 27, 36, 13, 14, 14, 22, 6], [2, 25, 35, 27, 34, 6], [22, 35, 10, 16, 19, 27, 14, 13, 20, 20, 3, 10, 14, 8, 14, 19, 3, 18, 27, 34, 20, 20, 27, 13, 10, 19, 13, 19, 39, 37, 6], [44, 25, 39, 37, 13, 26, 19, 13, 10, 19, 19, 3, 2, 39, 20, 20, 3, 10, 19, 19, 13, 20, 20, 8, 20, 6], [44, 25, 39, 32, 34, 13, 25, 13, 10, 14, 19, 6], [2, 20, 20, 8, 20, 27, 34, 10, 9, 19, 19, 13, 20, 20, 6], [20, 20, 39, 9, 19, 13, 20, 20, 3, 40, 13, 19, 39, 22, 13, 20, 6], [20, 39, 27, 36, 10, 19, 6], [20, 20, 35, 27, 37, 13, 10, 15, 19, 37, 13, 20, 3, 36, 25, 39, 13, 1, 9, 10, 19, 39, 44, 10, 16, 25, 18, 34, 13, 20, 20, 13, 25, 39, 10, 14, 19, 6], [2, 20, 20, 19, 35, 1, 9, 10, 19, 19, 32, 34, 13, 1, 9, 10, 19, 3, 13, 20, 22, 35, 14, 13, 1, 9, 8, 20, 35, 9, 22, 32, 1, 9, 3, 10, 13, 20, 20, 20, 20, 14, 36, 6], [20, 20, 20, 3, 20, 19, 8, 14, 19, 19, 3, 35, 20, 8, 20, 20, 35, 10, 19, 25, 35, 36, 13, 20, 20, 13, 25, 27, 35, 10, 19, 40, 35, 27, 1, 9, 9, 13, 19, 8, 10, 14, 19, 13, 14, 37, 19, 6], [27, 3, 10, 14, 19, 39, 37, 13, 14, 22, 3, 36, 10, 19, 13, 14, 10, 19, 18, 34, 6], [27, 3, 25, 35, 3, 10, 19, 39, 32, 34, 30, 44, 14, 9, 9, 2, 22, 13, 19, 8, 34, 10, 19, 13, 19, 19, 6], [25, 27, 35, 13, 10, 19, 35, 26, 19, 13, 25, 35, 27, 37, 32, 34, 20, 20, 24, 14, 14, 19, 13, 36, 13, 25, 18, 27, 34, 10, 19, 13, 25, 35, 20, 20, 24, 19, 6], [13, 10, 19, 32, 20, 20, 20, 20, 20, 20, 3, 20, 20, 35, 20, 20, 32, 34, 26, 19, 13, 20, 6], [25, 35, 27, 14, 43, 20, 8, 20, 20, 18, 34, 13, 20, 20, 39, 25, 27, 6], [20, 20, 35, 25, 38, 27, 27, 37, 41, 26, 14, 19, 18, 34, 3, 8, 25, 35, 27, 19, 30, 10, 19, 13, 10, 19, 19, 37, 13, 36, 20, 20, 24, 19, 6], [13, 14, 22, 3, 20, 20, 39, 37, 14, 22, 13, 10, 19, 19, 19, 6], [13, 20, 20, 39, 27, 37, 14, 32, 34, 13, 20, 20, 8, 20, 3, 10, 19, 22, 19, 3, 10, 19, 27, 39, 10, 19, 24, 19, 39, 37, 13, 10, 19, 13, 19, 6], [10, 19, 19, 39, 27, 9, 19, 13, 10, 19, 3, 16, 37, 13, 14, 22, 3, 8, 18, 34, 32, 34, 22, 13, 22, 13, 10, 19, 35, 37, 6], [13, 10, 14, 19, 3, 20, 20, 35, 1, 9, 9, 3, 8, 1, 9, 10, 19, 3, 27, 13, 1, 9, 9, 3, 8, 1, 9, 10, 19, 13, 15, 22, 14, 6], [22, 35, 32, 1, 9, 9, 13, 1, 9, 9, 6], [10, 19, 19, 36, 10, 20, 13, 20, 35, 20, 8, 20, 32, 26, 19, 36, 10, 19, 19, 19, 13, 22, 32, 20, 19, 19, 6], [20, 20, 20, 3, 37, 13, 20, 3, 20, 3, 35, 25, 39, 20, 8, 20, 24, 22, 13, 22, 13, 20, 3, 37, 13, 1, 9, 9, 3, 10, 14, 19, 13, 14, 22, 8, 10, 19, 32, 34, 20, 27, 6], [13, 20, 3, 20, 20, 35, 10, 19, 13, 14, 19, 13, 20, 13, 20, 20, 20, 3, 10, 19, 8, 19, 13, 10, 20, 13, 20, 20, 13, 20, 41, 35, 20, 13, 10, 9, 32, 34, 19, 6], [20, 20, 35, 10, 19, 13, 37, 13, 10, 20, 3, 8, 14, 35, 10, 20, 32, 10, 19, 13, 20, 8, 20, 6], [13, 20, 20, 3, 20, 3, 10, 20, 8, 20, 19, 35, 19, 6], [20, 13, 10, 20, 13, 14, 14, 22, 39, 36, 27, 15, 13, 10, 9, 22, 24, 22, 6], [22, 13, 10, 22, 38, 10, 20, 19, 24, 19, 13, 14, 19, 18, 34, 10, 14, 19, 13, 14, 14, 22, 37, 13, 14, 19, 13, 20, 6], [27, 13, 20, 8, 20, 38, 13, 10, 14, 22, 7, 27, 3, 10, 39, 37, 30, 13, 19, 13, 14, 19, 13, 10, 20, 6], [43, 25, 38, 39, 13, 10, 19, 13, 20, 14, 19, 13, 20, 6], [10, 20, 39, 10, 19, 13, 41, 25, 39, 13, 22, 32, 19, 7, 20, 39, 11, 38, 14, 22, 6], [10, 14, 19, 35, 30, 13, 14, 14, 22, 13, 10, 20, 39, 36, 19, 13, 10, 22, 13, 19, 19, 3, 27, 13, 25, 39, 27, 9, 13, 14, 22, 32, 34, 37, 13, 10, 14, 22, 3, 37, 13, 10, 20, 20, 20, 6], [10, 22, 44, 18, 34, 10, 19, 13, 10, 19, 13, 10, 19, 13, 10, 19, 13, 26, 14, 19, 3, 2, 39, 20, 20, 3, 20, 19, 20, 19, 3, 41, 39, 37, 13, 20, 10, 19, 27, 36, 10, 36, 22, 13, 19, 8, 19, 22, 6], [44, 25, 38, 10, 14, 19, 13, 36, 10, 14, 14, 19, 3, 2, 20, 20, 39, 6], [44, 20, 22, 18, 34, 10, 15, 19, 13, 14, 19, 2, 13, 20, 6], [10, 20, 19, 27, 13, 10, 20, 19, 24, 19, 6], [9, 14, 19, 13, 20, 24, 19, 35, 10, 19, 3, 43, 10, 19, 13, 20, 24, 20, 20, 35, 27, 10, 13, 10, 14, 3, 14, 19, 13, 14, 22, 32, 10, 19, 13, 14, 14, 22, 13, 10, 20, 6], [44, 25, 38, 13, 25, 39, 27, 14, 13, 10, 14, 19, 22, 4, 13, 10, 20, 6], [5, 32, 34, 28, 14, 13, 10, 22, 8, 22, 13, 10, 14, 22, 3, 2, 35, 10, 19, 3, 20, 20, 6], [13, 10, 14, 19, 3, 27, 3, 25, 35, 10, 19, 13, 36, 14, 14, 19, 32, 14, 19, 43, 14, 14, 22, 3, 27, 20, 3, 38, 36, 15, 14, 22, 6], [22, 13, 14, 22, 38, 36, 30, 20, 38, 37, 27, 13, 10, 14, 14, 22, 3, 13, 20, 20, 24, 19, 13, 20, 20, 20, 20, 13, 20, 20, 8, 20, 20, 20, 24, 19, 13, 10, 9, 19, 19, 13, 20, 20, 3, 10, 19, 13, 10, 13, 19, 20, 24, 29, 14, 14, 19, 6], [27, 13, 10, 22, 35, 19, 3, 10, 22, 13, 19, 35, 37, 27, 37, 13, 10, 27, 37, 19, 13, 20, 13, 9, 20, 19, 3, 20, 20, 20, 20, 6], [10, 20, 19, 39, 37, 10, 9, 19, 19, 37, 13, 15, 13, 1, 9, 9, 13, 10, 14, 19, 3, 20, 20, 20, 6], [8, 25, 39, 37, 32, 34, 10, 19, 13, 10, 19, 6], [20, 39, 37, 32, 34, 20, 20, 22, 13, 26, 19, 3, 36, 25, 39, 10, 19, 36, 32, 34, 20, 24, 14, 22, 13, 36, 25, 30, 13, 10, 19, 6], [20, 20, 35, 14, 14, 19, 13, 26, 22, 13, 20, 6], [10, 20, 20, 20, 3, 37, 13, 10, 14, 19, 3, 14, 20, 20, 20, 3, 14, 19, 35, 20, 20, 20, 20, 20, 32, 34, 20, 20, 24, 19, 13, 22, 13, 20, 44, 32, 34, 10, 19, 36, 22, 41, 38, 19, 32, 10, 14, 19, 22, 6], [2, 13, 20, 20, 8, 20, 22, 38, 10, 19, 13, 22, 24, 19, 32, 10, 20, 8, 14, 22, 18, 34, 10, 14, 19, 13, 10, 19, 24, 19, 3, 10, 19, 13, 14, 14, 14, 22, 18, 34, 13, 10, 19, 13, 14, 19, 24, 22, 6], [13, 25, 38, 22, 13, 22, 8, 19, 22, 3, 14, 22, 8, 19, 3, 8, 19, 19, 6], [10, 19, 39, 10, 19, 13, 22, 13, 10, 14, 6], [10, 20, 39, 25, 39, 14, 13, 22, 6], [44, 25, 38, 27, 27, 13, 25, 27, 38, 19, 13, 10, 14, 19, 13, 22, 25, 38, 37, 3, 8, 25, 38, 25, 13, 14, 19, 3, 2, 20, 20, 39, 6], [10, 22, 38, 37, 13, 10, 22, 18, 34, 29, 14, 13, 22, 38, 13, 36, 13, 10, 22, 40, 18, 34, 29, 27, 37, 6], [8, 25, 38, 27, 37, 41, 10, 18, 34, 6], [13, 10, 14, 19, 13, 22, 9, 22, 27, 3, 10, 20, 22, 35, 13, 20, 35, 27, 37, 30, 13, 14, 22, 25, 35, 37, 32, 34, 6], [10, 22, 19, 13, 10, 14, 19, 35, 27, 14, 32, 34, 22, 6], [44, 27, 32, 34, 10, 19, 19, 39, 14, 39, 27, 34, 19, 3, 2, 39, 10, 20, 13, 20, 20, 8, 20, 19, 6], [44, 25, 38, 32, 34, 41, 27, 39, 14, 13, 25, 6], [2, 10, 19, 13, 36, 30, 22, 39, 14, 32, 34, 19, 3, 10, 22, 38, 3, 10, 19, 43, 27, 10, 20, 39, 14, 22, 6], [13, 19, 3, 13, 10, 14, 19, 10, 9, 22, 18, 27, 27, 34, 13, 14, 22, 37, 13, 19, 22, 6], [13, 27, 3, 10, 19, 13, 27, 9, 20, 8, 20, 20, 20, 22, 38, 37, 10, 19, 36, 19, 22, 6], [13, 20, 3, 25, 38, 32, 34, 10, 19, 13, 22, 10, 22, 18, 34, 6], [44, 27, 13, 27, 3, 11, 39, 19, 3, 2, 39, 10, 20, 19, 6], [44, 10, 22, 38, 36, 19, 6], [2, 20, 20, 35, 32, 10, 19, 6], [13, 19, 39, 13, 14, 14, 22, 13, 10, 20, 3, 20, 24, 14, 19, 22, 38, 27, 36, 26, 19, 13, 20, 24, 15, 19, 6], [13, 20, 3, 10, 14, 19, 39, 19, 32, 14, 22, 8, 19, 6], [8, 13, 14, 14, 22, 3, 25, 27, 39, 10, 36, 19, 13, 19, 8, 27, 19, 19, 6], [34, 10, 19, 13, 20, 20, 20, 3, 10, 20, 3, 20, 3, 19, 13, 14, 14, 22, 3, 40, 9, 22, 27, 38, 26, 22, 13, 20, 13, 10, 19, 19, 6], [27, 32, 34, 34, 10, 14, 22, 36, 10, 14, 19, 36, 32, 34, 20, 3, 14, 20, 35, 32, 20, 8, 20, 3, 9, 13, 20, 24, 16, 36, 22, 3, 13, 19, 6], [13, 10, 14, 19, 3, 20, 35, 20, 13, 20, 24, 14, 19, 6], [25, 27, 35, 20, 13, 20, 19, 19, 13, 9, 20, 19, 22, 7, 9, 40, 39, 30, 19, 22, 8, 10, 40, 39, 19, 22, 6], [13, 14, 19, 3, 20, 35, 37, 1, 9, 9, 13, 26, 14, 22, 13, 20, 6], [10, 19, 27, 35, 20, 19, 32, 10, 14, 14, 19, 6], [44, 25, 38, 10, 13, 10, 19, 19, 13, 25, 35, 13, 25, 13, 10, 14, 19, 3, 2, 39, 20, 20, 3, 10, 20, 19, 19, 6], [27, 3, 13, 14, 14, 19, 22, 3, 10, 14, 20, 14, 19, 39, 9, 42, 19, 8, 19, 18, 34, 37, 13, 14, 14, 19, 6], [10, 14, 22, 38, 14, 14, 20, 22, 13, 14, 22, 8, 22, 3, 27, 36, 26, 19, 13, 22, 13, 14, 22, 18, 27, 34, 6], [14, 22, 38, 37, 14, 8, 14, 20, 22, 13, 22, 3, 8, 13, 14, 22, 3, 10, 19, 39, 37, 30, 6], [13, 10, 14, 19, 13, 9, 27, 3, 14, 22, 35, 1, 9, 9, 13, 19, 22, 13, 20, 22, 3, 10, 9, 19, 19, 13, 10, 19, 13, 10, 13, 9, 3, 39, 20, 20, 20, 6], [10, 20, 3, 20, 3, 19, 39, 22, 13, 14, 22, 6], [13, 19, 3, 13, 19, 3, 10, 13, 10, 14, 22, 35, 14, 19, 13, 14, 20, 22, 6], [14, 14, 19, 13, 14, 14, 19, 39, 10, 19, 13, 22, 36, 14, 22, 19, 13, 14, 3, 27, 14, 20, 22, 3, 14, 13, 20, 20, 20, 20, 6], [27, 10, 19, 3, 25, 35, 37, 13, 20, 20, 20, 35, 37, 10, 9, 19, 19, 13, 20, 20, 3, 40, 39, 20, 20, 24, 14, 20, 20, 6], [13, 10, 14, 22, 38, 27, 28, 14, 3, 25, 38, 32, 14, 19, 13, 10, 20, 19, 6], [13, 10, 22, 27, 38, 14, 19, 32, 14, 19, 8, 19, 19, 3, 25, 38, 14, 22, 13, 10, 19, 3, 27, 6], [27, 10, 14, 19, 13, 19, 19, 18, 34, 10, 19, 19, 24, 19, 13, 11, 39, 10, 14, 19, 6], [20, 20, 20, 20, 13, 20, 3, 20, 3, 10, 14, 19, 13, 14, 19, 3, 35, 36, 13, 26, 14, 19, 6], [14, 19, 3, 20, 20, 20, 3, 10, 20, 20, 19, 13, 20, 20, 3, 35, 36, 19, 13, 10, 19, 19, 13, 10, 14, 19, 13, 20, 20, 3, 10, 19, 19, 19, 8, 20, 19, 6], [10, 19, 39, 27, 37, 32, 34, 20, 10, 19, 13, 10, 20, 19, 19, 3, 39, 20, 20, 3, 10, 19, 13, 20, 24, 14, 19, 19, 13, 20, 20, 6], [44, 25, 39, 27, 27, 10, 14, 19, 13, 10, 14, 19, 3, 2, 20, 20, 39, 6], [44, 25, 38, 32, 34, 10, 19, 19, 13, 10, 19, 3, 27, 10, 19, 6], [2, 22, 24, 19, 13, 20, 20, 39, 44, 27, 14, 7, 15, 13, 1, 9, 9, 3, 2, 20, 20, 39, 6], [20, 20, 39, 32, 34, 13, 10, 19, 6], [19, 22, 14, 13, 20, 3, 20, 3, 20, 20, 8, 20, 8, 20, 20, 3, 40, 38, 14, 13, 10, 14, 22, 13, 14, 20, 22, 3, 38, 10, 20, 19, 6], [10, 27, 37, 22, 3, 10, 13, 40, 35, 26, 19, 13, 20, 24, 14, 19, 3, 38, 27, 13, 22, 3, 19, 8, 36, 6], [25, 38, 22, 8, 22, 6], [44, 10, 10, 44, 19, 2, 38, 36, 13, 14, 19, 3, 2, 39, 20, 20, 3, 19, 32, 10, 19, 13, 20, 3, 20, 3, 36, 10, 20, 19, 13, 10, 16, 13, 10, 14, 36, 22, 6], [39, 20, 20, 3, 14, 19, 19, 13, 20, 20, 20, 20, 7, 44, 25, 38, 10, 14, 19, 13, 36, 22, 3, 27, 13, 14, 22, 6], [2, 10, 19, 13, 22, 22, 13, 20, 24, 20, 20, 35, 37, 13, 19, 19, 19, 6], [19, 3, 13, 16, 13, 10, 14, 19, 3, 39, 27, 10, 14, 19, 6], [44, 14, 22, 3, 27, 14, 19, 3, 38, 14, 13, 10, 22, 3, 2, 39, 10, 20, 20, 19, 6], [13, 36, 13, 10, 19, 13, 14, 22, 3, 10, 19, 27, 37, 13, 19, 22, 3, 19, 22, 18, 34, 13, 10, 19, 13, 19, 22, 27, 38, 13, 26, 14, 14, 22, 6], [44, 25, 39, 10, 14, 19, 13, 10, 14, 19, 3, 2, 39, 20, 20, 3, 36, 19, 13, 20, 20, 20, 13, 20, 20, 6], [44, 22, 38, 36, 13, 10, 19, 32, 34, 26, 19, 8, 25, 39, 27, 34, 10, 36, 19, 32, 34, 10, 19, 8, 14, 22, 38, 27, 14, 6], [25, 38, 22, 3, 25, 38, 10, 19, 19, 3, 40, 39, 10, 19, 32, 10, 19, 10, 19, 18, 34, 6], [2, 39, 20, 24, 20, 20, 7, 44, 13, 22, 13, 10, 19, 3, 19, 22, 38, 27, 27, 27, 14, 13, 10, 14, 19, 13, 19, 13, 25, 38, 13, 36, 19, 22, 6], [32, 10, 19, 25, 18, 34, 10, 3, 25, 38, 27, 14, 32, 34, 10, 19, 13, 19, 13, 9, 19, 32, 9, 19, 6], [2, 20, 20, 39, 20, 39, 9, 20, 22, 13, 40, 25, 39, 9, 19, 19, 8, 15, 8, 10, 19, 19, 39, 32, 34, 10, 19, 13, 26, 20, 22, 13, 9, 6], [22, 13, 10, 22, 13, 10, 14, 19, 36, 14, 20, 35, 15, 13, 1, 9, 9, 6], [10, 9, 19, 32, 9, 19, 19, 13, 1, 9, 9, 44, 38, 27, 19, 3, 2, 20, 20, 39, 6], [20, 20, 20, 24, 19, 8, 14, 19, 19, 3, 20, 20, 20, 3, 35, 6], [20, 20, 3, 9, 22, 14, 3, 18, 27, 34, 37, 13, 19, 6], [10, 19, 19, 35, 32, 34, 13, 10, 19, 6], [20, 20, 3, 40, 39, 19, 3, 19, 8, 14, 22, 32, 22, 8, 22, 3, 35, 10, 19, 13, 26, 29, 14, 19, 19, 8, 14, 19, 35, 10, 14, 19, 13, 26, 14, 22, 6], [20, 20, 3, 41, 35, 37, 13, 10, 19, 15, 13, 9, 22, 8, 35, 37, 19, 13, 9, 3, 18, 34, 13, 10, 19, 32, 20, 20, 6], [26, 22, 13, 14, 19, 18, 34, 37, 13, 20, 20, 20, 20, 6], [13, 9, 22, 3, 20, 20, 35, 32, 26, 19, 19, 13, 25, 35, 14, 6], [10, 14, 19, 13, 22, 38, 30, 3, 25, 35, 27, 34, 14, 19, 32, 10, 22, 25, 35, 36, 3, 8, 32, 10, 22, 25, 35, 36, 6], [8, 13, 20, 3, 14, 20, 20, 20, 35, 26, 20, 20, 3, 10, 19, 37, 32, 34, 22, 14, 13, 20, 20, 6], [13, 14, 22, 3, 25, 35, 36, 3, 14, 19, 19, 8, 19, 19, 7, 10, 13, 14, 7, 27, 10, 14, 19, 13, 19, 22, 6], [10, 25, 35, 32, 34, 35, 34, 1, 9, 13, 10, 19, 13, 19, 3, 8, 34, 13, 10, 1, 9, 14, 19, 13, 19, 6], [44, 25, 38, 19, 13, 26, 19, 3, 2, 25, 39, 6], [25, 35, 26, 19, 32, 20, 20, 6], [13, 25, 39, 13, 10, 14, 19, 13, 19, 36, 10, 22, 6], [13, 27, 10, 19, 3, 22, 38, 37, 13, 22, 27, 13, 10, 19, 22, 25, 38, 13, 26, 22, 8, 34, 13, 26, 22, 6], [10, 14, 22, 35, 27, 37, 13, 14, 22, 13, 14, 22, 6], [8, 14, 22, 38, 36, 27, 13, 14, 19, 19, 6], [27, 3, 25, 38, 36, 32, 34, 19, 19, 13, 36, 26, 22, 13, 22, 8, 36, 25, 32, 14, 22, 13, 10, 19, 6], [44, 25, 38, 14, 13, 10, 19, 13, 25, 38, 27, 36, 10, 19, 3, 2, 39, 20, 20, 3, 19, 13, 20, 20, 20, 3, 10, 19, 19, 19, 13, 20, 6], [20, 20, 13, 20, 3, 20, 3, 27, 37, 26, 20, 20, 20, 35, 13, 14, 22, 27, 36, 22, 6], [10, 19, 27, 27, 39, 10, 14, 19, 19, 13, 32, 1, 9, 3, 8, 39, 30, 10, 14, 14, 19, 32, 34, 13, 36, 19, 6], [13, 20, 3, 20, 20, 20, 13, 20, 3, 20, 3, 35, 10, 20, 19, 3, 10, 19, 37, 13, 10, 44, 19, 2, 19, 13, 22, 40, 38, 10, 19, 19, 8, 19, 13, 19, 13, 10, 14, 22, 3, 8, 10, 14, 19, 19, 27, 13, 19, 22, 6], [10, 19, 7, 14, 22, 3, 14, 13, 14, 22, 3, 38, 13, 26, 14, 36, 22, 7, 14, 3, 36, 37, 13, 10, 19, 3, 25, 18, 34, 32, 34, 25, 13, 14, 22, 13, 14, 22, 6], [13, 10, 19, 3, 22, 38, 37, 36, 22, 13, 10, 14, 3, 10, 14, 19, 13, 10, 16, 22, 6], [10, 22, 38, 36, 35, 30, 6], [20, 20, 3, 19, 19, 13, 14, 22, 13, 20, 20, 20, 13, 20, 3, 20, 3, 39, 10, 19, 27, 39, 22, 13, 10, 19, 13, 36, 26, 14, 20, 20, 20, 32, 14, 19, 22, 6], [44, 14, 19, 3, 19, 8, 19, 22, 38, 14, 22, 3, 2, 20, 20, 39, 6], [25, 39, 14, 20, 22, 18, 34, 14, 22, 32, 26, 20, 20, 19, 7, 14, 13, 14, 22, 8, 19, 22, 7, 14, 19, 32, 14, 19, 22, 6], [44, 10, 14, 19, 13, 20, 20, 18, 34, 28, 13, 20, 20, 22, 3, 13, 10, 9, 13, 20, 20, 18, 34, 28, 13, 10, 19, 13, 19, 3, 2, 25, 39, 6], [22, 38, 37, 36, 27, 6], [13, 9, 3, 20, 20, 8, 20, 13, 20, 20, 35, 10, 20, 20, 3, 40, 35, 14, 19, 3, 10, 19, 19, 3, 14, 19, 8, 22, 22, 13, 10, 1, 9, 14, 19, 6], [10, 19, 35, 10, 19, 13, 22, 3, 8, 10, 22, 35, 36, 10, 22, 6], [9, 14, 19, 7, 14, 22, 6], [14, 22, 3, 27, 15, 22, 3, 35, 14, 32, 34, 8, 18, 27, 34, 19, 22, 40, 18, 34, 37, 10, 22, 28, 14, 6], [13, 22, 24, 22, 35, 37, 13, 10, 9, 3, 10, 19, 37, 32, 36, 22, 32, 34, 22, 6], [8, 27, 22, 38, 36, 15, 22, 32, 34, 26, 22, 13, 19, 3, 19, 8, 19, 6], [25, 38, 28, 14, 32, 34, 32, 10, 22, 13, 10, 19, 13, 10, 19, 40, 35, 13, 10, 14, 9, 6], [19, 39, 27, 37, 10, 22, 13, 41, 22, 18, 34, 13, 22, 3, 27, 27, 13, 37, 30, 10, 19, 13, 14, 22, 14, 13, 14, 22, 6], [43, 10, 19, 27, 35, 10, 14, 19, 22, 19, 3, 25, 35, 36, 14, 22, 3, 22, 13, 19, 8, 14, 19, 3, 8, 14, 22, 37, 13, 10, 19, 13, 22, 6], [10, 19, 39, 37, 28, 14, 13, 15, 22, 14, 13, 20, 20, 13, 20, 8, 20, 20, 20, 13, 20, 20, 38, 26, 14, 22, 13, 14, 22, 13, 10, 19, 6], [44, 19, 3, 10, 19, 39, 36, 13, 14, 3, 14, 8, 14, 4, 22, 5, 3, 27, 27, 13, 22, 8, 19, 22, 3, 2, 39, 20, 20, 13, 20, 20, 6], [44, 13, 22, 41, 35, 27, 27, 36, 13, 36, 9, 22, 27, 38, 36, 32, 34, 26, 19, 19, 6], [2, 10, 19, 39, 37, 10, 27, 15, 19, 6], [44, 10, 14, 19, 18, 34, 9, 22, 13, 10, 19, 14, 22, 3, 2, 39, 20, 20, 20, 3, 41, 39, 26, 14, 19, 19, 19, 13, 20, 3, 20, 6], [44, 10, 14, 19, 39, 36, 8, 36, 19, 24, 14, 22, 14, 6], [2, 22, 38, 19, 13, 36, 22, 13, 36, 10, 19, 13, 26, 19, 13, 9, 19, 6], [13, 26, 22, 3, 10, 22, 38, 10, 15, 19, 19, 40, 39, 28, 14, 32, 34, 13, 10, 19, 13, 10, 19, 6], [10, 15, 22, 22, 38, 3, 20, 20, 39, 3, 10, 28, 14, 25, 38, 32, 34, 37, 32, 10, 19, 7, 19, 32, 34, 14, 32, 10, 19, 40, 39, 25, 6], [10, 18, 34, 30, 13, 10, 19, 13, 22, 3, 27, 10, 15, 22, 3, 38, 13, 22, 32, 22, 6], [19, 39, 10, 22, 6], [10, 14, 19, 3, 22, 19, 8, 14, 19, 18, 34, 14, 6], [20, 20, 35, 15, 13, 1, 9, 9, 32, 34, 26, 20, 19, 3, 14, 22, 37, 13, 14, 22, 3, 13, 9, 3, 36, 32, 20, 20, 3, 14, 19, 19, 13, 19, 6], [44, 25, 39, 27, 14, 32, 34, 30, 19, 27, 14, 3, 8, 34, 25, 34, 3, 2, 20, 20, 39, 6], [27, 3, 22, 38, 19, 32, 34, 3, 27, 13, 15, 22, 38, 36, 13, 14, 22, 34, 37, 32, 26, 22, 6], [44, 10, 22, 3, 19, 22, 38, 13, 10, 19, 36, 25, 32, 34, 10, 19, 27, 13, 25, 3, 2, 20, 20, 39, 6], [10, 22, 38, 27, 36, 13, 10, 19, 3, 36, 32, 20, 20, 20, 3, 19, 19, 13, 20, 20, 20, 13, 20, 6], [20, 20, 3, 25, 39, 3, 27, 39, 22, 13, 9, 19, 22, 6], [27, 3, 25, 18, 34, 10, 13, 9, 6], [39, 20, 20, 7, 44, 25, 38, 15, 22, 38, 36, 32, 34, 13, 25, 38, 32, 34, 15, 13, 10, 19, 19, 3, 27, 10, 19, 6], [2, 22, 6], [20, 20, 35, 25, 18, 34, 10, 19, 19, 37, 13, 10, 20, 8, 20, 20, 32, 34, 10, 19, 32, 34, 9, 27, 37, 14, 22, 6], [10, 20, 3, 20, 3, 19, 35, 25, 18, 34, 10, 19, 32, 34, 27, 10, 9, 9, 22, 3, 10, 14, 13, 10, 19, 13, 9, 14, 19, 6], [20, 3, 20, 39, 27, 9, 9, 14, 22, 14, 6], [20, 39, 8, 39, 14, 19, 3, 14, 19, 8, 22, 13, 22, 6], [9, 22, 25, 18, 34, 13, 1, 9, 8, 15, 7, 17, 6], [34, 10, 14, 20, 6], [17, 6], [34, 10, 14, 19, 6], [17, 6], [34, 26, 19, 32, 10, 19, 6], [17, 6], [34, 10, 19, 19, 6], [17, 6], [34, 10, 14, 19, 13, 10, 14, 19, 13, 10, 14, 14, 19, 13, 10, 20, 20, 20, 20, 6], [22, 19, 38, 1, 9, 13, 19, 19, 7, 25, 38, 27, 34, 14, 13, 25, 6], [8, 13, 10, 36, 14, 19, 7, 36, 13, 19, 7, 25, 18, 34, 32, 19, 13, 14, 19, 8, 32, 10, 19, 14, 13, 19, 6], [26, 1, 9, 18, 34, 34, 10, 14, 22, 8, 19, 14, 7, 8, 13, 13, 10, 14, 19, 19, 6], [13, 10, 20, 20, 20, 3, 25, 18, 34, 36, 10, 19, 19, 13, 22, 14, 32, 26, 19, 6], [13, 14, 14, 19, 6], [10, 14, 19, 19, 6], [36, 22, 6], [13, 10, 14, 19, 3, 25, 18, 34, 26, 20, 20, 20, 10, 19, 13, 19, 8, 19, 13, 10, 14, 22, 41, 38, 32, 34, 26, 22, 7, 13, 19, 6], [13, 10, 20, 20, 20, 3, 25, 18, 34, 10, 14, 19, 35, 13, 20, 20, 3, 20, 20, 3, 20, 20, 8, 22, 3, 41, 38, 22, 32, 34, 37, 22, 22, 8, 26, 22, 34, 25, 6], [10, 39, 19, 3, 19, 19, 3, 27, 32, 34, 14, 14, 19, 19, 6], [38, 27, 34, 7, 10, 22, 19, 39, 26, 19, 27, 6], [10, 19, 25, 38, 3, 10, 19, 19, 24, 19, 7, 8, 10, 14, 19, 19, 7, 39, 15, 6], [34, 13, 10, 19, 25, 18, 34, 13, 27, 1, 9, 10, 19, 3, 27, 10, 19, 13, 10, 14, 20, 8, 9, 22, 13, 10, 19, 19, 6], [27, 34, 26, 19, 32, 10, 19, 19, 40, 39, 37, 10, 14, 19, 13, 10, 19, 8, 13, 26, 14, 19, 6], [10, 1, 9, 25, 38, 18, 34, 10, 14, 19, 32, 34, 36, 14, 19, 8, 19, 19, 7, 8, 34, 26, 20, 20, 20, 13, 10, 14, 19, 19, 6], [20, 20, 39, 10, 19, 13, 20, 20, 6], [10, 20, 20, 20, 35, 25, 39, 32, 34, 10, 14, 44, 19, 19, 2, 37, 13, 36, 19, 22, 6], [20, 3, 20, 20, 35, 10, 37, 20, 19, 19, 13, 20, 13, 25, 18, 34, 20, 8, 20, 20, 22, 13, 19, 19, 13, 19, 22, 6], [8, 10, 20, 20, 20, 20, 19, 35, 25, 39, 27, 34, 36, 10, 44, 19, 2, 13, 19, 19, 3, 36, 13, 22, 18, 34, 13, 14, 10, 19, 6], [10, 20, 20, 35, 10, 14, 14, 19, 19, 18, 34, 19, 13, 26, 20, 8, 20, 24, 9, 19, 22, 19, 27, 20, 9, 22, 35, 9, 19, 22, 7, 10, 19, 13, 27, 10, 14, 19, 13, 10, 20, 20, 20, 20, 6], [13, 10, 14, 19, 39, 37, 13, 9, 27, 6], [20, 19, 3, 25, 18, 34, 13, 19, 13, 10, 14, 19, 13, 36, 13, 9, 27, 6], [13, 10, 19, 13, 19, 3, 22, 18, 34, 14, 32, 34, 22, 13, 10, 19, 19, 8, 13, 15, 22, 3, 8, 27, 13, 25, 6], [10, 19, 35, 25, 35, 10, 14, 19, 19, 35, 37, 36, 10, 19, 13, 10, 14, 36, 13, 22, 8, 14, 22, 13, 20, 20, 9, 3, 43, 10, 20, 20, 22, 35, 9, 22, 8, 14, 22, 22, 35, 27, 27, 6], [27, 10, 19, 10, 20, 9, 14, 22, 19, 35, 10, 19, 13, 9, 19, 22, 3, 36, 10, 20, 19, 19, 19, 40, 35, 13, 19, 13, 10, 19, 13, 10, 19, 19, 6], [10, 20, 35, 13, 26, 36, 14, 3, 14, 19, 13, 20, 9, 14, 22, 19, 4, 14, 32, 27, 9, 22, 13, 10, 20, 20, 22, 5, 3, 40, 35, 37, 20, 9, 3, 18, 34, 13, 19, 6], [20, 20, 3, 20, 19, 19, 19, 3, 35, 13, 10, 14, 19, 35, 32, 34, 10, 19, 19, 20, 9, 6], [8, 43, 10, 19, 35, 3, 10, 14, 19, 13, 19, 22, 40, 27, 35, 10, 19, 30, 32, 10, 14, 19, 35, 13, 10, 14, 19, 13, 9, 22, 35, 37, 32, 34, 34, 19, 8, 14, 22, 22, 37, 6], [14, 22, 35, 13, 10, 20, 24, 14, 19, 35, 10, 19, 19, 20, 9, 13, 36, 14, 36, 19, 32, 10, 19, 13, 10, 20, 20, 20, 20, 6], [10, 13, 10, 22, 38, 14, 19, 3, 40, 39, 37, 27, 6], [10, 19, 27, 35, 13, 10, 14, 19, 19, 3, 40, 27, 39, 27, 10, 14, 19, 13, 19, 22, 3, 18, 34, 10, 19, 14, 19, 13, 10, 20, 9, 14, 22, 19, 7, 10, 14, 19, 27, 39, 9, 19, 22, 6], [10, 14, 19, 35, 37, 32, 10, 14, 36, 19, 13, 10, 19, 6], [10, 20, 35, 10, 14, 19, 18, 34, 13, 19, 13, 10, 14, 9, 22, 13, 19, 6], [10, 19, 39, 13, 14, 19, 22, 13, 22, 38, 13, 10, 19, 19, 13, 10, 36, 9, 22, 13, 19, 6], [13, 20, 3, 20, 22, 35, 20, 20, 35, 22, 13, 10, 19, 3, 40, 35, 19, 22, 13, 10, 20, 20, 24, 19, 43, 10, 20, 20, 20, 20, 35, 9, 22, 3, 35, 27, 34, 27, 6], [25, 35, 13, 22, 18, 34, 13, 10, 19, 13, 36, 22, 27, 6], [13, 10, 14, 19, 19, 3, 20, 20, 3, 41, 39, 27, 37, 19, 13, 19, 19, 3, 35, 25, 35, 10, 20, 19, 8, 22, 19, 13, 25, 18, 34, 10, 14, 19, 19, 44, 36, 10, 20, 18, 34, 14, 13, 10, 19, 2, 13, 10, 19, 6], [10, 14, 19, 39, 36, 30, 13, 20, 20, 13, 25, 39, 13, 20, 20, 3, 8, 14, 22, 34, 32, 34, 10, 20, 10, 19, 32, 34, 30, 10, 22, 43, 36, 39, 27, 14, 6], [20, 20, 20, 20, 39, 35, 25, 18, 34, 14, 32, 34, 19, 22, 40, 38, 14, 19, 22, 3, 8, 25, 39, 27, 34, 14, 19, 32, 34, 22, 6], [10, 20, 19, 35, 13, 20, 20, 35, 27, 44, 14, 8, 14, 2, 13, 25, 35, 10, 19, 13, 19, 43, 22, 13, 10, 22, 18, 44, 34, 27, 36, 14, 6], [2, 13, 9, 19, 3, 20, 20, 35, 10, 19, 24, 19, 3, 20, 20, 20, 4, 20, 3, 20, 5, 3, 13, 27, 36, 27, 13, 41, 27, 35, 37, 37, 13, 10, 19, 22, 6], [44, 20, 35, 25, 18, 34, 37, 10, 13, 19, 2, 13, 27, 27, 14, 19, 35, 37, 3, 10, 19, 35, 6], [20, 20, 27, 35, 13, 25, 18, 34, 37, 14, 27, 36, 10, 19, 32, 10, 19, 3, 10, 19, 35, 6], [13, 10, 19, 13, 10, 19, 3, 20, 20, 35, 20, 20, 41, 18, 34, 37, 13, 10, 20, 20, 19, 19, 19, 19, 6], [20, 20, 35, 10, 20, 20, 39, 14, 32, 34, 10, 14, 19, 6], [10, 19, 35, 20, 20, 3, 20, 22, 35, 3, 8, 10, 19, 35, 30, 13, 11, 35, 37, 14, 22, 13, 10, 19, 8, 13, 25, 35, 19, 13, 19, 13, 10, 19, 6], [9, 13, 10, 9, 19, 22, 35, 10, 19, 3, 29, 27, 20, 20, 20, 4, 20, 3, 20, 5, 3, 10, 14, 20, 20, 8, 20, 20, 19, 3, 41, 39, 37, 14, 32, 34, 20, 20, 34, 10, 19, 13, 14, 22, 6], [20, 20, 35, 19, 3, 22, 35, 3, 13, 14, 22, 13, 36, 19, 19, 3, 40, 39, 22, 32, 34, 19, 22, 6], [10, 22, 19, 39, 37, 13, 10, 20, 20, 20, 20, 3, 40, 39, 32, 10, 20, 22, 13, 10, 22, 6], [10, 19, 13, 19, 39, 14, 32, 10, 22, 3, 8, 3, 13, 16, 14, 22, 3, 14, 32, 10, 19, 13, 10, 19, 6], [7, 20, 20, 20, 3, 44, 10, 9, 20, 2, 20, 3, 20, 7, 13, 10, 22, 40, 38, 14, 20, 3, 10, 39, 9, 13, 10, 16, 7, 10, 14, 19, 19, 39, 13, 10, 22, 3, 10, 19, 13, 22, 36, 13, 26, 19, 3, 36, 10, 19, 32, 19, 6], [10, 22, 13, 20, 20, 8, 10, 21, 38, 32, 34, 13, 10, 19, 19, 3, 13, 22, 27, 27, 38, 6], [13, 10, 19, 3, 9, 22, 8, 22, 38, 27, 13, 22, 37, 32, 10, 14, 9, 22, 40, 27, 35, 27, 13, 9, 6], [8, 11, 39, 27, 10, 14, 3, 14, 19, 13, 20, 3, 13, 25, 18, 27, 34, 37, 13, 10, 22, 36, 10, 19, 13, 22, 10, 14, 19, 19, 6], [13, 16, 13, 10, 14, 9, 22, 13, 20, 13, 22, 13, 22, 3, 20, 20, 27, 35, 26, 14, 44, 19, 2, 13, 22, 3, 41, 18, 34, 10, 20, 19, 8, 19, 19, 6], [27, 3, 27, 9, 14, 19, 39, 7, 14, 20, 20, 6], [10, 22, 27, 19, 38, 27, 6], [25, 38, 32, 10, 19, 13, 9, 22, 7, 36, 9, 22, 8, 9, 22, 13, 19, 7, 41, 38, 10, 20, 13, 19, 32, 19, 13, 10, 14, 19, 32, 34, 10, 22, 36, 13, 10, 14, 22, 13, 20, 20, 6], [44, 32, 34, 13, 27, 9, 19, 13, 10, 19, 3, 25, 38, 32, 34, 3, 2, 39, 20, 20, 3, 10, 37, 19, 19, 6], [44, 25, 38, 35, 32, 34, 10, 22, 3, 8, 25, 38, 26, 22, 8, 26, 22, 3, 8, 25, 27, 38, 27, 6], [2, 20, 20, 39, 13, 14, 19, 8, 10, 19, 13, 19, 18, 34, 10, 22, 13, 10, 14, 14, 19, 40, 39, 10, 20, 22, 36, 6], [19, 3, 13, 10, 3, 39, 27, 13, 26, 19, 6], [36, 32, 10, 14, 19, 37, 10, 19, 27, 3, 27, 10, 14, 13, 20, 24, 19, 22, 38, 27, 28, 37, 13, 22, 13, 11, 39, 10, 9, 32, 34, 25, 6], [25, 39, 14, 32, 34, 43, 10, 14, 19, 39, 13, 10, 22, 6], [10, 28, 14, 19, 13, 36, 22, 13, 22, 3, 13, 34, 10, 22, 13, 14, 20, 3, 39, 37, 13, 10, 20, 32, 34, 14, 3, 14, 27, 13, 22, 6], [19, 3, 10, 14, 19, 10, 20, 35, 9, 22, 27, 3, 39, 14, 19, 7, 10, 22, 38, 15, 13, 10, 19, 7, 37, 13, 14, 14, 19, 6], [14, 14, 22, 38, 37, 30, 13, 44, 22, 3, 2, 13, 10, 14, 19, 32, 10, 16, 7, 10, 14, 36, 19, 36, 3, 13, 15, 22, 3, 27, 14, 13, 9, 22, 6], [27, 3, 13, 10, 19, 3, 10, 22, 38, 36, 10, 19, 13, 40, 10, 22, 38, 13, 36, 10, 14, 19, 13, 10, 14, 6], [10, 19, 3, 8, 19, 3, 18, 34, 27, 27, 3, 10, 22, 38, 6], [22, 38, 22, 13, 22, 3, 37, 13, 44, 22, 3, 2, 40, 38, 14, 22, 13, 20, 20, 20, 20, 8, 20, 20, 6], [10, 19, 13, 9, 8, 27, 22, 39, 10, 44, 19, 2, 8, 39, 27, 9, 22, 6], [10, 19, 13, 10, 20, 19, 19, 13, 20, 20, 20, 19, 13, 10, 20, 19, 13, 20, 39, 10, 19, 13, 10, 19, 37, 6], [9, 14, 22, 38, 13, 10, 19, 3, 9, 19, 27, 13, 10, 14, 13, 10, 19, 24, 19, 3, 10, 36, 10, 19, 40, 39, 13, 10, 14, 19, 13, 10, 14, 19, 13, 10, 19, 19, 6], [10, 25, 39, 3, 8, 10, 36, 13, 10, 22, 39, 32, 34, 13, 14, 19, 13, 10, 22, 25, 3, 37, 13, 10, 19, 6], [27, 37, 3, 10, 22, 38, 27, 27, 3, 36, 14, 19, 4, 25, 38, 25, 44, 19, 2, 5, 32, 34, 10, 14, 22, 8, 27, 34, 26, 22, 6], [27, 27, 13, 10, 19, 3, 10, 14, 19, 22, 3, 37, 13, 22, 3, 38, 27, 13, 10, 14, 9, 22, 3, 36, 8, 36, 3, 27, 3, 13, 10, 14, 3, 8, 14, 19, 6], [14, 22, 38, 26, 22, 32, 34, 8, 34, 10, 14, 19, 3, 27, 13, 9, 19, 18, 34, 22, 13, 10, 13, 10, 14, 19, 6], [13, 10, 14, 19, 36, 19, 22, 3, 14, 19, 20, 20, 20, 35, 36, 13, 10, 44, 19, 4, 10, 5, 39, 26, 19, 13, 14, 19, 8, 14, 19, 6], [2, 22, 3, 25, 35, 3, 38, 44, 37, 13, 10, 14, 19, 40, 39, 13, 14, 19, 27, 37, 6], [2, 44, 19, 39, 34, 10, 19, 13, 10, 19, 3, 2, 39, 20, 20, 3, 19, 13, 10, 19, 13, 20, 20, 20, 8, 9, 13, 20, 24, 16, 19, 22, 6], [25, 39, 10, 19, 40, 27, 39, 13, 10, 19, 3, 27, 6], [28, 27, 13, 27, 3, 22, 38, 13, 10, 19, 13, 19, 35, 13, 10, 19, 13, 10, 19, 6], [43, 26, 22, 38, 37, 3, 8, 13, 25, 38, 37, 30, 10, 19, 3, 22, 27, 38, 30, 32, 10, 14, 19, 3, 36, 19, 13, 22, 27, 6], [10, 39, 27, 34, 27, 13, 10, 22, 6], [13, 19, 13, 10, 20, 13, 20, 27, 36, 3, 14, 22, 38, 36, 27, 14, 8, 27, 14, 22, 32, 34, 22, 6], [9, 22, 27, 3, 10, 20, 20, 20, 3, 19, 13, 20, 20, 3, 20, 3, 35, 27, 37, 30, 13, 22, 41, 35, 27, 34, 19, 25, 35, 10, 14, 19, 7, 10, 22, 27, 37, 30, 10, 19, 19, 13, 19, 6], [44, 25, 35, 10, 14, 19, 40, 35, 10, 19, 13, 19, 13, 10, 14, 19, 3, 2, 10, 20, 20, 39, 6], [10, 27, 14, 19, 39, 19, 13, 14, 20, 3, 14, 13, 41, 38, 22, 13, 10, 19, 6], [8, 11, 27, 38, 27, 14, 22, 32, 34, 15, 13, 9, 13, 10, 9, 22, 6], [13, 20, 20, 24, 20, 13, 20, 3, 20, 3, 10, 22, 38, 37, 14, 36, 10, 19, 13, 19, 19, 6], [10, 19, 3, 20, 20, 3, 39, 32, 34, 13, 25, 3, 36, 25, 18, 44, 34, 10, 19, 6], [2, 8, 20, 20, 3, 19, 13, 10, 14, 19, 3, 39, 10, 19, 39, 13, 10, 22, 13, 10, 19, 19, 40, 38, 37, 14, 32, 10, 19, 6], [44, 27, 19, 3, 19, 3, 19, 3, 19, 3, 19, 3, 19, 7, 27, 38, 10, 22, 13, 27, 3, 36, 10, 27, 14, 19, 13, 10, 19, 39, 13, 19, 3, 2, 25, 39, 6], [20, 20, 39, 32, 37, 22, 13, 10, 19, 3, 13, 25, 39, 10, 10, 19, 8, 10, 14, 19, 25, 6], [44, 10, 19, 13, 22, 39, 10, 19, 32, 34, 22, 13, 10, 19, 3, 2, 25, 39, 6], [44, 25, 38, 13, 22, 13, 10, 22, 25, 18, 34, 37, 13, 10, 15, 19, 6], [2, 10, 20, 20, 13, 20, 20, 20, 3, 10, 19, 13, 19, 13, 19, 22, 3, 39, 32, 34, 22, 13, 22, 3, 39, 20, 20, 20, 3, 19, 6], [25, 39, 32, 34, 32, 22, 13, 14, 22, 13, 10, 22, 13, 19, 19, 8, 18, 27, 34, 10, 19, 13, 10, 19, 13, 10, 19, 35, 3, 44, 10, 20, 13, 26, 20, 6], [2, 39, 20, 20, 3, 44, 25, 38, 13, 25, 18, 27, 28, 38, 27, 14, 10, 19, 13, 19, 19, 8, 19, 6], [2, 20, 20, 39, 27, 36, 10, 15, 19, 7, 19, 13, 22, 6], [9, 19, 39, 13, 13, 10, 9, 37, 22, 13, 20, 19, 3, 27, 9, 13, 25, 27, 38, 6], [27, 3, 22, 38, 27, 27, 34, 43, 10, 22, 38, 32, 34, 37, 7, 13, 13, 14, 3, 14, 22, 8, 19, 22, 6], [8, 10, 19, 24, 19, 32, 34, 8, 34, 22, 39, 27, 27, 14, 3, 39, 20, 20, 6], [44, 27, 27, 3, 25, 38, 14, 13, 13, 9, 22, 25, 38, 9, 14, 19, 13, 13, 9, 3, 2, 25, 39, 6], [9, 14, 19, 39, 13, 10, 36, 19, 13, 22, 38, 37, 10, 27, 14, 19, 7, 15, 13, 10, 14, 13, 10, 22, 19, 38, 22, 6], [25, 38, 27, 37, 27, 3, 27, 6], [10, 16, 14, 19, 13, 10, 19, 3, 10, 20, 20, 13, 20, 20, 3, 37, 13, 9, 3, 39, 14, 3, 10, 19, 40, 39, 27, 14, 32, 22, 13, 10, 19, 39, 10, 14, 19, 13, 22, 13, 20, 24, 16, 14, 22, 3, 20, 20, 24, 20, 8, 20, 20, 6], [10, 36, 20, 3, 10, 19, 39, 37, 10, 19, 19, 3, 8, 10, 19, 13, 10, 19, 35, 10, 19, 13, 10, 19, 13, 22, 32, 44, 10, 20, 20, 3, 2, 10, 14, 19, 13, 22, 6], [9, 19, 3, 36, 26, 19, 13, 44, 14, 3, 14, 19, 3, 2, 37, 13, 10, 44, 19, 13, 22, 36, 13, 22, 3, 2, 8, 35, 13, 25, 44, 34, 27, 13, 26, 14, 19, 13, 36, 19, 13, 22, 6], [2, 13, 10, 19, 13, 22, 13, 35, 3, 9, 19, 19, 13, 20, 37, 13, 44, 10, 14, 14, 19, 39, 27, 10, 19, 32, 34, 37, 7, 27, 37, 3, 37, 13, 19, 8, 10, 14, 19, 3, 27, 14, 8, 27, 14, 13, 22, 6], [2, 10, 22, 35, 13, 20, 32, 34, 13, 13, 26, 9, 22, 13, 36, 3, 44, 25, 38, 27, 37, 10, 19, 32, 34, 13, 10, 19, 6], [25, 38, 37, 9, 8, 9, 22, 34, 3, 34, 25, 6], [22, 37, 13, 10, 19, 19, 24, 22, 18, 34, 10, 19, 13, 10, 14, 19, 13, 14, 19, 22, 6], [10, 39, 37, 27, 14, 10, 19, 13, 14, 22, 36, 26, 22, 15, 13, 9, 19, 6], [8, 38, 27, 34, 27, 14, 7, 10, 19, 22, 18, 34, 19, 27, 13, 19, 22, 3, 10, 22, 38, 6], [13, 10, 19, 3, 25, 38, 3, 10, 16, 19, 19, 39, 27, 37, 13, 22, 43, 10, 19, 19, 35, 27, 14, 6], [10, 18, 34, 10, 19, 13, 14, 22, 3, 39, 20, 20, 3, 14, 14, 19, 13, 20, 20, 8, 20, 6], [14, 19, 19, 3, 25, 39, 3, 39, 44, 10, 14, 19, 13, 19, 2, 7, 10, 19, 32, 10, 14, 22, 40, 38, 22, 8, 27, 38, 25, 13, 36, 6], [20, 20, 3, 19, 13, 20, 20, 20, 20, 8, 20, 20, 3, 39, 13, 22, 38, 26, 22, 29, 27, 27, 13, 10, 19, 8, 14, 22, 38, 37, 36, 13, 10, 19, 6], [44, 27, 3, 10, 14, 22, 13, 10, 19, 38, 19, 32, 14, 22, 3, 2, 25, 39, 6], [44, 8, 14, 22, 38, 27, 14, 32, 10, 19, 19, 6], [2, 27, 3, 22, 38, 13, 22, 38, 27, 37, 29, 27, 43, 22, 35, 27, 13, 26, 19, 13, 13, 14, 22, 6], [13, 9, 3, 13, 19, 3, 22, 13, 10, 22, 13, 20, 8, 20, 24, 14, 19, 35, 9, 19, 3, 36, 27, 15, 19, 10, 19, 13, 6], [10, 20, 19, 35, 36, 13, 19, 13, 20, 9, 3, 8, 35, 9, 19, 13, 9, 7, 13, 10, 9, 19, 19, 13, 22, 10, 19, 6], [10, 19, 39, 27, 27, 37, 3, 8, 14, 14, 19, 13, 22, 39, 10, 19, 22, 14, 6], [22, 13, 10, 20, 9, 22, 35, 9, 19, 13, 9, 3, 36, 32, 20, 8, 20, 24, 20, 3, 8, 20, 20, 22, 13, 9, 19, 38, 27, 13, 9, 19, 8, 9, 19, 6], [14, 22, 38, 10, 19, 13, 22, 18, 34, 14, 19, 3, 13, 10, 19, 38, 14, 22, 36, 6], [27, 3, 14, 19, 22, 38, 14, 19, 22, 38, 10, 19, 19, 7, 13, 22, 38, 37, 27, 3, 26, 19, 39, 27, 35, 19, 13, 14, 15, 22, 13, 19, 22, 6], [13, 10, 19, 3, 10, 19, 24, 19, 19, 7, 22, 13, 10, 19, 13, 19, 7, 38, 35, 32, 10, 19, 40, 39, 27, 14, 8, 14, 13, 14, 22, 6], [37, 10, 19, 3, 10, 19, 13, 10, 19, 39, 22, 38, 37, 27, 14, 13, 19, 14, 32, 10, 22, 25, 38, 3, 10, 19, 22, 38, 6], [25, 38, 36, 10, 14, 19, 13, 10, 19, 13, 10, 20, 9, 6], [10, 19, 39, 27, 27, 9, 19, 3, 13, 13, 9, 19, 13, 10, 14, 19, 19, 6], [10, 22, 38, 22, 18, 34, 13, 10, 22, 13, 10, 37, 19, 19, 39, 10, 19, 13, 9, 19, 6], [10, 19, 13, 10, 9, 19, 19, 44, 39, 27, 37, 10, 14, 19, 19, 13, 22, 38, 27, 37, 3, 2, 39, 20, 20, 13, 20, 20, 20, 6], [13, 19, 3, 44, 10, 19, 39, 27, 37, 6], [27, 6], [11, 39, 27, 37, 10, 19, 3, 2, 39, 20, 20, 20, 3, 10, 20, 19, 19, 8, 19, 19, 3, 37, 13, 10, 19, 13, 9, 22, 13, 19, 19, 6], [10, 14, 19, 10, 20, 9, 19, 35, 13, 9, 19, 35, 13, 10, 19, 13, 9, 6], [22, 41, 35, 10, 19, 8, 35, 22, 35, 10, 20, 19, 6], [11, 38, 37, 27, 9, 14, 22, 7, 19, 9, 3, 9, 3, 9, 3, 9, 3, 9, 3, 9, 8, 9, 7, 43, 10, 19, 13, 10, 20, 9, 35, 13, 9, 19, 13, 13, 16, 9, 14, 22, 3, 20, 20, 35, 6], [8, 13, 10, 19, 3, 25, 39, 3, 10, 14, 19, 13, 19, 22, 35, 13, 10, 19, 6], [27, 3, 10, 19, 22, 38, 10, 14, 9, 19, 19, 39, 27, 27, 14, 13, 25, 18, 34, 37, 13, 22, 19, 6], [44, 25, 39, 27, 10, 27, 14, 19, 27, 13, 22, 38, 27, 36, 13, 10, 14, 19, 3, 2, 39, 20, 20, 20, 3, 19, 13, 19, 22, 13, 20, 20, 3, 10, 14, 19, 6], [13, 14, 3, 20, 20, 39, 3, 22, 38, 36, 30, 10, 15, 19, 13, 26, 22, 8, 19, 19, 13, 10, 19, 13, 22, 13, 25, 38, 27, 6], [27, 3, 13, 19, 22, 18, 34, 27, 14, 14, 32, 22, 3, 25, 38, 27, 14, 14, 32, 10, 14, 14, 19, 6], [27, 13, 36, 22, 3, 10, 22, 38, 37, 19, 32, 34, 30, 10, 13, 26, 22, 3, 39, 20, 20, 20, 3, 19, 13, 10, 19, 19, 19, 13, 20, 3, 20, 8, 20, 6], [25, 39, 10, 13, 10, 19, 19, 32, 34, 10, 37, 19, 13, 27, 9, 19, 6], [10, 39, 27, 10, 19, 13, 10, 19, 13, 10, 14, 9, 22, 8, 27, 3, 25, 39, 6], [41, 18, 34, 32, 19, 19, 14, 19, 6], [14, 19, 39, 10, 14, 19, 13, 19, 3, 36, 10, 19, 13, 10, 19, 8, 14, 22, 6], [20, 20, 3, 13, 19, 3, 39, 36, 19, 13, 20, 9, 22, 13, 27, 13, 9, 19, 13, 9, 3, 13, 13, 10, 37, 9, 19, 10, 19, 6], [13, 14, 22, 13, 40, 11, 38, 37, 14, 14, 22, 7, 14, 19, 10, 19, 39, 13, 9, 7, 14, 19, 13, 22, 35, 13, 10, 19, 13, 9, 19, 32, 10, 19, 13, 9, 19, 3, 36, 32, 20, 19, 20, 20, 6], [10, 19, 19, 3, 27, 3, 39, 13, 22, 38, 10, 14, 14, 10, 19, 30, 32, 34, 27, 15, 22, 27, 13, 26, 22, 38, 6], [19, 19, 13, 10, 19, 13, 9, 19, 39, 37, 13, 10, 20, 20, 13, 20, 8, 20, 20, 13, 20, 20, 6], [10, 19, 22, 38, 13, 22, 38, 13, 10, 14, 19, 13, 36, 19, 13, 19, 35, 30, 13, 36, 22, 8, 36, 19, 22, 6], [9, 19, 22, 18, 34, 32, 34, 39, 10, 14, 19, 13, 20, 8, 20, 24, 13, 10, 19, 13, 14, 22, 36, 26, 22, 6], [10, 19, 13, 9, 22, 35, 22, 13, 20, 3, 27, 14, 13, 9, 10, 19, 27, 3, 20, 35, 20, 6], [10, 35, 9, 14, 22, 13, 40, 10, 19, 13, 22, 35, 10, 14, 19, 6], [13, 10, 20, 19, 39, 27, 34, 10, 19, 13, 19, 22, 3, 10, 14, 19, 13, 10, 19, 13, 19, 22, 18, 34, 10, 19, 13, 15, 19, 19, 13, 19, 6], [13, 10, 19, 3, 19, 39, 37, 13, 43, 14, 13, 10, 19, 10, 14, 19, 19, 18, 34, 27, 13, 19, 19, 39, 13, 14, 22, 6], [20, 20, 13, 20, 20, 39, 10, 19, 19, 18, 34, 10, 9, 19, 32, 9, 19, 19, 19, 13, 19, 8, 22, 13, 10, 14, 9, 22, 7, 13, 10, 44, 19, 19, 13, 19, 2, 13, 27, 9, 19, 8, 9, 14, 13, 19, 19, 39, 14, 6], [8, 20, 20, 13, 20, 20, 20, 3, 41, 27, 39, 9, 19, 19, 13, 22, 13, 19, 3, 39, 27, 34, 25, 18, 34, 10, 14, 19, 10, 10, 14, 6], [44, 36, 10, 19, 22, 39, 10, 14, 19, 13, 10, 19, 19, 3, 8, 25, 38, 27, 34, 25, 39, 10, 14, 19, 3, 2, 25, 39, 6], [13, 15, 14, 19, 8, 14, 14, 22, 14, 13, 19, 3, 44, 25, 18, 27, 34, 13, 10, 19, 32, 34, 14, 27, 13, 14, 22, 6], [26, 20, 9, 14, 19, 13, 10, 37, 19, 13, 20, 20, 39, 13, 20, 20, 35, 37, 26, 19, 32, 34, 13, 10, 19, 19, 13, 36, 30, 20, 20, 20, 24, 19, 32, 25, 13, 26, 19, 3, 13, 25, 27, 35, 13, 19, 19, 18, 27, 34, 10, 19, 6], [14, 39, 27, 10, 19, 6], [20, 24, 19, 3, 20, 20, 20, 3, 14, 8, 14, 3, 35, 19, 32, 34, 10, 20, 20, 20, 20, 13, 20, 3, 40, 27, 35, 10, 19, 13, 20, 20, 37, 10, 20, 20, 13, 20, 20, 6], [10, 39, 43, 20, 24, 22, 35, 6], [20, 20, 27, 35, 32, 34, 13, 10, 19, 19, 6], [25, 35, 20, 20, 24, 19, 19, 8, 27, 27, 35, 10, 20, 20, 36, 13, 10, 19, 37, 13, 26, 19, 3, 20, 20, 3, 40, 35, 37, 37, 32, 20, 13, 10, 14, 1, 9, 3, 37, 13, 20, 20, 24, 20, 19, 6], [43, 20, 35, 13, 10, 20, 19, 19, 35, 37, 9, 22, 13, 20, 24, 19, 3, 20, 20, 35, 10, 19, 8, 35, 27, 32, 34, 10, 19, 19, 7, 10, 19, 13, 10, 19, 24, 14, 19, 6], [20, 20, 20, 20, 3, 20, 6], [20, 20, 20, 35, 25, 35, 15, 13, 23, 26, 19, 19, 8, 39, 36, 26, 19, 19, 32, 34, 13, 26, 19, 8, 19, 22, 6], [10, 36, 19, 3, 40, 39, 37, 14, 22, 13, 9, 14, 22, 3, 35, 25, 18, 27, 34, 19, 19, 22, 27, 15, 8, 18, 27, 34, 26, 14, 14, 22, 19, 6], [27, 3, 20, 35, 25, 18, 34, 9, 22, 13, 26, 20, 19, 3, 9, 19, 22, 22, 8, 9, 22, 13, 26, 14, 8, 20, 20, 19, 6], [10, 19, 24, 19, 19, 18, 34, 32, 13, 9, 22, 6], [20, 20, 20, 3, 19, 8, 19, 19, 19, 3, 35, 22, 35, 27, 14, 32, 34, 32, 10, 14, 20, 19, 22, 13, 13, 10, 19, 24, 14, 22, 6], [27, 3, 25, 35, 3, 10, 19, 39, 27, 34, 10, 19, 37, 32, 34, 10, 19, 13, 10, 14, 19, 8, 9, 6], [44, 25, 27, 35, 13, 13, 19, 22, 3, 2, 20, 20, 35, 6], [44, 25, 35, 32, 34, 19, 27, 8, 27, 14, 6], [2, 13, 10, 19, 3, 25, 35, 20, 18, 34, 13, 36, 26, 37, 19, 13, 22, 3, 36, 32, 34, 19, 13, 14, 22, 8, 36, 26, 19, 19, 3, 36, 10, 13, 10, 22, 25, 35, 13, 26, 19, 6], [10, 19, 27, 39, 10, 19, 19, 13, 14, 22, 37, 20, 6], [10, 19, 3, 40, 27, 35, 25, 35, 10, 22, 8, 19, 32, 34, 22, 13, 26, 20, 20, 14, 37, 19, 3, 35, 25, 39, 37, 10, 19, 19, 32, 34, 25, 34, 14, 19, 6], [13, 20, 20, 20, 20, 14, 19, 19, 3, 20, 19, 35, 13, 9, 22, 10, 19, 3, 13, 9, 22, 6], [25, 35, 20, 20, 24, 14, 19, 32, 20, 13, 9, 40, 35, 13, 19, 10, 14, 19, 13, 20, 8, 20, 6], [8, 10, 14, 20, 19, 24, 14, 19, 32, 20, 3, 13, 40, 25, 35, 13, 19, 13, 14, 22, 3, 35, 27, 14, 13, 14, 13, 36, 22, 40, 38, 27, 37, 10, 20, 19, 6], [20, 20, 3, 10, 29, 14, 20, 32, 34, 32, 20, 13, 20, 24, 14, 19, 13, 14, 22, 13, 20, 3, 35, 13, 14, 19, 13, 10, 19, 6], [10, 20, 3, 13, 19, 3, 35, 19, 13, 14, 44, 19, 2, 13, 20, 24, 14, 22, 6], [9, 14, 19, 3, 20, 20, 3, 27, 27, 35, 20, 20, 3, 41, 39, 27, 37, 32, 27, 13, 10, 44, 14, 19, 6], [2, 10, 19, 35, 25, 13, 36, 10, 36, 19, 13, 44, 14, 19, 3, 2, 10, 19, 19, 32, 34, 41, 20, 39, 39, 10, 19, 13, 14, 22, 32, 34, 14, 22, 13, 10, 14, 19, 6], [10, 19, 35, 14, 13, 20, 19, 13, 20, 20, 24, 14, 19, 19, 3, 27, 10, 19, 13, 36, 22, 13, 14, 19, 6], [27, 3, 20, 20, 35, 26, 19, 3, 20, 20, 20, 20, 3, 13, 21, 38, 27, 37, 20, 24, 22, 13, 10, 14, 19, 13, 20, 9, 40, 35, 22, 3, 8, 27, 22, 3, 13, 22, 6], [44, 14, 13, 10, 20, 21, 3, 36, 14, 22, 13, 20, 3, 38, 10, 19, 35, 14, 8, 14, 3, 2, 20, 20, 35, 20, 20, 3, 41, 35, 27, 37, 13, 36, 10, 19, 6], [44, 10, 22, 13, 20, 13, 20, 35, 10, 19, 8, 19, 40, 16, 21, 27, 35, 13, 10, 22, 13, 20, 6], [2, 10, 20, 35, 13, 10, 27, 14, 19, 6], [13, 22, 13, 20, 20, 3, 14, 22, 35, 10, 19, 13, 10, 22, 3, 8, 27, 35, 13, 10, 20, 35, 27, 37, 13, 10, 22, 10, 19, 6], [13, 10, 19, 20, 3, 19, 19, 3, 20, 20, 3, 35, 20, 20, 3, 44, 27, 36, 3, 10, 20, 35, 37, 27, 27, 13, 10, 19, 8, 14, 19, 40, 35, 13, 20, 27, 27, 27, 6], [20, 35, 10, 14, 19, 8, 25, 39, 14, 32, 34, 20, 13, 25, 6], [2, 13, 10, 14, 22, 3, 10, 20, 8, 20, 27, 38, 32, 34, 36, 13, 10, 19, 32, 34, 22, 3, 40, 38, 37, 13, 41, 20, 20, 35, 32, 13, 44, 10, 16, 19, 13, 20, 22, 2, 13, 26, 14, 19, 32, 20, 9, 22, 13, 6], [13, 26, 19, 19, 32, 20, 20, 3, 20, 20, 35, 10, 19, 35, 37, 10, 44, 19, 6], [2, 22, 13, 20, 8, 10, 20, 38, 37, 14, 13, 20, 9, 3, 43, 14, 19, 20, 20, 8, 26, 19, 3, 20, 20, 3, 35, 19, 13, 10, 20, 20, 13, 20, 6], [27, 27, 3, 20, 20, 35, 10, 19, 13, 14, 22, 3, 36, 19, 13, 16, 14, 22, 3, 40, 18, 34, 37, 13, 20, 14, 19, 13, 10, 36, 22, 6], [20, 20, 39, 36, 13, 20, 13, 10, 14, 19, 3, 8, 25, 39, 37, 27, 13, 25, 39, 10, 14, 19, 13, 10, 20, 19, 6], [20, 20, 35, 20, 20, 8, 26, 14, 19, 19, 3, 20, 20, 3, 13, 36, 32, 20, 13, 20, 6], [8, 25, 39, 32, 34, 10, 19, 13, 10, 19, 13, 10, 19, 3, 20, 22, 35, 6], [20, 20, 35, 32, 34, 20, 19, 6], [36, 32, 10, 14, 19, 13, 10, 20, 19, 3, 10, 14, 19, 35, 10, 19, 13, 14, 22, 13, 26, 9, 22, 13, 22, 13, 14, 14, 22, 6], [10, 35, 20, 24, 14, 22, 3, 14, 22, 8, 10, 19, 13, 20, 20, 6], [20, 20, 27, 35, 13, 20, 34, 26, 19, 13, 10, 20, 20, 3, 10, 20, 14, 14, 19, 6], [20, 35, 13, 13, 10, 19, 13, 20, 6], [13, 26, 22, 3, 10, 14, 19, 35, 20, 24, 22, 32, 34, 10, 26, 19, 39, 19, 13, 10, 19, 19, 8, 34, 10, 19, 13, 14, 22, 8, 22, 6], [44, 22, 38, 36, 13, 22, 3, 8, 11, 39, 10, 20, 14, 19, 40, 18, 34, 25, 13, 3, 2, 25, 35, 10, 19, 13, 21, 13, 10, 20, 20, 13, 20, 6], [11, 38, 10, 22, 3, 27, 3, 13, 20, 24, 19, 13, 14, 22, 6], [8, 13, 9, 14, 19, 3, 20, 20, 39, 32, 34, 37, 10, 19, 6], [13, 10, 19, 13, 20, 20, 20, 13, 20, 3, 20, 20, 35, 13, 25, 35, 25, 18, 27, 34, 22, 13, 19, 22, 13, 26, 19, 32, 10, 20, 20, 6], [27, 27, 3, 43, 25, 35, 13, 10, 19, 9, 22, 14, 3, 10, 14, 22, 35, 37, 7, 13, 10, 14, 19, 13, 9, 22, 6], [10, 14, 22, 27, 3, 13, 10, 20, 19, 24, 19, 3, 10, 22, 36, 10, 19, 27, 35, 37, 26, 14, 22, 13, 10, 14, 19, 13, 14, 20, 6], [8, 10, 22, 27, 37, 26, 22, 3, 8, 10, 14, 19, 13, 22, 22, 35, 27, 13, 14, 22, 6], [27, 3, 22, 8, 22, 38, 32, 34, 21, 3, 41, 38, 37, 14, 22, 13, 10, 20, 20, 13, 10, 19, 19, 6], [14, 22, 3, 14, 22, 38, 37, 26, 14, 22, 13, 14, 22, 13, 20, 22, 8, 35, 10, 19, 6], [10, 22, 35, 27, 37, 6], [26, 20, 9, 19, 44, 20, 24, 14, 22, 38, 19, 22, 2, 39, 3, 44, 14, 22, 38, 36, 14, 22, 13, 36, 20, 24, 19, 13, 36, 10, 19, 22, 13, 14, 22, 6], [2, 10, 14, 14, 22, 18, 34, 15, 6], [25, 38, 36, 13, 10, 14, 19, 3, 13, 25, 39, 27, 26, 19, 25, 18, 27, 34, 14, 22, 6], [20, 20, 3, 19, 13, 20, 20, 3, 39, 44, 10, 44, 19, 19, 2, 13, 14, 22, 7, 35, 10, 19, 6], [2, 25, 39, 27, 36, 10, 19, 32, 14, 22, 6], [41, 39, 14, 13, 36, 13, 15, 19, 6], [19, 39, 27, 19, 3, 8, 25, 39, 14, 3, 8, 19, 39, 27, 19, 19, 6], [25, 39, 27, 14, 32, 34, 10, 14, 19, 6], [27, 3, 14, 22, 38, 10, 14, 19, 22, 8, 14, 19, 22, 6], [25, 38, 10, 19, 13, 10, 14, 22, 38, 36, 28, 13, 15, 19, 39, 14, 6], [25, 35, 10, 19, 13, 14, 14, 22, 3, 8, 25, 27, 35, 25, 18, 34, 32, 34, 37, 13, 10, 13, 25, 6], [14, 13, 25, 27, 38, 37, 36, 10, 19, 13, 19, 13, 14, 22, 8, 19, 32, 34, 26, 22, 3, 8, 25, 18, 34, 13, 10, 29, 14, 19, 39, 14, 19, 3, 27, 36, 22, 24, 22, 6], [13, 10, 14, 22, 38, 27, 36, 26, 19, 3, 25, 18, 34, 13, 16, 9, 22, 32, 34, 10, 19, 7, 34, 22, 15, 13, 10, 13, 14, 22, 7, 34, 19, 22, 4, 15, 22, 8, 15, 22, 3, 13, 19, 5, 7, 34, 8, 34, 15, 19, 13, 14, 20, 6], [20, 20, 13, 19, 32, 26, 20, 9, 19, 19, 44, 20, 20, 39, 27, 15, 22, 13, 10, 20, 3, 2, 25, 39, 14, 13, 25, 18, 27, 34, 22, 13, 26, 22, 7, 44, 13, 22, 3, 9, 19, 38, 14, 22, 13, 25, 3, 13, 9, 19, 38, 13, 10, 19, 24, 19, 19, 6], [13, 19, 3, 10, 18, 34, 10, 19, 13, 44, 25, 39, 10, 15, 14, 19, 2, 13, 26, 19, 3, 13, 20, 24, 20, 6], [4, 20, 5, 20, 39, 25, 6], [13, 22, 3, 9, 19, 38, 10, 14, 19, 13, 26, 3, 37, 32, 9, 19, 41, 38, 13, 26, 19, 24, 19, 6], [13, 10, 19, 13, 14, 22, 38, 13, 20, 20, 24, 19, 13, 26, 19, 3, 27, 9, 19, 38, 10, 14, 19, 13, 26, 19, 6], [2, 10, 22, 38, 13, 22, 13, 22, 38, 13, 20, 20, 24, 19, 19, 8, 9, 19, 13, 22, 38, 13, 20, 20, 6], [13, 10, 19, 39, 13, 25, 39, 14, 13, 27, 14, 22, 38, 20, 8, 20, 20, 14, 3, 10, 14, 19, 39, 27, 28, 14, 6], [23, 10, 19, 19, 13, 19, 39, 10, 14, 3, 14, 19, 6], [43, 38, 25, 22, 27, 37, 13, 26, 19, 8, 10, 16, 14, 19, 6], [20, 20, 20, 20, 3, 20, 6], [10, 20, 20, 13, 21, 21, 3, 10, 14, 19, 13, 10, 14, 22, 22, 3, 35, 10, 19, 13, 22, 8, 22, 13, 14, 22, 13, 19, 22, 6], [9, 22, 35, 37, 13, 10, 20, 3, 9, 35, 37, 8, 37, 8, 9, 35, 37, 6], [20, 21, 20, 13, 20, 8, 10, 19, 13, 10, 19, 3, 20, 20, 20, 13, 20, 10, 20, 3, 20, 3, 35, 27, 37, 1, 9, 8, 35, 13, 37, 22, 13, 36, 22, 13, 22, 22, 6], [27, 3, 20, 20, 35, 37, 13, 19, 13, 10, 20, 19, 6], [10, 20, 20, 3, 13, 20, 20, 3, 8, 20, 20, 18, 34, 37, 13, 19, 6], [10, 19, 19, 35, 10, 19, 13, 10, 19, 6], [20, 20, 8, 20, 3, 20, 3, 8, 10, 19, 13, 10, 19, 3, 20, 20, 20, 13, 20, 3, 35, 27, 37, 1, 9, 8, 37, 3, 13, 14, 14, 19, 13, 10, 19, 24, 22, 3, 13, 14, 22, 6], [27, 3, 20, 20, 35, 37, 13, 19, 13, 10, 20, 19, 6], [20, 20, 39, 27, 10, 20, 19, 19, 3, 10, 19, 35, 6], [20, 20, 3, 41, 27, 39, 10, 14, 19, 3, 27, 18, 27, 34, 37, 6], [20, 20, 20, 3, 13, 20, 3, 20, 3, 8, 10, 19, 13, 10, 19, 3, 20, 20, 13, 20, 3, 20, 3, 35, 27, 37, 1, 9, 8, 37, 14, 22, 13, 27, 36, 22, 13, 14, 22, 6], [20, 39, 27, 10, 19, 19, 3, 10, 19, 35, 6], [20, 20, 3, 41, 27, 39, 10, 14, 19, 19, 3, 27, 18, 27, 34, 37, 6], [20, 20, 3, 13, 20, 3, 20, 3, 8, 10, 19, 13, 10, 19, 3, 20, 20, 20, 3, 27, 13, 20, 3, 35, 27, 37, 1, 9, 8, 37, 14, 22, 13, 19, 13, 10, 19, 6], [13, 10, 36, 8, 36, 19, 3, 20, 8, 20, 20, 35, 32, 22, 13, 22, 13, 19, 13, 19, 22, 6], [22, 13, 20, 18, 27, 34, 37, 13, 19, 6], [20, 20, 35, 27, 34, 10, 19, 19, 32, 26, 19, 6], [20, 8, 20, 20, 20, 3, 13, 20, 20, 3, 20, 3, 8, 26, 19, 3, 20, 20, 20, 3, 13, 20, 20, 3, 20, 3, 35, 32, 10, 14, 19, 13, 1, 9, 6], [13, 36, 8, 36, 19, 3, 25, 35, 32, 22, 13, 22, 13, 19, 8, 14, 22, 6], [20, 20, 35, 27, 34, 10, 19, 36, 19, 6], [20, 20, 20, 20, 3, 13, 20, 20, 3, 8, 26, 19, 3, 20, 20, 20, 3, 27, 13, 20, 20, 3, 35, 32, 10, 1, 9, 19, 6], [27, 3, 20, 20, 35, 10, 14, 19, 44, 13, 10, 14, 19, 6], [2, 13, 36, 8, 36, 19, 3, 25, 35, 32, 22, 13, 25, 35, 27, 37, 10, 19, 24, 19, 19, 3, 35, 14, 22, 8, 22, 3, 8, 35, 14, 22, 6], [20, 20, 35, 25, 35, 37, 32, 10, 22, 8, 35, 32, 34, 27, 6], [20, 20, 20, 3, 20, 20, 3, 8, 9, 13, 26, 22, 7, 20, 20, 20, 8, 20, 20, 20, 20, 3, 10, 13, 20, 20, 3, 20, 3, 8, 20, 20, 20, 3, 13, 20, 20, 3, 20, 6], [7, 35, 32, 10, 19, 13, 1, 9, 6], [13, 36, 8, 36, 19, 3, 25, 35, 32, 22, 13, 25, 35, 32, 34, 22, 37, 32, 22, 13, 19, 13, 10, 19, 19, 6], [37, 13, 26, 19, 3, 20, 20, 3, 27, 19, 3, 35, 3, 44, 10, 19, 13, 25, 35, 32, 34, 19, 22, 39, 14, 8, 14, 6], [2, 25, 35, 10, 19, 13, 44, 10, 19, 19, 3, 10, 19, 19, 3, 2, 40, 25, 35, 35, 27, 37, 3, 13, 10, 22, 32, 22, 6], [20, 20, 8, 20, 3, 13, 20, 3, 20, 3, 8, 26, 19, 3, 20, 20, 20, 20, 3, 27, 13, 20, 3, 35, 37, 13, 36, 14, 22, 13, 9, 22, 8, 35, 27, 37, 1, 9, 6], [10, 19, 8, 20, 20, 27, 35, 22, 32, 10, 19, 13, 14, 22, 3, 13, 14, 14, 22, 6], [20, 20, 35, 10, 19, 35, 37, 22, 13, 14, 22, 8, 35, 13, 10, 19, 22, 13, 10, 20, 38, 19, 6], [10, 19, 8, 10, 20, 38, 13, 10, 19, 13, 19, 8, 19, 3, 25, 35, 6], [20, 20, 20, 20, 3, 20, 20, 3, 40, 39, 14, 13, 20, 20, 20, 3, 35, 32, 10, 1, 9, 19, 6], [13, 36, 8, 36, 19, 3, 10, 19, 35, 32, 22, 13, 25, 35, 32, 34, 44, 13, 10, 14, 19, 2, 32, 10, 20, 24, 22, 13, 19, 13, 19, 13, 10, 19, 19, 6], [10, 20, 19, 35, 10, 19, 6], [10, 36, 22, 35, 37, 13, 37, 8, 37, 13, 19, 13, 20, 22, 3, 8, 3, 43, 37, 3, 37, 6], [13, 43, 37, 3, 19, 13, 10, 22, 18, 34, 37, 13, 19, 8, 35, 10, 19, 6], [20, 20, 20, 3, 20, 3, 20, 3, 37, 1, 9, 7, 20, 20, 20, 20, 3, 20, 20, 3, 20, 3, 1, 9, 7, 20, 20, 3, 20, 20, 3, 20, 3, 1, 9, 8, 14, 19, 7, 20, 20, 3, 20, 20, 3, 20, 3, 1, 9, 8, 14, 19, 7, 20, 20, 20, 3, 20, 3, 20, 3, 1, 9, 8, 14, 19, 7, 20, 20, 20, 3, 20, 3, 20, 7, 20, 20, 3, 20, 3, 1, 9, 3, 35, 13, 10, 19, 7, 20, 20, 20, 3, 20, 3, 1, 9, 7, 20, 20, 20, 3, 37, 1, 9, 3, 37, 32, 34, 1, 9, 3, 14, 19, 6], [20, 20, 20, 3, 20, 3, 20, 3, 37, 1, 9, 7, 20, 20, 20, 3, 20, 3, 20, 3, 1, 9, 8, 14, 19, 7, 20, 20, 20, 3, 20, 20, 3, 20, 3, 37, 1, 9, 3, 37, 32, 34, 1, 9, 8, 37, 9, 19, 7, 20, 20, 20, 3, 20, 20, 3, 37, 1, 9, 3, 37, 32, 34, 1, 9, 8, 37, 9, 22, 6], [20, 20, 35, 3, 44, 25, 35, 41, 35, 32, 10, 19, 19, 3, 8, 13, 36, 13, 25, 3, 25, 35, 30, 13, 10, 14, 19, 8, 19, 6], [2, 10, 19, 44, 35, 27, 34, 19, 24, 22, 22, 3, 2, 25, 35, 6], [20, 20, 20, 3, 20, 3, 20, 3, 37, 1, 9, 7, 20, 20, 20, 3, 20, 3, 1, 9, 7, 20, 20, 20, 3, 20, 3, 20, 3, 1, 9, 7, 20, 20, 3, 20, 3, 20, 3, 1, 9, 7, 20, 20, 20, 3, 20, 3, 1, 9, 8, 14, 19, 7, 20, 20, 20, 3, 20, 20, 3, 1, 9, 7, 20, 20, 20, 20, 3, 20, 20, 3, 20, 3, 1, 9, 7, 20, 20, 20, 3, 20, 20, 3, 20, 3, 1, 9, 7, 20, 20, 20, 3, 20, 3, 20, 3, 1, 9, 6], [20, 20, 20, 20, 3, 20, 3, 20, 3, 37, 1, 9, 7, 20, 20, 20, 3, 20, 20, 20, 3, 20, 3, 1, 9, 7, 20, 20, 20, 3, 20, 3, 20, 3, 37, 1, 9, 3, 37, 32, 34, 1, 9, 7, 20, 20, 20, 3, 20, 3, 20, 3, 1, 9, 7, 20, 20, 20, 3, 20, 3, 20, 3, 1, 9, 8, 14, 19, 7, 20, 20, 3, 20, 20, 3, 20, 3, 1, 9, 7, 20, 20, 3, 20, 3, 1, 9, 8, 14, 19, 7, 20, 20, 20, 3, 20, 20, 3, 1, 9, 7, 20, 20, 20, 3, 20, 20, 3, 1, 9, 6], [10, 36, 35, 10, 37, 8, 37, 7, 20, 20, 20, 3, 20, 20, 3, 20, 3, 37, 1, 9, 8, 37, 32, 34, 1, 9, 7, 20, 20, 20, 3, 20, 3, 20, 3, 37, 1, 9, 8, 37, 32, 34, 1, 9, 7, 20, 20, 20, 3, 20, 20, 3, 20, 3, 37, 1, 9, 6], [20, 20, 3, 10, 37, 19, 13, 10, 19, 19, 3, 35, 25, 44, 35, 30, 2, 13, 25, 35, 27, 34, 25, 35, 36, 22, 22, 6], [44, 19, 22, 38, 37, 37, 13, 26, 22, 13, 36, 37, 22, 3, 2, 25, 35, 3, 44, 8, 25, 38, 27, 36, 19, 8, 14, 19, 13, 13, 25, 18, 34, 14, 22, 6], [2, 10, 19, 35, 37, 8, 3, 43, 37, 3, 37, 8, 35, 32, 22, 13, 36, 8, 36, 19, 7, 20, 20, 20, 3, 20, 3, 20, 3, 1, 9, 19, 7, 20, 20, 20, 3, 20, 3, 1, 9, 19, 8, 14, 19, 7, 20, 20, 20, 3, 20, 20, 3, 20, 3, 1, 9, 19, 3, 14, 19, 8, 14, 19, 13, 10, 19, 7, 20, 20, 20, 3, 20, 20, 3, 20, 3, 1, 9, 19, 8, 14, 19, 7, 20, 20, 20, 3, 20, 3, 20, 3, 1, 9, 19, 7, 20, 20, 20, 3, 20, 20, 3, 1, 9, 19, 8, 14, 19, 7, 20, 20, 20, 3, 20, 20, 3, 20, 3, 1, 9, 19, 7, 20, 20, 20, 3, 20, 3, 20, 3, 1, 9, 19, 8, 14, 19, 7, 20, 20, 20, 3, 20, 20, 3, 1, 9, 19, 8, 14, 19, 7, 20, 20, 20, 3, 20, 20, 3, 1, 9, 19, 8, 14, 19, 7, 20, 20, 20, 3, 20, 20, 3, 20, 3, 1, 9, 19, 7, 20, 20, 20, 3, 20, 3, 20, 3, 1, 9, 19, 8, 14, 19, 7, 20, 20, 20, 3, 20, 3, 20, 3, 1, 9, 19, 8, 14, 19, 7, 20, 20, 20, 3, 20, 20, 3, 20, 3, 1, 9, 8, 14, 19, 7, 20, 20, 20, 3, 20, 20, 3, 1, 9, 8, 14, 19, 7, 8, 20, 20, 20, 3, 20, 20, 3, 20, 3, 14, 19, 6], [44, 25, 35, 27, 27, 27, 37, 13, 10, 22, 22, 3, 2, 35, 20, 20, 6], [44, 25, 27, 35, 10, 22, 13, 10, 6], [25, 35, 27, 10, 14, 19, 32, 34, 10, 19, 3, 2, 25, 35, 3, 36, 3, 44, 25, 18, 27, 27, 27, 27, 34, 13, 2, 22, 13, 10, 19, 6], [19, 22, 38, 14, 13, 36, 13, 13, 25, 38, 37, 13, 10, 20, 3, 25, 18, 27, 34, 32, 14, 19, 22, 6], [8, 13, 20, 8, 20, 3, 43, 14, 19, 27, 39, 10, 14, 8, 36, 19, 3, 22, 38, 10, 19, 13, 22, 38, 6], [19, 22, 3, 27, 13, 20, 3, 27, 18, 34, 10, 19, 13, 19, 19, 13, 22, 36, 32, 34, 30, 10, 20, 19, 13, 26, 22, 8, 36, 27, 13, 26, 19, 6], [20, 39, 44, 27, 37, 2, 13, 10, 14, 22, 13, 19, 19, 3, 10, 14, 14, 19, 35, 13, 10, 20, 9, 19, 19, 13, 20, 20, 6], [20, 19, 22, 38, 27, 27, 37, 13, 20, 27, 6], [8, 13, 13, 10, 19, 19, 3, 10, 14, 8, 10, 20, 22, 24, 19, 22, 38, 27, 34, 6], [25, 10, 39, 30, 32, 10, 19, 32, 14, 19, 19, 3, 10, 29, 14, 19, 13, 20, 19, 19, 40, 39, 32, 34, 14, 22, 13, 22, 13, 22, 13, 20, 20, 8, 10, 19, 13, 10, 22, 19, 13, 20, 37, 13, 10, 22, 6], [13, 9, 19, 13, 10, 19, 19, 13, 20, 20, 20, 20, 22, 13, 20, 35, 19, 13, 14, 22, 3, 36, 32, 20, 20, 22, 6], [8, 25, 39, 14, 32, 34, 20, 36, 32, 34, 14, 14, 22, 6], [20, 24, 20, 20, 27, 39, 36, 14, 22, 24, 19, 32, 34, 13, 19, 22, 38, 37, 32, 34, 13, 10, 14, 19, 13, 19, 19, 3, 35, 20, 20, 3, 19, 19, 13, 14, 19, 6], [19, 19, 39, 37, 27, 13, 20, 13, 14, 19, 24, 19, 13, 14, 19, 22, 19, 13, 10, 20, 8, 20, 19, 22, 6], [8, 22, 38, 14, 6], [25, 38, 27, 37, 10, 19, 13, 19, 22, 14, 20, 9, 3, 43, 10, 14, 19, 13, 14, 19, 19, 35, 22, 27, 13, 10, 14, 14, 13, 19, 3, 14, 22, 41, 35, 25, 35, 37, 14, 22, 32, 34, 23, 10, 19, 6], [20, 24, 20, 20, 35, 37, 30, 22, 32, 34, 43, 14, 22, 22, 18, 34, 13, 10, 14, 19, 8, 32, 34, 19, 22, 10, 19, 32, 34, 19, 13, 22, 13, 10, 19, 6], [44, 27, 25, 35, 27, 27, 3, 2, 10, 20, 20, 19, 35, 13, 10, 20, 9, 19, 6], [20, 24, 22, 38, 13, 37, 22, 13, 14, 19, 22, 6], [20, 24, 36, 19, 22, 38, 10, 14, 20, 22, 22, 3, 13, 10, 20, 38, 36, 19, 6], [10, 20, 22, 3, 27, 20, 20, 8, 20, 20, 20, 20, 3, 38, 37, 10, 14, 19, 13, 26, 14, 22, 13, 19, 19, 3, 10, 13, 22, 8, 13, 26, 14, 22, 6], [4, 20, 20, 14, 19, 35, 10, 36, 19, 13, 20, 22, 22, 40, 38, 37, 36, 19, 19, 13, 26, 14, 22, 6], [5, 10, 20, 20, 20, 3, 41, 39, 20, 13, 20, 3, 8, 20, 20, 20, 3, 41, 39, 20, 20, 27, 3, 38, 10, 14, 19, 13, 26, 22, 24, 19, 13, 20, 32, 26, 19, 32, 34, 14, 3, 14, 19, 22, 32, 14, 14, 22, 6], [25, 38, 27, 34, 22, 32, 34, 27, 6], [44, 25, 39, 27, 37, 14, 13, 10, 22, 27, 3, 2, 20, 20, 35, 6], [44, 10, 14, 19, 39, 32, 34, 13, 10, 19, 19, 27, 7, 39, 14, 27, 8, 19, 27, 13, 10, 22, 19, 39, 27, 36, 10, 14, 19, 25, 39, 13, 20, 6], [2, 10, 20, 27, 38, 36, 19, 22, 6], [19, 19, 39, 44, 19, 25, 38, 32, 34, 27, 3, 2, 10, 19, 13, 20, 24, 20, 20, 35, 6], [44, 25, 38, 27, 34, 11, 39, 19, 13, 19, 13, 10, 19, 6], [2, 20, 39, 27, 13, 10, 19, 13, 19, 19, 13, 20, 22, 6], [19, 22, 35, 20, 39, 14, 22, 6], [14, 3, 10, 19, 39, 37, 13, 10, 19, 8, 39, 27, 37, 13, 8, 10, 20, 8, 20, 19, 19, 22, 6], [14, 3, 25, 18, 34, 37, 32, 34, 22, 13, 20, 19, 39, 3, 8, 13, 22, 37, 32, 10, 14, 19, 24, 20, 20, 19, 6], [13, 19, 32, 10, 14, 19, 13, 10, 22, 3, 10, 22, 18, 27, 34, 28, 14, 32, 34, 3, 13, 10, 22, 38, 27, 34, 32, 34, 10, 19, 19, 19, 8, 10, 19, 24, 19, 6], [27, 3, 44, 27, 28, 4, 19, 19, 5, 39, 37, 13, 27, 13, 13, 10, 20, 2, 35, 20, 20, 3, 19, 19, 19, 13, 20, 20, 20, 20, 3, 40, 39, 13, 0, 9, 9, 4, 1, 9, 9, 5, 13, 20, 20, 14, 22, 6], [20, 39, 9, 14, 19, 22, 6], [10, 20, 20, 20, 14, 19, 19, 19, 39, 37, 13, 10, 20, 20, 20, 24, 20, 21, 20, 6], [8, 10, 20, 22, 19, 39, 37, 13, 10, 20, 20, 20, 21, 20, 6], [10, 22, 38, 37, 10, 19, 13, 10, 9, 14, 19, 19, 6], [10, 14, 19, 13, 20, 19, 22, 37, 13, 10, 20, 19, 39, 37, 27, 27, 13, 10, 19, 24, 19, 13, 9, 6], [10, 19, 3, 10, 19, 13, 14, 22, 37, 35, 9, 3, 13, 13, 9, 10, 19, 15, 8, 13, 9, 13, 9, 6], [8, 10, 19, 27, 10, 19, 35, 13, 10, 19, 13, 22, 19, 35, 27, 9, 19, 13, 10, 19, 13, 10, 36, 19, 19, 3, 19, 22, 35, 6], [10, 39, 13, 22, 13, 10, 20, 44, 22, 2, 19, 39, 27, 9, 22, 27, 14, 13, 10, 36, 14, 19, 6], [10, 20, 35, 32, 34, 10, 14, 14, 19, 13, 10, 14, 19, 13, 14, 9, 3, 36, 10, 14, 9, 19, 13, 10, 19, 19, 37, 13, 20, 20, 6], [10, 19, 35, 13, 10, 19, 14, 13, 22, 13, 10, 22, 8, 22, 13, 10, 14, 19, 13, 10, 19, 19, 6], [22, 35, 10, 14, 19, 3, 32, 1, 9, 10, 19, 13, 20, 9, 3, 39, 27, 14, 13, 10, 36, 19, 3, 13, 22, 35, 13, 10, 19, 18, 27, 34, 14, 19, 8, 34, 14, 22, 13, 22, 6], [8, 10, 19, 35, 10, 19, 37, 32, 13, 20, 13, 20, 20, 8, 14, 22, 13, 20, 3, 13, 14, 21, 35, 10, 20, 20, 32, 34, 10, 19, 13, 26, 14, 19, 32, 34, 6], [13, 10, 22, 35, 10, 19, 3, 40, 18, 34, 32, 10, 14, 19, 13, 10, 14, 19, 13, 10, 14, 19, 35, 37, 13, 9, 3, 36, 10, 19, 32, 1, 9, 10, 19, 13, 1, 9, 6], [13, 10, 19, 35, 19, 3, 10, 14, 19, 18, 34, 32, 1, 9, 14, 20, 6], [10, 20, 39, 32, 34, 30, 10, 19, 27, 8, 39, 37, 32, 34, 25, 6], [44, 11, 38, 10, 22, 13, 10, 19, 3, 2, 20, 20, 20, 4, 20, 3, 20, 6], [5, 35, 13, 20, 19, 19, 19, 6], [8, 44, 13, 25, 39, 10, 25, 38, 37, 3, 25, 38, 36, 32, 34, 13, 25, 6], [2, 13, 10, 14, 19, 35, 27, 37, 37, 13, 23, 10, 14, 20, 19, 19, 3, 10, 19, 13, 1, 9, 10, 19, 13, 9, 18, 27, 34, 15, 13, 9, 19, 13, 14, 19, 19, 3, 20, 20, 35, 6], [8, 20, 20, 20, 4, 20, 3, 20, 6], [5, 27, 35, 10, 20, 24, 19, 13, 10, 14, 19, 44, 19, 2, 19, 3, 10, 19, 13, 20, 22, 38, 37, 13, 14, 22, 6], [36, 10, 14, 19, 39, 44, 36, 13, 10, 19, 8, 19, 13, 10, 14, 19, 3, 2, 20, 20, 35, 6], [19, 22, 38, 10, 19, 19, 13, 36, 32, 34, 10, 19, 13, 22, 13, 10, 19, 13, 10, 14, 19, 3, 8, 25, 38, 27, 37, 25, 27, 14, 32, 34, 34, 19, 22, 32, 22, 13, 10, 19, 19, 6], [19, 22, 8, 21, 27, 35, 10, 19, 3, 8, 27, 35, 32, 25, 13, 10, 19, 13, 20, 19, 19, 6], [10, 19, 39, 10, 19, 19, 13, 1, 9, 10, 19, 13, 20, 3, 8, 13, 1, 9, 10, 19, 3, 8, 9, 19, 13, 10, 14, 19, 3, 13, 20, 9, 6], [22, 18, 34, 10, 19, 13, 9, 22, 3, 13, 19, 3, 32, 22, 13, 15, 13, 9, 22, 13, 19, 19, 3, 8, 13, 10, 9, 22, 13, 10, 19, 39, 10, 14, 19, 19, 13, 10, 14, 22, 6], [10, 19, 19, 39, 14, 22, 41, 38, 9, 32, 9, 22, 14, 6], [10, 20, 20, 27, 35, 13, 10, 14, 14, 19, 19, 40, 18, 34, 37, 10, 19, 10, 19, 13, 10, 19, 35, 10, 14, 19, 6], [10, 20, 20, 13, 20, 3, 27, 37, 32, 10, 19, 19, 3, 35, 10, 19, 19, 32, 34, 10, 19, 19, 9, 19, 13, 9, 22, 13, 20, 9, 8, 20, 9, 44, 18, 34, 14, 13, 14, 22, 32, 34, 8, 18, 34, 13, 10, 19, 13, 22, 13, 14, 22, 8, 15, 22, 13, 14, 22, 6], [20, 20, 21, 20, 3, 10, 19, 13, 20, 20, 20, 3, 35, 10, 1, 9, 9, 20, 19, 13, 19, 8, 22, 13, 22, 13, 10, 14, 19, 6], [20, 20, 20, 35, 10, 1, 9, 9, 20, 20, 19, 13, 19, 19, 19, 19, 6], [20, 20, 20, 35, 37, 10, 1, 9, 9, 20, 20, 19, 13, 19, 19, 8, 36, 19, 6], [20, 20, 20, 35, 10, 1, 9, 9, 20, 20, 19, 13, 19, 22, 19, 6], [13, 9, 22, 3, 20, 20, 20, 20, 39, 37, 14, 22, 13, 10, 20, 20, 19, 7, 14, 8, 14, 6], [10, 19, 27, 7, 18, 25, 34, 28, 13, 14, 20, 20, 6], [20, 20, 3, 10, 14, 19, 8, 19, 14, 19, 13, 20, 20, 39, 36, 10, 19, 19, 24, 14, 1, 9, 9, 19, 13, 20, 20, 20, 20, 6], [20, 39, 37, 10, 19, 10, 14, 14, 19, 3, 10, 19, 20, 20, 39, 27, 37, 13, 26, 9, 15, 22, 3, 10, 13, 40, 35, 37, 13, 10, 22, 6], [13, 27, 3, 20, 20, 39, 36, 32, 34, 20, 13, 36, 10, 14, 19, 13, 36, 14, 6], [44, 25, 38, 37, 32, 34, 27, 19, 13, 10, 19, 3, 2, 25, 39, 6], [8, 10, 19, 19, 39, 30, 10, 19, 13, 10, 19, 19, 3, 13, 10, 10, 39, 6], [13, 10, 19, 39, 10, 19, 3, 13, 19, 3, 20, 20, 18, 34, 10, 19, 13, 36, 10, 19, 13, 20, 8, 36, 10, 19, 19, 13, 10, 22, 13, 10, 19, 6], [37, 10, 19, 3, 22, 13, 20, 20, 8, 19, 22, 38, 10, 14, 19, 19, 7, 41, 39, 37, 10, 19, 13, 27, 36, 13, 19, 7, 18, 34, 6], [44, 11, 39, 10, 19, 13, 40, 25, 38, 14, 20, 39, 10, 19, 27, 32, 34, 3, 2, 39, 20, 20, 3, 20, 24, 14, 19, 19, 13, 19, 8, 19, 6], [39, 14, 19, 20, 20, 3, 19, 19, 3, 14, 19, 3, 13, 20, 21, 20, 7, 44, 25, 39, 27, 13, 10, 14, 19, 13, 36, 13, 10, 19, 6], [2, 25, 27, 39, 10, 19, 19, 3, 22, 38, 6], [10, 19, 32, 34, 10, 19, 13, 20, 3, 13, 19, 3, 35, 37, 27, 13, 10, 9, 22, 13, 20, 24, 19, 19, 35, 13, 10, 19, 7, 27, 13, 20, 20, 35, 25, 35, 32, 34, 13, 10, 19, 27, 13, 3, 39, 20, 20, 6], [22, 38, 20, 20, 35, 30, 10, 14, 19, 32, 19, 13, 19, 13, 20, 20, 20, 6], [36, 10, 19, 13, 10, 19, 13, 9, 3, 25, 35, 13, 19, 3, 13, 39, 10, 19, 13, 22, 3, 39, 20, 20, 20, 3, 10, 19, 19, 41, 39, 36, 10, 19, 13, 20, 20, 6], [8, 25, 27, 35, 10, 19, 32, 34, 10, 14, 19, 6], [13, 9, 3, 20, 20, 35, 30, 19, 22, 32, 34, 19, 22, 41, 35, 36, 10, 19, 19, 6], [10, 37, 20, 20, 20, 3, 20, 24, 19, 14, 13, 10, 19, 3, 41, 20, 20, 35, 37, 13, 36, 13, 10, 19, 6], [13, 9, 3, 20, 20, 35, 20, 20, 13, 36, 10, 19, 13, 14, 19, 19, 13, 19, 13, 22, 7, 10, 19, 35, 14, 13, 20, 41, 35, 27, 34, 10, 19, 19, 18, 34, 10, 19, 32, 10, 14, 19, 6], [8, 20, 20, 35, 27, 13, 10, 22, 3, 36, 10, 14, 19, 13, 25, 39, 25, 35, 25, 35, 27, 13, 6], [10, 19, 13, 10, 19, 3, 20, 20, 35, 14, 19, 13, 26, 19, 19, 35, 27, 27, 13, 26, 22, 6], [36, 27, 13, 19, 3, 25, 35, 20, 20, 20, 13, 10, 20, 13, 20, 13, 19, 9, 3, 13, 36, 27, 9, 9, 22, 13, 19, 6], [25, 35, 26, 19, 13, 14, 19, 13, 10, 20, 20, 13, 20, 6], [20, 20, 39, 13, 25, 39, 10, 44, 14, 2, 19, 3, 8, 22, 38, 10, 39, 10, 19, 6], [25, 38, 25, 44, 14, 2, 6], [20, 20, 27, 39, 37, 10, 14, 19, 13, 20, 6], [36, 30, 27, 19, 14, 19, 13, 9, 3, 25, 35, 10, 19, 40, 35, 37, 13, 19, 8, 37, 13, 10, 14, 19, 13, 26, 22, 19, 6], [20, 20, 35, 36, 14, 22, 3, 14, 13, 19, 8, 19, 8, 22, 6], [25, 27, 35, 9, 19, 40, 35, 19, 19, 22, 6], [13, 10, 14, 19, 3, 25, 35, 36, 30, 10, 19, 8, 19, 19, 13, 10, 19, 19, 19, 19, 22, 13, 19, 19, 8, 19, 3, 27, 13, 22, 13, 14, 19, 6], [10, 19, 35, 32, 34, 19, 22, 13, 22, 13, 14, 19, 6], [10, 19, 39, 37, 30, 3, 27, 27, 6], [20, 24, 22, 35, 32, 1, 9, 9, 14, 19, 3, 37, 13, 1, 9, 9, 13, 9, 3, 43, 20, 20, 35, 10, 22, 6], [19, 13, 36, 22, 39, 37, 32, 1, 9, 9, 13, 1, 9, 9, 6], [20, 20, 39, 10, 22, 32, 10, 19, 13, 36, 13, 41, 10, 19, 39, 16, 6], [44, 10, 19, 13, 22, 40, 38, 37, 39, 27, 10, 10, 14, 3, 2, 25, 39, 6], [20, 18, 27, 34, 10, 19, 6], [25, 18, 34, 10, 14, 19, 3, 20, 20, 8, 14, 22, 38, 3, 13, 9, 14, 22, 13, 14, 22, 8, 14, 19, 39, 6], [10, 36, 19, 18, 34, 10, 16, 22, 19, 13, 10, 19, 13, 37, 22, 13, 15, 13, 1, 9, 9, 6], [8, 18, 20, 20, 34, 25, 13, 6], [13, 10, 19, 3, 19, 22, 38, 3, 25, 39, 36, 14, 22, 6], [39, 20, 20, 3, 10, 19, 13, 20, 20, 20, 7, 44, 10, 39, 10, 16, 19, 19, 25, 39, 37, 6], ['NNP', 'NNP', ',', 'CD', 'NNS', 'JJ', ',', 'MD', 'VB', 'DT', 'NN', 'IN', 'DT', 'JJ', 'NN', 'NNP', 'CD', '.']]\n"
          ]
        }
      ]
    },
    {
      "cell_type": "markdown",
      "metadata": {
        "id": "QsAgPfRqStWK"
      },
      "source": [
        "### Dataset analysis"
      ]
    },
    {
      "cell_type": "code",
      "metadata": {
        "colab": {
          "base_uri": "https://localhost:8080/"
        },
        "id": "LT0pl2UG0H0O",
        "outputId": "bd394afc-0c7a-4cd6-826e-308de2b14974"
      },
      "source": [
        "max_length"
      ],
      "execution_count": 12,
      "outputs": [
        {
          "output_type": "execute_result",
          "data": {
            "text/plain": [
              "250"
            ]
          },
          "metadata": {},
          "execution_count": 12
        }
      ]
    },
    {
      "cell_type": "markdown",
      "metadata": {
        "id": "ys_LD3OQc7Si"
      },
      "source": [
        "#### Plot dataset distribution"
      ]
    },
    {
      "cell_type": "code",
      "metadata": {
        "colab": {
          "base_uri": "https://localhost:8080/",
          "height": 348
        },
        "id": "kB2qkpAFZyAs",
        "outputId": "18515cb7-f2f5-4a54-976b-73e2b6e8104f"
      },
      "source": [
        "train_counts = train_set.groupby(by='label').count()\n",
        "val_counts = val_set.groupby(by='label').count()\n",
        "val_counts = val_counts.reindex(labels, fill_value=0)\n",
        "test_counts = test_set.groupby(by='label').count()\n",
        "test_counts = test_counts.reindex(labels, fill_value=0)\n",
        "ind = np.arange(len(labels))\n",
        "\n",
        "plt.figure(figsize=(18,6))\n",
        "width = 0.2       \n",
        "plt.bar(ind, train_counts.loc[labels, 'word'] , width, label='Train set');\n",
        "plt.bar(ind + width, val_counts.loc[labels, 'word'], width, label='Validation set');\n",
        "plt.bar(ind + 2*width, test_counts.loc[labels, 'word'], width, label='Test set');\n",
        "\n",
        "plt.xlabel('Labels');\n",
        "plt.ylabel('Count');\n",
        "plt.title('Dataset distribution');\n",
        "plt.xticks(ind + width / 3, labels, rotation=45);\n",
        "plt.legend();"
      ],
      "execution_count": null,
      "outputs": [
        {
          "output_type": "display_data",
          "data": {
            "image/png": "[encoded data removed]",
            "text/plain": [
              "<Figure size 1296x432 with 1 Axes>"
            ]
          },
          "metadata": {
            "needs_background": "light"
          }
        }
      ]
    },
    {
      "cell_type": "code",
      "metadata": {
        "id": "FsUG2Cee8vMU",
        "colab": {
          "base_uri": "https://localhost:8080/",
          "height": 421
        },
        "outputId": "1bde23e6-ba08-4839-be48-d41ea48d39a4"
      },
      "source": [
        "# Secondo me è meglio plottare la percentuale di Tag nei set piuttosto che il valore assoluto\n",
        "\n",
        "train_counts = train_set.groupby(by='label').count()\n",
        "train_counts = train_counts / train_counts.sum() * 100\n",
        "val_counts = val_set.groupby(by='label').count()\n",
        "val_counts = val_counts / val_counts.sum() * 100\n",
        "val_counts = val_counts.reindex(labels, fill_value=0)\n",
        "test_counts = test_set.groupby(by='label').count()\n",
        "test_counts = test_counts / test_counts.sum() * 100\n",
        "test_counts = test_counts.reindex(labels, fill_value=0)\n",
        "ind = np.arange(len(labels))\n",
        "\n",
        "plt.figure(figsize=(18,6))\n",
        "width = 0.2       \n",
        "plt.bar(ind, train_counts.loc[labels, 'word'] , width, label='Train set');\n",
        "plt.bar(ind + width, val_counts.loc[labels, 'word'], width, label='Validation set');\n",
        "plt.bar(ind + 2*width, test_counts.loc[labels, 'word'], width, label='Test set');\n",
        "\n",
        "plt.xlabel('Labels');\n",
        "plt.ylabel('Count %');\n",
        "plt.title('Dataset distribution');\n",
        "\n",
        "plt.xticks(ind + width / 3, labels, rotation=45);\n",
        "plt.legend();"
      ],
      "execution_count": null,
      "outputs": [
        {
          "output_type": "display_data",
          "data": {
            "image/png": "[encoded data removed]",
            "text/plain": [
              "<Figure size 1296x432 with 1 Axes>"
            ]
          },
          "metadata": {
            "needs_background": "light"
          }
        }
      ]
    },
    {
      "cell_type": "markdown",
      "metadata": {
        "id": "GpBgAWGoje7b"
      },
      "source": [
        "### Downloading GloVe and creating the embeddings"
      ]
    },
    {
      "cell_type": "code",
      "metadata": {
        "id": "e7YehS9T9aWO"
      },
      "source": [
        "# Funzioni copiate dai tutorial, possono essere utili per scaricare al volo glove, e per la gestione dei vocabulary\n",
        "\n",
        "import gensim\n",
        "import gensim.downloader as gloader\n",
        "\n",
        "from collections import OrderedDict\n",
        "from tqdm import tqdm\n",
        "\n",
        "from typing import  Dict, List\n",
        "\n",
        "# Function definition\n",
        "def build_vocabulary(df: pd.DataFrame) -> (Dict[int, str],\n",
        "                                           Dict[str, int],\n",
        "                                           List[str]):\n",
        "    \"\"\"\n",
        "    Given a dataset, builds the corresponding word vocabulary.\n",
        "\n",
        "    :param df: dataset from which we want to build the word vocabulary (pandas.DataFrame)\n",
        "    :return:\n",
        "      - word vocabulary: vocabulary index to word\n",
        "      - inverse word vocabulary: word to vocabulary index\n",
        "      - word listing: set of unique terms that build up the vocabulary\n",
        "    \"\"\"\n",
        "\n",
        "    idx_to_word = OrderedDict()\n",
        "    word_to_idx = OrderedDict()\n",
        "    \n",
        "    curr_idx = 0\n",
        "    for token in tqdm(df.word.values):\n",
        "        if token not in word_to_idx:\n",
        "            word_to_idx[token] = curr_idx\n",
        "            idx_to_word[curr_idx] = token\n",
        "            curr_idx += 1\n",
        "\n",
        "    word_listing = list(idx_to_word.values())\n",
        "\n",
        "    return idx_to_word, word_to_idx, word_listing\n",
        "\n",
        "def load_glove_embedding(embedding_dimension: int = 50) -> gensim.models.keyedvectors.KeyedVectors:\n",
        "    \"\"\"\n",
        "    Loads a pre-trained word embedding model via gensim library.\n",
        "\n",
        "    :param embedding_dimension: size of the embedding space to consider\n",
        "\n",
        "    :return\n",
        "        - pre-trained word embedding model (gensim KeyedVectors object)\n",
        "    \"\"\"\n",
        "\n",
        "    download_path = f'glove-wiki-gigaword-{embedding_dimension}'\n",
        "\n",
        "    # Check download\n",
        "    try:\n",
        "        emb_model = gloader.load(download_path)\n",
        "    except ValueError as e:\n",
        "        print(\"Invalid embedding model name! Check the embedding dimension:\")\n",
        "        print(\"Glove: 50, 100, 200, 300\")\n",
        "        raise e\n",
        "\n",
        "    return emb_model\n",
        "\n",
        "def check_OOV_terms(embedding_model: gensim.models.keyedvectors.KeyedVectors,\n",
        "                    word_listing: List[str]):\n",
        "    \"\"\"\n",
        "    Checks differences between pre-trained embedding model vocabulary\n",
        "    and dataset specific vocabulary in order to highlight out-of-vocabulary terms.\n",
        "\n",
        "    :param embedding_model: pre-trained word embedding model (gensim wrapper)\n",
        "    :param word_listing: dataset specific vocabulary (list)\n",
        "\n",
        "    :return\n",
        "        - list of OOV terms\n",
        "    \"\"\"\n",
        "\n",
        "    embedding_vocabulary = set(embedding_model.vocab.keys())\n",
        "    oov = set(word_listing).difference(embedding_vocabulary)\n",
        "    return list(oov)\n",
        "\n",
        "def build_embedding_matrix(embedding_model: gensim.models.keyedvectors.KeyedVectors,\n",
        "                           embedding_dimension: int,\n",
        "                           word_to_idx: Dict[str, int],\n",
        "                           oov_terms: List[str]) -> np.ndarray:\n",
        "    \"\"\"\n",
        "    Builds the embedding matrix of a specific dataset given a pre-trained word embedding model\n",
        "\n",
        "    :param embedding_model: pre-trained word embedding model (gensim wrapper)\n",
        "    :param word_to_idx: vocabulary map (word -> index) (dict)\n",
        "    :param oov_terms: list of OOV terms (list)\n",
        "\n",
        "    :return\n",
        "        - embedding matrix that assigns a high dimensional vector to each word in the dataset specific vocabulary (shape |V| x d)\n",
        "    \"\"\"\n",
        "    vocab_size = len(word_to_idx)\n",
        "    embedding_matrix = np.zeros((vocab_size, embedding_dimension), dtype=np.float32)\n",
        "\n",
        "    for word, idx in tqdm(word_to_idx.items()):\n",
        "        try:\n",
        "            embedding_vector = embedding_model[word]\n",
        "        except (KeyError, TypeError):\n",
        "            embedding_vector = np.random.uniform(low=-0.05, high=0.05, size=embedding_dimension)\n",
        "\n",
        "        embedding_matrix[idx] = embedding_vector\n",
        "\n",
        "    return embedding_matrix"
      ],
      "execution_count": null,
      "outputs": []
    },
    {
      "cell_type": "code",
      "metadata": {
        "id": "E1HPEHFF9bOz",
        "colab": {
          "base_uri": "https://localhost:8080/"
        },
        "outputId": "b333d2ed-95ae-4885-a1f7-91b1074a0b3c"
      },
      "source": [
        "# Esempi di utilizzo\n",
        "\n",
        "train_id_w, train_w_id, train_words = build_vocabulary(train_set)\n",
        "val_id_w, val_w_id, val_words = build_vocabulary(val_set)\n",
        "test_id_w, test_w_id, test_words = build_vocabulary(test_set)\n",
        "\n",
        "print()\n",
        "print(f'Train: {len(train_words)} words')\n",
        "print(f'Validation: {len(val_words)} words')\n",
        "print(f'Test: {len(test_words)} words')\n",
        "\n",
        "embedding_dimension = 50\n",
        "\n",
        "glove_50 = load_glove_embedding(embedding_dimension=50)\n",
        "\n",
        "oov_terms = check_OOV_terms(glove_50, test_words)\n",
        "\n",
        "ovperc = len(oov_terms)/len(train_words) * 100\n",
        "print(f'Total OOV terms: {len(oov_terms)} ({ovperc:.2f}%)')\n",
        "\n",
        "embedding_matrix = build_embedding_matrix(glove_50, embedding_dimension,\n",
        "                                          train_w_id,\n",
        "                                          check_OOV_terms(glove_50, train_words))\n",
        "\n",
        "print(f'Embedding matrix shape: {embedding_matrix.shape}')"
      ],
      "execution_count": null,
      "outputs": [
        {
          "output_type": "stream",
          "name": "stderr",
          "text": [
            "100%|██████████| 47356/47356 [00:00<00:00, 2185579.45it/s]\n",
            "100%|██████████| 31183/31183 [00:00<00:00, 1921390.63it/s]\n",
            "100%|██████████| 15545/15545 [00:00<00:00, 1944250.95it/s]\n"
          ]
        },
        {
          "output_type": "stream",
          "name": "stdout",
          "text": [
            "\n",
            "Train: 8009 words\n",
            "Validation: 5892 words\n",
            "Test: 3623 words\n",
            "[==================================================] 100.0% 66.0/66.0MB downloaded\n",
            "Total OOV terms: 957 (11.95%)\n"
          ]
        },
        {
          "output_type": "stream",
          "name": "stderr",
          "text": [
            "100%|██████████| 8009/8009 [00:00<00:00, 208328.77it/s]"
          ]
        },
        {
          "output_type": "stream",
          "name": "stdout",
          "text": [
            "Embedding matrix shape: (8009, 50)\n"
          ]
        },
        {
          "output_type": "stream",
          "name": "stderr",
          "text": [
            "\n"
          ]
        }
      ]
    },
    {
      "cell_type": "markdown",
      "metadata": {
        "id": "54Mc72CUofKk"
      },
      "source": [
        "Glove has 3 .txt file that uses embeddings of different dimensions (50/100/200/300)."
      ]
    },
    {
      "cell_type": "code",
      "metadata": {
        "id": "cP3Fv3ZHjeJm",
        "colab": {
          "base_uri": "https://localhost:8080/"
        },
        "outputId": "6fb9f16d-a905-4c2e-e10f-7adb4f6788cb"
      },
      "source": [
        "!wget https://nlp.stanford.edu/data/glove.6B.zip\n",
        "!unzip -q glove.6B.zip"
      ],
      "execution_count": null,
      "outputs": [
        {
          "output_type": "stream",
          "name": "stdout",
          "text": [
            "--2021-12-01 12:49:28--  https://nlp.stanford.edu/data/glove.6B.zip\n",
            "Resolving nlp.stanford.edu (nlp.stanford.edu)... 171.64.67.140\n",
            "Connecting to nlp.stanford.edu (nlp.stanford.edu)|171.64.67.140|:443... connected.\n",
            "HTTP request sent, awaiting response... 301 Moved Permanently\n",
            "Location: http://downloads.cs.stanford.edu/nlp/data/glove.6B.zip [following]\n",
            "--2021-12-01 12:49:28--  http://downloads.cs.stanford.edu/nlp/data/glove.6B.zip\n",
            "Resolving downloads.cs.stanford.edu (downloads.cs.stanford.edu)... 171.64.64.22\n",
            "Connecting to downloads.cs.stanford.edu (downloads.cs.stanford.edu)|171.64.64.22|:80... connected.\n",
            "HTTP request sent, awaiting response... 200 OK\n",
            "Length: 862182613 (822M) [application/zip]\n",
            "Saving to: ‘glove.6B.zip’\n",
            "\n",
            "glove.6B.zip        100%[===================>] 822.24M  3.55MB/s    in 4m 55s  \n",
            "\n",
            "2021-12-01 12:54:24 (2.79 MB/s) - ‘glove.6B.zip’ saved [862182613/862182613]\n",
            "\n"
          ]
        }
      ]
    },
    {
      "cell_type": "code",
      "metadata": {
        "colab": {
          "base_uri": "https://localhost:8080/"
        },
        "id": "3_rYO2w5Dl8d",
        "outputId": "01f95229-2ce4-4200-a255-29cfd813b2aa"
      },
      "source": [
        "from google.colab import drive\n",
        "drive.mount('/content/drive')"
      ],
      "execution_count": null,
      "outputs": [
        {
          "output_type": "stream",
          "name": "stdout",
          "text": [
            "Mounted at /content/drive\n"
          ]
        }
      ]
    },
    {
      "cell_type": "markdown",
      "metadata": {
        "id": "b4JLMxCGsMWd"
      },
      "source": [
        "Train set is made of 47356  \n",
        "OOV1 has 7689 words  \n",
        "GloVe author affirms '*The pre-trained vectors do not have an unknown token, and currently the code just ignores out-of-vocabulary words when producing the co-occurrence counts*', so he suggests that'*average of all or a subset of the word vectors produces a good unknown vector*'."
      ]
    },
    {
      "cell_type": "code",
      "metadata": {
        "id": "bzdml7SBIxUH"
      },
      "source": [
        "glove_path = '/content/glove.6B.50d.txt'\n",
        "words = pd.read_csv(glove_path, sep=\" \", index_col=0, header=None, quoting=csv.QUOTE_NONE)\n",
        "\n",
        "def vec(w):\n",
        "  return words.loc[w].to_numpy()"
      ],
      "execution_count": null,
      "outputs": []
    },
    {
      "cell_type": "code",
      "metadata": {
        "colab": {
          "base_uri": "https://localhost:8080/",
          "height": 257
        },
        "id": "_UVotbF-HKzb",
        "outputId": "8c75f044-a63c-4ee0-a88c-6be25fc806d5"
      },
      "source": [
        "words.head()"
      ],
      "execution_count": null,
      "outputs": [
        {
          "output_type": "execute_result",
          "data": {
            "text/html": [
              "<div>\n",
              "<style scoped>\n",
              "    .dataframe tbody tr th:only-of-type {\n",
              "        vertical-align: middle;\n",
              "    }\n",
              "\n",
              "    .dataframe tbody tr th {\n",
              "        vertical-align: top;\n",
              "    }\n",
              "\n",
              "    .dataframe thead th {\n",
              "        text-align: right;\n",
              "    }\n",
              "</style>\n",
              "<table border=\"1\" class=\"dataframe\">\n",
              "  <thead>\n",
              "    <tr style=\"text-align: right;\">\n",
              "      <th></th>\n",
              "      <th>1</th>\n",
              "      <th>2</th>\n",
              "      <th>3</th>\n",
              "      <th>4</th>\n",
              "      <th>5</th>\n",
              "      <th>6</th>\n",
              "      <th>7</th>\n",
              "      <th>8</th>\n",
              "      <th>9</th>\n",
              "      <th>10</th>\n",
              "      <th>11</th>\n",
              "      <th>12</th>\n",
              "      <th>13</th>\n",
              "      <th>14</th>\n",
              "      <th>15</th>\n",
              "      <th>16</th>\n",
              "      <th>17</th>\n",
              "      <th>18</th>\n",
              "      <th>19</th>\n",
              "      <th>20</th>\n",
              "      <th>21</th>\n",
              "      <th>22</th>\n",
              "      <th>23</th>\n",
              "      <th>24</th>\n",
              "      <th>25</th>\n",
              "      <th>26</th>\n",
              "      <th>27</th>\n",
              "      <th>28</th>\n",
              "      <th>29</th>\n",
              "      <th>30</th>\n",
              "      <th>31</th>\n",
              "      <th>32</th>\n",
              "      <th>33</th>\n",
              "      <th>34</th>\n",
              "      <th>35</th>\n",
              "      <th>36</th>\n",
              "      <th>37</th>\n",
              "      <th>38</th>\n",
              "      <th>39</th>\n",
              "      <th>40</th>\n",
              "      <th>41</th>\n",
              "      <th>42</th>\n",
              "      <th>43</th>\n",
              "      <th>44</th>\n",
              "      <th>45</th>\n",
              "      <th>46</th>\n",
              "      <th>47</th>\n",
              "      <th>48</th>\n",
              "      <th>49</th>\n",
              "      <th>50</th>\n",
              "    </tr>\n",
              "    <tr>\n",
              "      <th>0</th>\n",
              "      <th></th>\n",
              "      <th></th>\n",
              "      <th></th>\n",
              "      <th></th>\n",
              "      <th></th>\n",
              "      <th></th>\n",
              "      <th></th>\n",
              "      <th></th>\n",
              "      <th></th>\n",
              "      <th></th>\n",
              "      <th></th>\n",
              "      <th></th>\n",
              "      <th></th>\n",
              "      <th></th>\n",
              "      <th></th>\n",
              "      <th></th>\n",
              "      <th></th>\n",
              "      <th></th>\n",
              "      <th></th>\n",
              "      <th></th>\n",
              "      <th></th>\n",
              "      <th></th>\n",
              "      <th></th>\n",
              "      <th></th>\n",
              "      <th></th>\n",
              "      <th></th>\n",
              "      <th></th>\n",
              "      <th></th>\n",
              "      <th></th>\n",
              "      <th></th>\n",
              "      <th></th>\n",
              "      <th></th>\n",
              "      <th></th>\n",
              "      <th></th>\n",
              "      <th></th>\n",
              "      <th></th>\n",
              "      <th></th>\n",
              "      <th></th>\n",
              "      <th></th>\n",
              "      <th></th>\n",
              "      <th></th>\n",
              "      <th></th>\n",
              "      <th></th>\n",
              "      <th></th>\n",
              "      <th></th>\n",
              "      <th></th>\n",
              "      <th></th>\n",
              "      <th></th>\n",
              "      <th></th>\n",
              "      <th></th>\n",
              "    </tr>\n",
              "  </thead>\n",
              "  <tbody>\n",
              "    <tr>\n",
              "      <th>the</th>\n",
              "      <td>0.418000</td>\n",
              "      <td>0.249680</td>\n",
              "      <td>-0.41242</td>\n",
              "      <td>0.12170</td>\n",
              "      <td>0.34527</td>\n",
              "      <td>-0.044457</td>\n",
              "      <td>-0.49688</td>\n",
              "      <td>-0.17862</td>\n",
              "      <td>-0.00066</td>\n",
              "      <td>-0.656600</td>\n",
              "      <td>0.278430</td>\n",
              "      <td>-0.147670</td>\n",
              "      <td>-0.55677</td>\n",
              "      <td>0.14658</td>\n",
              "      <td>-0.00951</td>\n",
              "      <td>0.011658</td>\n",
              "      <td>0.102040</td>\n",
              "      <td>-0.127920</td>\n",
              "      <td>-0.84430</td>\n",
              "      <td>-0.121810</td>\n",
              "      <td>-0.016801</td>\n",
              "      <td>-0.332790</td>\n",
              "      <td>-0.155200</td>\n",
              "      <td>-0.231310</td>\n",
              "      <td>-0.191810</td>\n",
              "      <td>-1.8823</td>\n",
              "      <td>-0.76746</td>\n",
              "      <td>0.099051</td>\n",
              "      <td>-0.421250</td>\n",
              "      <td>-0.19526</td>\n",
              "      <td>4.0071</td>\n",
              "      <td>-0.185940</td>\n",
              "      <td>-0.522870</td>\n",
              "      <td>-0.31681</td>\n",
              "      <td>0.000592</td>\n",
              "      <td>0.007445</td>\n",
              "      <td>0.17778</td>\n",
              "      <td>-0.158970</td>\n",
              "      <td>0.012041</td>\n",
              "      <td>-0.054223</td>\n",
              "      <td>-0.298710</td>\n",
              "      <td>-0.157490</td>\n",
              "      <td>-0.347580</td>\n",
              "      <td>-0.045637</td>\n",
              "      <td>-0.44251</td>\n",
              "      <td>0.187850</td>\n",
              "      <td>0.002785</td>\n",
              "      <td>-0.184110</td>\n",
              "      <td>-0.115140</td>\n",
              "      <td>-0.78581</td>\n",
              "    </tr>\n",
              "    <tr>\n",
              "      <th>,</th>\n",
              "      <td>0.013441</td>\n",
              "      <td>0.236820</td>\n",
              "      <td>-0.16899</td>\n",
              "      <td>0.40951</td>\n",
              "      <td>0.63812</td>\n",
              "      <td>0.477090</td>\n",
              "      <td>-0.42852</td>\n",
              "      <td>-0.55641</td>\n",
              "      <td>-0.36400</td>\n",
              "      <td>-0.239380</td>\n",
              "      <td>0.130010</td>\n",
              "      <td>-0.063734</td>\n",
              "      <td>-0.39575</td>\n",
              "      <td>-0.48162</td>\n",
              "      <td>0.23291</td>\n",
              "      <td>0.090201</td>\n",
              "      <td>-0.133240</td>\n",
              "      <td>0.078639</td>\n",
              "      <td>-0.41634</td>\n",
              "      <td>-0.154280</td>\n",
              "      <td>0.100680</td>\n",
              "      <td>0.488910</td>\n",
              "      <td>0.312260</td>\n",
              "      <td>-0.125200</td>\n",
              "      <td>-0.037512</td>\n",
              "      <td>-1.5179</td>\n",
              "      <td>0.12612</td>\n",
              "      <td>-0.024420</td>\n",
              "      <td>-0.042961</td>\n",
              "      <td>-0.28351</td>\n",
              "      <td>3.5416</td>\n",
              "      <td>-0.119560</td>\n",
              "      <td>-0.014533</td>\n",
              "      <td>-0.14990</td>\n",
              "      <td>0.218640</td>\n",
              "      <td>-0.334120</td>\n",
              "      <td>-0.13872</td>\n",
              "      <td>0.318060</td>\n",
              "      <td>0.703580</td>\n",
              "      <td>0.448580</td>\n",
              "      <td>-0.080262</td>\n",
              "      <td>0.630030</td>\n",
              "      <td>0.321110</td>\n",
              "      <td>-0.467650</td>\n",
              "      <td>0.22786</td>\n",
              "      <td>0.360340</td>\n",
              "      <td>-0.378180</td>\n",
              "      <td>-0.566570</td>\n",
              "      <td>0.044691</td>\n",
              "      <td>0.30392</td>\n",
              "    </tr>\n",
              "    <tr>\n",
              "      <th>.</th>\n",
              "      <td>0.151640</td>\n",
              "      <td>0.301770</td>\n",
              "      <td>-0.16763</td>\n",
              "      <td>0.17684</td>\n",
              "      <td>0.31719</td>\n",
              "      <td>0.339730</td>\n",
              "      <td>-0.43478</td>\n",
              "      <td>-0.31086</td>\n",
              "      <td>-0.44999</td>\n",
              "      <td>-0.294860</td>\n",
              "      <td>0.166080</td>\n",
              "      <td>0.119630</td>\n",
              "      <td>-0.41328</td>\n",
              "      <td>-0.42353</td>\n",
              "      <td>0.59868</td>\n",
              "      <td>0.288250</td>\n",
              "      <td>-0.115470</td>\n",
              "      <td>-0.041848</td>\n",
              "      <td>-0.67989</td>\n",
              "      <td>-0.250630</td>\n",
              "      <td>0.184720</td>\n",
              "      <td>0.086876</td>\n",
              "      <td>0.465820</td>\n",
              "      <td>0.015035</td>\n",
              "      <td>0.043474</td>\n",
              "      <td>-1.4671</td>\n",
              "      <td>-0.30384</td>\n",
              "      <td>-0.023441</td>\n",
              "      <td>0.305890</td>\n",
              "      <td>-0.21785</td>\n",
              "      <td>3.7460</td>\n",
              "      <td>0.004228</td>\n",
              "      <td>-0.184360</td>\n",
              "      <td>-0.46209</td>\n",
              "      <td>0.098329</td>\n",
              "      <td>-0.119070</td>\n",
              "      <td>0.23919</td>\n",
              "      <td>0.116100</td>\n",
              "      <td>0.417050</td>\n",
              "      <td>0.056763</td>\n",
              "      <td>-0.000064</td>\n",
              "      <td>0.068987</td>\n",
              "      <td>0.087939</td>\n",
              "      <td>-0.102850</td>\n",
              "      <td>-0.13931</td>\n",
              "      <td>0.223140</td>\n",
              "      <td>-0.080803</td>\n",
              "      <td>-0.356520</td>\n",
              "      <td>0.016413</td>\n",
              "      <td>0.10216</td>\n",
              "    </tr>\n",
              "    <tr>\n",
              "      <th>of</th>\n",
              "      <td>0.708530</td>\n",
              "      <td>0.570880</td>\n",
              "      <td>-0.47160</td>\n",
              "      <td>0.18048</td>\n",
              "      <td>0.54449</td>\n",
              "      <td>0.726030</td>\n",
              "      <td>0.18157</td>\n",
              "      <td>-0.52393</td>\n",
              "      <td>0.10381</td>\n",
              "      <td>-0.175660</td>\n",
              "      <td>0.078852</td>\n",
              "      <td>-0.362160</td>\n",
              "      <td>-0.11829</td>\n",
              "      <td>-0.83336</td>\n",
              "      <td>0.11917</td>\n",
              "      <td>-0.166050</td>\n",
              "      <td>0.061555</td>\n",
              "      <td>-0.012719</td>\n",
              "      <td>-0.56623</td>\n",
              "      <td>0.013616</td>\n",
              "      <td>0.228510</td>\n",
              "      <td>-0.143960</td>\n",
              "      <td>-0.067549</td>\n",
              "      <td>-0.381570</td>\n",
              "      <td>-0.236980</td>\n",
              "      <td>-1.7037</td>\n",
              "      <td>-0.86692</td>\n",
              "      <td>-0.267040</td>\n",
              "      <td>-0.258900</td>\n",
              "      <td>0.17670</td>\n",
              "      <td>3.8676</td>\n",
              "      <td>-0.161300</td>\n",
              "      <td>-0.132730</td>\n",
              "      <td>-0.68881</td>\n",
              "      <td>0.184440</td>\n",
              "      <td>0.005246</td>\n",
              "      <td>-0.33874</td>\n",
              "      <td>-0.078956</td>\n",
              "      <td>0.241850</td>\n",
              "      <td>0.365760</td>\n",
              "      <td>-0.347270</td>\n",
              "      <td>0.284830</td>\n",
              "      <td>0.075693</td>\n",
              "      <td>-0.062178</td>\n",
              "      <td>-0.38988</td>\n",
              "      <td>0.229020</td>\n",
              "      <td>-0.216170</td>\n",
              "      <td>-0.225620</td>\n",
              "      <td>-0.093918</td>\n",
              "      <td>-0.80375</td>\n",
              "    </tr>\n",
              "    <tr>\n",
              "      <th>to</th>\n",
              "      <td>0.680470</td>\n",
              "      <td>-0.039263</td>\n",
              "      <td>0.30186</td>\n",
              "      <td>-0.17792</td>\n",
              "      <td>0.42962</td>\n",
              "      <td>0.032246</td>\n",
              "      <td>-0.41376</td>\n",
              "      <td>0.13228</td>\n",
              "      <td>-0.29847</td>\n",
              "      <td>-0.085253</td>\n",
              "      <td>0.171180</td>\n",
              "      <td>0.224190</td>\n",
              "      <td>-0.10046</td>\n",
              "      <td>-0.43653</td>\n",
              "      <td>0.33418</td>\n",
              "      <td>0.678460</td>\n",
              "      <td>0.057204</td>\n",
              "      <td>-0.344480</td>\n",
              "      <td>-0.42785</td>\n",
              "      <td>-0.432750</td>\n",
              "      <td>0.559630</td>\n",
              "      <td>0.100320</td>\n",
              "      <td>0.186770</td>\n",
              "      <td>-0.268540</td>\n",
              "      <td>0.037334</td>\n",
              "      <td>-2.0932</td>\n",
              "      <td>0.22171</td>\n",
              "      <td>-0.398680</td>\n",
              "      <td>0.209120</td>\n",
              "      <td>-0.55725</td>\n",
              "      <td>3.8826</td>\n",
              "      <td>0.474660</td>\n",
              "      <td>-0.956580</td>\n",
              "      <td>-0.37788</td>\n",
              "      <td>0.208690</td>\n",
              "      <td>-0.327520</td>\n",
              "      <td>0.12751</td>\n",
              "      <td>0.088359</td>\n",
              "      <td>0.163510</td>\n",
              "      <td>-0.216340</td>\n",
              "      <td>-0.094375</td>\n",
              "      <td>0.018324</td>\n",
              "      <td>0.210480</td>\n",
              "      <td>-0.030880</td>\n",
              "      <td>-0.19722</td>\n",
              "      <td>0.082279</td>\n",
              "      <td>-0.094340</td>\n",
              "      <td>-0.073297</td>\n",
              "      <td>-0.064699</td>\n",
              "      <td>-0.26044</td>\n",
              "    </tr>\n",
              "  </tbody>\n",
              "</table>\n",
              "</div>"
            ],
            "text/plain": [
              "           1         2        3   ...        48        49       50\n",
              "0                                 ...                             \n",
              "the  0.418000  0.249680 -0.41242  ... -0.184110 -0.115140 -0.78581\n",
              ",    0.013441  0.236820 -0.16899  ... -0.566570  0.044691  0.30392\n",
              ".    0.151640  0.301770 -0.16763  ... -0.356520  0.016413  0.10216\n",
              "of   0.708530  0.570880 -0.47160  ... -0.225620 -0.093918 -0.80375\n",
              "to   0.680470 -0.039263  0.30186  ... -0.073297 -0.064699 -0.26044\n",
              "\n",
              "[5 rows x 50 columns]"
            ]
          },
          "metadata": {},
          "execution_count": 22
        }
      ]
    },
    {
      "cell_type": "code",
      "metadata": {
        "id": "GOYvhfJtGoXA"
      },
      "source": [
        "words.to_csv('/content/drive/MyDrive/NLP/Assignment1/GloVe/glove_50d.csv')"
      ],
      "execution_count": null,
      "outputs": []
    },
    {
      "cell_type": "code",
      "metadata": {
        "colab": {
          "base_uri": "https://localhost:8080/"
        },
        "id": "ExrJfgTms_my",
        "outputId": "8f164518-ea5b-4029-889c-08b7e2ec3763"
      },
      "source": [
        "vec('hello')"
      ],
      "execution_count": null,
      "outputs": [
        {
          "output_type": "execute_result",
          "data": {
            "text/plain": [
              "array([-0.38497 ,  0.80092 ,  0.064106, -0.28355 , -0.026759, -0.34532 ,\n",
              "       -0.64253 , -0.11729 , -0.33257 ,  0.55243 , -0.087813,  0.9035  ,\n",
              "        0.47102 ,  0.56657 ,  0.6985  , -0.35229 , -0.86542 ,  0.90573 ,\n",
              "        0.03576 , -0.071705, -0.12327 ,  0.54923 ,  0.47005 ,  0.35572 ,\n",
              "        1.2611  , -0.67581 , -0.94983 ,  0.68666 ,  0.3871  , -1.3492  ,\n",
              "        0.63512 ,  0.46416 , -0.48814 ,  0.83827 , -0.9246  , -0.33722 ,\n",
              "        0.53741 , -1.0616  , -0.081403, -0.67111 ,  0.30923 , -0.3923  ,\n",
              "       -0.55002 , -0.68827 ,  0.58049 , -0.11626 ,  0.013139, -0.57654 ,\n",
              "        0.048833,  0.67204 ])"
            ]
          },
          "metadata": {},
          "execution_count": 30
        }
      ]
    },
    {
      "cell_type": "code",
      "metadata": {
        "colab": {
          "base_uri": "https://localhost:8080/"
        },
        "id": "F0DHK_bbFSZd",
        "outputId": "984de238-c9cf-4428-84b5-03436229c1bb"
      },
      "source": [
        "glove_50_path = '/content/drive/MyDrive/NLP/Assignment1/GloVe/glove_50d.csv'\n",
        "glove_50 = pd.read_csv(glove_50_path)#, header=None, quoting=csv.QUOTE_NONE)\n",
        "\n",
        "print(f'Glove total length: {len(glove_50)}')\n",
        "print(f'Number of words in GloVe: {len(glove_50['0'].unique())}')\n",
        "\n",
        "glove_50 = glove_50.drop_duplicates(subset = '0', keep='first')\n",
        "print(f'Length after elimination: {}'.format(len(glove_50)))"
      ],
      "execution_count": null,
      "outputs": [
        {
          "output_type": "stream",
          "name": "stdout",
          "text": [
            "Glove total length: 400000\n",
            "Number of words in GloVe: 399998\n",
            "Length after elimination: 399998\n"
          ]
        }
      ]
    },
    {
      "cell_type": "code",
      "metadata": {
        "id": "mmT4UdeDM_Gx"
      },
      "source": [
        "def OOV(vocabulary: pd.DataFrame, dataset: pd.DataFrame):\n",
        "  OOV = []\n",
        "  for word in dataset:\n",
        "    if word not in list(vocabulary):\n",
        "      OOV.append(word)\n",
        "\n",
        "  return OOV\n",
        "\n",
        "def oov_embeddings(vocabulary : pd.DataFrame):\n",
        "   return np.array([np.mean(vocabulary[str(i)]) for i in range(1, vocabulary.shape[1])])\n",
        "\n",
        "def new_vocabulary(old_vocabulary : pd.DataFrame, OOV: list, oov_embeddings: np.array):\n",
        "  \n",
        "  for word in OOV:\n",
        "    dict1 = {'0': word}\n",
        "    dict2 = {str(i+1) : oov_embeddings[i] for i in range(0, old_vocabulary.shape[1]-1)}\n",
        "    dict1.update(dict2)\n",
        "    old_vocabulary = old_vocabulary.append(dict1, ignore_index=True)\n",
        "\n",
        "  return old_vocabulary\n"
      ],
      "execution_count": null,
      "outputs": []
    },
    {
      "cell_type": "code",
      "metadata": {
        "id": "ORuvPCXSAemT"
      },
      "source": [
        "print('Number of words in the train set : {}'.format(len(train_set['word'].unique())))\n",
        "\n",
        "OOV1 = OOV(glove_50['0'], train_set['word'].unique())\n",
        "\n",
        "print('Number of words OOV1 : {}'.format(len(OOV1)))\n",
        "\n",
        "oov1_embed = oov_embeddings(glove_50)\n",
        "V2 = new_vocabulary(glove_50, OOV1, oov1_embed)\n",
        "print('Number of words in V2 : {}'.format(len(V2)))\n",
        "\n",
        "OOV2 = OOV(V2['0'], val_set['word'].unique())\n",
        "print('Number of words OOV2 : {}'.format(len(OOV2)))\n",
        "\n",
        "oov2_embed = oov_embeddings(V2)\n",
        "V3 = new_vocabulary(V2, OOV2, oov2_embed)\n",
        "print('Number of words in V3 : {}'.format(len(V3)))\n",
        "\n",
        "OOV3 = OOV(V3['0'], test_set['word'].unique())\n",
        "print('Number of words OOV3 : {}'.format(len(OOV3)))\n",
        "\n",
        "oov3_embed = oov_embeddings(V3)\n",
        "V4 = new_vocabulary(V3, OOV3, oov3_embed)\n",
        "print('Number of words in V4 : {}'.format(len(V4)))\n"
      ],
      "execution_count": null,
      "outputs": []
    },
    {
      "cell_type": "markdown",
      "metadata": {
        "id": "Qa9eCkjMwHsO"
      },
      "source": [
        "### Create RNN and Optimizer classes\n"
      ]
    },
    {
      "cell_type": "code",
      "metadata": {
        "id": "4qKGsuBvwKk6"
      },
      "source": [
        "class LSTM(nn.Module):\n",
        "  def __init__(self, input_dim, hidden_size, output_size, layers, dropout, device):\n",
        "    super(RNN, self).__init__()\n",
        "    self.n_layers = layers\n",
        "    self.output_size = output_size\n",
        "    self.hidden_size = hidden_size\n",
        "    self.device = device\n",
        "    self.rnn = nn.LSTM(input_dim, hidden_size, num_layers=self.n_layers, dropout=dropout, bidirectional=True)\n",
        "    self.fc = nn.Linear(self.n_layers*self.hidden_size, output_size)\n",
        "\n",
        "\n",
        "  def forward(self, input):\n",
        "    #initialize hidden state and cell state\n",
        "    hidden = (torch.randn(self.n_layers, input.shape[1],\n",
        "                          self.hidden_size).to(self.device),\n",
        "              torch.randn(self.n_layers, input.shape[1],\n",
        "                          self.hidden_size).to(self.device))\n",
        "\n",
        "\n",
        "    output, hidden = self.lstm(input, hidden)\n",
        "\n",
        "    h_n = hidden[0].permute(1, 0, 2)\n",
        "    h_n = h_n.contiguous().view(h_n.shape[0], -1)\n",
        "\n",
        "    logits = self.fc(h_n)\n",
        "\n",
        "    return logits"
      ],
      "execution_count": null,
      "outputs": []
    },
    {
      "cell_type": "code",
      "metadata": {
        "id": "2MCssLkB8TUg"
      },
      "source": [
        "class Optimization:\n",
        "    def __init__(self, model, loss_fn, optimizer):\n",
        "        self.model = model\n",
        "        self.loss_fn = loss_fn\n",
        "        self.optimizer = optimizer\n",
        "        self.train_losses = []\n",
        "        self.val_losses = []\n",
        "    \n",
        "    def train_step(self, x, y):\n",
        "        self.model.train()\n",
        "        \n",
        "        yhat = self.model(x)\n",
        "        loss = self.loss_fn(y, yhat)\n",
        "        loss.backward()\n",
        "\n",
        "        self.optimizer.step()\n",
        "        self.optimizer.zero_grad()\n",
        "\n",
        "        return loss.item()"
      ],
      "execution_count": null,
      "outputs": []
    },
    {
      "cell_type": "markdown",
      "metadata": {
        "id": "Moz4o3S4_YyY"
      },
      "source": [
        "### Training"
      ]
    },
    {
      "cell_type": "code",
      "metadata": {
        "id": "xqCmp15-_o99"
      },
      "source": [
        ""
      ],
      "execution_count": null,
      "outputs": []
    }
  ]
}