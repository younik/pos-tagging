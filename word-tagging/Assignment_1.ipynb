{
  "nbformat": 4,
  "nbformat_minor": 0,
  "metadata": {
    "colab": {
      "name": "Assignment_1.ipynb",
      "provenance": [],
      "collapsed_sections": [
        "ys_LD3OQc7Si"
      ]
    },
    "kernelspec": {
      "name": "python3",
      "display_name": "Python 3"
    },
    "accelerator": "GPU"
  },
  "cells": [
    {
      "cell_type": "markdown",
      "metadata": {
        "id": "-WeCeITXoxLf"
      },
      "source": [
        "# Assignment 1\n",
        "\n",
        "**Due to**: 23/12/2021 (dd/mm/yyyy)\n",
        "\n",
        "**Credits**: Andrea Galassi, Federico Ruggeri, Paolo Torroni\n",
        "\n",
        "**Summary**: Part-of Speech (POS) tagging as Sequence Labelling using Recurrent Neural Architectures"
      ]
    },
    {
      "cell_type": "markdown",
      "metadata": {
        "id": "a4_wqPdlBcKS"
      },
      "source": [
        "# Intro\n",
        "\n",
        "In this assignment  we will ask you to perform POS tagging using neural architectures\n",
        "\n",
        "You are asked to follow these steps:\n",
        "*   Download the corpora and split it in training and test sets, structuring a dataframe.\n",
        "*   Embed the words using GloVe embeddings\n",
        "*   Create a baseline model, using a simple neural architecture\n",
        "*   Experiment doing small modifications to the baseline model, choose hyperparameters using the validation set\n",
        "*   Evaluate your two best model\n",
        "*   Analyze the errors of your model\n",
        "\n",
        "\n",
        "**Task**: given a corpus of documents, predict the POS tag for each word\n",
        "\n",
        "**Corpus**:\n",
        "Ignore the numeric value in the third column, use only the words/symbols and its label. \n",
        "The corpus is available at:\n",
        "https://raw.githubusercontent.com/nltk/nltk_data/gh-pages/packages/corpora/dependency_treebank.zip\n",
        "\n",
        "**Splits**: documents 1-100 are the train set, 101-150 validation set, 151-199 test set.\n",
        "\n",
        "\n",
        "**Features**: you MUST use GloVe embeddings as the only input features to the model.\n",
        "\n",
        "**Splitting**: you can decide to split documents into sentences or not, the choice is yours.\n",
        "\n",
        "**I/O structure**: The input data will have three dimensions: 1-documents/sentences, 2-token, 3-features; for the output there are 2 possibilities: if you use one-hot encoding it will be 1-documents/sentences, 2-token labels, 3-classes, if you use a single integer that indicates the number of the class it will be 1-documents/sentences, 2-token labels.\n",
        "\n",
        "**Baseline**: two layers architecture: a Bidirectional LSTM layer and a Dense/Fully-Connected layer on top; the choice of hyper-parameters is yours.\n",
        "\n",
        "**Architectures**: experiment using a GRU instead of the LSTM, adding an additional LSTM layer, and adding an additional dense layer; do not mix these variantions.\n",
        "\n",
        "\n",
        "**Training and Experiments**: all the experiments must involve only the training and validation sets.\n",
        "\n",
        "**Evaluation**: in the end, only the two best models of your choice (according to the validation set) must be evaluated on the test set. The main metric must be F1-Macro computed between the various part of speech. DO NOT CONSIDER THE PUNCTUATION CLASSES.\n",
        "\n",
        "**Metrics**: the metric you must use to evaluate your final model is the F1-macro, WITHOUT considering punctuation/symbols classes; during the training process you can use accuracy because you can't use the F1 metric unless you use a single (gigantic) batch because there is no way to aggregate \"partial\" F1 scores computed on mini-batches.\n",
        "\n",
        "**Discussion and Error Analysis** : verify and discuss if the results on the test sets are coherent with those on the validation set; analyze the errors done by your model, try to understand which may be the causes and think about how to improve it.\n",
        "\n",
        "**Report**: you are asked to deliver the code of your experiments and a small pdf report of about 2 pages; the pdf must begin with the names of the people of your team and a small abstract (4-5 lines) that sums up your findings.\n",
        "\n",
        "# Out Of Vocabulary (OOV) terms\n",
        "\n",
        "How to handle words that are not in GloVe vocabulary?\n",
        "You can handle them as you want (random embedding, placeholder, whatever!), but they must be STATIC embeddings (you cannot train them).\n",
        "\n",
        "But there is a very important caveat! As usual, the element of the test set must not influence the elements of the other splits!\n",
        "\n",
        "So, when you compute new embeddings for train+validation, you must forget about test documents.\n",
        "The motivation is to emulate a real-world scenario, where you select and train a model in the first stage, without knowing nothing about the testing environment.\n",
        "\n",
        "For implementation convenience, you CAN use a single vocabulary file/matrix/whatever. The principle of the previous point is that the embeddings inside that file/matrix must be generated independently for train and test splits.\n",
        "\n",
        "Basically in a real-world scenario, this is what would happen:\n",
        "1. Starting vocabulary V1 (in this assignment, GloVe vocabulary)\n",
        "2. Compute embeddings for terms out of vocabulary V1 (OOV1) of the training split \n",
        "3. Add embeddings to the vocabulary, so to obtain vocabulary V2=V1+OOV1\n",
        "4. Training of the model(s)\n",
        "5. Compute embeddings for terms OOV2 of the validation split \n",
        "6. Add embeddings to the vocabulary, so to obtain vocabulary V3=V1+OOV1+OOV2\n",
        "7. Validation of the model(s)\n",
        "8. Compute embeddings for terms OOV3 of the test split \n",
        "9. Add embeddings to the vocabulary, so to obtain vocabulary V4=V1+OOV1+OOV2+OOV3\n",
        "10. Testing of the final model\n",
        "\n",
        "In this case, where we already have all the documents, we can simplify the process a bit, but the procedure must remain rigorous.\n",
        "\n",
        "1. Starting vocabulary V1 (in this assignment, GloVe vocabulary)\n",
        "2. Compute embeddings for terms out of vocabulary V1 (OOV1) of the training split \n",
        "3. Add embeddings to the vocabulary, so to obtain vocabulary V2=V1+OOV1\n",
        "4. Compute embeddings for terms OOV2 of the validation split \n",
        "5. Add embeddings to the vocabulary, so to obtain vocabulary V3=V1+OOV1+OOV2\n",
        "6. Compute embeddings for terms OOV3 of the test split \n",
        "7. Add embeddings to the vocabulary, so to obtain vocabulary V4=V1+OOV1+OOV2\n",
        "8. Training of the model(s)\n",
        "9. Validation of the model(s)\n",
        "10. Testing of the final model\n",
        "\n",
        "Step 2 and step 6 must be completely independent of each other, for what concerns the method and the documents. But they can rely on the previous vocabulary (V1 for step 2 and V3 for step 6)\n",
        "THEREFORE if a word is present both in the training set and the test split and not in the starting vocabulary, its embedding is computed in step 2) and it is not considered OOV anymore in step 6).\n",
        "\n",
        "# Report\n",
        "The report must not be just a copy and paste of graphs and tables!\n",
        "\n",
        "The report must not be longer than 2 pages and must contain:\n",
        "* The names of the member of your team\n",
        "* A short abstract (4-5 lines) that sum ups everything\n",
        "* A general description of the task you have addressed and how you have addressed it\n",
        "* A short description of the models you have used\n",
        "* Some tables that sum up your findings in validation and test and a discussion of those results\n",
        "* The most relevant findings of your error analysis\n",
        "\n",
        "# Evaluation Criterion\n",
        "\n",
        "The goal of this assignment is not to prove you can find best model ever, but to face a common task, structure it correctly, and follow a correct and rigorous experimental procedure.\n",
        "In other words, we don't care if you final models are awful as long as you have followed the correct procedure and wrote a decent report.\n",
        "\n",
        "The score of the assignment will be computed roughly as follows\n",
        "* 1 point for the general setting of the problem\n",
        "* 1 point for the handling of OOV terms\n",
        "* 1 point for the models\n",
        "* 1 point for train-validation-test procedure\n",
        "* 2 point for the discussion of the results, error analysis, and report\n",
        "\n",
        "This distribution of scores is tentative and we may decide to alter it at any moment.\n",
        "We also reserve the right to assign a small bonus (0.5 points) to any assignment that is particularly worthy. Similarly, in case of grave errors, we may decide to assign an equivalent malus (-0.5 points).\n",
        "\n",
        "# Contacts\n",
        "\n",
        "In case of any doubt, question, issue, or help we highly recommend you to check the [course useful material](https://virtuale.unibo.it/pluginfile.php/1036039/mod_resource/content/2/NLP_Course_Useful_Material.pdf) for additional information, and to use the Virtuale forums to discuss with other students.\n",
        "\n",
        "You can always contact us at the following email addresses. To increase the probability of a prompt response, we reccomend you to write to both the teaching assistants.\n",
        "\n",
        "Teaching Assistants:\n",
        "\n",
        "* Andrea Galassi -> a.galassi@unibo.it\n",
        "* Federico Ruggeri -> federico.ruggeri6@unibo.it\n",
        "\n",
        "Professor:\n",
        "\n",
        "* Paolo Torroni -> p.torroni@unibo.it\n",
        "\n",
        "\n",
        "# FAQ\n",
        "* You can use a non-trainable Embedding layer to load the glove embeddings\n",
        "* You can use any library of your choice to implement the networks. Two options are tensorflow/keras or pythorch. Both these libraries have all the classes you need to implement these simple architectures and there are plenty of tutorials around, where you can learn how to use them."
      ]
    },
    {
      "cell_type": "markdown",
      "metadata": {
        "id": "D8PgAJyy40SY"
      },
      "source": [
        "### Import libraries & download dataset"
      ]
    },
    {
      "cell_type": "code",
      "metadata": {
        "id": "caNU8UeFxupB",
        "colab": {
          "base_uri": "https://localhost:8080/"
        },
        "outputId": "8d04ed79-a78e-426e-dd04-fd011276028b"
      },
      "source": [
        "import os\n",
        "import pandas as pd\n",
        "import numpy as np\n",
        "import matplotlib.pyplot as plt\n",
        "import csv\n",
        "import seaborn as sns  \n",
        "from sklearn.metrics import confusion_matrix, classification_report\n",
        "\n",
        "import torch\n",
        "import torch.nn as nn\n",
        "from torch.utils.data import Dataset, DataLoader\n",
        "import torch.optim as optim\n",
        "\n",
        "from sklearn.preprocessing import OrdinalEncoder\n",
        "\n",
        "from tqdm import tqdm\n",
        "\n",
        "import gensim\n",
        "import gensim.downloader as gloader  \n",
        "\n",
        "import re\n",
        "\n",
        "!pip install python-Levenshtein\n",
        "import Levenshtein\n",
        "\n",
        "device = torch.device(\"cuda\" if torch.cuda.is_available() else \"cpu\")"
      ],
      "execution_count": 1,
      "outputs": [
        {
          "output_type": "stream",
          "name": "stdout",
          "text": [
            "Requirement already satisfied: python-Levenshtein in /usr/local/lib/python3.7/dist-packages (0.12.2)\n",
            "Requirement already satisfied: setuptools in /usr/local/lib/python3.7/dist-packages (from python-Levenshtein) (57.4.0)\n"
          ]
        }
      ]
    },
    {
      "cell_type": "code",
      "metadata": {
        "id": "y2j0JgX8wpjH",
        "colab": {
          "base_uri": "https://localhost:8080/"
        },
        "outputId": "792d132f-a3aa-4fc4-f4d2-3a807838a283"
      },
      "source": [
        "!wget https://raw.githubusercontent.com/nltk/nltk_data/gh-pages/packages/corpora/dependency_treebank.zip\n",
        "!unzip -q dependency_treebank.zip"
      ],
      "execution_count": 4,
      "outputs": [
        {
          "output_type": "stream",
          "name": "stdout",
          "text": [
            "--2021-12-12 18:24:09--  https://raw.githubusercontent.com/nltk/nltk_data/gh-pages/packages/corpora/dependency_treebank.zip\n",
            "Resolving raw.githubusercontent.com (raw.githubusercontent.com)... 185.199.108.133, 185.199.109.133, 185.199.110.133, ...\n",
            "Connecting to raw.githubusercontent.com (raw.githubusercontent.com)|185.199.108.133|:443... connected.\n",
            "HTTP request sent, awaiting response... 200 OK\n",
            "Length: 457429 (447K) [application/zip]\n",
            "Saving to: ‘dependency_treebank.zip’\n",
            "\n",
            "dependency_treebank 100%[===================>] 446.71K  --.-KB/s    in 0.02s   \n",
            "\n",
            "2021-12-12 18:24:09 (17.7 MB/s) - ‘dependency_treebank.zip’ saved [457429/457429]\n",
            "\n"
          ]
        }
      ]
    },
    {
      "cell_type": "markdown",
      "metadata": {
        "id": "onQNYcuwCTiW"
      },
      "source": [
        "### Dataframe creation and split into train, val and test set\n",
        "\n"
      ]
    },
    {
      "cell_type": "code",
      "metadata": {
        "id": "EADZWC3txls8"
      },
      "source": [
        "corpus_path = 'dependency_treebank/'\n",
        "file_list = sorted(os.listdir(corpus_path))\n",
        "\n",
        "dfs = [pd.read_csv(corpus_path + f, sep='\\t', names=['word', 'label', 'foo']).drop('foo', 1)\n",
        "          for f in file_list]\n",
        "\n",
        "dataset = pd.concat(dfs, ignore_index=True)\n",
        "dataset['word'] = dataset['word'].transform(lambda x : x.lower())  \n",
        "train_set = pd.concat(dfs[:100], ignore_index=True)\n",
        "train_set['word'] = train_set['word'].transform(lambda x : x.lower())\n",
        "val_set = pd.concat(dfs[100:150], ignore_index=True)\n",
        "val_set['word'] = val_set['word'].transform(lambda x : x.lower())\n",
        "test_set = pd.concat(dfs[150:199], ignore_index=True)\n",
        "val_set['word'] = val_set['word'].transform(lambda x : x.lower())\n",
        "\n",
        "labels = dataset['label'].unique()\n",
        "words = dataset['word'].unique()"
      ],
      "execution_count": 2,
      "outputs": []
    },
    {
      "cell_type": "code",
      "metadata": {
        "id": "ZQIUPI3h7DCl"
      },
      "source": [
        "full_stops = train_set[(train_set['label']=='.') | (train_set['word']==';')].index\n",
        "max_length = max(full_stops[1:] - full_stops[:-1])"
      ],
      "execution_count": 3,
      "outputs": []
    },
    {
      "cell_type": "code",
      "metadata": {
        "id": "nXkjiyN2_sfB"
      },
      "source": [
        "def indexOfPhrase(word_idx):\n",
        "  return np.count_nonzero(word_idx > full_stops)\n",
        "\n",
        "train_grouped = train_set.groupby(by=np.vectorize(indexOfPhrase))"
      ],
      "execution_count": 4,
      "outputs": []
    },
    {
      "cell_type": "code",
      "metadata": {
        "id": "_XQbf7_k9f_R"
      },
      "source": [
        "val_stops = val_set[(val_set['label']=='.') | (val_set['word']==';')].index\n",
        "\n",
        "def val_phrases(word_idx):\n",
        "  return np.count_nonzero(word_idx > val_stops)\n",
        "\n",
        "val_grouped = val_set.groupby(by=np.vectorize(val_phrases))"
      ],
      "execution_count": 5,
      "outputs": []
    },
    {
      "cell_type": "markdown",
      "source": [
        "### Embedder end Encoder preparation"
      ],
      "metadata": {
        "id": "KDww18DUTYSJ"
      }
    },
    {
      "cell_type": "code",
      "source": [
        "EMBEDDING_SIZE = 50\n",
        "embedder = gloader.load(f'glove-wiki-gigaword-{EMBEDDING_SIZE}')\n",
        "\n",
        "OOV = set(words).difference(set(embedder.vocab.keys()))\n",
        "print(OOV)\n",
        "print(\"\\nThere are\", len(OOV), \"OOV\")"
      ],
      "metadata": {
        "id": "8YSrcLB6ThSm",
        "colab": {
          "base_uri": "https://localhost:8080/"
        },
        "outputId": "fe9d2e6d-25e5-43ba-9e2e-308d6dea256a"
      },
      "execution_count": 89,
      "outputs": [
        {
          "output_type": "stream",
          "name": "stdout",
          "text": [
            "{'telephone-information', 'veraldi', 'car-safety', 'multi-crystal', 'ensrud', 'launch-vehicle', '23,403', 'energy-services', '387.8', 'sino-u.s.', 'floating-rate', 'one-house', '234.4', 'chafic', 'samnick', '1928-33', '3436.58', 'heebie-jeebies', 'bell-ringer', 'tete-a-tete', 'less-serious', '319.75', '16\\\\/32', '618.1', 'replacement-car', 'copper-rich', 'foreign-led', 'capital-gains', 'senate-house', 'rey\\\\/fawcett', 'machine-gun-toting', 'stock-specialist', '1.916', '95.09', 'corn-buying', 'garden-variety', 'twin-jet', 'food-industry', 'social-studies', 'computer-driven', '7\\\\/16', 'stock-manipulation', '55-a-share', '35564.43', 'muscolina', '271,124', 'sogo-shosha', 'more-efficient', 'continuingly', 'chemplus', 'tarwhine', 'low-ability', 'retin-a', 'uzi-model', '131.01', '2691.19', '16.125', 'yet-to-be-formed', 'pianist-comedian', '2645.90', 'nih-appointed', '2003\\\\/2007', '361,376', 'freshbake', 'nesb', 'romanee-conti', 'crystal-lattice', 'cash-rich', '129.91', 'pre-1917', 'heavy-truck', 'capital-markets', '2,303,328', '2\\\\/32', 'citizen-sparked', '238,000-circulation', 'radio-station', 'sub-segments', 'propagandizes', '734.9', 'hart-scott-rodino', 'wfrr', 'front-seat', 'non-biodegradable', '3648.82', 'ingersoll-rand', 'ft-se', 'bankruptcy-law', 'middle-ground', 'savers\\\\/investors', '11,390,000', '37-a-share', 'bridgestone\\\\/firestone', 'waymar', '14.', 'wtd', '19-month-old', 'land-idling', 'walbrecher', '8.575', 'ex-dividend', 'state-supervised', '446.62', 'dydee', '170,262', 'dollar-yen', 'one-yen', 'car-development', '6\\\\/2', '1937-40', 'ballantine\\\\/del', 'futures-related', '142.85', 'cotran', 'junk-bond', 'substance-abusing', 'light-truck', '1.457', '494.50', 'low-ball', 'flightiness', 'drobnick', '26,956', 'mortgage-based', 'equal-opportunity', 'test-preparation', 'disaster-assistance', 'sulfur-dioxide', 'red-blooded', '83,206', '188.84', 'mininum-wage', '236.74', '38.875', 'hasbrouk', 'index-arbitrage', 'one-country', 'shareholder-rights', '226,570,380', '374.20', 'forest-product', 'sell-offs', '11,762', 'revenue-desperate', 'newspaper-printing', 'electrical-safety', 'house-senate', 'northy', '16,072', '374.19', 'protein-1', '8.467', 'boorse', 'stirlen', 'information-services', 'government-certified', 'big-ticket', 'forest-products', 'stock-index', '1\\\\/10th', 'enzor', 'aslacton', 'minimum-wage', 'less-than-brilliant', 'write-downs', '415.8', 'kalipharma', 'weisfield', 'jerritts', 'security-type', '47.125', 'new-car', 'year-earlier', 'recession-inspired', 'most-likely-successor', '263.07', 'chong-sik', 'six-packs', 'airline-related', 'superpremiums', 'makato', '705.6', 'per-share', 'chilver', 'pro-forma', 'free-enterprise', 'chinchon', '143.93', 'yen-support', '377.60', 'disputada', 'sewing-machine', 'summer\\\\/winter', 'anti-china', 'price-depressing', 'million-a-year', 'fiber-end', 'early-retirement', '82,389', 'school-district', 'motor-home', 'freudtoy', 'autions', 'ac-130u', 'money-market', 'anti-program', 'seven-yen', 'lightning-fast', 'trettien', 'rapanelli', 'intellectual-property', 'hallwood', 'anti-abortionists', 'change-ringing', 'double-c', 'micronite', 'yen-denominated', '62.625', 'year-ago', '127.03', '4,393,237', '43.875', '3.253', 'high-rolling', 'prize-fighter', 'manmade-fiber', 'quantitive', 'passenger-car', 'school-research', 'bellringers', 'bottom-line', 'financial-services', 'macheski', 'truth-in-lending', 'times-stock', 'nekoosa', 'corton-charlemagne', '-lcb-', 'iran\\\\/contra', 'school-board', '3,040,000', 'headcount-control', 'test-coaching', 'blood-cell', '566.54', '2160.1', 'news-american', '271-147', 'safe-deposit', '20-stock', '1\\\\/2', 'direct-investment', '50\\\\/50', 'church-goers', 'drag-down', 'sharedata', 'we-japanese', 'waertsilae', 'mouth-up', '1.8415', 'diloreto', '120-a-share', '382-37', '877,663', 'video-viewing', '100,980', 'limited-partnership', 'anti-miscarriage', '3,288,453', 'colorliner', 'shokubai', 'foldability', 'polyproplene', 'insider-trading', 'superdot', '456.64', 'odd-year', '-lrb-', 'rope-sight', 'macmillan\\\\/mcgraw', 'ctbs', '1.1650', 'built-from-kit', 'nylev', 'band-wagon', 'higher-salaried', 'lafite-rothschild', 'alurralde', 'four-foot-high', 'monchecourt', 'much-larger', '9\\\\/32', 'three-sevenths', 'prevalance', '352.7', 'one-upsmanship', 'liquid-nitrogen', 'intecknings', '967,809', '-rrb-', 'two-time-losers', 'meinders', 'satrum', 'stock-price', 'preparatives', '361.8', 'severable', 'family-planning', 'colonsville', 'foreign-stock', 'program-trading', 'egnuss', 'bumkins', 'six-bottle', 'interleukin-3', '372.9', 'triple-a-rated', 'collective-bargaining', 'home-market', 'bermuda-based', '1.637', 'macmillan\\\\/mcgraw-hill', 'larger-than-normal', '3,250,000', 'ariail', 'two-sevenths', 'wamre', '2163.2', '35500.64', 'incentive-backed', 'c-90', 'corporate-wide', 'c.j.b.', '415.6', 'shirt-sleeved', 'auto-safety', 'teacher-cadet', 'reupke', '5.435', '22\\\\/32', 'above-market', 're-thought', 'industrial-production', '236.79', 'guber\\\\/peters', 'morale-damaging', 'pennview', 'amphobiles', '497.34', 'anku', 'single-lot', 'lower-priority', 'subindustry', 'solaia', '3\\\\/4', 'certin', '4.898', 'centerbank', 'savings-and-loan', 'pathlogy', 'heiwado', '737.5', 'staff-reduction', 'search-and-seizure', 'inter-tel', 'eight-count', 'super-absorbent', 'hadson', '5.2180', '300-day', 'identity-management', 'sacramento-based', 'cost-control', 'high-balance', 'conn.based', 'merger-related', 'louisiana-pacific', 'index-related', 'mariotta', 'dead-eyed', 'minicrash', 'n.v', 'cleaner-burning', 'food-shop', '220.45', 'midwesco', 'johnson-era', '38.375', 'derchin', 'circuit-board', 'synergistics', 'abortion-related', 'tissue-transplant', 'lentjes', 'pattenden', '500,004', 'one-newspaper', '1\\\\/4', 'lynch-mob', 'cray-3', 'clean-air', '3057', 'several-year', 'rubinfien', 'non-callable', '69-point', 'durable-goods', '352.9', '84-month', 'life-of-contract', 'sept.30', 'building-products', 'high-polluting', 'test-practice', '449.04', 'deposits-a', 'when-issued', 'exxon-owned', 'war-rationed', 'arbitrage-related', 'circuit-breaker', 'cents-a-unit', '230-215', \"creator's\", 'gingl', 'test-prep', 'crane-safety', 'yttrium-containing', 'diceon', '126.15', 'landonne', 'index-fund', 'unfair-trade', '436.01', 'glenham', 'cash-and-stock', 'melt-textured', '12,252', 'constitutional-law', 'yeargin', 'gates-warren', 'market-makers', 'lezovich', 'cop-killer', 'yoshihashi', '300-a-share', 'detective-story', 'lobsenz', '7\\\\/8', 'tire-kickers', 'pro-iranian', 'custom-chip', 'near-limit', '29year', '341.20', 'delwin', 'pre-1933', 'coche-dury', 'nofzinger', 'asset-valuation', 'language-housekeeper', 'roof-crush', 'boogieman', 'insurance-company', '608,413', 'arighi', 'derel', 'moleculon', 'arbitraging', 'rate-sensitive', 'price-support', '3\\\\/8', 'buttoned-down', '71,309', 'test-drive', '14,821', '142.84', 'nearly-30', '40-megabyte', 'bronces', '18,444', 'anti-morning-sickness', 'small-company', 'vitulli', '36-store', 'intelogic', '1738.1', 'securities-based', '13\\\\/16', 'cup-tote', 'blue-chips', 'property\\\\/casualty', 'investor-relations', 'ednie', '70-a-share', 'mutual-fund', 'mutchin', 'seven-million-ton', 'credit-rating', 'life-insurance', '237-seat', 'pramual', 'equity-purchase', 'prior-year', 'ntg', '292.32', 'stock-selection', 'bald-faced', 'noncompetitively', 'electric-utility', 'parts-engineering', 'achievement-test', 'veselich', 'lookee-loos', 'mega-stadium', 'odd-sounding', 'trading-company', 'card-member', 'pension-fund', '95,142', 'herald-american', 'txo', 'akerfeldt', 'ratners', '154,240,000', '7.458', 'high-rate', '1\\\\/8', '12\\\\/32', 'red-flag', 'sometimes-exhausting', 'dust-up', 'non-encapsulating', '14\\\\/32', 'takeover-stock', '11-month-old', 'erbamont', 'water-authority', 'crookery', 'thin-lipped', '630.9', 'breakey', '34.625', '1.5755', '45-a-share', '5,699', '1206.26', 'automotive-lighting', 'training-wage', 'phacoflex', 'new-home', 'twindam', 'subminimum', 'beer-belly', 'rexinger', 'marketing-communications', 'automotive-parts', 'incentive-bonus', 'top-yielding', '30,537', '6,799', 'industry-supported', 'then-speaker', 'long-tenured', 'bank-backed', 'stock-picking', '87-store', 'nipponese', 'nissho-iwai', 'express-buick', 'jalaalwalikraam', 'money-center', 'weapons-modernization', 'product-design', 'c.d.s', 'sanderoff', 'car-care', '9,118', 'sub-markets', 'antitrust-law', 'sidak', 'more-advanced', '5.276', 'post-hearing', 'mehrens', 'anti-deficiency', 'triple-c', 'besuboru', 'market-share', '7.272', '2,050-passenger', 'tiphook', '-rcb-', 'investment-grade', '158,666', '278.7', 'integra-a', 'money-fund', 'trockenbeerenauslesen', 'wheel-loader', '13,056', 'wheeland', '90-cent-an-hour', '30,841', 'secilia', 'acid-rain', 'sometimes-tawdry', 'acquisition-minded', 'subskills', 'page-one', 'asset-sale', '143.80', 'anti-programmers', 'college-bowl', '0.0085', 'greenmailer', 'side-crash', 'flim-flammery', 'profit-taking', 'scypher', '190-point', '13.625', '300-113', 'purepac', 'anti-takeover', 'old-house', '434.4', 'labor-backed', 'hummerstone', 'malizia', 'three-lawyer', 'g.m.b', 'vinken', 'index-options', 'unenticing', '2141.7', 'norwick', 'highest-pitched', 'pricings', 'bread-and-butter', 'potables', '7.422', '100-megabyte', 'unicorp', 'executive-office', 'sport-utility', '520-lawyer', 'computer-services', '62%-owned', '18-a-share', 'purhasing', '11\\\\/16', '143.08', 'housing-assistance', 'lap-shoulder', 'fetal-tissue', '372.14', 'co-developers', 'school-improvement', 'nagymaros', 'wine-buying', 'disputado', 'computer-system-design', 'ghkm', 'prudential-bache', 'univest', 'crocidolite', 'sticker-shock', 'student-test', '811.9', 'buy-outs', '5\\\\/8', 'subskill', 'contingency-fee', '8300s', 'biondi-santi'}\n",
            "\n",
            "There are 676 OOV\n"
          ]
        }
      ]
    },
    {
      "cell_type": "code",
      "source": [
        "def isNumber(n):\n",
        "  if n == 'nan':\n",
        "    return False\n",
        "\n",
        "  try:\n",
        "    float(n)\n",
        "    return True\n",
        "  except:\n",
        "    return False\n",
        "\n",
        "vocab_keys = embedder.vocab.keys()\n",
        "vocab_array = np.array(list(vocab_keys))\n",
        "str_number_keys = [n for n in vocab_keys if isNumber(n)]\n",
        "number_keys = np.array(str_number_keys, dtype=np.float32)\n",
        "\n",
        "def correct_typo(word, threshold=1):\n",
        "  if word in vocab_keys:\n",
        "    return word\n",
        "\n",
        "  if re.match('[a-z]', word): #avoid to use Levenshtein on numbers\n",
        "    dist = lambda elem: Levenshtein.distance(word, elem)\n",
        "    distances = np.vectorize(dist)(vocab_array)\n",
        "    idx_min = np.argmin(distances)\n",
        "    if distances[idx_min] <= threshold:\n",
        "      return vocab_array[idx_min]\n",
        "\n",
        "  #maybe it is a number, convert to the nearest one\n",
        "  word = word.replace(',', '')\n",
        "  number = float(word)\n",
        "\n",
        "  idx = np.argmin(np.abs(number_keys - number))\n",
        "  return str_number_keys[idx]"
      ],
      "metadata": {
        "id": "98BmkvHhuBiZ"
      },
      "execution_count": 90,
      "outputs": []
    },
    {
      "cell_type": "code",
      "source": [
        "for w in tqdm(OOV):\n",
        "  try:\n",
        "    if '-' in w:\n",
        "      subWords = w.split('-')\n",
        "      embedded_words = [embedder[correct_typo(subW)] for subW in subWords if subW]\n",
        "      embedder.add([w], [np.mean(embedded_words, axis=0)])\n",
        "    \n",
        "    elif '\\\\/' in w:\n",
        "      subWords = w.split('\\\\/')\n",
        "      embedded_words = [embedder[correct_typo(subW)] for subW in subWords]\n",
        "      embedder.add([w], [np.mean(embedded_words, axis=0)])\n",
        "\n",
        "    else:\n",
        "      embedder.add([w], [embedder[correct_typo(w)]])\n",
        "\n",
        "  except:\n",
        "    pass\n",
        "\n",
        "OOV = set(words).difference(set(embedder.vocab.keys()))\n",
        "print(OOV)\n",
        "print(\"There are\", len(OOV), \"OOV\")"
      ],
      "metadata": {
        "colab": {
          "base_uri": "https://localhost:8080/"
        },
        "id": "AbKnU_gnm1AD",
        "outputId": "b0ed62e4-7a92-4f05-a43c-2d9074e63b09"
      },
      "execution_count": 91,
      "outputs": [
        {
          "output_type": "stream",
          "name": "stderr",
          "text": [
            "100%|██████████| 676/676 [00:53<00:00, 12.73it/s]"
          ]
        },
        {
          "output_type": "stream",
          "name": "stdout",
          "text": [
            "{'moleculon', 'muscolina', 'midwesco', 'disputada', 'subindustry', 'veraldi', 'derchin', 'ensrud', 'continuingly', '62%-owned', 'chemplus', 'rexinger', 'walbrecher', 'trockenbeerenauslesen', 'tarwhine', 'lentjes', 'lezovich', 'pattenden', 'alurralde', 'nipponese', 'heiwado', 'monchecourt', 'boogieman', 'freudtoy', 'rubinfien', 'ac-130u', 'jalaalwalikraam', 'trettien', 'nagymaros', 'subskills', 'sharedata', 'intelogic', 'sept.30', 'yoshihashi', 'freshbake', 'stirlen', 'disputado', 'greenmailer', 'waertsilae', 'sanderoff', 'c.j.b.', 'diloreto', 'erbamont', 'lobsenz', 'crocidolite', 'intecknings', 'univest', 'reupke', 'aslacton', 'purepac', 'quantitive', 'kalipharma', 'jerritts', 'flightiness', '29year', 'phacoflex', 'minicrash', 'macheski', 'pramual', 'landonne', 'twindam', 'subminimum', 'severable', 'subskill', 'nekoosa', 'colonsville', 'colorliner', 'pennview', 'amphobiles', 'shokubai', 'unenticing', 'foldability', 'noncompetitively', 'egnuss', 'besuboru', '8300s'}\n",
            "There are 76 OOV\n"
          ]
        },
        {
          "output_type": "stream",
          "name": "stderr",
          "text": [
            "\n"
          ]
        }
      ]
    },
    {
      "cell_type": "markdown",
      "source": [
        "There are some words that are composed, e.g. subskills"
      ],
      "metadata": {
        "id": "kIE8NxnmUlN9"
      }
    },
    {
      "cell_type": "code",
      "source": [
        "for w in OOV:\n",
        "  for i in range(2, len(w)-2):\n",
        "    w1 = w[:i]\n",
        "    w2 = w[i:]\n",
        "    if w1 in vocab_keys and w2 in vocab_keys:\n",
        "      embedding = (embedder[w1] + embedder[w2]) / 2\n",
        "      embedder.add([w], [embedding])\n",
        "      print(\"Add\", w, \"composed by\", w1, \"and\", w2)\n",
        "      break\n",
        "\n",
        "embedder.add(['62%-owned'], [(embedder['.62']+embedder['owned'])/2])\n",
        "\n",
        "OOV = set(words).difference(set(embedder.vocab.keys()))\n",
        "print(\"\\nThere are\", len(OOV), \"OOV\")"
      ],
      "metadata": {
        "id": "13Y_q2BxT5Cw",
        "outputId": "75c7b6aa-d5f8-4dc0-e824-9e97b58cec5d",
        "colab": {
          "base_uri": "https://localhost:8080/"
        }
      },
      "execution_count": 92,
      "outputs": [
        {
          "output_type": "stream",
          "name": "stdout",
          "text": [
            "Add muscolina composed by mus and colina\n",
            "Add midwesco composed by mid and wesco\n",
            "Add subindustry composed by sub and industry\n",
            "Add veraldi composed by ver and aldi\n",
            "Add derchin composed by der and chin\n",
            "Add ensrud composed by ens and rud\n",
            "Add chemplus composed by chem and plus\n",
            "Add rexinger composed by rex and inger\n",
            "Add walbrecher composed by wal and brecher\n",
            "Add tarwhine composed by tar and whine\n",
            "Add lentjes composed by lent and jes\n",
            "Add lezovich composed by lezo and vich\n",
            "Add pattenden composed by patt and enden\n",
            "Add nipponese composed by nippo and nese\n",
            "Add heiwado composed by hei and wado\n",
            "Add boogieman composed by boogie and man\n",
            "Add freudtoy composed by freud and toy\n",
            "Add rubinfien composed by rubin and fien\n",
            "Add trettien composed by tr and ettien\n",
            "Add nagymaros composed by nagy and maros\n",
            "Add subskills composed by sub and skills\n",
            "Add sharedata composed by share and data\n",
            "Add intelogic composed by inte and logic\n",
            "Add sept.30 composed by sept and .30\n",
            "Add yoshihashi composed by yoshi and hashi\n",
            "Add freshbake composed by fresh and bake\n",
            "Add stirlen composed by stir and len\n",
            "Add greenmailer composed by green and mailer\n",
            "Add sanderoff composed by sande and roff\n",
            "Add c.j.b. composed by c. and j.b.\n",
            "Add diloreto composed by di and loreto\n",
            "Add erbamont composed by erba and mont\n",
            "Add lobsenz composed by lobs and enz\n",
            "Add univest composed by uni and vest\n",
            "Add aslacton composed by asl and acton\n",
            "Add purepac composed by pure and pac\n",
            "Add kalipharma composed by kali and pharma\n",
            "Add jerritts composed by jer and ritts\n",
            "Add flightiness composed by flight and iness\n",
            "Add 29year composed by 29 and year\n",
            "Add minicrash composed by mini and crash\n",
            "Add macheski composed by mach and eski\n",
            "Add pramual composed by pram and ual\n",
            "Add landonne composed by lan and donne\n",
            "Add twindam composed by twi and ndam\n",
            "Add subminimum composed by sub and minimum\n",
            "Add severable composed by sever and able\n",
            "Add subskill composed by sub and skill\n",
            "Add nekoosa composed by neko and osa\n",
            "Add colonsville composed by colons and ville\n",
            "Add colorliner composed by color and liner\n",
            "Add pennview composed by penn and view\n",
            "Add shokubai composed by shoku and bai\n",
            "Add unenticing composed by un and enticing\n",
            "Add foldability composed by fold and ability\n",
            "Add noncompetitively composed by non and competitively\n",
            "Add egnuss composed by eg and nuss\n",
            "Add 8300s composed by 83 and 00s\n",
            "\n",
            "There are 17 OOV\n"
          ]
        }
      ]
    },
    {
      "cell_type": "code",
      "source": [
        "for w in OOV:\n",
        "  try:\n",
        "    new_w = correct_typo(w, threshold=2)\n",
        "    embedder.add([w], [embedder[new_w]])\n",
        "    print(\"Added\", w, \"as\", new_w)\n",
        "  except:\n",
        "    pass\n",
        "\n",
        "OOV = set(words).difference(set(embedder.vocab.keys()))\n",
        "print(\"\\nThere are\", len(OOV), \"OOV\")\n",
        "print(OOV)"
      ],
      "metadata": {
        "id": "7mIzBJEmXoiF",
        "outputId": "2446e5a5-dfb4-4bc3-c96c-b728d22c7201",
        "colab": {
          "base_uri": "https://localhost:8080/"
        }
      },
      "execution_count": 93,
      "outputs": [
        {
          "output_type": "stream",
          "name": "stdout",
          "text": [
            "Added moleculon as molecular\n",
            "Added disputado as disputed\n",
            "Added waertsilae as wartsila\n",
            "Added alurralde as iturralde\n",
            "Added disputada as disputed\n",
            "Added ac-130u as ac-130\n",
            "Added continuingly as continuing\n",
            "Added reupke as remake\n",
            "Added amphobiles as amphiboles\n",
            "Added quantitive as quantities\n",
            "\n",
            "There are 7 OOV\n",
            "{'phacoflex', 'monchecourt', 'intecknings', 'crocidolite', 'jalaalwalikraam', 'besuboru', 'trockenbeerenauslesen'}\n"
          ]
        }
      ]
    },
    {
      "cell_type": "code",
      "source": [
        "OOV_value = np.random.uniform(low=-0.05, high=0.05, size=(len(OOV), EMBEDDING_SIZE))\n",
        "embedder.add(list(OOV), OOV_value)"
      ],
      "metadata": {
        "id": "OgCb8v7RhFAi"
      },
      "execution_count": 94,
      "outputs": []
    },
    {
      "cell_type": "code",
      "source": [
        "encoder = OrdinalEncoder(dtype=np.int64)\n",
        "encoder.fit(labels.reshape(-1, 1)) "
      ],
      "metadata": {
        "id": "xgpz4U--UyfX",
        "outputId": "308ca261-d741-4c3d-b5b1-2850c1f746c1",
        "colab": {
          "base_uri": "https://localhost:8080/"
        }
      },
      "execution_count": 95,
      "outputs": [
        {
          "output_type": "execute_result",
          "data": {
            "text/plain": [
              "OrdinalEncoder(dtype=<class 'numpy.int64'>)"
            ]
          },
          "metadata": {},
          "execution_count": 95
        }
      ]
    },
    {
      "cell_type": "markdown",
      "metadata": {
        "id": "QsAgPfRqStWK"
      },
      "source": [
        "### Dataset analysis"
      ]
    },
    {
      "cell_type": "code",
      "metadata": {
        "colab": {
          "base_uri": "https://localhost:8080/"
        },
        "id": "LT0pl2UG0H0O",
        "outputId": "89b11a51-f878-465e-de2e-166441a45cb2"
      },
      "source": [
        "print(\"The max sentence length in training set is\", max_length)\n",
        "print(f'There are {len(full_stops)} sentences in the training set')\n",
        "print(f'There are {len(labels)} labels')\n",
        "print(f'There are {len(words)} unique words, {len(OOV)} of them are OOV')\n",
        "\n",
        "number_OOV = len([1 for w in dataset['word'] if w in OOV])\n",
        "print(f'There are {len(dataset)} words, {number_OOV} of them are OOV')"
      ],
      "execution_count": null,
      "outputs": [
        {
          "output_type": "stream",
          "name": "stdout",
          "text": [
            "The max sentence length in training set is 67\n",
            "There are 2046 sentences in the training set\n",
            "There are 45 labels\n",
            "There are 10947 unique words, 125 of them are OOV\n",
            "There are 94084 words, 425 of them are OOV\n"
          ]
        }
      ]
    },
    {
      "cell_type": "markdown",
      "metadata": {
        "id": "ys_LD3OQc7Si"
      },
      "source": [
        "#### Plot dataset distribution"
      ]
    },
    {
      "cell_type": "code",
      "metadata": {
        "id": "FsUG2Cee8vMU",
        "colab": {
          "base_uri": "https://localhost:8080/",
          "height": 421
        },
        "outputId": "2dc195b7-e8af-4444-b99c-130092055cfd"
      },
      "source": [
        "train_counts = train_set.groupby(by='label').count()\n",
        "train_counts = train_counts / len(train_set) * 100\n",
        "val_counts = val_set.groupby(by='label').count()\n",
        "val_counts = val_counts / len(val_set) * 100\n",
        "val_counts = val_counts.reindex(labels, fill_value=0)\n",
        "test_counts = test_set.groupby(by='label').count()\n",
        "test_counts = test_counts / len(test_set) * 100\n",
        "test_counts = test_counts.reindex(labels, fill_value=0)\n",
        "ind = np.arange(len(labels))\n",
        "\n",
        "plt.figure(figsize=(18,6))\n",
        "width = 0.2       \n",
        "plt.bar(ind, train_counts.loc[labels, 'word'] , width, label='Train set');\n",
        "plt.bar(ind + width, val_counts.loc[labels, 'word'], width, label='Validation set');\n",
        "plt.bar(ind + 2*width, test_counts.loc[labels, 'word'], width, label='Test set');\n",
        "\n",
        "plt.xlabel('Labels');\n",
        "plt.ylabel('Count %');\n",
        "plt.title('Dataset distribution');\n",
        "\n",
        "plt.xticks(ind + width / 3, labels, rotation=45);\n",
        "plt.legend();"
      ],
      "execution_count": null,
      "outputs": [
        {
          "output_type": "display_data",
          "data": {
            "image/png": "[encoded data removed]",
            "text/plain": [
              "<Figure size 1296x432 with 1 Axes>"
            ]
          },
          "metadata": {
            "needs_background": "light"
          }
        }
      ]
    },
    {
      "cell_type": "code",
      "metadata": {
        "id": "dpuY1KPGZzKn",
        "colab": {
          "base_uri": "https://localhost:8080/",
          "height": 295
        },
        "outputId": "7175a2af-b47d-489c-b204-83e6d5bef974"
      },
      "source": [
        "counts_word = train_set.groupby('word').count().to_numpy()[:, 0]\n",
        "\n",
        "plt.plot(np.sort(counts_word)[::-1]);\n",
        "plt.yscale('log')\n",
        "\n",
        "plt.xlabel('Words');\n",
        "plt.ylabel('Count');\n",
        "plt.title('Word distribution (log scale)');"
      ],
      "execution_count": null,
      "outputs": [
        {
          "output_type": "display_data",
          "data": {
            "image/png": "[encoded data removed]",
            "text/plain": [
              "<Figure size 432x288 with 1 Axes>"
            ]
          },
          "metadata": {
            "needs_background": "light"
          }
        }
      ]
    },
    {
      "cell_type": "code",
      "metadata": {
        "id": "WvBvMKm8Da9J",
        "colab": {
          "base_uri": "https://localhost:8080/",
          "height": 336
        },
        "outputId": "3d08f263-7877-4ad0-948a-67930c5e48d8"
      },
      "source": [
        "f = plt.figure(figsize=(12, 5))\n",
        "ax1 = plt.subplot(121)\n",
        "ax2 = plt.subplot(122)\n",
        "\n",
        "ax1.hist(train_grouped.count()['word'], bins=250);\n",
        "ax1.set_title(\"Sentence length distribution\");\n",
        "\n",
        "ax2.boxplot(train_grouped.count()['word']);\n",
        "ax2.set_title(\"Boxplot for sentence length\");"
      ],
      "execution_count": null,
      "outputs": [
        {
          "output_type": "display_data",
          "data": {
            "image/png": "[encoded data removed]",
            "text/plain": [
              "<Figure size 864x360 with 2 Axes>"
            ]
          },
          "metadata": {
            "needs_background": "light"
          }
        }
      ]
    },
    {
      "cell_type": "markdown",
      "metadata": {
        "id": "Qa9eCkjMwHsO"
      },
      "source": [
        "### Create RNN, Optimizer and DataLoader classes\n"
      ]
    },
    {
      "cell_type": "code",
      "metadata": {
        "id": "4qKGsuBvwKk6"
      },
      "source": [
        "class RNN(nn.Module):\n",
        "  \"\"\"\n",
        "    architecture: str\n",
        "      'LSTM'   : the baseline architecture\n",
        "      '2-LSTM' : 2 LSTM layers\n",
        "      '2-FC'   : 2 Dense Layers\n",
        "      'GRU'    : Gated Recurrent Unit\n",
        "  \"\"\"\n",
        "  def __init__(self, architecture, input_dim, hidden_size, output_size, device):\n",
        "    super(RNN, self).__init__()\n",
        "    self.architecture = architecture\n",
        "    self.n_layers = 2 if architecture == '2-LSTM' else 1\n",
        "    self.output_size = output_size\n",
        "    self.hidden_size = hidden_size\n",
        "    self.device = device\n",
        "\n",
        "    \n",
        "    if self.architecture == 'GRU':\n",
        "      self.rnn = nn.GRU(input_dim, hidden_size, num_layers=self.n_layers, bidirectional=True)\n",
        "    else:\n",
        "      self.rnn = nn.LSTM(input_dim, hidden_size, num_layers=self.n_layers, bidirectional=True)\n",
        "\n",
        "    if self.architecture == '2-FC':\n",
        "      self.fc = nn.Sequential(\n",
        "          nn.Linear(self.hidden_size*2, self.hidden_size),\n",
        "          nn.Linear(self.hidden_size, output_size)\n",
        "      )\n",
        "    else:\n",
        "      self.fc = nn.Linear(self.hidden_size*2, output_size)\n",
        "\n",
        "\n",
        "\n",
        "  def forward(self, input):\n",
        "    input = input.permute(1, 0, 2)\n",
        "\n",
        "    #initialize hidden state and cell state\n",
        "    hidden = (torch.randn(self.n_layers*2, input.shape[1],\n",
        "                          self.hidden_size).to(self.device),\n",
        "              torch.randn(self.n_layers*2, input.shape[1],\n",
        "                          self.hidden_size).to(self.device))\n",
        "    out, hidden = self.rnn(input, hidden)\n",
        "\n",
        "    #process timesteps independently \n",
        "    logits = self.fc(out.view(-1, out.size(2)))\n",
        "    \n",
        "    output = logits.view(input.shape[0], input.shape[1], self.output_size)\n",
        "    return output.permute(1, 0, 2).contiguous()\n",
        "\n",
        "\n",
        "  def prediction(self, input: DataLoader):\n",
        "    \n",
        "    self.eval()\n",
        "    with torch.no_grad():\n",
        "\n",
        "      y_pred = torch.Tensor().to(self.device)\n",
        "      for data in input:  \n",
        "        words = data['words'].float().to(device)\n",
        "        lengths = data['lengths'].to(device)\n",
        "        scores = self(words)\n",
        "        classes_predicted = torch.argmax(scores, 2)\n",
        "\n",
        "        for i, length in enumerate(lengths):\n",
        "          y_pred = torch.cat((y_pred, classes_predicted[i, :length]), 0)\n",
        "    \n",
        "    self.train()\n",
        "    return y_pred\n",
        "\n",
        "\n",
        "  def accuracy(self, input: DataLoader):\n",
        "    num_correct = 0\n",
        "    num_samples = 0\n",
        "    self.eval()\n",
        "    \n",
        "    with torch.no_grad():\n",
        "        for data in input:\n",
        "            word = data['words'].float().to(device)\n",
        "            labels = data['labels'].to(device)\n",
        "            labels = labels.squeeze(-1)\n",
        "            \n",
        "            lengths = data['lengths'].to(device)\n",
        "\n",
        "            scores = self(word)\n",
        "            classes_predicted = torch.argmax(scores, 2)\n",
        "\n",
        "            for i, length in enumerate(lengths):\n",
        "              num_correct += torch.eq(classes_predicted[i, :length], labels[i, :length]).sum().item()\n",
        "\n",
        "            num_samples += lengths.sum()\n",
        "        \n",
        "    \n",
        "    return num_correct/num_samples\n",
        "\n"
      ],
      "execution_count": 230,
      "outputs": []
    },
    {
      "cell_type": "code",
      "metadata": {
        "id": "2MCssLkB8TUg"
      },
      "source": [
        "class Optimization:\n",
        "    def __init__(self, model, loss_fn, optimizer):\n",
        "        self.model = model\n",
        "        self.loss_fn = loss_fn\n",
        "        self.optimizer = optimizer\n",
        "        self.history = []\n",
        "    \n",
        "    def train_step(self, x, y):\n",
        "        self.model.train()\n",
        "        yhat = self.model(x)\n",
        "\n",
        "        yhat = yhat.view(-1, yhat.shape[-1])\n",
        "        y = y.flatten()\n",
        "\n",
        "        loss = self.loss_fn(yhat, y)\n",
        "        self.history.append(loss.item())\n",
        "        loss.backward()\n",
        "\n",
        "        self.optimizer.step()\n",
        "        self.optimizer.zero_grad()\n",
        "\n",
        "        return loss.item()"
      ],
      "execution_count": 231,
      "outputs": []
    },
    {
      "cell_type": "code",
      "metadata": {
        "id": "PpwRlpy68pSP"
      },
      "source": [
        "class MyDataset(Dataset):\n",
        "  def __init__(self, dataframe, embedder, encoder, sentence_length=None):\n",
        "    self.sentence_length = sentence_length if sentence_length else dataframe.count().max()['word']\n",
        "    self.dataframe = dataframe\n",
        "    self.embedder = embedder\n",
        "    self.encoder = encoder\n",
        "\n",
        "  def __len__(self):\n",
        "    return len(self.dataframe)\n",
        "\n",
        "  def __getitem__(self, idx):\n",
        "    sentence = self.dataframe.get_group(idx)[:self.sentence_length]\n",
        "\n",
        "    labels = np.array(sentence['label'], dtype = str).reshape(-1, 1)\n",
        "    encoded_labels = self.encoder.transform(labels)\n",
        "    encoded_words = self.embedder[sentence['word']]\n",
        "\n",
        "    pad_amount = self.sentence_length - len(sentence)\n",
        "    encoded_labels = np.pad(encoded_labels, pad_width=((0, pad_amount), (0,0)), constant_values=-1)\n",
        "    encoded_words = np.pad(encoded_words, pad_width=((0, pad_amount), (0, 0)))\n",
        "\n",
        "    return {'words': encoded_words, 'labels': encoded_labels, 'lengths': len(sentence)}"
      ],
      "execution_count": 232,
      "outputs": []
    },
    {
      "cell_type": "markdown",
      "metadata": {
        "id": "Moz4o3S4_YyY"
      },
      "source": [
        "### Training"
      ]
    },
    {
      "cell_type": "code",
      "metadata": {
        "id": "xqCmp15-_o99"
      },
      "source": [
        "dataset = MyDataset(train_grouped, embedder, encoder)"
      ],
      "execution_count": 233,
      "outputs": []
    },
    {
      "cell_type": "code",
      "metadata": {
        "id": "WL3jnJvDzHXo"
      },
      "source": [
        "dataloader = DataLoader(dataset, batch_size=4, shuffle=True)\n",
        "model = RNN('2-FC', EMBEDDING_SIZE, 1024, len(labels), device)\n",
        "model.to(device)\n",
        "\n",
        "loss = nn.CrossEntropyLoss(ignore_index=-1)\n",
        "optimizer = optim.Adam(model.parameters())\n",
        "\n",
        "optimization = Optimization(model, loss, optimizer)"
      ],
      "execution_count": 243,
      "outputs": []
    },
    {
      "cell_type": "code",
      "source": [
        "validation = MyDataset(val_grouped, embedder, encoder)\n",
        "val_loader = DataLoader(validation, batch_size=len(validation), num_workers=1)"
      ],
      "metadata": {
        "id": "Dq0svfEmCeUo"
      },
      "execution_count": 235,
      "outputs": []
    },
    {
      "cell_type": "code",
      "source": [
        "%load_ext tensorboard\n",
        "from torch.utils.tensorboard import SummaryWriter\n",
        "\n",
        "%tensorboard --logdir=\"logs\"\n",
        "\n",
        "writer = torch.utils.tensorboard.writer.SummaryWriter(log_dir=os.path.join(\"logs\", \"BiLSTM\"))"
      ],
      "metadata": {
        "id": "Li_cU3KAIaDg",
        "colab": {
          "base_uri": "https://localhost:8080/",
          "height": 873
        },
        "outputId": "7ac4f1e1-198a-4b5c-db10-1f563b470310"
      },
      "execution_count": 236,
      "outputs": [
        {
          "output_type": "stream",
          "name": "stdout",
          "text": [
            "The tensorboard extension is already loaded. To reload it, use:\n",
            "  %reload_ext tensorboard\n"
          ]
        },
        {
          "output_type": "display_data",
          "data": {
            "text/plain": [
              "Reusing TensorBoard on port 6006 (pid 3358), started 0:07:15 ago. (Use '!kill 3358' to kill it.)"
            ]
          },
          "metadata": {}
        },
        {
          "output_type": "display_data",
          "data": {
            "application/javascript": [
              "\n",
              "        (async () => {\n",
              "            const url = new URL(await google.colab.kernel.proxyPort(6006, {'cache': true}));\n",
              "            url.searchParams.set('tensorboardColab', 'true');\n",
              "            const iframe = document.createElement('iframe');\n",
              "            iframe.src = url;\n",
              "            iframe.setAttribute('width', '100%');\n",
              "            iframe.setAttribute('height', '800');\n",
              "            iframe.setAttribute('frameborder', 0);\n",
              "            document.body.appendChild(iframe);\n",
              "        })();\n",
              "    "
            ],
            "text/plain": [
              "<IPython.core.display.Javascript object>"
            ]
          },
          "metadata": {}
        }
      ]
    },
    {
      "cell_type": "code",
      "source": [
        "def training_loop(model: nn.Module, \n",
        "                  train_set: torch.utils.data.DataLoader,\n",
        "                  val_set: torch.utils.data.DataLoader,\n",
        "                  n_epochs: int,\n",
        "                  optimization: Optimization,\n",
        "                  save_path: str,\n",
        "                  load_model: bool,\n",
        "                  load_path: str,\n",
        "                  writer:torch.utils.tensorboard.writer.SummaryWriter):\n",
        "  \n",
        "  if load_model:\n",
        "    model.load_state_dict(torch.load(load_path))\n",
        "  \n",
        "  train_acc = np.zeros(n_epochs)\n",
        "  val_acc = np.zeros(n_epochs)\n",
        "  best_acc = 0\n",
        "\n",
        "  for epoch in range(n_epochs):\n",
        "    print(f'Epoch {epoch+1}')\n",
        "\n",
        "    for data in tqdm(dataloader):\n",
        "      w = data['words'].float().to(device)\n",
        "      l = data['labels'].to(device)\n",
        "      optimization.train_step(w, l)\n",
        "      \n",
        "    print(f'loss:{optimization.history[epoch] : .3f}')\n",
        "    train_acc[epoch] = model.accuracy(dataloader)\n",
        "    print(f'train acc:{train_acc[epoch]}')\n",
        "    val_acc[epoch] = model.accuracy(val_loader)\n",
        "    print(f'val acc:{val_acc[epoch]}')\n",
        "\n",
        "    writer.add_scalars('Loss', {\"Train\": optimization.history[epoch]}, epoch)\n",
        "    writer.add_scalars('Train Acc', {\"Train\": val_acc[epoch]}, epoch)\n",
        "    writer.add_scalars('Val Acc', {\"Train\": val_acc[epoch]}, epoch)\n",
        "    writer.flush()\n",
        "\n",
        "    if val_acc[epoch] > best_acc:\n",
        "      torch.save(model.state_dict(), save_path)\n",
        "      best_acc = val_acc[epoch]\n",
        "      print(f'Model saved at {save_path}')\n",
        "      \n",
        "  writer.close()\n",
        "  print(f'\\n Best model at epoch {np.argmax(val_acc) + 1}')"
      ],
      "metadata": {
        "id": "2vQvpGglNAYf"
      },
      "execution_count": 237,
      "outputs": []
    },
    {
      "cell_type": "code",
      "source": [
        "PATH = 'model.pkl'\n",
        "N_EPOCHS = 50\n",
        "training_loop(model, dataloader, val_loader, N_EPOCHS, optimization, PATH, False, PATH, writer)"
      ],
      "metadata": {
        "colab": {
          "base_uri": "https://localhost:8080/",
          "height": 1000
        },
        "id": "8GlzP-9FPjGL",
        "outputId": "537edeb3-221d-4af9-fff3-6a1600b35b81"
      },
      "execution_count": 244,
      "outputs": [
        {
          "output_type": "stream",
          "name": "stdout",
          "text": [
            "Epoch 1\n"
          ]
        },
        {
          "output_type": "stream",
          "name": "stderr",
          "text": [
            "100%|██████████| 512/512 [01:32<00:00,  5.57it/s]\n"
          ]
        },
        {
          "output_type": "stream",
          "name": "stdout",
          "text": [
            "loss: 3.807\n",
            "train acc:0.8126319646835327\n",
            "val acc:0.7861334085464478\n",
            "Model saved at model.pkl\n",
            "Epoch 2\n"
          ]
        },
        {
          "output_type": "stream",
          "name": "stderr",
          "text": [
            "100%|██████████| 512/512 [01:31<00:00,  5.57it/s]\n"
          ]
        },
        {
          "output_type": "stream",
          "name": "stdout",
          "text": [
            "loss: 3.428\n",
            "train acc:0.8606511950492859\n",
            "val acc:0.8247121572494507\n",
            "Model saved at model.pkl\n",
            "Epoch 3\n"
          ]
        },
        {
          "output_type": "stream",
          "name": "stderr",
          "text": [
            "100%|██████████| 512/512 [01:31<00:00,  5.57it/s]\n"
          ]
        },
        {
          "output_type": "stream",
          "name": "stdout",
          "text": [
            "loss: 13.303\n",
            "train acc:0.8881450891494751\n",
            "val acc:0.8420613408088684\n",
            "Model saved at model.pkl\n",
            "Epoch 4\n"
          ]
        },
        {
          "output_type": "stream",
          "name": "stderr",
          "text": [
            "100%|██████████| 512/512 [01:31<00:00,  5.58it/s]\n"
          ]
        },
        {
          "output_type": "stream",
          "name": "stdout",
          "text": [
            "loss: 3.173\n",
            "train acc:0.9187642335891724\n",
            "val acc:0.8584485054016113\n",
            "Model saved at model.pkl\n",
            "Epoch 5\n"
          ]
        },
        {
          "output_type": "stream",
          "name": "stderr",
          "text": [
            "100%|██████████| 512/512 [01:31<00:00,  5.58it/s]\n"
          ]
        },
        {
          "output_type": "stream",
          "name": "stdout",
          "text": [
            "loss: 3.370\n",
            "train acc:0.9359320998191833\n",
            "val acc:0.8650867342948914\n",
            "Model saved at model.pkl\n",
            "Epoch 6\n"
          ]
        },
        {
          "output_type": "stream",
          "name": "stderr",
          "text": [
            "100%|██████████| 512/512 [01:31<00:00,  5.58it/s]\n"
          ]
        },
        {
          "output_type": "stream",
          "name": "stdout",
          "text": [
            "loss: 3.247\n",
            "train acc:0.9409789443016052\n",
            "val acc:0.8651508688926697\n",
            "Model saved at model.pkl\n",
            "Epoch 7\n"
          ]
        },
        {
          "output_type": "stream",
          "name": "stderr",
          "text": [
            "100%|██████████| 512/512 [01:31<00:00,  5.57it/s]\n"
          ]
        },
        {
          "output_type": "stream",
          "name": "stdout",
          "text": [
            "loss: 3.457\n",
            "train acc:0.9580411911010742\n",
            "val acc:0.8747714757919312\n",
            "Model saved at model.pkl\n",
            "Epoch 8\n"
          ]
        },
        {
          "output_type": "stream",
          "name": "stderr",
          "text": [
            "100%|██████████| 512/512 [01:31<00:00,  5.57it/s]\n"
          ]
        },
        {
          "output_type": "stream",
          "name": "stdout",
          "text": [
            "loss: 3.228\n",
            "train acc:0.9677126407623291\n",
            "val acc:0.8723342418670654\n",
            "Epoch 9\n"
          ]
        },
        {
          "output_type": "stream",
          "name": "stderr",
          "text": [
            "100%|██████████| 512/512 [01:31<00:00,  5.57it/s]\n"
          ]
        },
        {
          "output_type": "stream",
          "name": "stdout",
          "text": [
            "loss: 3.178\n",
            "train acc:0.9718726277351379\n",
            "val acc:0.8729115128517151\n",
            "Epoch 10\n"
          ]
        },
        {
          "output_type": "stream",
          "name": "stderr",
          "text": [
            "100%|██████████| 512/512 [01:31<00:00,  5.58it/s]\n"
          ]
        },
        {
          "output_type": "stream",
          "name": "stdout",
          "text": [
            "loss: 3.028\n",
            "train acc:0.9756525158882141\n",
            "val acc:0.8693197965621948\n",
            "Epoch 11\n"
          ]
        },
        {
          "output_type": "stream",
          "name": "stderr",
          "text": [
            "100%|██████████| 512/512 [01:31<00:00,  5.58it/s]\n"
          ]
        },
        {
          "output_type": "stream",
          "name": "stdout",
          "text": [
            "loss: 2.756\n",
            "train acc:0.9785243272781372\n",
            "val acc:0.8761183619499207\n",
            "Model saved at model.pkl\n",
            "Epoch 12\n"
          ]
        },
        {
          "output_type": "stream",
          "name": "stderr",
          "text": [
            "100%|██████████| 512/512 [01:31<00:00,  5.58it/s]\n"
          ]
        },
        {
          "output_type": "stream",
          "name": "stdout",
          "text": [
            "loss: 2.966\n",
            "train acc:0.9803826212882996\n",
            "val acc:0.8700894117355347\n",
            "Epoch 13\n"
          ]
        },
        {
          "output_type": "stream",
          "name": "stderr",
          "text": [
            "100%|██████████| 512/512 [01:31<00:00,  5.58it/s]\n"
          ]
        },
        {
          "output_type": "stream",
          "name": "stdout",
          "text": [
            "loss: 2.948\n",
            "train acc:0.985218346118927\n",
            "val acc:0.874931812286377\n",
            "Epoch 14\n"
          ]
        },
        {
          "output_type": "stream",
          "name": "stderr",
          "text": [
            "100%|██████████| 512/512 [01:31<00:00,  5.57it/s]\n"
          ]
        },
        {
          "output_type": "stream",
          "name": "stdout",
          "text": [
            "loss: 2.700\n",
            "train acc:0.981797456741333\n",
            "val acc:0.8673635721206665\n",
            "Epoch 15\n"
          ]
        },
        {
          "output_type": "stream",
          "name": "stderr",
          "text": [
            "  6%|▌         | 30/512 [00:05<01:29,  5.37it/s]\n"
          ]
        },
        {
          "output_type": "error",
          "ename": "KeyboardInterrupt",
          "evalue": "ignored",
          "traceback": [
            "\u001b[0;31m---------------------------------------------------------------------------\u001b[0m",
            "\u001b[0;31mKeyboardInterrupt\u001b[0m                         Traceback (most recent call last)",
            "\u001b[0;32m<ipython-input-244-c474fa0bba42>\u001b[0m in \u001b[0;36m<module>\u001b[0;34m()\u001b[0m\n\u001b[1;32m      1\u001b[0m \u001b[0mPATH\u001b[0m \u001b[0;34m=\u001b[0m \u001b[0;34m'model.pkl'\u001b[0m\u001b[0;34m\u001b[0m\u001b[0;34m\u001b[0m\u001b[0m\n\u001b[1;32m      2\u001b[0m \u001b[0mN_EPOCHS\u001b[0m \u001b[0;34m=\u001b[0m \u001b[0;36m50\u001b[0m\u001b[0;34m\u001b[0m\u001b[0;34m\u001b[0m\u001b[0m\n\u001b[0;32m----> 3\u001b[0;31m \u001b[0mtraining_loop\u001b[0m\u001b[0;34m(\u001b[0m\u001b[0mmodel\u001b[0m\u001b[0;34m,\u001b[0m \u001b[0mdataloader\u001b[0m\u001b[0;34m,\u001b[0m \u001b[0mval_loader\u001b[0m\u001b[0;34m,\u001b[0m \u001b[0mN_EPOCHS\u001b[0m\u001b[0;34m,\u001b[0m \u001b[0moptimization\u001b[0m\u001b[0;34m,\u001b[0m \u001b[0mPATH\u001b[0m\u001b[0;34m,\u001b[0m \u001b[0;32mFalse\u001b[0m\u001b[0;34m,\u001b[0m \u001b[0mPATH\u001b[0m\u001b[0;34m,\u001b[0m \u001b[0mwriter\u001b[0m\u001b[0;34m)\u001b[0m\u001b[0;34m\u001b[0m\u001b[0;34m\u001b[0m\u001b[0m\n\u001b[0m",
            "\u001b[0;32m<ipython-input-237-801a1ab26ac4>\u001b[0m in \u001b[0;36mtraining_loop\u001b[0;34m(model, train_set, val_set, n_epochs, optimization, save_path, load_model, load_path, writer)\u001b[0m\n\u001b[1;32m     22\u001b[0m       \u001b[0mw\u001b[0m \u001b[0;34m=\u001b[0m \u001b[0mdata\u001b[0m\u001b[0;34m[\u001b[0m\u001b[0;34m'words'\u001b[0m\u001b[0;34m]\u001b[0m\u001b[0;34m.\u001b[0m\u001b[0mfloat\u001b[0m\u001b[0;34m(\u001b[0m\u001b[0;34m)\u001b[0m\u001b[0;34m.\u001b[0m\u001b[0mto\u001b[0m\u001b[0;34m(\u001b[0m\u001b[0mdevice\u001b[0m\u001b[0;34m)\u001b[0m\u001b[0;34m\u001b[0m\u001b[0;34m\u001b[0m\u001b[0m\n\u001b[1;32m     23\u001b[0m       \u001b[0ml\u001b[0m \u001b[0;34m=\u001b[0m \u001b[0mdata\u001b[0m\u001b[0;34m[\u001b[0m\u001b[0;34m'labels'\u001b[0m\u001b[0;34m]\u001b[0m\u001b[0;34m.\u001b[0m\u001b[0mto\u001b[0m\u001b[0;34m(\u001b[0m\u001b[0mdevice\u001b[0m\u001b[0;34m)\u001b[0m\u001b[0;34m\u001b[0m\u001b[0;34m\u001b[0m\u001b[0m\n\u001b[0;32m---> 24\u001b[0;31m       \u001b[0moptimization\u001b[0m\u001b[0;34m.\u001b[0m\u001b[0mtrain_step\u001b[0m\u001b[0;34m(\u001b[0m\u001b[0mw\u001b[0m\u001b[0;34m,\u001b[0m \u001b[0ml\u001b[0m\u001b[0;34m)\u001b[0m\u001b[0;34m\u001b[0m\u001b[0;34m\u001b[0m\u001b[0m\n\u001b[0m\u001b[1;32m     25\u001b[0m \u001b[0;34m\u001b[0m\u001b[0m\n\u001b[1;32m     26\u001b[0m     \u001b[0mprint\u001b[0m\u001b[0;34m(\u001b[0m\u001b[0;34mf'loss:{optimization.history[epoch] : .3f}'\u001b[0m\u001b[0;34m)\u001b[0m\u001b[0;34m\u001b[0m\u001b[0;34m\u001b[0m\u001b[0m\n",
            "\u001b[0;32m<ipython-input-231-3c36144eb4f0>\u001b[0m in \u001b[0;36mtrain_step\u001b[0;34m(self, x, y)\u001b[0m\n\u001b[1;32m     20\u001b[0m         \u001b[0mself\u001b[0m\u001b[0;34m.\u001b[0m\u001b[0moptimizer\u001b[0m\u001b[0;34m.\u001b[0m\u001b[0mzero_grad\u001b[0m\u001b[0;34m(\u001b[0m\u001b[0;34m)\u001b[0m\u001b[0;34m\u001b[0m\u001b[0;34m\u001b[0m\u001b[0m\n\u001b[1;32m     21\u001b[0m \u001b[0;34m\u001b[0m\u001b[0m\n\u001b[0;32m---> 22\u001b[0;31m         \u001b[0;32mreturn\u001b[0m \u001b[0mloss\u001b[0m\u001b[0;34m.\u001b[0m\u001b[0mitem\u001b[0m\u001b[0;34m(\u001b[0m\u001b[0;34m)\u001b[0m\u001b[0;34m\u001b[0m\u001b[0;34m\u001b[0m\u001b[0m\n\u001b[0m",
            "\u001b[0;31mKeyboardInterrupt\u001b[0m: "
          ]
        }
      ]
    },
    {
      "cell_type": "markdown",
      "source": [
        "### Confusion Matrix and Report\n"
      ],
      "metadata": {
        "id": "esRWaE1pRiWx"
      }
    },
    {
      "cell_type": "code",
      "source": [
        "correct_labels = np.array(val_set['label'],  dtype = str).reshape(-1, 1)\n",
        "y_true_encoded = torch.Tensor(encoder.transform(correct_labels))\n",
        "\n",
        "y_pred = model.prediction(val_loader)"
      ],
      "metadata": {
        "id": "FKjBrJETRlqL"
      },
      "execution_count": 239,
      "outputs": []
    },
    {
      "cell_type": "code",
      "source": [
        "print(classification_report(y_true_encoded.cpu(), y_pred.cpu(), target_names=labels[:44]))"
      ],
      "metadata": {
        "colab": {
          "base_uri": "https://localhost:8080/"
        },
        "id": "WYcCEqcARIiY",
        "outputId": "6a0a9308-cb6a-4696-f46e-922731f447ae"
      },
      "execution_count": 241,
      "outputs": [
        {
          "output_type": "stream",
          "name": "stdout",
          "text": [
            "              precision    recall  f1-score   support\n",
            "\n",
            "         NNP       1.00      0.07      0.12        15\n",
            "           ,       1.00      1.00      1.00       173\n",
            "          CD       1.00      1.00      1.00       225\n",
            "         NNS       1.00      1.00      1.00      1528\n",
            "          JJ       0.76      0.44      0.56        50\n",
            "          MD       0.67      0.55      0.60        53\n",
            "          VB       1.00      1.00      1.00      1277\n",
            "          DT       0.98      1.00      0.99       214\n",
            "          NN       0.95      0.96      0.96       758\n",
            "          IN       0.95      0.95      0.95      1249\n",
            "           .       0.97      0.98      0.97      2754\n",
            "         VBZ       0.97      0.97      0.97        34\n",
            "         VBG       0.00      0.00      0.00         2\n",
            "          CC       0.93      0.94      0.94      3275\n",
            "         VBD       0.67      0.69      0.68      1924\n",
            "         VBN       0.81      0.48      0.61       165\n",
            "          RB       0.85      0.59      0.69        58\n",
            "          TO       0.17      0.33      0.22         3\n",
            "         PRP       0.96      0.95      0.95       347\n",
            "         RBR       0.79      0.83      0.81      4513\n",
            "         WDT       0.85      0.83      0.84      2704\n",
            "         VBP       0.23      0.03      0.05       105\n",
            "          RP       0.82      0.82      0.82      2102\n",
            "        PRP$       0.75      0.21      0.33        14\n",
            "         JJS       0.99      1.00      0.99       269\n",
            "         POS       0.95      0.98      0.96       570\n",
            "          ``       0.96      0.99      0.97       258\n",
            "          EX       0.70      0.71      0.71       951\n",
            "          ''       0.42      0.51      0.46        35\n",
            "          WP       0.82      0.69      0.75        13\n",
            "           :       0.40      0.58      0.47        43\n",
            "         JJR       0.99      1.00      1.00       765\n",
            "         WRB       0.00      0.00      0.00         2\n",
            "           $       0.88      0.87      0.87       956\n",
            "        NNPS       0.85      0.83      0.84       861\n",
            "         WP$       0.59      0.52      0.56       476\n",
            "       -LRB-       0.71      0.66      0.68       737\n",
            "       -RRB-       0.80      0.80      0.80       460\n",
            "         PDT       0.90      0.88      0.89       712\n",
            "         RBS       0.91      0.84      0.87       157\n",
            "          FW       0.90      0.93      0.91        80\n",
            "          UH       1.00      1.00      1.00         4\n",
            "         SYM       0.76      0.63      0.69        62\n",
            "          LS       0.99      1.00      0.99       230\n",
            "\n",
            "    accuracy                           0.87     31183\n",
            "   macro avg       0.79      0.73      0.74     31183\n",
            "weighted avg       0.86      0.87      0.86     31183\n",
            "\n"
          ]
        },
        {
          "output_type": "stream",
          "name": "stderr",
          "text": [
            "/usr/local/lib/python3.7/dist-packages/sklearn/metrics/_classification.py:1308: UndefinedMetricWarning: Precision and F-score are ill-defined and being set to 0.0 in labels with no predicted samples. Use `zero_division` parameter to control this behavior.\n",
            "  _warn_prf(average, modifier, msg_start, len(result))\n",
            "/usr/local/lib/python3.7/dist-packages/sklearn/metrics/_classification.py:1308: UndefinedMetricWarning: Precision and F-score are ill-defined and being set to 0.0 in labels with no predicted samples. Use `zero_division` parameter to control this behavior.\n",
            "  _warn_prf(average, modifier, msg_start, len(result))\n",
            "/usr/local/lib/python3.7/dist-packages/sklearn/metrics/_classification.py:1308: UndefinedMetricWarning: Precision and F-score are ill-defined and being set to 0.0 in labels with no predicted samples. Use `zero_division` parameter to control this behavior.\n",
            "  _warn_prf(average, modifier, msg_start, len(result))\n"
          ]
        }
      ]
    },
    {
      "cell_type": "code",
      "source": [
        "cm = confusion_matrix(y_true_encoded.cpu(), y_pred.cpu())\n",
        "\n",
        "plt.rcParams[\"figure.figsize\"] = (10, 8)\n",
        "ax= plt.subplot()\n",
        "sns.heatmap(cm)\n",
        "\n",
        "# labels, title and ticks\n",
        "ax.set_xlabel('Predicted labels');\n",
        "ax.set_ylabel('True labels'); \n",
        "ax.set_title('Confusion Matrix'); \n",
        "ax.xaxis.set_ticklabels(labels.flatten()); \n",
        "plt.xticks(rotation=90);\n",
        "ax.yaxis.set_ticklabels(labels.flatten());\n",
        "plt.yticks(rotation=0);"
      ],
      "metadata": {
        "colab": {
          "base_uri": "https://localhost:8080/",
          "height": 526
        },
        "id": "MLGNTlFLdZMp",
        "outputId": "8812eb39-f863-4ee8-fd63-ff8bba5f3dfd"
      },
      "execution_count": 242,
      "outputs": [
        {
          "output_type": "display_data",
          "data": {
            "image/png": "[encoded data removed]",
            "text/plain": [
              "<Figure size 720x576 with 2 Axes>"
            ]
          },
          "metadata": {
            "needs_background": "light"
          }
        }
      ]
    },
    {
      "cell_type": "code",
      "source": [
        ""
      ],
      "metadata": {
        "id": "Sh25KY--pR4W"
      },
      "execution_count": null,
      "outputs": []
    }
  ]
}