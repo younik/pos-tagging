{
  "nbformat": 4,
  "nbformat_minor": 0,
  "metadata": {
    "colab": {
      "name": "Assignment_1.ipynb",
      "provenance": [],
      "collapsed_sections": [
        "ys_LD3OQc7Si"
      ]
    },
    "kernelspec": {
      "name": "python3",
      "display_name": "Python 3"
    },
    "accelerator": "GPU"
  },
  "cells": [
    {
      "cell_type": "markdown",
      "metadata": {
        "id": "-WeCeITXoxLf"
      },
      "source": [
        "# Assignment 1\n",
        "\n",
        "**Due to**: 23/12/2021 (dd/mm/yyyy)\n",
        "\n",
        "**Credits**: Andrea Galassi, Federico Ruggeri, Paolo Torroni\n",
        "\n",
        "**Summary**: Part-of Speech (POS) tagging as Sequence Labelling using Recurrent Neural Architectures"
      ]
    },
    {
      "cell_type": "markdown",
      "metadata": {
        "id": "a4_wqPdlBcKS"
      },
      "source": [
        "# Intro\n",
        "\n",
        "In this assignment  we will ask you to perform POS tagging using neural architectures\n",
        "\n",
        "You are asked to follow these steps:\n",
        "*   Download the corpora and split it in training and test sets, structuring a dataframe.\n",
        "*   Embed the words using GloVe embeddings\n",
        "*   Create a baseline model, using a simple neural architecture\n",
        "*   Experiment doing small modifications to the baseline model, choose hyperparameters using the validation set\n",
        "*   Evaluate your two best model\n",
        "*   Analyze the errors of your model\n",
        "\n",
        "\n",
        "**Task**: given a corpus of documents, predict the POS tag for each word\n",
        "\n",
        "**Corpus**:\n",
        "Ignore the numeric value in the third column, use only the words/symbols and its label. \n",
        "The corpus is available at:\n",
        "https://raw.githubusercontent.com/nltk/nltk_data/gh-pages/packages/corpora/dependency_treebank.zip\n",
        "\n",
        "**Splits**: documents 1-100 are the train set, 101-150 validation set, 151-199 test set.\n",
        "\n",
        "\n",
        "**Features**: you MUST use GloVe embeddings as the only input features to the model.\n",
        "\n",
        "**Splitting**: you can decide to split documents into sentences or not, the choice is yours.\n",
        "\n",
        "**I/O structure**: The input data will have three dimensions: 1-documents/sentences, 2-token, 3-features; for the output there are 2 possibilities: if you use one-hot encoding it will be 1-documents/sentences, 2-token labels, 3-classes, if you use a single integer that indicates the number of the class it will be 1-documents/sentences, 2-token labels.\n",
        "\n",
        "**Baseline**: two layers architecture: a Bidirectional LSTM layer and a Dense/Fully-Connected layer on top; the choice of hyper-parameters is yours.\n",
        "\n",
        "**Architectures**: experiment using a GRU instead of the LSTM, adding an additional LSTM layer, and adding an additional dense layer; do not mix these variantions.\n",
        "\n",
        "\n",
        "**Training and Experiments**: all the experiments must involve only the training and validation sets.\n",
        "\n",
        "**Evaluation**: in the end, only the two best models of your choice (according to the validation set) must be evaluated on the test set. The main metric must be F1-Macro computed between the various part of speech. DO NOT CONSIDER THE PUNCTUATION CLASSES.\n",
        "\n",
        "**Metrics**: the metric you must use to evaluate your final model is the F1-macro, WITHOUT considering punctuation/symbols classes; during the training process you can use accuracy because you can't use the F1 metric unless you use a single (gigantic) batch because there is no way to aggregate \"partial\" F1 scores computed on mini-batches.\n",
        "\n",
        "**Discussion and Error Analysis** : verify and discuss if the results on the test sets are coherent with those on the validation set; analyze the errors done by your model, try to understand which may be the causes and think about how to improve it.\n",
        "\n",
        "**Report**: you are asked to deliver the code of your experiments and a small pdf report of about 2 pages; the pdf must begin with the names of the people of your team and a small abstract (4-5 lines) that sums up your findings.\n",
        "\n",
        "# Out Of Vocabulary (OOV) terms\n",
        "\n",
        "How to handle words that are not in GloVe vocabulary?\n",
        "You can handle them as you want (random embedding, placeholder, whatever!), but they must be STATIC embeddings (you cannot train them).\n",
        "\n",
        "But there is a very important caveat! As usual, the element of the test set must not influence the elements of the other splits!\n",
        "\n",
        "So, when you compute new embeddings for train+validation, you must forget about test documents.\n",
        "The motivation is to emulate a real-world scenario, where you select and train a model in the first stage, without knowing nothing about the testing environment.\n",
        "\n",
        "For implementation convenience, you CAN use a single vocabulary file/matrix/whatever. The principle of the previous point is that the embeddings inside that file/matrix must be generated independently for train and test splits.\n",
        "\n",
        "Basically in a real-world scenario, this is what would happen:\n",
        "1. Starting vocabulary V1 (in this assignment, GloVe vocabulary)\n",
        "2. Compute embeddings for terms out of vocabulary V1 (OOV1) of the training split \n",
        "3. Add embeddings to the vocabulary, so to obtain vocabulary V2=V1+OOV1\n",
        "4. Training of the model(s)\n",
        "5. Compute embeddings for terms OOV2 of the validation split \n",
        "6. Add embeddings to the vocabulary, so to obtain vocabulary V3=V1+OOV1+OOV2\n",
        "7. Validation of the model(s)\n",
        "8. Compute embeddings for terms OOV3 of the test split \n",
        "9. Add embeddings to the vocabulary, so to obtain vocabulary V4=V1+OOV1+OOV2+OOV3\n",
        "10. Testing of the final model\n",
        "\n",
        "In this case, where we already have all the documents, we can simplify the process a bit, but the procedure must remain rigorous.\n",
        "\n",
        "1. Starting vocabulary V1 (in this assignment, GloVe vocabulary)\n",
        "2. Compute embeddings for terms out of vocabulary V1 (OOV1) of the training split \n",
        "3. Add embeddings to the vocabulary, so to obtain vocabulary V2=V1+OOV1\n",
        "4. Compute embeddings for terms OOV2 of the validation split \n",
        "5. Add embeddings to the vocabulary, so to obtain vocabulary V3=V1+OOV1+OOV2\n",
        "6. Compute embeddings for terms OOV3 of the test split \n",
        "7. Add embeddings to the vocabulary, so to obtain vocabulary V4=V1+OOV1+OOV2\n",
        "8. Training of the model(s)\n",
        "9. Validation of the model(s)\n",
        "10. Testing of the final model\n",
        "\n",
        "Step 2 and step 6 must be completely independent of each other, for what concerns the method and the documents. But they can rely on the previous vocabulary (V1 for step 2 and V3 for step 6)\n",
        "THEREFORE if a word is present both in the training set and the test split and not in the starting vocabulary, its embedding is computed in step 2) and it is not considered OOV anymore in step 6).\n",
        "\n",
        "# Report\n",
        "The report must not be just a copy and paste of graphs and tables!\n",
        "\n",
        "The report must not be longer than 2 pages and must contain:\n",
        "* The names of the member of your team\n",
        "* A short abstract (4-5 lines) that sum ups everything\n",
        "* A general description of the task you have addressed and how you have addressed it\n",
        "* A short description of the models you have used\n",
        "* Some tables that sum up your findings in validation and test and a discussion of those results\n",
        "* The most relevant findings of your error analysis\n",
        "\n",
        "# Evaluation Criterion\n",
        "\n",
        "The goal of this assignment is not to prove you can find best model ever, but to face a common task, structure it correctly, and follow a correct and rigorous experimental procedure.\n",
        "In other words, we don't care if you final models are awful as long as you have followed the correct procedure and wrote a decent report.\n",
        "\n",
        "The score of the assignment will be computed roughly as follows\n",
        "* 1 point for the general setting of the problem\n",
        "* 1 point for the handling of OOV terms\n",
        "* 1 point for the models\n",
        "* 1 point for train-validation-test procedure\n",
        "* 2 point for the discussion of the results, error analysis, and report\n",
        "\n",
        "This distribution of scores is tentative and we may decide to alter it at any moment.\n",
        "We also reserve the right to assign a small bonus (0.5 points) to any assignment that is particularly worthy. Similarly, in case of grave errors, we may decide to assign an equivalent malus (-0.5 points).\n",
        "\n",
        "# Contacts\n",
        "\n",
        "In case of any doubt, question, issue, or help we highly recommend you to check the [course useful material](https://virtuale.unibo.it/pluginfile.php/1036039/mod_resource/content/2/NLP_Course_Useful_Material.pdf) for additional information, and to use the Virtuale forums to discuss with other students.\n",
        "\n",
        "You can always contact us at the following email addresses. To increase the probability of a prompt response, we reccomend you to write to both the teaching assistants.\n",
        "\n",
        "Teaching Assistants:\n",
        "\n",
        "* Andrea Galassi -> a.galassi@unibo.it\n",
        "* Federico Ruggeri -> federico.ruggeri6@unibo.it\n",
        "\n",
        "Professor:\n",
        "\n",
        "* Paolo Torroni -> p.torroni@unibo.it\n",
        "\n",
        "\n",
        "# FAQ\n",
        "* You can use a non-trainable Embedding layer to load the glove embeddings\n",
        "* You can use any library of your choice to implement the networks. Two options are tensorflow/keras or pythorch. Both these libraries have all the classes you need to implement these simple architectures and there are plenty of tutorials around, where you can learn how to use them."
      ]
    },
    {
      "cell_type": "markdown",
      "metadata": {
        "id": "D8PgAJyy40SY"
      },
      "source": [
        "### Import libraries & download dataset"
      ]
    },
    {
      "cell_type": "code",
      "metadata": {
        "id": "caNU8UeFxupB",
        "colab": {
          "base_uri": "https://localhost:8080/"
        },
        "outputId": "7cdd086e-0ba7-4dcf-906f-e54412e2f927"
      },
      "source": [
        "import os\n",
        "import pandas as pd\n",
        "import numpy as np\n",
        "import matplotlib.pyplot as plt\n",
        "import csv\n",
        "import seaborn as sns  \n",
        "from sklearn.metrics import confusion_matrix, classification_report\n",
        "\n",
        "import torch\n",
        "import torch.nn as nn\n",
        "from torch.utils.data import Dataset, DataLoader\n",
        "from torch.utils.tensorboard import SummaryWriter\n",
        "import torch.optim as optim\n",
        "\n",
        "from sklearn.preprocessing import OrdinalEncoder\n",
        "\n",
        "from tqdm import tqdm\n",
        "from typing import Optional\n",
        "\n",
        "import gensim\n",
        "import gensim.downloader as gloader  \n",
        "\n",
        "import re\n",
        "\n",
        "!pip install python-Levenshtein\n",
        "import Levenshtein\n",
        "\n",
        "device = torch.device(\"cuda\" if torch.cuda.is_available() else \"cpu\")"
      ],
      "execution_count": 1,
      "outputs": [
        {
          "output_type": "stream",
          "name": "stdout",
          "text": [
            "Collecting python-Levenshtein\n",
            "  Downloading python-Levenshtein-0.12.2.tar.gz (50 kB)\n",
            "\u001b[?25l\r\u001b[K     |██████▌                         | 10 kB 22.8 MB/s eta 0:00:01\r\u001b[K     |█████████████                   | 20 kB 25.3 MB/s eta 0:00:01\r\u001b[K     |███████████████████▌            | 30 kB 11.6 MB/s eta 0:00:01\r\u001b[K     |██████████████████████████      | 40 kB 9.3 MB/s eta 0:00:01\r\u001b[K     |████████████████████████████████| 50 kB 2.9 MB/s \n",
            "\u001b[?25hRequirement already satisfied: setuptools in /usr/local/lib/python3.7/dist-packages (from python-Levenshtein) (57.4.0)\n",
            "Building wheels for collected packages: python-Levenshtein\n",
            "  Building wheel for python-Levenshtein (setup.py) ... \u001b[?25l\u001b[?25hdone\n",
            "  Created wheel for python-Levenshtein: filename=python_Levenshtein-0.12.2-cp37-cp37m-linux_x86_64.whl size=149863 sha256=75b240bb84bd4ff9c218172712b270cda55a7dbd9538136473e105de92147e19\n",
            "  Stored in directory: /root/.cache/pip/wheels/05/5f/ca/7c4367734892581bb5ff896f15027a932c551080b2abd3e00d\n",
            "Successfully built python-Levenshtein\n",
            "Installing collected packages: python-Levenshtein\n",
            "Successfully installed python-Levenshtein-0.12.2\n"
          ]
        }
      ]
    },
    {
      "cell_type": "code",
      "metadata": {
        "id": "y2j0JgX8wpjH",
        "colab": {
          "base_uri": "https://localhost:8080/"
        },
        "outputId": "0a8210f5-d6cd-48cd-b0cf-8b2777ab7f68"
      },
      "source": [
        "!wget https://raw.githubusercontent.com/nltk/nltk_data/gh-pages/packages/corpora/dependency_treebank.zip\n",
        "!unzip -q dependency_treebank.zip"
      ],
      "execution_count": 2,
      "outputs": [
        {
          "output_type": "stream",
          "name": "stdout",
          "text": [
            "--2021-12-13 21:04:13--  https://raw.githubusercontent.com/nltk/nltk_data/gh-pages/packages/corpora/dependency_treebank.zip\n",
            "Resolving raw.githubusercontent.com (raw.githubusercontent.com)... 185.199.108.133, 185.199.109.133, 185.199.111.133, ...\n",
            "Connecting to raw.githubusercontent.com (raw.githubusercontent.com)|185.199.108.133|:443... connected.\n",
            "HTTP request sent, awaiting response... 200 OK\n",
            "Length: 457429 (447K) [application/zip]\n",
            "Saving to: ‘dependency_treebank.zip’\n",
            "\n",
            "dependency_treebank 100%[===================>] 446.71K  --.-KB/s    in 0.04s   \n",
            "\n",
            "2021-12-13 21:04:13 (12.4 MB/s) - ‘dependency_treebank.zip’ saved [457429/457429]\n",
            "\n"
          ]
        }
      ]
    },
    {
      "cell_type": "markdown",
      "metadata": {
        "id": "onQNYcuwCTiW"
      },
      "source": [
        "### Dataframe creation and split into train, val and test set\n",
        "\n",
        "The way to split the dataset is already defined:  \n",
        "train set : documents 1-100;  \n",
        "validation set : documents 101-150;  \n",
        "test set : documents 151-199;"
      ]
    },
    {
      "cell_type": "code",
      "metadata": {
        "id": "EADZWC3txls8"
      },
      "source": [
        "corpus_path = 'dependency_treebank/'\n",
        "file_list = sorted(os.listdir(corpus_path))\n",
        "\n",
        "dfs = [pd.read_csv(corpus_path + f, sep='\\t', names=['word', 'label', 'foo']).drop('foo', 1)\n",
        "          for f in file_list]\n",
        "\n",
        "\n",
        "dataset = pd.concat(dfs, ignore_index=True)\n",
        "dataset['word'] = dataset['word'].transform(lambda x : x.lower())  \n",
        "\n",
        "train_set = pd.concat(dfs[:100], ignore_index=True)\n",
        "train_set['word'] = train_set['word'].transform(lambda x : x.lower())\n",
        "\n",
        "val_set = pd.concat(dfs[100:150], ignore_index=True)\n",
        "val_set['word'] = val_set['word'].transform(lambda x : x.lower())\n",
        "\n",
        "test_set = pd.concat(dfs[150:199], ignore_index=True)\n",
        "val_set['word'] = val_set['word'].transform(lambda x : x.lower())\n",
        "\n",
        "labels = dataset['label'].unique()\n",
        "words = dataset['word'].unique()"
      ],
      "execution_count": 3,
      "outputs": []
    },
    {
      "cell_type": "code",
      "source": [
        "EMBEDDING_SIZE = 50\n",
        "embedder = gloader.load(f'glove-wiki-gigaword-{EMBEDDING_SIZE}')"
      ],
      "metadata": {
        "id": "ouMAodz5jQh7",
        "outputId": "ff081212-d3bc-4ecc-a7ef-ce6569d55dbb",
        "colab": {
          "base_uri": "https://localhost:8080/"
        }
      },
      "execution_count": 4,
      "outputs": [
        {
          "output_type": "stream",
          "name": "stdout",
          "text": [
            "[==================================================] 100.0% 66.0/66.0MB downloaded\n"
          ]
        }
      ]
    },
    {
      "cell_type": "markdown",
      "source": [
        "We started splitting documents in sentences using \n",
        "punctuation labelled as '.' as end of sentences"
      ],
      "metadata": {
        "id": "6thVZ3VqkX1l"
      }
    },
    {
      "cell_type": "code",
      "metadata": {
        "id": "ZQIUPI3h7DCl"
      },
      "source": [
        "full_stops = train_set[(train_set['label']=='.')].index\n",
        "max_length = max(full_stops[1:] - full_stops[:-1])\n",
        "\n",
        "val_stops = val_set[(val_set['label']=='.')].index\n",
        "max_length_val = max(val_stops[1:] - val_stops[:-1])\n",
        "\n",
        "test_stops = test_set[(test_set['label']=='.')].index\n",
        "max_length_test = max(test_stops[1:] - test_stops[:-1])\n",
        "\n",
        "\n",
        "OOV_train = set(train_set['word'].unique()).difference(set(embedder.vocab.keys()))\n",
        "OOV_val = set(val_set['word'].unique()).difference(set(embedder.vocab.keys()))\n",
        "OOV_test = set(test_set['word'].unique()).difference(set(embedder.vocab.keys()))"
      ],
      "execution_count": null,
      "outputs": []
    },
    {
      "cell_type": "code",
      "source": [
        "print('Before pre-processing:')\n",
        "print(\"Train set unique words:\", len(train_set['word'].unique()))\n",
        "print('OOV:', len(OOV_train))\n",
        "print('Max sentence length', max_length)\n",
        "print(\"\\nValidation set unique words:\", len(val_set['word'].unique()))\n",
        "print('Max sentence length', max_length_val)\n",
        "print('OOV:', len(OOV_val))\n",
        "print(\"\\nTest set unique words:\", len(test_set['word'].unique()))\n",
        "print('Max sentence length', max_length_test)\n",
        "print('OOV:', len(OOV_test))"
      ],
      "metadata": {
        "id": "IIHU5fcWj8bd"
      },
      "execution_count": null,
      "outputs": []
    },
    {
      "cell_type": "markdown",
      "source": [
        "Then we tried to improve the sentences splitting using also the semi-column"
      ],
      "metadata": {
        "id": "Oomp6hyQkd-h"
      }
    },
    {
      "cell_type": "code",
      "source": [
        "full_stops = train_set[(train_set['label']=='.') | (train_set['word']==';')].index\n",
        "max_length = max(full_stops[1:] - full_stops[:-1])\n",
        "\n",
        "val_stops = val_set[(val_set['label']=='.') | (val_set['word']==';')].index\n",
        "max_length_val = max(val_stops[1:] - val_stops[:-1])\n",
        "\n",
        "test_stops = val_set[(val_set['label']=='.') | (val_set['word']==';')].index\n",
        "max_length_test = max(test_stops[1:] - test_stops[:-1])"
      ],
      "metadata": {
        "id": "bMrXaArHkAJI"
      },
      "execution_count": 5,
      "outputs": []
    },
    {
      "cell_type": "code",
      "source": [
        "print('After processing')\n",
        "print('Max sentence length in Train Set:', max_length)\n",
        "print('Max sentence length in Validation Set:', max_length_val)\n",
        "print('Max sentence length in Test Set:', max_length_test)"
      ],
      "metadata": {
        "id": "eC-lWvmzkEmh"
      },
      "execution_count": null,
      "outputs": []
    },
    {
      "cell_type": "code",
      "source": [
        "def indexOfPhrase(word_idx):\n",
        "  return np.count_nonzero(word_idx > full_stops)\n",
        "\n",
        "def val_phrases(word_idx):\n",
        "  return np.count_nonzero(word_idx > val_stops)\n",
        "\n",
        "train_grouped = train_set.groupby(by=np.vectorize(indexOfPhrase))\n",
        "val_grouped = val_set.groupby(by=np.vectorize(val_phrases))"
      ],
      "metadata": {
        "id": "y3RGGvmSkrJW"
      },
      "execution_count": 6,
      "outputs": []
    },
    {
      "cell_type": "markdown",
      "source": [
        "### Embedder end Encoder preparation"
      ],
      "metadata": {
        "id": "KDww18DUTYSJ"
      }
    },
    {
      "cell_type": "code",
      "source": [
        "EMBEDDING_SIZE = 50\n",
        "embedder = gloader.load(f'glove-wiki-gigaword-{EMBEDDING_SIZE}')\n",
        "\n",
        "OOV = set(words).difference(set(embedder.vocab.keys()))\n",
        "print(OOV)\n",
        "print(\"\\nThere are\", len(OOV), \"OOV\")"
      ],
      "metadata": {
        "id": "8YSrcLB6ThSm",
        "colab": {
          "base_uri": "https://localhost:8080/"
        },
        "outputId": "8c8f38d8-f9ea-476e-d3cf-f1449b16d4cb"
      },
      "execution_count": 7,
      "outputs": [
        {
          "output_type": "stream",
          "name": "stdout",
          "text": [
            "{'630.9', 'market-share', '5\\\\/8', 'investment-grade', 'anti-china', 'landonne', 'ariail', '372.9', '71,309', 'yoshihashi', 'school-improvement', 'computer-driven', 'ntg', '8.467', 'subskills', '11-month-old', 'college-bowl', '14.', 'radio-station', '143.80', 'lookee-loos', 'constitutional-law', 'bermuda-based', '387.8', 'pre-1933', 'triple-c', 'cash-and-stock', 'boogieman', 'co-developers', 'mehrens', 'iran\\\\/contra', 'corn-buying', 'state-supervised', '30,537', 'million-a-year', 'cop-killer', 'pre-1917', 'drobnick', 'cash-rich', 'cost-control', 'veselich', 'purepac', 'buttoned-down', 'money-center', 'telephone-information', '1937-40', 'free-enterprise', 'arbitraging', 'ensrud', 'senate-house', 'industry-supported', '40-megabyte', 'nekoosa', '236.79', 'polyproplene', 'anku', 'exxon-owned', 'superpremiums', 'industrial-production', 'inter-tel', 'car-care', 'unfair-trade', '319.75', 'red-blooded', 'hart-scott-rodino', 'teacher-cadet', 'bronces', 'pro-forma', 'product-design', 'program-trading', '16\\\\/32', 'synergistics', 'replacement-car', 'marketing-communications', 'floating-rate', 'times-stock', 'glenham', 'less-serious', 'parts-engineering', 'sharedata', 'index-arbitrage', 'preparatives', 'nylev', 'write-downs', 'buy-outs', 'midwesco', 'test-drive', 'integra-a', 'trockenbeerenauslesen', '1.637', '1.8415', 'akerfeldt', 'mega-stadium', 'heavy-truck', 'acid-rain', 'louisiana-pacific', 'housing-assistance', 'chinchon', 'cup-tote', 'meinders', 'seven-million-ton', 'page-one', 'lentjes', '230-215', '142.85', 'ft-se', '226,570,380', 'card-member', 'language-housekeeper', 'pro-iranian', 'one-newspaper', 'sell-offs', 'cray-3', 'one-upsmanship', 'food-industry', 'ingersoll-rand', '372.14', '2645.90', 'micronite', '9\\\\/32', 'weisfield', 'clean-air', 'gates-warren', 'pricings', 'waertsilae', '1.1650', '170,262', 'intecknings', 'church-goers', '0.0085', '811.9', 'tete-a-tete', '143.08', 'propagandizes', '188.84', 'three-lawyer', 'tire-kickers', 'prevalance', 'alurralde', 'sometimes-exhausting', '22\\\\/32', 'safe-deposit', 'passenger-car', 'foldability', 'direct-investment', 'rexinger', 'hummerstone', 'water-authority', 'citizen-sparked', '352.9', 'credit-rating', 'blue-chips', 'computer-services', 'mouth-up', 'derel', 'nipponese', 'rubinfien', 'romanee-conti', 'freudtoy', 'stock-picking', 'ballantine\\\\/del', 'one-house', 'electrical-safety', '87-store', '19-month-old', '12,252', '1\\\\/8', 'we-japanese', 'when-issued', 'continuingly', '2141.7', 'less-than-brilliant', 'index-options', 'arighi', '158,666', 'acquisition-minded', '83,206', 'c.j.b.', 'copper-rich', 'vitulli', 'test-practice', 'energy-services', 'school-research', '1.916', 'six-bottle', 'triple-a-rated', 'insider-trading', '6,799', 'wfrr', 'rey\\\\/fawcett', 'single-lot', 'diloreto', '13.625', '234.4', '737.5', 'prudential-bache', 'malizia', '3436.58', 'shokubai', 'anti-deficiency', '35564.43', 'equity-purchase', '8.575', '7.422', 'stock-selection', 'above-market', '142.84', 'wheel-loader', 'beer-belly', '520-lawyer', 'arbitrage-related', 'bankruptcy-law', 'wtd', 'freshbake', '449.04', 'lafite-rothschild', 'house-senate', 'test-preparation', '1.5755', 'two-time-losers', '1738.1', '84-month', 'multi-crystal', '23,403', 'market-makers', '374.19', 'subminimum', 'txo', 'subindustry', 'abortion-related', '14\\\\/32', 'bank-backed', 'sulfur-dioxide', '238,000-circulation', '38.375', '361,376', 'chong-sik', 'year-ago', '13,056', '278.7', 'middle-ground', '126.15', 'stock-index', 'makato', '30,841', 'red-flag', '300-113', 'yen-denominated', 'automotive-parts', 're-thought', 'per-share', 'most-likely-successor', 'chilver', '2160.1', 'two-sevenths', 'certin', '-lcb-', 'near-limit', 'lynch-mob', 'colorliner', 'motor-home', 'herald-american', 'detective-story', 'anti-miscarriage', 'delwin', 'monchecourt', '7.458', 'scypher', 'manmade-fiber', 'video-viewing', 'samnick', 'nissho-iwai', 'achievement-test', '143.93', 'guber\\\\/peters', '90-cent-an-hour', 'n.v', 'bald-faced', 'boorse', '352.7', 'c-90', 'long-tenured', '446.62', 'mortgage-based', 'breakey', '618.1', 'circuit-breaker', '3057', 'trettien', 'news-american', 'securities-based', '5,699', 'dead-eyed', '7\\\\/8', 'ctbs', 'merger-related', 'macmillan\\\\/mcgraw-hill', 'year-earlier', 'pianist-comedian', 'capital-markets', 'conn.based', 'information-services', '120-a-share', 'minicrash', 'anti-programmers', 'sewing-machine', 'pennview', 'home-market', 'high-rolling', 'revenue-desperate', 'pramual', 'school-board', 'univest', 'roof-crush', 'corporate-wide', 'odd-sounding', 'prior-year', 'blood-cell', 'forest-products', 'rapanelli', 'durable-goods', '1\\\\/4', 'school-district', 'lap-shoulder', 'bellringers', 'corton-charlemagne', 'substance-abusing', 'mutual-fund', '82,389', 'muscolina', '11,390,000', 'intellectual-property', 'mariotta', 'crookery', 'tarwhine', 'electric-utility', 'executive-office', 'sticker-shock', 'crane-safety', 'life-insurance', 'garden-variety', '131.01', '1928-33', 'money-market', '2163.2', 'savers\\\\/investors', 'newspaper-printing', 'light-truck', 'bumkins', '734.9', 'social-studies', 'asset-valuation', 'investor-relations', 'bell-ringer', 'financial-services', 'student-test', 'more-advanced', '2\\\\/32', 'one-yen', 'new-car', 'change-ringing', '494.50', '292.32', 'melt-textured', '263.07', 'autions', 'ex-dividend', '4.898', 'stock-manipulation', '566.54', 'truth-in-lending', '436.01', 'big-ticket', 'lezovich', 'disputada', '129.91', 'ednie', 'headcount-control', '1\\\\/10th', '100-megabyte', 'disputado', 'sino-u.s.', 'building-products', 'more-efficient', '341.20', 'built-from-kit', 'antitrust-law', 'highest-pitched', 'disaster-assistance', '-rcb-', 'computer-system-design', 'sometimes-tawdry', '1\\\\/2', 'gingl', 'retin-a', '3,250,000', 'weapons-modernization', 'collective-bargaining', '271,124', 'recession-inspired', 'hasbrouk', 'ac-130u', 'launch-vehicle', 'hallwood', 'minimum-wage', 'labor-backed', 'yet-to-be-formed', 'non-encapsulating', 'non-biodegradable', 'automotive-lighting', 'besuboru', 'nesb', '456.64', '500,004', 'several-year', 'amphobiles', 'tiphook', 'top-yielding', 'bread-and-butter', '2,050-passenger', 'crystal-lattice', 'car-safety', 'forest-product', 'larger-than-normal', '35500.64', 'twin-jet', 'biondi-santi', 'coche-dury', 'cents-a-unit', '34.625', '4,393,237', 'sidak', 'sogo-shosha', 'test-prep', 'yttrium-containing', 'greenmailer', 'band-wagon', '705.6', 'incentive-backed', '190-point', 'insurance-company', 'purhasing', '16,072', '1.457', '127.03', 'bridgestone\\\\/firestone', '18,444', 'pathlogy', 'dydee', 'then-speaker', 'vinken', 'northy', 'training-wage', 'secilia', '608,413', '300-day', '967,809', 'sub-segments', 'low-ball', 'hadson', 'trading-company', 'profit-taking', 'satrum', 'war-rationed', 'limited-partnership', 'sport-utility', '69-point', '20-stock', 'erbamont', 'anti-abortionists', '300-a-share', '-rrb-', 'interleukin-3', 'sanderoff', 'life-of-contract', 'noncompetitively', 'food-shop', 'mininum-wage', 'cotran', 'bottom-line', 'rope-sight', 'nearly-30', 'norwick', 'deposits-a', '43.875', 'nofzinger', 'anti-takeover', 'auto-safety', 'mutchin', 'express-buick', 'security-type', 'twindam', 'six-packs', 'machine-gun-toting', 'flim-flammery', 'side-crash', '237-seat', 'shirt-sleeved', \"creator's\", 'equal-opportunity', '45-a-share', 'jerritts', 'shareholder-rights', 'colonsville', 'eight-count', 'rate-sensitive', 'tissue-transplant', '361.8', 'car-development', 'drag-down', '62.625', 'much-larger', 'lightning-fast', '95,142', '382-37', '7.272', 'severable', 'four-foot-high', '29year', 'macmillan\\\\/mcgraw', 'dust-up', '26,956', '877,663', 'super-absorbent', 'summer\\\\/winter', 'chemplus', 'new-home', 'moleculon', '5.2180', 'stock-price', 'foreign-stock', '55-a-share', '154,240,000', 'custom-chip', '9,118', 'kalipharma', '3.253', 'nagymaros', 'uzi-model', 'incentive-bonus', 'fiber-end', 'lobsenz', 'non-callable', '415.6', '11,762', 'pattenden', 'sacramento-based', 'reupke', '2691.19', '62%-owned', 'property\\\\/casualty', 'old-house', 'chafic', 'stirlen', 'aslacton', 'wine-buying', 'double-c', 'front-seat', 'morale-damaging', 'high-rate', '50\\\\/50', '3\\\\/8', '374.20', '18-a-share', 'family-planning', '1206.26', 'odd-year', 'government-certified', 'heebie-jeebies', 'low-ability', '38.875', '95.09', 'three-sevenths', 'protein-1', 'ratners', 'thin-lipped', 'superdot', 'c.d.s', '2,303,328', 'dollar-yen', 'unenticing', 'flightiness', 'waymar', 'veraldi', 'search-and-seizure', 'contingency-fee', '3648.82', 'phacoflex', '271-147', 'g.m.b', '14,821', 'higher-salaried', '-lrb-', '16.125', 'futures-related', '377.60', '12\\\\/32', 'wheeland', 'yeargin', '13\\\\/16', '8300s', 'walbrecher', 'high-balance', '3,040,000', 'enzor', 'wamre', 'cleaner-burning', 'pension-fund', '47.125', 'circuit-board', '5.435', 'lower-priority', '415.8', 'solaia', 'foreign-led', 'price-depressing', 'ghkm', 'fetal-tissue', '5.276', 'potables', 'sept.30', 'prize-fighter', '220.45', 'airline-related', '3,288,453', 'crocidolite', '7\\\\/16', 'macheski', '6\\\\/2', 'savings-and-loan', '3\\\\/4', 'capital-gains', 'egnuss', 'unicorp', 'stock-specialist', 'johnson-era', '100,980', 'junk-bond', 'money-fund', '2003\\\\/2007', 'identity-management', 'index-fund', 'takeover-stock', '236.74', 'anti-program', 'price-support', 'seven-yen', 'one-country', 'derchin', '11\\\\/16', 'quantitive', 'jalaalwalikraam', 'test-coaching', '70-a-share', 'liquid-nitrogen', '36-store', 'asset-sale', 'small-company', '434.4', 'high-polluting', 'early-retirement', 'index-related', 'diceon', 'land-idling', 'staff-reduction', 'yen-support', 'subskill', 'centerbank', 'heiwado', 'sub-markets', 'post-hearing', 'nih-appointed', '497.34', '37-a-share', 'anti-morning-sickness', 'intelogic'}\n",
            "\n",
            "There are 676 OOV\n"
          ]
        }
      ]
    },
    {
      "cell_type": "code",
      "source": [
        "def isNumber(n):\n",
        "  if n == 'nan':\n",
        "    return False\n",
        "\n",
        "  try:\n",
        "    float(n)\n",
        "    return True\n",
        "  except:\n",
        "    return False\n",
        "\n",
        "def correct_typo(word, threshold=1):\n",
        "  if word in vocab_keys:\n",
        "    return word\n",
        "\n",
        "  if re.match('[a-z]', word): #avoid to use Levenshtein on numbers\n",
        "    dist = lambda elem: Levenshtein.distance(word, elem)\n",
        "    distances = np.vectorize(dist)(vocab_array)\n",
        "    idx_min = np.argmin(distances)\n",
        "    if distances[idx_min] <= threshold:\n",
        "      return vocab_array[idx_min]\n",
        "\n",
        "  #maybe it is a number, convert to the nearest one\n",
        "  word = word.replace(',', '')\n",
        "  number = float(word)\n",
        "\n",
        "  idx = np.argmin(np.abs(number_keys - number))\n",
        "  return str_number_keys[idx]\n",
        "\n",
        "\n",
        "\n",
        "def handling_OOV(OOV, embedder):\n",
        "  '''\n",
        "  Try to check if OOV are due to:\n",
        "     1)Decimal numbers; \n",
        "     2)words separated by special character (-, \\\\/)compuound words ;\n",
        "     3)Words compuound by two words present in the vocabulary; \n",
        "     4)Typos;\n",
        "  '''\n",
        "\n",
        "  '''\n",
        "  Decimal numbers are encoded using the nearest integer\n",
        "  '''\n",
        "  print('Analyzing numbers')\n",
        "  vocab_keys = embedder.vocab.keys()\n",
        "  vocab_array = np.array(list(vocab_keys))\n",
        "  str_number_keys = [n for n in tqdm(vocab_keys) if isNumber(n)]\n",
        "  number_keys = np.array(str_number_keys, dtype=np.float32)\n",
        "\n",
        "  '''\n",
        "  Words separated by special characters are encoded using the embedding of the two words,\n",
        "  the same is done with compound words\n",
        "  '''\n",
        "  print('Analyzing words separated by - or \\\\ \\\\/')\n",
        "  for w in tqdm(OOV):\n",
        "   try:\n",
        "    if '-' in w:\n",
        "      subWords = w.split('-')\n",
        "      embedded_words = [embedder[correct_typo(subW)] for subW in subWords if subW]\n",
        "      embedder.add([w], [np.mean(embedded_words, axis=0)])\n",
        "    \n",
        "    elif '\\\\/' in w:\n",
        "      subWords = w.split('\\\\/')\n",
        "      embedded_words = [embedder[correct_typo(subW)] for subW in subWords]\n",
        "      embedder.add([w], [np.mean(embedded_words, axis=0)])\n",
        "\n",
        "    else:\n",
        "      embedder.add([w], [embedder[correct_typo(w)]])\n",
        "\n",
        "   except:\n",
        "    pass\n",
        "  \n",
        "  # Compound words\n",
        "  print('Analyzing compound words')\n",
        "  for w in tqdm(OOV):\n",
        "    for i in range(2, len(w)-2):\n",
        "      w1 = w[:i]\n",
        "      w2 = w[i:]\n",
        "      if w1 in vocab_keys and w2 in vocab_keys:\n",
        "        embedding = (embedder[w1] + embedder[w2]) / 2\n",
        "        embedder.add([w], [embedding])\n",
        "        #print(\"Add\", w, \"composed by\", w1, \"and\", w2)\n",
        "        break\n",
        "\n",
        "  embedder.add(['62%-owned'], [(embedder['.62']+embedder['owned'])/2])\n",
        "\n",
        "  # Typos\n",
        "  print('Analyzing typos')\n",
        "  for w in tqdm(OOV):\n",
        "   try:\n",
        "    new_w = correct_typo(w, threshold=2)\n",
        "    embedder.add([w], [embedder[new_w]])\n",
        "    #print(\"Added\", w, \"as\", new_w)\n",
        "   except:\n",
        "    pass\n",
        "\n",
        "  "
      ],
      "metadata": {
        "id": "3RIdJtLXk3vU"
      },
      "execution_count": 8,
      "outputs": []
    },
    {
      "cell_type": "code",
      "source": [
        "handling_OOV(OOV, embedder)"
      ],
      "metadata": {
        "id": "n0VSyq04k88D",
        "outputId": "9479144e-3b89-4d2c-d945-eae642e2c9e6",
        "colab": {
          "base_uri": "https://localhost:8080/"
        }
      },
      "execution_count": 9,
      "outputs": [
        {
          "output_type": "stream",
          "name": "stdout",
          "text": [
            "Analyzing numbers\n"
          ]
        },
        {
          "output_type": "stream",
          "name": "stderr",
          "text": [
            "100%|██████████| 400000/400000 [00:00<00:00, 738750.18it/s]\n"
          ]
        },
        {
          "output_type": "stream",
          "name": "stdout",
          "text": [
            "Analyzing words separated by - or \\ \\/\n"
          ]
        },
        {
          "output_type": "stream",
          "name": "stderr",
          "text": [
            "100%|██████████| 676/676 [00:00<00:00, 431560.05it/s]\n"
          ]
        },
        {
          "output_type": "stream",
          "name": "stdout",
          "text": [
            "Analyzing compound words\n"
          ]
        },
        {
          "output_type": "stream",
          "name": "stderr",
          "text": [
            "100%|██████████| 676/676 [00:03<00:00, 183.17it/s]\n"
          ]
        },
        {
          "output_type": "stream",
          "name": "stdout",
          "text": [
            "Analyzing typos\n"
          ]
        },
        {
          "output_type": "stream",
          "name": "stderr",
          "text": [
            "100%|██████████| 676/676 [00:00<00:00, 413738.44it/s]\n"
          ]
        }
      ]
    },
    {
      "cell_type": "code",
      "source": [
        "print('After processing')\n",
        "print('There are ', len(set(OOV_train).difference(set(embedder.vocab.keys()))), ' OOV in the train set')\n",
        "print('There are ', len(set(OOV_val).difference(set(embedder.vocab.keys()))), ' OOV in the val set')\n",
        "print('There are ', len(set(OOV_test).difference(set(embedder.vocab.keys()))), ' OOV in the test set')"
      ],
      "metadata": {
        "id": "Gq5jPOaHk-Lo"
      },
      "execution_count": null,
      "outputs": []
    },
    {
      "cell_type": "code",
      "source": [
        "def isNumber(n):\n",
        "  if n == 'nan':\n",
        "    return False\n",
        "\n",
        "  try:\n",
        "    float(n)\n",
        "    return True\n",
        "  except:\n",
        "    return False\n",
        "\n",
        "vocab_keys = embedder.vocab.keys()\n",
        "vocab_array = np.array(list(vocab_keys))\n",
        "str_number_keys = [n for n in vocab_keys if isNumber(n)]\n",
        "number_keys = np.array(str_number_keys, dtype=np.float32)\n",
        "\n",
        "def correct_typo(word, threshold=1):\n",
        "  if word in vocab_keys:\n",
        "    return word\n",
        "\n",
        "  if re.match('[a-z]', word): #avoid to use Levenshtein on numbers\n",
        "    dist = lambda elem: Levenshtein.distance(word, elem)\n",
        "    distances = np.vectorize(dist)(vocab_array)\n",
        "    idx_min = np.argmin(distances)\n",
        "    if distances[idx_min] <= threshold:\n",
        "      return vocab_array[idx_min]\n",
        "\n",
        "  #maybe it is a number, convert to the nearest one\n",
        "  word = word.replace(',', '')\n",
        "  number = float(word)\n",
        "\n",
        "  idx = np.argmin(np.abs(number_keys - number))\n",
        "  return str_number_keys[idx]"
      ],
      "metadata": {
        "id": "cZJJgYrKhgEa"
      },
      "execution_count": null,
      "outputs": []
    },
    {
      "cell_type": "code",
      "source": [
        "for w in tqdm(OOV):\n",
        "  try:\n",
        "    if '-' in w:\n",
        "      subWords = w.split('-')\n",
        "      embedded_words = [embedder[correct_typo(subW)] for subW in subWords if subW]\n",
        "      embedder.add([w], [np.mean(embedded_words, axis=0)])\n",
        "    \n",
        "    elif '\\\\/' in w:\n",
        "      subWords = w.split('\\\\/')\n",
        "      embedded_words = [embedder[correct_typo(subW)] for subW in subWords]\n",
        "      embedder.add([w], [np.mean(embedded_words, axis=0)])\n",
        "\n",
        "    else:\n",
        "      embedder.add([w], [embedder[correct_typo(w)]])\n",
        "\n",
        "  except:\n",
        "    pass\n",
        "\n",
        "OOV = set(words).difference(set(embedder.vocab.keys()))\n",
        "print(OOV)\n",
        "print(\"There are\", len(OOV), \"OOV\")\n"
      ],
      "metadata": {
        "colab": {
          "base_uri": "https://localhost:8080/"
        },
        "id": "AbKnU_gnm1AD",
        "outputId": "1ba3d06c-dbbc-4b3e-ce7e-96009043dd6a"
      },
      "execution_count": null,
      "outputs": [
        {
          "output_type": "stream",
          "name": "stderr",
          "text": [
            "100%|██████████| 676/676 [00:50<00:00, 13.26it/s]"
          ]
        },
        {
          "output_type": "stream",
          "name": "stdout",
          "text": [
            "{'diloreto', 'colonsville', 'macmillan\\\\/mcgraw-hill', 'lezovich', 'nekoosa', 'subindustry', 'colorliner', 'chemplus', 'derchin', 'alurralde', 'aslacton', 'intecknings', '8300s', 'midwesco', 'phacoflex', 'muscolina', 'univest', 'continuingly', 'nipponese', 'lentjes', 'landonne', 'pramual', 'jalaalwalikraam', 'sharedata', 'trettien', 'subminimum', 'freudtoy', 'foldability', 'tarwhine', 'boogieman', 'kalipharma', '62%-owned', 'nagymaros', 'minicrash', 'yoshihashi', 'heiwado', 'macheski', 'erbamont', 'amphobiles', 'ac-130u', 'flightiness', 'disputado', 'freshbake', 'stirlen', 'jerritts', 'c.j.b.', 'intelogic', 'pennview', 'subskills', 'crocidolite', 'moleculon', 'pattenden', 'sanderoff', '29year', 'unenticing', 'severable', 'reupke', 'sept.30', 'egnuss', 'waertsilae', 'monchecourt', 'shokubai', 'quantitive', 'walbrecher', 'trockenbeerenauslesen', 'ensrud', 'twindam', 'lobsenz', 'veraldi', 'noncompetitively', 'subskill', 'rexinger', 'greenmailer', 'disputada', 'besuboru', 'purepac', 'rubinfien'}\n",
            "There are 77 OOV\n"
          ]
        },
        {
          "output_type": "stream",
          "name": "stderr",
          "text": [
            "\n"
          ]
        }
      ]
    },
    {
      "cell_type": "code",
      "source": [
        "for w in OOV:\n",
        "  for i in range(2, len(w)-2):\n",
        "    w1 = w[:i]\n",
        "    w2 = w[i:]\n",
        "    if w1 in vocab_keys and w2 in vocab_keys:\n",
        "      embedding = (embedder[w1] + embedder[w2]) / 2\n",
        "      embedder.add([w], [embedding])\n",
        "      print(\"Add\", w, \"composed by\", w1, \"and\", w2)\n",
        "      break\n",
        "\n",
        "embedder.add(['62%-owned'], [(embedder['.62']+embedder['owned'])/2])\n",
        "\n",
        "OOV = set(words).difference(set(embedder.vocab.keys()))\n",
        "print(\"\\nThere are\", len(OOV), \"OOV\")"
      ],
      "metadata": {
        "colab": {
          "base_uri": "https://localhost:8080/"
        },
        "id": "98BmkvHhuBiZ",
        "outputId": "506ac260-dfee-4947-feb4-763099030fee"
      },
      "execution_count": null,
      "outputs": [
        {
          "output_type": "stream",
          "name": "stdout",
          "text": [
            "Add diloreto composed by di and loreto\n",
            "Add colonsville composed by colons and ville\n",
            "Add lezovich composed by lezo and vich\n",
            "Add nekoosa composed by neko and osa\n",
            "Add subindustry composed by sub and industry\n",
            "Add colorliner composed by color and liner\n",
            "Add chemplus composed by chem and plus\n",
            "Add derchin composed by der and chin\n",
            "Add aslacton composed by asl and acton\n",
            "Add 8300s composed by 83 and 00s\n",
            "Add midwesco composed by mid and wesco\n",
            "Add muscolina composed by mus and colina\n",
            "Add univest composed by uni and vest\n",
            "Add nipponese composed by nippo and nese\n",
            "Add lentjes composed by lent and jes\n",
            "Add landonne composed by lan and donne\n",
            "Add pramual composed by pram and ual\n",
            "Add sharedata composed by share and data\n",
            "Add trettien composed by tr and ettien\n",
            "Add subminimum composed by sub and minimum\n",
            "Add freudtoy composed by freud and toy\n",
            "Add foldability composed by fold and ability\n",
            "Add tarwhine composed by tar and whine\n",
            "Add boogieman composed by boogie and man\n",
            "Add kalipharma composed by kali and pharma\n",
            "Add nagymaros composed by nagy and maros\n",
            "Add minicrash composed by mini and crash\n",
            "Add yoshihashi composed by yoshi and hashi\n",
            "Add heiwado composed by hei and wado\n",
            "Add macheski composed by mach and eski\n",
            "Add erbamont composed by erba and mont\n",
            "Add flightiness composed by flight and iness\n",
            "Add freshbake composed by fresh and bake\n",
            "Add stirlen composed by stir and len\n",
            "Add jerritts composed by jer and ritts\n",
            "Add c.j.b. composed by c. and j.b.\n",
            "Add intelogic composed by inte and logic\n",
            "Add pennview composed by penn and view\n",
            "Add subskills composed by sub and skills\n",
            "Add pattenden composed by patt and enden\n",
            "Add sanderoff composed by sande and roff\n",
            "Add 29year composed by 29 and year\n",
            "Add unenticing composed by un and enticing\n",
            "Add severable composed by sever and able\n",
            "Add sept.30 composed by sept and .30\n",
            "Add egnuss composed by eg and nuss\n",
            "Add shokubai composed by shoku and bai\n",
            "Add walbrecher composed by wal and brecher\n",
            "Add ensrud composed by ens and rud\n",
            "Add twindam composed by twi and ndam\n",
            "Add lobsenz composed by lobs and enz\n",
            "Add veraldi composed by ver and aldi\n",
            "Add noncompetitively composed by non and competitively\n",
            "Add subskill composed by sub and skill\n",
            "Add rexinger composed by rex and inger\n",
            "Add greenmailer composed by green and mailer\n",
            "Add purepac composed by pure and pac\n",
            "Add rubinfien composed by rubin and fien\n",
            "\n",
            "There are 18 OOV\n"
          ]
        }
      ]
    },
    {
      "cell_type": "code",
      "source": [
        "for w in OOV:\n",
        "  try:\n",
        "    new_w = correct_typo(w, threshold=2)\n",
        "    embedder.add([w], [embedder[new_w]])\n",
        "    print(\"Added\", w, \"as\", new_w)\n",
        "  except:\n",
        "    pass\n",
        "\n",
        "OOV = set(words).difference(set(embedder.vocab.keys()))\n",
        "print(\"\\nThere are\", len(OOV), \"OOV\")\n",
        "print(OOV)\n"
      ],
      "metadata": {
        "id": "s-zvshI9613Y",
        "outputId": "eba9b4bd-59e7-467d-92f4-aecf22799baf",
        "colab": {
          "base_uri": "https://localhost:8080/"
        }
      },
      "execution_count": null,
      "outputs": [
        {
          "output_type": "stream",
          "name": "stdout",
          "text": [
            "Added disputado as disputed\n",
            "Added amphobiles as amphiboles\n",
            "Added waertsilae as wartsila\n",
            "Added quantitive as quantities\n",
            "Added ac-130u as ac-130\n",
            "Added disputada as disputed\n",
            "Added alurralde as iturralde\n",
            "Added reupke as remake\n",
            "Added moleculon as molecular\n",
            "Added continuingly as continuing\n",
            "\n",
            "There are 8 OOV\n",
            "{'jalaalwalikraam', 'macmillan\\\\/mcgraw-hill', 'trockenbeerenauslesen', 'besuboru', 'monchecourt', 'crocidolite', 'phacoflex', 'intecknings'}\n"
          ]
        }
      ]
    },
    {
      "cell_type": "markdown",
      "source": [
        ""
      ],
      "metadata": {
        "id": "RxZCvEDZlLjG"
      }
    },
    {
      "cell_type": "code",
      "source": [
        "OOV_value = np.random.uniform(low=-0.05, high=0.05, size=(len(OOV), EMBEDDING_SIZE))\n",
        "embedder.add(list(OOV), OOV_value)"
      ],
      "metadata": {
        "id": "OgCb8v7RhFAi"
      },
      "execution_count": 23,
      "outputs": []
    },
    {
      "cell_type": "code",
      "source": [
        "encoder = OrdinalEncoder(dtype=np.int64)\n",
        "encoder.fit(labels.reshape(-1, 1)) "
      ],
      "metadata": {
        "id": "xgpz4U--UyfX",
        "outputId": "fd68c172-0321-4357-b264-82e097c44de5",
        "colab": {
          "base_uri": "https://localhost:8080/"
        }
      },
      "execution_count": 14,
      "outputs": [
        {
          "output_type": "execute_result",
          "data": {
            "text/plain": [
              "OrdinalEncoder(dtype=<class 'numpy.int64'>)"
            ]
          },
          "metadata": {},
          "execution_count": 14
        }
      ]
    },
    {
      "cell_type": "markdown",
      "metadata": {
        "id": "QsAgPfRqStWK"
      },
      "source": [
        "### Dataset analysis"
      ]
    },
    {
      "cell_type": "code",
      "metadata": {
        "colab": {
          "base_uri": "https://localhost:8080/"
        },
        "id": "LT0pl2UG0H0O",
        "outputId": "9caa4516-b398-4223-c0ec-4383126ebd38"
      },
      "source": [
        "print(\"The max sentence length in training set is\", max_length)\n",
        "print(f'There are {len(full_stops)} sentences in the training set')\n",
        "print(f'There are {len(labels)} labels')\n",
        "print(f'There are {len(words)} unique words, {len(OOV)} of them are OOV')\n",
        "\n",
        "number_OOV = len([1 for w in dataset['word'] if w in OOV])\n",
        "print(f'There are {len(dataset)} words, {number_OOV} of them are OOV')"
      ],
      "execution_count": null,
      "outputs": [
        {
          "output_type": "stream",
          "name": "stdout",
          "text": [
            "The max sentence length in training set is 67\n",
            "There are 2046 sentences in the training set\n",
            "There are 45 labels\n",
            "There are 10947 unique words, 209 of them are OOV\n",
            "There are 94084 words, 578 of them are OOV\n"
          ]
        }
      ]
    },
    {
      "cell_type": "markdown",
      "metadata": {
        "id": "ys_LD3OQc7Si"
      },
      "source": [
        "#### Plot dataset distribution"
      ]
    },
    {
      "cell_type": "code",
      "metadata": {
        "id": "FsUG2Cee8vMU",
        "colab": {
          "base_uri": "https://localhost:8080/",
          "height": 421
        },
        "outputId": "2dc195b7-e8af-4444-b99c-130092055cfd"
      },
      "source": [
        "train_counts = train_set.groupby(by='label').count()\n",
        "train_counts = train_counts / len(train_set) * 100\n",
        "val_counts = val_set.groupby(by='label').count()\n",
        "val_counts = val_counts / len(val_set) * 100\n",
        "val_counts = val_counts.reindex(labels, fill_value=0)\n",
        "test_counts = test_set.groupby(by='label').count()\n",
        "test_counts = test_counts / len(test_set) * 100\n",
        "test_counts = test_counts.reindex(labels, fill_value=0)\n",
        "ind = np.arange(len(labels))\n",
        "\n",
        "plt.figure(figsize=(18,6))\n",
        "width = 0.2       \n",
        "plt.bar(ind, train_counts.loc[labels, 'word'] , width, label='Train set');\n",
        "plt.bar(ind + width, val_counts.loc[labels, 'word'], width, label='Validation set');\n",
        "plt.bar(ind + 2*width, test_counts.loc[labels, 'word'], width, label='Test set');\n",
        "\n",
        "plt.xlabel('Labels');\n",
        "plt.ylabel('Count %');\n",
        "plt.title('Dataset distribution');\n",
        "\n",
        "plt.xticks(ind + width / 3, labels, rotation=45);\n",
        "plt.legend();"
      ],
      "execution_count": null,
      "outputs": [
        {
          "output_type": "display_data",
          "data": {
            "image/png": "[encoded data removed]",
            "text/plain": [
              "<Figure size 1296x432 with 1 Axes>"
            ]
          },
          "metadata": {
            "needs_background": "light"
          }
        }
      ]
    },
    {
      "cell_type": "code",
      "metadata": {
        "id": "dpuY1KPGZzKn",
        "colab": {
          "base_uri": "https://localhost:8080/",
          "height": 295
        },
        "outputId": "7175a2af-b47d-489c-b204-83e6d5bef974"
      },
      "source": [
        "counts_word = train_set.groupby('word').count().to_numpy()[:, 0]\n",
        "\n",
        "plt.plot(np.sort(counts_word)[::-1]);\n",
        "plt.yscale('log')\n",
        "\n",
        "plt.xlabel('Words');\n",
        "plt.ylabel('Count');\n",
        "plt.title('Word distribution (log scale)');"
      ],
      "execution_count": null,
      "outputs": [
        {
          "output_type": "display_data",
          "data": {
            "image/png": "[encoded data removed]",
            "text/plain": [
              "<Figure size 432x288 with 1 Axes>"
            ]
          },
          "metadata": {
            "needs_background": "light"
          }
        }
      ]
    },
    {
      "cell_type": "code",
      "metadata": {
        "id": "WvBvMKm8Da9J",
        "colab": {
          "base_uri": "https://localhost:8080/",
          "height": 336
        },
        "outputId": "3d08f263-7877-4ad0-948a-67930c5e48d8"
      },
      "source": [
        "f = plt.figure(figsize=(12, 5))\n",
        "ax1 = plt.subplot(121)\n",
        "ax2 = plt.subplot(122)\n",
        "\n",
        "ax1.hist(train_grouped.count()['word'], bins=250);\n",
        "ax1.set_title(\"Sentence length distribution\");\n",
        "\n",
        "ax2.boxplot(train_grouped.count()['word']);\n",
        "ax2.set_title(\"Boxplot for sentence length\");"
      ],
      "execution_count": null,
      "outputs": [
        {
          "output_type": "display_data",
          "data": {
            "image/png": "[encoded data removed]",
            "text/plain": [
              "<Figure size 864x360 with 2 Axes>"
            ]
          },
          "metadata": {
            "needs_background": "light"
          }
        }
      ]
    },
    {
      "cell_type": "markdown",
      "metadata": {
        "id": "Qa9eCkjMwHsO"
      },
      "source": [
        "### Create RNN, Optimizer and DataLoader classes\n"
      ]
    },
    {
      "cell_type": "code",
      "metadata": {
        "id": "4qKGsuBvwKk6"
      },
      "source": [
        "class RNN(nn.Module):\n",
        "  \"\"\"\n",
        "    architecture: str\n",
        "      'LSTM'   : the baseline architecture\n",
        "      '2-LSTM' : 2 LSTM layers\n",
        "      '2-FC'   : 2 Dense Layers\n",
        "      'GRU'    : Gated Recurrent Unit\n",
        "  \"\"\"\n",
        "  def __init__(self, architecture, input_dim, hidden_size, output_size, device):\n",
        "    super(RNN, self).__init__()\n",
        "    self.architecture = architecture\n",
        "    self.n_layers = 2 if architecture == '2-LSTM' else 1\n",
        "    self.output_size = output_size\n",
        "    self.hidden_size = hidden_size\n",
        "    self.device = device\n",
        "\n",
        "    \n",
        "    if self.architecture == 'GRU':\n",
        "      self.rnn = nn.GRU(input_dim, hidden_size, num_layers=self.n_layers, bidirectional=True)\n",
        "    else:\n",
        "      self.rnn = nn.LSTM(input_dim, hidden_size, num_layers=self.n_layers, bidirectional=True)\n",
        "\n",
        "    if self.architecture == '2-FC':\n",
        "      self.fc = nn.Sequential(\n",
        "          nn.Linear(self.hidden_size*2, self.hidden_size),\n",
        "          nn.Linear(self.hidden_size, output_size)\n",
        "      )\n",
        "    else:\n",
        "      self.fc = nn.Linear(self.hidden_size*2, output_size)\n",
        "\n",
        "\n",
        "\n",
        "  def forward(self, input):\n",
        "    input = input.permute(1, 0, 2)\n",
        "\n",
        "    #initialize hidden state and cell state\n",
        "    hidden = (torch.randn(self.n_layers*2, input.shape[1],\n",
        "                          self.hidden_size).to(self.device),\n",
        "              torch.randn(self.n_layers*2, input.shape[1],\n",
        "                          self.hidden_size).to(self.device))\n",
        "    out, hidden = self.rnn(input, hidden)\n",
        "\n",
        "    #process timesteps independently \n",
        "    logits = self.fc(out.view(-1, out.size(2)))\n",
        "    \n",
        "    output = logits.view(input.shape[0], input.shape[1], self.output_size)\n",
        "\n",
        "    return output.permute(1, 0, 2).contiguous()\n",
        "\n",
        "\n",
        "  def prediction(self, input: DataLoader):\n",
        "    \n",
        "    self.eval()\n",
        "    with torch.no_grad():\n",
        "\n",
        "      y_pred = torch.Tensor().to(self.device)\n",
        "      for data in input:  \n",
        "        words = data['words'].float().to(device)\n",
        "        lengths = data['lengths'].to(device)\n",
        "        scores = self(words)\n",
        "        classes_predicted = torch.argmax(scores, 2)\n",
        "\n",
        "        for i, length in enumerate(lengths):\n",
        "          y_pred = torch.cat((y_pred, classes_predicted[i, :length]), 0)\n",
        "    \n",
        "    self.train()\n",
        "    return y_pred\n",
        "\n",
        "\n",
        "  def accuracy(self, input: DataLoader):\n",
        "    num_correct = 0\n",
        "    num_samples = 0\n",
        "    self.eval()\n",
        "    \n",
        "    with torch.no_grad():\n",
        "        for data in input:\n",
        "            word = data['words'].float().to(device)\n",
        "            labels = data['labels'].to(device)\n",
        "            labels = labels.squeeze(-1)\n",
        "            \n",
        "            lengths = data['lengths'].to(device)\n",
        "\n",
        "            scores = self(word)\n",
        "            classes_predicted = torch.argmax(scores, 2)\n",
        "\n",
        "            for i, length in enumerate(lengths):\n",
        "              num_correct += torch.eq(classes_predicted[i, :length], labels[i, :length]).sum().item()\n",
        "\n",
        "            num_samples += lengths.sum()\n",
        "        \n",
        "    \n",
        "    return num_correct/num_samples\n",
        "\n"
      ],
      "execution_count": 10,
      "outputs": []
    },
    {
      "cell_type": "code",
      "metadata": {
        "id": "2MCssLkB8TUg"
      },
      "source": [
        "class Optimization:\n",
        "    def __init__(self, model, loss_fn, optimizer):\n",
        "        self.model = model\n",
        "        self.loss_fn = loss_fn\n",
        "        self.optimizer = optimizer\n",
        "        self.history = []\n",
        "    \n",
        "    def train_step(self, x, y):\n",
        "        self.model.train()\n",
        "        yhat = self.model(x)\n",
        "\n",
        "        yhat = yhat.reshape(-1, yhat.shape[-1])\n",
        "        y = y.flatten()\n",
        "\n",
        "        loss = self.loss_fn(yhat, y)\n",
        "        self.history.append(loss.item())\n",
        "        loss.backward()\n",
        "\n",
        "        self.optimizer.step()\n",
        "        self.optimizer.zero_grad()\n",
        "\n",
        "        return loss.item()"
      ],
      "execution_count": 11,
      "outputs": []
    },
    {
      "cell_type": "code",
      "metadata": {
        "id": "PpwRlpy68pSP"
      },
      "source": [
        "class MyDataset(Dataset):\n",
        "  '''\n",
        "  Togliere i commenti per far funzionare\n",
        "  Lasciarli per provare a risolvere \n",
        "\n",
        "  '''\n",
        "  def __init__(self, dataframe, embedder, encoder, sentence_length=None):\n",
        "    self.sentence_length = sentence_length if sentence_length else dataframe.count().max()['word']\n",
        "    self.dataframe = dataframe\n",
        "    self.embedder = embedder\n",
        "    self.encoder = encoder\n",
        "\n",
        "  def __len__(self):\n",
        "    return len(self.dataframe)\n",
        "\n",
        "  def __getitem__(self, idx):\n",
        "    sentence = self.dataframe.get_group(idx)[:self.sentence_length]\n",
        "\n",
        "    labels = np.array(sentence['label'], dtype = str).reshape(-1, 1)\n",
        "    encoded_labels = self.encoder.transform(labels)\n",
        "    encoded_words = self.embedder[sentence['word']]\n",
        "\n",
        "    pad_amount = self.sentence_length - len(sentence)\n",
        "    encoded_labels = np.pad(encoded_labels, pad_width=((0, pad_amount), (0,0)), constant_values=-1)\n",
        "    encoded_words = np.pad(encoded_words, pad_width=((0, pad_amount), (0, 0)))\n",
        "\n",
        "    return {'words': encoded_words, 'labels': encoded_labels, 'lengths': len(sentence)}"
      ],
      "execution_count": 204,
      "outputs": []
    },
    {
      "cell_type": "markdown",
      "metadata": {
        "id": "Moz4o3S4_YyY"
      },
      "source": [
        "### Training"
      ]
    },
    {
      "cell_type": "code",
      "source": [
        "from torch.nn.utils.rnn import pad_sequence"
      ],
      "metadata": {
        "id": "8OyYoC-o0vZO"
      },
      "execution_count": 115,
      "outputs": []
    },
    {
      "cell_type": "code",
      "metadata": {
        "id": "xqCmp15-_o99"
      },
      "source": [
        "dataset = MyDataset(train_grouped, embedder, encoder)"
      ],
      "execution_count": 199,
      "outputs": []
    },
    {
      "cell_type": "code",
      "source": [
        "def collate_fn_pad(batch):\n",
        "    # print(batch)\n",
        "    batch_dict = []\n",
        "    max_length = torch.max(torch.Tensor([sample['lengths'] for sample in batch ]))\n",
        "    padded_words = pad_sequence([sample['words'] for sample in batch])\n",
        "    padded_labels = pad_sequence([sample['labels'] for sample in batch])\n",
        "\n",
        "    return padded_words, padded_labels\n"
      ],
      "metadata": {
        "id": "kMAPwSCcqo97"
      },
      "execution_count": 200,
      "outputs": []
    },
    {
      "cell_type": "code",
      "metadata": {
        "id": "WL3jnJvDzHXo"
      },
      "source": [
        "dataloader = DataLoader(dataset, batch_size=4, shuffle=True)#, collate_fn=collate_fn_pad)\n",
        "model = RNN('LSTM', EMBEDDING_SIZE, 512, len(labels), device)\n",
        "model.to(device)\n",
        "\n",
        "loss = nn.CrossEntropyLoss(ignore_index=-1)\n",
        "optimizer = optim.Adam(model.parameters())\n",
        "\n",
        "optimization = Optimization(model, loss, optimizer)"
      ],
      "execution_count": 201,
      "outputs": []
    },
    {
      "cell_type": "code",
      "source": [
        "validation = MyDataset(val_grouped, embedder, encoder)\n",
        "val_loader = DataLoader(validation, batch_size=len(validation), num_workers=1)"
      ],
      "metadata": {
        "id": "Dq0svfEmCeUo"
      },
      "execution_count": 194,
      "outputs": []
    },
    {
      "cell_type": "code",
      "source": [
        "%load_ext tensorboard\n",
        "%tensorboard --logdir=\"logs\""
      ],
      "metadata": {
        "id": "Li_cU3KAIaDg"
      },
      "execution_count": null,
      "outputs": []
    },
    {
      "cell_type": "code",
      "source": [
        "PATH = 'model.pkl'\n",
        "training_loop(model, dataloader, val_loader, 2, optimization, PATH, False)#, writer)"
      ],
      "metadata": {
        "id": "8GlzP-9FPjGL",
        "outputId": "d2f1e000-5268-4d66-d48a-6d50bc46b3ea",
        "colab": {
          "base_uri": "https://localhost:8080/",
          "height": 1000
        }
      },
      "execution_count": 202,
      "outputs": [
        {
          "output_type": "stream",
          "name": "stdout",
          "text": [
            "Epoch 1\n"
          ]
        },
        {
          "output_type": "stream",
          "name": "stderr",
          "text": [
            "  0%|          | 2/512 [00:00<00:32, 15.85it/s]"
          ]
        },
        {
          "output_type": "stream",
          "name": "stdout",
          "text": [
            "torch.Size([4, 67, 50])\n",
            "torch.Size([4, 67, 1])\n",
            "torch.Size([4, 67, 50])\n",
            "torch.Size([4, 67, 1])\n",
            "torch.Size([4, 67, 50])\n",
            "torch.Size([4, 67, 1])\n",
            "torch.Size([4, 67, 50])\n",
            "torch.Size([4, 67, 1])\n"
          ]
        },
        {
          "output_type": "stream",
          "name": "stderr",
          "text": [
            "  1%|          | 6/512 [00:00<00:27, 18.33it/s]"
          ]
        },
        {
          "output_type": "stream",
          "name": "stdout",
          "text": [
            "torch.Size([4, 67, 50])\n",
            "torch.Size([4, 67, 1])\n",
            "torch.Size([4, 67, 50])\n",
            "torch.Size([4, 67, 1])\n",
            "torch.Size([4, 67, 50])\n",
            "torch.Size([4, 67, 1])\n",
            "torch.Size([4, 67, 50])\n",
            "torch.Size([4, 67, 1])\n",
            "torch.Size([4, 67, 50])\n",
            "torch.Size([4, 67, 1])\n"
          ]
        },
        {
          "output_type": "stream",
          "name": "stderr",
          "text": [
            "  2%|▏         | 12/512 [00:00<00:23, 21.48it/s]"
          ]
        },
        {
          "output_type": "stream",
          "name": "stdout",
          "text": [
            "torch.Size([4, 67, 50])\n",
            "torch.Size([4, 67, 1])\n",
            "torch.Size([4, 67, 50])\n",
            "torch.Size([4, 67, 1])\n",
            "torch.Size([4, 67, 50])\n",
            "torch.Size([4, 67, 1])\n",
            "torch.Size([4, 67, 50])\n",
            "torch.Size([4, 67, 1])\n",
            "torch.Size([4, 67, 50])\n",
            "torch.Size([4, 67, 1])\n"
          ]
        },
        {
          "output_type": "stream",
          "name": "stderr",
          "text": [
            "  4%|▎         | 18/512 [00:00<00:21, 23.47it/s]"
          ]
        },
        {
          "output_type": "stream",
          "name": "stdout",
          "text": [
            "torch.Size([4, 67, 50])\n",
            "torch.Size([4, 67, 1])\n",
            "torch.Size([4, 67, 50])\n",
            "torch.Size([4, 67, 1])\n",
            "torch.Size([4, 67, 50])\n",
            "torch.Size([4, 67, 1])\n",
            "torch.Size([4, 67, 50])\n",
            "torch.Size([4, 67, 1])\n",
            "torch.Size([4, 67, 50])\n",
            "torch.Size([4, 67, 1])\n",
            "torch.Size([4, 67, 50])\n",
            "torch.Size([4, 67, 1])\n"
          ]
        },
        {
          "output_type": "stream",
          "name": "stderr",
          "text": [
            "  5%|▍         | 24/512 [00:01<00:20, 24.22it/s]"
          ]
        },
        {
          "output_type": "stream",
          "name": "stdout",
          "text": [
            "torch.Size([4, 67, 50])\n",
            "torch.Size([4, 67, 1])\n",
            "torch.Size([4, 67, 50])\n",
            "torch.Size([4, 67, 1])\n",
            "torch.Size([4, 67, 50])\n",
            "torch.Size([4, 67, 1])\n",
            "torch.Size([4, 67, 50])\n",
            "torch.Size([4, 67, 1])\n",
            "torch.Size([4, 67, 50])\n",
            "torch.Size([4, 67, 1])\n"
          ]
        },
        {
          "output_type": "stream",
          "name": "stderr",
          "text": [
            "  6%|▌         | 30/512 [00:01<00:19, 24.77it/s]"
          ]
        },
        {
          "output_type": "stream",
          "name": "stdout",
          "text": [
            "torch.Size([4, 67, 50])\n",
            "torch.Size([4, 67, 1])\n",
            "torch.Size([4, 67, 50])\n",
            "torch.Size([4, 67, 1])\n",
            "torch.Size([4, 67, 50])\n",
            "torch.Size([4, 67, 1])\n",
            "torch.Size([4, 67, 50])\n",
            "torch.Size([4, 67, 1])\n",
            "torch.Size([4, 67, 50])\n",
            "torch.Size([4, 67, 1])\n",
            "torch.Size([4, 67, 50])\n",
            "torch.Size([4, 67, 1])\n"
          ]
        },
        {
          "output_type": "stream",
          "name": "stderr",
          "text": [
            "  7%|▋         | 36/512 [00:01<00:18, 25.39it/s]"
          ]
        },
        {
          "output_type": "stream",
          "name": "stdout",
          "text": [
            "torch.Size([4, 67, 50])\n",
            "torch.Size([4, 67, 1])\n",
            "torch.Size([4, 67, 50])\n",
            "torch.Size([4, 67, 1])\n",
            "torch.Size([4, 67, 50])\n",
            "torch.Size([4, 67, 1])\n",
            "torch.Size([4, 67, 50])\n",
            "torch.Size([4, 67, 1])\n",
            "torch.Size([4, 67, 50])\n",
            "torch.Size([4, 67, 1])\n",
            "torch.Size([4, 67, 50])\n",
            "torch.Size([4, 67, 1])\n"
          ]
        },
        {
          "output_type": "stream",
          "name": "stderr",
          "text": [
            "  8%|▊         | 42/512 [00:01<00:18, 25.43it/s]"
          ]
        },
        {
          "output_type": "stream",
          "name": "stdout",
          "text": [
            "torch.Size([4, 67, 50])\n",
            "torch.Size([4, 67, 1])\n",
            "torch.Size([4, 67, 50])\n",
            "torch.Size([4, 67, 1])\n",
            "torch.Size([4, 67, 50])\n",
            "torch.Size([4, 67, 1])\n",
            "torch.Size([4, 67, 50])\n",
            "torch.Size([4, 67, 1])\n",
            "torch.Size([4, 67, 50])\n",
            "torch.Size([4, 67, 1])\n",
            "torch.Size([4, 67, 50])\n",
            "torch.Size([4, 67, 1])\n"
          ]
        },
        {
          "output_type": "stream",
          "name": "stderr",
          "text": [
            "  9%|▉         | 48/512 [00:02<00:18, 25.56it/s]"
          ]
        },
        {
          "output_type": "stream",
          "name": "stdout",
          "text": [
            "torch.Size([4, 67, 50])\n",
            "torch.Size([4, 67, 1])\n",
            "torch.Size([4, 67, 50])\n",
            "torch.Size([4, 67, 1])\n",
            "torch.Size([4, 67, 50])\n",
            "torch.Size([4, 67, 1])\n",
            "torch.Size([4, 67, 50])\n",
            "torch.Size([4, 67, 1])\n",
            "torch.Size([4, 67, 50])\n",
            "torch.Size([4, 67, 1])\n",
            "torch.Size([4, 67, 50])\n",
            "torch.Size([4, 67, 1])\n"
          ]
        },
        {
          "output_type": "stream",
          "name": "stderr",
          "text": [
            " 11%|█         | 54/512 [00:02<00:17, 25.65it/s]"
          ]
        },
        {
          "output_type": "stream",
          "name": "stdout",
          "text": [
            "torch.Size([4, 67, 50])\n",
            "torch.Size([4, 67, 1])\n",
            "torch.Size([4, 67, 50])\n",
            "torch.Size([4, 67, 1])\n",
            "torch.Size([4, 67, 50])\n",
            "torch.Size([4, 67, 1])\n",
            "torch.Size([4, 67, 50])\n",
            "torch.Size([4, 67, 1])\n",
            "torch.Size([4, 67, 50])\n",
            "torch.Size([4, 67, 1])\n",
            "torch.Size([4, 67, 50])\n",
            "torch.Size([4, 67, 1])\n"
          ]
        },
        {
          "output_type": "stream",
          "name": "stderr",
          "text": [
            " 12%|█▏        | 60/512 [00:02<00:17, 25.44it/s]"
          ]
        },
        {
          "output_type": "stream",
          "name": "stdout",
          "text": [
            "torch.Size([4, 67, 50])\n",
            "torch.Size([4, 67, 1])\n",
            "torch.Size([4, 67, 50])\n",
            "torch.Size([4, 67, 1])\n",
            "torch.Size([4, 67, 50])\n",
            "torch.Size([4, 67, 1])\n",
            "torch.Size([4, 67, 50])\n",
            "torch.Size([4, 67, 1])\n",
            "torch.Size([4, 67, 50])\n",
            "torch.Size([4, 67, 1])\n",
            "torch.Size([4, 67, 50])\n",
            "torch.Size([4, 67, 1])\n"
          ]
        },
        {
          "output_type": "stream",
          "name": "stderr",
          "text": [
            " 13%|█▎        | 66/512 [00:02<00:17, 25.04it/s]"
          ]
        },
        {
          "output_type": "stream",
          "name": "stdout",
          "text": [
            "torch.Size([4, 67, 50])\n",
            "torch.Size([4, 67, 1])\n",
            "torch.Size([4, 67, 50])\n",
            "torch.Size([4, 67, 1])\n",
            "torch.Size([4, 67, 50])\n",
            "torch.Size([4, 67, 1])\n",
            "torch.Size([4, 67, 50])\n",
            "torch.Size([4, 67, 1])\n",
            "torch.Size([4, 67, 50])\n",
            "torch.Size([4, 67, 1])\n"
          ]
        },
        {
          "output_type": "stream",
          "name": "stderr",
          "text": [
            "\r 13%|█▎        | 69/512 [00:02<00:17, 25.03it/s]"
          ]
        },
        {
          "output_type": "stream",
          "name": "stdout",
          "text": [
            "torch.Size([4, 67, 50])\n",
            "torch.Size([4, 67, 1])\n",
            "torch.Size([4, 67, 50])\n",
            "torch.Size([4, 67, 1])\n",
            "torch.Size([4, 67, 50])\n",
            "torch.Size([4, 67, 1])\n",
            "torch.Size([4, 67, 50])\n",
            "torch.Size([4, 67, 1])\n",
            "torch.Size([4, 67, 50])\n",
            "torch.Size([4, 67, 1])\n",
            "torch.Size([4, 67, 50])\n",
            "torch.Size([4, 67, 1])\n"
          ]
        },
        {
          "output_type": "stream",
          "name": "stderr",
          "text": [
            " 15%|█▍        | 75/512 [00:03<00:17, 25.38it/s]"
          ]
        },
        {
          "output_type": "stream",
          "name": "stdout",
          "text": [
            "torch.Size([4, 67, 50])\n",
            "torch.Size([4, 67, 1])\n",
            "torch.Size([4, 67, 50])\n",
            "torch.Size([4, 67, 1])\n",
            "torch.Size([4, 67, 50])\n",
            "torch.Size([4, 67, 1])\n",
            "torch.Size([4, 67, 50])\n",
            "torch.Size([4, 67, 1])\n",
            "torch.Size([4, 67, 50])\n",
            "torch.Size([4, 67, 1])\n",
            "torch.Size([4, 67, 50])\n",
            "torch.Size([4, 67, 1])\n"
          ]
        },
        {
          "output_type": "stream",
          "name": "stderr",
          "text": [
            " 16%|█▌        | 81/512 [00:03<00:16, 25.39it/s]"
          ]
        },
        {
          "output_type": "stream",
          "name": "stdout",
          "text": [
            "torch.Size([4, 67, 50])\n",
            "torch.Size([4, 67, 1])\n",
            "torch.Size([4, 67, 50])\n",
            "torch.Size([4, 67, 1])\n",
            "torch.Size([4, 67, 50])\n",
            "torch.Size([4, 67, 1])\n",
            "torch.Size([4, 67, 50])\n",
            "torch.Size([4, 67, 1])\n",
            "torch.Size([4, 67, 50])\n",
            "torch.Size([4, 67, 1])\n"
          ]
        },
        {
          "output_type": "stream",
          "name": "stderr",
          "text": [
            " 17%|█▋        | 87/512 [00:03<00:16, 25.24it/s]"
          ]
        },
        {
          "output_type": "stream",
          "name": "stdout",
          "text": [
            "torch.Size([4, 67, 50])\n",
            "torch.Size([4, 67, 1])\n",
            "torch.Size([4, 67, 50])\n",
            "torch.Size([4, 67, 1])\n",
            "torch.Size([4, 67, 50])\n",
            "torch.Size([4, 67, 1])\n",
            "torch.Size([4, 67, 50])\n",
            "torch.Size([4, 67, 1])\n",
            "torch.Size([4, 67, 50])\n",
            "torch.Size([4, 67, 1])\n",
            "torch.Size([4, 67, 50])\n",
            "torch.Size([4, 67, 1])\n"
          ]
        },
        {
          "output_type": "stream",
          "name": "stderr",
          "text": [
            " 18%|█▊        | 93/512 [00:03<00:16, 25.14it/s]"
          ]
        },
        {
          "output_type": "stream",
          "name": "stdout",
          "text": [
            "torch.Size([4, 67, 50])\n",
            "torch.Size([4, 67, 1])\n",
            "torch.Size([4, 67, 50])\n",
            "torch.Size([4, 67, 1])\n",
            "torch.Size([4, 67, 50])\n",
            "torch.Size([4, 67, 1])\n",
            "torch.Size([4, 67, 50])\n",
            "torch.Size([4, 67, 1])\n",
            "torch.Size([4, 67, 50])\n",
            "torch.Size([4, 67, 1])\n"
          ]
        },
        {
          "output_type": "stream",
          "name": "stderr",
          "text": [
            " 19%|█▉        | 97/512 [00:03<00:17, 24.39it/s]\n"
          ]
        },
        {
          "output_type": "stream",
          "name": "stdout",
          "text": [
            "torch.Size([4, 67, 50])\n",
            "torch.Size([4, 67, 1])\n",
            "torch.Size([4, 67, 50])\n",
            "torch.Size([4, 67, 1])\n",
            "torch.Size([4, 67, 50])\n",
            "torch.Size([4, 67, 1])\n",
            "torch.Size([4, 67, 50])\n",
            "torch.Size([4, 67, 1])\n"
          ]
        },
        {
          "output_type": "error",
          "ename": "KeyboardInterrupt",
          "evalue": "ignored",
          "traceback": [
            "\u001b[0;31m---------------------------------------------------------------------------\u001b[0m",
            "\u001b[0;31mKeyboardInterrupt\u001b[0m                         Traceback (most recent call last)",
            "\u001b[0;32m<ipython-input-202-98909eaf1105>\u001b[0m in \u001b[0;36m<module>\u001b[0;34m()\u001b[0m\n\u001b[1;32m      1\u001b[0m \u001b[0mPATH\u001b[0m \u001b[0;34m=\u001b[0m \u001b[0;34m'model.pkl'\u001b[0m\u001b[0;34m\u001b[0m\u001b[0;34m\u001b[0m\u001b[0m\n\u001b[0;32m----> 2\u001b[0;31m \u001b[0mtraining_loop\u001b[0m\u001b[0;34m(\u001b[0m\u001b[0mmodel\u001b[0m\u001b[0;34m,\u001b[0m \u001b[0mdataloader\u001b[0m\u001b[0;34m,\u001b[0m \u001b[0mval_loader\u001b[0m\u001b[0;34m,\u001b[0m \u001b[0;36m2\u001b[0m\u001b[0;34m,\u001b[0m \u001b[0moptimization\u001b[0m\u001b[0;34m,\u001b[0m \u001b[0mPATH\u001b[0m\u001b[0;34m,\u001b[0m \u001b[0;32mFalse\u001b[0m\u001b[0;34m)\u001b[0m\u001b[0;31m#, writer)\u001b[0m\u001b[0;34m\u001b[0m\u001b[0;34m\u001b[0m\u001b[0m\n\u001b[0m",
            "\u001b[0;32m<ipython-input-196-7de699300593>\u001b[0m in \u001b[0;36mtraining_loop\u001b[0;34m(model, train_set, val_set, n_epochs, optimization, save_path, load_model, load_path, writer)\u001b[0m\n\u001b[1;32m     29\u001b[0m       \u001b[0;31m#w.to(device)\u001b[0m\u001b[0;34m\u001b[0m\u001b[0;34m\u001b[0m\u001b[0;34m\u001b[0m\u001b[0m\n\u001b[1;32m     30\u001b[0m       \u001b[0;31m#l.to(device)\u001b[0m\u001b[0;34m\u001b[0m\u001b[0;34m\u001b[0m\u001b[0;34m\u001b[0m\u001b[0m\n\u001b[0;32m---> 31\u001b[0;31m       \u001b[0moptimization\u001b[0m\u001b[0;34m.\u001b[0m\u001b[0mtrain_step\u001b[0m\u001b[0;34m(\u001b[0m\u001b[0mw\u001b[0m\u001b[0;34m,\u001b[0m \u001b[0ml\u001b[0m\u001b[0;34m)\u001b[0m\u001b[0;34m\u001b[0m\u001b[0;34m\u001b[0m\u001b[0m\n\u001b[0m\u001b[1;32m     32\u001b[0m \u001b[0;34m\u001b[0m\u001b[0m\n\u001b[1;32m     33\u001b[0m     \u001b[0mprint\u001b[0m\u001b[0;34m(\u001b[0m\u001b[0;34mf'loss:{optimization.history[epoch] : .3f}'\u001b[0m\u001b[0;34m)\u001b[0m\u001b[0;34m\u001b[0m\u001b[0;34m\u001b[0m\u001b[0m\n",
            "\u001b[0;32m<ipython-input-11-3e2609bd81f5>\u001b[0m in \u001b[0;36mtrain_step\u001b[0;34m(self, x, y)\u001b[0m\n\u001b[1;32m      8\u001b[0m     \u001b[0;32mdef\u001b[0m \u001b[0mtrain_step\u001b[0m\u001b[0;34m(\u001b[0m\u001b[0mself\u001b[0m\u001b[0;34m,\u001b[0m \u001b[0mx\u001b[0m\u001b[0;34m,\u001b[0m \u001b[0my\u001b[0m\u001b[0;34m)\u001b[0m\u001b[0;34m:\u001b[0m\u001b[0;34m\u001b[0m\u001b[0;34m\u001b[0m\u001b[0m\n\u001b[1;32m      9\u001b[0m         \u001b[0mself\u001b[0m\u001b[0;34m.\u001b[0m\u001b[0mmodel\u001b[0m\u001b[0;34m.\u001b[0m\u001b[0mtrain\u001b[0m\u001b[0;34m(\u001b[0m\u001b[0;34m)\u001b[0m\u001b[0;34m\u001b[0m\u001b[0;34m\u001b[0m\u001b[0m\n\u001b[0;32m---> 10\u001b[0;31m         \u001b[0myhat\u001b[0m \u001b[0;34m=\u001b[0m \u001b[0mself\u001b[0m\u001b[0;34m.\u001b[0m\u001b[0mmodel\u001b[0m\u001b[0;34m(\u001b[0m\u001b[0mx\u001b[0m\u001b[0;34m)\u001b[0m\u001b[0;34m\u001b[0m\u001b[0;34m\u001b[0m\u001b[0m\n\u001b[0m\u001b[1;32m     11\u001b[0m \u001b[0;34m\u001b[0m\u001b[0m\n\u001b[1;32m     12\u001b[0m         \u001b[0myhat\u001b[0m \u001b[0;34m=\u001b[0m \u001b[0myhat\u001b[0m\u001b[0;34m.\u001b[0m\u001b[0mreshape\u001b[0m\u001b[0;34m(\u001b[0m\u001b[0;34m-\u001b[0m\u001b[0;36m1\u001b[0m\u001b[0;34m,\u001b[0m \u001b[0myhat\u001b[0m\u001b[0;34m.\u001b[0m\u001b[0mshape\u001b[0m\u001b[0;34m[\u001b[0m\u001b[0;34m-\u001b[0m\u001b[0;36m1\u001b[0m\u001b[0;34m]\u001b[0m\u001b[0;34m)\u001b[0m\u001b[0;34m\u001b[0m\u001b[0;34m\u001b[0m\u001b[0m\n",
            "\u001b[0;32m/usr/local/lib/python3.7/dist-packages/torch/nn/modules/module.py\u001b[0m in \u001b[0;36m_call_impl\u001b[0;34m(self, *input, **kwargs)\u001b[0m\n\u001b[1;32m   1100\u001b[0m         if not (self._backward_hooks or self._forward_hooks or self._forward_pre_hooks or _global_backward_hooks\n\u001b[1;32m   1101\u001b[0m                 or _global_forward_hooks or _global_forward_pre_hooks):\n\u001b[0;32m-> 1102\u001b[0;31m             \u001b[0;32mreturn\u001b[0m \u001b[0mforward_call\u001b[0m\u001b[0;34m(\u001b[0m\u001b[0;34m*\u001b[0m\u001b[0minput\u001b[0m\u001b[0;34m,\u001b[0m \u001b[0;34m**\u001b[0m\u001b[0mkwargs\u001b[0m\u001b[0;34m)\u001b[0m\u001b[0;34m\u001b[0m\u001b[0;34m\u001b[0m\u001b[0m\n\u001b[0m\u001b[1;32m   1103\u001b[0m         \u001b[0;31m# Do not call functions when jit is used\u001b[0m\u001b[0;34m\u001b[0m\u001b[0;34m\u001b[0m\u001b[0;34m\u001b[0m\u001b[0m\n\u001b[1;32m   1104\u001b[0m         \u001b[0mfull_backward_hooks\u001b[0m\u001b[0;34m,\u001b[0m \u001b[0mnon_full_backward_hooks\u001b[0m \u001b[0;34m=\u001b[0m \u001b[0;34m[\u001b[0m\u001b[0;34m]\u001b[0m\u001b[0;34m,\u001b[0m \u001b[0;34m[\u001b[0m\u001b[0;34m]\u001b[0m\u001b[0;34m\u001b[0m\u001b[0;34m\u001b[0m\u001b[0m\n",
            "\u001b[0;32m<ipython-input-10-a50ade8a3d72>\u001b[0m in \u001b[0;36mforward\u001b[0;34m(self, input)\u001b[0m\n\u001b[1;32m     39\u001b[0m               torch.randn(self.n_layers*2, input.shape[1],\n\u001b[1;32m     40\u001b[0m                           self.hidden_size).to(self.device))\n\u001b[0;32m---> 41\u001b[0;31m     \u001b[0mout\u001b[0m\u001b[0;34m,\u001b[0m \u001b[0mhidden\u001b[0m \u001b[0;34m=\u001b[0m \u001b[0mself\u001b[0m\u001b[0;34m.\u001b[0m\u001b[0mrnn\u001b[0m\u001b[0;34m(\u001b[0m\u001b[0minput\u001b[0m\u001b[0;34m,\u001b[0m \u001b[0mhidden\u001b[0m\u001b[0;34m)\u001b[0m\u001b[0;34m\u001b[0m\u001b[0;34m\u001b[0m\u001b[0m\n\u001b[0m\u001b[1;32m     42\u001b[0m \u001b[0;34m\u001b[0m\u001b[0m\n\u001b[1;32m     43\u001b[0m     \u001b[0;31m#process timesteps independently\u001b[0m\u001b[0;34m\u001b[0m\u001b[0;34m\u001b[0m\u001b[0;34m\u001b[0m\u001b[0m\n",
            "\u001b[0;32m/usr/local/lib/python3.7/dist-packages/torch/nn/modules/module.py\u001b[0m in \u001b[0;36m_call_impl\u001b[0;34m(self, *input, **kwargs)\u001b[0m\n\u001b[1;32m   1100\u001b[0m         if not (self._backward_hooks or self._forward_hooks or self._forward_pre_hooks or _global_backward_hooks\n\u001b[1;32m   1101\u001b[0m                 or _global_forward_hooks or _global_forward_pre_hooks):\n\u001b[0;32m-> 1102\u001b[0;31m             \u001b[0;32mreturn\u001b[0m \u001b[0mforward_call\u001b[0m\u001b[0;34m(\u001b[0m\u001b[0;34m*\u001b[0m\u001b[0minput\u001b[0m\u001b[0;34m,\u001b[0m \u001b[0;34m**\u001b[0m\u001b[0mkwargs\u001b[0m\u001b[0;34m)\u001b[0m\u001b[0;34m\u001b[0m\u001b[0;34m\u001b[0m\u001b[0m\n\u001b[0m\u001b[1;32m   1103\u001b[0m         \u001b[0;31m# Do not call functions when jit is used\u001b[0m\u001b[0;34m\u001b[0m\u001b[0;34m\u001b[0m\u001b[0;34m\u001b[0m\u001b[0m\n\u001b[1;32m   1104\u001b[0m         \u001b[0mfull_backward_hooks\u001b[0m\u001b[0;34m,\u001b[0m \u001b[0mnon_full_backward_hooks\u001b[0m \u001b[0;34m=\u001b[0m \u001b[0;34m[\u001b[0m\u001b[0;34m]\u001b[0m\u001b[0;34m,\u001b[0m \u001b[0;34m[\u001b[0m\u001b[0;34m]\u001b[0m\u001b[0;34m\u001b[0m\u001b[0;34m\u001b[0m\u001b[0m\n",
            "\u001b[0;32m/usr/local/lib/python3.7/dist-packages/torch/nn/modules/rnn.py\u001b[0m in \u001b[0;36mforward\u001b[0;34m(self, input, hx)\u001b[0m\n\u001b[1;32m    690\u001b[0m         \u001b[0;32mif\u001b[0m \u001b[0mbatch_sizes\u001b[0m \u001b[0;32mis\u001b[0m \u001b[0;32mNone\u001b[0m\u001b[0;34m:\u001b[0m\u001b[0;34m\u001b[0m\u001b[0;34m\u001b[0m\u001b[0m\n\u001b[1;32m    691\u001b[0m             result = _VF.lstm(input, hx, self._flat_weights, self.bias, self.num_layers,\n\u001b[0;32m--> 692\u001b[0;31m                               self.dropout, self.training, self.bidirectional, self.batch_first)\n\u001b[0m\u001b[1;32m    693\u001b[0m         \u001b[0;32melse\u001b[0m\u001b[0;34m:\u001b[0m\u001b[0;34m\u001b[0m\u001b[0;34m\u001b[0m\u001b[0m\n\u001b[1;32m    694\u001b[0m             result = _VF.lstm(input, batch_sizes, hx, self._flat_weights, self.bias,\n",
            "\u001b[0;31mKeyboardInterrupt\u001b[0m: "
          ]
        }
      ]
    },
    {
      "cell_type": "code",
      "source": [
        "def training_loop(model: nn.Module, \n",
        "                  train_set: torch.utils.data.DataLoader,\n",
        "                  val_set: torch.utils.data.DataLoader,\n",
        "                  n_epochs: int,\n",
        "                  optimization: Optimization,\n",
        "                  save_path: str,\n",
        "                  load_model: bool,\n",
        "                  load_path: Optional[str] = None,\n",
        "                  writer: Optional[SummaryWriter] = None):\n",
        "  \n",
        "  if load_model:\n",
        "    model.load_state_dict(torch.loda(load_path))\n",
        "\n",
        "  model.to(device)\n",
        "  train_acc = np.zeros(n_epochs)\n",
        "  val_acc = np.zeros(n_epochs)\n",
        "  best_acc = 0\n",
        "\n",
        "  for epoch in range(n_epochs):\n",
        "    print(f'Epoch {epoch+1}')\n",
        "\n",
        "    for data in tqdm(dataloader):\n",
        "      w = data['words'].float().to(device)\n",
        "      l = data['labels'].to(device)\n",
        "      #w, l = data\n",
        "      #print(w, l)\n",
        "      #w.to(device)\n",
        "      #l.to(device)\n",
        "      optimization.train_step(w, l)\n",
        "      \n",
        "    print(f'loss:{optimization.history[epoch] : .3f}')\n",
        "    train_acc[epoch] = model.accuracy(dataloader)\n",
        "    print(f'train acc:{train_acc[epoch]}')\n",
        "    val_acc[epoch] = model.accuracy(val_loader)\n",
        "    print(f'val acc:{val_acc[epoch]}')\n",
        "\n",
        "    #writer.add_scalars('Loss', {\"Train\": optimization.history[epoch]}, epoch)\n",
        "    #writer.add_scalars('Train Acc', {\"Train\": val_acc[epoch]}, epoch)\n",
        "    #writer.add_scalars('Val Acc', {\"Train\": val_acc[epoch]}, epoch)\n",
        "    #writer.flush()\n",
        "\n",
        "    if val_acc[epoch] > best_acc:\n",
        "      torch.save(model.state_dict(), save_path)\n",
        "      best_acc = val_acc[epoch]\n",
        "      print(f'Model saved at {save_path}')\n",
        "      \n",
        "  #writer.close()\n",
        "  print(f'\\n Best model at epoch {np.argmax(val_acc) + 1}')"
      ],
      "metadata": {
        "id": "2vQvpGglNAYf"
      },
      "execution_count": 203,
      "outputs": []
    },
    {
      "cell_type": "code",
      "source": [
        "def tuning_loop(  model: nn.Module,\n",
        "                  train_loader: torch.utils.data.DataLoader,\n",
        "                  val_loader: torch.utils.data.DataLoader,\n",
        "                  n_epochs: int,\n",
        "                  save_path: str,\n",
        "                  search: dict, \n",
        "                  load_path: Optional[str] = None):\n",
        "                  #writer: Optional[SummaryWriter] = None):\n",
        "\n",
        "  best_model_acc = 0\n",
        "  combination = 3\n",
        "  for n in range(combination):\n",
        "    print('='*15)\n",
        "    print('New setting')\n",
        "\n",
        "    lr = np.random.choice(search['lr'])\n",
        "    print('lr :', lr)\n",
        "    b1 = np.random.choice(search['beta1'])\n",
        "    print('beta1 :', b1)\n",
        "    b2 = np.random.choice(search['beta2'])\n",
        "    print('beta2 :', b2)\n",
        "    eps = np.random.choice(search['eps'])\n",
        "    print('eps :', eps)\n",
        "    weight_decay = np.random.choice(search['weight_decay'])\n",
        "    print('weight_decay :', weight_decay)\n",
        "\n",
        "    optimizer = optim.Adam(model.parameters(), lr=lr, betas=(b1, b2), eps=eps, weight_decay=weight_decay)\n",
        "    optimization = Optimization(model, loss, optimizer)\n",
        "\n",
        "\n",
        "    #if load_path:\n",
        "    #    model.load_state_dict(torch.load(load_path))\n",
        "\n",
        "    train_acc = np.zeros(n_epochs)\n",
        "    val_acc = np.zeros(n_epochs)\n",
        "    best_acc = 0\n",
        "    model.to(device)\n",
        "\n",
        "    for epoch in range(n_epochs):\n",
        "\n",
        "        print(f'Epoch {epoch+1}')\n",
        "\n",
        "        for data in tqdm(train_loader):\n",
        "            w = data['words'].float().to(device)\n",
        "            l = data['labels'].to(device)\n",
        "            optimization.train_step(w, l)\n",
        "\n",
        "        print(f'loss:{optimization.history[epoch] : .3f}')\n",
        "        train_acc[epoch] = model.accuracy(train_loader)\n",
        "        print(f'train acc:{train_acc[epoch]}')\n",
        "        val_acc[epoch] = model.accuracy(val_loader)\n",
        "        print(f'val acc:{val_acc[epoch]}')\n",
        "\n",
        "        #if writer:\n",
        "        #    writer.add_scalars('Loss', {\"Train\": optimization.history[epoch]}, epoch)\n",
        "        #    writer.add_scalars('Train Acc', {\"Train\": val_acc[epoch]}, epoch)\n",
        "        #    writer.add_scalars('Val Acc', {\"Train\": val_acc[epoch]}, epoch)\n",
        "        #    writer.flush()\n",
        "\n",
        "        if val_acc[epoch] > best_model_acc:\n",
        "            torch.save(model.state_dict(), save_path)\n",
        "            best_acc = val_acc[epoch]\n",
        "            print(f'Model saved at {save_path}')\n",
        "            config = {'lr': lr,\n",
        "                      'beta1': b1,\n",
        "                      'beta2': b2, \n",
        "                      'eps': eps,\n",
        "                      'weight_decay': weight_decay}\n",
        "\n",
        "    #if writer:\n",
        "    #    writer.close()\n",
        "  print(f'\\n Best model config : {config}')"
      ],
      "metadata": {
        "id": "Ydu2_VLkB84u"
      },
      "execution_count": null,
      "outputs": []
    },
    {
      "cell_type": "code",
      "source": [
        "search = {'lr': [0.001, 0.01, 0.1],\n",
        "          'b1': [0.8, 0.9, 0.99],\n",
        "          'b2': [0.9, 0.95, 0.99],\n",
        "          'eps': [1e-7, 1e-8, 1e-9],\n",
        "          'weight_decay': [0, 0.05, 0.1]}\n"
      ],
      "metadata": {
        "id": "Rt_I9itTPbHQ"
      },
      "execution_count": null,
      "outputs": []
    },
    {
      "cell_type": "code",
      "source": [
        "tuning_loop(model, dataloader, val_loader, 2, PATH, search)"
      ],
      "metadata": {
        "id": "dX2aqrjvDUJo",
        "outputId": "01a83fe9-5dfc-4e32-aed4-719e374a5097",
        "colab": {
          "base_uri": "https://localhost:8080/",
          "height": 484
        }
      },
      "execution_count": null,
      "outputs": [
        {
          "output_type": "stream",
          "name": "stdout",
          "text": [
            "===============\n",
            "New setting\n",
            "lr : 0.0285462223235679\n",
            "beta1 : 0.9365026267096401\n",
            "beta2 : 0.9841779740098606\n",
            "eps : 4.101763776438515e-09\n",
            "weight_decay : 0.014872350786418366\n",
            "Epoch 1\n"
          ]
        },
        {
          "output_type": "stream",
          "name": "stderr",
          "text": [
            "100%|██████████| 512/512 [00:26<00:00, 19.61it/s]\n"
          ]
        },
        {
          "output_type": "stream",
          "name": "stdout",
          "text": [
            "loss: 8.176\n"
          ]
        },
        {
          "output_type": "error",
          "ename": "KeyboardInterrupt",
          "evalue": "ignored",
          "traceback": [
            "\u001b[0;31m---------------------------------------------------------------------------\u001b[0m",
            "\u001b[0;31mKeyboardInterrupt\u001b[0m                         Traceback (most recent call last)",
            "\u001b[0;32m<ipython-input-37-eae07698aeed>\u001b[0m in \u001b[0;36m<module>\u001b[0;34m()\u001b[0m\n\u001b[0;32m----> 1\u001b[0;31m \u001b[0mtuning_loop\u001b[0m\u001b[0;34m(\u001b[0m\u001b[0mmodel\u001b[0m\u001b[0;34m,\u001b[0m \u001b[0mdataloader\u001b[0m\u001b[0;34m,\u001b[0m \u001b[0mval_loader\u001b[0m\u001b[0;34m,\u001b[0m \u001b[0;36m2\u001b[0m\u001b[0;34m,\u001b[0m \u001b[0mPATH\u001b[0m\u001b[0;34m,\u001b[0m \u001b[0msearch\u001b[0m\u001b[0;34m)\u001b[0m\u001b[0;34m\u001b[0m\u001b[0;34m\u001b[0m\u001b[0m\n\u001b[0m",
            "\u001b[0;32m<ipython-input-36-b4a110997b3c>\u001b[0m in \u001b[0;36mtuning_loop\u001b[0;34m(model, train_loader, val_loader, n_epochs, save_path, search, load_path)\u001b[0m\n\u001b[1;32m     47\u001b[0m \u001b[0;34m\u001b[0m\u001b[0m\n\u001b[1;32m     48\u001b[0m         \u001b[0mprint\u001b[0m\u001b[0;34m(\u001b[0m\u001b[0;34mf'loss:{optimization.history[epoch] : .3f}'\u001b[0m\u001b[0;34m)\u001b[0m\u001b[0;34m\u001b[0m\u001b[0;34m\u001b[0m\u001b[0m\n\u001b[0;32m---> 49\u001b[0;31m         \u001b[0mtrain_acc\u001b[0m\u001b[0;34m[\u001b[0m\u001b[0mepoch\u001b[0m\u001b[0;34m]\u001b[0m \u001b[0;34m=\u001b[0m \u001b[0mmodel\u001b[0m\u001b[0;34m.\u001b[0m\u001b[0maccuracy\u001b[0m\u001b[0;34m(\u001b[0m\u001b[0mtrain_loader\u001b[0m\u001b[0;34m)\u001b[0m\u001b[0;34m\u001b[0m\u001b[0;34m\u001b[0m\u001b[0m\n\u001b[0m\u001b[1;32m     50\u001b[0m         \u001b[0mprint\u001b[0m\u001b[0;34m(\u001b[0m\u001b[0;34mf'train acc:{train_acc[epoch]}'\u001b[0m\u001b[0;34m)\u001b[0m\u001b[0;34m\u001b[0m\u001b[0;34m\u001b[0m\u001b[0m\n\u001b[1;32m     51\u001b[0m         \u001b[0mval_acc\u001b[0m\u001b[0;34m[\u001b[0m\u001b[0mepoch\u001b[0m\u001b[0;34m]\u001b[0m \u001b[0;34m=\u001b[0m \u001b[0mmodel\u001b[0m\u001b[0;34m.\u001b[0m\u001b[0maccuracy\u001b[0m\u001b[0;34m(\u001b[0m\u001b[0mval_loader\u001b[0m\u001b[0;34m)\u001b[0m\u001b[0;34m\u001b[0m\u001b[0;34m\u001b[0m\u001b[0m\n",
            "\u001b[0;32m<ipython-input-15-a50ade8a3d72>\u001b[0m in \u001b[0;36maccuracy\u001b[0;34m(self, input)\u001b[0m\n\u001b[1;32m     74\u001b[0m \u001b[0;34m\u001b[0m\u001b[0m\n\u001b[1;32m     75\u001b[0m     \u001b[0;32mwith\u001b[0m \u001b[0mtorch\u001b[0m\u001b[0;34m.\u001b[0m\u001b[0mno_grad\u001b[0m\u001b[0;34m(\u001b[0m\u001b[0;34m)\u001b[0m\u001b[0;34m:\u001b[0m\u001b[0;34m\u001b[0m\u001b[0;34m\u001b[0m\u001b[0m\n\u001b[0;32m---> 76\u001b[0;31m         \u001b[0;32mfor\u001b[0m \u001b[0mdata\u001b[0m \u001b[0;32min\u001b[0m \u001b[0minput\u001b[0m\u001b[0;34m:\u001b[0m\u001b[0;34m\u001b[0m\u001b[0;34m\u001b[0m\u001b[0m\n\u001b[0m\u001b[1;32m     77\u001b[0m             \u001b[0mword\u001b[0m \u001b[0;34m=\u001b[0m \u001b[0mdata\u001b[0m\u001b[0;34m[\u001b[0m\u001b[0;34m'words'\u001b[0m\u001b[0;34m]\u001b[0m\u001b[0;34m.\u001b[0m\u001b[0mfloat\u001b[0m\u001b[0;34m(\u001b[0m\u001b[0;34m)\u001b[0m\u001b[0;34m.\u001b[0m\u001b[0mto\u001b[0m\u001b[0;34m(\u001b[0m\u001b[0mdevice\u001b[0m\u001b[0;34m)\u001b[0m\u001b[0;34m\u001b[0m\u001b[0;34m\u001b[0m\u001b[0m\n\u001b[1;32m     78\u001b[0m             \u001b[0mlabels\u001b[0m \u001b[0;34m=\u001b[0m \u001b[0mdata\u001b[0m\u001b[0;34m[\u001b[0m\u001b[0;34m'labels'\u001b[0m\u001b[0;34m]\u001b[0m\u001b[0;34m.\u001b[0m\u001b[0mto\u001b[0m\u001b[0;34m(\u001b[0m\u001b[0mdevice\u001b[0m\u001b[0;34m)\u001b[0m\u001b[0;34m\u001b[0m\u001b[0;34m\u001b[0m\u001b[0m\n",
            "\u001b[0;32m/usr/local/lib/python3.7/dist-packages/torch/utils/data/dataloader.py\u001b[0m in \u001b[0;36m__next__\u001b[0;34m(self)\u001b[0m\n\u001b[1;32m    519\u001b[0m             \u001b[0;32mif\u001b[0m \u001b[0mself\u001b[0m\u001b[0;34m.\u001b[0m\u001b[0m_sampler_iter\u001b[0m \u001b[0;32mis\u001b[0m \u001b[0;32mNone\u001b[0m\u001b[0;34m:\u001b[0m\u001b[0;34m\u001b[0m\u001b[0;34m\u001b[0m\u001b[0m\n\u001b[1;32m    520\u001b[0m                 \u001b[0mself\u001b[0m\u001b[0;34m.\u001b[0m\u001b[0m_reset\u001b[0m\u001b[0;34m(\u001b[0m\u001b[0;34m)\u001b[0m\u001b[0;34m\u001b[0m\u001b[0;34m\u001b[0m\u001b[0m\n\u001b[0;32m--> 521\u001b[0;31m             \u001b[0mdata\u001b[0m \u001b[0;34m=\u001b[0m \u001b[0mself\u001b[0m\u001b[0;34m.\u001b[0m\u001b[0m_next_data\u001b[0m\u001b[0;34m(\u001b[0m\u001b[0;34m)\u001b[0m\u001b[0;34m\u001b[0m\u001b[0;34m\u001b[0m\u001b[0m\n\u001b[0m\u001b[1;32m    522\u001b[0m             \u001b[0mself\u001b[0m\u001b[0;34m.\u001b[0m\u001b[0m_num_yielded\u001b[0m \u001b[0;34m+=\u001b[0m \u001b[0;36m1\u001b[0m\u001b[0;34m\u001b[0m\u001b[0;34m\u001b[0m\u001b[0m\n\u001b[1;32m    523\u001b[0m             \u001b[0;32mif\u001b[0m \u001b[0mself\u001b[0m\u001b[0;34m.\u001b[0m\u001b[0m_dataset_kind\u001b[0m \u001b[0;34m==\u001b[0m \u001b[0m_DatasetKind\u001b[0m\u001b[0;34m.\u001b[0m\u001b[0mIterable\u001b[0m \u001b[0;32mand\u001b[0m\u001b[0;31m \u001b[0m\u001b[0;31m\\\u001b[0m\u001b[0;34m\u001b[0m\u001b[0;34m\u001b[0m\u001b[0m\n",
            "\u001b[0;32m/usr/local/lib/python3.7/dist-packages/torch/utils/data/dataloader.py\u001b[0m in \u001b[0;36m_next_data\u001b[0;34m(self)\u001b[0m\n\u001b[1;32m    559\u001b[0m     \u001b[0;32mdef\u001b[0m \u001b[0m_next_data\u001b[0m\u001b[0;34m(\u001b[0m\u001b[0mself\u001b[0m\u001b[0;34m)\u001b[0m\u001b[0;34m:\u001b[0m\u001b[0;34m\u001b[0m\u001b[0;34m\u001b[0m\u001b[0m\n\u001b[1;32m    560\u001b[0m         \u001b[0mindex\u001b[0m \u001b[0;34m=\u001b[0m \u001b[0mself\u001b[0m\u001b[0;34m.\u001b[0m\u001b[0m_next_index\u001b[0m\u001b[0;34m(\u001b[0m\u001b[0;34m)\u001b[0m  \u001b[0;31m# may raise StopIteration\u001b[0m\u001b[0;34m\u001b[0m\u001b[0;34m\u001b[0m\u001b[0m\n\u001b[0;32m--> 561\u001b[0;31m         \u001b[0mdata\u001b[0m \u001b[0;34m=\u001b[0m \u001b[0mself\u001b[0m\u001b[0;34m.\u001b[0m\u001b[0m_dataset_fetcher\u001b[0m\u001b[0;34m.\u001b[0m\u001b[0mfetch\u001b[0m\u001b[0;34m(\u001b[0m\u001b[0mindex\u001b[0m\u001b[0;34m)\u001b[0m  \u001b[0;31m# may raise StopIteration\u001b[0m\u001b[0;34m\u001b[0m\u001b[0;34m\u001b[0m\u001b[0m\n\u001b[0m\u001b[1;32m    562\u001b[0m         \u001b[0;32mif\u001b[0m \u001b[0mself\u001b[0m\u001b[0;34m.\u001b[0m\u001b[0m_pin_memory\u001b[0m\u001b[0;34m:\u001b[0m\u001b[0;34m\u001b[0m\u001b[0;34m\u001b[0m\u001b[0m\n\u001b[1;32m    563\u001b[0m             \u001b[0mdata\u001b[0m \u001b[0;34m=\u001b[0m \u001b[0m_utils\u001b[0m\u001b[0;34m.\u001b[0m\u001b[0mpin_memory\u001b[0m\u001b[0;34m.\u001b[0m\u001b[0mpin_memory\u001b[0m\u001b[0;34m(\u001b[0m\u001b[0mdata\u001b[0m\u001b[0;34m)\u001b[0m\u001b[0;34m\u001b[0m\u001b[0;34m\u001b[0m\u001b[0m\n",
            "\u001b[0;32m/usr/local/lib/python3.7/dist-packages/torch/utils/data/_utils/fetch.py\u001b[0m in \u001b[0;36mfetch\u001b[0;34m(self, possibly_batched_index)\u001b[0m\n\u001b[1;32m     47\u001b[0m     \u001b[0;32mdef\u001b[0m \u001b[0mfetch\u001b[0m\u001b[0;34m(\u001b[0m\u001b[0mself\u001b[0m\u001b[0;34m,\u001b[0m \u001b[0mpossibly_batched_index\u001b[0m\u001b[0;34m)\u001b[0m\u001b[0;34m:\u001b[0m\u001b[0;34m\u001b[0m\u001b[0;34m\u001b[0m\u001b[0m\n\u001b[1;32m     48\u001b[0m         \u001b[0;32mif\u001b[0m \u001b[0mself\u001b[0m\u001b[0;34m.\u001b[0m\u001b[0mauto_collation\u001b[0m\u001b[0;34m:\u001b[0m\u001b[0;34m\u001b[0m\u001b[0;34m\u001b[0m\u001b[0m\n\u001b[0;32m---> 49\u001b[0;31m             \u001b[0mdata\u001b[0m \u001b[0;34m=\u001b[0m \u001b[0;34m[\u001b[0m\u001b[0mself\u001b[0m\u001b[0;34m.\u001b[0m\u001b[0mdataset\u001b[0m\u001b[0;34m[\u001b[0m\u001b[0midx\u001b[0m\u001b[0;34m]\u001b[0m \u001b[0;32mfor\u001b[0m \u001b[0midx\u001b[0m \u001b[0;32min\u001b[0m \u001b[0mpossibly_batched_index\u001b[0m\u001b[0;34m]\u001b[0m\u001b[0;34m\u001b[0m\u001b[0;34m\u001b[0m\u001b[0m\n\u001b[0m\u001b[1;32m     50\u001b[0m         \u001b[0;32melse\u001b[0m\u001b[0;34m:\u001b[0m\u001b[0;34m\u001b[0m\u001b[0;34m\u001b[0m\u001b[0m\n\u001b[1;32m     51\u001b[0m             \u001b[0mdata\u001b[0m \u001b[0;34m=\u001b[0m \u001b[0mself\u001b[0m\u001b[0;34m.\u001b[0m\u001b[0mdataset\u001b[0m\u001b[0;34m[\u001b[0m\u001b[0mpossibly_batched_index\u001b[0m\u001b[0;34m]\u001b[0m\u001b[0;34m\u001b[0m\u001b[0;34m\u001b[0m\u001b[0m\n",
            "\u001b[0;32m/usr/local/lib/python3.7/dist-packages/torch/utils/data/_utils/fetch.py\u001b[0m in \u001b[0;36m<listcomp>\u001b[0;34m(.0)\u001b[0m\n\u001b[1;32m     47\u001b[0m     \u001b[0;32mdef\u001b[0m \u001b[0mfetch\u001b[0m\u001b[0;34m(\u001b[0m\u001b[0mself\u001b[0m\u001b[0;34m,\u001b[0m \u001b[0mpossibly_batched_index\u001b[0m\u001b[0;34m)\u001b[0m\u001b[0;34m:\u001b[0m\u001b[0;34m\u001b[0m\u001b[0;34m\u001b[0m\u001b[0m\n\u001b[1;32m     48\u001b[0m         \u001b[0;32mif\u001b[0m \u001b[0mself\u001b[0m\u001b[0;34m.\u001b[0m\u001b[0mauto_collation\u001b[0m\u001b[0;34m:\u001b[0m\u001b[0;34m\u001b[0m\u001b[0;34m\u001b[0m\u001b[0m\n\u001b[0;32m---> 49\u001b[0;31m             \u001b[0mdata\u001b[0m \u001b[0;34m=\u001b[0m \u001b[0;34m[\u001b[0m\u001b[0mself\u001b[0m\u001b[0;34m.\u001b[0m\u001b[0mdataset\u001b[0m\u001b[0;34m[\u001b[0m\u001b[0midx\u001b[0m\u001b[0;34m]\u001b[0m \u001b[0;32mfor\u001b[0m \u001b[0midx\u001b[0m \u001b[0;32min\u001b[0m \u001b[0mpossibly_batched_index\u001b[0m\u001b[0;34m]\u001b[0m\u001b[0;34m\u001b[0m\u001b[0;34m\u001b[0m\u001b[0m\n\u001b[0m\u001b[1;32m     50\u001b[0m         \u001b[0;32melse\u001b[0m\u001b[0;34m:\u001b[0m\u001b[0;34m\u001b[0m\u001b[0;34m\u001b[0m\u001b[0m\n\u001b[1;32m     51\u001b[0m             \u001b[0mdata\u001b[0m \u001b[0;34m=\u001b[0m \u001b[0mself\u001b[0m\u001b[0;34m.\u001b[0m\u001b[0mdataset\u001b[0m\u001b[0;34m[\u001b[0m\u001b[0mpossibly_batched_index\u001b[0m\u001b[0;34m]\u001b[0m\u001b[0;34m\u001b[0m\u001b[0;34m\u001b[0m\u001b[0m\n",
            "\u001b[0;32m<ipython-input-17-083b23b9be77>\u001b[0m in \u001b[0;36m__getitem__\u001b[0;34m(self, idx)\u001b[0m\n\u001b[1;32m     10\u001b[0m \u001b[0;34m\u001b[0m\u001b[0m\n\u001b[1;32m     11\u001b[0m   \u001b[0;32mdef\u001b[0m \u001b[0m__getitem__\u001b[0m\u001b[0;34m(\u001b[0m\u001b[0mself\u001b[0m\u001b[0;34m,\u001b[0m \u001b[0midx\u001b[0m\u001b[0;34m)\u001b[0m\u001b[0;34m:\u001b[0m\u001b[0;34m\u001b[0m\u001b[0;34m\u001b[0m\u001b[0m\n\u001b[0;32m---> 12\u001b[0;31m     \u001b[0msentence\u001b[0m \u001b[0;34m=\u001b[0m \u001b[0mself\u001b[0m\u001b[0;34m.\u001b[0m\u001b[0mdataframe\u001b[0m\u001b[0;34m.\u001b[0m\u001b[0mget_group\u001b[0m\u001b[0;34m(\u001b[0m\u001b[0midx\u001b[0m\u001b[0;34m)\u001b[0m\u001b[0;34m[\u001b[0m\u001b[0;34m:\u001b[0m\u001b[0mself\u001b[0m\u001b[0;34m.\u001b[0m\u001b[0msentence_length\u001b[0m\u001b[0;34m]\u001b[0m\u001b[0;34m\u001b[0m\u001b[0;34m\u001b[0m\u001b[0m\n\u001b[0m\u001b[1;32m     13\u001b[0m \u001b[0;34m\u001b[0m\u001b[0m\n\u001b[1;32m     14\u001b[0m     \u001b[0mlabels\u001b[0m \u001b[0;34m=\u001b[0m \u001b[0mnp\u001b[0m\u001b[0;34m.\u001b[0m\u001b[0marray\u001b[0m\u001b[0;34m(\u001b[0m\u001b[0msentence\u001b[0m\u001b[0;34m[\u001b[0m\u001b[0;34m'label'\u001b[0m\u001b[0;34m]\u001b[0m\u001b[0;34m,\u001b[0m \u001b[0mdtype\u001b[0m \u001b[0;34m=\u001b[0m \u001b[0mstr\u001b[0m\u001b[0;34m)\u001b[0m\u001b[0;34m.\u001b[0m\u001b[0mreshape\u001b[0m\u001b[0;34m(\u001b[0m\u001b[0;34m-\u001b[0m\u001b[0;36m1\u001b[0m\u001b[0;34m,\u001b[0m \u001b[0;36m1\u001b[0m\u001b[0;34m)\u001b[0m\u001b[0;34m\u001b[0m\u001b[0;34m\u001b[0m\u001b[0m\n",
            "\u001b[0;32m/usr/local/lib/python3.7/dist-packages/pandas/core/frame.py\u001b[0m in \u001b[0;36m__getitem__\u001b[0;34m(self, key)\u001b[0m\n\u001b[1;32m   2887\u001b[0m             \u001b[0;31m# either we have a slice or we have a string that can be converted\u001b[0m\u001b[0;34m\u001b[0m\u001b[0;34m\u001b[0m\u001b[0;34m\u001b[0m\u001b[0m\n\u001b[1;32m   2888\u001b[0m             \u001b[0;31m#  to a slice for partial-string date indexing\u001b[0m\u001b[0;34m\u001b[0m\u001b[0;34m\u001b[0m\u001b[0;34m\u001b[0m\u001b[0m\n\u001b[0;32m-> 2889\u001b[0;31m             \u001b[0;32mreturn\u001b[0m \u001b[0mself\u001b[0m\u001b[0;34m.\u001b[0m\u001b[0m_slice\u001b[0m\u001b[0;34m(\u001b[0m\u001b[0mindexer\u001b[0m\u001b[0;34m,\u001b[0m \u001b[0maxis\u001b[0m\u001b[0;34m=\u001b[0m\u001b[0;36m0\u001b[0m\u001b[0;34m)\u001b[0m\u001b[0;34m\u001b[0m\u001b[0;34m\u001b[0m\u001b[0m\n\u001b[0m\u001b[1;32m   2890\u001b[0m \u001b[0;34m\u001b[0m\u001b[0m\n\u001b[1;32m   2891\u001b[0m         \u001b[0;31m# Do we have a (boolean) DataFrame?\u001b[0m\u001b[0;34m\u001b[0m\u001b[0;34m\u001b[0m\u001b[0;34m\u001b[0m\u001b[0m\n",
            "\u001b[0;32m/usr/local/lib/python3.7/dist-packages/pandas/core/generic.py\u001b[0m in \u001b[0;36m_slice\u001b[0;34m(self, slobj, axis)\u001b[0m\n\u001b[1;32m   3559\u001b[0m         \u001b[0;32massert\u001b[0m \u001b[0misinstance\u001b[0m\u001b[0;34m(\u001b[0m\u001b[0mslobj\u001b[0m\u001b[0;34m,\u001b[0m \u001b[0mslice\u001b[0m\u001b[0;34m)\u001b[0m\u001b[0;34m,\u001b[0m \u001b[0mtype\u001b[0m\u001b[0;34m(\u001b[0m\u001b[0mslobj\u001b[0m\u001b[0;34m)\u001b[0m\u001b[0;34m\u001b[0m\u001b[0;34m\u001b[0m\u001b[0m\n\u001b[1;32m   3560\u001b[0m         \u001b[0maxis\u001b[0m \u001b[0;34m=\u001b[0m \u001b[0mself\u001b[0m\u001b[0;34m.\u001b[0m\u001b[0m_get_block_manager_axis\u001b[0m\u001b[0;34m(\u001b[0m\u001b[0maxis\u001b[0m\u001b[0;34m)\u001b[0m\u001b[0;34m\u001b[0m\u001b[0;34m\u001b[0m\u001b[0m\n\u001b[0;32m-> 3561\u001b[0;31m         \u001b[0mresult\u001b[0m \u001b[0;34m=\u001b[0m \u001b[0mself\u001b[0m\u001b[0;34m.\u001b[0m\u001b[0m_constructor\u001b[0m\u001b[0;34m(\u001b[0m\u001b[0mself\u001b[0m\u001b[0;34m.\u001b[0m\u001b[0m_mgr\u001b[0m\u001b[0;34m.\u001b[0m\u001b[0mget_slice\u001b[0m\u001b[0;34m(\u001b[0m\u001b[0mslobj\u001b[0m\u001b[0;34m,\u001b[0m \u001b[0maxis\u001b[0m\u001b[0;34m=\u001b[0m\u001b[0maxis\u001b[0m\u001b[0;34m)\u001b[0m\u001b[0;34m)\u001b[0m\u001b[0;34m\u001b[0m\u001b[0;34m\u001b[0m\u001b[0m\n\u001b[0m\u001b[1;32m   3562\u001b[0m         \u001b[0mresult\u001b[0m \u001b[0;34m=\u001b[0m \u001b[0mresult\u001b[0m\u001b[0;34m.\u001b[0m\u001b[0m__finalize__\u001b[0m\u001b[0;34m(\u001b[0m\u001b[0mself\u001b[0m\u001b[0;34m)\u001b[0m\u001b[0;34m\u001b[0m\u001b[0;34m\u001b[0m\u001b[0m\n\u001b[1;32m   3563\u001b[0m \u001b[0;34m\u001b[0m\u001b[0m\n",
            "\u001b[0;32m/usr/local/lib/python3.7/dist-packages/pandas/core/internals/managers.py\u001b[0m in \u001b[0;36mget_slice\u001b[0;34m(self, slobj, axis)\u001b[0m\n\u001b[1;32m    775\u001b[0m \u001b[0;34m\u001b[0m\u001b[0m\n\u001b[1;32m    776\u001b[0m         \u001b[0mnew_axes\u001b[0m \u001b[0;34m=\u001b[0m \u001b[0mlist\u001b[0m\u001b[0;34m(\u001b[0m\u001b[0mself\u001b[0m\u001b[0;34m.\u001b[0m\u001b[0maxes\u001b[0m\u001b[0;34m)\u001b[0m\u001b[0;34m\u001b[0m\u001b[0;34m\u001b[0m\u001b[0m\n\u001b[0;32m--> 777\u001b[0;31m         \u001b[0mnew_axes\u001b[0m\u001b[0;34m[\u001b[0m\u001b[0maxis\u001b[0m\u001b[0;34m]\u001b[0m \u001b[0;34m=\u001b[0m \u001b[0mnew_axes\u001b[0m\u001b[0;34m[\u001b[0m\u001b[0maxis\u001b[0m\u001b[0;34m]\u001b[0m\u001b[0;34m[\u001b[0m\u001b[0mslobj\u001b[0m\u001b[0;34m]\u001b[0m\u001b[0;34m\u001b[0m\u001b[0;34m\u001b[0m\u001b[0m\n\u001b[0m\u001b[1;32m    778\u001b[0m \u001b[0;34m\u001b[0m\u001b[0m\n\u001b[1;32m    779\u001b[0m         \u001b[0mbm\u001b[0m \u001b[0;34m=\u001b[0m \u001b[0mtype\u001b[0m\u001b[0;34m(\u001b[0m\u001b[0mself\u001b[0m\u001b[0;34m)\u001b[0m\u001b[0;34m(\u001b[0m\u001b[0mnew_blocks\u001b[0m\u001b[0;34m,\u001b[0m \u001b[0mnew_axes\u001b[0m\u001b[0;34m,\u001b[0m \u001b[0mdo_integrity_check\u001b[0m\u001b[0;34m=\u001b[0m\u001b[0;32mFalse\u001b[0m\u001b[0;34m)\u001b[0m\u001b[0;34m\u001b[0m\u001b[0;34m\u001b[0m\u001b[0m\n",
            "\u001b[0;32m/usr/local/lib/python3.7/dist-packages/pandas/core/indexes/base.py\u001b[0m in \u001b[0;36m__getitem__\u001b[0;34m(self, key)\u001b[0m\n\u001b[1;32m   4107\u001b[0m             \u001b[0;31m# This case is separated from the conditional above to avoid\u001b[0m\u001b[0;34m\u001b[0m\u001b[0;34m\u001b[0m\u001b[0;34m\u001b[0m\u001b[0m\n\u001b[1;32m   4108\u001b[0m             \u001b[0;31m# pessimization of basic indexing.\u001b[0m\u001b[0;34m\u001b[0m\u001b[0;34m\u001b[0m\u001b[0;34m\u001b[0m\u001b[0m\n\u001b[0;32m-> 4109\u001b[0;31m             \u001b[0;32mreturn\u001b[0m \u001b[0mpromote\u001b[0m\u001b[0;34m(\u001b[0m\u001b[0mgetitem\u001b[0m\u001b[0;34m(\u001b[0m\u001b[0mkey\u001b[0m\u001b[0;34m)\u001b[0m\u001b[0;34m)\u001b[0m\u001b[0;34m\u001b[0m\u001b[0;34m\u001b[0m\u001b[0m\n\u001b[0m\u001b[1;32m   4110\u001b[0m \u001b[0;34m\u001b[0m\u001b[0m\n\u001b[1;32m   4111\u001b[0m         \u001b[0;32mif\u001b[0m \u001b[0mcom\u001b[0m\u001b[0;34m.\u001b[0m\u001b[0mis_bool_indexer\u001b[0m\u001b[0;34m(\u001b[0m\u001b[0mkey\u001b[0m\u001b[0;34m)\u001b[0m\u001b[0;34m:\u001b[0m\u001b[0;34m\u001b[0m\u001b[0;34m\u001b[0m\u001b[0m\n",
            "\u001b[0;32m/usr/local/lib/python3.7/dist-packages/pandas/core/indexes/numeric.py\u001b[0m in \u001b[0;36m_shallow_copy\u001b[0;34m(self, values, name)\u001b[0m\n\u001b[1;32m    109\u001b[0m             \u001b[0;31m# Ensure we are not returning an Int64Index with float data:\u001b[0m\u001b[0;34m\u001b[0m\u001b[0;34m\u001b[0m\u001b[0;34m\u001b[0m\u001b[0m\n\u001b[1;32m    110\u001b[0m             \u001b[0;32mreturn\u001b[0m \u001b[0mFloat64Index\u001b[0m\u001b[0;34m.\u001b[0m\u001b[0m_simple_new\u001b[0m\u001b[0;34m(\u001b[0m\u001b[0mvalues\u001b[0m\u001b[0;34m,\u001b[0m \u001b[0mname\u001b[0m\u001b[0;34m=\u001b[0m\u001b[0mname\u001b[0m\u001b[0;34m)\u001b[0m\u001b[0;34m\u001b[0m\u001b[0;34m\u001b[0m\u001b[0m\n\u001b[0;32m--> 111\u001b[0;31m         \u001b[0;32mreturn\u001b[0m \u001b[0msuper\u001b[0m\u001b[0;34m(\u001b[0m\u001b[0;34m)\u001b[0m\u001b[0;34m.\u001b[0m\u001b[0m_shallow_copy\u001b[0m\u001b[0;34m(\u001b[0m\u001b[0mvalues\u001b[0m\u001b[0;34m=\u001b[0m\u001b[0mvalues\u001b[0m\u001b[0;34m,\u001b[0m \u001b[0mname\u001b[0m\u001b[0;34m=\u001b[0m\u001b[0mname\u001b[0m\u001b[0;34m)\u001b[0m\u001b[0;34m\u001b[0m\u001b[0;34m\u001b[0m\u001b[0m\n\u001b[0m\u001b[1;32m    112\u001b[0m \u001b[0;34m\u001b[0m\u001b[0m\n\u001b[1;32m    113\u001b[0m     \u001b[0;32mdef\u001b[0m \u001b[0m_convert_for_op\u001b[0m\u001b[0;34m(\u001b[0m\u001b[0mself\u001b[0m\u001b[0;34m,\u001b[0m \u001b[0mvalue\u001b[0m\u001b[0;34m)\u001b[0m\u001b[0;34m:\u001b[0m\u001b[0;34m\u001b[0m\u001b[0;34m\u001b[0m\u001b[0m\n",
            "\u001b[0;32m/usr/local/lib/python3.7/dist-packages/pandas/core/indexes/base.py\u001b[0m in \u001b[0;36m_shallow_copy\u001b[0;34m(self, values, name)\u001b[0m\n\u001b[1;32m    514\u001b[0m             \u001b[0mvalues\u001b[0m \u001b[0;34m=\u001b[0m \u001b[0mself\u001b[0m\u001b[0;34m.\u001b[0m\u001b[0m_values\u001b[0m\u001b[0;34m\u001b[0m\u001b[0;34m\u001b[0m\u001b[0m\n\u001b[1;32m    515\u001b[0m \u001b[0;34m\u001b[0m\u001b[0m\n\u001b[0;32m--> 516\u001b[0;31m         \u001b[0mresult\u001b[0m \u001b[0;34m=\u001b[0m \u001b[0mself\u001b[0m\u001b[0;34m.\u001b[0m\u001b[0m_simple_new\u001b[0m\u001b[0;34m(\u001b[0m\u001b[0mvalues\u001b[0m\u001b[0;34m,\u001b[0m \u001b[0mname\u001b[0m\u001b[0;34m=\u001b[0m\u001b[0mname\u001b[0m\u001b[0;34m)\u001b[0m\u001b[0;34m\u001b[0m\u001b[0;34m\u001b[0m\u001b[0m\n\u001b[0m\u001b[1;32m    517\u001b[0m         \u001b[0mresult\u001b[0m\u001b[0;34m.\u001b[0m\u001b[0m_cache\u001b[0m \u001b[0;34m=\u001b[0m \u001b[0mcache\u001b[0m\u001b[0;34m\u001b[0m\u001b[0;34m\u001b[0m\u001b[0m\n\u001b[1;32m    518\u001b[0m         \u001b[0;32mreturn\u001b[0m \u001b[0mresult\u001b[0m\u001b[0;34m\u001b[0m\u001b[0;34m\u001b[0m\u001b[0m\n",
            "\u001b[0;32m/usr/local/lib/python3.7/dist-packages/pandas/core/indexes/base.py\u001b[0m in \u001b[0;36m_simple_new\u001b[0;34m(cls, values, name)\u001b[0m\n\u001b[1;32m    478\u001b[0m         \u001b[0;31m# data buffers and strides.\u001b[0m\u001b[0;34m\u001b[0m\u001b[0;34m\u001b[0m\u001b[0;34m\u001b[0m\u001b[0m\n\u001b[1;32m    479\u001b[0m         \u001b[0mresult\u001b[0m\u001b[0;34m.\u001b[0m\u001b[0m_index_data\u001b[0m \u001b[0;34m=\u001b[0m \u001b[0mvalues\u001b[0m\u001b[0;34m\u001b[0m\u001b[0;34m\u001b[0m\u001b[0m\n\u001b[0;32m--> 480\u001b[0;31m         \u001b[0mresult\u001b[0m\u001b[0;34m.\u001b[0m\u001b[0m_name\u001b[0m \u001b[0;34m=\u001b[0m \u001b[0mname\u001b[0m\u001b[0;34m\u001b[0m\u001b[0;34m\u001b[0m\u001b[0m\n\u001b[0m\u001b[1;32m    481\u001b[0m         \u001b[0mresult\u001b[0m\u001b[0;34m.\u001b[0m\u001b[0m_cache\u001b[0m \u001b[0;34m=\u001b[0m \u001b[0;34m{\u001b[0m\u001b[0;34m}\u001b[0m\u001b[0;34m\u001b[0m\u001b[0;34m\u001b[0m\u001b[0m\n\u001b[1;32m    482\u001b[0m \u001b[0;34m\u001b[0m\u001b[0m\n",
            "\u001b[0;31mKeyboardInterrupt\u001b[0m: "
          ]
        }
      ]
    },
    {
      "cell_type": "markdown",
      "source": [
        "### Confusion Matrix and Report\n"
      ],
      "metadata": {
        "id": "esRWaE1pRiWx"
      }
    },
    {
      "cell_type": "code",
      "source": [
        "correct_labels = np.array(val_set['label'],  dtype = str).reshape(-1, 1)\n",
        "y_true_encoded = torch.Tensor(encoder.fit_transform(correct_labels))\n",
        "\n",
        "y_pred = model.prediction(val_loader)"
      ],
      "metadata": {
        "colab": {
          "base_uri": "https://localhost:8080/",
          "height": 217
        },
        "id": "FKjBrJETRlqL",
        "outputId": "870724cb-9eb1-445f-961c-4da6536059c3"
      },
      "execution_count": null,
      "outputs": [
        {
          "output_type": "error",
          "ename": "TypeError",
          "evalue": "ignored",
          "traceback": [
            "\u001b[0;31m---------------------------------------------------------------------------\u001b[0m",
            "\u001b[0;31mTypeError\u001b[0m                                 Traceback (most recent call last)",
            "\u001b[0;32m<ipython-input-71-0db1f6f43f0f>\u001b[0m in \u001b[0;36m<module>\u001b[0;34m()\u001b[0m\n\u001b[1;32m      1\u001b[0m \u001b[0mcorrect_labels\u001b[0m \u001b[0;34m=\u001b[0m \u001b[0mnp\u001b[0m\u001b[0;34m.\u001b[0m\u001b[0marray\u001b[0m\u001b[0;34m(\u001b[0m\u001b[0mval_set\u001b[0m\u001b[0;34m[\u001b[0m\u001b[0;34m'label'\u001b[0m\u001b[0;34m]\u001b[0m\u001b[0;34m,\u001b[0m  \u001b[0mdtype\u001b[0m \u001b[0;34m=\u001b[0m \u001b[0mstr\u001b[0m\u001b[0;34m)\u001b[0m\u001b[0;34m.\u001b[0m\u001b[0mreshape\u001b[0m\u001b[0;34m(\u001b[0m\u001b[0;34m-\u001b[0m\u001b[0;36m1\u001b[0m\u001b[0;34m,\u001b[0m \u001b[0;36m1\u001b[0m\u001b[0;34m)\u001b[0m\u001b[0;34m\u001b[0m\u001b[0;34m\u001b[0m\u001b[0m\n\u001b[0;32m----> 2\u001b[0;31m \u001b[0my_true_encoded\u001b[0m \u001b[0;34m=\u001b[0m \u001b[0mtorch\u001b[0m\u001b[0;34m.\u001b[0m\u001b[0mTensor\u001b[0m\u001b[0;34m(\u001b[0m\u001b[0mencoder\u001b[0m\u001b[0;34m.\u001b[0m\u001b[0mfit\u001b[0m\u001b[0;34m(\u001b[0m\u001b[0mcorrect_labels\u001b[0m\u001b[0;34m)\u001b[0m\u001b[0;34m)\u001b[0m\u001b[0;34m\u001b[0m\u001b[0;34m\u001b[0m\u001b[0m\n\u001b[0m\u001b[1;32m      3\u001b[0m \u001b[0;34m\u001b[0m\u001b[0m\n\u001b[1;32m      4\u001b[0m \u001b[0my_pred\u001b[0m \u001b[0;34m=\u001b[0m \u001b[0mmodel\u001b[0m\u001b[0;34m.\u001b[0m\u001b[0mprediction\u001b[0m\u001b[0;34m(\u001b[0m\u001b[0mval_loader\u001b[0m\u001b[0;34m)\u001b[0m\u001b[0;34m\u001b[0m\u001b[0;34m\u001b[0m\u001b[0m\n",
            "\u001b[0;31mTypeError\u001b[0m: new(): data must be a sequence (got OrdinalEncoder)"
          ]
        }
      ]
    },
    {
      "cell_type": "code",
      "source": [
        "print(labels)\n",
        "print(y_true_encoded)"
      ],
      "metadata": {
        "colab": {
          "base_uri": "https://localhost:8080/"
        },
        "id": "3P6TY2qgSulx",
        "outputId": "2df1d2ab-8507-4ff6-afe7-2184f73c5771"
      },
      "execution_count": null,
      "outputs": [
        {
          "output_type": "stream",
          "name": "stdout",
          "text": [
            "['NNP' ',' 'CD' 'NNS' 'JJ' 'MD' 'VB' 'DT' 'NN' 'IN' '.' 'VBZ' 'VBG' 'CC'\n",
            " 'VBD' 'VBN' 'RB' 'TO' 'PRP' 'RBR' 'WDT' 'VBP' 'RP' 'PRP$' 'JJS' 'POS'\n",
            " '``' 'EX' \"''\" 'WP' ':' 'JJR' 'WRB' '$' 'NNPS' 'WP$' '-LRB-' '-RRB-'\n",
            " 'PDT' 'RBS' 'FW' 'UH' 'SYM' 'LS' '#']\n",
            "tensor([[10.],\n",
            "        [20.],\n",
            "        [19.],\n",
            "        ...,\n",
            "        [27.],\n",
            "        [36.],\n",
            "        [ 6.]])\n"
          ]
        }
      ]
    },
    {
      "cell_type": "code",
      "source": [
        "print(type(y_pred))\n",
        "print(type(y_true_encoded))"
      ],
      "metadata": {
        "colab": {
          "base_uri": "https://localhost:8080/"
        },
        "id": "QuXoIRS9Rocl",
        "outputId": "fd0ed2fe-4ca1-4815-9350-662ec44e9ff3"
      },
      "execution_count": null,
      "outputs": [
        {
          "output_type": "stream",
          "name": "stdout",
          "text": [
            "<class 'torch.Tensor'>\n",
            "<class 'torch.Tensor'>\n"
          ]
        }
      ]
    },
    {
      "cell_type": "code",
      "source": [
        "punctuation = [',', '.', '``', \"''\",  ':' ]\n",
        "no_punc_labels = labels[]\n",
        "print(classification_report(y_true_encoded.cpu(), y_pred.cpu(), target_names=labels[:44]))"
      ],
      "metadata": {
        "colab": {
          "base_uri": "https://localhost:8080/"
        },
        "id": "WYcCEqcARIiY",
        "outputId": "ece76510-dcda-4bcc-f1e8-71f3d8d04505"
      },
      "execution_count": null,
      "outputs": [
        {
          "output_type": "stream",
          "name": "stdout",
          "text": [
            "              precision    recall  f1-score   support\n",
            "\n",
            "         NNP       0.00      0.00      0.00        15\n",
            "           ,       0.00      0.00      0.00       173\n",
            "          CD       0.00      0.00      0.00       225\n",
            "         NNS       0.00      0.00      0.00      1528\n",
            "          JJ       0.00      0.00      0.00        50\n",
            "          MD       0.00      0.00      0.00        53\n",
            "          VB       0.00      0.00      0.00      1277\n",
            "          DT       0.00      0.00      0.00       214\n",
            "          NN       0.00      0.00      0.00       758\n",
            "          IN       0.00      0.00      0.00      1249\n",
            "           .       0.00      0.00      0.00      2754\n",
            "         VBZ       0.00      0.00      0.00        34\n",
            "         VBG       0.00      0.00      0.00         2\n",
            "          CC       0.12      0.01      0.01      3275\n",
            "         VBD       0.00      0.00      0.00      1924\n",
            "         VBN       0.00      0.00      0.00       165\n",
            "          RB       0.00      0.00      0.00        58\n",
            "          TO       0.00      0.00      0.00         3\n",
            "         PRP       0.00      0.00      0.00       347\n",
            "         RBR       0.14      0.99      0.25      4513\n",
            "         WDT       0.00      0.00      0.00      2704\n",
            "         VBP       0.00      0.00      0.00       105\n",
            "          RP       0.00      0.00      0.00      2102\n",
            "        PRP$       0.00      0.00      0.00        14\n",
            "         JJS       0.00      0.00      0.00       269\n",
            "         POS       0.00      0.00      0.00       570\n",
            "          ``       0.00      0.00      0.00       258\n",
            "          EX       0.00      0.00      0.00       951\n",
            "          ''       0.00      0.00      0.00        35\n",
            "          WP       0.00      0.00      0.00        13\n",
            "           :       0.00      0.00      0.00        43\n",
            "         JJR       0.00      0.00      0.00       765\n",
            "         WRB       0.00      0.00      0.00         2\n",
            "           $       0.00      0.00      0.00       956\n",
            "        NNPS       0.00      0.00      0.00       861\n",
            "         WP$       0.00      0.00      0.00       476\n",
            "       -LRB-       0.00      0.00      0.00       737\n",
            "       -RRB-       0.00      0.00      0.00       460\n",
            "         PDT       0.00      0.00      0.00       712\n",
            "         RBS       0.00      0.00      0.00       157\n",
            "          FW       0.00      0.00      0.00        80\n",
            "          UH       0.00      0.00      0.00         4\n",
            "         SYM       0.00      0.00      0.00        62\n",
            "          LS       0.00      0.00      0.00       230\n",
            "\n",
            "    accuracy                           0.14     31183\n",
            "   macro avg       0.01      0.02      0.01     31183\n",
            "weighted avg       0.03      0.14      0.04     31183\n",
            "\n"
          ]
        },
        {
          "output_type": "stream",
          "name": "stderr",
          "text": [
            "/usr/local/lib/python3.7/dist-packages/sklearn/metrics/_classification.py:1308: UndefinedMetricWarning: Precision and F-score are ill-defined and being set to 0.0 in labels with no predicted samples. Use `zero_division` parameter to control this behavior.\n",
            "  _warn_prf(average, modifier, msg_start, len(result))\n",
            "/usr/local/lib/python3.7/dist-packages/sklearn/metrics/_classification.py:1308: UndefinedMetricWarning: Precision and F-score are ill-defined and being set to 0.0 in labels with no predicted samples. Use `zero_division` parameter to control this behavior.\n",
            "  _warn_prf(average, modifier, msg_start, len(result))\n",
            "/usr/local/lib/python3.7/dist-packages/sklearn/metrics/_classification.py:1308: UndefinedMetricWarning: Precision and F-score are ill-defined and being set to 0.0 in labels with no predicted samples. Use `zero_division` parameter to control this behavior.\n",
            "  _warn_prf(average, modifier, msg_start, len(result))\n"
          ]
        }
      ]
    },
    {
      "cell_type": "code",
      "source": [
        "cm = confusion_matrix(y_true_encoded.cpu(), y_pred.cpu())\n",
        "\n",
        "plt.rcParams[\"figure.figsize\"] = (10, 8)\n",
        "ax= plt.subplot()\n",
        "sns.heatmap(cm)\n",
        "\n",
        "# labels, title and ticks\n",
        "ax.set_xlabel('Predicted labels');\n",
        "ax.set_ylabel('True labels'); \n",
        "ax.set_title('Confusion Matrix'); \n",
        "ax.xaxis.set_ticklabels(labels.flatten()); \n",
        "plt.xticks(rotation=90);\n",
        "ax.yaxis.set_ticklabels(labels.flatten());\n",
        "plt.yticks(rotation=0);"
      ],
      "metadata": {
        "colab": {
          "base_uri": "https://localhost:8080/",
          "height": 526
        },
        "id": "MLGNTlFLdZMp",
        "outputId": "5b132fcd-63ce-49ca-cf29-8ae36274c2fd"
      },
      "execution_count": null,
      "outputs": [
        {
          "output_type": "display_data",
          "data": {
            "image/png": "[encoded data removed]",
            "text/plain": [
              "<Figure size 720x576 with 2 Axes>"
            ]
          },
          "metadata": {
            "needs_background": "light"
          }
        }
      ]
    }
  ]
}